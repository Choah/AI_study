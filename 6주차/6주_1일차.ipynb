{
 "cells": [
  {
   "cell_type": "markdown",
   "metadata": {},
   "source": [
    "# 오전 NLP 특강"
   ]
  },
  {
   "cell_type": "markdown",
   "metadata": {},
   "source": [
    "What is NLP? \n",
    "\n",
    "- One simple (but practical) answer \n",
    "    - Computer using natural language as input and/or output\n",
    "    \n",
    "    - language -> computer -> language \n",
    "    - understainding (NLU), generation (NLG) \n",
    "    - NLU가 좀 더 어렵다. \n",
    "\n",
    "* DUPLEX by google - 음성인식 AI \n",
    "\n",
    "* The Stanford Question Answering Dataset\n",
    "\n",
    "* Bert <- word embedding (word representation) \n",
    "* CNN, RNN <- embedding을 할수 있지만 그 중에 성능이 제일 좋은게 bert나 xlnet이다. \n",
    "* NIPA - 정보통신산업진흥원 : npl label 달려있는것들 있다. 하지만 quality는 안좋다. \n",
    "\n",
    "\n",
    "* symbolic, statistical -> 합쳐서 할 수 있는 모델 :(딥러닝+knowledge) hybrid한 approach \n",
    "        - GCN (graphical convolution network) \n",
    "        - Knowledge graph (symbolic)\n",
    "        - symbolic + empirical \n",
    "\n",
    "* Knowledge가 들어가야한다. \n",
    "\n",
    "\n",
    "- generation\n",
    "\n",
    "- NLP\n",
    "NER (Named Entity Recognition): 명사가 장소냐 사람인지 알려주는 것\n",
    "\n",
    "* semantic ansalysis \n",
    "    - Semantic Role Labeling : 의미적인 역할 정보를 알려주는 것 \n",
    "    - \n",
    "    \n",
    "* Discourse Analysis\n",
    "    - Reference resolution (대용어 해결)\n",
    "    - Speech Act identification (화행분석)"
   ]
  },
  {
   "cell_type": "markdown",
   "metadata": {},
   "source": [
    "## 음성인식 특강 "
   ]
  },
  {
   "cell_type": "markdown",
   "metadata": {},
   "source": [
    "* STT : Speech to Text \n",
    "\n",
    "소리가 2배 크게 나기위해서는 10배 log scale을 키워야한다. \n",
    "\n",
    "- viterbi algorithm \n",
    "\n",
    "* 음성은 시간에 따라 변화한다. \n",
    "\n",
    "- RNN -> LSTOM (long short-term memory) "
   ]
  },
  {
   "cell_type": "markdown",
   "metadata": {},
   "source": [
    "* Flask - python "
   ]
  },
  {
   "cell_type": "code",
   "execution_count": null,
   "metadata": {},
   "outputs": [],
   "source": []
  },
  {
   "cell_type": "code",
   "execution_count": null,
   "metadata": {},
   "outputs": [],
   "source": []
  },
  {
   "cell_type": "code",
   "execution_count": null,
   "metadata": {},
   "outputs": [],
   "source": []
  },
  {
   "cell_type": "code",
   "execution_count": null,
   "metadata": {},
   "outputs": [],
   "source": []
  },
  {
   "cell_type": "code",
   "execution_count": null,
   "metadata": {},
   "outputs": [],
   "source": []
  },
  {
   "cell_type": "code",
   "execution_count": null,
   "metadata": {},
   "outputs": [],
   "source": []
  },
  {
   "cell_type": "code",
   "execution_count": null,
   "metadata": {},
   "outputs": [],
   "source": []
  },
  {
   "cell_type": "code",
   "execution_count": null,
   "metadata": {},
   "outputs": [],
   "source": []
  },
  {
   "cell_type": "code",
   "execution_count": null,
   "metadata": {},
   "outputs": [],
   "source": []
  }
 ],
 "metadata": {
  "kernelspec": {
   "display_name": "Python 3",
   "language": "python",
   "name": "python3"
  },
  "language_info": {
   "codemirror_mode": {
    "name": "ipython",
    "version": 3
   },
   "file_extension": ".py",
   "mimetype": "text/x-python",
   "name": "python",
   "nbconvert_exporter": "python",
   "pygments_lexer": "ipython3",
   "version": "3.7.3"
  }
 },
 "nbformat": 4,
 "nbformat_minor": 2
}
