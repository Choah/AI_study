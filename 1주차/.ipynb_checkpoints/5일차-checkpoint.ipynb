{
 "cells": [
  {
   "cell_type": "code",
   "execution_count": 2,
   "metadata": {},
   "outputs": [],
   "source": [
    "from IPython.core.interactiveshell import InteractiveShell"
   ]
  },
  {
   "cell_type": "markdown",
   "metadata": {},
   "source": [
    "## class\n",
    "1. 값\n",
    "2. 메소드"
   ]
  },
  {
   "cell_type": "code",
   "execution_count": 8,
   "metadata": {},
   "outputs": [],
   "source": [
    "class A:\n",
    "    a= 1\n",
    "    def x(self):\n",
    "        return self.a  # self.a를 해야한다. 밖에 class 변수 안에 인스턴스변수"
   ]
  },
  {
   "cell_type": "code",
   "execution_count": 9,
   "metadata": {},
   "outputs": [
    {
     "data": {
      "text/plain": [
       "1"
      ]
     },
     "execution_count": 9,
     "metadata": {},
     "output_type": "execute_result"
    }
   ],
   "source": [
    "a=A()\n",
    "a.x()"
   ]
  },
  {
   "cell_type": "code",
   "execution_count": 10,
   "metadata": {},
   "outputs": [
    {
     "data": {
      "text/plain": [
       "1"
      ]
     },
     "execution_count": 10,
     "metadata": {},
     "output_type": "execute_result"
    }
   ],
   "source": [
    "# 인스턴스 변수 클래스 변수 접근하기 위해서 \n",
    "class A:\n",
    "    a=1\n",
    "    def x(self):\n",
    "        return A.a\n",
    "    \n",
    "a=A()\n",
    "a.x()"
   ]
  },
  {
   "cell_type": "code",
   "execution_count": 12,
   "metadata": {},
   "outputs": [
    {
     "data": {
      "text/plain": [
       "__main__.A"
      ]
     },
     "execution_count": 12,
     "metadata": {},
     "output_type": "execute_result"
    }
   ],
   "source": [
    "a.__class__  # __main__ 현재 정의되어 있는 파일이 현재 파일인 경우"
   ]
  },
  {
   "cell_type": "code",
   "execution_count": 13,
   "metadata": {},
   "outputs": [
    {
     "data": {
      "text/plain": [
       "1"
      ]
     },
     "execution_count": 13,
     "metadata": {},
     "output_type": "execute_result"
    }
   ],
   "source": [
    "class A:\n",
    "    a=1\n",
    "    def x(self):\n",
    "        return self.__class__.a  #  (type) 같다.\n",
    "    \n",
    "b=A()\n",
    "b.x()\n",
    "\n",
    "# 타입 인자에 인스턴스를 넣으면 클래스명, 클래스를 넣으면 타입\n",
    "\n",
    "# oject : 최상위 클래스 -> 하나님 [상속받는 것들 ex) class A(obj):]\n",
    "# type : 최상위 메타 클라스 -> int, float [type(int-> 객체)->메타클래스]\n"
   ]
  },
  {
   "cell_type": "markdown",
   "metadata": {},
   "source": [
    "- 인스턴스 메소드 클래스에서 쓸 수 있다. \n",
    "- 인스턴스 메소드는 클래스 변수 쓸 수 있다. \n",
    "\n",
    "- 클래스 인스턴스 변수 완전히 관리한다. (구분 된다. )\n",
    "\n",
    "- 클래스 메소드 인스턴스에서 쓸 수 있다. \n",
    "- 클래스 인스턴스 변수 쓸 수 없다. \n",
    "\n",
    "- 스타틱 메소드 인스턴스, 클래스 둘 다 쓸 수 있다. \n",
    "\n",
    "* 함수 선언 안해도 함수 만들 수 있다. (lambda)\n",
    "* 클래스도 선언 안해도 클래스 만들 수 있다.(type)"
   ]
  },
  {
   "cell_type": "code",
   "execution_count": 20,
   "metadata": {},
   "outputs": [
    {
     "data": {
      "text/plain": [
       "1"
      ]
     },
     "execution_count": 20,
     "metadata": {},
     "output_type": "execute_result"
    }
   ],
   "source": [
    "class A(object): # object에서 상속받은 것\n",
    "    a=1\n",
    "    def x(self):\n",
    "        return type(self).a  # 인스턴스에 타입을 알려주는 애\n",
    "    \n",
    "b=A()\n",
    "b.x()"
   ]
  },
  {
   "cell_type": "code",
   "execution_count": 21,
   "metadata": {},
   "outputs": [
    {
     "data": {
      "text/plain": [
       "True"
      ]
     },
     "execution_count": 21,
     "metadata": {},
     "output_type": "execute_result"
    }
   ],
   "source": [
    "isinstance(1,(int,str))  # 1 이 (클래스 or 투플) 에서 인스턴스인지 확인하는 것 "
   ]
  },
  {
   "cell_type": "code",
   "execution_count": 22,
   "metadata": {},
   "outputs": [
    {
     "data": {
      "text/plain": [
       "True"
      ]
     },
     "execution_count": 22,
     "metadata": {},
     "output_type": "execute_result"
    }
   ],
   "source": [
    "issubclass(A, object) # A class 가 Object class의 자식이다."
   ]
  },
  {
   "cell_type": "code",
   "execution_count": 23,
   "metadata": {},
   "outputs": [
    {
     "data": {
      "text/plain": [
       "int"
      ]
     },
     "execution_count": 23,
     "metadata": {},
     "output_type": "execute_result"
    }
   ],
   "source": [
    "a=1 \n",
    "type(a)"
   ]
  },
  {
   "cell_type": "markdown",
   "metadata": {},
   "source": [
    "### type"
   ]
  },
  {
   "cell_type": "code",
   "execution_count": 25,
   "metadata": {},
   "outputs": [
    {
     "data": {
      "text/plain": [
       "type"
      ]
     },
     "execution_count": 25,
     "metadata": {},
     "output_type": "execute_result"
    }
   ],
   "source": [
    "* python은 다중 상속 언어\n",
    "\n",
    "type(int) # 메타클래스 (클래스의 클래스) -> 다른 클래스의 행동을 제공 (클래스를 만들어주는 클래스)\n",
    "\n",
    "# 메타클래스 특징 \n",
    "# 인자가 하나일 때는 클래스를 반환해주는 것 \n",
    "# 메타클래스 자체로 이용할 때 \n",
    "# 클래스 만들어 줄 때 \n",
    "\n",
    "# type ?\n",
    "# 3 ) 객체 타입 했더니 클래스 명이 나온다.\n",
    "# 2 ) 클래스를 타입했더니 타입 \n",
    "# 1 ) 클래스 만들어주는 역할\n",
    "# 0 ) 메타클래스\n",
    "# __class__와 똑같다. "
   ]
  },
  {
   "cell_type": "code",
   "execution_count": 38,
   "metadata": {},
   "outputs": [],
   "source": [
    "a= type('Moon', (int,),{}) # object_or_name, bases,dict\n",
    "x= a(3) # int 개체를 상속받아서 타입치면 \n",
    "type(x) # moon이라는 클래스를 만들어준 것 \n",
    "\n",
    "\n",
    "class Moon(int): # 위에거는 타입 이용, 밑에거는 클래스 이용해서 만든것. 같은것 \n",
    "    pass"
   ]
  },
  {
   "cell_type": "code",
   "execution_count": 32,
   "metadata": {},
   "outputs": [
    {
     "name": "stdout",
     "output_type": "stream",
     "text": [
      "1\n"
     ]
    }
   ],
   "source": [
    "x= input()"
   ]
  },
  {
   "cell_type": "code",
   "execution_count": 36,
   "metadata": {},
   "outputs": [
    {
     "data": {
      "text/plain": [
       "type"
      ]
     },
     "execution_count": 36,
     "metadata": {},
     "output_type": "execute_result"
    }
   ],
   "source": [
    "type(float) # 안에가 객체면 클래스 이름, 타입하면 클래스 명 \n",
    "\n",
    "type(type) # 타입은 객체다. "
   ]
  },
  {
   "cell_type": "code",
   "execution_count": 41,
   "metadata": {},
   "outputs": [
    {
     "data": {
      "text/plain": [
       "(int,)"
      ]
     },
     "execution_count": 41,
     "metadata": {},
     "output_type": "execute_result"
    }
   ],
   "source": [
    "a= type('Moon', (int,),{}) \n",
    "\n",
    "a.__bases__ # s 붙이면 상속받는 모든 애들이 다 나온다. \n",
    "# 상속해주는 부모객체 알려준다. \n",
    "\n",
    "# a.__b  # (상속받을 객체)"
   ]
  },
  {
   "cell_type": "markdown",
   "metadata": {},
   "source": [
    "## 상속 \n",
    "- 다중 상속 "
   ]
  },
  {
   "cell_type": "code",
   "execution_count": 42,
   "metadata": {},
   "outputs": [],
   "source": [
    "class A: # 최상위 클래스 object에서 상속받는다.\n",
    "    pass"
   ]
  },
  {
   "cell_type": "code",
   "execution_count": 46,
   "metadata": {},
   "outputs": [
    {
     "data": {
      "text/plain": [
       "['__class__',\n",
       " '__delattr__',\n",
       " '__dir__',\n",
       " '__doc__',\n",
       " '__eq__',\n",
       " '__format__',\n",
       " '__ge__',\n",
       " '__getattribute__',\n",
       " '__gt__',\n",
       " '__hash__',\n",
       " '__init__',\n",
       " '__init_subclass__',\n",
       " '__le__',\n",
       " '__lt__',\n",
       " '__ne__',\n",
       " '__new__',\n",
       " '__reduce__',\n",
       " '__reduce_ex__',\n",
       " '__repr__',\n",
       " '__setattr__',\n",
       " '__sizeof__',\n",
       " '__str__',\n",
       " '__subclasshook__']"
      ]
     },
     "execution_count": 46,
     "metadata": {},
     "output_type": "execute_result"
    }
   ],
   "source": [
    "type(type)\n",
    "type(object) # 즉 object 는 클래스라는 것\n",
    "\n",
    "dir(object) # a=A() # 인스턴스화 할 때 __init__가 실행된다. \n",
    "\n",
    "# __dir__ vs. dir \n",
    "# - 하는 행동은 똑같은데 보여주는 결과가 다르다. \n",
    "# - dir() 함수로 하면 정렬, __ 함수가 아니면 정렬이 안되어 있다."
   ]
  },
  {
   "cell_type": "code",
   "execution_count": 48,
   "metadata": {},
   "outputs": [
    {
     "ename": "TypeError",
     "evalue": "descriptor '__dir__' of 'object' object needs an argument",
     "output_type": "error",
     "traceback": [
      "\u001b[1;31m---------------------------------------------------------------------------\u001b[0m",
      "\u001b[1;31mTypeError\u001b[0m                                 Traceback (most recent call last)",
      "\u001b[1;32m<ipython-input-48-296fbb7e3658>\u001b[0m in \u001b[0;36m<module>\u001b[1;34m\u001b[0m\n\u001b[1;32m----> 1\u001b[1;33m \u001b[0mobject\u001b[0m\u001b[1;33m.\u001b[0m\u001b[0m__dir__\u001b[0m\u001b[1;33m(\u001b[0m\u001b[1;33m)\u001b[0m \u001b[1;31m# method가 나오면 괄호()를 붙여야한다.\u001b[0m\u001b[1;33m\u001b[0m\u001b[1;33m\u001b[0m\u001b[0m\n\u001b[0m\u001b[0;32m      2\u001b[0m \u001b[1;33m\u001b[0m\u001b[0m\n",
      "\u001b[1;31mTypeError\u001b[0m: descriptor '__dir__' of 'object' object needs an argument"
     ]
    }
   ],
   "source": [
    "object.__dir__() # method가 나오면 괄호()를 붙여야한다.\n",
    "# descriptor: 접근을 제안해주는 것 \n",
    "\n",
    "# 함수 dir() 클래스 인스턴스 둘다 사용 가능 \n",
    "# __는 인스턴스 (객체)에만 사용 할 수 있다."
   ]
  },
  {
   "cell_type": "code",
   "execution_count": 49,
   "metadata": {},
   "outputs": [
    {
     "data": {
      "text/plain": [
       "['__module__',\n",
       " '__dict__',\n",
       " '__weakref__',\n",
       " '__doc__',\n",
       " '__repr__',\n",
       " '__hash__',\n",
       " '__str__',\n",
       " '__getattribute__',\n",
       " '__setattr__',\n",
       " '__delattr__',\n",
       " '__lt__',\n",
       " '__le__',\n",
       " '__eq__',\n",
       " '__ne__',\n",
       " '__gt__',\n",
       " '__ge__',\n",
       " '__init__',\n",
       " '__new__',\n",
       " '__reduce_ex__',\n",
       " '__reduce__',\n",
       " '__subclasshook__',\n",
       " '__init_subclass__',\n",
       " '__format__',\n",
       " '__sizeof__',\n",
       " '__dir__',\n",
       " '__class__']"
      ]
     },
     "execution_count": 49,
     "metadata": {},
     "output_type": "execute_result"
    }
   ],
   "source": [
    "a=A()\n",
    "a.__dir__() "
   ]
  },
  {
   "cell_type": "code",
   "execution_count": 50,
   "metadata": {
    "scrolled": false
   },
   "outputs": [
    {
     "data": {
      "text/plain": [
       "set()"
      ]
     },
     "execution_count": 50,
     "metadata": {},
     "output_type": "execute_result"
    }
   ],
   "source": [
    "set(a.__dir__())^set(dir(a))\n",
    "\n",
    "# 함수는 sorting\n",
    "# __dir 하면 sorting 안한 채로 보여준다. \n",
    "# 기능상 대응하지만 모양상은 다르다. \n",
    "# __ 하고 기능상 똑같은 함수가 있다. "
   ]
  },
  {
   "cell_type": "markdown",
   "metadata": {},
   "source": [
    "* 단일상속\n",
    "* 다중상속"
   ]
  },
  {
   "cell_type": "code",
   "execution_count": 51,
   "metadata": {},
   "outputs": [
    {
     "data": {
      "text/plain": [
       "['__class__',\n",
       " '__delattr__',\n",
       " '__dict__',\n",
       " '__dir__',\n",
       " '__doc__',\n",
       " '__eq__',\n",
       " '__format__',\n",
       " '__ge__',\n",
       " '__getattribute__',\n",
       " '__gt__',\n",
       " '__hash__',\n",
       " '__init__',\n",
       " '__init_subclass__',\n",
       " '__le__',\n",
       " '__lt__',\n",
       " '__module__',\n",
       " '__ne__',\n",
       " '__new__',\n",
       " '__reduce__',\n",
       " '__reduce_ex__',\n",
       " '__repr__',\n",
       " '__setattr__',\n",
       " '__sizeof__',\n",
       " '__str__',\n",
       " '__subclasshook__',\n",
       " '__weakref__']"
      ]
     },
     "execution_count": 51,
     "metadata": {},
     "output_type": "execute_result"
    }
   ],
   "source": [
    "class A:\n",
    "    pass\n",
    "\n",
    "class B(A): \n",
    "    pass\n",
    "\n",
    "dir(a)\n",
    "\n",
    "# 부모에 있는거 자식 값을 바꾸는 것 (overriding)-> 할 수 있다.\n",
    "# -  변수에서도 할 수 있고 메소드에서도 할 수 있다. \n",
    "# 이름같으면 같은 메소드 \n",
    "\n",
    "\n",
    "# 파이썬은 프로텍티드 만들려면 굉장히 복잡 "
   ]
  },
  {
   "cell_type": "code",
   "execution_count": null,
   "metadata": {},
   "outputs": [],
   "source": [
    "class A:\n",
    "    pass\n",
    "\n",
    "class B(A,):  # 여기에 추가하면 다중 상속\n",
    "    pass\n",
    "\n",
    "dir(a)"
   ]
  },
  {
   "cell_type": "code",
   "execution_count": 52,
   "metadata": {},
   "outputs": [],
   "source": [
    "class A:\n",
    "    a=1\n",
    "    def x(self):\n",
    "        return 1\n",
    "class B(A):\n",
    "    a=1\n",
    "    def x(self,a): # 메소드 이름 x로 같다. \n",
    "        return a\n",
    "    \n",
    "    # 자식 객체에서 없으면 부모 객체에서 찾아간다. "
   ]
  },
  {
   "cell_type": "code",
   "execution_count": 53,
   "metadata": {},
   "outputs": [
    {
     "ename": "TypeError",
     "evalue": "x() missing 1 required positional argument: 'a'",
     "output_type": "error",
     "traceback": [
      "\u001b[1;31m---------------------------------------------------------------------------\u001b[0m",
      "\u001b[1;31mTypeError\u001b[0m                                 Traceback (most recent call last)",
      "\u001b[1;32m<ipython-input-53-a730ecfcd59c>\u001b[0m in \u001b[0;36m<module>\u001b[1;34m\u001b[0m\n\u001b[0;32m      1\u001b[0m \u001b[0mb\u001b[0m\u001b[1;33m=\u001b[0m\u001b[0mB\u001b[0m\u001b[1;33m(\u001b[0m\u001b[1;33m)\u001b[0m\u001b[1;33m\u001b[0m\u001b[1;33m\u001b[0m\u001b[0m\n\u001b[1;32m----> 2\u001b[1;33m \u001b[0mb\u001b[0m\u001b[1;33m.\u001b[0m\u001b[0mx\u001b[0m\u001b[1;33m(\u001b[0m\u001b[1;33m)\u001b[0m\u001b[1;33m\u001b[0m\u001b[1;33m\u001b[0m\u001b[0m\n\u001b[0m",
      "\u001b[1;31mTypeError\u001b[0m: x() missing 1 required positional argument: 'a'"
     ]
    }
   ],
   "source": [
    "b=B()\n",
    "b.x() # 파이썬은 이름이 같으면 같은 메소드로 보기 때문에 실행이 안된다. ?"
   ]
  },
  {
   "cell_type": "code",
   "execution_count": null,
   "metadata": {},
   "outputs": [],
   "source": [
    "# 상속 장점\n",
    "# - 부모에서 정의되어 있는 걸 그대로 가져오거나 수정하거나 부분만 갖고 올 수 있따.\n",
    "\n",
    "class A:\n",
    "    a=1\n",
    "    def x(self):\n",
    "        return 1\n",
    "class B(A):\n",
    "    a=1\n",
    "    def x(self,a): # 메소드 이름 x로 같다. \n",
    "        return self.__class.__base__.a\n",
    "    \n",
    "# __base(s) : "
   ]
  },
  {
   "cell_type": "code",
   "execution_count": null,
   "metadata": {},
   "outputs": [],
   "source": [
    "class A: # 인스턴스 메소드\n",
    "    a=1\n",
    "    def x(self):\n",
    "        return 1\n",
    "class B(A):\n",
    "    a=1\n",
    "    def x(self,a): # 메소드 이름 x로 같다. \n",
    "        return super().x() # 인스턴스 반환 \n",
    "    \n",
    "# 부모에 있는 걸 갖고 오는게 super  (부모의 객체)"
   ]
  },
  {
   "cell_type": "code",
   "execution_count": 56,
   "metadata": {},
   "outputs": [
    {
     "data": {
      "text/plain": [
       "3"
      ]
     },
     "execution_count": 56,
     "metadata": {},
     "output_type": "execute_result"
    }
   ],
   "source": [
    "b=B()\n",
    "b.x(3)"
   ]
  },
  {
   "cell_type": "code",
   "execution_count": 62,
   "metadata": {},
   "outputs": [
    {
     "ename": "TypeError",
     "evalue": "x() missing 1 required positional argument: 'self'",
     "output_type": "error",
     "traceback": [
      "\u001b[1;31m---------------------------------------------------------------------------\u001b[0m",
      "\u001b[1;31mTypeError\u001b[0m                                 Traceback (most recent call last)",
      "\u001b[1;32m<ipython-input-62-e427e89a9a68>\u001b[0m in \u001b[0;36m<module>\u001b[1;34m\u001b[0m\n\u001b[0;32m      9\u001b[0m \u001b[1;33m\u001b[0m\u001b[0m\n\u001b[0;32m     10\u001b[0m \u001b[1;31m# 부모에 있는 걸 갖고 오는게 super  (부모의 객체)b=B()\u001b[0m\u001b[1;33m\u001b[0m\u001b[1;33m\u001b[0m\u001b[1;33m\u001b[0m\u001b[0m\n\u001b[1;32m---> 11\u001b[1;33m \u001b[0mb\u001b[0m\u001b[1;33m.\u001b[0m\u001b[0mx\u001b[0m\u001b[1;33m(\u001b[0m\u001b[1;36m3\u001b[0m\u001b[1;33m)\u001b[0m\u001b[1;33m\u001b[0m\u001b[1;33m\u001b[0m\u001b[0m\n\u001b[0m",
      "\u001b[1;32m<ipython-input-57-0dba2225480b>\u001b[0m in \u001b[0;36mx\u001b[1;34m(self, a)\u001b[0m\n\u001b[0;32m      6\u001b[0m     \u001b[0ma\u001b[0m\u001b[1;33m=\u001b[0m\u001b[1;36m1\u001b[0m\u001b[1;33m\u001b[0m\u001b[1;33m\u001b[0m\u001b[0m\n\u001b[0;32m      7\u001b[0m     \u001b[1;32mdef\u001b[0m \u001b[0mx\u001b[0m\u001b[1;33m(\u001b[0m\u001b[0mself\u001b[0m\u001b[1;33m,\u001b[0m\u001b[0ma\u001b[0m\u001b[1;33m)\u001b[0m\u001b[1;33m:\u001b[0m \u001b[1;31m# 메소드 이름 x로 같다.\u001b[0m\u001b[1;33m\u001b[0m\u001b[1;33m\u001b[0m\u001b[0m\n\u001b[1;32m----> 8\u001b[1;33m         \u001b[1;32mreturn\u001b[0m \u001b[0mA\u001b[0m\u001b[1;33m.\u001b[0m\u001b[0mx\u001b[0m\u001b[1;33m(\u001b[0m\u001b[1;33m)\u001b[0m \u001b[1;31m# 클래스 메소드 형식으로 쓰는것 A.x() -> 인스턴스에서는 부모에 있는거 갖고오려면 super 쓴다.\u001b[0m\u001b[1;33m\u001b[0m\u001b[1;33m\u001b[0m\u001b[0m\n\u001b[0m\u001b[0;32m      9\u001b[0m \u001b[1;33m\u001b[0m\u001b[0m\n\u001b[0;32m     10\u001b[0m \u001b[1;31m# 부모에 있는 걸 갖고 오는게 super  (부모의 객체)\u001b[0m\u001b[1;33m\u001b[0m\u001b[1;33m\u001b[0m\u001b[1;33m\u001b[0m\u001b[0m\n",
      "\u001b[1;31mTypeError\u001b[0m: x() missing 1 required positional argument: 'self'"
     ]
    }
   ],
   "source": [
    "class A: # 인스턴스 메소드\n",
    "    a=1\n",
    "    def x(self):\n",
    "        return 1\n",
    "class B(A):\n",
    "    a=1\n",
    "    def x(self,a): # 메소드 이름 x로 같다. \n",
    "        return A.x() # 클래스 메소드 형식으로 쓰는것 A.x() -> 인스턴스에서는 부모에 있는거 갖고오려면 super 쓴다. \n",
    "    \n",
    "# 부모에 있는 걸 갖고 오는게 super  (부모의 객체)b=B()\n",
    "b.x(3)"
   ]
  },
  {
   "cell_type": "code",
   "execution_count": 63,
   "metadata": {},
   "outputs": [],
   "source": [
    "class A: # 인스턴스 메소드\n",
    "    a=1\n",
    "    def x(self):\n",
    "        return 1\n",
    "class B(A):\n",
    "    a=1\n",
    "    def x(self,a): # 메소드 이름 x로 같다. \n",
    "        return super().x() # super() 객체 안써도 첫번째 클래스의 첫번째 인자를 반환해준다.\n",
    "\n",
    "# super\n",
    "# - 인스턴스 매소드\n",
    "# - 부모의 클래스가 아닌 인스턴스를 반환한다. \n",
    "# - 다중 상속할 때도 편리하다.  \n",
    "\n",
    "# - 부모에 있는 걸 갖고 오는게 super  (부모의 객체)"
   ]
  },
  {
   "cell_type": "code",
   "execution_count": 64,
   "metadata": {},
   "outputs": [
    {
     "data": {
      "text/plain": [
       "1"
      ]
     },
     "execution_count": 64,
     "metadata": {},
     "output_type": "execute_result"
    }
   ],
   "source": [
    "b=B()\n",
    "b.x(3)"
   ]
  },
  {
   "cell_type": "code",
   "execution_count": 67,
   "metadata": {},
   "outputs": [],
   "source": [
    "class A: # 인스턴스 메소드\n",
    "    a=1\n",
    "    def x(self,a):\n",
    "        return a\n",
    "class B(A):\n",
    "    a=1\n",
    "    def x(self,a): # 메소드 이름 x로 같다. \n",
    "        return super().x(A.a) # super() 객체 안써도 첫번째 클래스의 첫번째 인자를 반환해준다.\n",
    "\n",
    "# super"
   ]
  },
  {
   "cell_type": "code",
   "execution_count": 68,
   "metadata": {},
   "outputs": [
    {
     "data": {
      "text/plain": [
       "1"
      ]
     },
     "execution_count": 68,
     "metadata": {},
     "output_type": "execute_result"
    }
   ],
   "source": [
    "b=B()\n",
    "b.x(3)"
   ]
  },
  {
   "cell_type": "code",
   "execution_count": 70,
   "metadata": {},
   "outputs": [
    {
     "ename": "TypeError",
     "evalue": "Cannot create a consistent method resolution\norder (MRO) for bases A, B",
     "output_type": "error",
     "traceback": [
      "\u001b[1;31m---------------------------------------------------------------------------\u001b[0m",
      "\u001b[1;31mTypeError\u001b[0m                                 Traceback (most recent call last)",
      "\u001b[1;32m<ipython-input-70-dae3363f4b3c>\u001b[0m in \u001b[0;36m<module>\u001b[1;34m\u001b[0m\n\u001b[0;32m     13\u001b[0m         \u001b[0mprint\u001b[0m\u001b[1;33m(\u001b[0m\u001b[0mC\u001b[0m\u001b[1;33m)\u001b[0m\u001b[1;33m\u001b[0m\u001b[1;33m\u001b[0m\u001b[0m\n\u001b[0;32m     14\u001b[0m \u001b[1;33m\u001b[0m\u001b[0m\n\u001b[1;32m---> 15\u001b[1;33m \u001b[1;32mclass\u001b[0m \u001b[0mD\u001b[0m\u001b[1;33m(\u001b[0m\u001b[0mA\u001b[0m\u001b[1;33m,\u001b[0m\u001b[0mB\u001b[0m\u001b[1;33m)\u001b[0m\u001b[1;33m:\u001b[0m\u001b[1;33m\u001b[0m\u001b[1;33m\u001b[0m\u001b[0m\n\u001b[0m\u001b[0;32m     16\u001b[0m     \u001b[1;32mdef\u001b[0m \u001b[0m__init__\u001b[0m\u001b[1;33m(\u001b[0m\u001b[0mself\u001b[0m\u001b[1;33m)\u001b[0m\u001b[1;33m:\u001b[0m\u001b[1;33m\u001b[0m\u001b[1;33m\u001b[0m\u001b[0m\n\u001b[0;32m     17\u001b[0m         \u001b[0mprint\u001b[0m\u001b[1;33m(\u001b[0m\u001b[0mD\u001b[0m\u001b[1;33m)\u001b[0m\u001b[1;33m\u001b[0m\u001b[1;33m\u001b[0m\u001b[0m\n",
      "\u001b[1;31mTypeError\u001b[0m: Cannot create a consistent method resolution\norder (MRO) for bases A, B"
     ]
    }
   ],
   "source": [
    "# 다이아몬드 문제 - 다중상속\n",
    "# - 다중상속일 때 에러가 생기면 MRO 일 경우가 많다.\n",
    "# B-> A, C->A, D->B, D->C\n",
    "\n",
    "class A:\n",
    "    def __init__(self):\n",
    "        print(A)\n",
    "        \n",
    "class B(A):\n",
    "    def __init__(self):\n",
    "        print(B)\n",
    "        \n",
    "class C(A):\n",
    "    def __init__(self):\n",
    "        print(C)\n",
    "        \n",
    "class D(A,B): # A, B 둘 중 어디서 받았는지 실행순서를 확인할 수 없을 때. TypeError **(MRO)**\n",
    "    def __init__(self):\n",
    "        print(D)"
   ]
  },
  {
   "cell_type": "code",
   "execution_count": 71,
   "metadata": {},
   "outputs": [],
   "source": [
    "class A:\n",
    "    def __init__(self):\n",
    "        print(A)\n",
    "        \n",
    "class B(A):\n",
    "    def __init__(self):\n",
    "        print(B)\n",
    "        \n",
    "class C(A):\n",
    "    def __init__(self):\n",
    "        print(C)\n",
    "        \n",
    "class D(B,C): \n",
    "    def __init__(self):\n",
    "        print(D)"
   ]
  },
  {
   "cell_type": "code",
   "execution_count": 72,
   "metadata": {},
   "outputs": [
    {
     "data": {
      "text/plain": [
       "[__main__.D, __main__.B, __main__.C, __main__.A, object]"
      ]
     },
     "execution_count": 72,
     "metadata": {},
     "output_type": "execute_result"
    }
   ],
   "source": [
    "D.mro() # list 형식 - sequence (python 내부적으로 누구한테 상속받았는지 보여준다.)\n",
    "# mro: 상속 구조를 보여준다. "
   ]
  },
  {
   "cell_type": "code",
   "execution_count": 73,
   "metadata": {},
   "outputs": [],
   "source": [
    "class A:\n",
    "    def __init__(self):\n",
    "        print(A)\n",
    "        \n",
    "class B(A):\n",
    "    def __init__(self):\n",
    "        print(B)\n",
    "        \n",
    "class C(A):\n",
    "    def __init__(self):\n",
    "        print(C)\n",
    "        \n",
    "class D(C,B): \n",
    "    def __init__(self):\n",
    "        print(D)"
   ]
  },
  {
   "cell_type": "code",
   "execution_count": 74,
   "metadata": {},
   "outputs": [
    {
     "data": {
      "text/plain": [
       "[__main__.D, __main__.C, __main__.B, __main__.A, object]"
      ]
     },
     "execution_count": 74,
     "metadata": {},
     "output_type": "execute_result"
    }
   ],
   "source": [
    "D.mro() # 첫번째 순서대로 가는게 좋다. (?)"
   ]
  },
  {
   "cell_type": "code",
   "execution_count": 75,
   "metadata": {},
   "outputs": [
    {
     "data": {
      "text/plain": [
       "(__main__.D, __main__.C, __main__.B, __main__.A, object)"
      ]
     },
     "execution_count": 75,
     "metadata": {},
     "output_type": "execute_result"
    }
   ],
   "source": [
    "D.__mro__ # 메소드 방식으로 썼더니 튜플로 나온다. -> object: 단일 라인으로 정렬"
   ]
  },
  {
   "cell_type": "code",
   "execution_count": 76,
   "metadata": {},
   "outputs": [
    {
     "name": "stdout",
     "output_type": "stream",
     "text": [
      "<class '__main__.D'>\n"
     ]
    },
    {
     "ename": "AttributeError",
     "evalue": "'D' object has no attribute 'mro'",
     "output_type": "error",
     "traceback": [
      "\u001b[1;31m---------------------------------------------------------------------------\u001b[0m",
      "\u001b[1;31mAttributeError\u001b[0m                            Traceback (most recent call last)",
      "\u001b[1;32m<ipython-input-76-a136b6e92648>\u001b[0m in \u001b[0;36m<module>\u001b[1;34m\u001b[0m\n\u001b[0;32m      1\u001b[0m \u001b[0md\u001b[0m\u001b[1;33m=\u001b[0m\u001b[0mD\u001b[0m\u001b[1;33m(\u001b[0m\u001b[1;33m)\u001b[0m\u001b[1;33m\u001b[0m\u001b[1;33m\u001b[0m\u001b[0m\n\u001b[1;32m----> 2\u001b[1;33m \u001b[0md\u001b[0m\u001b[1;33m.\u001b[0m\u001b[0mmro\u001b[0m\u001b[1;33m(\u001b[0m\u001b[1;33m)\u001b[0m\u001b[1;33m\u001b[0m\u001b[1;33m\u001b[0m\u001b[0m\n\u001b[0m",
      "\u001b[1;31mAttributeError\u001b[0m: 'D' object has no attribute 'mro'"
     ]
    }
   ],
   "source": [
    "d=D()\n",
    "d.mro() # mro는 클래스 메소드이다. "
   ]
  },
  {
   "cell_type": "code",
   "execution_count": 79,
   "metadata": {},
   "outputs": [
    {
     "data": {
      "text/plain": [
       "[__main__.D, __main__.C, __main__.B, __main__.A, object]"
      ]
     },
     "execution_count": 79,
     "metadata": {},
     "output_type": "execute_result"
    }
   ],
   "source": [
    "A.mro() # 한개짜리 쳤더니 object 가 튀어나온다.\n",
    "B.mro() # 두개짜리도 object  - 똑같은 메소드가 있을 때 어떻게 실행되는지 알려준다. \n",
    "D.mro()"
   ]
  },
  {
   "cell_type": "code",
   "execution_count": 80,
   "metadata": {},
   "outputs": [
    {
     "data": {
      "text/plain": [
       "(__main__.C, __main__.B)"
      ]
     },
     "execution_count": 80,
     "metadata": {},
     "output_type": "execute_result"
    }
   ],
   "source": [
    "D.__bases__ # 상속해주는 부모객체 알려준다. \n",
    "# mro 차이점은 똑같은 메소드가 있을 때 어떻게 실행되는지 알려준다."
   ]
  },
  {
   "cell_type": "code",
   "execution_count": 85,
   "metadata": {},
   "outputs": [],
   "source": [
    "# 지정해주면 중복이될 수 있다.\n",
    "class A:\n",
    "    def __init__(self):\n",
    "        print(A)\n",
    "        \n",
    "class B(A):\n",
    "    def __init__(self):\n",
    "        A.__init__(self) \n",
    "        print(B)\n",
    "        \n",
    "class C(A):\n",
    "    def __init__(self):\n",
    "        A.__init__(self)\n",
    "        print(C)\n",
    "        \n",
    "class D(C,B): \n",
    "    def __init__(self):\n",
    "        B.__init__(self)\n",
    "        C.__init__(self)\n",
    "        print(D)"
   ]
  },
  {
   "cell_type": "code",
   "execution_count": 86,
   "metadata": {},
   "outputs": [
    {
     "name": "stdout",
     "output_type": "stream",
     "text": [
      "<class '__main__.A'>\n",
      "<class '__main__.B'>\n",
      "<class '__main__.A'>\n",
      "<class '__main__.C'>\n",
      "<class '__main__.D'>\n"
     ]
    }
   ],
   "source": [
    "d=D()"
   ]
  },
  {
   "cell_type": "code",
   "execution_count": 88,
   "metadata": {},
   "outputs": [
    {
     "data": {
      "text/plain": [
       "[__main__.D, __main__.C, __main__.B, __main__.A, object]"
      ]
     },
     "execution_count": 88,
     "metadata": {},
     "output_type": "execute_result"
    }
   ],
   "source": [
    "D.mro()"
   ]
  },
  {
   "cell_type": "code",
   "execution_count": 90,
   "metadata": {},
   "outputs": [],
   "source": [
    "class A:\n",
    "    def __init__(self):\n",
    "        print(A)\n",
    "        \n",
    "class B(A):\n",
    "    def __init__(self):\n",
    "        print(B)\n",
    "        A.__init__(self) \n",
    "        \n",
    "class C(A):\n",
    "    def __init__(self):\n",
    "        print(C)\n",
    "        A.__init__(self)\n",
    "        \n",
    "class D(C,B): \n",
    "    def __init__(self):\n",
    "        B.__init__(self)\n",
    "        C.__init__(self)\n",
    "        print(D)"
   ]
  },
  {
   "cell_type": "code",
   "execution_count": 91,
   "metadata": {
    "scrolled": true
   },
   "outputs": [
    {
     "name": "stdout",
     "output_type": "stream",
     "text": [
      "<class '__main__.B'>\n",
      "<class '__main__.A'>\n",
      "<class '__main__.C'>\n",
      "<class '__main__.A'>\n",
      "<class '__main__.D'>\n"
     ]
    }
   ],
   "source": [
    "d=D()"
   ]
  },
  {
   "cell_type": "code",
   "execution_count": 92,
   "metadata": {},
   "outputs": [],
   "source": [
    "class T:\n",
    "    def u(self):\n",
    "        return 1 "
   ]
  },
  {
   "cell_type": "code",
   "execution_count": 93,
   "metadata": {},
   "outputs": [
    {
     "data": {
      "text/plain": [
       "1"
      ]
     },
     "execution_count": 93,
     "metadata": {},
     "output_type": "execute_result"
    }
   ],
   "source": [
    "t=T()\n",
    "T.u(t)"
   ]
  },
  {
   "cell_type": "code",
   "execution_count": 94,
   "metadata": {},
   "outputs": [
    {
     "data": {
      "text/plain": [
       "1"
      ]
     },
     "execution_count": 94,
     "metadata": {},
     "output_type": "execute_result"
    }
   ],
   "source": [
    "t.u()"
   ]
  },
  {
   "cell_type": "code",
   "execution_count": 109,
   "metadata": {},
   "outputs": [],
   "source": [
    "# 지정해주는 것 보다. super을 쓰는것이 다중상속일 때 중복문제를 없앨 수 있다.\n",
    "class A:\n",
    "    def __init__(self):\n",
    "        print(A)\n",
    "        \n",
    "class B(A):\n",
    "    def __init__(self):\n",
    "        super().__init__() # 생성자 -> 이스턴스화에게 이름을 지어주는 것 \n",
    "        print(B)\n",
    "        \n",
    "class C(A):\n",
    "    def __init__(self):\n",
    "        super().__init__()\n",
    "        print(C)\n",
    "        \n",
    "class D(C,B): \n",
    "    def __init__(self):\n",
    "        super().__init__() # 인스턴스는 객체 쓰면 안딘다. (super는 객체다.)\n",
    "#        super().__init__() # : 중복 실행 되면 파이썬이 자체적으로 두번실행하는 것을 막아준다. ? \n",
    "        print(D)"
   ]
  },
  {
   "cell_type": "code",
   "execution_count": 110,
   "metadata": {},
   "outputs": [
    {
     "name": "stdout",
     "output_type": "stream",
     "text": [
      "<class '__main__.A'>\n",
      "<class '__main__.B'>\n",
      "<class '__main__.C'>\n",
      "<class '__main__.D'>\n"
     ]
    }
   ],
   "source": [
    "d=D()"
   ]
  },
  {
   "cell_type": "markdown",
   "metadata": {},
   "source": [
    "* decorator : .(), 상속 이용해서 바꿔주는 것 (?)\n",
    "* mro\n",
    "* super :객체\n"
   ]
  },
  {
   "cell_type": "code",
   "execution_count": 121,
   "metadata": {},
   "outputs": [],
   "source": [
    "class A:\n",
    "    def 꽥(self): # method 이름만 확인한다.  - duck typing \n",
    "        print(A)\n",
    "        \n",
    "class B(A):\n",
    "    def 꽥(self):\n",
    "        super().x() \n",
    "        print(B)"
   ]
  },
  {
   "cell_type": "code",
   "execution_count": 122,
   "metadata": {},
   "outputs": [],
   "source": [
    "class C:\n",
    "    def 꽥(self):\n",
    "        print(C)"
   ]
  },
  {
   "cell_type": "code",
   "execution_count": 123,
   "metadata": {},
   "outputs": [],
   "source": [
    "def t(obj):\n",
    "    return obj.꽥()"
   ]
  },
  {
   "cell_type": "code",
   "execution_count": 124,
   "metadata": {},
   "outputs": [
    {
     "name": "stdout",
     "output_type": "stream",
     "text": [
      "<class '__main__.C'>\n"
     ]
    }
   ],
   "source": [
    "t(C())"
   ]
  },
  {
   "cell_type": "code",
   "execution_count": null,
   "metadata": {},
   "outputs": [],
   "source": [
    "# 상속안받아도 메소드 이름만 같으면 된다. \n",
    "\n",
    "# 부모한테 상속받은 걸 없앨수도 있다. (일시적으로는 없앨 수 있다.)\n",
    "# - 부모가 메모리 크면 상속받으면 자식 메모리도 크다.\n",
    "# - 따라서 덕 타이핑을 이용해서 메소드 이름만 같이해서 쓴다."
   ]
  },
  {
   "cell_type": "code",
   "execution_count": null,
   "metadata": {},
   "outputs": [],
   "source": [
    "# method : __class__ # 클래스 안에 선언된 것 class -> def  \n",
    "# function: type() # def "
   ]
  },
  {
   "cell_type": "code",
   "execution_count": null,
   "metadata": {},
   "outputs": [],
   "source": [
    "상속을 하지 않고 상속처럼 쓸 수 있는 방식\n",
    "\n",
    "1. duck typing (python에만 있다)\n",
    "2. composition (java, c 등에도 있다)"
   ]
  },
  {
   "cell_type": "markdown",
   "metadata": {},
   "source": [
    "* matplotlib\n",
    "- 몽키 패치 \n",
    "    - import 할 때도 조심해야한다. -> dir 객체 수가 추가됨 "
   ]
  },
  {
   "cell_type": "code",
   "execution_count": 126,
   "metadata": {},
   "outputs": [],
   "source": [
    "import matplotlib"
   ]
  },
  {
   "cell_type": "code",
   "execution_count": 127,
   "metadata": {},
   "outputs": [
    {
     "data": {
      "text/plain": [
       "109"
      ]
     },
     "execution_count": 127,
     "metadata": {},
     "output_type": "execute_result"
    }
   ],
   "source": [
    "len(dir(matplotlib))"
   ]
  },
  {
   "cell_type": "code",
   "execution_count": 129,
   "metadata": {},
   "outputs": [],
   "source": [
    "import matplotlib.pyplot as plt"
   ]
  },
  {
   "cell_type": "code",
   "execution_count": 130,
   "metadata": {},
   "outputs": [
    {
     "data": {
      "text/plain": [
       "172"
      ]
     },
     "execution_count": 130,
     "metadata": {},
     "output_type": "execute_result"
    }
   ],
   "source": [
    "len(dir(matplotlib))"
   ]
  },
  {
   "cell_type": "code",
   "execution_count": 132,
   "metadata": {},
   "outputs": [],
   "source": [
    "class B:\n",
    "    def __repr__(self):\n",
    "        return '경아'\n",
    "    def __str__(self):\n",
    "        return '경아2'"
   ]
  },
  {
   "cell_type": "code",
   "execution_count": 136,
   "metadata": {},
   "outputs": [
    {
     "data": {
      "text/plain": [
       "경아"
      ]
     },
     "execution_count": 136,
     "metadata": {},
     "output_type": "execute_result"
    }
   ],
   "source": [
    "b=B() # 인스턴스화 \n",
    "b # repr (representation)  출력 - raw format "
   ]
  },
  {
   "cell_type": "code",
   "execution_count": 137,
   "metadata": {
    "scrolled": true
   },
   "outputs": [
    {
     "name": "stdout",
     "output_type": "stream",
     "text": [
      "경아2\n"
     ]
    }
   ],
   "source": [
    "print(b)# str 출력 "
   ]
  },
  {
   "cell_type": "code",
   "execution_count": 141,
   "metadata": {},
   "outputs": [],
   "source": [
    "a=r'asdf\\n' # raw format"
   ]
  },
  {
   "cell_type": "code",
   "execution_count": 142,
   "metadata": {},
   "outputs": [
    {
     "data": {
      "text/plain": [
       "'asdf\\\\n'"
      ]
     },
     "execution_count": 142,
     "metadata": {},
     "output_type": "execute_result"
    }
   ],
   "source": [
    "a"
   ]
  },
  {
   "cell_type": "code",
   "execution_count": 143,
   "metadata": {},
   "outputs": [
    {
     "name": "stdout",
     "output_type": "stream",
     "text": [
      "asdf\\n\n"
     ]
    }
   ],
   "source": [
    "print(a)"
   ]
  },
  {
   "cell_type": "code",
   "execution_count": 147,
   "metadata": {},
   "outputs": [
    {
     "data": {
      "text/plain": [
       "'경아\\n안녕'"
      ]
     },
     "execution_count": 147,
     "metadata": {},
     "output_type": "execute_result"
    }
   ],
   "source": [
    "a='경아\\n안녕'\n",
    "a"
   ]
  },
  {
   "cell_type": "code",
   "execution_count": 148,
   "metadata": {
    "scrolled": true
   },
   "outputs": [
    {
     "name": "stdout",
     "output_type": "stream",
     "text": [
      "경아\n",
      "안녕\n"
     ]
    }
   ],
   "source": [
    "print(a)"
   ]
  },
  {
   "cell_type": "markdown",
   "metadata": {},
   "source": [
    "* import\n",
    "\n",
    "* as 3번튀어나옴 - 단축키 \n",
    "- import\n",
    "- except\n",
    "- with "
   ]
  },
  {
   "cell_type": "code",
   "execution_count": 149,
   "metadata": {},
   "outputs": [],
   "source": [
    "import numpy as np "
   ]
  },
  {
   "cell_type": "code",
   "execution_count": 150,
   "metadata": {},
   "outputs": [
    {
     "data": {
      "text/plain": [
       "'numpy'"
      ]
     },
     "execution_count": 150,
     "metadata": {},
     "output_type": "execute_result"
    }
   ],
   "source": [
    "np.__name__ # 실제 본질은 안변한다. "
   ]
  },
  {
   "cell_type": "code",
   "execution_count": 43,
   "metadata": {},
   "outputs": [
    {
     "name": "stdout",
     "output_type": "stream",
     "text": [
      "Collecting tensorflow\n",
      "  Using cached https://files.pythonhosted.org/packages/f7/08/25e47a53692c2e0dcd2211a493ddfe9007a5cd92e175d6dffa6169a0b392/tensorflow-1.14.0-cp37-cp37m-win_amd64.whl\n",
      "Collecting gast>=0.2.0 (from tensorflow)\n",
      "  Downloading https://files.pythonhosted.org/packages/4e/35/11749bf99b2d4e3cceb4d55ca22590b0d7c2c62b9de38ac4a4a7f4687421/gast-0.2.2.tar.gz\n",
      "Collecting absl-py>=0.7.0 (from tensorflow)\n",
      "  Downloading https://files.pythonhosted.org/packages/da/3f/9b0355080b81b15ba6a9ffcf1f5ea39e307a2778b2f2dc8694724e8abd5b/absl-py-0.7.1.tar.gz (99kB)\n",
      "Collecting google-pasta>=0.1.6 (from tensorflow)\n",
      "  Downloading https://files.pythonhosted.org/packages/d0/33/376510eb8d6246f3c30545f416b2263eee461e40940c2a4413c711bdf62d/google_pasta-0.1.7-py3-none-any.whl (52kB)\n",
      "Requirement already satisfied: numpy<2.0,>=1.14.5 in c:\\users\\cho gyung ah\\anaconda3\\lib\\site-packages (from tensorflow) (1.16.2)\n",
      "Collecting grpcio>=1.8.6 (from tensorflow)\n",
      "  Downloading https://files.pythonhosted.org/packages/7a/f5/fe046577387a3589ab3092096ca423fcf9a8c7ac876f56c6f3b4c9b9e533/grpcio-1.22.0-cp37-cp37m-win_amd64.whl (1.6MB)\n",
      "Requirement already satisfied: wheel>=0.26 in c:\\users\\cho gyung ah\\anaconda3\\lib\\site-packages (from tensorflow) (0.33.1)\n",
      "Collecting tensorboard<1.15.0,>=1.14.0 (from tensorflow)\n",
      "  Downloading https://files.pythonhosted.org/packages/91/2d/2ed263449a078cd9c8a9ba50ebd50123adf1f8cfbea1492f9084169b89d9/tensorboard-1.14.0-py3-none-any.whl (3.1MB)\n",
      "Collecting termcolor>=1.1.0 (from tensorflow)\n",
      "  Using cached https://files.pythonhosted.org/packages/8a/48/a76be51647d0eb9f10e2a4511bf3ffb8cc1e6b14e9e4fab46173aa79f981/termcolor-1.1.0.tar.gz\n",
      "Collecting astor>=0.6.0 (from tensorflow)\n",
      "  Downloading https://files.pythonhosted.org/packages/d1/4f/950dfae467b384fc96bc6469de25d832534f6b4441033c39f914efd13418/astor-0.8.0-py2.py3-none-any.whl\n",
      "Collecting keras-preprocessing>=1.0.5 (from tensorflow)\n",
      "  Downloading https://files.pythonhosted.org/packages/28/6a/8c1f62c37212d9fc441a7e26736df51ce6f0e38455816445471f10da4f0a/Keras_Preprocessing-1.1.0-py2.py3-none-any.whl (41kB)\n",
      "Collecting protobuf>=3.6.1 (from tensorflow)\n",
      "  Downloading https://files.pythonhosted.org/packages/49/cd/608edf77e6b7cbc6a79dfc33039ee78afac29dfa8e6c894b9ef95b8a5c8c/protobuf-3.8.0-cp37-cp37m-win_amd64.whl (1.0MB)\n",
      "Requirement already satisfied: wrapt>=1.11.1 in c:\\users\\cho gyung ah\\anaconda3\\lib\\site-packages (from tensorflow) (1.11.1)\n",
      "Collecting keras-applications>=1.0.6 (from tensorflow)\n",
      "  Downloading https://files.pythonhosted.org/packages/71/e3/19762fdfc62877ae9102edf6342d71b28fbfd9dea3d2f96a882ce099b03f/Keras_Applications-1.0.8-py3-none-any.whl (50kB)\n",
      "Requirement already satisfied: six>=1.10.0 in c:\\users\\cho gyung ah\\anaconda3\\lib\\site-packages (from tensorflow) (1.12.0)\n",
      "Collecting tensorflow-estimator<1.15.0rc0,>=1.14.0rc0 (from tensorflow)\n",
      "  Downloading https://files.pythonhosted.org/packages/3c/d5/21860a5b11caf0678fbc8319341b0ae21a07156911132e0e71bffed0510d/tensorflow_estimator-1.14.0-py2.py3-none-any.whl (488kB)\n",
      "Collecting setuptools>=41.0.0 (from tensorboard<1.15.0,>=1.14.0->tensorflow)\n",
      "  Downloading https://files.pythonhosted.org/packages/ec/51/f45cea425fd5cb0b0380f5b0f048ebc1da5b417e48d304838c02d6288a1e/setuptools-41.0.1-py2.py3-none-any.whl (575kB)\n",
      "Requirement already satisfied: werkzeug>=0.11.15 in c:\\users\\cho gyung ah\\anaconda3\\lib\\site-packages (from tensorboard<1.15.0,>=1.14.0->tensorflow) (0.14.1)\n",
      "Collecting markdown>=2.6.8 (from tensorboard<1.15.0,>=1.14.0->tensorflow)\n",
      "  Downloading https://files.pythonhosted.org/packages/c0/4e/fd492e91abdc2d2fcb70ef453064d980688762079397f779758e055f6575/Markdown-3.1.1-py2.py3-none-any.whl (87kB)\n",
      "Requirement already satisfied: h5py in c:\\users\\cho gyung ah\\anaconda3\\lib\\site-packages (from keras-applications>=1.0.6->tensorflow) (2.9.0)\n",
      "Building wheels for collected packages: gast, absl-py, termcolor\n",
      "  Building wheel for gast (setup.py): started\n",
      "  Building wheel for gast (setup.py): finished with status 'done'\n",
      "  Stored in directory: C:\\Users\\Cho Gyung Ah\\AppData\\Local\\pip\\Cache\\wheels\\5c\\2e\\7e\\a1d4d4fcebe6c381f378ce7743a3ced3699feb89bcfbdadadd\n",
      "  Building wheel for absl-py (setup.py): started\n",
      "  Building wheel for absl-py (setup.py): finished with status 'done'\n",
      "  Stored in directory: C:\\Users\\Cho Gyung Ah\\AppData\\Local\\pip\\Cache\\wheels\\ee\\98\\38\\46cbcc5a93cfea5492d19c38562691ddb23b940176c14f7b48\n",
      "  Building wheel for termcolor (setup.py): started\n",
      "  Building wheel for termcolor (setup.py): finished with status 'done'\n",
      "  Stored in directory: C:\\Users\\Cho Gyung Ah\\AppData\\Local\\pip\\Cache\\wheels\\7c\\06\\54\\bc84598ba1daf8f970247f550b175aaaee85f68b4b0c5ab2c6\n",
      "Successfully built gast absl-py termcolor\n",
      "Installing collected packages: gast, absl-py, google-pasta, grpcio, setuptools, protobuf, markdown, tensorboard, termcolor, astor, keras-preprocessing, keras-applications, tensorflow-estimator, tensorflow\n",
      "Successfully installed absl-py-0.7.1 astor-0.8.0 gast-0.2.2 google-pasta-0.1.7 grpcio-1.22.0 keras-applications-1.0.8 keras-preprocessing-1.1.0 markdown-3.1.1 protobuf-3.8.0 setuptools-41.0.1 tensorboard-1.14.0 tensorflow-1.14.0 tensorflow-estimator-1.14.0 termcolor-1.1.0\n"
     ]
    },
    {
     "name": "stderr",
     "output_type": "stream",
     "text": [
      "  The script markdown_py.exe is installed in 'C:\\Users\\Cho Gyung Ah\\AppData\\Roaming\\Python\\Python37\\Scripts' which is not on PATH.\n",
      "  Consider adding this directory to PATH or, if you prefer to suppress this warning, use --no-warn-script-location.\n",
      "  The script tensorboard.exe is installed in 'C:\\Users\\Cho Gyung Ah\\AppData\\Roaming\\Python\\Python37\\Scripts' which is not on PATH.\n",
      "  Consider adding this directory to PATH or, if you prefer to suppress this warning, use --no-warn-script-location.\n",
      "  The scripts freeze_graph.exe, saved_model_cli.exe, tensorboard.exe, tf_upgrade_v2.exe, tflite_convert.exe, toco.exe and toco_from_protos.exe are installed in 'C:\\Users\\Cho Gyung Ah\\AppData\\Roaming\\Python\\Python37\\Scripts' which is not on PATH.\n",
      "  Consider adding this directory to PATH or, if you prefer to suppress this warning, use --no-warn-script-location.\n"
     ]
    }
   ],
   "source": [
    "! pip install tensorflow --user"
   ]
  },
  {
   "cell_type": "code",
   "execution_count": 151,
   "metadata": {},
   "outputs": [
    {
     "ename": "ModuleNotFoundError",
     "evalue": "No module named 'tensorflow'",
     "output_type": "error",
     "traceback": [
      "\u001b[1;31m---------------------------------------------------------------------------\u001b[0m",
      "\u001b[1;31mModuleNotFoundError\u001b[0m                       Traceback (most recent call last)",
      "\u001b[1;32m<ipython-input-151-456b3b208783>\u001b[0m in \u001b[0;36m<module>\u001b[1;34m\u001b[0m\n\u001b[1;32m----> 1\u001b[1;33m \u001b[1;32mimport\u001b[0m \u001b[0mtensorflow\u001b[0m \u001b[1;32mas\u001b[0m \u001b[0mtf\u001b[0m\u001b[1;33m\u001b[0m\u001b[1;33m\u001b[0m\u001b[0m\n\u001b[0m",
      "\u001b[1;31mModuleNotFoundError\u001b[0m: No module named 'tensorflow'"
     ]
    }
   ],
   "source": [
    "import tensorflow as tf "
   ]
  },
  {
   "cell_type": "code",
   "execution_count": null,
   "metadata": {},
   "outputs": [],
   "source": [
    "import tensorflow.keras import models "
   ]
  },
  {
   "cell_type": "markdown",
   "metadata": {},
   "source": [
    "- except"
   ]
  },
  {
   "cell_type": "code",
   "execution_count": 5,
   "metadata": {},
   "outputs": [
    {
     "name": "stdout",
     "output_type": "stream",
     "text": [
      "zero division by zero\n",
      "Finall\n"
     ]
    }
   ],
   "source": [
    "# 에러사항 체크하기 \n",
    "\n",
    "try:\n",
    "    a=1/0\n",
    "except ZeroDivisionError as e: # e에 대한 에러를 e로 표현해서 간단히 줄여써준다. \n",
    "    print('zero',e)\n",
    "except:\n",
    "    print('error') # 디폴트 except 는 맨 마지막에 써야한다. \n",
    "else: \n",
    "    print('No Error') # 오류가 발생되지 않을 때 \n",
    "finally:\n",
    "    print('Finall') # 에러가 나든 안나든 무조건 실행 "
   ]
  },
  {
   "cell_type": "code",
   "execution_count": 3,
   "metadata": {},
   "outputs": [
    {
     "ename": "ZeroDivisionError",
     "evalue": "division by zero",
     "output_type": "error",
     "traceback": [
      "\u001b[1;31m---------------------------------------------------------------------------\u001b[0m",
      "\u001b[1;31mZeroDivisionError\u001b[0m                         Traceback (most recent call last)",
      "\u001b[1;32m<ipython-input-3-1ba9fd98b39c>\u001b[0m in \u001b[0;36m<module>\u001b[1;34m\u001b[0m\n\u001b[1;32m----> 1\u001b[1;33m \u001b[0ma\u001b[0m\u001b[1;33m=\u001b[0m\u001b[1;36m1\u001b[0m\u001b[1;33m/\u001b[0m\u001b[1;36m0\u001b[0m\u001b[1;33m\u001b[0m\u001b[1;33m\u001b[0m\u001b[0m\n\u001b[0m",
      "\u001b[1;31mZeroDivisionError\u001b[0m: division by zero"
     ]
    }
   ],
   "source": [
    "a=1/0  # ZeroDivisionError"
   ]
  },
  {
   "cell_type": "code",
   "execution_count": 6,
   "metadata": {},
   "outputs": [
    {
     "name": "stdout",
     "output_type": "stream",
     "text": [
      "nested\n",
      "Finall\n"
     ]
    }
   ],
   "source": [
    "# 성능이 느려져서 이 방법으로 에러 확인하는 법을 많이 쓴다. \n",
    "try:\n",
    "    a=1/0\n",
    "except ZeroDivisionError as e: # e에 대한 에러를 e로 표현해서 간단히 줄여써준다. \n",
    "    try:\n",
    "        b=1/0\n",
    "    except:\n",
    "        print('nested')\n",
    "except:\n",
    "    print('error') # 디폴트 except 는 맨 마지막에 써야한다. \n",
    "else: \n",
    "    print('No Error') # 오류가 발생되지 않을 때 \n",
    "finally:\n",
    "    print('Finall') # 에러가 나든 안나든 무조건 실행 "
   ]
  },
  {
   "cell_type": "code",
   "execution_count": 8,
   "metadata": {},
   "outputs": [
    {
     "name": "stdout",
     "output_type": "stream",
     "text": [
      "<class 'ZeroDivisionError'>\n",
      "Finally\n"
     ]
    }
   ],
   "source": [
    "try:\n",
    "    a=1/0\n",
    "except ZeroDivisionError: \n",
    "    print(ZeroDivisionError)\n",
    "except:\n",
    "    print('error') \n",
    "else: \n",
    "    print('No Error') \n",
    "finally:\n",
    "    print('Finally')  "
   ]
  },
  {
   "cell_type": "code",
   "execution_count": 10,
   "metadata": {},
   "outputs": [
    {
     "name": "stdout",
     "output_type": "stream",
     "text": [
      "division by zero\n",
      "Finally\n"
     ]
    }
   ],
   "source": [
    "try:\n",
    "    a=1/0\n",
    "except ZeroDivisionError as e: \n",
    "    print(e)\n",
    "except:\n",
    "    print('error') \n",
    "else: \n",
    "    print('No Error') \n",
    "finally:\n",
    "    print('Finally')  "
   ]
  },
  {
   "cell_type": "markdown",
   "metadata": {},
   "source": [
    "- with"
   ]
  },
  {
   "cell_type": "code",
   "execution_count": 11,
   "metadata": {},
   "outputs": [
    {
     "name": "stdout",
     "output_type": "stream",
     "text": [
      "Writing sun.txt\n"
     ]
    }
   ],
   "source": [
    "%%writefile sun.txt\n",
    "asdfasdf\n",
    "asdfasdfasdf\n",
    "asdfasdfasdf"
   ]
  },
  {
   "cell_type": "code",
   "execution_count": 19,
   "metadata": {},
   "outputs": [],
   "source": [
    "a= open('sun.txt')"
   ]
  },
  {
   "cell_type": "code",
   "execution_count": 20,
   "metadata": {},
   "outputs": [
    {
     "data": {
      "text/plain": [
       "'asdfasdf\\n'"
      ]
     },
     "execution_count": 20,
     "metadata": {},
     "output_type": "execute_result"
    }
   ],
   "source": [
    "type(a) \n",
    "next(a) # 여러번 치면 stopiteration 뜬다. \n",
    "\n",
    "# \\n(개행문자) - 개행문자가 붙여져 있다. "
   ]
  },
  {
   "cell_type": "code",
   "execution_count": 22,
   "metadata": {},
   "outputs": [
    {
     "name": "stdout",
     "output_type": "stream",
     "text": [
      "a\n"
     ]
    }
   ],
   "source": [
    "dir(a)\n",
    "\n",
    "# '__enter__',\n",
    "# '__exit__', : close 가 정의되어 있어서 따로 close 할 필요가 없다. (?)\n",
    "# ->  2개가 정의되어 있으면 with를 사용할 수 있다.\n",
    "\n",
    "with open('sun.txt'): \n",
    "    print('a')"
   ]
  },
  {
   "cell_type": "code",
   "execution_count": 23,
   "metadata": {},
   "outputs": [],
   "source": [
    "b = open('moon.txt','w') # 'w': write"
   ]
  },
  {
   "cell_type": "code",
   "execution_count": 24,
   "metadata": {},
   "outputs": [
    {
     "data": {
      "text/plain": [
       "12"
      ]
     },
     "execution_count": 24,
     "metadata": {},
     "output_type": "execute_result"
    }
   ],
   "source": [
    "b.write('asdfasdfasdf')"
   ]
  },
  {
   "cell_type": "code",
   "execution_count": 25,
   "metadata": {},
   "outputs": [],
   "source": [
    "b.close()"
   ]
  },
  {
   "cell_type": "code",
   "execution_count": 28,
   "metadata": {},
   "outputs": [
    {
     "ename": "ValueError",
     "evalue": "I/O operation on closed file.",
     "output_type": "error",
     "traceback": [
      "\u001b[1;31m---------------------------------------------------------------------------\u001b[0m",
      "\u001b[1;31mValueError\u001b[0m                                Traceback (most recent call last)",
      "\u001b[1;32m<ipython-input-28-f52addae648c>\u001b[0m in \u001b[0;36m<module>\u001b[1;34m\u001b[0m\n\u001b[1;32m----> 1\u001b[1;33m \u001b[0mb\u001b[0m\u001b[1;33m.\u001b[0m\u001b[0mwrite\u001b[0m\u001b[1;33m(\u001b[0m\u001b[1;34m'asdf'\u001b[0m\u001b[1;33m)\u001b[0m \u001b[1;31m# close file 했기 때문에 되지 않는다.\u001b[0m\u001b[1;33m\u001b[0m\u001b[1;33m\u001b[0m\u001b[0m\n\u001b[0m",
      "\u001b[1;31mValueError\u001b[0m: I/O operation on closed file."
     ]
    }
   ],
   "source": [
    "b.write('asdf') # close file 했기 때문에 되지 않는다. "
   ]
  },
  {
   "cell_type": "code",
   "execution_count": 37,
   "metadata": {},
   "outputs": [],
   "source": [
    "with open ('star.txt','w') as f:\n",
    "    f.write('aaaa')"
   ]
  },
  {
   "cell_type": "code",
   "execution_count": 41,
   "metadata": {},
   "outputs": [
    {
     "ename": "ValueError",
     "evalue": "I/O operation on closed file.",
     "output_type": "error",
     "traceback": [
      "\u001b[1;31m---------------------------------------------------------------------------\u001b[0m",
      "\u001b[1;31mValueError\u001b[0m                                Traceback (most recent call last)",
      "\u001b[1;32m<ipython-input-41-8f199da12d84>\u001b[0m in \u001b[0;36m<module>\u001b[1;34m\u001b[0m\n\u001b[1;32m----> 1\u001b[1;33m \u001b[0mf\u001b[0m\u001b[1;33m.\u001b[0m\u001b[0mwrite\u001b[0m\u001b[1;33m(\u001b[0m\u001b[1;34m'asdf'\u001b[0m\u001b[1;33m)\u001b[0m \u001b[1;31m# 자동으로 __exit__가 실행된다 -> f.close() 안써도\u001b[0m\u001b[1;33m\u001b[0m\u001b[1;33m\u001b[0m\u001b[0m\n\u001b[0m",
      "\u001b[1;31mValueError\u001b[0m: I/O operation on closed file."
     ]
    }
   ],
   "source": [
    "f.write('asdf') # 자동으로 __exit__가 실행된다 -> f.close() 안써도 "
   ]
  },
  {
   "cell_type": "markdown",
   "metadata": {},
   "source": [
    "# 이번주 과제: 자습서 복습하기 "
   ]
  },
  {
   "cell_type": "code",
   "execution_count": null,
   "metadata": {},
   "outputs": [],
   "source": []
  },
  {
   "cell_type": "code",
   "execution_count": null,
   "metadata": {},
   "outputs": [],
   "source": []
  },
  {
   "cell_type": "code",
   "execution_count": null,
   "metadata": {},
   "outputs": [],
   "source": []
  },
  {
   "cell_type": "code",
   "execution_count": null,
   "metadata": {},
   "outputs": [],
   "source": []
  },
  {
   "cell_type": "code",
   "execution_count": null,
   "metadata": {},
   "outputs": [],
   "source": []
  },
  {
   "cell_type": "code",
   "execution_count": null,
   "metadata": {},
   "outputs": [],
   "source": []
  },
  {
   "cell_type": "code",
   "execution_count": null,
   "metadata": {},
   "outputs": [],
   "source": []
  }
 ],
 "metadata": {
  "kernelspec": {
   "display_name": "Python 3",
   "language": "python",
   "name": "python3"
  },
  "language_info": {
   "codemirror_mode": {
    "name": "ipython",
    "version": 3
   },
   "file_extension": ".py",
   "mimetype": "text/x-python",
   "name": "python",
   "nbconvert_exporter": "python",
   "pygments_lexer": "ipython3",
   "version": "3.7.3"
  }
 },
 "nbformat": 4,
 "nbformat_minor": 2
}
