{
 "cells": [
  {
   "cell_type": "code",
   "execution_count": 24,
   "metadata": {
    "scrolled": true
   },
   "outputs": [
    {
     "ename": "SyntaxError",
     "evalue": "invalid syntax (<ipython-input-24-e2f03294a0a9>, line 2)",
     "output_type": "error",
     "traceback": [
      "\u001b[1;36m  File \u001b[1;32m\"<ipython-input-24-e2f03294a0a9>\"\u001b[1;36m, line \u001b[1;32m2\u001b[0m\n\u001b[1;33m    len(result), [{\"title\": row[1]}, \"url\": row[0]]\u001b[0m\n\u001b[1;37m                                          ^\u001b[0m\n\u001b[1;31mSyntaxError\u001b[0m\u001b[1;31m:\u001b[0m invalid syntax\n"
     ]
    }
   ],
   "source": [
    "result = re.findall(r'\\B<div class=\"r\"> <a href = \"(.+?) .+?>\"\\B<h3 .+?>(.+?)</h3>', unescape(html.text)) <br>\n",
    "len(result), [{\"title\": row[1]}, \"url\": row[0]]"
   ]
  },
  {
   "cell_type": "code",
   "execution_count": 22,
   "metadata": {},
   "outputs": [
    {
     "ename": "NameError",
     "evalue": "name 're' is not defined",
     "output_type": "error",
     "traceback": [
      "\u001b[1;31m---------------------------------------------------------------------------\u001b[0m",
      "\u001b[1;31mNameError\u001b[0m                                 Traceback (most recent call last)",
      "\u001b[1;32m<ipython-input-22-56f58714113d>\u001b[0m in \u001b[0;36m<module>\u001b[1;34m\u001b[0m\n\u001b[1;32m----> 1\u001b[1;33m \u001b[0mresult\u001b[0m\u001b[1;33m=\u001b[0m \u001b[0mre\u001b[0m\u001b[1;33m.\u001b[0m\u001b[0mfindall\u001b[0m\u001b[1;33m(\u001b[0m\u001b[1;34mr'\\B<div class=\"r\"> <a href=\"(.+?)\" .+?>\\B<h3 .+?>(.+?)</h3>'\u001b[0m\u001b[1;33m,\u001b[0m\u001b[0munescape\u001b[0m\u001b[1;33m(\u001b[0m\u001b[0mhtml\u001b[0m\u001b[1;33m.\u001b[0m\u001b[0mtext\u001b[0m\u001b[1;33m)\u001b[0m\u001b[1;33m)\u001b[0m\u001b[1;33m\u001b[0m\u001b[1;33m\u001b[0m\u001b[0m\n\u001b[0m\u001b[0;32m      2\u001b[0m \u001b[0mlen\u001b[0m\u001b[1;33m(\u001b[0m\u001b[0mresult\u001b[0m\u001b[1;33m)\u001b[0m\u001b[1;33m,\u001b[0m \u001b[1;33m[\u001b[0m\u001b[1;33m{\u001b[0m\u001b[1;34m\"title\"\u001b[0m\u001b[1;33m:\u001b[0m\u001b[0mrow\u001b[0m\u001b[1;33m[\u001b[0m\u001b[1;36m1\u001b[0m\u001b[1;33m]\u001b[0m\u001b[1;33m,\u001b[0m \u001b[1;34m\"url\"\u001b[0m\u001b[1;33m:\u001b[0m\u001b[0mrow\u001b[0m\u001b[1;33m[\u001b[0m\u001b[1;36m0\u001b[0m\u001b[1;33m]\u001b[0m\u001b[1;33m}\u001b[0m \u001b[1;32mfor\u001b[0m \u001b[0mrow\u001b[0m \u001b[1;32min\u001b[0m \u001b[0mresult\u001b[0m\u001b[1;33m]\u001b[0m\u001b[1;33m\u001b[0m\u001b[1;33m\u001b[0m\u001b[0m\n",
      "\u001b[1;31mNameError\u001b[0m: name 're' is not defined"
     ]
    }
   ],
   "source": [
    "result= re.findall(r'\\B<div class=\"r\"> <a href=\"(.+?)\" .+?>\\B<h3 .+?>(.+?)</h3>',unescape(html.text))\n",
    "len(result), [{\"title\":row[1], \"url\":row[0]} for row in result]"
   ]
  },
  {
   "cell_type": "markdown",
   "metadata": {},
   "source": [
    "\\B<div class=\"r\"><a href=\"(.+?)\" ping=\".+?\" target=\"_blank\" rel=\"noopener\">"
   ]
  },
  {
   "cell_type": "code",
   "execution_count": 1,
   "metadata": {},
   "outputs": [],
   "source": [
    "import requests\n",
    "import time\n",
    "\n",
    "def download(method, url,\n",
    "             param=None, data=None,\n",
    "            timeout=1, maxretries=3):\n",
    "    try:\n",
    "        resp = requests.request(method, url,\n",
    "                     params=param, data=data,\n",
    "                               headers=headers)\n",
    "        resp.raise_for_status()\n",
    "    except requests.exceptions.HTTPError as e:\n",
    "        if 500<= e.response.status_code <600\\\n",
    "        and maxretries >0:\n",
    "            time.sleep(timeout)\n",
    "            resp = download(method, url, param, data, timeout, maxretries-1)\n",
    "            print(\"재시도\")\n",
    "        else:\n",
    "            print(e.response.status_code)\n",
    "            print(e.response.reason)\n",
    "    return resp\n",
    "\n",
    "headers = {\"user-agent\":\"Mozilla/5.0 (Windows NT 10.0; Win64; x64) AppleWebKit/537.36 (KHTML, like Gecko) Chrome/75.0.3770.100 Safari/537.36\"}"
   ]
  },
  {
   "cell_type": "code",
   "execution_count": 2,
   "metadata": {},
   "outputs": [],
   "source": [
    "from html import unescape # 한국어 변환"
   ]
  },
  {
   "cell_type": "code",
   "execution_count": 662,
   "metadata": {
    "scrolled": true
   },
   "outputs": [
    {
     "data": {
      "text/plain": [
       "'<!doctype html> <html lang=\"ko\"> <head> <meta charset=\"utf-8\"> <meta name=\"referrer\" content=\"always\">  <meta name=\"format-detection\" content=\"telephone=no,address=no,email=no\"> <meta name=\"viewport\" content=\"width=device-width,initial-scale=1.0,maximum-scale=2.0\"> <meta property=\"og:title\" content=\"박보영 : 네이버 통합검색\"/> <meta property=\"og:image\" content=\"https://ssl.pstatic.net/sstatic/search/common/og_v3.png\"> <meta property=\"og:description\" content=\"\\'박보영\\'의 네이버 통합검색 결과입니다.\"> <meta name=\"description\" lang=\"ko\" content=\"\\'박보영\\'의 네이버 통합검색 결과입니다.\"> <title>박보영 : 네이버 통합검색</title> <link rel=\"shortcut icon\" href=\"https://ssl.pstatic.net/sstatic/search/favicon/favicon_140327.ico\">  <link rel=\"search\" type=\"application/opensearchdescription+xml\" href=\"https://ssl.pstatic.net/sstatic/search/opensearch-description.https.xml\" title=\"Naver\" /><link rel=\"stylesheet\" type=\"text/css\" href=\"https://ssl.pstatic.net/sstatic/search/pc/css/search1_190711.css\"> <link rel=\"stylesheet\" type=\"text/css\" href=\"https://ssl.pstatic.net/sstatic/search/pc/css/search2_190711.css\"> <link rel=\"stylesheet\" type=\"text/css\" href=\"https://ssl.pstatic.net/sstatic/search/pc/css/api_atcmp_190612.css\"><script type=\"text/javascript\"> naver = window.naver || {}; naver.search = naver.search || {}; var g_D = 0 ; if (!String.prototype.trim) { String.prototype.trim = function () { return this.replace(/^[\\\\s\\\\uFEFF\\\\xA0]+|[\\\\s\\\\uFEFF\\\\xA0]+$/g, \\'\\'); }; } function urlencode (q) { return escape(q).replace(/\\\\+/g, \"%2B\") ; } function urlexpand (url) { var href = document.location.href ; if (url == \"\") return href ; if (url.match(/^[-.A-Za-z]+:/)) return url ; if (url.charAt(0) == \\'#\\') return href.split(\"#\")[0] + url ; if (url.charAt(0) == \\'?\\') return href.split(\"?\")[0] + url ; if (url.charAt(0) == \\'/\\') return href.replace(/([^:\\\\/])\\\\/.*$/, \"$1\") + url ; return href.substring(0, href.lastIndexOf(\"/\")+1) + url ; } naver.search.error = (function () { var errorList = Array() ; return { add : function (s) { errorList.push(s) ; }, clear : function () { delete errorList ; }, get : function (s) { return errorList ; }, getString : function (d) { if (typeof d === \\'undefined\\') d = \\'|\\' ; return errorList.join(d) ; } } })(); naver.search.cookie = (function () { return { set : function (key, value, expire, domain) { var cookie = key + \"=\" + escape(value); if (typeof expire !== \\'undefined\\') { if (expire instanceof Date) { cookie = cookie + \"; expires=\" + expire.toUTCString(); } else { var exdate = new Date((new Date()).getTime() + expire*1000); cookie = cookie + \"; expires=\" + exdate.toUTCString(); } } cookie = cookie + \"; path=/\"; if (domain != null) { cookie = cookie + \"; domain=\" + domain; } document.cookie = cookie; }, get : function (key) { var cookie_list = document.cookie.split(/\\\\s*;\\\\s*/); for (var i = 0; i < cookie_list.length; i++) { var tmp_list = cookie_list[i].split(\"=\"); var c_key = tmp_list[0].trim(); var c_value = tmp_list[1]; if (key == c_key) { return unescape(c_value); } } return null; } } })(); naver.search.https = window.location.protocol == \"https:\"; naver.search.meta_referrer = 1; var _nx_js_load = (function () { var scrs = {} ; return function (script, callback) { scrs[script] = {} ; scrs[script].domscript = document.createElement(\\'script\\'); scrs[script].domscript.src = script ; if (callback) scrs[script].callback = (callback instanceof Array) ? callback : [callback]; scrs[script].domscript.onloadDone = false; scrs[script].domscript.onload = function() { scrs[script].domscript.onloadDone = true; if (scrs[script].callback) { for (var i = 0; i < scrs[script].callback.length; i++) { scrs[script].callback[i]() ; } } scrs[script].domscript.onload = scrs[script].domscript.onreadystatechange = null; } ; scrs[script].domscript.onreadystatechange = function() { if ( (\"loaded\" === scrs[script].domscript.readyState || \"complete\" === scrs[script].domscript.readyState) && !scrs[script].domscript.onloadDone ) { scrs[script].domscript.onload(); } } ; document.getElementsByTagName(\\'head\\')[0].appendChild(scrs[script].domscript); }; })() ; var nx_js_defer_load = (function() { var info = {} ; return function(scrname, callback, t) { var nx_load_once = (function() { return function(scrname) { if (info[scrname].t > 0) setTimeout(function() { _nx_js_load(scrname, info[scrname].callback) ; }, t) ; else _nx_js_load(scrname, info[scrname].callback) ; } ; })(); if (t < 0) t = 0 ; if (info[scrname]) { n = info[scrname].length; for (var i = 0; i < n; i++) { if (info[scrname][i] == callback) return ; } if (t < info[scrname].t) info[scrname].t = t ; } else { info[scrname] = {} ; info[scrname].callback = [] ; info[scrname].t = t ; jindo.$Fn(function() { nx_load_once(scrname) ; }).attach(window, \"load\") ; } info[scrname].callback.push(callback) ; }; })(); function nx_js_lazyload(scripts, onload, is_serial) { if (!(scripts instanceof Array)) { scripts = [scripts]; } if (is_serial) { function load_next() { if (scripts.length == 0) { onload(); return; } _nx_js_load( scripts.shift(), load_next ) ; } load_next(); } else { var load_check = function() { var num_js = scripts.length; return function() { num_js--; if (num_js <= 0) { onload(); } } }(); for (var i = 0; i < scripts.length; i++) { _nx_js_load( scripts[i], load_check ) ; } } } function nx_defer_eval (id) { var codeElement = document.getElementById(id), code = codeElement.innerHTML; eval(code.replace(/\\\\/\\\\*/, \\'\\').replace(/\\\\*\\\\//, \\'\\')); } </script><script> try { document.execCommand(\\'BackgroundImageCache\\', false, true); } catch(e) {} if (top.frames.length!=0 || window!=top) window.open(location, \"_top\") ; naver = window.naver || {}; naver.search = naver.search || {}; naver.search.ext = naver.search.ext || {}; naver.search.map_api = { v2 : \"https://ssl.pstatic.net/sstatic.map/openapi/openapi_v23.js\", v3 : \"https://ssl.pstatic.net/sstatic.map/openapi/maps3.js\" } ; var nx_au_cookie_domain = \"search.naver.com\" ; var nx_mobile_agent = 0 ; var headerfooter_query = \"박보영\" ; var headerfooter_query_encoded = \"%EB%B0%95%EB%B3%B4%EC%98%81\" ; var headerfooter_query_encoded_uhc = \"%B9%DA%BA%B8%BF%B5\" ; var headerfooter_query_encoded_utf8 = \"%EB%B0%95%EB%B3%B4%EC%98%81\" ; var headerfooter_time_year = 2019 ; var headerfooter_time_month = 7 ; var headerfooter_time_day = 12 ; var headerfooter_time_hour = 15 ; var headerfooter_time_minute = 16 ; var headerfooter_time_second = 34 ; var headerfooter_time_wday = 5 ; var headerfooter_time_year_s = \"2019\" ; var headerfooter_time_month_s = \"07\" ; var headerfooter_time_day_s = \"12\" ; var headerfooter_time_hour_s = \"15\" ; var headerfooter_time_minute_s = \"16\" ; var headerfooter_time_second_s = \"34\" ; var headerfooter_time_wday_s = \"5\" ; var g_ssc = \"tab.nx.all\" ; var g_query = headerfooter_query_encoded_uhc ; var g_url_query = \"\" ; var g_puid = \"UflDwlprvTVssMcr4/RssssssfG-270154\" ; var g_suid = \"wmsmMpJ08RWPDjy4Afn2CQ==\" ; var g_tab = \"nexearch\" ; var g_content_tab = \"nexearch\" ; var g_stab = \"nexearch\" ; var g_stab_orig = \"nexearch\" ; var g_crt = \"\" ; var g_m_str = \"\" ; var g_tablet_device = 0 ; var g_nx_splugin ; document.domain = \"naver.com\" ; document.documentElement.setAttribute(\\'data-useragent\\', window.navigator.userAgent.toLowerCase()) ; document.documentElement.setAttribute(\\'data-platform\\', window.navigator.platform.toLowerCase()) ; var g_er_image, g_er_count = 0 ; function g_er (msg) { if (g_er_count++ > 0) return ; g_er_image = new Image() ; g_er_image.src = \"http://er.search.naver.com/er?f=\"+g_tab+\"&w=\"+g_stab+\"&q=%EB%B0%95%EB%B3%B4%EC%98%81&u=\"+encodeURIComponent(document.location)+\"&m=\"+encodeURIComponent(msg) ; } function trim_space (q) { var head_re = /^ */; var tail_re = / *$/; q = q.replace(head_re, \"\"); q = q.replace(tail_re, \"\"); return q; } function trim_crlf (q) { var crlf = /[\\\\r|\\\\n]/ ; q = q.replace(crlf, \"\") ; return q ; } if (typeof(encodeURIComponent) != \"function\") { encodeURIComponent = function (s) { function toHex (n) { var hexchars = \"0123456789ABCDEF\" ; return \"%\" + hexchars.charAt(n>>4) + hexchars.charAt(n&0xF) ; } var es = \"\" ; for (var i = 0; i < s.length;) { var c = s.charCodeAt(i++) ; if ((c&0xF800) == 0xD800) { var sc = s.charCodeAt(i++) ; c = ((c-0xD800)<<10) + (sc-0xDC00) + 0x10000 ; } if (!(c&~0x7F)) { if ((c>=65&&c<=90) || (c>=97&&c<=122) || (c>=48&&c<=57) || (c>=45&&c<=46) || c==95 || c==33 || c==126 || (c>=39&&c<=42)) es += String.fromCharCode(c) ; else es += toHex(c) ; } else if (!(c&~0x7FF)) es += toHex(0xC0+(c>>6)) + toHex(c&0x3F) ; else if (!(c&~0xFFFF)) es += toHex(0xE0+(c>>12)) + toHex(0x80+(c>>6&0x3F)) + toHex(0x80+(c&0x3F)) ; else es += toHex(0xF0+(c>>18)) + toHex(0x80+(c>>12&0x3F)) + toHex(0x80+(c>>6&0x3F)) + toHex(0x80+(c&0x3F)) ; } return es ; } } function include_script (type, defer, src, charset) { var script = document.createElement(\"script\") ; script.type = type, script.defer = defer ; script.src = src ; if (charset) script.charset = charset ; else script.charset = \\'utf-8\\' ; document.getElementsByTagName(\\'head\\')[0].appendChild(script) ; return script ; } function include_style (src, charset) { var h = document.getElementsByTagName(\"head\")[0] ; var l = document.createElement(\\'link\\') ; l.type = \\'text/css\\' ; l.rel = \\'stylesheet\\' ; if (charset) l.charset = charset ; else l.charset = \\'utf-8\\' ; l.media = \\'screen\\' ; l.href = src ; h.appendChild(l) ; } function bt (id, after) { document.getElementById(id).src = after ; } function tt_sub_disable (o) { if (typeof(o.tt_sub) == \"undefined\") return false ; if ((typeof(o.tt_sub) == \"object\") && (o.tt_sub.length)) { var i ; for (var i=0; i<o.tt_sub.length; i++) o.tt_sub[i].disabled = true ; } else o.tt_sub.disabled = true ; return true ; } function cpip () { var evt, sx = sy = px = py = -1 ; try { evt = window.event ; } catch (e) {} try { sx=evt.clientX-document.body.clientLeft, sy=evt.clientY-document.body.clientTop ; } catch (e) {} try { px=document.body.scrollLeft+(sx<0?0:sx), py=document.documentElement.scrollTop+(sy<0?0:sy) ; } catch (e) {} try { if (evt.pageX) px=evt.pageX ; if (evt.pageY) py=evt.pageY ; } catch (e) {} return \"px=\"+px+\"&py=\"+py+\"&sx=\"+sx+\"&sy=\"+sy ; } function nxGetCommonCRParam () { return \"p=\"+g_puid+\"&q=\"+g_query+\"&ssc=\"+g_ssc+\"&f=\"+g_tab+\"&w=\"+g_stab+\"&s=\"+g_suid+\"&time=\"+(new Date()).getTime()+g_crt ; } function getCRRankingByParam (p, info) { if (typeof info == \\'undefined\\' || info == null) return 0 ; var cr = 0 ; try { var y, z ; var y = p.split(\\'&\\') ; for (var i = 0; i < y.length; i++) { if (z = y[i].split(\\'=\\')) { if (z[0] == \\'a\\') { for (var j = 0; j < info.length; j++) { if (z[1].substr(0, info[j].n.length) == info[j].n) { cr = info[j].r ; break ; } } break ; } } } } catch (e) { } return cr ; } function getCRRanking (p) { var cr = 0 ; if (typeof nx_cr_area_info != \\'undefined\\') cr = getCRRankingByParam(p, nx_cr_area_info) ; if (cr) return cr ; if (typeof nx_cr_right_area_info != \\'undefined\\') cr = getCRRankingByParam(p, nx_cr_right_area_info) ; return cr ; } function isOutlink (u) { if (!u || u.indexOf(\"://\") < 0) return false; var b = (u.search(/^\\\\w*:\\\\/\\\\/([^:/?]*\\\\.|)*(?!(ad)?cr\\\\.)[^.:/?]+\\\\.+naver\\\\.com(:\\\\d*)?(\\\\/|$)/) < 0);  return b; } function nxGetCRURL (m, a, b, c, d, e) { var p = \"\" ; var u ; if (c==undefined && d==undefined && e==undefined) { p = (a==undefined?\"\":\"&\"+a) + (b==undefined || a.indexOf(\"u=\")==0 || a.indexOf(\"&u=\") > 0 ?\"\":\"&u=\"+urlencode(b)) ; u = b ; } else { p = (a==undefined ? \"\" : \"&a=\"+urlencode(a)) + (b==undefined ? \"\" : \"&r=\"+urlencode(b)) + (c==undefined ? \"\" : \"&i=\"+urlencode(c)) + (d==undefined ? \"\" : \"&u=\"+urlencode(d)) + (e==undefined ? \"\" : \"&\"+e) ; u = d ; } if (! p) return null ; var url ; if (naver.search.https) { url = (naver.search.meta_referrer ? \"/p/crd\" : \"/p/cr\") + \"/rd\"; if (m != 0) m = 1; } else { out = isOutlink(u); url = \"http://cr.naver.com\" + (g_D && out ? \"/nr\" : \"/rd\"); if (m != 0) m = g_D && out ? 2 : 1; } url += \"?m=\" + m + \"&\" + cpip() + \"&\" + nxGetCommonCRParam() + p; return url; } function tCR (a, b, c, d, e) { var l = nxGetCRURL(0, a, b, c, d, e) ; var cr = getCRRanking(l) ; if (cr > 0) l = l + \"&cr=\" + cr ; if (document.images) (new Image()).src = l ; else document.location = l ; return false ; } function gCR (u, a, r, i, e, t) { if (u) u = urlexpand(u) ; var l = nxGetCRURL(1, a, r, i, u, e) ; var o = document.createElement(\"a\") ; var cr = getCRRanking(l) ; if (cr > 0) l = l + \"&cr=\" + cr ; if (o.click) { o.href = l ; o.style.display = \"none\" ; document.body.appendChild(o) ; o.click() ; } else document.location = l ; } function goCR (o, p, t) { var u = o.href ; tt_sub_disable(o) ; if (p.indexOf(\"u=javascript\") >= 0) t = true ; var n = (o.ownerDocument==document && o.target && o.target!=\"_self\" && o.target!=\"_parent\" && o.target!=\"_top\") && !(window.location.protocol&&window.location.protocol.indexOf(\"https:\")==0) ; var cr = getCRRanking(p) ; if (cr > 0) p = p + \"&cr=\" + cr ;  if (!(u && u.indexOf(\"http://cr.naver.com/\")==0) && !(o.getAttribute !== undefined && o.getAttribute(\"crurl\"))) { if (0 && u && u.indexOf(\"/search.naver?\") >= 0) { var str = \"\" ; if (0) u += \"&crcp=1\", str += urlencode(\"&crcp=1\") ; if (0) u += \"&debug=1\", str += urlencode(\"&debug=1\") ; p = p.replace(/(((?:^|&)u=).*\\\\/search.naver%3F[^&]*)/, \\'$1\\' + str) ; } u = nxGetCRURL(t?0:(n?-1:1), p, u) ; } if (u && !u.match(/m=0&/)) { var a = o.innerHTML ; if (g_D && naver.search.https && naver.search.meta_referrer && o.href && isOutlink(o.href)) o.setAttribute(\"rel\", \"noreferrer\"); o.href = u ; if (o.getAttribute !== undefined) o.setAttribute(\"crurl\", \"1\"); if (o.innerHTML != a) o.innerHTML = a ; } else if (document.images) (new Image()).src = u ; return true ; } function goOtherCR (o, p) { return goCR(o, p, false) ; } function goOtherTCR (o, p) { return goCR(o, p, true) ; } function get_form_url (o) { var url = o.getAttribute(\"action\") ; if (url == null) url = \"\" ; var e, n = 0 ; for (var i=0; i<o.elements.length; i++) { e = o.elements[i] ; if (e.disabled || !e.name) continue ; url += (n++>0?\"&\":url.indexOf(\"?\")<0?\"?\":url.indexOf(\"?\")<url.length-1?\"&\":\"\") + encodeURIComponent(e.name) + \"=\" + encodeURIComponent(e.value) ; } return url ; } function formCR (o, area, rank, id) { if (typeof o == \\'string\\') o = document.getElementById(o) ; var target = o.getAttribute(\"target\") ; if (target && target!=\"_self\" && target!=\"_parent\" && target!=\"_top\" || /^post$/i.test(o.getAttribute(\"method\"))) { tCR(area, rank, id) ; o.submit() ; return false ; } var url = get_form_url(o) ; var a = document.createElement(\"a\") ; a.href = url ; var p = area != undefined ? \"a=\" + area : \"\" ; if (rank != undefined) p += (p?\"&\":\"\") + \"r=\" + encodeURIComponent(rank) ; if (id != undefined) p += (p?\"&\":\"\") + \"i=\" + encodeURIComponent(id) ; if (url != undefined) p += (p?\"&\":\"\") + \"u=\" + encodeURIComponent(urlexpand(url)) ; goCR(a, p) ; if (navigator.userAgent.indexOf(\\'MSIE\\') > 0) { a.style.display = \\'none\\' ; o.appendChild(a) ; a.click() ; } else document.location = a.href ; return false ; } function goHist (o, a, e) { return true ; } function rank_val (rank, name, sign, number, ad_onair) { this.rank = rank ; this.name = name ; this.sign = sign ; this.number = number ; this.ad_onair = ad_onair ; } function rr_hotquery_val (titleImg, totalLink, ad_onair) { this.titleImg = titleImg ; this.totalLink = totalLink ; this.ad_onair = ad_onair ; } function rr_append () { for (var i=0; i<rr_list.length; i++) if (rr_list[i].qname==hotqry_Name && rr_list[i].dir==hotqry_Dir) return 0 ; var o = { order:hotqry_Order, contid:hotqry_ContID, qname:hotqry_Name, dir:hotqry_Dir, toprank:hotqry_TopRank, rankdown:hotqry_RankDown, clicklog:hotqry_ClickLog, toprank_idx:toprank_idx, lowrank_idx:lowrank_idx, topranklist:toprank, lowranklist:lowrank_idx>=0?lowrank:null } ; rr_list = rr_list.concat(o) ; return 1 ; } function winload (str) { w = 870, h = 651 ; ww = 880, hh = 700 ; l = (screen.availWidth/2) - (ww/2) ; t = (screen.availHeight/2) - (hh/2) ; window.open(str,\"sdsgis\",\"top=\"+t+\",left=\"+l+\",width=\"+w+\",height=\"+h+\",status=yes,resizable=yes,toolbars=no,location=no,scrollbars=no\") ; } function winload_map (str) { t = 0; l = 0; w = screen.availWidth - 10; h = screen.availHeight - 30; window.open(str,\"sdsgis\",\"top=\"+t+\",left=\"+l+\",width=\"+w+\",height=\"+h+\",status=yes,resizable=yes,toolbars=no,location=no,scrollbars=yes\") ; } function sitevalue (title, sid) { var target_name = \"value\" ; window.open(\"about:blank\", target_name, \"width=380, height=343, resizable=no, menubar=no, statusbar=no, scrollbar=no\") ; siteform.action = \"http://dir.naver.com/siteview/sitevalue.php\"; siteform.target = target_name ; siteform.title.value = title ; siteform.sid.value = sid ; siteform.pageid.value = g_puid ; siteform.sessionid.value = g_suid ; siteform.submit() ; return false ; } function open_mapbrowser (x, y, scale, title) { var host = \"http://maps.naver.com\" ; if (x == null) x = \"\" ; else x = new String(x) ; if (y == null) y = \"\" ; else y = new String(y) ; if (title == null) title = \"\" ; if (x.indexOf(\".\")>=0 && y.indexOf(\".\")>=0) { if (x>=122.8957333 && x<=133.4503243 && y>=31.1396418 && y<=43.4549896) host = \"http://map.naver.com\" ; } win = window.open(host+\"/?x=\"+x+\"&y=\"+y+\"&title=\"+title, \"_blank\") ; win.focus() ; } function open_mapbrowser_etc (args, t) { var host = \"http://maps.naver.com\" ; if (t && t==1) host = \"http://map.naver.com\" ; if (args == null) args=\"\" ; win = window.open(host+\"/?\"+args, \"_blank\") ; if (win != null) { win.focus() ; return true ; } else return false ; } function nx_open_mapbrowser (x, y, scale, title, id, type) { var host = \"http://map.naver.com\" ; var param ; if (x == null) x = \"\" ; else x = new String(x) ; if (y == null) y = \"\" ; else y = new String(y) ; if (title == null) title = \"\" ; if (arguments.length <= 4) param = host+\"/?x=\"+x+\"&y=\"+y+\"&title=\"+title ; else param = host+\"/index.nhn?enc=utf8&mapMode=0&level=2&lng=\"+x+\"&lat=\"+y+\"&pinTitle=\"+title+\"&pinId=\"+id+\"&pinType=\"+type ; win = window.open(param, \"_blank\") ; win.focus() ; } function nx_open_mapbrowser_etc (args, t) { var host = \"http://map.naver.com\" ; if (args == null) args=\"\" ; win = window.open(host+\"/?\"+args, \"_blank\") ; if (win != null) { win.focus() ; return true ; } else return false ; } function goMap (txtAddr, txtX, txtY, rAddr, rTel) { if (txtX == \"\") alert(txtAddr+\\'을 찾을 수 없습니다. 다른 조건을 가지고 검색하여 주십시요.\\') ; else winload_map(\\'http://map.naver.com/view?item=\\'+txtAddr+\\'&x=\\'+txtX+\\'&y=\\'+txtY+\\'&strAddr=\\'+rAddr+\\'&strTel=\\'+rTel) ; } function goSanghoMap (encTitle, x, y, encAddr, encTel) { var v_args = \"&x=\" + x + \"&y=\"+ y + \"&title=\" + encTitle + \"&address=\" + encAddr + \"&tel=\" + encTel ; open_mapbrowser_etc(v_args) ; } function nx_onkeydown (e) { function cancel_event (event) { if (event.preventDefault) { event.preventDefault() ; event.stopPropagation() ; } else event.returnValue = false ; } function ignore_input (e, k, c) { var el = e.target || e.srcElement ; var el_upper = el && el.tagName ? el.tagName.toUpperCase() : \"\" ; if (el_upper == \"INPUT\" || el_upper == \"SELECT\" || el_upper == \"TEXTAREA\" || el_upper == \"EMBED\" || el_upper == \"OBJECT\") return true ; else if (k & m.ALT) return true ; else if (k == m.CTRL && c != 86) return true ; else if (k & m.META || c == 91 || c == 224) return true ; return false ; } try { if (typeof(e) == \\'undefined\\') e = event ; var f = document.getElementsByName(\"search\")[0] ; var k = 0, c = 0 ; var m = { ALT:1, CTRL:2, SHIFT:4, META:8 } ; if ((typeof(e.altKey) != \\'undefined\\') ? e.altKey : (e.modifiers & Event.ALT_MASK > 0)) k |= m.ALT ; if ((typeof(e.ctrlKey) != \\'undefined\\') ? e.ctrlKey : (e.modifiers & Event.CONTROL_MASK > 0)) k |= m.CTRL ; if ((typeof(e.shiftKey) != \\'undefined\\') ? e.shiftKey : (e.modifiers & Event.SHIFT_MASK > 0)) k |= m.SHIFT ; if ((typeof(e.metaKey) != \\'undefined\\') && e.metaKey) k |= m.META ; c = e.keyCode ? e.keyCode : e.which ; if (ignore_input(e, k, c)) return true ; if (((k === 0 || k === m.SHIFT) && (c === 21 || c === 229)) || (k === m.SHIFT && c === 32) || c === 113 || c === 45) { cancel_event(e) ; scrollTo(0, 0) ; f.query.focus() ; f.query.select() ; return false ; } else if (c > 44) { scrollTo(0, 0) ; f.query.value = \\'\\' ; f.query.focus() ; f.query.select() ; return true ; } } catch (err) {} return true ; } function Init () { if (document.captureEvents && Event.KEYDOWN) document.captureEvents (Event.KEYDOWN) ; document.onkeydown = nx_onkeydown ; } var msg_hidden_idle=null; function msg (id) { if(msg_hidden_idle) clearInterval(msg_hidden_idle); if(id) { var mid=document.getElementById(id); mid.style.display=\\'\\'; mid.style.visibility=\\'visible\\'; } } function msg_hidden (id, f) { if(f) hidden(id); else msg_hidden_idle=setInterval(\"hidden(\\'\"+id+\"\\')\",100); } function hidden (id) { var mid=document.getElementById(id); mid.style.display=\\'none\\'; mid.style.visibility=\\'hidden\\'; } function nx_check_basic () { return ; } function nx_set_cookie (name, value, expire, domain) { var cookie = name + \"=\" + escape(value); if (expire != null) { if (expire instanceof Date) { cookie = cookie + \"; expires=\" + expire.toUTCString(); } else { var exdate = new Date((new Date()).getTime() + expire*1000); cookie = cookie + \"; expires=\" + exdate.toUTCString(); } } cookie = cookie + \"; path=/\"; if (domain != null) { cookie = cookie + \"; domain=\" + domain; } document.cookie = cookie; } function nx_get_cookie (name) { var cookie_list = document.cookie.split(/\\\\s*;\\\\s*/); for (var i = 0; i < cookie_list.length; i++) { var tmp_list = cookie_list[i].split(\"=\"); var c_name = trim_space(tmp_list[0]); var c_value = tmp_list[1]; if (name == c_name) { return unescape(c_value); } } return null; } var nx_default_charset = document.charset ; function nx_form_emul_charset (form) { if (/msie/i.test(navigator.userAgent) && !/opera/i.test(navigator.userAgent)) { document.charset = form.acceptCharset ; window.onbeforeunload = function () { document.charset = nx_default_charset ; } ; } return true; } Init() ; (function(exportTarget) { var lcs_options = { nnb: true }; var lcs_version = \"v0.8.0\"; var lcs_add = {}; var lcs_bc = {}; var lcs_perf = {}; var lcs_do_count = 0; var lcs_do_retry_count = 0; var lcs_waiting_pageshow = false; function lcs_do(optional_etc) { var etc = optional_etc || {}; if (lcs_waiting_pageshow) { return; } var retry = function(__etc) { return function() { window.setTimeout(function() { lcs_waiting_pageshow = false; lcs_do(__etc); }, 10); } }(etc); if (document.readyState !== \"complete\") { var eventName = \"onpageshow\" in window ? \"pageshow\" : \"load\"; if (document.addEventListener) { window.addEventListener(eventName, retry, false); } else { window.attachEvent(\"on\"+ eventName, retry); } lcs_do_retry_count++; lcs_waiting_pageshow = true; return; } if (!window.lcs_SerName) { window.lcs_SerName = \"lcs.naver.com\"; } var rs = \"\"; var index; var itarVal; var doc = document; var wlt = window.location; var lcsServerAddr; try { lcsServerAddr = (wlt.protocol ? wlt.protocol : \"http:\") + \"//\" + window.lcs_SerName + \"/m?\"; } catch (e) { return; } try { rs = lcsServerAddr + \"u=\" + encodeURIComponent(wlt.href) + \"&e=\" + (doc.referrer ? encodeURIComponent(doc.referrer) : \"\"); } catch (e) {} try { if (typeof lcs_add.i == \"undefined\") lcs_add.i = \"\"; if (lcs_do_count < 1) { lcs_setBrowserCapa(); if (lcs_options.nnb) { lcs_setNNB(); } lcs_add[\"ct\"] = lcs_getConnectType(); lcs_setNavigationTiming(); var loadEventStart = lcs_perf[\"loadEventStart\"] || 0; var loadEventEnd = lcs_perf[\"loadEventEnd\"] || 0; if (loadEventEnd < loadEventStart && lcs_do_retry_count < 3) { lcs_do_retry_count++; lcs_waiting_pageshow = true; retry(); return; } lcs_setPaintTiming(); lcs_setNavigationType(); } for (index in lcs_bc) { if (typeof lcs_bc[index] !== \"function\") rs += \"&\" + index + \"=\" + encodeURIComponent(lcs_bc[index]); } for (index in lcs_add) { itarVal = lcs_add[index]; if (itarVal !== undefined && typeof itarVal !== \"function\") { rs += \"&\" + index + \"=\" + encodeURIComponent(itarVal); } } if (lcs_do_count < 1) { for (index in lcs_perf) { itarVal = lcs_perf[index]; if (itarVal) { rs += \"&\" + index + \"=\" + encodeURIComponent(itarVal); } } } var dni = !!etc.dni ? etc.dni : getCookie(\"NAPP_DI\"); if (!!dni) { etc.dni = dni; } else { delete etc.dni; } for (index in etc) { if ( (index.length >= 3 && typeof etc[index] !== \"function\") || index === \"qy\" ) { rs += \"&\" + index + \"=\" + encodeURIComponent(etc[index]); } } if (!!etc === false || !!etc.pid === false) { var pidFallback; if (window.g_pid) { pidFallback = g_pid; } else { pidFallback = lcs_get_lpid(); } rs += \"&pid=\" + encodeURIComponent(pidFallback); } var timeStr = new Date().getTime(); rs += \"&ts=\" + timeStr; rs += \"&EOU\"; var obj = document.createElement(\"img\"); obj.src = rs; obj.onload = function() { obj.onload = null; return; }; lcs_do_count++; } catch (e) { return; } } function getCookie(name) { var value = document.cookie.match(\\'(^|;) ?\\' + name + \\'=([^;]*)(;|$)\\'); return value? value[2] : \"\"; } function lcs_do_gdid(gdid, etc) { try { if (gdid) { lcs_add[\"i\"] = gdid; if (etc) { lcs_do(etc); } else { lcs_do(); } } } catch (e) {} } function getLocalStorage() { var localStorage = null; try { localStorage = window.localStorage; } catch (e) {} try { if (!localStorage) localStorage = window.sessionStorage; } catch (e) {} return localStorage || null; } function lcs_setNNB() { try { var lsg = getLocalStorage(); if (lsg) { if (lsg.ls) { var lc = lsg.ls; if (lc.length == 13) { lcs_add[\"ls\"] = lc; return; } } var nnb = lcs_getNNBfromCookie(); if (nnb != null && nnb != \"\") { lsg.ls = nnb; lcs_add[\"ls\"] = nnb; } } } catch (e) {} } function lcs_setBrowserCapa() { lcs_bc[\"os\"] = lcs_getOS(); lcs_bc[\"ln\"] = lcs_getlanguage(); lcs_bc[\"sr\"] = lcs_getScreen(); lcs_bc[\"pr\"] = window.devicePixelRatio || 1; var windowSize = lcs_getWindowSize(); lcs_bc[\"bw\"] = windowSize[\"bw\"]; lcs_bc[\"bh\"] = windowSize[\"bh\"]; lcs_bc[\"c\"] = lcs_getColorDepth(); lcs_bc[\"j\"] = lcs_getJavaEnabled(); lcs_bc[\"k\"] = lcs_getCookieEnabled(); } function lcs_getOS() { var lcs_os = \"\"; try { navigator.platform ? (lcs_os = navigator.platform) : \"\"; } catch (e) {} return lcs_os; } function lcs_getlanguage() { var lcs_ln = \"\"; try { navigator.userLanguage ? (lcs_ln = navigator.userLanguage) : navigator.language ? (lcs_ln = navigator.language) : \"\"; } catch (e) {} return lcs_ln; } function lcs_getScreen() { var lcs_sr = \"\"; try { if (window.screen && screen.width && screen.height) { lcs_sr = screen.width + \"x\" + screen.height; } else if (window.java || self.java) { var sr = java.awt.Toolkit.getDefaultToolkit().getScreenSize(); lcs_sr = sr.width + \"x\" + sr.height; } } catch (e) { lcs_sr = \"\"; } return lcs_sr; } function lcs_getWindowSize() { var doc = document; var size = { bw: \"\", bh: \"\" }; try { size[\"bw\"] = doc.documentElement.clientWidth ? doc.documentElement.clientWidth : doc.body.clientWidth; size[\"bh\"] = doc.documentElement.clientHeight ? doc.documentElement.clientHeight : doc.body.clientHeight; } catch (e) {} return size; } function lcs_getColorDepth() { var colorDepth = \"\"; try { if (window.screen) { colorDepth = screen.colorDepth ? screen.colorDepth : screen.pixelDepth; } else if (window.java || self.java) { var c = java.awt.Toolkit.getDefaultToolkit() .getColorModel() .getPixelSize(); colorDepth = c; } } catch (e) { colorDepth = \"\"; } return colorDepth; } function lcs_getJavaEnabled() { var jsEnable = \"\"; try { jsEnable = navigator.javaEnabled() ? \"Y\" : \"N\"; } catch (e) {} return jsEnable; } function lcs_getCookieEnabled() { var cookieEnable = \"\"; try { cookieEnable = navigator.cookieEnabled ? \"Y\" : \"N\"; } catch (e) {} return cookieEnable; } function lcs_getNNBfromCookie() { try { var ck = document.cookie; var k, v, i, ArrCookies = ck.split(\";\"); for (i = 0; i < ArrCookies.length; i++) { k = ArrCookies[i].substr(0, ArrCookies[i].indexOf(\"=\")); v = ArrCookies[i].substr(ArrCookies[i].indexOf(\"=\") + 1); k = k.replace(/^s+|s+$/g, \"\"); if (k == \"NNB\") { return unescape(v); } } } catch (e) {} } function lcs_getConnectType() { var ct = \"\"; try { var conn = navigator.connection || navigator.mozConnection || navigator.webkitConnection; if (conn && typeof conn.type != \"undefined\") { switch (conn.type) { case conn.CELL_2G: ct = \"2g\"; break; case conn.CELL_3G: ct = \"3g\"; break; case conn.CELL_4G: ct = \"4g\"; break; case conn.WIFI: ct = \"wifi\"; break; case conn.ETHERNET: ct = \"eth\"; break; case conn.UNKNOWN: ct = \"unknown\"; break; case conn.NONE: ct = \"none\"; break; default: ct = \"\"; } } else if ( typeof blackberry != \"undefined\" && typeof blackberry.network != \"undefined\" ) { var bnet = blackberry.network; if (bnet == \"Wi-Fi\") { ct = \"wifi\"; } else if (bnet == \"3G\") { ct = \"3g\"; } else { ct = bnet; } } else { var lcs_isie = navigator.appName == \"Microsoft Internet Explorer\"; var lcs_ismac = navigator.userAgent.indexOf(\"MAC\") >= 0; if (lcs_isie && !lcs_ismac && bd && bd.addBehavior) { var bd = document.body; var lcs_ct = \"\"; var obj = bd.addBehavior(\"#default#clientCaps\"); ct = bd.connectionType; bd.removeBehavior(obj); } } } catch (e) { console.warn(e); } return ct; } function lcs_setNavigationTiming() { var performance = window.performance || {}; if (performance.timing) { var pt = performance.timing; for (var key in pt) { var value = pt[key]; if (typeof value === \"number\") { lcs_perf[key] = value; } } } } function lcs_setPaintTiming() { var performance = window.performance || {}; try { if (performance.getEntriesByType) { var performanceEntries = performance.getEntriesByType(\"paint\"); performanceEntries.forEach(function(performanceEntry, i, entries) { var name = performanceEntry.name; switch (name) { case \"first-paint\": case \"first-contentful-paint\": lcs_perf[name] = performanceEntry.startTime; break; default: break; } }); } else { } } catch (e) { console.warn(e); } } function lcs_setNavigationType() { var ngt = getNavigationType(); if (ngt !== undefined) { lcs_perf[\"ngt\"] = ngt; } } function getNavigationType() { var performance = window.performance || {}; if (performance.navigation) { return performance.navigation.type; } return; } var lpid = null; function lcs_create_lpid() { var uaID; var lsg = getLocalStorage(); var nnb = lsg ? lsg.ls : null; if (nnb) { uaID = nnb; } else { var nnbFallback; nnbFallback = navigator.userAgent + Math.random(); uaID = nnbFallback; } var performance = window.performance || {}; var pageURL = location.href; var currentTime; if (performance.now) { currentTime = performance.now(); } else { currentTime = new Date().getTime(); } lpid = hashFunction.md5(uaID + pageURL + currentTime); return lpid; } function lcs_get_lpid() { if (lpid === null) { lpid = lcs_create_lpid(); } return lpid; } function lcs_update_lpid() { lpid = lcs_create_lpid(); return lpid; } var hashFunction = {}; (function(exportTarget) { function safeAdd(x, y) { var lsw = (x & 0xffff) + (y & 0xffff); var msw = (x >> 16) + (y >> 16) + (lsw >> 16); return (msw << 16) | (lsw & 0xffff); } function bitRotateLeft(num, cnt) { return (num << cnt) | (num >>> (32 - cnt)); } function md5cmn(q, a, b, x, s, t) { return safeAdd( bitRotateLeft(safeAdd(safeAdd(a, q), safeAdd(x, t)), s), b ); } function md5ff(a, b, c, d, x, s, t) { return md5cmn((b & c) | (~b & d), a, b, x, s, t); } function md5gg(a, b, c, d, x, s, t) { return md5cmn((b & d) | (c & ~d), a, b, x, s, t); } function md5hh(a, b, c, d, x, s, t) { return md5cmn(b ^ c ^ d, a, b, x, s, t); } function md5ii(a, b, c, d, x, s, t) { return md5cmn(c ^ (b | ~d), a, b, x, s, t); } function binlMD5(x, len) { x[len >> 5] |= 0x80 << len % 32; x[(((len + 64) >>> 9) << 4) + 14] = len; var i; var olda; var oldb; var oldc; var oldd; var a = 1732584193; var b = -271733879; var c = -1732584194; var d = 271733878; for (i = 0; i < x.length; i += 16) { olda = a; oldb = b; oldc = c; oldd = d; a = md5ff(a, b, c, d, x[i], 7, -680876936); d = md5ff(d, a, b, c, x[i + 1], 12, -389564586); c = md5ff(c, d, a, b, x[i + 2], 17, 606105819); b = md5ff(b, c, d, a, x[i + 3], 22, -1044525330); a = md5ff(a, b, c, d, x[i + 4], 7, -176418897); d = md5ff(d, a, b, c, x[i + 5], 12, 1200080426); c = md5ff(c, d, a, b, x[i + 6], 17, -1473231341); b = md5ff(b, c, d, a, x[i + 7], 22, -45705983); a = md5ff(a, b, c, d, x[i + 8], 7, 1770035416); d = md5ff(d, a, b, c, x[i + 9], 12, -1958414417); c = md5ff(c, d, a, b, x[i + 10], 17, -42063); b = md5ff(b, c, d, a, x[i + 11], 22, -1990404162); a = md5ff(a, b, c, d, x[i + 12], 7, 1804603682); d = md5ff(d, a, b, c, x[i + 13], 12, -40341101); c = md5ff(c, d, a, b, x[i + 14], 17, -1502002290); b = md5ff(b, c, d, a, x[i + 15], 22, 1236535329); a = md5gg(a, b, c, d, x[i + 1], 5, -165796510); d = md5gg(d, a, b, c, x[i + 6], 9, -1069501632); c = md5gg(c, d, a, b, x[i + 11], 14, 643717713); b = md5gg(b, c, d, a, x[i], 20, -373897302); a = md5gg(a, b, c, d, x[i + 5], 5, -701558691); d = md5gg(d, a, b, c, x[i + 10], 9, 38016083); c = md5gg(c, d, a, b, x[i + 15], 14, -660478335); b = md5gg(b, c, d, a, x[i + 4], 20, -405537848); a = md5gg(a, b, c, d, x[i + 9], 5, 568446438); d = md5gg(d, a, b, c, x[i + 14], 9, -1019803690); c = md5gg(c, d, a, b, x[i + 3], 14, -187363961); b = md5gg(b, c, d, a, x[i + 8], 20, 1163531501); a = md5gg(a, b, c, d, x[i + 13], 5, -1444681467); d = md5gg(d, a, b, c, x[i + 2], 9, -51403784); c = md5gg(c, d, a, b, x[i + 7], 14, 1735328473); b = md5gg(b, c, d, a, x[i + 12], 20, -1926607734); a = md5hh(a, b, c, d, x[i + 5], 4, -378558); d = md5hh(d, a, b, c, x[i + 8], 11, -2022574463); c = md5hh(c, d, a, b, x[i + 11], 16, 1839030562); b = md5hh(b, c, d, a, x[i + 14], 23, -35309556); a = md5hh(a, b, c, d, x[i + 1], 4, -1530992060); d = md5hh(d, a, b, c, x[i + 4], 11, 1272893353); c = md5hh(c, d, a, b, x[i + 7], 16, -155497632); b = md5hh(b, c, d, a, x[i + 10], 23, -1094730640); a = md5hh(a, b, c, d, x[i + 13], 4, 681279174); d = md5hh(d, a, b, c, x[i], 11, -358537222); c = md5hh(c, d, a, b, x[i + 3], 16, -722521979); b = md5hh(b, c, d, a, x[i + 6], 23, 76029189); a = md5hh(a, b, c, d, x[i + 9], 4, -640364487); d = md5hh(d, a, b, c, x[i + 12], 11, -421815835); c = md5hh(c, d, a, b, x[i + 15], 16, 530742520); b = md5hh(b, c, d, a, x[i + 2], 23, -995338651); a = md5ii(a, b, c, d, x[i], 6, -198630844); d = md5ii(d, a, b, c, x[i + 7], 10, 1126891415); c = md5ii(c, d, a, b, x[i + 14], 15, -1416354905); b = md5ii(b, c, d, a, x[i + 5], 21, -57434055); a = md5ii(a, b, c, d, x[i + 12], 6, 1700485571); d = md5ii(d, a, b, c, x[i + 3], 10, -1894986606); c = md5ii(c, d, a, b, x[i + 10], 15, -1051523); b = md5ii(b, c, d, a, x[i + 1], 21, -2054922799); a = md5ii(a, b, c, d, x[i + 8], 6, 1873313359); d = md5ii(d, a, b, c, x[i + 15], 10, -30611744); c = md5ii(c, d, a, b, x[i + 6], 15, -1560198380); b = md5ii(b, c, d, a, x[i + 13], 21, 1309151649); a = md5ii(a, b, c, d, x[i + 4], 6, -145523070); d = md5ii(d, a, b, c, x[i + 11], 10, -1120210379); c = md5ii(c, d, a, b, x[i + 2], 15, 718787259); b = md5ii(b, c, d, a, x[i + 9], 21, -343485551); a = safeAdd(a, olda); b = safeAdd(b, oldb); c = safeAdd(c, oldc); d = safeAdd(d, oldd); } return [a, b, c, d]; } function binl2rstr(input) { var i; var output = \"\"; var length32 = input.length * 32; for (i = 0; i < length32; i += 8) { output += String.fromCharCode((input[i >> 5] >>> i % 32) & 0xff); } return output; } function rstr2binl(input) { var i; var output = []; output[(input.length >> 2) - 1] = undefined; for (i = 0; i < output.length; i += 1) { output[i] = 0; } var length8 = input.length * 8; for (i = 0; i < length8; i += 8) { output[i >> 5] |= (input.charCodeAt(i / 8) & 0xff) << i % 32; } return output; } function rstrMD5(s) { return binl2rstr(binlMD5(rstr2binl(s), s.length * 8)); } function rstrHMACMD5(key, data) { var i; var bkey = rstr2binl(key); var ipad = []; var opad = []; var hash; ipad[15] = opad[15] = undefined; if (bkey.length > 16) { bkey = binlMD5(bkey, key.length * 8); } for (i = 0; i < 16; i += 1) { ipad[i] = bkey[i] ^ 0x36363636; opad[i] = bkey[i] ^ 0x5c5c5c5c; } hash = binlMD5(ipad.concat(rstr2binl(data)), 512 + data.length * 8); return binl2rstr(binlMD5(opad.concat(hash), 512 + 128)); } function rstr2hex(input) { var hexTab = \"0123456789abcdef\"; var output = \"\"; var x; var i; for (i = 0; i < input.length; i += 1) { x = input.charCodeAt(i); output += hexTab.charAt((x >>> 4) & 0x0f) + hexTab.charAt(x & 0x0f); } return output; } function str2rstrUTF8(input) { return unescape(encodeURIComponent(input)); } function rawMD5(s) { return rstrMD5(str2rstrUTF8(s)); } function hexMD5(s) { return rstr2hex(rawMD5(s)); } function rawHMACMD5(k, d) { return rstrHMACMD5(str2rstrUTF8(k), str2rstrUTF8(d)); } function hexHMACMD5(k, d) { return rstr2hex(rawHMACMD5(k, d)); } function md5(string, key, raw) { if (!key) { if (!raw) { return hexMD5(string); } return rawMD5(string); } if (!raw) { return hexHMACMD5(key, string); } return rawHMACMD5(key, string); } exportTarget.md5 = md5; })(hashFunction); exportTarget.lcs_do = lcs_do; exportTarget.lcs_do_gdid = lcs_do_gdid; exportTarget.lcs_get_lpid = lcs_get_lpid; exportTarget.lcs_update_lpid = lcs_update_lpid; exportTarget.lcs_version = lcs_version; })(window); if (window.addEventListener) window.addEventListener(\"load\", function() { lcs_do({\"pid\": \"UflDwlprvTVssMcr4/RssssssfG-270154\"}) }, false) ; else lcs_do({\"pid\": \"UflDwlprvTVssMcr4/RssssssfG-270154\"}) ; </script> <script type=\"text/javascript\" src=\"https://ssl.pstatic.net/sstatic/sdyn.js?f=/au/pc/_nx/jindo_1.5.3_171116.js+/search/js/nhn.Component.js+/search/js/jindo.Component.1.1.0.js+/search/js/jindo.component.library_120927.js+/search/js/flashObject_121025.js+/au/pc/search_option/app_181122.js+/au/pc/naver_autocomplete/nhn.common.atcmp.naver_web_181127.js+/au/s/pc/_common/jindo/jindo.Rolling_140526.js+/au/pc/_common/nhn.common_181106.js+/au/pc/_nx/2017/nx_jquery_0622b.js+/au/pc/_nx/2019/nhn.common.ScriptErrorLogger.sauPc_0711a.js&o=search\" crossorigin=\"anonymous\"></script> <script type=\"text/javascript\"> var displayControlFuncObject ; var displayControlObject = { renderCount : 0, func : function () { if (this.renderCount > 5) return ; var elem = $Element(\\'content\\') ; if (! elem) return ; var child = elem.child() ; for (var i = 0; i < child.length; i++) { if (child[i].hasClass(\\'section\\') && !child[i].hasClass(\\'nx_no_control\\')) { if (!child[i].visible()) child[i].show() ; } } if (this.renderCount++ > 5) displayControlFuncObject.detach(window, \\'scroll\\') ; } } ; displayControlFuncObject = $Fn(displayControlObject.func, displayControlObject) ; displayControlFuncObject.attach(window, \\'scroll\\') ; </script> <script> if (0 && nhn.common.ScriptErrorLogger) { nhn.common.ScriptErrorLogger.sauPcStart(); } function nx_add_event_handler (event, func) { $Fn(func).attach(document, event) ; } </script> <script type=\"text/javascript\"> function nx_form_submit (f) { if (g_D || 0) f.action = \"\" ; if (typeof naver.search.option !== \\'undefined\\' && naver.search.option.mson) naver.search.option.append_params(f) ; return true ; } </script><script type=\"text/javascript\"> var g_site = \"\" ; function document_write (s) { document.write(s) ; } function nx_social_toggle (o) { var l = $Element($(\"social_use\")) ; if (o || l.hasClass(\\'on\\')) l.removeClass(\\'on\\') ; else l.addClass(\\'on\\') ; } $Fn(function() { $Fn(function(e) { var link = $$.getSingle(\"div.social_layer\", document.body); if (link) { var el = e.element; var wel = $Element(el); elLink = $Element(link).$value(); if (!(link && (el == link || wel.isChildOf(link)))) { var l = $Element($(\"social_use\")) ; if (o || l.hasClass(\\'on\\')) l.removeClass(\\'on\\') ; } } }).attach(document.body, \"click\"); }).attach(window, \"load\"); nhn.jsLazyLoad = { include: function(a, b, c) { nx_js_lazyload(a, b, 0) ; } } ; nx_js_defer_load(\"https://ssl.pstatic.net/sstatic/au/s/pc/_others/nxtt/search_om.js\", function() {NXTT.div=document.getElementById(\"nxtt_div\");}, 50); </script></head> <body class=\\'\\'> <div id=nxtt_div style=\"display:none;position:absolute;border-width:0;z-index:11000\"></div> <div id=\"u_skip\"> <a href=\"#lnb\"><span>메뉴 영역으로 바로가기</span></a> <a href=\"#content\"><span>본문 영역으로 바로가기</span></a> </div> <div id=\"wrap\"> <div id=\"header_wrap\" role=\"heading\"> <div class=\"header_group\"> <div class=\"search_area\"> <h1 class=\"special\"> <img src=\"https://ssl.pstatic.net/sstatic/search/nlogo/20190711171635.png\" width=\"330\" height=\"105\" usemap=\"#link_logo\" alt=\"네이버\"> <map id=\"link_logo\" name=\"link_logo\"> <area shape=\"rect\" coords=\"74,38,206,66\" href=\"https://www.naver.com\" onclick=\"return goOtherCR(this, \\'a=sta.naver&r=&i=&u=\\'+urlencode(this.href));\"> </map> </h1> <form id=\"nx_search_form\" name=\"search\" action=\"?\" method=\"get\" role=\"search\" onsubmit=\"return nx_form_submit(this)\"> <fieldset class=\"greenwindow\"> <legend>검색</legend> <input type=\"hidden\" name=\"sm\" value=\"tab_hty.top\"> <input type=\"hidden\" name=\"where\" value=\"nexearch\"> <div class=\"greenbox\"> <span class=\"keyword\"> <input type=\"text\" id=\"nx_query\" name=\"query\" class=\"box_window\" maxlength=255 accesskey=\"s\" value=\"박보영\" autocomplete=\"off\" title=\"검색어 입력\"> </span> </div> <input type=\"hidden\" name=\"oquery\" value=\"박보영\"> <input type=\"hidden\" name=\"tqi\" value=\"UflDwlprvTVssMcr4/RssssssfG-270154\"> <input type=\"hidden\" value=\"\" name=\"acq\" disabled> <input type=\"hidden\" value=\"\" name=\"acr\" disabled> <input type=\"hidden\" value=\"\" name=\"qdt\" disabled> <input type=\"hidden\" value=\"\" name=\"acir\" disabled> <input type=\"hidden\" value=\"\" name=\"os\" disabled> <input type=\"hidden\" value=\"\" name=\"bid\" disabled> <input type=\"hidden\" value=\"\" name=\"pkid\" disabled> <input type=\"hidden\" value=\"\" name=\"eid\" disabled> <input type=\"hidden\" value=\"\" name=\"mra\" disabled>       <div class=\"setkr_area\"> <!-- [D] 레이어 상태에 따라 title값 변화 필요 * 닫힌 경우 : title=\"한글 입력기 열기\" * 열린 경우 : title=\"한글 입력기 닫기\" --> <button id=\"ke_kbd_btn\" type=\"button\" class=\"bt_setkr\" title=\"한글 입력기 열기\" onclick=\"nx_ime_load(this);return tCR(\\'a=sch.ime\\');\"><span class=\"spnew ico_keyboard\">한글 입력기</span></button> <style type=\"text/css\" id=\"_nx_kbd_style\"></style><div id=\"_nx_kbd\" style=\"display:none;\"></div> </div> <!--@code lang=\"html\" title=\"[JS] 한글입력기 레이지 로딩 하거나 열기/닫기 수행.\"--> <script type=\"text/javascript\"> function nx_ime_load_fail () { alert(\"네트워크 상태가 안 좋아 한영입력기를 불러오지 못했습니다.\\\\n잠시 후 다시 시도해 주세요.\"); } function nx_ime_load (elBtn) { if (window.nx_kbd_toggle) { nx_kbd_toggle(elBtn); return; } new $Ajax(\"https://ssl.pstatic.net/sstatic/au/pc/ime/ime.contents_170920.js\", { type : \"jsonp\", timeout : 3, callbackid : \"$get_ime\", onload : function (res) { var oData = res.json(); if (oData) { var elStyle = $(\"_nx_kbd_style\"); oData.ime_css += \"#_nx_kbd .setkorhelp a { display:none; }\" ; if (elStyle.styleSheet) { elStyle.styleSheet.cssText = oData.ime_css; } else { elStyle.innerHTML = oData.ime_css; } $(\"_nx_kbd\").innerHTML = oData.ime_html; nx_js_lazyload(\"https://ssl.pstatic.net/sstatic/au/s/pc/_common/ime/nhn.ime_search_140825.js\", function () { nx_kbd_toggle(elBtn); }); } else { nx_ime_load_fail(); } }, ontimeout : nx_ime_load_fail, onerror : nx_ime_load_fail }).request(); } </script> <div id=\"nautocomplete\" class=\"autocomplete\"> <a href=\"#\" class=\"bt_atcp _btn_arw fold\" onclick=\"return false;\"><span class=\"blind _text\">자동완성 펼치기</span><span class=\"ico_arrow spnew\"></span></a> </div> <button type=\"submit\" class=\"bt_search\" onmouseover=\"$Element(this).addClass(\\'over\\');\" onmouseout=\"$Element(this).removeClass(\\'over down\\');\" onmousedown=\"$Element(this).removeClass(\\'over\\');$Element(this).addClass(\\'down\\');\"><span class=\"spnew ico_search\">검색</span></button> <div class=\"ly_atcmp\" id=\"nx_autoframe_top\" style=\"display:none;\"> <iframe frameborder=\"0\" title=\"빈프레임\" style=\"display:none;display:block\\\\9;display:block\\\\0/;position:absolute;top:-1px;left:-1px;z-index:-1;width:100%;height:100%;padding:1px;filter:alpha(opacity=0);opacity:0\"></iframe> <div class=\"api_atcmp_wrap _atcmp\" style=\"display:none;\"> <div class=\"words _words\"> <div class=\"_atcmp_result_wrap\"> <ul class=\"_resultBox\"></ul> <ul class=\"_resultBox\"></ul> <ul class=\"_resultBox\"></ul> <ul class=\"_resultBox\"></ul> </div> <div class=\"add_group _atcmp_answer_wrap\"></div> </div> <div class=\"atcmp_plus _plus\"> <span class=\"desc\"> <span class=\"plus_txt\">시간대와 관심사에 맞춘 <em class=\\'txt\\'>컨텍스트 자동완성</em></span> <a onclick=\"__atcmpCR(event, this, \\'plus.help\\', \\'\\',\\'\\',\\'\\');\" href=\"https://help.naver.com/support/alias/search/word/word_16.naver\" target=\"_blank\" class=\"spat ico_info\"><span class=\"blind\">도움말 보기</span></a> </span> <span class=\"switch _plus_btn\"> <a href=\"#\" class=\"btn_turnon active\" onclick=\"__atcmpCR(event, this, \\'plus.use\\', \\'\\',\\'\\',\\'\\');\">ON<span class=\"blind\">선택됨</span></a> <a href=\"#\" class=\"btn_turnoff\" onclick=\"__atcmpCR(event, this, \\'plus.unuse\\', \\'\\',\\'\\',\\'\\');\">OFF</a> </span> <div class=\"layer_plus _plusAlert\"> <strong class=\"tit\">컨텍스트 자동완성</strong> <div class=\"_logout\" style=\"display:block;\"> <p class=\"dsc\"><em class=\"txt\">동일한 시간대/연령/남녀별</em> 사용자 그룹의<br>관심사에 맞춰 자동완성을 제공합니다.</p> <div class=\"btn_area\"> <a onclick=\"__atcmpCR(event, this, \\'plus.login\\', \\'\\',\\'\\',\\'\\');\" href=\"https://nid.naver.com/nidlogin.login?url=https%3A%2F%2Fsearch.naver.com%2Fsearch.naver%3Fsm%3Dtab_hty.top%26where%3Dnexearch%26query%3D%25EB%25B0%2595%25EB%25B3%25B4%25EC%2598%2581\" class=\"btn btn_login\">로그인</a> <a onclick=\"__atcmpCR(event, this, \\'plus.detail\\', \\'\\',\\'\\',\\'\\');\" href=\"https://help.naver.com/support/alias/search/word/word_16.naver\" target=\"_blank\" class=\"btn btn_view\">자세히</a> </div> </div> <div class=\"_login\" style=\"display:none;\"> <p class=\"dsc\">ON/OFF설정은<br>해당 기기(브라우저)에 저장됩니다.</p> <div class=\"btn_area\"> <a onclick=\"__atcmpCR(event, this, \\'plus.detail\\', \\'\\',\\'\\',\\'\\');\" href=\"https://help.naver.com/support/alias/search/word/word_21.naver\" target=\"_blank\" class=\"btn btn_view\">자세히</a> </div> </div> <button type=\"button\" class=\"btn_close _close\" onclick=\"__atcmpCR(event, this, \\'plus.close\\', \\'\\',\\'\\',\\'\\');\"><i class=\"spat ico_close\">컨텍스트 자동완성 레이어 닫기</i></button> </div> </div> <p class=\"func _atcmpBtnGroup\"><span class=\"fl\"><a class=\"_help\" onclick=\"__atcmpCR(event, this, \\'help\\', \\'\\',\\'\\',\\'\\');\" href=\"https://help.naver.com/support/alias/search/word/word_17.naver\" target=\"_blank\">도움말</a><span class=\"atcmp_bar\"></span><a onclick=\"__atcmpCR(event, this, \\'report\\', \\'\\',\\'\\',\\'\\');\" href=\"https://help.naver.com/support/alias/search/word/word_18.naver\" target=\"_blank\" class=\"report\">신고</a></span><span><em><a class=\"hisoff\" href=\"javascript:;\">검색어저장 켜기</a><span class=\"atcmp_bar\"></span></em><a class=\"funoff\" href=\"javascript:;\">자동완성 끄기</a></span></p> <span class=\"atcmp_helper _help_tooltip1\">기능을 다시 켤 때는 <em class=\"ico_search spat\">검색창 오른쪽 화살표 버튼</em>을 클릭하세요</span> </div> <div class=\"api_atcmp_wrap _atcmpIng\" style=\"display:none;\"> <div class=\"words\"><p class=\"info_words\">현재 자동완성 기능을 사용하고 계십니다.</p></div> <p class=\"func _atcmpBtnGroup\"><span class=\"fl\"><a class=\"_help\" onclick=\"__atcmpCR(event, this, \\'help\\', \\'\\',\\'\\',\\'\\');\" href=\"https://help.naver.com/support/alias/search/word/word_17.naver\" target=\"_blank\">도움말</a><span class=\"atcmp_bar\"></span><a onclick=\"__atcmpCR(event, this, \\'report\\', \\'\\',\\'\\',\\'\\');\" href=\"https://help.naver.com/support/alias/search/word/word_18.naver\" target=\"_blank\" class=\"report\">신고</a></span><span><em><a class=\"hisoff\" href=\"javascript:;\">검색어저장 켜기</a><span class=\"atcmp_bar\"></span></em><a class=\"funoff\" href=\"javascript:;\">자동완성 끄기</a></span></p> <span class=\"atcmp_helper _help_tooltip2\">기능을 다시 켤 때는 <em class=\"ico_search spat\">검색창 오른쪽 화살표 버튼</em>을 클릭하세요</span> </div> <div class=\"api_atcmp_wrap _atcmpStart\" style=\"display:none;\"> <div class=\"words\"><p class=\"info_words\">자동완성 기능이 활성화되었습니다.</p></div> <p class=\"func _atcmpBtnGroup\"><span class=\"fl\"><a class=\"_help\" onclick=\"__atcmpCR(event, this, \\'help\\', \\'\\',\\'\\',\\'\\');\" href=\"https://help.naver.com/support/alias/search/word/word_17.naver\" target=\"_blank\">도움말</a><span class=\"atcmp_bar\"></span><a onclick=\"__atcmpCR(event, this, \\'report\\', \\'\\',\\'\\',\\'\\');\" href=\"https://help.naver.com/support/alias/search/word/word_18.naver\" target=\"_blank\" class=\"report\">신고</a></span><span><em><a class=\"hisoff\" href=\"javascript:;\">검색어저장 켜기</a><span class=\"atcmp_bar\"></span></em><a class=\"funoff\" href=\"javascript:;\">자동완성 끄기</a></span></p> <span class=\"atcmp_helper _help_tooltip3\">기능을 다시 켤 때는 <em class=\"ico_search spat\">검색창 오른쪽 화살표 버튼</em>을 클릭하세요</span> </div> <div class=\"api_atcmp_wrap _atcmpOff\" style=\"display:none;\"> <div class=\"words\"><p class=\"info_words\">자동완성 기능이 꺼져 있습니다.</p></div> <p class=\"func _atcmpBtnGroup\"><span class=\"fl\"><a class=\"_help\" onclick=\"__atcmpCR(event, this, \\'help\\', \\'\\',\\'\\',\\'\\');\" href=\"https://help.naver.com/support/alias/search/word/word_17.naver\" target=\"_blank\">도움말</a><span class=\"atcmp_bar\"></span><a onclick=\"__atcmpCR(event, this, \\'report\\', \\'\\',\\'\\',\\'\\');\" href=\"https://help.naver.com/support/alias/search/word/word_18.naver\" target=\"_blank\" class=\"report\">신고</a></span><span><em><a class=\"hisoff\" href=\"javascript:;\">검색어저장 켜기</a><span class=\"atcmp_bar\"></span></em><a class=\"funoff\" href=\"javascript:;\">자동완성 켜기</a></span></p> </div> <div class=\"api_atcmp_wrap _keywords\" style=\"display:none;\"> <div class=\"my_words\"> <div class=\"lst_tab\"> <ul><li class=\"on _recentTab\"><a href=\"javascript:;\">최근검색어</a></li> <li class=\"_myTab\"><a href=\"javascript:;\">내 검색어</a></li></ul> </div> <div class=\"words _recent\"> <ul><li data-rank=\"@rank@\"><a class=\"t@my@ _star _myBtn\" title=\"내 검색어 등록\" href=\"javascript:;\"><em class=\"spat\">내 검색어 등록</em></a><a href=\"javascript:;\" class=\"keyword\">@txt@</a><em class=\"keyword_date\">@date@.</em><a href=\"javascript:;\" class=\"btn_delete spat _del\" title=\"검색어삭제\">삭제</a><span style=\"display:none\">@in_txt@</span></li></ul> <div class=\"info_words _recentNone\" style=\"display:none\">최근검색어 내역이 없습니다.</div> <p class=\"info_words _offMsg\" style=\"display:none\">검색어 저장 기능이 꺼져 있습니다.</p> </div> <div class=\"words _my\" style=\"display:none\"> <ul><li data-rank=\"@rank@\"><a class=\"ton _star _myBtn\" title=\"내 검색어 해제\" href=\"javascript:;\"><em class=\"spat\">내 검색어 해제</em></a><a href=\"javascript:;\" class=\"keyword\">@txt@</a></li></ul> <div class=\"info_words _myNone\" style=\"display:none\">설정된 내 검색어가 없습니다.<br>최근검색어에서 <span class=\"star spat\">내 검색어 등록</span>를 선택하여 자주 찾는 검색어를<br />내 검색어로 저장해 보세요.</div> <p class=\"info_words _offMsg\" style=\"display:none\">검색어 저장 기능이 꺼져 있습니다.</p> </div> <p class=\"noti _noti\" style=\"display:none\"><em class=\"ico_noti spat\"><span class=\"blind\">알림</span></em>공용 PC에서는 개인정보 보호를 위하여 반드시 로그아웃을 해 주세요.</p> <p class=\"func _recentBtnGroup\"><span class=\"fl\"><a class=\"_delMode\" href=\"javascript:;\">기록 삭제</a></span><span><a class=\"_keywordOff\" href=\"javascript:;\">검색어저장 끄기</a><span class=\"atcmp_bar\"></span><a class=\"_acOff\" href=\"javascript:;\">자동완성 끄기</a></span></p> <p class=\"func _recentDelBtnGroup\" style=\"display:none\"><span class=\"fl\"><a class=\"_delAll\" href=\"javascript:;\" title=\"최근 검색어 기록을 모두 삭제합니다.\">기록 전체 삭제</a></span><span><a class=\"_delDone\" href=\"javascript:;\">완료</a></span></p> <p class=\"func _myBtnGroup\" style=\"display:none\"><span class=\"fl\"><a class=\"_delAll\" href=\"javascript:;\" title=\"설정된 내 검색어를 모두 삭제합니다.\">기록 전체 삭제</a></span><span><a class=\"_keywordOff\" href=\"javascript:;\">검색어저장 끄기</a><span class=\"atcmp_bar\"></span><a class=\"_acOff\" href=\"javascript:;\">자동완성 끄기</a></span></p> <span class=\"atcmp_helper _help2\">기능을 다시 켤 때는 <em class=\"ico_search spat\">검색창 오른쪽 화살표 버튼</em>을 클릭하세요</span> <div class=\"ly_noti _maxLayer\" style=\"display:none\"> <span class=\"mask\"></span> <p><span class=\"ico_alert spat\"></span>내 검색어는 <em>최대 10</em>개 까지 저장할 수 있습니다.<br />추가하시려면 기존 내 검색어를 지워주세요. <a href=\"javascript:;\" class=\"btn_close _close\"><i class=\"spat ico_close\">닫기</i></a></p> </div> </div> </div> <div class=\"api_atcmp_wrap _alert\" style=\"display:none;\"> <div class=\"api_atcmp_alert\"> <span class=\"ico_alert spat\"></span> <p class=\"dsc_txt\"><em class=\"_passage\"></em><br> <a class=\"_link\" target=\"_blank\" href=\"\" onclick=\"return goOtherCR(this,\\'a=sug.vote&r=&i=&u=\\'+urlencode(this.href));\">자세히보기</a></p> </div> </div> </div> </fieldset> </form> </div> <div id=\"gnb\"> <script type=\"text/javascript\"> var gnb_option = { gnb_service : \"search\", gnb_template : \"gnb_utf8\", gnb_logout : encodeURIComponent(location.href), gnb_login : encodeURIComponent(location.href), gnb_brightness : 1 , gnb_item_hide_option : 0 } ; var gnb_url = \"https://ssl.pstatic.net/static.gn/templates/gnb_utf8.nhn\" ; nx_js_defer_load(gnb_url + \"?\" + headerfooter_time_year_s + headerfooter_time_month_s + headerfooter_time_day_s + headerfooter_time_hour_s, function() { getGNB() ; $Fn(function(we) { if (typeof gnbAllLayerClose == \"function\") { var bShowLayer = gnbUserLayer.show || gnbNaverMeLayer.show || gnbMoreLayer.show; var bClickGNBArea = $Element($$.getSingle(\"ul.gnb_lst\")).isEqual(we.element) || $Element($$.getSingle(\"ul.gnb_lst\")).isParentOf(we.element); if (bShowLayer && !bClickGNBArea) { gnbAllLayerClose(); } } }, this).attach(document, \"click\"); }, 0) ; </script> </div> </div><script> var nx_usain_beacon = function() { var sent = 0; var tags = []; var sampling = 1 ; (function addUagentInfo() { var nav = jindo.$Agent().navigator(); if (nav.version) { var version = \"\"; var vers = (nav.version + \"\").split(\\'.\\'); version = vers[0]; if (version > 0) { tags.push(\\'ua.\\' + nav.getName() + \\'.\\' + version); } } })(); var usain_obj = { send: function() { if (sent > 0) { return; } sent = 1; if( tags.length > 1 ) sampling = 0 ; if(sampling) { return; } setTimeout(function() { var perf = \"\" ; perf = (function () { function _(t) { return (t?(t-window.performance.timing.navigationStart):0); } ; if (typeof(window.performance) == \"undefined\"){ return \"\"} if (typeof(window.performance.timing) == \"undefined\"){ return \"\"} if (typeof(window.performance.navigation) == \"undefined\"){ return \"\"} var t = window.performance.timing ; var n = window.performance.navigation ; return \"navt=\" + [_(t.navigationStart), _(t.unloadEventStart), _(t.unloadEventEnd), _(t.redirectStart), _(t.redirectEnd), _(t.fetchStart), _(t.domainLookupStart), _(t.domainLookupEnd), _(t.connectStart), _(t.connectEnd), _(t.requestStart), _(t.responseStart), _(t.responseEnd), _(t.domLoading), _(t.domInteractive), _(t.domContentLoadedEventStart), _(t.domContentLoadedEventEnd), _(t.domComplete), _(t.loadEventStart), _(t.loadEventEnd), n.type, n.redirectCount].join(\":\") ; }) () ; if (document.location.protocol === \\'https:\\') { tags.push(\\'_ssl\\'); } else { tags.push(\\'_nossl\\'); } tags.push(\\'p_\\' + \\'http/1.1\\') ; var queries = []; if (perf) { queries.push(perf); } queries.push(\"tags=\" + tags.join(\":\") ); var u = new Image() ; u.src = \"https://er.search.naver.com/er?v=2&\" + queries.join(\"&\"); u.onload = function() { u.onload = null ; } }, 250); }, add_tag: function(tag) { tags.push(tag); } }; return usain_obj; }(); </script> <div id=\"lnb\" tabindex=\"0\"> <div class=\"lnb_group\"><div class=\"lnb_menu\"> <ul class=\"base\"> <li class=\"lnb0\"><a href=\"//search.naver.com/search.naver?where=nexearch&sm=tab_jum&query=%EB%B0%95%EB%B3%B4%EC%98%81\" onclick=\"return goOtherCR(this,\\'a=tab*N.now&r=1&i=&u=\\'+urlencode(this.href));\" class=\"tab on\"><span class=\"spnew name\">통합검색</span></a></li><li class=\"lnb2\"><a href=\"?where=image&sm=tab_jum&query=%EB%B0%95%EB%B3%B4%EC%98%81\" onclick=\"return goOtherCR(this,\\'a=tab*i.jmp&r=2&i=&u=\\'+urlencode(this.href));\" class=\"tab\"><span class=\"spnew name\">이미지</span></a></li><li class=\"lnb7\"><a href=\"?where=realtime&sm=tab_jum&query=%EB%B0%95%EB%B3%B4%EC%98%81\" onclick=\"return goOtherCR(this,\\'a=tab*r.jmp&r=3&i=&u=\\'+urlencode(this.href));\" class=\"tab\"><span class=\"spnew name\">실시간검색</span></a></li><li class=\"lnb4\"><a href=\"?where=news&sm=tab_jum&query=%EB%B0%95%EB%B3%B4%EC%98%81\" onclick=\"return goOtherCR(this,\\'a=tab*n.jmp&r=4&i=&u=\\'+urlencode(this.href));\" class=\"tab\"><span class=\"spnew name\">뉴스</span></a></li><li class=\"lnb3\"><a href=\"?where=post&sm=tab_jum&query=%EB%B0%95%EB%B3%B4%EC%98%81\" onclick=\"return goOtherCR(this,\\'a=tab*b.jmp&r=5&i=&u=\\'+urlencode(this.href))\" class=\"tab\"><span class=\"spnew name\">블로그</span></a></li><li class=\"lnb1\"><a href=\"?where=video&sm=tab_jum&query=%EB%B0%95%EB%B3%B4%EC%98%81\" onclick=\"return goOtherCR(this,\\'a=tab*v.jmp&r=6&i=&u=\\'+urlencode(this.href));\" class=\"tab\"><span class=\"spnew name\">동영상</span></a></li><li class=\"lnb5\"><a href=\"?where=kin&sm=tab_jum&query=%EB%B0%95%EB%B3%B4%EC%98%81\" onclick=\"return goOtherCR(this,\\'a=tab*k.jmp&r=7&i=&u=\\'+urlencode(this.href));\" class=\"tab\"><span class=\"spnew name\">지식iN</span></a></li><li class=\"lnb20\"><a href=\"https://m.post.naver.com/search/post.nhn?keyword=%EB%B0%95%EB%B3%B4%EC%98%81\" onclick=\"return goOtherCR(this,\\'a=tab*p.jmp&r=8&i=&u=\\'+urlencode(this.href));\" class=\"tab\" target=\"_blank\"><span class=\"spnew name\">포스트</span><i class=\"spnew ico_window\">새창</i></a></li></ul> <div id=\"_nx_lnb_more\" class=\"more_area\"> <a href=\"#\" class=\"lnb_more\" onclick=\"jQuery(\\'#_nx_lnb_more\\').toggleClass(\\'more_on\\'); tCR(jQuery(\\'#_nx_lnb_more\\').hasClass(\\'more_on\\') ? \\'a=tab.more\\' : \\'a=tmr.less\\'); return false;\"><span class=\"spnew name\">더보기</span></a> <div class=\"addon\"> <iframe frameborder=\"0\" title=\"빈프레임\" style=\"display:none;display:block\\\\9;display:block\\\\0/;position:absolute;top:-1px;left:-1px;z-index:-1;width:100%;height:100%;padding:1px;filter:alpha(opacity=0);opacity:0\"></iframe> <ul><li class=\"lnb21\"><a href=\"?where=webkr&sm=tab_jum&query=%EB%B0%95%EB%B3%B4%EC%98%81\" onclick=\"return goOtherCR(this,\\'a=tmr*w.jmp&r=1&i=&u=\\'+urlencode(this.href));\" class=\"tab\"><span class=\"spnew name\">웹사이트</span></a></li><li class=\"lnb10\"><a href=\"?where=kdic&sm=tab_jum&query=%EB%B0%95%EB%B3%B4%EC%98%81\" onclick=\"return goOtherCR(this,\\'a=tmr*K.jmp&r=2&i=&u=\\'+urlencode(this.href));\" class=\"tab\"><span class=\"spnew name\">지식백과</span></a></li><li class=\"lnb6\"><a href=\"?where=article&sm=tab_jum&query=%EB%B0%95%EB%B3%B4%EC%98%81\" onclick=\"return goOtherCR(this,\\'a=tmr*c.jmp&r=3&i=&u=\\'+urlencode(this.href));\" class=\"tab\"><span class=\"spnew name\">카페</span></a></li><li class=\"lnb12\"><a href=\"https://search.shopping.naver.com/search/all.nhn?where=all&frm=NVSCTAB&query=%EB%B0%95%EB%B3%B4%EC%98%81\" onclick=\"return goOtherCR(this,\\'a=tmr*S.jmp&r=4&i=&u=\\'+urlencode(this.href));\" class=\"tab\" target=\"_blank\"><span class=\"spnew name\">쇼핑</span><i class=\"spnew ico_window\">새창</i></a></li><li class=\"lnb8\"><a href=\"https://dict.naver.com/search.nhn?dicQuery=%EB%B0%95%EB%B3%B4%EC%98%81&query=%EB%B0%95%EB%B3%B4%EC%98%81&target=dic&query_utf=&isOnlyViewEE=\" onclick=\"return goOtherCR(this,\\'a=tmr*L.jmp&r=5&i=&u=\\'+urlencode(this.href));\" class=\"tab\" target=\"_blank\"><span class=\"spnew name\">어학사전</span><i class=\"spnew ico_window\">새창</i></a></li><li class=\"lnb13\"><a href=\"https://map.naver.com/local/search.nhn?query=%EB%B0%95%EB%B3%B4%EC%98%81\" onclick=\"return goOtherCR(this,\\'a=tmr*M.jmp&r=6&i=&u=\\'+urlencode(this.href));\" class=\"tab\" target=\"_blank\"><span class=\"spnew name\">지도</span><i class=\"spnew ico_window\">새창</i></a></li><li class=\"lnb15\"><a href=\"https://book.naver.com/search/search.nhn?query=%EB%B0%95%EB%B3%B4%EC%98%81\" onclick=\"return goOtherCR(this,\\'a=tmr*B.jmp&r=7&i=&u=\\'+urlencode(this.href));\" class=\"tab\" target=\"_blank\"><span class=\"spnew name\">책</span><i class=\"spnew ico_window\">새창</i></a></li><li class=\"lnb14\"><a href=\"https://music.naver.com/search/search.nhn?query=%EB%B0%95%EB%B3%B4%EC%98%81\" onclick=\"return goOtherCR(this,\\'a=tmr*m.jmp&r=8&i=&u=\\'+urlencode(this.href));\" class=\"tab\" target=\"_blank\"><span class=\"spnew name\">뮤직</span><i class=\"spnew ico_window\">새창</i></a></li><li class=\"lnb16\"><a href=\"https://academic.naver.com/search.naver?field=0&query=%EB%B0%95%EB%B3%B4%EC%98%81\" onclick=\"return goOtherCR(this,\\'a=tmr*a.jmp&r=9&i=&u=\\'+urlencode(this.href));\" class=\"tab\" target=\"_blank\"><span class=\"spnew name\">학술정보</span><i class=\"spnew ico_window\">새창</i></a></li> </ul> </div> </div> <a href=\"#\" id=\"_search_option_btn\" class=\"bt_option\" onclick=\"return tCR(\\'a=fno.option\\');\" title=\"검색옵션 열기\">검색옵션<span class=\"spnew ico_arrow\"></span></a> </div><div class=\"lnb_util\"> <ul class=\"list_util\"> <li> <a href=\"https://help.naver.com/support/alias/search/integration/integration_1.naver\" onclick=\"return goOtherCR(this, \\'u=\\'+urlencode(this.href)+\\'&a=fno.help&r=&i=\\'); return false;\" class=\"bt_help\" target=\"_blank\"><span class=\"spnew ico_help\">도움말</span></a> </li> <li> <a href=\"https://help.naver.com/support/alias/search/integration/integration_2.naver\" onclick=\"return goOtherCR(this, \\'u=\\'+urlencode(this.href)+\\'&a=fno.origin&r=&i=\\'); return false;\" class=\"bt_origin\" target=\"_blank\"><span class=\"spnew ico_origin\">원본반영</span></a> </li> <li> <a href=\"#\" id=\"spiButton2\" class=\"bt_share naver-splugin\" onclick=\"return tCR(\\'a=fno.pplugin\\');\" data-evkey=\"search\" data-service-name=\"통합검색\" data-style=\"unity-v2\" data-use-short-url=\"on\" data-me-display=\"off\" data-mail-display=\"off\" data-option=\"{baseElement:\\'spiButton2\\', layerPosition:\\'outside-bottom\\', align:\\'right\\', top:4, left:0, marginLeft:8, marginTop:10}\" data-blog-url=\"https://search.naver.com/search.naver?query=%EB%B0%95%EB%B3%B4%EC%98%81&sm=svc_pin.blog&where=nexearch\" data-cafe-url=\"https://search.naver.com/search.naver?query=%EB%B0%95%EB%B3%B4%EC%98%81&sm=svc_pin.cafe&where=nexearch\" data-cafe-source-form=\"2\" data-memo-url=\"https://search.naver.com/search.naver?query=%EB%B0%95%EB%B3%B4%EC%98%81&sm=svc_pin.memo&where=nexearch\" data-calendar-url=\"https://search.naver.com/search.naver?query=%EB%B0%95%EB%B3%B4%EC%98%81&sm=svc_pin.cal&where=nexearch\" data-twitter-url=\"https://search.naver.com/search.naver?query=%EB%B0%95%EB%B3%B4%EC%98%81&sm=twp_pin&where=nexearch\" data-facebook-url=\"https://search.naver.com/search.naver?query=%EB%B0%95%EB%B3%B4%EC%98%81&sm=fbp_pin&where=nexearch\" data-band-url=\"https://search.naver.com/search.naver?query=%EB%B0%95%EB%B3%B4%EC%98%81&sm=bdp_pin&where=nexearch\" title=\"보내기 열기/닫기\"><span class=\"spnew naver-splugin-c ico_share\"></span><span class=\"blind\">보내기</span></a> </li> </ul> </div><script type=\"text/javascript\"> nx_js_defer_load(\"https://ssl.pstatic.net/spi/js/release/ko_KR/splugin.js?\" + headerfooter_time_year_s + headerfooter_time_month_s + headerfooter_time_day_s, function() { g_nx_splugin = SocialPlugIn_Core({ \"evKey\" : \"search\", \"serviceName\" : \"통합검색\" }) ; }, 150) ; function splugin_oninitialize(sTargetId) { var elTarget = document.getElementById(sTargetId) ; var sUrl = $$.getSingle(\\'a._sp_each_url\\', elTarget ).href ; var sTitle = $Element($$.getSingle(\\'._sp_each_title\\', elTarget)).text() ; var sSource = $Element($$.getSingle(\\'._sp_each_source\\', elTarget)) ; if (sSource) sSource = sSource.text() ; return { \"url\" : sUrl, \"title\" : sTitle, \"option\" : {baseElement:sTargetId + \\'_base\\', layerPosition:\\'outside-bottom\\', align:\\'right\\', top:18, left:-28, marginLeft:8, marginTop:10}, \"me\" : { display : \"off\" }, \"mail\" : { display : \"off\" }, \"sourceName\" : sSource } ; } </script><script> nx_js_defer_load(\"//search.like.naver.com/static/js/likeIt.list.js?\" + headerfooter_time_year_s + headerfooter_time_month_s + headerfooter_time_day_s, function() { nhn.LikeIt.list.util.init({ sId : \"SEARCH\", sDomain : \"//search.like.naver.com\", bMobile : false }) ; }, 150) ; </script></div> </div><script type=\"text/javascript\"> naver.search.option = {} ; naver.search.option.mson = 0 ; naver.search.option.params = {} ; naver.search.option.append_params = (function () { return function (f) { for (var k in naver.search.option.params) { var v = naver.search.option.params[k] ; var input = document.createElement(\"input\"); input.type = \"hidden\"; input.name = k ; input.value = v ; f.appendChild(input); } return true ; } ; })() ; naver.search.option.get_params = (function () { return function () { var option_params = \"\" ; if (naver.search.option.mson) { for (var k in naver.search.option.params) { var v = naver.search.option.params[k] ; option_params = option_params.concat(\"&\" + k + \"=\" + urlencode(v)) ; } } return option_params ; } ; })() ; function nx_set_option_switch (on) { var o_on = $Element(\"nx_option_mson\") ; var o_off = $Element(\"nx_option_msoff\") ; var ton ; var toff ; var domain = \"search.naver.com\" ; if (on) { ton = o_on ; toff = o_off ; if (1) naver.search.option.mson = 2 ; else naver.search.option.mson = 1 ; nx_set_cookie(\"nx_mson\", naver.search.option.mson, null, domain) ; } else { ton = o_off ; toff = o_on ; naver.search.option.mson = 0 ; nx_set_cookie(\"nx_mson\", \"\", new Date(new Date().getTime() - 86400), domain) ; } if (!ton.hasClass(\"on\")) { ton.html(ton.text() + \\'<span class=\"blind\">(선택됨)</span>\\') ; ton.addClass(\"on\") ; } if (toff.hasClass(\"on\")) { var c = toff.child()[0] ; if (c) toff.remove(c) ; toff.removeClass(\"on\") ; } } </script><div id=\"snb\" style=\"display:none;\"> <div class=\"snb_inner\"> <ul class=\"option_menu\"><li class=\"menu\"> <a href=\"#\" class=\"m\" onclick=\"return tCR(\\'a=fno.sortlink\\');\" id=\"_nx_search_option_sort_link\">정렬<span class=\"spim\"></span></a> <div class=\"snb_itembox\"> <iframe frameborder=\"0\" title=\"빈프레임\" style=\"display:none;display:block\\\\9;display:block\\\\0/;position:absolute;top:-1px;left:-1px;z-index:-1;width:100%;height:100%;padding:1px;filter:alpha(opacity=0);opacity:0\"></iframe> <ul class=\"lst_choice\"> <li id=\"_nx_option_sort_relevance\"><a href=\"#\" onclick=\"nx_searchOptionSelect(\\'so\\', \\'r\\'); return false;\">관련도순</a></li> <li id=\"_nx_option_sort_date\"><a href=\"#\" onclick=\"nx_searchOptionSelect(\\'so\\', \\'dd\\'); return false;\">최신순</a></li> </ul> </div> </li> <li class=\"menu\"> <a href=\"#\" class=\"m\" onclick=\"return tCR(\\'a=fno.datelink\\');\" id=\"_nx_search_option_date_link\">기간<span class=\"spim\"></span></a> <div id=\"_nx_option_date\" class=\"snb_itembox\"> <iframe frameborder=\"0\" title=\"빈프레임\" style=\"display:none;display:block\\\\9;display:block\\\\0/;position:absolute;top:-1px;left:-1px;z-index:-1;width:100%;height:100%;padding:1px;filter:alpha(opacity=0);opacity:0\"></iframe> <ul class=\"lst_choice\"> <li id=\"_nx_option_period_all\"><a href=\"#\" onclick=\"nx_searchOptionSelect(\\'p\\', \\'all\\'); return false;\">전체</a></li> <li id=\"_nx_option_period_1d\"><a href=\"#\" onclick=\"nx_searchOptionSelect(\\'p\\', \\'1d\\'); return false;\">1일</a></li> <li id=\"_nx_option_period_1w\"><a href=\"#\" onclick=\"nx_searchOptionSelect(\\'p\\', \\'1w\\'); return false;\">1주</a></li> <li id=\"_nx_option_period_1m\"><a href=\"#\" onclick=\"nx_searchOptionSelect(\\'p\\', \\'1m\\'); return false;\">1개월</a></li> <li id=\"_nx_option_period_1y\"><a href=\"#\" onclick=\"nx_searchOptionSelect(\\'p\\', \\'1y\\'); return false;\">1년</a></li> </ul> <div class=\"item_option set_calendar\"> <p class=\"tit\">직접입력</p> <div class=\"input_box _input_box_start\"> <input type=\"text\" title=\"검색기간 시작일\" value=\"\" class=\"input_txt _input_start\" id=\"_nx_date_from\"> <a href=\"#\" class=\"spim _btn_start\" onclick=\"return tCR(\\'a=fno.datecalenderopen\\');\">달력 레이어 호출</a> </div> <div class=\"input_box _input_box_end\"> <input type=\"text\" title=\"검색기간 종료일\" value=\"\" class=\"input_txt _input_end\" id=\"_nx_date_to\"> <a href=\"#\" class=\"spim _btn_end\" onclick=\"return tCR(\\'a=fno.datecalenderopen\\');\">달력 레이어 호출</a> </div> <div class=\"ly_option_alert _alert_layer\" style=\"top:127px; display:none;\">잘못된 날짜형식입니다.<br> <em>(yyy.mm.dd)</em><span class=\"spim arrow\" style=\"left:101px;\"></span></div> <span class=\"btn_inp\"><button class=\"_btn_submit\" type=\"button\"><span class=\"tx\">적용하기</span></button></span> </div> </div> </li> <li class=\"menu\"> <a href=\"#\" class=\"m\" onclick=\"return tCR(\\'a=fno.alink\\');\" id=\"_nx_search_option_area_link\">영역<span class=\"spim\"></span></a> <div class=\"snb_itembox\"> <iframe frameborder=\"0\" title=\"빈프레임\" style=\"display:none;display:block\\\\9;display:block\\\\0/;position:absolute;top:-1px;left:-1px;z-index:-1;width:100%;height:100%;padding:1px;filter:alpha(opacity=0);opacity:0\"></iframe> <ul class=\"lst_choice\"> <li id=\"_nx_option_area_all\"><a href=\"#\" onclick=\"nx_searchOptionSelect(\\'a\\', \\'all\\'); return false;\">전체</a></li> <li id=\"_nx_option_area_title\"><a href=\"#\" onclick=\"nx_searchOptionSelect(\\'a\\', \\'t\\'); return false;\">제목</a></li> </ul> </div> </li> <li class=\"option_keep\"> <div class=\"option_choice\"> 옵션유지 <span class=\"option\"> <button id=\"nx_option_msoff\" type=\"button\" onclick=\"nx_set_option_switch(false); return tCR(\\'a=fno.msoff\\');\">꺼짐</button><button id=\"nx_option_mson\" type=\"button\" onclick=\"nx_set_option_switch(true); return tCR(\\'a=fno.mson\\');\">켜짐</button> </span> <span class=\"bar\"></span> </div> </li><script type=\"text/javascript\"> nx_set_option_switch(naver.search.option.mson) ; var nx_opt_sort = \\'r\\' ; var nx_opt_period = \\'all\\' ; var nx_opt_area = \\'all\\' ; var nx_opt_sm_def = \\'tab_opt\\' ; function nx_searchOptionSelect (type, value) { var sm = undefined ; var cr_area = \"\" ; if (type == \\'so\\') { sm = \\'tab_srt\\' ; switch (value) { case \\'dd\\' : nx_opt_sort = value ; cr_area = \\'fno.sortdate\\' ; break ; case \\'r\\' : default : nx_opt_sort = \\'r\\' ; cr_area = \\'fno.sortsim\\' ; break ; } }else if (type == \\'p\\') { switch (value) { case \\'1d\\' : nx_opt_period = value ; cr_area = \\'fno.dateoneday\\' ; break ; case \\'1w\\' : nx_opt_period = value ; cr_area = \\'fno.dateoneweek\\' ; break ; case \\'1m\\' : nx_opt_period = value ; cr_area = \\'fno.dateonemonth\\' ; break ; case \\'1y\\' : nx_opt_period = value ; cr_area = \\'fno.dateoneyear\\' ; break ; case \\'all\\' : default : nx_opt_period = \\'all\\' ; cr_area = \\'fno.dateperiodall\\' ; break ; case \\'direct\\' : var from = document.getElementById(\\'_nx_date_from\\') ; var to = document.getElementById(\\'_nx_date_to\\') ; if (!from.value) { from.value = \\'1990.01.01\\' ; } if (!to.value) { var d = new Date(); to.value = d.getFullYear() + \\'.\\' + ((d.getMonth()+1) < 10 ? \"0\" : \"\") + (d.getMonth()+1) + \\'.\\' + (d.getDate() < 10 ? \"0\" : \"\") + d.getDate() ; } var from_val = from.value.replace(/\\\\./g, \\'\\') ; var to_val = to.value.replace(/\\\\./g, \\'\\') ; if (from_val > to_val) { var tmp_val = from_val ; from_val = to_val ; to_val = tmp_val ; } nx_opt_period=\\'from\\' + from_val + \\'to\\' + to_val ; cr_area = \\'fno.datecustomapply\\' ; break ; } } else if (type == \\'a\\') { switch (value) { case \\'t\\' : nx_opt_area = value ; cr_area = \\'fno.areafieldtit\\' ; break ; case \\'all\\' : default : nx_opt_area = \\'all\\' ; cr_area = \\'fno.areafieldall\\' ; break ; } } else { alert(\\'Invalid option!\\') ; } nx_searchOptionSubmit(cr_area, sm) ; } function nx_searchOptionSubmit (area, s) { var sm = (s == undefined ? nx_opt_sm_def : s) ; var nso = \\'so:\\' + nx_opt_sort + \\',p:\\' + nx_opt_period + \\',a:\\' + nx_opt_area ; var formElem = document.getElementById(\\'nx_search_form\\') ; naver.search.option.params[\"nso\"] = nso ; naver.search.option.append_params(formElem) ; formElem.sm.value = urlencode(sm) ; formCR(\\'nx_search_form\\', area) ; } function nx_searchOptionReset () { var formElem = document.getElementById(\\'nx_search_form\\') ; formElem.query.value = headerfooter_query ; formElem.sm.value = urlencode(nx_opt_sm_def) ; formCR(\\'nx_search_form\\', \\'opt.default\\') ; } function nx_searchOptionConvertPeriodFormat (val) { switch (val) { case \\'1d\\' : return \"1day\" ; case \\'1w\\' : return \"1week\" ; case \\'1m\\' : return \"1month\" ; case \\'1y\\' : return \"1year\" ; case \\'all\\' : return \"all\" ; default : return \"all\" ; } } var start_year = headerfooter_time_year ; var start_month = headerfooter_time_month ; var start_day = headerfooter_time_day ; var end_year = headerfooter_time_year ; var end_month = headerfooter_time_month ; var end_day = headerfooter_time_day ; function nx_set_strong (elem) { elem.addClass(\\'selected\\') ; elem.first().appendHTML(\\'<span class=\"blind\">선택됨</span>\\') ; } function nx_searchOptionInit () { var elem ; if (nx_opt_sort == \\'dd\\') { elem = $Element(\\'_nx_option_sort_date\\') ; if (elem) $Element(\\'_nx_search_option_sort_link\\').html(elem.first().text() + \\'<span class=\"spim\"></span>\\') ; } else { elem = $Element(\\'_nx_option_sort_relevance\\') ; } if (elem) nx_set_strong(elem) ; if (nx_opt_area == \\'t\\') { elem = $Element(\\'_nx_option_area_title\\') ; if (elem) $Element(\\'_nx_search_option_area_link\\').html(elem.first().text() + \\'<span class=\"spim\"></span>\\') ; } else { elem = $Element(\\'_nx_option_area_all\\') ; } if (elem) nx_set_strong(elem) ; if (nx_opt_period == \\'all\\') { elem = $Element(\\'_nx_option_period_all\\') ; } else if (nx_opt_period.match(\\'^from\\') == \\'from\\') { var period_start = nx_opt_period.replace(/^from/g, \\'\\').replace(/to.*$/g,\\'\\') ; var period_end = nx_opt_period.replace(/^from[0-9]*to/g, \\'\\') ; period_start = period_start.replace(/(....)(..)(..)/g, \\'$1-$2-$3\\') ; period_end = period_end.replace(/(....)(..)(..)/g, \\'$1-$2-$3\\') ; $Element(\\'_nx_search_option_date_link\\').html(period_start + \\' -\\' + period_end + \\'<span class=\"spim\"></span>\\') ; } else { elem = $Element(\\'_nx_option_period_\\' + nx_opt_period) ; if (elem) $Element(\\'_nx_search_option_date_link\\').html(elem.first().text() + \\'<span class=\"spim\"></span>\\') ; } if (elem) nx_set_strong(elem) ; else { result = nx_opt_period.match(/^from(\\\\d{4})(\\\\d{2})(\\\\d{2})to(\\\\d{4})(\\\\d{2})(\\\\d{2})/) ; if (result && result.length >= 6) { start_year = result[1] ; start_month = result[2] ; start_day = result[3] ; end_year = result[4] ; end_month = result[5] ; end_day = result[6] ; } } } nx_searchOptionInit() ; </script><li class=\"menu\"> <a href=\"#\" class=\"m\" onclick=\"return tCR(\\'a=fno.dtslink\\');\">상세검색<span class=\"spim\"></span></a> <div id=\"_nx_option_detail\" class=\"snb_itembox ly_detailsch\"> <iframe frameborder=\"0\" title=\"빈프레임\" style=\"display:none;display:block\\\\9;display:block\\\\0/;position:absolute;top:-1px;left:-1px;z-index:-1;width:100%;height:100%;padding:1px;filter:alpha(opacity=0);opacity:0\"></iframe> <div class=\"sch_inner\"> <div class=\"sctitle_txt scroll _preview\"></div> <div class=\"sch_data\"> <dl class=\"sch_option\"> <dt><label for=\"inpop0\">기본검색</label></dt> <dd> <div class=\"inp_op\"><input type=\"text\" id=\"inpop0\" title=\"기본검색어 입력\" class=\"_base\"></div> <p class=\"rule_check\"><input type=\"checkbox\" id=\"rch\" class=\"incr _or\" onclick=\"tCR(\\'a=fno.dtsors\\');\"><label for=\"rch\">입력한 단어가 하나이상 포함된 문서 검색</label></p> </dd> </dl> <dl class=\"sch_option more_sch\"> <dt><label for=\"inpop1\">상세검색</label></dt> <dd> <div class=\"inp_op\"><input type=\"text\" id=\"inpop1\" class=\"_exact\"><label for=\"inpop1\" class=\"_placeholder_exact\">정확히 일치하는 단어/문장(\" \")</label></div> <div class=\"inp_op\"><input type=\"text\" id=\"inpop2\" class=\"_include\"><label for=\"inpop2\" class=\"_placeholder_include\">반드시 포함하는 단어(+)</label></div> <div class=\"inp_op\"><input type=\"text\" id=\"inpop3\" class=\"_exclude\"><label for=\"inpop3\" class=\"_placeholder_exclude\">제외하는 단어(-)</label></div> <div class=\"tx_area\"> <p class=\"tx_noti\">기본검색의 결과 범위를 줄이고자 할 때 사용합니다.<br>여러개의 단어를 입력하실 때는<span class=\"tx\">쉼표(,)</span>로 구분해서 입력하세요.</p> </div> </dd> </dl> </div> <div class=\"sch_foot\"> <a href=\"https://help.naver.com/support/alias/search/integration/integration_4.naver\" target=\"_blank\" class=\"btn_help\" onclick=\"return goOtherCR(this, \\'u=\\'+urlencode(this.href)+\\'&a=fno.dtshelp\\');\">도움말</a> <a href=\"#\" class=\"btn_initial _reset\" onclick=\"return tCR(\\'a=fno.dtsclear\\');\">초기화</a> <button class=\"btn_ft ty_green _search\" onclick=\"return tCR(\\'a=fno.dtssrch\\');\"><span>검색</span></button><button class=\"btn_ft _close\" onclick=\"return tCR(\\'a=fno.dtsclose\\');\"><span>닫기</span></button> </div> </div> </div> </li></ul> </div> </div> <script type=\"text/javascript\"> /* 검색옵션 모듈 생성 */ var oNXSearchOption = new nhn.SearchOption($(\\'_search_option_btn\\'), $(\\'snb\\'), {open:false}); </script><script> /* 검색옵션 - 상세검색 - !!상세 옵션이 있는 탭에서만 생성해주세요. */ new nhn.SearchOption.Detail( $(\"_nx_option_detail\"), { s_base: \"박보영\", b_or: false, a_exact: [], a_include: [], a_exclude: [] } ); </script><div class=\"op_calendar _date_option_calendar_layer\"> <div class=\"h_cal\"> <strong class=\"calendar-title\">2014.04</strong> <a class=\"bt_pv2 calendar-btn-prev-year\" href=\"#\" onclick=\"return tCR(\\'a=fno.datecalendercheck\\');\" title=\"이전 년도\"><span>이전 년도</span></a> <a class=\"bt_pv calendar-btn-prev-mon\" href=\"#\" onclick=\"return tCR(\\'a=fno.datecalendercheck\\');\" title=\"이전 달\"><span>이전 달</span></a> <a class=\"bt_nx calendar-btn-next-mon\" href=\"#\" onclick=\"return tCR(\\'a=fno.datecalendercheck\\');\" title=\"다음 달\"><span>다음 달</span></a> <a class=\"bt_nx2 calendar-btn-next-year\" href=\"#\" onclick=\"return tCR(\\'a=fno.datecalendercheck\\');\" title=\"다음 년도\"><span>다음 년도</span></a> </div> <div class=\"cal_date\"> <table cellspacing=\"0\" cellpadding=\"0\"> <caption class=\"blind\">기간 설정 달력</caption> <thead> <tr> <th scope=\"col\">일</th> <th scope=\"col\">월</th> <th scope=\"col\">화</th> <th scope=\"col\">수</th> <th scope=\"col\">목</th> <th scope=\"col\">금</th> <th scope=\"col\">토</th> </tr> </thead> <tbody> <tr class=\"calendar-week\"> <td> <a href=\"#\" class=\"calendar-date\" onclick=\"return tCR(\\'a=fno.datecalendercheck\\');\"></a> </td> <td> <a href=\"#\" class=\"calendar-date\" onclick=\"return tCR(\\'a=fno.datecalendercheck\\');\"></a> </td> <td> <a href=\"#\" class=\"calendar-date\" onclick=\"return tCR(\\'a=fno.datecalendercheck\\');\"></a> </td> <td> <a href=\"#\" class=\"calendar-date\" onclick=\"return tCR(\\'a=fno.datecalendercheck\\');\"></a> </td> <td> <a href=\"#\" class=\"calendar-date\" onclick=\"return tCR(\\'a=fno.datecalendercheck\\');\"></a> </td> <td> <a href=\"#\" class=\"calendar-date\" onclick=\"return tCR(\\'a=fno.datecalendercheck\\');\"></a> </td> <td> <a href=\"#\" class=\"calendar-date\" onclick=\"return tCR(\\'a=fno.datecalendercheck\\');\"></a> </td> </tr> </tbody> </table> </div> <p class=\"today _footer\"><span>오늘날짜</span><a href=\"#\" class=\"_today\" onclick=\"return tCR(\\'a=fno.datecalendertoday\\');\"></a> </p> <a class=\"ly_close _close\" href=\"#\" onclick=\"return tCR(\\'a=fno.datecalenderclose\\');\"> <img src=\"https://ssl.pstatic.net/sstatic/keypage/lifesrch/sports/img2010/bt_ly_close.gif\" width=\"11\" height=\"11\" alt=\"닫기\"> </a> </div><script> /* 검색옵션 - 기간 - !!기간 옵션이 있는 탭에서만 생성해주세요.!! */ $Fn(function () { new nhn.SearchOption.Date( $(\"_nx_option_date\"), { /* 적용 버튼 혹은 enter 키 입력시 호출되는 함수 */ fSubmit: function(p) { if (p) { nx_searchOptionSelect(\\'p\\', \\'direct\\'); } else { return tCR(\\'a=opt.periodinputapply\\'); } }, htCalendar: { /* 시작일을 나타내는 캘린더의 초기 설정될 날짜 값 */ htStartDate: {nYear: start_year,nMonth: start_month,nDate: start_day}, /* 종료일을 나타내는 캘린더의 초기 설정될 날짜 값 */ htEndDate: {nYear: end_year,nMonth: end_month,nDate: end_day}, /* 유효한 날짜 범위중 최소 날짜 (예. 1990.1.1) */ htMinDate: {nYear: 1990,nMonth: 1,nDate: 1}, /* 유효한 날짜 범위중 최대 날짜 (예. 오늘날자) */ htMaxDate: {nYear: headerfooter_time_year,nMonth: headerfooter_time_month,nDate: headerfooter_time_day}, /* 오늘날자 */ htTodayDate: {nYear: headerfooter_time_year,nMonth: headerfooter_time_month,nDate: headerfooter_time_day,nDay: headerfooter_time_wday} } } ); }).attach(window, \"load\") ; </script><script type=\"text/javascript\"> $Fn(function (we) { var el = we.element, elLnbMore = $(\"_nx_lnb_more\"); if (el != elLnbMore && !$Element(elLnbMore).isParentOf(el)) { $Element(\\'_nx_lnb_more\\').removeClass(\\'more_on\\'); } }).attach(document, \"click\"); </script></div><script type=\"text/javascript\"> var nx_location_rcode = \"09290125\" ; </script><div id=\"container\" role=\"main\"> <div id=\"content\" class=\"pack_group\"> <h1 class=\"blind\">박보영 통합검색 결과</h1> <div id=\"main_pack\" class=\"main_pack\"><script type=\\'text/javascript\\'>var nx_cr_area_info=[{ n:\"nco_x29\",r:1 },{ n:\"nws_all\",r:2 },{ n:\"kin_2nd\",r:3 },{ n:\"pst_bas\",r:4 },{ n:\"web_all\",r:5 },{ n:\"kdc_gnl\",r:6 },{ n:\"caf_bas\",r:7 },{ n:\"blg_1st\",r:8 },{ n:\"vdo_bas\",r:9 },{ n:\"img_mre\",r:10 },{ n:\"bok_mre\",r:11 }];</script><div id=\"nx_related_keywords\" class=\"sp_keyword section\"> <dl class=\"relate_area _related_keyword_area\"> <dt><span class=\"tit_relate  _related_keyword_lis\">연관검색어</span ><a onclick=\"return goOtherCR(this, \\'a=rsk.guide&r=&i=&u=\\'+urlencode(urlexpand(this.href)));\" href=\"https://help.naver.com/support/alias/search/word/word_1.naver\" target=\"_blank\" class=\"link_help\" ><i class=\"sprenew api_ico_help\">도움말</i></a></dt> <dd class=\"lst_relate _related_keyword_list\" style=\"display: block;\"> <ul class=\"_related_keyword_ul\"> <li> <a href=\"?where=nexearch&query=%EB%B0%95%EB%B3%B4%EC%98%81+%EB%82%98%EC%9D%B4&ie=utf8&sm=tab_she&qdt=0\" data-idx=\"1\" data-area=\"*q\">박보영 나이</a> </li> <li> <a href=\"?where=nexearch&query=%EB%B0%95%EB%B3%B4%EC%98%81+%EA%B9%80%EC%98%81%EA%B4%91+%EC%97%B4%EC%95%A0&ie=utf8&sm=tab_she&qdt=0\" data-idx=\"2\" data-area=\"*q\">박보영 김영광 열애</a> </li> <li> <a href=\"?where=nexearch&query=%EB%B0%95%EB%B3%B4%EC%98%81+%ED%82%A4&ie=utf8&sm=tab_she&qdt=0\" data-idx=\"3\" data-area=\"*q\">박보영 키</a> </li> <li> <a href=\"?where=nexearch&query=%EB%B0%95%EB%B3%B4%EC%98%81+%EB%82%98%EB%AC%B4%EC%9C%84%ED%82%A4&ie=utf8&sm=tab_she&qdt=0\" data-idx=\"4\" data-area=\"*q\">박보영 나무위키</a> </li> <li> <a href=\"?where=nexearch&query=%EB%B0%95%EB%B3%B4%EC%98%81+%EA%B0%A4%EB%9F%AC%EB%A6%AC&ie=utf8&sm=tab_she&qdt=0\" data-idx=\"5\" data-area=\"*q\">박보영 갤러리</a> </li> <li> <a href=\"?where=nexearch&query=%EC%95%88%ED%9A%A8%EC%84%AD&ie=utf8&sm=tab_she&qdt=0\" data-idx=\"6\" data-area=\"*q\">안효섭</a> </li> <li> <a href=\"?where=nexearch&query=%EC%96%B4%EB%B9%84%EC%8A%A4&ie=utf8&sm=tab_she&qdt=0\" data-idx=\"7\" data-area=\"*q\">어비스</a> </li> <li> <a href=\"?where=nexearch&query=%EB%B0%95%EB%B3%B4%EA%B2%80&ie=utf8&sm=tab_she&qdt=0\" data-idx=\"8\" data-area=\"*q\">박보검</a> </li> <li> <a href=\"?where=nexearch&query=%EB%B0%95%EB%B3%B4%EC%98%81+%EC%9D%B8%EC%8A%A4%ED%83%80%EA%B7%B8%EB%9E%A8&ie=utf8&sm=tab_she&qdt=0\" data-idx=\"9\" data-area=\"*q\">박보영 인스타그램</a> </li> <li> <a href=\"?where=nexearch&query=%EC%A0%95%ED%95%B4%EC%9D%B8+%EC%9D%B4%EC%83%81%ED%98%95&ie=utf8&sm=tab_she&qdt=0\" data-idx=\"10\" data-area=\"*q\">정해인 이상형</a> </li> </ul> </dd> <dd class=\"closed _related_keyword_closed\" style=\"display:none\"> 닫기 후 1주일간 유지됩니다. 연관검색어를 다시 보시겠습니까? <a href=\"#\" class=\"open _related_keyword_toggle\" onclick=\"return false;\" role=\"button\">열기</a></dd> </dl> <div class=\"ly_option _related_keyword_option\" style=\"display: block;\"> <a href=\"#\" class=\"btn_more _related_keyword_btn_more\" onclick=\"return false;\" style=\"display: none;\" role=\"button\"><span class=\"unfold\">더보기<span class=\"spkw ico_darr\"></span></span><span class=\"fold\">접기<span class=\"spkw ico_uarr\"></span></span></a><a class=\"btn_report\" href=\"https://help.naver.com/support/alias/search/word/word_2.naver\" target=\"_blank\" onclick=\"return goOtherCR(this, \\'a=rsk.report&r=&i=&u=\\'+urlencode(urlexpand(this.href)));\">신고</a> <a href=\"#\" class=\"btn_close _related_keyword_toggle\" onclick=\"return false;\" role=\"button\"><span class=\"spkw\">검색어제안 기능 닫기</span></a> </div> </div> <script type=\"text/javascript\"> (function() { jQuery( document ).ready(function() { var elRoot = jQuery(\"#nx_related_keywords\"); var elKs = elRoot.find(\"._related_keyword_list\"); var btnMore = elRoot.find(\"._related_keyword_btn_more\"); var cr = \"rsk\"; var ck = \"qre\"; var sectionWidth = document.getElementById(\"nx_related_keywords\").offsetWidth; function init() { elKs.hide(); if (nx_get_cookie(ck)) show_list(false); else show_list(true); } function rearrange_list() { var eD = elRoot.find(\"._related_keyword_area\"); var c = \"relate_area_v1\"; var h1, h2; h1 = elKs.find(\"._related_keyword_ul\"); h2 = h1.find(\"li\").last(); if (h2.offset().top - h1.offset().top < 50) { btnMore.hide(); eD.addClass(c); } else { btnMore.show(); eD.removeClass(c); } } function show_list(doOpen) { var eClose = elRoot.find(\"._related_keyword_closed\"); var eOption = elRoot.find(\"._related_keyword_option\"); if (doOpen) { elKs.show(); eClose.hide(); eOption.show(); } else { elKs.hide(); eClose.show(); eOption.hide(); } } btnMore.on( \"click\", function(e) { var lg = cr + \".list1more\"; if (elRoot.hasClass(\"unfold\")) lg = cr + \".list1close\"; elRoot.toggleClass(\"unfold\"); return tCR(lg, 1, \"\"); }); elRoot.find(\"._related_keyword_toggle\").on( \"click\", function(e) { var lg, d; if (jQuery(e.currentTarget).hasClass(\"open\")) { lg = cr + \".1unfold\"; show_list(true); nx_set_cookie(ck, \"\", -1, nx_au_cookie_domain); } else { lg = cr + \".1fold\"; show_list(false); d = new Date(); d.setDate(d.getDate() + 7); nx_set_cookie(ck, 1, d, nx_au_cookie_domain); } return tCR(lg, 1, \"\"); }); elKs.find(\"> ul > li > a\").on( \"click\", function(e) { var oThis = e.currentTarget; var eT = jQuery(oThis); return goOtherCR(oThis, \\'a=\\' + cr + eT.attr(\"data-area\") + \\'.list1&r=\\' + eT.attr(\"data-idx\") + \\'&i=&u=\\' + urlencode(oThis.href)); }); init(); rearrange_list(); }); })(); </script> <script type=text/javascript>var g_uad = false; </script><script type=\"text/javascript\">var nco_area_126986_475608_264842_1967805 = \"nco_x29*3\";var nco_gdid_126986_475608_264842_1967805 = \"1800000D_00000001F00A+1800000D_0000000741D8+1800000D_000000040A8A+1800000D_0000001E06BD\";var nco_area_p1 = \"nco_x29*3\";var nco_gdid_p1 = \"1800000D_00000001F00A+1800000D_0000000741D8+1800000D_000000040A8A+1800000D_0000001E06BD\";var dss_highlighting_action_type_1 = [];</script> <script type=\"text/javascript\"> nhn = window.nhn || {}; nhn.dss = nhn.dss || {}; nhn.dss.x29Base = { name : \\'people\\', desc : \\'people\\', agentIsMac : $Agent().os().mac }; </script> <script type = \"text/javascript\"> function tx_noimage_thumb(img, className, noimage) { img.onerror = null; if (noimage) { img.src = noimage; } else { img.src = \"https://ssl.pstatic.net/sstatic/search/images11/blank.gif\"; } if (img.alt == \\'\\') { img.alt = \"이미지 준비중\"; } else { img.alt = img.alt + \" 준비중\"; } if (className) { img.className = className; } } function tx_set_href(a) { if(a.href) a.href = a.href.replace(/&query=[^&]*/g, \"&query=\" + headerfooter_query_encoded_utf8); } </script> <link rel=\"stylesheet\" type=\"text/css\" href=\"https://ssl.pstatic.net/sstatic/keypage/outside/scui/people/css/pcs_people_190711.css\"> <!--NX 96397a260d027d322ed9abbce76a0fba--> <script> txinfo_people_gdid=\"1800000D_00000001F00A\"; var tx_result_count = 4; </script> <script type=\"text/javascript\">var tx_result = 1;</script> <div class=\"people_info section _people_info _cs_same_name people_spc\" id=\"people_info_z\" data-dss-logarea=\"x29\"> <div class=\"section_head\"><h2>인물 정보</h2></div> <div class=\"cont_noline\" style=\"z-index:10\"> <div class=\"profile_wrap\"> <div class=\"big_thumb\"> <a nocr onclick=\"return goOtherCR(this, \\'u=\\'+urlencode(this.href)+\\'&r=1&a=\\'+nco_area_126986_475608_264842_1967805+\\'.image&i=\\'+\\'1800000D_00000001F00A\\');\" href=\"https://search.naver.com/search.naver?where=image&query=%EB%B0%95%EB%B3%B4%EC%98%81&merge=0&res_fr=0&res_to=0&sort=0&viewtype=0&site=&face=1&color=0&mcs=0&a_q=&n_q=&o_q=&sm=tab_etc\"><img src=\"https://search.pstatic.net/common?type=a&size=120x150&quality=95&direct=true&src=http%3A%2F%2Fsstatic.naver.net%2Fpeople%2Fportrait%2F201312%2F20131211170041770-2535427.jpg\" alt=\"영화배우 박보영 이미지\" width=\"120\" height=\"150\" onerror=\"tx_noimage_thumb(this, \\'sp_noimg\\', \\'https://ssl.pstatic.net/sstatic/search/images11/blank.gif\\');\"></a> <a nocr onclick=\"return goOtherCR(this, \\'u=\\'+urlencode(this.href)+\\'&r=1&a=\\'+nco_area_126986_475608_264842_1967805+\\'.edit&i=\\'+\\'1800000D_00000001F00A\\');\" class=\"btn_profile_update\" href=\"http://myprofile.naver.com\" target=\"_blank\"><span class=\"blind\">영화배우 박보영</span>내 인물정보 수정</a> </div> <dl class=\"detail_profile\"> <dd class=\"name\"><a nocr onclick=\"return goOtherCR(this, \\'u=\\'+urlencode(this.href)+\\'&r=1&a=\\'+nco_area_126986_475608_264842_1967805+\\'.namepeople&i=\\'+\\'1800000D_00000001F00A\\');\" href=\"https://people.search.naver.com/search.naver?where=nexearch&query=%EB%B0%95%EB%B3%B4%EC%98%81&sm=tab_etc&ie=utf8&key=PeopleService&os=126986\" target=\"_blank\"><strong>박보영</strong></a> <span>영화배우, 탤런트</span> </dd> <dt>소속사</dt><dd><a nocr onclick=\"return goOtherCR(this, \\'u=\\'+urlencode(this.href)+\\'&r=1&a=\\'+nco_area_126986_475608_264842_1967805+\\'.management&i=\\'+\\'1800000D_00000001F00A\\');\" href=\"?where=nexearch&sm=tab_etc&query=%ED%94%BC%EB%8D%B0%EC%8A%A4%EC%8A%A4%ED%8C%8C%ED%8B%B0%EC%9C%B0\">피데스스파티윰</a></dd> <dt>학력</dt> <dd><a nocr onclick=\"return goOtherCR(this, \\'u=\\'+urlencode(this.href)+\\'&r=1&a=\\'+nco_area_126986_475608_264842_1967805+\\'.school&i=\\'+\\'1800000D_00000001F00A\\');\" href=\"?where=nexearch&sm=tab_etc&query=%EB%8B%A8%EA%B5%AD%EB%8C%80%ED%95%99%EA%B5%90\">단국대학교</a> 연극영화학</dd> <dt>데뷔</dt> <dd><span>2006년 EBS 드라마 \\'비밀의 교정\\'</span></dd> <dt>수상</dt> <dd> 2018년 제23회 소비자의 날 문화연예 시상식 관객이 뽑은 올해의 배우 부문 <br/> 2017년 제8회 대한민국 대중문화예술상 문화체육관광부장관 표창</dd> <dt>경력</dt> <dd> 2015.09 관세청 홍보대사</dd><dt>사이트</dt> <dd> <a nocr onclick=\"return goOtherCR(this, \\'u=\\'+urlencode(this.href)+\\'&r=1&a=\\'+nco_area_126986_475608_264842_1967805+\\'.officialsite&i=\\'+\\'1800000D_00000001F00A\\');\" href=\"http://cafe.daum.net/parkboyoungfd\" target=\"_blank\">공식사이트</a>, <a nocr onclick=\"return goOtherCR(this, \\'u=\\'+urlencode(this.href)+\\'&r=1&a=\\'+nco_area_126986_475608_264842_1967805+\\'.vlive&i=\\'+\\'1800000D_00000001F00A\\');\" href=\"http://www.vlive.tv/channels/FCE49\" target=\"_blank\">V LIVE</a></dd> </dl> </div> </div> <div class=\"go_relate\"> <div class=\"offer_more2\"> <div class=\"confirm\"> <em>본인참여</em> 2019.06.04. <a nocr href=\"javascript:;\" id=\"more_div_btn\"><img src=\"https://ssl.pstatic.net/sstatic/search/img/ico_help.gif\" width=\"12\" height=\"12\" alt=\"네이버 인물정보 도움말\"></a> </div> <div style=\"left:-65px;width:286px;visibility:hidden;\" class=\"layer_tooltip_wrap\" id=\"tooltip_layer\"> <div class=\"layer_tooltip2\"> <div class=\"content\"> <p>당사자 본인이 직접 또는 그 대리인을 통해 네이버에<br>제공한 자료를 중심으로 제공하는 인물정보입니다.<br>본인 또는 그 대리인이 마지막으로 신청한 건이 처리된<br>날짜가 본인참여 일자로 표시됩니다. </p> <a nocr onclick=\"return goOtherCR(this, \\'a=nco_x29*3.imaginfmy&r=1&i=1800000D_00000001F00A+1800000D_0000000741D8+1800000D_000000040A8A+1800000D_0000001E06BD&u=\\' + urlencode(this.href));\" href=\"https://myprofile.naver.com/Main.nhn\" class=\"request\" target=\\'_blank\\'>인물정보 수정신청</a>, <a nocr onclick=\"return goOtherCR(this, \\'a=nco_x29*3.imaginfcs&r=1&i=1800000D_00000001F00A+1800000D_0000000741D8+1800000D_000000040A8A+1800000D_0000001E06BD&u=\\' + urlencode(this.href));\" href=\"https://help.naver.com/support/alias/search/people/people_0.naver\" class=\"helpdesk\" target=\\'_blank\\'>네이버 고객센터</a> <a nocr onClick=\"fnLayerClose();return false;\" href=\"javascript:;\" class=\"closelayer C\"><img src=\"https://ssl.pstatic.net/sstatic/search/images11/btn_layer_close.gif\" width=\"10\" height=\"9\" alt=\"네이버 인물정보 도움말 닫기\"></a> <span class=\"arw detail C\"></span> </div> </div> </div> </div> <script type=\"text/javascript\"> $Fn(fnLayerOpen).attach($(\\'more_div_btn\\'), \"click\"); function fnLayerOpen(e) { $(\\'tooltip_layer\\').style.visibility = \"visible\"; goOtherTCR(this, \\'a=nco_x29*3.imaginf&r=1&i=1800000D_00000001F00A+1800000D_0000000741D8+1800000D_000000040A8A+1800000D_0000001E06BD\\'); } function fnLayerClose(e) { $(\\'tooltip_layer\\').style.visibility = \"hidden\"; $(\\'more_div_btn\\').focus(); goOtherTCR(this, \\'a=nco_x29*3.imaginfclose&r=1&i=1800000D_00000001F00A+1800000D_0000000741D8+1800000D_000000040A8A+1800000D_0000001E06BD\\'); } </script> <a nocr onclick=\"return goOtherCR(this, \\'u=\\'+urlencode(this.href)+\\'&r=1&a=\\'+nco_area_126986_475608_264842_1967805+\\'.profiledetail&i=\\'+\\'1800000D_00000001F00A\\');\" href=\"https://people.search.naver.com/search.naver?where=nexearch&query=%EB%B0%95%EB%B3%B4%EC%98%81&sm=tab_etc&ie=utf8&key=PeopleService&os=126986\" class=\"btn_txt_more\" target=\"_blank\"><span class=\"blind\">영화배우 박보영</span>인물정보 더보기</a> </div> <script type=\"text/javascript\"> var __sDefaultPeopleTab = \"네이버TV\"; </script> <div class=\"people_type\" id=\"tx_ca_people_workall\"> <div class=\"texttab_type\"> <ul> <li id=\"tx_ca_people_tvcast_tab\" class=\"select\"> <a nocr=\"1\" href=\"#\" class=\"pg_btn\">네이버TV</a> </li> <li id=\"tx_ca_people_album_tab\"> <a nocr=\"1\" href=\"#\" class=\"pg_btn\">앨범</a> </li> <li id=\"tx_ca_people_movie_tab\"> <a nocr=\"1\" href=\"#\" class=\"pg_btn\">영화</a> </li> <li id=\"tx_ca_people_onair_tab\"> <a nocr=\"1\" href=\"#\" class=\"pg_btn\">방송</a> </li> <li id=\"tx_ca_people_play_tab\"> <a nocr=\"1\" href=\"#\" class=\"pg_btn\">공연</a> </li> </ul> </div> <div class=\"lst_cont tvcast \"> <h3 class=\"blind\">네이버TV</h3> <ul > <li> <div class=\"thumb_box\"> <a nocr onclick=\"return goOtherCR(this, \\'a=nco_x29*3.tvcimg&r=1&i=1800000D_00000001F00A&u=\\' + urlencode(this.href));\" target=\"_blank\" href=\"https://tv.naver.com/v/8943026\"> <img src=\"https://search.pstatic.net/common?type=ofullfill_black&size=128x72&quality=95&direct=true&src=https%3A%2F%2Fphinf.pstatic.net%2Ftvcast%2F20190627_211%2F1IxVl_1561597021532ww5ww_JPEG%2FB120192997_EPI0016_21_B.jpg\" alt=\"[메이킹] 굿바이 어비스! 구슬이들의 마지막 종영 인사 ㅠ_ㅠ 진짜 안녕~\" width=\"128\" height=\"72\" onerror=\"tx_noimage_thumb(this, \\'sp_noimg\\', \\'https://ssl.pstatic.net/sstatic/search/images11/blank.gif\\');\" class=\"\"> <span class=\"ico_play\"></span> <span class=\"runtime\"><span class=\"bg\">재생시간</span><em>2분 26초</em></span> <span class=\"img_bd\"></span> </a> </div> <div class=\"txt_box\"> <a nocr onclick=\"return goOtherCR(this, \\'a=nco_x29*3.tvctit&r=1&i=1800000D_00000001F00A&u=\\' + urlencode(this.href));\" target=\"_blank\" href=\"https://tv.naver.com/v/8943026\" class=\"cast_txt\">[메이킹] 굿바이 어비스! 구슬이들의 마지...</a> <span class=\"day_txt\">2019.06.27.</span> </div> </li> <li> <div class=\"thumb_box\"> <a nocr onclick=\"return goOtherCR(this, \\'a=nco_x29*3.tvcimg&r=1&i=1800000D_00000001F00A&u=\\' + urlencode(this.href));\" target=\"_blank\" href=\"https://tv.naver.com/v/8931184\"> <img src=\"https://search.pstatic.net/common?type=ofullfill_black&size=128x72&quality=95&direct=true&src=https%3A%2F%2Fphinf.pstatic.net%2Ftvcast%2F20190627_15%2FNvbep_1561597017419qCEmI_JPEG%2FB120192997_EPI0016_20_B.jpg\" alt=\"[메이킹] 구슬커플의 꽁냥꽁냥 놀이공원 데이트 현장 비하인드★\" width=\"128\" height=\"72\" onerror=\"tx_noimage_thumb(this, \\'sp_noimg\\', \\'https://ssl.pstatic.net/sstatic/search/images11/blank.gif\\');\" class=\"\"> <span class=\"ico_play\"></span> <span class=\"runtime\"><span class=\"bg\">재생시간</span><em>5분 02초</em></span> <span class=\"img_bd\"></span> </a> </div> <div class=\"txt_box\"> <a nocr onclick=\"return goOtherCR(this, \\'a=nco_x29*3.tvctit&r=1&i=1800000D_00000001F00A&u=\\' + urlencode(this.href));\" target=\"_blank\" href=\"https://tv.naver.com/v/8931184\" class=\"cast_txt\">[메이킹] 구슬커플의 꽁냥꽁냥 놀이공원 데...</a> <span class=\"day_txt\">2019.06.26.</span> </div> </li> <li> <div class=\"thumb_box\"> <a nocr onclick=\"return goOtherCR(this, \\'a=nco_x29*3.tvcimg&r=1&i=1800000D_00000001F00A&u=\\' + urlencode(this.href));\" target=\"_blank\" href=\"https://tv.naver.com/v/8921921\"> <img src=\"https://search.pstatic.net/common?type=ofullfill_black&size=128x72&quality=95&direct=true&src=https%3A%2F%2Fphinf.pstatic.net%2Ftvcast%2F20190625_71%2FrIL5V_1561471031305alNsB_JPEG%2FB120192997_EPI0016_19_B.jpg\" alt=\"[해피엔딩] 박보영-안효섭에게 더 큰 기적을 선물해준 어비스♥\" width=\"128\" height=\"72\" onerror=\"tx_noimage_thumb(this, \\'sp_noimg\\', \\'https://ssl.pstatic.net/sstatic/search/images11/blank.gif\\');\" class=\"\"> <span class=\"ico_play\"></span> <span class=\"runtime\"><span class=\"bg\">재생시간</span><em>3분 15초</em></span> <span class=\"img_bd\"></span> </a> </div> <div class=\"txt_box\"> <a nocr onclick=\"return goOtherCR(this, \\'a=nco_x29*3.tvctit&r=1&i=1800000D_00000001F00A&u=\\' + urlencode(this.href));\" target=\"_blank\" href=\"https://tv.naver.com/v/8921921\" class=\"cast_txt\">[해피엔딩] 박보영-안효섭에게 더 큰 기적...</a> <span class=\"day_txt\">2019.06.25.</span> </div> </li> <li> <div class=\"thumb_box\"> <a nocr onclick=\"return goOtherCR(this, \\'a=nco_x29*3.tvcimg&r=1&i=1800000D_00000001F00A&u=\\' + urlencode(this.href));\" target=\"_blank\" href=\"https://tv.naver.com/v/8921918\"> <img src=\"https://search.pstatic.net/common?type=ofullfill_black&size=128x72&quality=95&direct=true&src=https%3A%2F%2Fphinf.pstatic.net%2Ftvcast%2F20190625_133%2FKYGbr_15614710227139vMXt_JPEG%2FB120192997_EPI0016_18_B.jpg\" alt=\"결혼했는데도 아내만 보면 심장이 터질 것 같아요♥\" width=\"128\" height=\"72\" onerror=\"tx_noimage_thumb(this, \\'sp_noimg\\', \\'https://ssl.pstatic.net/sstatic/search/images11/blank.gif\\');\" class=\"\"> <span class=\"ico_play\"></span> <span class=\"runtime\"><span class=\"bg\">재생시간</span><em>2분 01초</em></span> <span class=\"img_bd\"></span> </a> </div> <div class=\"txt_box\"> <a nocr onclick=\"return goOtherCR(this, \\'a=nco_x29*3.tvctit&r=1&i=1800000D_00000001F00A&u=\\' + urlencode(this.href));\" target=\"_blank\" href=\"https://tv.naver.com/v/8921918\" class=\"cast_txt\">결혼했는데도 아내만 보면 심장이 터질 것 ...</a> <span class=\"day_txt\">2019.06.25.</span> </div> </li> </ul> <a nocr onclick=\"return goOtherCR(this, \\'a=nco_x29*3.tvcmore&r=1&i=1800000D_00000001F00A&u=\\' + urlencode(this.href));\" target=\"_blank\" class=\"more_view\" href=\"http://tv.naver.com/search/clip?query=박보영&sort=date\"><span class=\"blind\">네이버TV </span>더보기</a> </div> <div class=\"lst_cont albumlist\" id=\"tx_ca_people_album_content\" style=\"display:;\"> <h3 class=\"blind\">앨범</h3> <ul> <li><div class=\"thumb\"><a nocr onclick=\"return goOtherCR(this, \\'u=\\'+urlencode(this.href)+\\'&r=1&a=\\'+nco_area_126986_475608_264842_1967805+\\'.albumimage&i=\\'+\\'1800000D_00000001F00A\\');\" href=\"https://music.naver.com/album/index.nhn?albumId=2500698\" target=\"_blank\"><img src=\"https://search.pstatic.net/common?type=o&size=78x71&quality=95&direct=true&src=https%3A%2F%2Fmusicmeta-phinf.pstatic.net%2Falbum%2F002%2F500%2F2500698.jpg%3Ftype%3Dr204Fll%26v%3D20181212201549\" alt=\"영화 너의결혼식 OST Part 1\" width=\"78\" height=\"71\" onerror=\"tx_noimage_thumb(this, \\'sp_noimg\\', \\'https://ssl.pstatic.net/sstatic/search/images11/blank.gif\\');\" class=\"\"><img height=\"75\" width=\"84\" class=\"bg_album\" alt=\"\" src=\"https://ssl.pstatic.net/sstatic/search/images11/blank.gif\"></a></div><dl><dt><a nocr onclick=\"return goOtherCR(this, \\'u=\\'+urlencode(this.href)+\\'&r=1&a=\\'+nco_area_126986_475608_264842_1967805+\\'.albumtitle&i=\\'+\\'1800000D_00000001F00A\\');\" class=\"sh_people_title sh_people_link\" href=\"https://music.naver.com/album/index.nhn?albumId=2500698\" target=\"_blank\" title=\\'영화 너의결혼식 OST Part 1\\'>영화 너의결혼식 ...</a></dt> <dd >박보영</dd> <dd>2018.08.15</dd> </dl> </li> <li><div class=\"thumb\"><a nocr onclick=\"return goOtherCR(this, \\'u=\\'+urlencode(this.href)+\\'&r=1&a=\\'+nco_area_126986_475608_264842_1967805+\\'.albumimage&i=\\'+\\'1800000D_00000001F00A\\');\" href=\"https://music.naver.com/album/index.nhn?albumId=565464\" target=\"_blank\"><img src=\"https://search.pstatic.net/common?type=o&size=78x71&quality=95&direct=true&src=https%3A%2F%2Fmusicmeta-phinf.pstatic.net%2Falbum%2F000%2F565%2F565464.jpg%3Ftype%3Dr204Fll%26v%3D20181011204155\" alt=\"오 나의 귀신님 OST Part 3\" width=\"78\" height=\"71\" onerror=\"tx_noimage_thumb(this, \\'sp_noimg\\', \\'https://ssl.pstatic.net/sstatic/search/images11/blank.gif\\');\" class=\"\"><img height=\"75\" width=\"84\" class=\"bg_album\" alt=\"\" src=\"https://ssl.pstatic.net/sstatic/search/images11/blank.gif\"></a></div><dl><dt><a nocr onclick=\"return goOtherCR(this, \\'u=\\'+urlencode(this.href)+\\'&r=1&a=\\'+nco_area_126986_475608_264842_1967805+\\'.albumtitle&i=\\'+\\'1800000D_00000001F00A\\');\" class=\"sh_people_title sh_people_link\" href=\"https://music.naver.com/album/index.nhn?albumId=565464\" target=\"_blank\" title=\\'오 나의 귀신님 OST Part 3\\'>오 나의 귀신님 ...</a></dt> <dd >박보영</dd> <dd>2015.07.31</dd> </dl> </li> </ul> </div><div class=\"lst_cont\" id=\"tx_ca_people_movie_content\" style=\"display:;\"> <h3 class=\"blind\">영화</h3> <ul> <li> <div class=\"big_thumb\"><a nocr onclick=\"return goOtherCR(this, \\'u=\\'+urlencode(this.href)+\\'&r=1&a=\\'+nco_area_126986_475608_264842_1967805+\\'.movieimage&i=\\'+\\'1800000D_00000001F00A\\');\" href=\"https://movie.naver.com/movie/bi/mi/basic.nhn?code=140652\" target=\"_blank\"><img src=\"https://search.pstatic.net/common?type=ofullfill&size=56x80&quality=95&direct=true&src=https%3A%2F%2Fssl.pstatic.net%2Fimgmovie%2Fmdi%2Fmi%2F1406%2F140652_P38_143110.jpg\" alt=\"너의 결혼식\" width=\"56\" height=\"80\" onerror=\"tx_noimage_thumb(this, \\'sp_noimg\\', \\'https://ssl.pstatic.net/sstatic/search/images11/blank.gif\\');\" class=\"\"></a></div> <dl> <dd><a nocr onclick=\"return goOtherCR(this, \\'u=\\'+urlencode(this.href)+\\'&r=1&a=\\'+nco_area_126986_475608_264842_1967805+\\'.movietitle&i=\\'+\\'1800000D_00000001F00A\\');\" class=\"sh_people_title sh_people_link\" href=\"https://movie.naver.com/movie/bi/mi/basic.nhn?code=140652\" target=\"_blank\" >너의 결혼식</a></dd> <dt>주연 - 환승희, 노래</dt> <dd>2018</dd> </dl> </li> <li> <div class=\"big_thumb\"><a nocr onclick=\"return goOtherCR(this, \\'u=\\'+urlencode(this.href)+\\'&r=1&a=\\'+nco_area_126986_475608_264842_1967805+\\'.movieimage&i=\\'+\\'1800000D_00000001F00A\\');\" href=\"https://movie.naver.com/movie/bi/mi/basic.nhn?code=128258\" target=\"_blank\"><img src=\"https://search.pstatic.net/common?type=ofullfill&size=56x80&quality=95&direct=true&src=https%3A%2F%2Fssl.pstatic.net%2Fimgmovie%2Fmdi%2Fmi%2F1282%2F128258_P44_104043.jpg\" alt=\"열정같은소리하고있네\" width=\"56\" height=\"80\" onerror=\"tx_noimage_thumb(this, \\'sp_noimg\\', \\'https://ssl.pstatic.net/sstatic/search/images11/blank.gif\\');\" class=\"\"></a></div> <dl> <dd><a nocr onclick=\"return goOtherCR(this, \\'u=\\'+urlencode(this.href)+\\'&r=1&a=\\'+nco_area_126986_475608_264842_1967805+\\'.movietitle&i=\\'+\\'1800000D_00000001F00A\\');\" class=\"sh_people_title sh_people_link\" href=\"https://movie.naver.com/movie/bi/mi/basic.nhn?code=128258\" target=\"_blank\" >열정같은소리하고있네</a></dd> <dt>주연 - 도라희</dt> <dd>2015</dd> </dl> </li> <li class=\"last\"> <div class=\"big_thumb\"><a nocr onclick=\"return goOtherCR(this, \\'u=\\'+urlencode(this.href)+\\'&r=1&a=\\'+nco_area_126986_475608_264842_1967805+\\'.movieimage&i=\\'+\\'1800000D_00000001F00A\\');\" href=\"https://movie.naver.com/movie/bi/mi/basic.nhn?code=130733\" target=\"_blank\"><img src=\"https://search.pstatic.net/common?type=ofullfill&size=56x80&quality=95&direct=true&src=https%3A%2F%2Fssl.pstatic.net%2Fimgmovie%2Fmdi%2Fmi%2F1307%2F130733_P34_095700.jpg\" alt=\"돌연변이\" width=\"56\" height=\"80\" onerror=\"tx_noimage_thumb(this, \\'sp_noimg\\', \\'https://ssl.pstatic.net/sstatic/search/images11/blank.gif\\');\" class=\"\"></a></div> <dl> <dd><a nocr onclick=\"return goOtherCR(this, \\'u=\\'+urlencode(this.href)+\\'&r=1&a=\\'+nco_area_126986_475608_264842_1967805+\\'.movietitle&i=\\'+\\'1800000D_00000001F00A\\');\" class=\"sh_people_title sh_people_link\" href=\"https://movie.naver.com/movie/bi/mi/basic.nhn?code=130733\" target=\"_blank\" >돌연변이</a></dd> <dt>주연 - 주진</dt> <dd>2015</dd> </dl> </li> </ul> <a nocr onclick=\"return goOtherCR(this, \\'u=\\'+urlencode(this.href)+\\'&r=1&a=\\'+nco_area_126986_475608_264842_1967805+\\'.wtmoviemore&i=\\'+\\'1800000D_00000001F00A\\');\" class=\"more_view\" href=\"http://movie.naver.com/movie/bi/pi/filmo.nhn?code=116132&v=i\" target=\"_blank\" ><span class=\"blind\">영화 </span>더보기</a> </div><div class=\"lst_cont\" id=\"tx_ca_people_onair_content\" style=\"display:;\"> <h3 class=\"blind\">방송</h3> <ul> <li> <div class=\"big_thumb\"> <a nocr onclick=\"return goOtherCR(this, \\'u=\\'+urlencode(this.href)+\\'&r=1&a=\\'+nco_area_126986_475608_264842_1967805+\\'.dramaimage&i=\\'+\\'1800000D_00000001F00A\\');\" href=\"?where=nexearch&sm=tab_etc&mra=bjkw&x_csa=%7B%22pkid%22%3A%2257%22%2C%22os%22%3A%228692982%22%7D&pkid=57&os=8692982&query=%EC%96%B4%EB%B9%84%EC%8A%A4\"><img src=\"https://search.pstatic.net/common?type=o&size=58x82&quality=95&direct=true&src=http%3A%2F%2Fsstatic.naver.net%2Fkeypage%2Fimage%2Fdss%2F57%2F69%2F29%2F82%2F57_8692982_poster_image_1554443597663.jpg\" alt=\"어비스\" width=\"58\" height=\"82\" onerror=\"tx_noimage_thumb(this, \\'sp_noimg\\', \\'https://ssl.pstatic.net/sstatic/search/images11/blank.gif\\');\" class=\"\"></a> </div> <dl> <dd><a nocr onclick=\"return goOtherCR(this, \\'u=\\'+urlencode(this.href)+\\'&r=1&a=\\'+nco_area_126986_475608_264842_1967805+\\'.dramatitle&i=\\'+\\'1800000D_00000001F00A\\');\" href=\"?where=nexearch&sm=tab_etc&mra=bjkw&x_csa=%7B%22pkid%22%3A%2257%22%2C%22os%22%3A%228692982%22%7D&pkid=57&os=8692982&query=%EC%96%B4%EB%B9%84%EC%8A%A4\" >어비스</a></dd> <dt><a nocr onclick=\"return goOtherCR(this, \\'u=\\'+urlencode(this.href)+\\'&r=1&a=\\'+nco_area_126986_475608_264842_1967805+\\'.dramacharacter&i=\\'+\\'1800000D_00000001F00A\\');\" href=\"?where=nexearch&sm=tab_etc&query=%EC%96%B4%EB%B9%84%EC%8A%A4%EA%B3%A0%EC%84%B8%EC%97%B0\">고세연</a>(주연)</dt> <dd>2019</dd> </dl> </li> <li> <div class=\"big_thumb\"> <a nocr onclick=\"return goOtherCR(this, \\'u=\\'+urlencode(this.href)+\\'&r=1&a=\\'+nco_area_126986_475608_264842_1967805+\\'.dramaimage&i=\\'+\\'1800000D_00000001F00A\\');\" href=\"?where=nexearch&sm=tab_etc&mra=bjkw&x_csa=%7B%22pkid%22%3A%2257%22%2C%22os%22%3A%223619390%22%7D&pkid=57&os=3619390&query=%ED%9E%98%EC%8E%88%EC%97%AC%EC%9E%90%EB%8F%84%EB%B4%89%EC%88%9C\"><img src=\"https://search.pstatic.net/common?type=o&size=58x82&quality=95&direct=true&src=http%3A%2F%2Fsstatic.naver.net%2Fkeypage%2Fimage%2Fdss%2F57%2F61%2F93%2F90%2F57_3619390_poster_image_1486002679074.jpg\" alt=\"힘쎈여자 도봉순\" width=\"58\" height=\"82\" onerror=\"tx_noimage_thumb(this, \\'sp_noimg\\', \\'https://ssl.pstatic.net/sstatic/search/images11/blank.gif\\');\" class=\"\"></a> </div> <dl> <dd><a nocr onclick=\"return goOtherCR(this, \\'u=\\'+urlencode(this.href)+\\'&r=1&a=\\'+nco_area_126986_475608_264842_1967805+\\'.dramatitle&i=\\'+\\'1800000D_00000001F00A\\');\" href=\"?where=nexearch&sm=tab_etc&mra=bjkw&x_csa=%7B%22pkid%22%3A%2257%22%2C%22os%22%3A%223619390%22%7D&pkid=57&os=3619390&query=%ED%9E%98%EC%8E%88%EC%97%AC%EC%9E%90%EB%8F%84%EB%B4%89%EC%88%9C\" >힘쎈여자 도봉순</a></dd> <dt><a nocr onclick=\"return goOtherCR(this, \\'u=\\'+urlencode(this.href)+\\'&r=1&a=\\'+nco_area_126986_475608_264842_1967805+\\'.dramacharacter&i=\\'+\\'1800000D_00000001F00A\\');\" href=\"?where=nexearch&sm=tab_etc&query=%ED%9E%98%EC%8E%88%EC%97%AC%EC%9E%90%EB%8F%84%EB%B4%89%EC%88%9C%EB%8F%84%EB%B4%89%EC%88%9C\">도봉순</a>(주연)</dt> <dd>2017</dd> </dl> </li> <li class=\"last\"> <div class=\"big_thumb\"> <a nocr onclick=\"return goOtherCR(this, \\'u=\\'+urlencode(this.href)+\\'&r=1&a=\\'+nco_area_126986_475608_264842_1967805+\\'.dramaimage&i=\\'+\\'1800000D_00000001F00A\\');\" href=\"?where=nexearch&sm=tab_etc&mra=bjkw&x_csa=%7B%22pkid%22%3A%2257%22%2C%22os%22%3A%223022014%22%7D&pkid=57&os=3022014&query=%EC%9C%84%ED%82%A4%EB%93%9C\"><img src=\"https://search.pstatic.net/common?type=o&size=58x82&quality=95&direct=true&src=http%3A%2F%2Fsstatic.naver.net%2Fkeypage%2Fimage%2Fdss%2F57%2F02%2F20%2F14%2F57_3022014_poster_image_1458009703337.jpg\" alt=\"위키드\" width=\"58\" height=\"82\" onerror=\"tx_noimage_thumb(this, \\'sp_noimg\\', \\'https://ssl.pstatic.net/sstatic/search/images11/blank.gif\\');\" class=\"\"></a> </div> <dl> <dd><a nocr onclick=\"return goOtherCR(this, \\'u=\\'+urlencode(this.href)+\\'&r=1&a=\\'+nco_area_126986_475608_264842_1967805+\\'.dramatitle&i=\\'+\\'1800000D_00000001F00A\\');\" href=\"?where=nexearch&sm=tab_etc&mra=bjkw&x_csa=%7B%22pkid%22%3A%2257%22%2C%22os%22%3A%223022014%22%7D&pkid=57&os=3022014&query=%EC%9C%84%ED%82%A4%EB%93%9C\" >위키드</a></dd> <dd>2016</dd> </dl> </li> </ul> <a nocr onclick=\"return goOtherCR(this, \\'u=\\'+urlencode(this.href)+\\'&r=1&a=\\'+nco_area_126986_475608_264842_1967805+\\'.wtonairmore&i=\\'+\\'1800000D_00000001F00A\\');\" class=\"more_view\" href=\"https://people.search.naver.com/search.naver?where=nexearch&query=%EB%B0%95%EB%B3%B4%EC%98%81&sm=tab_etc&ie=utf8&key=PeopleService&os=126986\" target=\"_blank\"><span class=\"blind\">방송 </span>더보기</a> </div><div class=\"lst_cont\" id=\"tx_ca_people_play_content\" style=\"display:none;\"> <h3 class=\"blind\">공연</h3> <ul> <li> <div class=\"big_thumb\"> <a nocr onclick=\"return goOtherCR(this, \\'u=\\'+urlencode(this.href)+\\'&r=1&a=\\'+nco_area_126986_475608_264842_1967805+\\'.playimage&i=\\'+\\'1800000D_00000001F00A\\');\" href=\"http://ticket.yes24.com/Pages/Perf/Detail/Detail.aspx?IdPerf=32189&site_pid=cp511NPlay1\" target=\"_blank\"><img src=\"https://search.pstatic.net/common?type=mfullfill&size=66x80&quality=95&direct=true&src=https%3A%2F%2Fdbscthumb-phinf.pstatic.net%2F4209_000_3%2F20190115142551814_TP4Q0656W.jpg%2F2019%2B%25EB%25B0%2595%25EB%25B3%25B4.jpg%3Ftype%3Dr160\" alt=\"2019 박보영 팬미팅 [어느, 맑은 하루]\" width=\"66\" height=\"80\" onerror=\"tx_noimage_thumb(this, \\'sp_noimg\\', \\'https://ssl.pstatic.net/sstatic/search/images11/blank.gif\\');\" class=\"\"></a> </div> <dl> <dd> <a nocr onclick=\"return goOtherCR(this, \\'u=\\'+urlencode(this.href)+\\'&r=1&a=\\'+nco_area_126986_475608_264842_1967805+\\'.playtitle&i=\\'+\\'1800000D_00000001F00A\\');\" class=\"sh_people_title sh_people_link\" href=\"http://ticket.yes24.com/Pages/Perf/Detail/Detail.aspx?IdPerf=32189&site_pid=cp511NPlay1\" target=\"_blank\" title=\\'2019 박보영 팬미팅 [어느, 맑은 하루]\\'>2019 박보영 ...</a></dd> <dt>광림아트센터 BBCH홀</dt> <dd>2019.02.09</dd> </dl> </li> <li> <div class=\"big_thumb\"> <a nocr onclick=\"return goOtherCR(this, \\'u=\\'+urlencode(this.href)+\\'&r=1&a=\\'+nco_area_126986_475608_264842_1967805+\\'.playimage&i=\\'+\\'1800000D_00000001F00A\\');\" href=\"http://ticket.yes24.com/Pages/Perf/Detail/Detail.aspx?IdPerf=29886&site_pid=cp511NPlay1\" target=\"_blank\"><img src=\"https://search.pstatic.net/common?type=mfullfill&size=66x80&quality=95&direct=true&src=http%3A%2F%2Fdbscthumb.phinf.naver.net%2F4209_000_1%2F20180517103933926_VWZUD9ZRR.jpg%2F%25EB%25B0%2595%25EB%25B3%25B4.jpg%3Ftype%3Dr160\" alt=\"박보영 첫번째 팬미팅 [달콤한 하루]\" width=\"66\" height=\"80\" onerror=\"tx_noimage_thumb(this, \\'sp_noimg\\', \\'https://ssl.pstatic.net/sstatic/search/images11/blank.gif\\');\" class=\"\"></a> </div> <dl> <dd> <a nocr onclick=\"return goOtherCR(this, \\'u=\\'+urlencode(this.href)+\\'&r=1&a=\\'+nco_area_126986_475608_264842_1967805+\\'.playtitle&i=\\'+\\'1800000D_00000001F00A\\');\" class=\"sh_people_title sh_people_link\" href=\"http://ticket.yes24.com/Pages/Perf/Detail/Detail.aspx?IdPerf=29886&site_pid=cp511NPlay1\" target=\"_blank\" title=\\'박보영 첫번째 팬미팅 [달콤한 하루]\\'>박보영 첫번째 팬...</a></dd> <dt>마포아트센터 아트홀맥</dt> <dd>2018.06.03</dd> </dl> </li> </ul> </div> </div> <script type=\"text/javascript\"> nhn.peopleTabView = function(a) { var d = a; for (var b = 0, c = d.length; b < c; b++) { new nhn.peopleTabView.Tab(d[b]); } }; nhn.peopleTabView.Tab = $Class({ $init: function(b) { var a = $$.getSingle(\">div.texttab_type>ul\", b); this.aTab = $$(\">li>a\", a); this.aLayer = $$(\">div.lst_cont\", b); this.htClickArea = { \"영화\": \"nco_x29*3.wtmovie\", \"앨범\": \"nco_x29*3.wtmusic\", \"선거이력\" : \"nco_x29*3.telection\", \"경기성적\": \"nco_x29*3.wtsports\", \"공연\": \"nco_x29*3.wtplay\", \"주요근황\": \"nco_x29*3.wtrecent\", \"방송\": \"nco_x29*3.wtonair\", \"도서\": \"nco_x29*3.wtbook\", \"웹툰\": \"nco_x29*3.wtwebtoon\", \"미술작품\": \"nco_x29*3.wtarts\", \"사진작품\": \"nco_x29*3.wtphoto\", \"칼럼\": \"nco_x29*3.wtcolumn\", \"네이버TV\": \"nco_x29*3.tvc\", \"그라폴리오\": \"nco_x29*3.gra\", \"아트\": \"nco_x29*3.art\", \"명언\":\"nco_x29*3.quotation\", \"지식iN\" : \"nco_x29*3.wtkin\", \"전시\" : \"nco_x29*3.exh\" }; $Fn(this.click, this).attach(a, \"click\"); this.initTab(); }, click: function(a) { a.stop(); var d = a.element; if (d.tagName == \"A\") { for (var c = 0, f = this.aTab.length; c < f; c++) { var b = $Element(this.aTab[c]).parent(); if (this.aTab[c] == d) { if (!b.hasClass(\"select\")) { b.addClass(\"select\"); } $Element(this.aLayer[c]).show(); nhn.common.ellipsis(this.aLayer[c]); } else { b.removeClass(\"select\"); $Element(this.aLayer[c]).hide(); } } try { for (var c in this.htClickArea) { if (d.innerHTML.match(new RegExp(c))) { goOtherTCR(this, (\"a=\" + this.htClickArea[c] + \"&r=1&i=\" + txinfo_people_gdid)); break; } } } catch(g) {} } }, initTab: function() { try { if (__sDefaultPeopleTab && __sDefaultPeopleTab != \"\") { for (var b = 0, c = this.aTab.length; b < c; b++) { var a = $Element(this.aTab[b]).parent(); if ($Element(this.aTab[b]).html().match(__sDefaultPeopleTab)) { if (!a.hasClass(\"select\")) { a.addClass(\"select\"); } $Element(this.aLayer[b]).show(); } else { a.removeClass(\"select\"); $Element(this.aLayer[b]).hide(); } } } } catch(d) {} } }); if ($(\"tx_ca_people_workall\")) { var aPeopleType = [$(\"tx_ca_people_workall\")]; nhn.peopleTabView(aPeopleType); } else { $Fn(function() { var a = [$(\"tx_ca_people_workall\")]; nhn.peopleTabView(a); }).attach(window, \"load\"); } var elTxCaPeopleKinContent = $(\"tx_ca_people_kin_content\"); if (elTxCaPeopleKinContent) nhn.common.ellipsis(elTxCaPeopleKinContent); </script> <script type = \"text/javascript\"> function tx_noimage_thumb(img, className, noimage) { img.onerror = null; if (noimage) { img.src = noimage; } else { img.src = \"https://ssl.pstatic.net/sstatic/search/images11/blank.gif\"; } if (img.alt == \\'\\') { img.alt = \"이미지 준비중\"; } else { img.alt = img.alt + \" 준비중\"; } if (className) { img.className = className; } } function tx_set_href(a) { if(a.href) a.href = a.href.replace(/&query=[^&]*/g, \"&query=\" + headerfooter_query_encoded_utf8); } </script> <div class=\"same_name pp3\"> <h3>동명이인</h3> <div class=\"wrap_same_list\"> <ul class=\"same_list\"> <li><div class=\"temp\"><span><a nocr onclick=\"return goOtherCR(this, \\'u=\\'+urlencode(this.href)+\\'&r=1&a=\\'+nco_area_126986_475608_264842_1967805+\\'.namesimage&i=\\'+\\'1800000D_0000000741D8\\');\" href=\"?where=nexearch&sm=tab_etc&mra=bjky&pkid=1&os=475608&query=%EB%B0%95%EB%B3%B4%EC%98%81\"><img src=\"https://search.pstatic.net/common?type=ofullfill&size=56x70&quality=95&direct=true&src=http%3A%2F%2Fsstatic.naver.net%2Fpeople%2Fportrait%2F201405%2F20140517124719384-2250866.jpg\" alt=\"뮤지컬배우\" width=\"56\" height=\"70\" onerror=\"tx_noimage_thumb(this, \\'\\', \\'https://ssl.pstatic.net/sstatic/keypage/outside/scui/people/img/no_img8.gif\\');\"><span class=\"mask\"></span></a></span></div><div class=\"same_con\"><h4 class=\"scm_ellipsis _ellipsis\"><a nocr onclick=\"return goOtherCR(this, \\'u=\\'+urlencode(this.href)+\\'&r=1&a=\\'+nco_area_126986_475608_264842_1967805+\\'.names&i=\\'+\\'1800000D_0000000741D8\\');\" href=\"?where=nexearch&sm=tab_etc&mra=bjky&pkid=1&os=475608&query=%EB%B0%95%EB%B3%B4%EC%98%81\">박보영</a></h4><span class=\"job\">뮤지컬배우</span><span class=\"birth\">1984</span></div></li><li><div class=\"temp\"><span><a nocr onclick=\"return goOtherCR(this, \\'u=\\'+urlencode(this.href)+\\'&r=1&a=\\'+nco_area_126986_475608_264842_1967805+\\'.namesimage&i=\\'+\\'1800000D_000000040A8A\\');\" href=\"?where=nexearch&sm=tab_etc&mra=bjky&pkid=1&os=264842&query=%EB%B0%95%EB%B3%B4%EC%98%81\"><img src=\"https://search.pstatic.net/common?type=ofullfill&size=56x70&quality=95&direct=true&src=http%3A%2F%2Fsstatic.naver.net%2Fpeople%2F53%2F201110281208351441.jpg\" alt=\"판사\" width=\"56\" height=\"70\" onerror=\"tx_noimage_thumb(this, \\'\\', \\'https://ssl.pstatic.net/sstatic/keypage/outside/scui/people/img/no_img8.gif\\');\"><span class=\"mask\"></span></a></span></div><div class=\"same_con\"><h4 class=\"scm_ellipsis _ellipsis\"><a nocr onclick=\"return goOtherCR(this, \\'u=\\'+urlencode(this.href)+\\'&r=1&a=\\'+nco_area_126986_475608_264842_1967805+\\'.names&i=\\'+\\'1800000D_000000040A8A\\');\" href=\"?where=nexearch&sm=tab_etc&mra=bjky&pkid=1&os=264842&query=%EB%B0%95%EB%B3%B4%EC%98%81\">박보영</a></h4><span class=\"job\">판사</span><span class=\"birth\">1961</span></div></li><li><div class=\"temp\"><span><a nocr onclick=\"return goOtherCR(this, \\'u=\\'+urlencode(this.href)+\\'&r=1&a=\\'+nco_area_126986_475608_264842_1967805+\\'.namesimage&i=\\'+\\'1800000D_0000001E06BD\\');\" href=\"?where=nexearch&sm=tab_etc&mra=bjky&pkid=1&os=1967805&query=%EC%97%B0%EC%A7%80%ED%95%B4\"><img src=\"https://search.pstatic.net/common?type=ofullfill&size=56x70&quality=95&direct=true&src=http%3A%2F%2Fsstatic.naver.net%2Fpeople%2Fportrait%2F201406%2F20140610043221160.jpg\" alt=\"영화배우\" width=\"56\" height=\"70\" onerror=\"tx_noimage_thumb(this, \\'\\', \\'https://ssl.pstatic.net/sstatic/keypage/outside/scui/people/img/no_img8.gif\\');\"><span class=\"mask\"></span></a></span></div><div class=\"same_con\"><h4 class=\"scm_ellipsis _ellipsis\"><a nocr onclick=\"return goOtherCR(this, \\'u=\\'+urlencode(this.href)+\\'&r=1&a=\\'+nco_area_126986_475608_264842_1967805+\\'.names&i=\\'+\\'1800000D_0000001E06BD\\');\" href=\"?where=nexearch&sm=tab_etc&mra=bjky&pkid=1&os=1967805&query=%EC%97%B0%EC%A7%80%ED%95%B4\">연지해</a></h4><span class=\"job\">영화배우</span><span class=\"birth\">1992</span></div></li> </ul> </div> </div></div> <script type=\"text/javascript\"> function news_resize_thumb(o) { var max = 80; if(o.width > max) { o.height = (o.height * max) / o.width; o.width = max; } else { o.width = o.width; o.height = o.height; } if (o.height > max) { o.width = (o.width * max) / o.height; o.height = max; } else { o.width = o.width; o.height = o.height; } } function one_news_del_cookie(name) { var expire_date = new Date(Date()); expire_date.setYear(expire_date.getYear() - 1); document.cookie = name + \"= ; expires=\" + expire_date.toGMTString() + \" ; domain=search.naver.com ;\"; } function one_news_set_cookie(name, value, type) { var expires_string = \"\"; document.cookie = name + \"=\" + escape(value) + expires_string + \" ; domain=search.naver.com ;\"; } function one_news_set_mynews(officeId) { one_news_del_cookie(\"news_my_status\"); one_news_del_cookie(\"news_office_checked\"); one_news_del_cookie(\"news_office_fold\"); one_news_set_cookie(\"news_my_status\", 1, 1); one_news_set_cookie(\"news_office_checked\", officeId, 0); } </script> <div class=\"news section _prs_nws_all\"> <div class=\"section_head\"> <h2>뉴스</h2> <p class=\"title_desc sort\"><strong>관련도순</strong> <span class=\"bar\"></span> <a href=\"?&where=news&query=%EB%B0%95%EB%B3%B4%EC%98%81&sort=1&sm=tab_smr&nso=so:dd,p:all,a:all\" onclick=\"return goOtherCR(this, \\'a=nws_all.sortdate&r=0&i=0&u=\\'+urlencode(this.href));\">최신순</a></p> </div> <h3 class=\"blind\">관련도순</h3> <ul class=\"type01\"> <li id=\"sp_nws_all1\"> <div class=\"thumb\"><a href=\"http://www.upkorea.net/news/articleView.html?idxno=594716\" target=\"_blank\" class=\"sp_thmb thmb80\" onclick=\"return goOtherCR(this, \\'a=nws_all*f.img&r=1&i=88000138_000000000000000000190162&g=5022.0000190162&u=\\'+urlencode(this.href));\"><img src=\"https://search.pstatic.net/common/?src=https%3A%2F%2Fimgnews.pstatic.net%2Fimage%2Forigin%2F5022%2F2019%2F07%2F12%2F190162.jpg&type=ofullfill80_80_q75_re2\" class=\"\" alt=\"박보영 주연의 ‘너의 \" width=80 height=80 onerror=\"this.parentNode.style.display=\\'none\\';\"><span class=\"thmb_v\"></span></a></div> <dl> <dt><a href=\"http://www.upkorea.net/news/articleView.html?idxno=594716\" target=\"_blank\" class=\"_sp_each_url _sp_each_title\" onclick=\"return goOtherCR(this, \\'a=nws_all*f.tit&r=1&i=88000138_000000000000000000190162&g=5022.0000190162&u=\\'+urlencode(this.href));\" title=\"박보영 주연의 \\'너의 결혼식\\' 07월 12일 16시 40분 OCN 방영\"><strong class=\"hl\">박보영</strong> 주연의 \\'너의 결혼식\\' 07월 12일 16시 40분 OCN 방영</a></dt> <dd class=\"txt_inline\"><span class=\"_sp_each_source\">업코리아</span> <span class=\"bar\"></span> 14시간 전 <div class=\"scial\" id=\"sp_nws_all1_base\"> <span class=\"bar\"></span> <a href=\"#\" data-style=\"unity-v2\" class=\"bt_scial2 naver-splugin\" data-oninitialize=\"splugin_oninitialize(\\'sp_nws_all1\\');\" onclick=\"goOtherTCR(this, \\'a=nws_all*f.pplugin&r=1&i=88000138_000000000000000000190162&u=\\'+urlencode(this.href)); return false;\">보내기</a> </div> </dd> <dd>사진=영화진흥위원회 <strong class=\"hl\">박보영</strong> 주연의 영화 \\'너의 결혼식\\'. 2018년 08월 22일에 개봉한 이 영화는 <strong class=\"hl\">박보영</strong>, 김영광 등이 출연했고, 개봉 당시 총 누적관객수 2,820,969명을 기록했다. 한편 OCN에서 07월 12일 16시 40분에 방영...</dd> </dl> </li> <li id=\"sp_nws_all2\"> <div class=\"thumb\"><a href=\"http://www.lecturernews.com/news/articleView.html?idxno=21949\" target=\"_blank\" class=\"sp_thmb thmb80\" onclick=\"return goOtherCR(this, \\'a=nws_all*f.img&r=2&i=881830f6_000000000000000000015305&g=5566.0000015305&u=\\'+urlencode(this.href));\"><img src=\"https://search.pstatic.net/common/?src=https%3A%2F%2Fimgnews.pstatic.net%2Fimage%2Forigin%2F5566%2F2019%2F07%2F12%2F15305.jpg&type=ofullfill80_80_q75_re2\" class=\"\" alt=\"영화 <너의 결혼식> \"\" width=80 height=80 onerror=\"this.parentNode.style.display=\\'none\\';\"><span class=\"thmb_v\"></span></a></div> <dl> <dt><a href=\"http://www.lecturernews.com/news/articleView.html?idxno=21949\" target=\"_blank\" class=\"_sp_each_url _sp_each_title\" onclick=\"return goOtherCR(this, \\'a=nws_all*f.tit&r=2&i=881830f6_000000000000000000015305&g=5566.0000015305&u=\\'+urlencode(this.href));\" title=\"영화 <너의 결혼식> \"이석근 감독, 박보영·김영광 주연의 첫사랑 연대기를 그린 로맨스작품\"\">영화 <너의 결혼식> \"이석근 감독, <strong class=\"hl\">박보영</strong>·김영광 주연의 첫사랑 연대기를 그...</a></dt> <dd class=\"txt_inline\"><span class=\"_sp_each_source\">한국강사신문</span> <span class=\"bar\"></span> 11분 전 <div class=\"scial\" id=\"sp_nws_all2_base\"> <span class=\"bar\"></span> <a href=\"#\" data-style=\"unity-v2\" class=\"bt_scial2 naver-splugin\" data-oninitialize=\"splugin_oninitialize(\\'sp_nws_all2\\');\" onclick=\"goOtherTCR(this, \\'a=nws_all*f.pplugin&r=2&i=881830f6_000000000000000000015305&u=\\'+urlencode(this.href)); return false;\">보내기</a> </div> </dd> <dd>2018년 8월 22일 개봉된 이석근 감독, <strong class=\"hl\">박보영</strong>(환승희), 김영광(황우연) 주연의 <너의 결혼식>은 관람객 평점... <너의 결혼식>은 3초의 운명을 믿는 승희(<strong class=\"hl\">박보영</strong>)와 승희만이 운명인 우연(김영광), 좀처럼 타이밍 안 맞는...</dd> </dl> </li> <li id=\"sp_nws_all3\"> <div class=\"thumb\"><a href=\"http://viewers.heraldcorp.com/news/articleView.html?idxno=39209\" target=\"_blank\" class=\"sp_thmb thmb80\" onclick=\"return goOtherCR(this, \\'a=nws_all*f.img&r=3&i=88184308_000000000000000000021370&g=5597.0000021370&u=\\'+urlencode(this.href));\"><img src=\"https://search.pstatic.net/common/?src=https%3A%2F%2Fimgnews.pstatic.net%2Fimage%2Forigin%2F5597%2F2019%2F07%2F09%2F21370.jpg&type=ofullfill80_80_q75_re2\" class=\"\" alt=\"[유명준의 시선] ‘정법\" width=80 height=80 onerror=\"this.parentNode.style.display=\\'none\\';\"><span class=\"thmb_v\"></span></a></div> <dl> <dt><a href=\"http://viewers.heraldcorp.com/news/articleView.html?idxno=39209\" target=\"_blank\" class=\"_sp_each_url _sp_each_title\" onclick=\"return goOtherCR(this, \\'a=nws_all*f.tit&r=3&i=88184308_000000000000000000021370&g=5597.0000021370&u=\\'+urlencode(this.href));\" title=\"[유명준의 시선] \\'정법\\', 2013년 박보영 vs 2019년 이열음\">[유명준의 시선] \\'정법\\', 2013년 <strong class=\"hl\">박보영</strong> vs 2019년 이열음</a></dt> <dd class=\"txt_inline\"><span class=\"_sp_each_source\">뷰어스</span> <span class=\"bar\"></span> 3일 전 <div class=\"scial\" id=\"sp_nws_all3_base\"> <span class=\"bar\"></span> <a href=\"#\" data-style=\"unity-v2\" class=\"bt_scial2 naver-splugin\" data-oninitialize=\"splugin_oninitialize(\\'sp_nws_all3\\');\" onclick=\"goOtherTCR(this, \\'a=nws_all*f.pplugin&r=3&i=88184308_000000000000000000021370&u=\\'+urlencode(this.href)); return false;\">보내기</a> </div> </dd> <dd>출연자였던 <strong class=\"hl\">박보영</strong>의 소속사 김상유 대표가 촬영 현지에서 자신의 페이스북에 \\'정글의 법칙\\'을 겨냥해 \"개뻥... 결국 <strong class=\"hl\">박보영</strong>이 \"내 투정 때문에 소속사와 제작진이 오해했다\"고 밝히면서 상황은 일단락 됐지만, 소속사...</dd> </dl> </li> <li id=\"sp_nws_all4\"> <div class=\"thumb\"><a href=\"http://star.mt.co.kr/stview.php?no=2019071016145539514\" target=\"_blank\" class=\"sp_thmb thmb80\" onclick=\"return goOtherCR(this, \\'a=nws_all*e.img&r=4&i=880000C3_000000000000000002796054&g=108.0002796054&u=\\'+urlencode(this.href));\"><img src=\"https://search.pstatic.net/common/?src=https%3A%2F%2Fimgnews.pstatic.net%2Fimage%2Forigin%2F108%2F2019%2F07%2F10%2F2796054.jpg&type=ofullfill80_80_q75_re2\" class=\"\" alt=\"tvN ‘어비스‘ 마지막 \" width=80 height=80 onerror=\"this.parentNode.style.display=\\'none\\';\"><span class=\"thmb_v\"></span></a></div> <dl> <dt><a href=\"http://star.mt.co.kr/stview.php?no=2019071016145539514\" target=\"_blank\" class=\" _sp_each_title\" onclick=\"return goOtherCR(this, \\'a=nws_all*e.tit&r=4&i=880000C3_000000000000000002796054&g=108.0002796054&u=\\'+urlencode(this.href));\" title=\"tvN \\'어비스\\' 마지막 촬영는 어디? 퍼스트가든 화제\">tvN \\'어비스\\' 마지막 촬영는 어디? 퍼스트가든 화제</a></dt> <dd class=\"txt_inline\"><span class=\"_sp_each_source\">스타뉴스</span> <span class=\"bar\"></span> 1일 전 <span class=\"bar\"></span> <a href=\"https://news.naver.com/main/read.nhn?mode=LSD&mid=sec&sid1=103&oid=108&aid=0002796054\" target=\"_blank\" class=\"_sp_each_url\" onclick=\"return goOtherCR(this, \\'a=nws_all*e.nav&r=4&i=880000C3_000000000000000002796054&u=\\'+urlencode(this.href));\">네이버뉴스</a> <div class=\"scial\" id=\"sp_nws_all4_base\"> <span class=\"bar\"></span> <a href=\"#\" data-style=\"unity-v2\" class=\"bt_scial2 naver-splugin\" data-oninitialize=\"splugin_oninitialize(\\'sp_nws_all4\\');\" onclick=\"goOtherTCR(this, \\'a=nws_all*e.pplugin&r=4&i=880000C3_000000000000000002796054&u=\\'+urlencode(this.href)); return false;\">보내기</a> </div> </dd> <dd><strong class=\"hl\">박보영</strong>, 안효섭 주연 드라마 \\'어비스\\'는 영혼 소생 구슬인 어비스로 죽었던 주인공들이 외모가 완전히 다른... 극중에서 ‘흔녀’ 로 부활한 캐릭터를 맡은 <strong class=\"hl\">박보영</strong>은 특유의 톡톡 튀는 매력을 발산하며 시청률의 견인차...</dd> </dl> </li> <li id=\"sp_nws_all5\"> <div class=\"thumb\"><a href=\"http://www.fnnews.com/news/201906101356597087\" target=\"_blank\" class=\"sp_thmb thmb80\" onclick=\"return goOtherCR(this, \\'a=nws_all*a.img&r=5&i=880000FF_000000000000000004242290&g=014.0004242290&u=\\'+urlencode(this.href));\"><img src=\"https://search.pstatic.net/common/?src=https%3A%2F%2Fimgnews.pstatic.net%2Fimage%2Forigin%2F014%2F2019%2F06%2F10%2F4242290.jpg&type=ofullfill80_80_q75_re2\" class=\"\" alt=\"‘어비스’ 박보영, 권\" width=80 height=80 onerror=\"this.parentNode.style.display=\\'none\\';\"><span class=\"thmb_v\"></span></a></div> <dl> <dt><a href=\"http://www.fnnews.com/news/201906101356597087\" target=\"_blank\" class=\" _sp_each_title\" onclick=\"return goOtherCR(this, \\'a=nws_all*a.tit&r=5&i=880000FF_000000000000000004242290&g=014.0004242290&u=\\'+urlencode(this.href));\" title=\"‘어비스’ 박보영, 권수현과 강렬 눈빛 대립\">‘어비스’ <strong class=\"hl\">박보영</strong>, 권수현과 강렬 눈빛 대립</a></dt> <dd class=\"txt_inline\"><span class=\"_sp_each_source\">파이낸셜뉴스</span> <span class=\"bar\"></span> 2019.06.10. <span class=\"bar\"></span> <a href=\"https://news.naver.com/main/read.nhn?mode=LSD&mid=sec&sid1=106&oid=014&aid=0004242290\" target=\"_blank\" class=\"_sp_each_url\" onclick=\"return goOtherCR(this, \\'a=nws_all*a.nav&r=5&i=880000FF_000000000000000004242290&u=\\'+urlencode(this.href));\">네이버뉴스</a> <div class=\"scial\" id=\"sp_nws_all5_base\"> <span class=\"bar\"></span> <a href=\"#\" data-style=\"unity-v2\" class=\"bt_scial2 naver-splugin\" data-oninitialize=\"splugin_oninitialize(\\'sp_nws_all5\\');\" onclick=\"goOtherTCR(this, \\'a=nws_all*a.pplugin&r=5&i=880000FF_000000000000000004242290&u=\\'+urlencode(this.href)); return false;\">보내기</a> </div> </dd> <dd>tvN ‘어비스’ <strong class=\"hl\">박보영</strong>-권수현의 본격 대립이 예고돼 긴장감을 무한 폭발시킨다. 신박한 소재와 허를 찌르는... 앞서 <strong class=\"hl\">박보영</strong>(고세연 역)-권수현(서지욱 역)의 강렬한 눈빛 대립이 담긴 투샷을 공개, 한층 흥미진진한 전개를...</dd> <dd> <ul class=\"relation_lst\"> <li> <span class=\"ico_bu\"></span> <a href=\"http://isplus.live.joins.com/news/article/aid.asp?aid=23085206\" target=\"_blank\" onclick=\"return goOtherCR(this, \\'a=nws_all*c.tit&r=6&i=880002FC_000000000000000002924223&g=241.0002924223&u=\\'+urlencode(this.href));\" title=\"\\'어비스\\' 박보영, 권수현 귓속말에 동공지진…정체 밝히나\">\\'어비스\\' <strong class=\"hl\">박보영</strong>, 권수현 귓속말에 동공지진…정체 밝히나</a> <span class=\"txt_sinfo\"> <span class=\"press\" title=\"일간스포츠\">일간스포츠</span> <span class=\"bar\"></span> 2019.06.10. <span class=\"bar\"></span><a href=\"https://news.naver.com/main/read.nhn?mode=LSD&mid=sec&sid1=106&oid=241&aid=0002924223\" target=\"_blank\" class=\"_sp_each_url\" onclick=\"return goOtherCR(this, \\'a=nws_all*c.nav&r=6&i=880002FC_000000000000000002924223&u=\\'+urlencode(this.href));\">네이버뉴스</a> </span> </li> <li> <span class=\"ico_bu\"></span> <a href=\"http://www.sportsseoul.com/news/read/774153\" target=\"_blank\" onclick=\"return goOtherCR(this, \\'a=nws_all*c.tit&r=7&i=88156f78_000000000000000000518567&g=468.0000518567&u=\\'+urlencode(this.href));\" title=\"\\'어비스\\' 박보영vs권수현, 날선 눈빛..본격 대립!\">\\'어비스\\' <strong class=\"hl\">박보영</strong>vs권수현, 날선 눈빛..본격 대립!</a> <span class=\"txt_sinfo\"> <span class=\"press\" title=\"스포츠서울\">스포츠서울</span> <span class=\"bar\"></span> 2019.06.10. <span class=\"bar\"></span><a href=\"https://news.naver.com/main/read.nhn?mode=LSD&mid=sec&sid1=106&oid=468&aid=0000518567\" target=\"_blank\" class=\"_sp_each_url\" onclick=\"return goOtherCR(this, \\'a=nws_all*c.nav&r=7&i=88156f78_000000000000000000518567&u=\\'+urlencode(this.href));\">네이버뉴스</a> </span> </li> </ul> <div class=\"newr_more\"> <a href=\"?&where=news&sm=mtb_tnw&query=%EB%B0%95%EB%B3%B4%EC%98%81&nso=so:r,p:all,a:all&related=1&docid=0140004242290\" class=\"more_news\" onclick=\"return goOtherCR(this, \\'a=nws_all*r.more&r=&i=&u=\\'+urlencode(urlexpand(this.href)));\">관련뉴스 전체보기</a> </div> </dd> </dl> </li> </ul> <div class=\"section_more\"> <a href=\"?&where=news&query=%EB%B0%95%EB%B3%B4%EC%98%81&sm=tab_tmr&frm=mr&nso=so:r,p:all,a:all&sort=0\" class=\"go_more\" onclick=\"return goOtherCR(this, \\'a=nws_all.more&r=0&i=0&u=\\'+urlencode(this.href));\">뉴스 더보기</a> </div> </div><script type=text/javascript> function add_pid_sid_once(a) { if (a.href.indexOf(\"&pid=\") >= 0 && a.href.indexOf(\"&sid=\") >= 0) return ; var text = a.innerHTML ; a.href += \"&pid=\"+urlencode(g_puid)+\"&sid=\"+urlencode(g_suid); if (a.innerHTML != text) a.innerHTML = text; } </script> <div class=\"kinn section _kinBase\"> <div class=\"section_head\"> <h2>지식iN</h2> <a href=\"https://kin.naver.com/qna/questionForSearch.nhn?title=%EB%B0%95%EB%B3%B4%EC%98%81\" onclick=\"return goOtherCR(this,\\'a=kin_2nd.question&r=&i=&u=\\'+urlencode(this.href));\" target=_blank class=\"go_write space\">지식iN에 물어보기</a> </div> <ul class=\"type01\"> <li> <div class=\"thumb\"> <a href=\"https://kin.naver.com/qna/detail.nhn?d1id=3&dirId=31401&docId=328828061&qb=67CV67O07JiB&enc=utf8§ion=kin&rank=1&search_sort=0&spq=1\" class=\"sp_thmb thmb80\" onClick=\"return goOtherCR(this,\\'a=kin_2nd*q.img&r=1&i=10000009_00001399849d&u=\\'+urlencode(this.href));\" target=_blank> <img src=\"https://search.pstatic.net/common/?src=http%3A%2F%2Fkinimage.naver.net%2F20190609_117%2F1560077183589Vks0f_JPEG%2F1560070866356-1.jpg&type=n82_82\" alt=\"박보영 이사진 고화질로 부탁!!\" onerror=\"this.parentNode.parentNode.style.display=\\'none\\';\"> <span class=\"thmb_v\"></span> <span class=\"thmb_bd\"></span> </a> </div> <dl> <dt class=\"question\"> <strong class=\"spkn\">질문</strong> <a href=\"https://kin.naver.com/qna/detail.nhn?d1id=3&dirId=31401&docId=328828061&qb=67CV67O07JiB&enc=utf8§ion=kin&rank=1&search_sort=0&spq=1\" onClick=\"add_pid_sid_once(this); return goOtherCR(this,\\'a=kin_2nd*q.tit&r=1&i=10000009_00001399849d&u=\\'+urlencode(this.href));\" target=_blank><strong class=\"hl\">박보영</strong> 이사진 고화질로 부탁!!</a> </dt> <dd class=\"txt_inline\">2019.06.09. </dd> <dd> <strong class=\"hl\">박보영</strong> 이사진 고화질로 부탁!! </dd> <dd class=\"answer\"> <strong class=\"spkn\">답변</strong> 드릴게요. 초고화질 사이즈 1280 x 1704 입니다. </dd> <dd class=\"txt_block\"> <span class=\"inline\"> </span> </dd> </dl> </li> <li> <div class=\"thumb\"> <a href=\"https://kin.naver.com/qna/detail.nhn?d1id=3&dirId=30301&docId=330327871&qb=67CV67O07JiB&enc=utf8§ion=kin&rank=2&search_sort=0&spq=1\" class=\"sp_thmb thmb80\" onClick=\"return goOtherCR(this,\\'a=kin_2nd*q.img&r=2&i=10000009_000013b0673f&u=\\'+urlencode(this.href));\" target=_blank> <img src=\"https://search.pstatic.net/common/?src=http%3A%2F%2Fkinimage.naver.net%2F20190701_227%2F1561939635795BGxHi_JPEG%2F20190701_090615.jpg&type=n82_82\" alt=\"박보영 같은데 어디에 나오는 장면인가\" onerror=\"this.parentNode.parentNode.style.display=\\'none\\';\"> <span class=\"thmb_v\"></span> <span class=\"thmb_bd\"></span> </a> </div> <dl> <dt class=\"question\"> <strong class=\"spkn\">질문</strong> <a href=\"https://kin.naver.com/qna/detail.nhn?d1id=3&dirId=30301&docId=330327871&qb=67CV67O07JiB&enc=utf8§ion=kin&rank=2&search_sort=0&spq=1\" onClick=\"add_pid_sid_once(this); return goOtherCR(this,\\'a=kin_2nd*q.tit&r=2&i=10000009_000013b0673f&u=\\'+urlencode(this.href));\" target=_blank><strong class=\"hl\">박보영</strong> 같은데 어디에 나오는 장면인가</a> </dt> <dd class=\"txt_inline\">2019.07.01. </dd> <dd> <strong class=\"hl\">박보영</strong> 같은데 어디에 나오는 장면인가요??? 드라마 영화 뮤비다...어디에 나오는 건지 궁금해요 </dd> <dd class=\"answer\"> <strong class=\"spkn\">답변</strong> [피끓는 청춘] 엔딩장면 입니다~^^ 피끓는 청춘 감독 이연우 출연 <strong class=\"hl\">박보영</strong>, 이종석, 이세영, 김영광 개봉 2014.01.22. </dd> <dd class=\"txt_block\"> <span class=\"inline\"> </span> </dd> </dl> </li> <li> <div class=\"thumb\"> <a href=\"https://kin.naver.com/qna/detail.nhn?d1id=3&dirId=31402&docId=328077510&qb=67CV67O07JiB&enc=utf8§ion=kin&rank=3&search_sort=0&spq=1\" class=\"sp_thmb thmb80\" onClick=\"return goOtherCR(this,\\'a=kin_2nd*q.img&r=3&i=10000009_0000138e10c6&u=\\'+urlencode(this.href));\" target=_blank> <img src=\"https://search.pstatic.net/common/?src=http%3A%2F%2Fkinimage.naver.net%2F20190529_65%2F1559118873380r4asD_JPEG%2F1559118873224.jpg&type=n82_82\" alt=\"어비스 박보영 배경화면 좀 주세요\" onerror=\"this.parentNode.parentNode.style.display=\\'none\\';\"> <span class=\"thmb_v\"></span> <span class=\"thmb_bd\"></span> </a> </div> <dl> <dt class=\"question\"> <strong class=\"spkn\">질문</strong> <a href=\"https://kin.naver.com/qna/detail.nhn?d1id=3&dirId=31402&docId=328077510&qb=67CV67O07JiB&enc=utf8§ion=kin&rank=3&search_sort=0&spq=1\" onClick=\"add_pid_sid_once(this); return goOtherCR(this,\\'a=kin_2nd*q.tit&r=3&i=10000009_0000138e10c6&u=\\'+urlencode(this.href));\" target=_blank>어비스 <strong class=\"hl\">박보영</strong> 배경화면 좀 주세요</a> </dt> <dd class=\"txt_inline\">2019.05.29. </dd> <dd> 어비스 <strong class=\"hl\">박보영</strong> 배경화면 좀 주세요 </dd> <dd class=\"answer\"> <strong class=\"spkn\">답변</strong> 어비스 <strong class=\"hl\">박보영</strong> 배경화면 이요 </dd> <dd class=\"txt_block\"> <span class=\"inline\"> </span> </dd> </dl> </li> <li> <dl> <dt class=\"question\"> <strong class=\"spkn\">질문</strong> <a href=\"https://kin.naver.com/qna/detail.nhn?d1id=5&dirId=5040301&docId=328457737&qb=67CV67O07JiB&enc=utf8§ion=kin&rank=4&search_sort=0&spq=1\" onClick=\"add_pid_sid_once(this); return goOtherCR(this,\\'a=kin_2nd*q.tit&r=4&i=10000009_00001393de09&u=\\'+urlencode(this.href));\" target=_blank><strong class=\"hl\">박보영</strong> 귀걸이로 나온 토스 TOUS 국내에서 구매하는 곳 어딨을까요</a> </dt> <dd class=\"txt_inline\">2019.06.04. </dd> <dd> 아니 어비스 보다가 <strong class=\"hl\">박보영</strong> 귀걸이가 예뻐서 함 봤더니 TOUS 라는 주얼리브랜드더라구요 근데 무슨 다 온라인아니면 직구만있어서 오래기다리기도 싫고 실물 보면서... </dd> <dd class=\"answer\"> <strong class=\"spkn\">답변</strong> 안녕하세요. 패션 뷰티 홍보대행사 클로젯걸 입니다. 현재 토스 TOUS는 국내에 입점되어있는곳이 면세점하고 백화점이라고합니다 면세점은 신세계 강남점, 현대백화점... </dd> <dd class=\"txt_block\"> <span class=\"inline\"> <span class=\"solutionist\">지식파트너 답변</span> <span class=\"blind\">닉네임</span>비주컴 </span> </dd> </dl> </li> <li> <div class=\"thumb\"> <a href=\"https://kin.naver.com/qna/detail.nhn?d1id=3&dirId=3010101&docId=326845924&qb=67CV67O07JiB&enc=utf8§ion=kin&rank=5&search_sort=0&spq=1\" class=\"sp_thmb thmb80\" onClick=\"return goOtherCR(this,\\'a=kin_2nd*q.img&r=5&i=10000009_0000137b45e4&u=\\'+urlencode(this.href));\" target=_blank> <img src=\"https://search.pstatic.net/common/?src=http%3A%2F%2Fkinimage.naver.net%2F20190509_105%2F15574093451909N3gY_GIF%2F1557409344852.GIF&type=n82_82\" alt=\"박보영씨 와 변백현씨 염색 색깔이 궁\" onerror=\"this.parentNode.parentNode.style.display=\\'none\\';\"> <span class=\"thmb_v\"></span> <span class=\"thmb_bd\"></span> </a> </div> <dl> <dt class=\"question\"> <strong class=\"spkn\">질문</strong> <a href=\"https://kin.naver.com/qna/detail.nhn?d1id=3&dirId=3010101&docId=326845924&qb=67CV67O07JiB&enc=utf8§ion=kin&rank=5&search_sort=0&spq=1\" onClick=\"add_pid_sid_once(this); return goOtherCR(this,\\'a=kin_2nd*q.tit&r=5&i=10000009_0000137b45e4&u=\\'+urlencode(this.href));\" target=_blank><strong class=\"hl\">박보영</strong>씨 와 변백현씨 염색 색깔이 궁</a> </dt> <dd class=\"txt_inline\">2019.05.09. </dd> <dd> <strong class=\"hl\">박보영</strong>씨 와 변백현씨 염색 색깔이 궁금해요! </dd> <dd class=\"answer\"> <strong class=\"spkn\">답변</strong> https://blog.naver.com/hinii0/221001615160 힘쎈여자도봉순.<strong class=\"hl\">박보영</strong>.<strong class=\"hl\">박보영</strong>머리.오렌지브라운.염색.<strong class=\"hl\">박보영</strong>염색.메이쌤 안녕하세용용용 메이가 와쩌염(ㅡㅠㅡ웩)... </dd> <dd class=\"txt_block\"> <span class=\"inline\"> </span> </dd> </dl> </li> </ul> <div class=\"section_more\"><a href=\"https://search.naver.com/search.naver?where=kin&query=%EB%B0%95%EB%B3%B4%EC%98%81&nso=so%3Ar%2Ca%3Aall%2Cp%3Aall&sm=tab_nmr\" onclick=\"return goOtherCR(this,\\'a=kin_2nd.more&r=0&i=0&u=\\'+urlencode(this.href));\" class=\"go_more\">지식iN 더보기</a></div> </div> <link rel=\"stylesheet\" type=\"text/css\" href=\"https://ssl.pstatic.net/sstatic/search/pc/css/sp_post_180426.css\"> <div class=\"sp_post section\"> <div class=\"section_head\"> <h2>포스트</h2> </div> <ul class=\"type01\"> <li> <div class=\"thumb\"> <a href=\"https://m.post.naver.com/viewer/postView.nhn?volumeNo=21354848&memberNo=36645352&vType=VERTICAL\" target=\"_blank\" onclick=\"return goOtherCR(this, \\'a=pst_bas.img&r=1&i=00055f7ca0_000145d960&u=\\'+urlencode(this.href));\"> <img src=\"https://search.pstatic.net/common/?src=https%3A%2F%2Fpost-phinf.pstatic.net%2FMjAxOTA2MThfMjAg%2FMDAxNTYwODY0NTQ1NjM0.IgepxtkgTsPo-w9gQTMs0v3JMEMLzI09S4a8zJenm9wg.v5DtVJjqDXs9xf8_HUcWEYLaUy6Ta-GwGQjfs7QEEngg.PNG%2FIKtu-oe5h8o27mN5gfmL-Vh9jvoE.jpg&type=f164_164\" width=\"82\" height=\"82\" alt=\"\\'어비스\\' 후속까지 몇\" onerror=\"loadPostNoImg(this)\"><span class=\"thumb_bg border\"></span> </a> </div> <dl> <dt><a href=\"https://m.post.naver.com/viewer/postView.nhn?volumeNo=21354848&memberNo=36645352&vType=VERTICAL\" target=\"_blank\" onclick=\"return goOtherCR(this, \\'a=pst_bas.link&r=1&i=00055f7ca0_000145d960&u=\\'+urlencode(this.href));\">\\'어비스\\' 후속까지 몇부작? 안효섭, <strong class=\"hl\">박보영</strong> 아침밥부터 운전기사...</a></dt> <dd class=\"txt_inline\">2019.06.18.</dd> <dd>‘어비스’의 안효섭이 <strong class=\"hl\">박보영</strong>과 달콤한 데이트를 떠났다. 특히 ‘어비스’의 윤유선이 안효섭 <strong class=\"hl\">박보영</strong>의 관계를 질투하면서 안방극장에 웃음을 안겼다. \\xa0 ... </dd> <dd class=\"post_info\"> <a href=\"https://m.post.naver.com/my.nhn?memberNo=36645352\" target=\"_blank\" class=\"editor\" onclick=\"return goOtherCR(this, \\'a=pst_bas.writer&r=1&i=00055f7ca0_000145d960&u=\\'+urlencode(this.href));\"><img src=\"https://search.pstatic.net/common/?src=https%3A%2F%2Fpost-phinf.pstatic.net%2FMjAxNzA4MjFfMTE1%2FMDAxNTAzMzAyNTk0Mjk5.ik49kZPLtjDkaaMjjJHEfgyhF0bFtW7XR42Yvir6iWQg.Wve3MqGElwGiSogPD_9wvpfXwD55XfeKmKbJJ0-FIJ8g.JPEG%2Fpost_3591925207125661523.jpg%3Ftype%3Df200_200&type=f48_48\" width=\"24\" height=\"24\" alt=\"프로필 사진\" onerror=\"loadPostNoImg2(this)\"><span class=\"sppt mask\"></span>스포츠Q </a> <span class=\"spcm ico_total ico_official\">공식</span> <span class=\"bar\"></span> <a href=\"https://m.post.naver.com/my/series/detail.nhn?seriesNo=290346&memberNo=36645352\" target=\"_blank\" onclick=\"return goOtherCR(this, \\'a=pst_bas.srs&r=1&i=00055f7ca0_000145d960&u=\\'+urlencode(this.href));\" title=\"방송훑기\">방송훑기</a> </dd> <dd class=\"post_react\"> <span class=\"u_likeit_list_module\"> <a href=\"#\" class=\"u_likeit_list_btn u_type_bright u_none_border u_none_txt\" data-sid=\"POST\" data-did=\"NXPOST\" data-cid=\"21354848_36645352\" data-likeit=\"0\" onclick=\"return onLikeClick(this);\"></a> </span><span>명이 추천했습니다.</span> <span class=\"bar\"></span> <a href=\"https://m.post.naver.com/viewer/commentsView.nhn?volumeNo=21354848&memberNo=36645352\" target=\"_blank\" onclick=\"return goOtherCR(this, \\'a=pst_bas.cmt&r=1&i=00055f7ca0_000145d960&u=\\'+urlencode(this.href));\"><span class=\"sppt ico_reply\"></span>0</a> </dd> </dl> </li> <li> <div class=\"thumb\"> <a href=\"https://m.post.naver.com/viewer/postView.nhn?volumeNo=21334317&memberNo=4656129&vType=VERTICAL\" target=\"_blank\" onclick=\"return goOtherCR(this, \\'a=pst_bas.img&r=2&i=00055f7ca0_000145892d&u=\\'+urlencode(this.href));\"> <img src=\"https://search.pstatic.net/common/?src=https%3A%2F%2Fpost-phinf.pstatic.net%2FMjAxOTA2MThfNjMg%2FMDAxNTYwODI2MDYwODk4.RoJ8V_BTJqVq-mHgVf_555Rx9RM1LbWIu9o1UKmVpJMg.8aS_-Vt5XsvayxuKc-UoBikQ7JH7pqX2DtFlxLMDHekg.PNG%2FI6WaUVC99KBpQILMZGMFbnWOLatw.jpg&type=f164_164\" width=\"82\" height=\"82\" alt=\"[당첨자 발표]뽀블리만\" onerror=\"loadPostNoImg(this)\"><span class=\"thumb_bg border\"></span> </a> </div> <dl> <dt><a href=\"https://m.post.naver.com/viewer/postView.nhn?volumeNo=21334317&memberNo=4656129&vType=VERTICAL\" target=\"_blank\" onclick=\"return goOtherCR(this, \\'a=pst_bas.link&r=2&i=00055f7ca0_000145892d&u=\\'+urlencode(this.href));\">[당첨자 발표]뽀블리만큼 러블리한 토스(TOUS) <strong class=\"hl\">박보영</strong> 주얼리 증...</a></dt> <dd class=\"txt_inline\">2019.06.18.</dd> <dd>(두근)그럼 토스 <strong class=\"hl\">박보영</strong> 목걸이를 받을5명 지금 바로 공개할게~~ 당첨된 5명 너무 너무 축하하고이메일로 당첨 안내 메일을 보낼 테니당첨 완료와 제품 수령을 위해... </dd> <dd class=\"post_info\"> <a href=\"https://m.post.naver.com/my.nhn?memberNo=4656129\" target=\"_blank\" class=\"editor\" onclick=\"return goOtherCR(this, \\'a=pst_bas.writer&r=2&i=00055f7ca0_000145892d&u=\\'+urlencode(this.href));\"><img src=\"https://search.pstatic.net/common/?src=https%3A%2F%2Fpost-phinf.pstatic.net%2FMjAxOTAxMjRfOTQg%2FMDAxNTQ4MjkxMDQ2MjM2.1oA-C8qwVNOP0Wv_kP2kxMoEcNDj9wgjNoDXp81N_Y0g.JbAXefEOZHrwyReo60dk1u7fNFhgW4dGLpsS2oe4yQYg.PNG%2Fpost_5358932232186817183.png%3Ftype%3Df200_200&type=f48_48\" width=\"24\" height=\"24\" alt=\"프로필 사진\" onerror=\"loadPostNoImg2(this)\"><span class=\"sppt mask\"></span>클로젯걸 </a> <span class=\"spcm ico_total ico_official\">공식</span> <span class=\"bar\"></span> <a href=\"https://m.post.naver.com/my/series/detail.nhn?seriesNo=414409&memberNo=4656129\" target=\"_blank\" onclick=\"return goOtherCR(this, \\'a=pst_bas.srs&r=2&i=00055f7ca0_000145892d&u=\\'+urlencode(this.href));\" title=\"FASHION _ EVENT\">FASHION _ EVENT</a> </dd> <dd class=\"post_react\"> <span class=\"u_likeit_list_module\"> <a href=\"#\" class=\"u_likeit_list_btn u_type_bright u_none_border u_none_txt\" data-sid=\"POST\" data-did=\"NXPOST\" data-cid=\"21334317_4656129\" data-likeit=\"0\" onclick=\"return onLikeClick(this);\"></a> </span><span>명이 추천했습니다.</span> <span class=\"bar\"></span> <a href=\"https://m.post.naver.com/viewer/commentsView.nhn?volumeNo=21334317&memberNo=4656129\" target=\"_blank\" onclick=\"return goOtherCR(this, \\'a=pst_bas.cmt&r=2&i=00055f7ca0_000145892d&u=\\'+urlencode(this.href));\"><span class=\"sppt ico_reply\"></span>107</a> </dd> </dl> </li> <li> <div class=\"thumb\"> <a href=\"https://m.post.naver.com/viewer/postView.nhn?volumeNo=20098699&memberNo=45660631&vType=VERTICAL\" target=\"_blank\" onclick=\"return goOtherCR(this, \\'a=pst_bas.img&r=3&i=00055f7ca0_000132ae8b&u=\\'+urlencode(this.href));\"> <img src=\"https://search.pstatic.net/common/?src=https%3A%2F%2Fpost-phinf.pstatic.net%2FMjAxOTA1MTVfMTUz%2FMDAxNTU3ODk1NTU4NzA5.nS8wlXCYkYqvnaoMFrWFk8ox64tQ6dwh0cM5WzMh_Icg.zHD4FLPr5sFfb4VdSxvBQ37PTz8cRWAd9sSoh3dMeasg.PNG%2FIEVZIA-dqxLyYRFyZFxsnsv7lj8w.jpg&type=f164_164\" width=\"82\" height=\"82\" alt=\"뽀블리 박보영의 드라\" onerror=\"loadPostNoImg(this)\"><span class=\"thumb_bg border\"></span> </a> </div> <dl> <dt><a href=\"https://m.post.naver.com/viewer/postView.nhn?volumeNo=20098699&memberNo=45660631&vType=VERTICAL\" target=\"_blank\" onclick=\"return goOtherCR(this, \\'a=pst_bas.link&r=3&i=00055f7ca0_000132ae8b&u=\\'+urlencode(this.href));\">뽀블리 <strong class=\"hl\">박보영</strong>의 드라마별 패션 한눈에 알아보기</a></dt> <dd class=\"txt_inline\">2019.05.15.</dd> <dd>어비스로 돌아온 뽀블리 <strong class=\"hl\">박보영</strong>입니다♥이 세상 귀여움이 아닌 <strong class=\"hl\">박보영</strong>의 지난 작품들까지 한번에 살펴볼 수 있는씬스타일러만의 특.... <strong class=\"hl\">박보영</strong>이... 편안함<strong class=\"hl\">박보영</strong>... </dd> <dd class=\"post_info\"> <a href=\"https://m.post.naver.com/my.nhn?memberNo=45660631\" target=\"_blank\" class=\"editor\" onclick=\"return goOtherCR(this, \\'a=pst_bas.writer&r=3&i=00055f7ca0_000132ae8b&u=\\'+urlencode(this.href));\"><img src=\"https://search.pstatic.net/common/?src=https%3A%2F%2Fpost-phinf.pstatic.net%2FMjAxOTA0MTBfMjcg%2FMDAxNTU0OTAyMjc3OTcx.KPWVQaBIJpV2_GRx2TefO1uY5HYixz7zend91r-HS28g.7E5IaQRZZ37AOOER087zSJPKodw67Vw7oA7uKBJvNhcg.JPEG%2Fpost_8816450974139515728.jpg%3Ftype%3Df200_200&type=f48_48\" width=\"24\" height=\"24\" alt=\"프로필 사진\" onerror=\"loadPostNoImg2(this)\"><span class=\"sppt mask\"></span>씬 스타일러 </a> <span class=\"bar\"></span> <a href=\"https://m.post.naver.com/my/series/detail.nhn?seriesNo=528728&memberNo=45660631\" target=\"_blank\" onclick=\"return goOtherCR(this, \\'a=pst_bas.srs&r=3&i=00055f7ca0_000132ae8b&u=\\'+urlencode(this.href));\" title=\"연예인의 드라마 속 패션아이템 비교\">연예인의 드라마 속 패션아이템 비교</a> </dd> <dd class=\"post_react\"> <span class=\"u_likeit_list_module\"> <a href=\"#\" class=\"u_likeit_list_btn u_type_bright u_none_border u_none_txt\" data-sid=\"POST\" data-did=\"NXPOST\" data-cid=\"20098699_45660631\" data-likeit=\"0\" onclick=\"return onLikeClick(this);\"></a> </span><span>명이 추천했습니다.</span> <span class=\"bar\"></span> <a href=\"https://m.post.naver.com/viewer/commentsView.nhn?volumeNo=20098699&memberNo=45660631\" target=\"_blank\" onclick=\"return goOtherCR(this, \\'a=pst_bas.cmt&r=3&i=00055f7ca0_000132ae8b&u=\\'+urlencode(this.href));\"><span class=\"sppt ico_reply\"></span>1</a> </dd> </dl> </li> </ul> <div class=\"section_more\"> <a href=\"http://m.post.naver.com/search/post.nhn?keyword=%EB%B0%95%EB%B3%B4%EC%98%81\" target=\"_blank\" class=\"go_site\" onclick=\"return goOtherCR(this, \\'a=pst_bas.more&r=&i=&u=\\'+urlencode(this.href));\">포스트 더보기</a> </div> </div> <script type=\"text/javascript\"> function loadPostNoImg(o) { o.src = \\'https://ssl.pstatic.net/sstatic/search/images11/blank.gif\\'; o.alt = \\'이미지준비중\\'; o.className = \\'bg_nimg2\\'; } function loadPostNoImg2(o) { o.src = \\'https://ssl.pstatic.net/sstatic/search/2015/pf_noimg.png\\'; o.alt = \\'프로필 사진 없음\\'; } function onLikeClick(o) { var wel = $Element(o); if (!wel.hasClass(\\'on\\')) { return tCR(\\'pst_bas.rku\\', \\'\\', \\'\\'); } else { return tCR(\\'pst_bas.rkuc\\', \\'\\', \\'\\'); } } </script> <script type=\"text/javascript\"> (function($) { var fnCallback = function() { var value = $(\".sp_website .ly_area ._btn_open\"); if (typeof value === \"undefined\") { return; } value.on(\"click\",function(e){ var self=$(this); /* $(\\'.ly_option\\').hide(); value.attr(\\'aria-selected\\',\\'false\\'); */ if(self.attr(\\'aria-selected\\') == \\'true\\'){ self.attr(\\'aria-selected\\',\\'false\\'); self.siblings(\\'.ly_option\\').hide(); }else{ value.attr(\\'aria-selected\\',\\'false\\'); value.siblings(\\'.ly_option\\').hide(); self.attr(\\'aria-selected\\',\\'true\\'); self.siblings(\\'.ly_option\\').show(); } e.preventDefault(); }); }; nhn.common.load_js(null, fnCallback, true, 150); }(jQuery)); </script> <script type=\"text/javascript\"> if(window.nhn===undefined){nhn={};}if(nhn.search===undefined){nhn.search={};}nhn.search.tooltip=$Class({$init:function(a,b){this._sClassSignature=a;this._welTarget=$Element(b);},show:function(a){this._welTarget.addClass(this._sClassSignature);},hide:function(){this._welTarget.removeClass(this._sClassSignature);},toggle:function(){this._welTarget.toggleClass(this._sClassSignature);}});nhn.search.tooltip.query=$Class({$init:function(a,b){this._welTarget=null;this._sQuery=b;},showByQuery:function(a){$Element($$.getSingle(this._sQuery,a)).addClass(this._sClassSignature);},hideByQuery:function(a){$Element($$.getSingle(this._sQuery,a)).removeClass(this._sClassSignature);},toggleByQuery:function(a){$Element($$.getSingle(this._sQuery,a)).toggleClass(this._sClassSignature);}}).extend(nhn.search.tooltip); var siteTooltip = new nhn.search.tooltip.query(\"drcton\",\"! div.drct_ico\"); </script> <a style=\"display:none;\" href=\"#\" id=\"dummy\"></a> <div class=\"sp_website section\"> <div class=\"section_head\"> <h2>웹사이트</h2> <a target=\"_blank\" href=\"https://help.naver.com/support/alias/website/website_1.naver\" class=\"go_write space\" onclick=\"goOtherCR(this,\\'a=web_all.help&r=&i=&u=\\'+urlencode(this.href));\">도움말</a> </div> <ul class=\"type01\"> <li id=\"web_layer_0\" class=\"sh_web_top\"> <dl> <dt> <a href=\"https://namu.wiki/w/%EB%B0%95%EB%B3%B4%EC%98%81\" target=_blank onclick=\"return goOtherCR(this, \\'a=web_all*w.tit&r=1&i=a00000fa_8a96d12a72d00f80d7b77f41&u=\\'+urlencode(this.href ? this.href : location.href))\" class=\"title_link\"><strong class=\"hl\">박보영</strong> - 나무위키</a> <span class=\"ico_area\"> </span> </dt> <dd class=\"txt_block\"> <div class=\"web_url\"> <a href=\"https://namu.wiki/w/%EB%B0%95%EB%B3%B4%EC%98%81\" target=\"_blank\" class=\"txt_url\" onclick=\"return goOtherCR(this, \\'a=web_all*w.url&r=1&i=a00000fa_8a96d12a72d00f80d7b77f41&u=\\'+urlencode(this.href ? this.href : location.href))\">https://namu.wiki/w/<strong class=\"hl\">박보영</strong></a> <div class=\"ly_area\"> <a href=\"#\" role=\"button\" class=\"btn_open _btn_open\" onclick=\"tCR(\\'a=web_all*w.taskopen&r=&i=&u=javascript\\');\"><span class=\"sprenew ico_arr\">열기</span></a> <div class=\"ly_option\" style=\"display: none;\"> <a class=\"item\" onclick=\"return goOtherCR(this, \\'a=web_all*w.similar&r=1&i=a00000fa_8a96d12a72d00f80d7b77f41&u=\\'+urlencode(this.href ? this.href : location.href))\" href=\"?f=insite&fd=2&filetype=0&nso=so%3Ar%2Ca%3Aall%2Cp%3Aall&query=%EB%B0%95%EB%B3%B4%EC%98%81&research_url=https%3A%2F%2Fnamu.wiki&sm=tab_wrs&start=1&where=webkr\">사이트 내 검색</a> <a class=\"item\" href=\"http://210.89.172.69/search2.naver?where=web_html&from=web_naver_nx&u=https%3A%2F%2Fnamu.wiki%2Fw%2F%25EB%25B0%2595%25EB%25B3%25B4%25EC%2598%2581&r=1&docid=a00000fa_8a96d12a72d00f80d7b77f41&rev=31&tl=%EB%B0%95%EB%B3%B4%EC%98%81\" target=\"_blank\" onclick=\"return goOtherCR(this, \\'a=web_all*w.cached&r=1&i=a00000fa_8a96d12a72d00f80d7b77f41&u=\\'+urlencode(this.href ? this.href : location.href));\" >저장된 페이지</a> </div> </div> </div> </dd> <dd class=\"sh_web_passage\">동명이인인 대한민국의 법조인에 대한 내용은 <strong class=\"hl\">박보영</strong>(법조인) 문서를 참조하십시오. 이름 <strong class=\"hl\">박보영</strong> (朴寶英) 다른 이름 朴宝英... [3] <strong class=\"hl\">박보영</strong> V LIVE 마이너 갤러리 [4] 링크 V LIVE 1. 소개 2. 생애 3. 활동 3.1. 데뷔 초 (2006년~2008년) 3.2. \\'과속스캔들\\'이라는 홈런...</dd> <dd class=\"txt_block\"> <span class=\"inline\"> 나무위키 </span> </dd> </dl> </li> <li id=\"web_layer_1\" class=\"sh_web_top\"> <dl> <dt> <a href=\"http://gall.dcinside.com/board/lists/?id=parkboyoung\" target=_blank onclick=\"return goOtherCR(this, \\'a=web_all*w.tit&r=2&i=a00000fa_cf2bc48c8943e5599cc3e5a3&u=\\'+urlencode(this.href ? this.href : location.href))\" class=\"title_link\"><strong class=\"hl\">박보영</strong> 갤러리 - 디시인사이드</a> <span class=\"ico_area\"> </span> </dt> <dd class=\"txt_block\"> <div class=\"web_url\"> <a href=\"http://gall.dcinside.com/board/lists/?id=parkboyoung\" target=\"_blank\" class=\"txt_url\" onclick=\"return goOtherCR(this, \\'a=web_all*w.url&r=2&i=a00000fa_cf2bc48c8943e5599cc3e5a3&u=\\'+urlencode(this.href ? this.href : location.href))\">http://gall.dcinside.com/board/lists/?id=parkboyoung</a> <div class=\"ly_area\"> <a href=\"#\" role=\"button\" class=\"btn_open _btn_open\" onclick=\"tCR(\\'a=web_all*w.taskopen&r=&i=&u=javascript\\');\"><span class=\"sprenew ico_arr\">열기</span></a> <div class=\"ly_option\" style=\"display: none;\"> <a class=\"item\" onclick=\"return goOtherCR(this, \\'a=web_all*w.similar&r=2&i=a00000fa_cf2bc48c8943e5599cc3e5a3&u=\\'+urlencode(this.href ? this.href : location.href))\" href=\"?f=insite&fd=2&filetype=0&nso=so%3Ar%2Ca%3Aall%2Cp%3Aall&query=%EB%B0%95%EB%B3%B4%EC%98%81&research_url=http%3A%2F%2Fgall.dcinside.com&sm=tab_wrs&start=1&where=webkr\">사이트 내 검색</a> <a class=\"item\" href=\"http://210.89.172.69/search2.naver?where=web_html&from=web_naver_nx&u=http%3A%2F%2Fgall.dcinside.com%2Fboard%2Flists%2F%3Fid%3Dparkboyoung&r=2&docid=a00000fa_cf2bc48c8943e5599cc3e5a3&rev=31&tl=%EB%B0%95%EB%B3%B4%EC%98%81\" target=\"_blank\" onclick=\"return goOtherCR(this, \\'a=web_all*w.cached&r=2&i=a00000fa_cf2bc48c8943e5599cc3e5a3&u=\\'+urlencode(this.href ? this.href : location.href));\" >저장된 페이지</a> </div> </div> </div> </dd> <dd class=\"sh_web_passage\">정글의 법칙, 영화, 배우, 탤런트, 여자, 늑대소년, 과속 스캔들, 미확인 동영상, celeb</dd> </dl> </li> <li id=\"web_layer_2\" class=\"sh_web_top\"> <dl> <dt> <a href=\"https://movie.daum.net/person/main?personId=105244\" target=_blank onclick=\"return goOtherCR(this, \\'a=web_all*w.tit&r=3&i=a00000fa_45c148359252c90712a55813&u=\\'+urlencode(this.href ? this.href : location.href))\" class=\"title_link\"><strong class=\"hl\">박보영</strong> - Daum 영화</a> <span class=\"ico_area\"> </span> </dt> <dd class=\"txt_block\"> <div class=\"web_url\"> <a href=\"https://movie.daum.net/person/main?personId=105244\" target=\"_blank\" class=\"txt_url\" onclick=\"return goOtherCR(this, \\'a=web_all*w.url&r=3&i=a00000fa_45c148359252c90712a55813&u=\\'+urlencode(this.href ? this.href : location.href))\">https://movie.daum.net/person/main?personId=105244</a> <div class=\"ly_area\"> <a href=\"#\" role=\"button\" class=\"btn_open _btn_open\" onclick=\"tCR(\\'a=web_all*w.taskopen&r=&i=&u=javascript\\');\"><span class=\"sprenew ico_arr\">열기</span></a> <div class=\"ly_option\" style=\"display: none;\"> <a class=\"item\" onclick=\"return goOtherCR(this, \\'a=web_all*w.similar&r=3&i=a00000fa_45c148359252c90712a55813&u=\\'+urlencode(this.href ? this.href : location.href))\" href=\"?f=insite&fd=2&filetype=0&nso=so%3Ar%2Ca%3Aall%2Cp%3Aall&query=%EB%B0%95%EB%B3%B4%EC%98%81&research_url=https%3A%2F%2Fmovie.daum.net&sm=tab_wrs&start=1&where=webkr\">사이트 내 검색</a> <a class=\"item\" href=\"http://210.89.172.69/search2.naver?where=web_html&from=web_naver_nx&u=https%3A%2F%2Fmovie.daum.net%2Fperson%2Fmain%3FpersonId%3D105244&r=3&docid=a00000fa_45c148359252c90712a55813&rev=31&tl=%EB%B0%95%EB%B3%B4%EC%98%81\" target=\"_blank\" onclick=\"return goOtherCR(this, \\'a=web_all*w.cached&r=3&i=a00000fa_45c148359252c90712a55813&u=\\'+urlencode(this.href ? this.href : location.href));\" >저장된 페이지</a> </div> </div> </div> </dd> <dd class=\"sh_web_passage\"><strong class=\"hl\">박보영</strong> 포토 412장 대표사진 : Daum 인물검색 (관계자 정보 확인) <strong class=\"hl\">박보영</strong> 배우 출생 : 1990년 02월 12일, 충북 증평군 성별 : 여성 신체 : 158cm, 41kg 데뷔 : 2006년 EBS 드라마 \\'비밀의 교정\\' 수상 : 2018.12.17 제23회 소비자의 날 KCA 문화연예 시상식 2018...</dd> <dd class=\"txt_block\"> <span class=\"inline\"> 다음 영화 </span> </dd> </dl> </li> </ul> <div class=\"section_more\"><a href=\"?f=&fd=2&filetype=0&nso=so%3Ar%2Ca%3Aall%2Cp%3Aall&query=%EB%B0%95%EB%B3%B4%EC%98%81&research_url=&sm=tab_nmr&start=1&where=webkr\" onClick=\"return goOtherCR(this, \\'a=web_all*w.more&r=&i=&u=\\'+urlencode(this.href ? this.href : location.href))\" class=\"go_more\">웹사이트 더보기</a></div> </div> <link rel=\"stylesheet\" type=\"text/css\" href=\"https://ssl.pstatic.net/sstatic/search/pc/css/sp_kindic_180830.css\"> <script type=\"text/javascript\"> function wiki_escape(url) { if (navigator.appName.charAt(0) == \"M\" && navigator.appVersion.indexOf(\"MSIE 6\") != -1) { tmp = escape(url); ret = tmp.replace(\"http\\\\%3A\", \"http:\"); } else if (navigator.appName.indexOf(\"Opera\") != -1) { len = url.length; last_pos = url.lastIndexOf(\"/\"); url_prefix = url.substr(0, last_pos + 1); url_item = url.substr(last_pos + 1, len - last_pos); ret = url_prefix + (encodeURIComponent(url_item)); } else ret = url; return ret; } </script> <div class=\"sp_kindic sc _sp_kindic\"> <div class=\"sc_head\"> <h2>지식백과</h2> </div> <div class=\"sc_kindic\"> <div class=\"group_kindic type_attach\"> <div class=\"kindic\"> <div class=\"info_area\"> <div class=\"tit_box\"> <a target=\"_blank\" href=\"https://ko.wikipedia.org/wiki/%EB%B0%95%EB%B3%B4%EC%98%81\" class=\"tit \" onclick=\"return goOtherCR(this,\\'a=kdc_gnl*W.title&r=1&i=880003ED_5ff863231baa63e18d1ff152&u=\\'+urlencode(this.href));\"> <strong>박보영</strong> </a> </div> <p class=\"txt_box\"><strong>박보영</strong> (1990년 2월 12일 ~ )은 대한민국의 배우이다. 약력 2006년 EBS 드라마 《비밀의 교정》으로 연예계에 정식 데뷔 한 후, 2007년에는 SBS 드라마 《마녀유희》와 SBS 드라마 《달려라 고등어》에... </p> <div class=\"source_box\"><span class=\"source\">위키백과</span> </div> <div class=\"dsc_box\"> <em class=\"tit\">출생</em><span class=\"txt\">1990년 2월 12일 (29세), 대한민국 충청북도 괴산군 증평읍, (現 대한민국 충청북도 ...</span><em class=\"tit\">직업</em><span class=\"txt\">배우</span><em class=\"tit\">활동 기간</em><span class=\"txt\">2006년 ~ 현재</span><em class=\"tit\">소속사</em><span class=\"txt\">피데스스파티윰</span> </div> </div> </div> <div class=\"kindic\"> <div class=\"info_area\"> <div class=\"tit_box\"> <a target=\"_blank\" href=\"https://ko.wikipedia.org/wiki/%EC%97%B0%EC%A7%80%ED%95%B4\" class=\"tit \" onclick=\"return goOtherCR(this,\\'a=kdc_gnl*W.title&r=2&i=880003ED_d845b33734a9a95a3963d279&u=\\'+urlencode(this.href));\"> 연지해 </a> </div> <p class=\"txt_box\">연지해 (1992년 5월 23일 ~ )는 대한민국의 배우이다. 출연 영화 2014년 《일대일》... 납치여고생 역 2014년 《아귀》... 간호사 역 2015년 《여름의 끝자락》... 소영 역 2015년 《한 끼》... </p> <div class=\"source_box\"><span class=\"source\">위키백과</span> </div> <div class=\"dsc_box\"> <em class=\"tit\">관련어<a href=\"https://help.naver.com/support/alias/search/integration/integration_8.naver\" target=\"_blank\"><img src=\"https://ssl.pstatic.net/sstatic/search/img/ico_help.gif\" class=\"ico_help\" alt=\"도움말\" width=\"12\" height=\"12\"></a></em><span class=\"txt\"><strong class=\"hl\"><strong>박보영</strong></strong></span> <em class=\"tit\">본명</em><span class=\"txt\"><strong>박보영</strong></span> <em class=\"tit\">출생</em><span class=\"txt\">1992년 5월 23일 (27세), 대한민국</span><em class=\"tit\">직업</em><span class=\"txt\">배우</span><em class=\"tit\">활동 기간</em><span class=\"txt\">2014년 ~ 현재</span> </div> </div> </div> <div class=\"kindic\"> <div class=\"info_area\"> <div class=\"tit_box\"> <a target=\"_blank\" href=\"https://en.wikipedia.org/wiki/Park_Bo-young\" class=\"tit \" onclick=\"return goOtherCR(this,\\'a=kdc_gnl*W.title&r=3&i=880003ED_89968aac641e596e04d11674&u=\\'+urlencode(this.href));\"> Park Bo-young </a> </div> <p class=\"txt_box\">Park Bo-young (born February 12, 1990) is a South Korean actress. She is best known for her leading roles in the hit films Scandal Makers (2008), A Werewolf Boy (2012) and On Your... </p> <div class=\"source_box\"><span class=\"source\">위키백과</span> </div> <div class=\"dsc_box\"> <em class=\"tit\">관련어<a href=\"https://help.naver.com/support/alias/search/integration/integration_8.naver\" target=\"_blank\"><img src=\"https://ssl.pstatic.net/sstatic/search/img/ico_help.gif\" class=\"ico_help\" alt=\"도움말\" width=\"12\" height=\"12\"></a></em><span class=\"txt\"><strong class=\"hl\"><strong>박보영</strong></strong></span> <em class=\"tit\">Born</em><span class=\"txt\">February 12, 1990 (age\\xa029), Jeungpyeong County, North Chungcheong Provi...</span><em class=\"tit\">Education</em><span class=\"txt\">Dankook University (Theater and Film)</span><em class=\"tit\">Occupation</em><span class=\"txt\">Actress</span> </div> </div> </div> </div> </div> <div class=\"section_more\"> <a href=\"?where=kdic&query=%EB%B0%95%EB%B3%B4%EC%98%81&ie=utf8&sm=tab_nmr\" class=\"go_more\" onclick=\"return goOtherCR(this,\\'a=kdc_gnl.more&r=&i=&u=\\'+urlencode(this.href));\">지식백과 더보기</a> </div> </div><script type=\"text/javascript\"> var cafe_terms = [\"%EB%B0%95%EB%B3%B4%EC%98%81\"]; </script> <div class=\"cafe section _cafeBase _prs_caf\"> <div class=\"section_head\"> <h2>카페</h2> </div> <ul class=\"type01\"> <li class=\"sh_cafe_top\"> <div class=\"thumb\"><a href=\"https://cafe.naver.com/nexontv/2051803\" target=\"_blank\" class=\"sp_thmb thmb80\" onClick=\"return goOtherCR(this, \\'a=caf_bas*a.img&r=1&i=90000004_017D257F001F4EDB00000000&u=\\'+urlencode(urlexpand(this.href)));\"><img src=\"https://search.pstatic.net/common/?src=http%3A%2F%2Fcafefiles.naver.net%2FMjAxOTA2MjdfMjkg%2FMDAxNTYxNjAxNTc4Njg0.57Vbs0U8jyCbTxl3mUDhShUjAajEfDZW1QaET-TFsvkg.m6TTMvarGKqX9de3a7RTwB_rqPeFyt6-vWyJ2XjuvCYg.JPEG%2F%25B9%25DA%25BA%25B8%25BF%25B5.jpg%23650x433&type=n82_82\" width=\"82\" height=\"82\" alt=\"박보영 진짜 보면 볼수록 괜찮네요~\" onError=\"this.parentNode.style.display=\\'none\\';\"><span class=\"thmb_v\"></span><span class=\"thmb_bd\"></span></a></div> <dl> <dt><a href=\"https://cafe.naver.com/nexontv/2051803\" target=\"_blank\" class=\"sh_cafe_title\" title=\"\" onclick=\"return goOtherCR(this, \\'a=caf_bas*a.tit&r=1&i=90000004_017D257F001F4EDB00000000&u=\\'+urlencode(urlexpand(this.href)));\"><strong class=\"hl\">박보영</strong> 진짜 보면 볼수록 괜찮네요~</a></dt> <dd class=\"txt_inline\">2019.06.27. </dd> <dd class=\"sh_cafe_passage\">☞ <strong class=\"hl\">박보영</strong> 솔직히 여배우중에 제일 예쁘고 연기 잘하고, 완전 여신 아닌가요?? <strong class=\"hl\">박보영</strong> 완전 귀염상에 동안이라, 어린 것 같은데... 1990년 생으로 벌써 한국나...</dd> <dd class=\"txt_block\"><span class=\"inline\"><a href=\"https://cafe.naver.com/nexontv\" target=\"_blank\" class=\"txt84\" onclick=\"return goOtherCR(this, \\'a=caf_bas*a.cafename&r=1&i=90000004_017D257F001F4EDB00000000&u=\\'+urlencode(urlexpand(this.href)));\">[비트맨] 비트코인 NO.1 커뮤니티...</a> <a href=\"https://cafe.naver.com/nexontv/2051803\" target=\"_blank\" class=\"url\" onclick=\"return goOtherCR(this, \\'a=caf_bas*a.cafeurl&r=1&i=90000004_017D257F001F4EDB00000000&u=\\'+urlencode(urlexpand(this.href)));\">cafe.naver.com/nexon...</a><span class=\"bar\"></span> <a href=\"?where=article&query=%EB%B0%95%EB%B3%B4%EC%98%81&cafe_url=nexontv&sm=tab_crs&ie=utf8\" class=\"txt84\" onclick=\"return goOtherCR(this, \\'a=caf_bas*a.similar&r=1&i=90000004_017D257F001F4EDB00000000&u=\\'+urlencode(urlexpand(this.href)));\">카페 내 검색</a> </span></dd> </dl> </li> <li class=\"sh_cafe_top\"> <div class=\"thumb\"><a href=\"https://cafe.naver.com/cosmania/25949923\" target=\"_blank\" class=\"sp_thmb thmb80\" onClick=\"return goOtherCR(this, \\'a=caf_bas*a.img&r=2&i=90000004_00995CFD018BF6E300000000&u=\\'+urlencode(urlexpand(this.href)));\"><img src=\"https://search.pstatic.net/common/?src=http%3A%2F%2Fcafefiles.naver.net%2FMjAxOTA2MjVfMjIy%2FMDAxNTYxNDM5NzY1MzQ2.fWcm5zVQ0YtV0sZ7-GNAzPhKa2_6u_nR8-JiJORyLp8g.ZkSyaONO2uHS31tLlsqlBXSTBfwbw4YeHczn7qjsZVEg.JPEG%2FtvN_%25BE%25EE%25BA%25F1%25BD%25BA.E15.190624.1080p-NEXT.mp4_20190625_092420.448.jpg%23740x416&type=n82_82\" width=\"82\" height=\"82\" alt=\"룸메님들 박보영 귀걸이요!!\" onError=\"this.parentNode.style.display=\\'none\\';\"><span class=\"thmb_v\"></span><span class=\"thmb_bd\"></span></a></div> <dl> <dt><a href=\"https://cafe.naver.com/cosmania/25949923\" target=\"_blank\" class=\"sh_cafe_title\" title=\"\" onclick=\"return goOtherCR(this, \\'a=caf_bas*a.tit&r=2&i=90000004_00995CFD018BF6E300000000&u=\\'+urlencode(urlexpand(this.href)));\">룸메님들 <strong class=\"hl\">박보영</strong> 귀걸이요!!</a></dt> <dd class=\"txt_inline\">2019.06.25. </dd> <dd class=\"sh_cafe_passage\">어제 어비스 보다가 넘 귀여워서 캡쳐해뒀는데<strong class=\"hl\">박보영</strong>이 한 귀걸이 어떤 브랜든지 계속 궁금해서 룸메님들한테 물어봐요...ㅠ혹시 아시는분 있나요?</dd> <dd class=\"txt_block\"><span class=\"inline\"><a href=\"https://cafe.naver.com/cosmania\" target=\"_blank\" class=\"txt84\" onclick=\"return goOtherCR(this, \\'a=caf_bas*a.cafename&r=2&i=90000004_00995CFD018BF6E300000000&u=\\'+urlencode(urlexpand(this.href)));\">카페 파우더룸 [ 화장품.뷰티.쇼...</a> <span class=\"spcm ico_total ico_represent\">대표</span><a href=\"https://cafe.naver.com/cosmania/25949923\" target=\"_blank\" class=\"url\" onclick=\"return goOtherCR(this, \\'a=caf_bas*a.cafeurl&r=2&i=90000004_00995CFD018BF6E300000000&u=\\'+urlencode(urlexpand(this.href)));\">cafe.naver.com/cosma...</a><span class=\"bar\"></span> <a href=\"?where=article&query=%EB%B0%95%EB%B3%B4%EC%98%81&cafe_url=cosmania&sm=tab_crs&ie=utf8\" class=\"txt84\" onclick=\"return goOtherCR(this, \\'a=caf_bas*a.similar&r=2&i=90000004_00995CFD018BF6E300000000&u=\\'+urlencode(urlexpand(this.href)));\">카페 내 검색</a> </span></dd> </dl> </li> <li class=\"sh_cafe_top\"> <div class=\"thumb\"><a href=\"https://cafe.naver.com/fox5282/2475331\" target=\"_blank\" class=\"sp_thmb thmb80\" onClick=\"return goOtherCR(this, \\'a=caf_bas*a.img&r=3&i=90000004_00BB76010025C54300000000&u=\\'+urlencode(urlexpand(this.href)));\"><img src=\"https://search.pstatic.net/common/?src=http%3A%2F%2Fcafefiles.naver.net%2FMjAxOTA2MjVfNSAg%2FMDAxNTYxNDM5NDk4NDEw.GVIR2s_Xe5QzljdB915f7hgz1RfbsF1kQ95s5FbgF7Yg.vr9ex9O5YP-LIGPJ12H59_DaxygRKqubDd767PXz3hkg.JPEG%2FtvN_%25BE%25EE%25BA%25F1%25BD%25BA.E15.190624.1080p-NEXT.mp4_20190625_092418.136.jpg%23740x416&type=n82_82\" width=\"82\" height=\"82\" alt=\"박보영 귀걸이, 목걸이 정보 아시는분!\" onError=\"this.parentNode.style.display=\\'none\\';\"><span class=\"thmb_v\"></span><span class=\"thmb_bd\"></span></a></div> <dl> <dt><a href=\"https://cafe.naver.com/fox5282/2475331\" target=\"_blank\" class=\"sh_cafe_title\" title=\"\" onclick=\"return goOtherCR(this, \\'a=caf_bas*a.tit&r=3&i=90000004_00BB76010025C54300000000&u=\\'+urlencode(urlexpand(this.href)));\"><strong class=\"hl\">박보영</strong> 귀걸이, 목걸이 정보 아시는분!</a></dt> <dd class=\"txt_inline\">2019.06.25. </dd> <dd class=\"sh_cafe_passage\">어제 어비스 보고있는데<strong class=\"hl\">박보영</strong>이 한 귀걸이 목걸이가 너무 귀엽더라구요..<strong class=\"hl\">박보영</strong>이랑도 너무 잘어울리고ㅋㅋㅋ비슷한 이미지의 친구가 곧 생일인데 선물해주고 싶어서 글 올...</dd> <dd class=\"txt_block\"><span class=\"inline\"><a href=\"https://cafe.naver.com/fox5282\" target=\"_blank\" class=\"txt84\" onclick=\"return goOtherCR(this, \\'a=caf_bas*a.cafename&r=3&i=90000004_00BB76010025C54300000000&u=\\'+urlencode(urlexpand(this.href)));\">A+여우야 [눈-코-가슴-성형/재수...</a> <a href=\"https://cafe.naver.com/fox5282/2475331\" target=\"_blank\" class=\"url\" onclick=\"return goOtherCR(this, \\'a=caf_bas*a.cafeurl&r=3&i=90000004_00BB76010025C54300000000&u=\\'+urlencode(urlexpand(this.href)));\">cafe.naver.com/fox52...</a><span class=\"bar\"></span> <a href=\"?where=article&query=%EB%B0%95%EB%B3%B4%EC%98%81&cafe_url=fox5282&sm=tab_crs&ie=utf8\" class=\"txt84\" onclick=\"return goOtherCR(this, \\'a=caf_bas*a.similar&r=3&i=90000004_00BB76010025C54300000000&u=\\'+urlencode(urlexpand(this.href)));\">카페 내 검색</a> </span></dd> </dl> </li> </ul> <div class=\"section_more\"> <a href=\"?where=article&query=%EB%B0%95%EB%B3%B4%EC%98%81&ie=utf8&sm=tab_nmr\" class=\"go_more\" onclick=\"return goOtherCR(this, \\'a=caf_bas.more&r=0&i=&u=\\'+urlencode(urlexpand(this.href)));\">카페 더보기</a> </div> <script> var aSlidingThumbnailData = [ ]; </script> <script> function onThumbnailErrorCafePR(img) { if(img) img.parentNode.parentNode.style.display=\\'none\\'; } </script> </div> <script type=\"text/javascript\" src=\"https://ssl.pstatic.net/sstatic/search/js/nhn.open_map_20130305.js\" charset=\"UTF-8\"></script> <script type=\"text/javascript\"> function make_cr(cr, url, area) { var cr_str = cr.split(\",\"); var cr_suffix = cr_str[0]; var rank = cr_str[1]; var gdid = cr_str[2]; var url = (url != \"\") ? urlencode(urlexpand(url)) : \"javascript\"; tCR(\"a=\" + cr_suffix + \".\" + area + \"&r=\" + rank + \"&i=\" + gdid + \"&u=\" + url); } (function(){ var elBase = $$.getSingle(\"._cafeBase\",$(\"content\")); var oFnCallBack = { closeMap : function(mapId, cr, sUrl, sClassName) { make_cr(cr, sUrl, \"maplayerclose\"); }, clickTitle : function(mapId, cr, sUrl, sClassName) { make_cr(cr, sUrl, \"mapaddress\"); }, viewLarge : function(mapId, cr, sUrl, sClassName) { make_cr(cr, sUrl, \"bigmap\"); }, searchRoute : function(mapId, cr, sUrl, sClassName) { make_cr(cr, sUrl, \"findmap\"); } }; var oOpenUrl = { }; var oFnOpenClose = { clickBtnOpen : function(mapId, cr, sUrl, sClassName) { make_cr(cr, sUrl, \"mapopen\"); }, clickBtnClose: function(mapId, cr, sUrl, sClassName) { make_cr(cr, sUrl, \"mapclose\"); } }; oTotalSearch.oBCKOpenMap.addArea(\"cafe\", { \"base\" : elBase, \"prefix\" : \"cafe_\", \"url\" : \"http://mashup.map.naver.com/view.nhn\", \"type\" : \"nexearch\", \"oFnCallBack\" : oFnCallBack, \"oFnOpenClose\" : oFnOpenClose, \"oOpenUrl\" : oOpenUrl }); })(); </script> <script type=\"text/javascript\"> var blog_terms = [\"%EB%B0%95%EB%B3%B4%EC%98%81\"]; </script>  <div class=\"blog section _blogBase _prs_blg\"> <div class=\"section_head\"> <h2>블로그</h2> </div> <ul class=\"type01\"> <li class=\"sh_blog_top\" id=\"sp_blog_1\"> <div class=\"thumb\"> <a href=\"https://blog.naver.com/imagetech1?Redirect=Log&logNo=221530358950\" class=\"sp_thmb thmb80\" target=\"_blank\" onclick=\"return goOtherCR(this,\\'a=blg_1st*i.img&r=1&i=90000003_0000000000000033943D04A6&u=\\'+urlencode(urlexpand(this.href)));\"> <img src=\"https://search.pstatic.net/common/?src=http%3A%2F%2Fblogfiles.naver.net%2FMjAxOTA1MDZfNjMg%2FMDAxNTU3MTM5MDIwMzQ3.xwjRt8roKgh4WAYskbB1otlZp6Zakh3raupn_Xvz-LAg.Kwd2qv0KA7lvEk6reTG07LxKWy8j43860wCzTeEdpMkg.JPEG.imagetech1%2F%25BE%25EE%25BA%25F1%25BD%25BA_%25C0%25CE%25B9%25B0%25B0%25FC%25B0%25E8%25B5%25B5_2.jpg%23550x599&type=n82_82\" width=\"82\" height=\"82\" alt=\"[어비스] 인물관계도 \" class=\"sh_blog_thumbnail\" onerror=\"this.parentNode.parentNode.style.display=\\'none\\';\"> <span class=\"thmb_v\"></span> <span class=\"thmb_bd\"></span> </a> </div> <dl> <dt> <a class=\"sh_blog_title _sp_each_url _sp_each_title\" href=\"https://blog.naver.com/imagetech1?Redirect=Log&logNo=221530358950\" target=\"_blank\" title=\"[어비스] 인물관계도 등장인물 몇부작 박보영 안효섭 드라마 어비스뜻 영혼소생구슬  tvN월화드라마\" onclick=\"return goOtherCR(this,\\'a=blg_1st*i.tit&r=1&i=90000003_0000000000000033943D04A6&u=\\'+urlencode(urlexpand(this.href)));\">[어비스] 인물관계도 등장인물 몇부작 <strong class=\"hl\">박보영</strong> 안효섭 드라마...</a> </dt> <dd class=\"txt_inline\">2019.05.05. </dd> <dd class=\"sh_blog_passage\">tvN 월화드라마 \\'어비스\\'의 주인공 <strong class=\"hl\">박보영</strong>과 안효섭의 포스터 tvN 월화드라마... 배우 <strong class=\"hl\">박보영</strong>과 안효섭이 죽었다가 살아나는데, 두 남녀의 외모가 생전 비주얼과 180도...</dd> <dd class=\"txt_block\"> <span class=\"inline\"> <a href=\"https://blog.naver.com/imagetech1\" onclick=\"return goOtherCR(this,\\'a=blg_1st*i.blogname&r=1&i=90000003_0000000000000033943D04A6&u=\\'+urlencode(urlexpand(this.href)));\" target=_blank class=\"txt84\">정연아 이미지테크</a> <a href=\"https://blog.naver.com/imagetech1?Redirect=Log&logNo=221530358950\" target=\"_blank\" onclick=\"return goOtherCR(this,\\'a=blg_1st*i.url&r=1&i=90000003_0000000000000033943D04A6&u=\\'+urlencode(urlexpand(this.href)));\" class=\"url\">blog.naver.com/imagetech1/221530358950</a> <span class=\"bar\"></span><a href=\"?query=%EB%B0%95%EB%B3%B4%EC%98%81&where=post&sm=tab_brs&post_blogurl=blog.naver.com%2Fimagetech1\" onClick=\"return goOtherCR(this,\\'a=blg_1st*i.similar&r=1&i=90000003_0000000000000033943D04A6&u=\\'+urlencode(urlexpand(this.href)));\" class=\"txt84\">블로그 내 검색</a> </span> </dd> </dl> </li> <li class=\"sh_blog_top\" id=\"sp_blog_2\"> <div class=\"thumb\"> <a href=\"http://hshlog.com/221559890110\" class=\"sp_thmb thmb80\" target=\"_blank\" onclick=\"return goOtherCR(this,\\'a=blg_1st*i.img&r=2&i=90000003_000000000000003395FFA0BE&u=\\'+urlencode(urlexpand(this.href)));\"> <img src=\"https://search.pstatic.net/common/?src=http%3A%2F%2Fblogfiles.naver.net%2FMjAxOTA2MTFfMTk3%2FMDAxNTYwMjU5ODY3MDA0.nsfw52NBTriVquw2h4dUs1hO4Jg5QhW8r4DYzWc_Wkkg.15MMOesHflBtDwXq5Ygw2nHhu7zWITdlNt2TObqBmlIg.PNG.hsh__91%2F5%25A4%25C73544.png%23500x500&type=n82_82\" width=\"82\" height=\"82\" alt=\"어비스 박보영 패션 2\" class=\"sh_blog_thumbnail\" onerror=\"this.parentNode.parentNode.style.display=\\'none\\';\"> <span class=\"thmb_v\"></span> <span class=\"thmb_bd\"></span> </a> </div> <dl> <dt> <a class=\"sh_blog_title _sp_each_url _sp_each_title\" href=\"http://hshlog.com/221559890110\" target=\"_blank\" title=\"어비스 박보영 패션 20대 여자 가방 폴스부띠끄 튤리 보셨어요?\" onclick=\"return goOtherCR(this,\\'a=blg_1st*i.tit&r=2&i=90000003_000000000000003395FFA0BE&u=\\'+urlencode(urlexpand(this.href)));\">어비스 <strong class=\"hl\">박보영</strong> 패션 20대 여자 가방 폴스부띠끄 튤리 보셨어요?</a> </dt> <dd class=\"txt_inline\">2019.06.11. </dd> <dd class=\"sh_blog_passage\">어비스 <strong class=\"hl\">박보영</strong> 패션 20대 여자 가방 폴스부띠끄 튤리 보셨어요? 한동안 정말... 평검사 <strong class=\"hl\">박보영</strong>이 보여주고 있는 패션에 대한 이야기를 해보고자 한다. 아무래도 요즘 20대...</dd> <dd class=\"txt_block\"> <span class=\"inline\"> <a href=\"http://hshlog.com\" onclick=\"return goOtherCR(this,\\'a=blg_1st*i.blogname&r=2&i=90000003_000000000000003395FFA0BE&u=\\'+urlencode(urlexpand(this.href)));\" target=_blank class=\"txt84\">HSH log Fashion & ...</a> <a href=\"http://hshlog.com/221559890110\" target=\"_blank\" onclick=\"return goOtherCR(this,\\'a=blg_1st*i.url&r=2&i=90000003_000000000000003395FFA0BE&u=\\'+urlencode(urlexpand(this.href)));\" class=\"url\">hshlog.com/221559890110</a> <span class=\"bar\"></span><a href=\"?query=%EB%B0%95%EB%B3%B4%EC%98%81&where=post&sm=tab_brs&post_blogurl=hshlog.com\" onClick=\"return goOtherCR(this,\\'a=blg_1st*i.similar&r=2&i=90000003_000000000000003395FFA0BE&u=\\'+urlencode(urlexpand(this.href)));\" class=\"txt84\">블로그 내 검색</a> </span> </dd> </dl> </li> <li class=\"sh_blog_top\" id=\"sp_blog_3\"> <div class=\"thumb\"> <a href=\"https://asovc7777.blog.me/221548676988\" class=\"sp_thmb thmb80\" target=\"_blank\" onclick=\"return goOtherCR(this,\\'a=blg_1st*i.img&r=3&i=90000003_00000000000000339554877C&u=\\'+urlencode(urlexpand(this.href)));\"> <img src=\"https://search.pstatic.net/common/?src=http%3A%2F%2Fblogfiles.naver.net%2FMjAxOTA1MjhfNTkg%2FMDAxNTU5MDI0NjgxMzY3.H_7RkT23zMohdPtSveckZzGmfhukiZ0Eqg1cCBH1jN8g.GIwagPakuX1KcGs5ypbgkooeyQ2pwpamkT-zBtrTWJog.PNG.asovc7777%2F20190528_152410.png%23594x192&type=n82_82\" width=\"82\" height=\"82\" alt=\"박보영 김영광 열애 !\" class=\"sh_blog_thumbnail\" onerror=\"this.parentNode.parentNode.style.display=\\'none\\';\"> <span class=\"thmb_v\"></span> <span class=\"thmb_bd\"></span> </a> </div> <dl> <dt> <a class=\"sh_blog_title _sp_each_url _sp_each_title\" href=\"https://asovc7777.blog.me/221548676988\" target=\"_blank\" title=\"박보영 김영광 열애 !? ( 뽀누랑 영광이 정보 정리 ! )\" onclick=\"return goOtherCR(this,\\'a=blg_1st*i.tit&r=3&i=90000003_00000000000000339554877C&u=\\'+urlencode(urlexpand(this.href)));\"><strong class=\"hl\">박보영</strong> 김영광 열애 !? ( 뽀누랑 영광이 정보 정리 ! )</a> </dt> <dd class=\"txt_inline\">2019.05.28. </dd> <dd class=\"sh_blog_passage\">이름 : <strong class=\"hl\">박보영</strong> 나이 : 1990년생 [ 2019년 기준 29살 !!! ] 과속스캔들 때 부터 같이 커온듯한 우리 뽀누.. <strong class=\"hl\">박보영</strong>씨.. 사랑합니다.. 영광찌 프로필입니다. 이름 : 김영광 나이...</dd> <dd class=\"txt_block\"> <span class=\"inline\"> <a href=\"https://asovc7777.blog.me\" onclick=\"return goOtherCR(this,\\'a=blg_1st*i.blogname&r=3&i=90000003_00000000000000339554877C&u=\\'+urlencode(urlexpand(this.href)));\" target=_blank class=\"txt84\">독서</a> <a href=\"https://asovc7777.blog.me/221548676988\" target=\"_blank\" onclick=\"return goOtherCR(this,\\'a=blg_1st*i.url&r=3&i=90000003_00000000000000339554877C&u=\\'+urlencode(urlexpand(this.href)));\" class=\"url\">asovc7777.blog.me/221548676988</a> <span class=\"bar\"></span><a href=\"?query=%EB%B0%95%EB%B3%B4%EC%98%81&where=post&sm=tab_brs&post_blogurl=asovc7777.blog.me\" onClick=\"return goOtherCR(this,\\'a=blg_1st*i.similar&r=3&i=90000003_00000000000000339554877C&u=\\'+urlencode(urlexpand(this.href)));\" class=\"txt84\">블로그 내 검색</a> </span> </dd> </dl> </li> <li class=\"sh_blog_top\" id=\"sp_blog_4\"> <div class=\"thumb\"> <a href=\"https://blog.naver.com/js2y86?Redirect=Log&logNo=221530397718\" class=\"sp_thmb thmb80\" target=\"_blank\" onclick=\"return goOtherCR(this,\\'a=blg_1st*i.img&r=4&i=90000003_0000000000000033943D9C16&u=\\'+urlencode(urlexpand(this.href)));\"> <img src=\"https://search.pstatic.net/common/?src=http%3A%2F%2Fblogfiles.naver.net%2FMjAxOTA1MDVfMjk3%2FMDAxNTU3MDU2Mjk0NDc0.o9qGfJyqftyXwApEAXTaDzGLJlASLmpmQPN8V8Kwu30g.fMmO8zvULLhvirIoev9738ANGNte_JBC1PiYiiBR_fYg.JPEG.js2y86%2F%25BE%25EE%25BA%25F1%25BD%25BA2.jpg%23886x1266&type=n82_82\" width=\"82\" height=\"82\" alt=\"어비스 드라마 등장인\" class=\"sh_blog_thumbnail\" onerror=\"this.parentNode.parentNode.style.display=\\'none\\';\"> <span class=\"thmb_v\"></span> <span class=\"thmb_bd\"></span> </a> </div> <dl> <dt> <a class=\"sh_blog_title _sp_each_url _sp_each_title\" href=\"https://blog.naver.com/js2y86?Redirect=Log&logNo=221530397718\" target=\"_blank\" title=\"어비스 드라마 등장인물 인물관계도 : 박보영 안효섭\" onclick=\"return goOtherCR(this,\\'a=blg_1st*i.tit&r=4&i=90000003_0000000000000033943D9C16&u=\\'+urlencode(urlexpand(this.href)));\">어비스 드라마 등장인물 인물관계도 : <strong class=\"hl\">박보영</strong> 안효섭</a> </dt> <dd class=\"txt_inline\">2019.05.06. </dd> <dd class=\"sh_blog_passage\">두 번째로 소개할 작품은 <strong class=\"hl\">박보영</strong> & 안효섭 님 주연의 새 월화드라마 어비스 입니다.... 영혼소생구슬이라는 소재도 신선했고 주인공으로 캐스팅되신 #<strong class=\"hl\">박보영</strong> 님과...</dd> <dd class=\"txt_block\"> <span class=\"inline\"> <a href=\"https://blog.naver.com/js2y86\" onclick=\"return goOtherCR(this,\\'a=blg_1st*i.blogname&r=4&i=90000003_0000000000000033943D9C16&u=\\'+urlencode(urlexpand(this.href)));\" target=_blank class=\"txt84\">센치한박양\\'s 감성드...</a> <a href=\"https://blog.naver.com/js2y86?Redirect=Log&logNo=221530397718\" target=\"_blank\" onclick=\"return goOtherCR(this,\\'a=blg_1st*i.url&r=4&i=90000003_0000000000000033943D9C16&u=\\'+urlencode(urlexpand(this.href)));\" class=\"url\">blog.naver.com/js2y86/221530397718</a> <span class=\"bar\"></span><a href=\"?query=%EB%B0%95%EB%B3%B4%EC%98%81&where=post&sm=tab_brs&post_blogurl=blog.naver.com%2Fjs2y86\" onClick=\"return goOtherCR(this,\\'a=blg_1st*i.similar&r=4&i=90000003_0000000000000033943D9C16&u=\\'+urlencode(urlexpand(this.href)));\" class=\"txt84\">블로그 내 검색</a> </span> </dd> </dl> </li> </ul> <div class=\"section_more\"> <a href=\"?query=%EB%B0%95%EB%B3%B4%EC%98%81&where=post&sm=tab_nmr&nso=\" onClick=\"return goOtherCR(this,\\'a=blg_1st.more&r=&i=&u=\\'+urlencode(urlexpand(this.href)));\" class=\"go_more\">블로그 더보기</a> </div> </div> <script type=\"text/javascript\" src=\"https://ssl.pstatic.net/sstatic/search/js/nhn.open_map_20130305.js\" charset=\"UTF-8\"></script> <script type=\"text/javascript\"> (function(){ var elBase = $$.getSingle(\"._blogBase\",$(\"content\")); var oFnCallBack = { closeMap : function(mapId,cr,sUrl,sClassName){ tCR(cr.replace(\"area\",\"maplayerclose\")); }, clickTitle : function(mapId,cr,sUrl,sClassName){ tCR(cr.replace(\"area\",\"mapaddress\") + \"&u=\" + urlencode(sUrl)); }, viewLarge : function(mapId,cr,sUrl,sClassName){ tCR(cr.replace(\"area\",\"bigmap\") + \"&u=\" + urlencode(sUrl)); }, searchRoute : function(mapId,cr,sUrl,sClassName){ tCR(cr.replace(\"area\",\"findmap\") + \"&u=\" + urlencode(sUrl)); } }; var oFnOpenClose = { clickBtnOpen : function(mapId,cr,sUrl,sClassName){ tCR(cr.replace(\"area\",\"mapopen\")); }, clickBtnClose: function(mapId,cr,sUrl,sClassName){ tCR(cr.replace(\"area\",\"mapclose\")); } }; var oOpenUrl = { }; oTotalSearch.oBCKOpenMap.addArea(\"blog\",{ \"base\" : elBase, \"prefix\" : \"blog_\", \"url\" : \"https://mashup.map.naver.com/view.nhn\", \"type\" : \"nexearch\", \"oFnCallBack\" : oFnCallBack, \"oFnOpenClose\" : oFnOpenClose, \"oOpenUrl\" : oOpenUrl }); })(); </script> <link rel=\"stylesheet\" type=\"text/css\" href=\"https://ssl.pstatic.net/sstatic/search/pc/css/sp_video_180524.css\"> <script type=\"text/javascript\"> function imgOnError(obj, i) { obj.onerror = null; obj.alt = \"이미지 준비중\"; obj.src = \"https://ssl.pstatic.net/sstatic/search/images11/blank.gif\"; if (i == 2) { obj.width = 80; obj.height = 45; obj.className = \"bg_nimg\"; } else { obj.width = 128; obj.height = 72; obj.className = \"bg_nimg2\"; } } </script> <div class=\"sp_video section _au_main_video _prs_vdo_bas\" id=\"elVideoReportItems\"> <div class=\"section_head\"> <h2>동영상</h2> </div> <div class=\"_list\"> <ul class=\"video_lst _video_lst\"> <li class=\"video_item item1\" id=\"videoItem0\" data-index=\"0\"> <a target=\"_blank\" href=\"http://www.vlive.tv/video/139111\" class=\"video_thum \" onclick=\"goOtherCR(this, \\'a=vdo_bas*g.thu&r=1&i=253321661_8016335d_000000021f67&u=\\'+urlencode(this.href));\"> <img src=\"https://search.pstatic.net/common/?src=http%3A%2F%2Fv.phinf.naver.net%2F20190710_131%2F15627621834502Dqpn_JPEG%2F38cbd51d-a30f-11e9-85e2-505dac8c381b_03.jpg&type=ac128_72\" width=\"128\" height=\"72\" alt=\"👋🏼\" onError=\"imgOnError(this, 0)\"> <span class=\"thum_v\"></span> <span class=\"mask\"></span> <span class=\"runtime\"><span class=\"blind\">재생시간</span>51분 36초</span> <span class=\"spmv ico play\">동영상 바로보기</span> <span class=\"spmv ico play_lk\">동영상 보러가기</span> </a> <dl class=\"video_info _video_info\"> <dt class=\"info_title tit\"> <a target=\"_blank\" onclick=\"goOtherCR(this, \\'a=vdo_bas*g.tit&r=1&i=253321661_8016335d_000000021f67&u=\\'+urlencode(this.href));\" href=\"http://www.vlive.tv/video/139111\" title=\"👋🏼\" class=\"title _text\"> 👋🏼 </a> </dt> <dd class=\"sub_info\"> <div class=\"inner\"> <span class=\"info cate\">V LIVE</span> <span class=\"info cite\"><a href=\"http://channels.vlive.tv/FCE49/video\" target=\"_blank\" onclick=\"goOtherCR(this, \\'a=vdo_bas*g.cha&r=1&i=253321661_8016335d_000000021f67&u=\\'+urlencode(this.href))\" class=\"link\" title=\"Park Bo Young\">Park Bo Young</a></span> </div> </dd> <dd class=\"sub_info\"> <div class=\"inner\"> <span class=\"info\"><span class=\"spmv ico_play\">재생수</span>82,290</span> <span class=\"info\">2일 전</span> </div> </dd> </dl> <input type=\"checkbox\" class=\"report_i _report id-0\" style=\"display:none\" title=\"👋🏼 동영상 신고\"> </li> <li class=\"video_item item2 video_on _item\" id=\"videoItem1\" data-index=\"1\"> <a target=\"_blank\" href=\"https://tv.naver.com/v/8921790\" class=\"video_thum _trigger\" data-api=\"https://s.search.naver.com/p/videosearch/search.naver?where=inkey&vid=0812601B_000008921790:0&ie=&ie=utf8&rev=31\"> <img src=\"https://search.pstatic.net/common/?src=https%3A%2F%2Fphinf.pstatic.net%2Ftvcast%2F20190625_284%2FeYdJ5_1561470135128womX4_JPEG%2FB120192997_EPI0016_14_B.jpg&type=ac128_72\" width=\"128\" height=\"72\" alt=\"검사 아니고 변호사 박\" onError=\"imgOnError(this, 0)\"> <span class=\"thum_v\"></span> <span class=\"mask\"></span> <span class=\"runtime\"><span class=\"blind\">재생시간</span>2분 24초</span> <span class=\"spmv ico play\">동영상 바로보기</span> <span class=\"spmv ico play_lk\">동영상 보러가기</span> </a> <dl class=\"video_info _video_info\"> <dt class=\"info_title tit\"> <a target=\"_blank\" onclick=\"goOtherCR(this, \\'a=vdo_bas*d.tit&r=2&i=2550431020_0812601B_000008921790&u=\\'+urlencode(this.href));\" href=\"https://tv.naver.com/v/8921790\" title=\"검사 아니고 변호사 박보영의 퍼펙트 한 하루\" class=\"title _text\"> 검사 아니고 변호사 <strong class=\"hl\">박보영</strong>의 퍼펙트 한... </a> </dt> <dd class=\"sub_info\"> <div class=\"inner\"> <span class=\"info cate\">네이버TV</span> <span class=\"info cite\"><a href=\"https://tv.naver.com/cjenm.tvNabyss\" target=\"_blank\" onclick=\"goOtherCR(this, \\'a=vdo_bas*d.cha&r=2&i=2550431020_0812601B_000008921790&u=\\'+urlencode(this.href))\" class=\"link\" title=\"어비스\">어비스</a></span> </div> </dd> <dd class=\"sub_info\"> <div class=\"inner\"> <span class=\"info\"><span class=\"spmv ico_play\">재생수</span>26,463</span> <span class=\"info\">2019.06.25.</span> </div> </dd> </dl> <div class=\"video_player _target\"></div> <input type=\"checkbox\" class=\"report_i _report id-1\" style=\"display:none\" title=\"검사 아니고 변호사 박 동영상 신고\"> </li> <li class=\"video_item item3 video_on _item\" id=\"videoItem2\" data-index=\"2\"> <a target=\"_blank\" href=\"https://tv.naver.com/v/8921335\" class=\"video_thum _trigger\" data-api=\"https://s.search.naver.com/p/videosearch/search.naver?where=inkey&vid=0812601B_000008921335:0&ie=&ie=utf8&rev=31\"> <img src=\"https://search.pstatic.net/common/?src=https%3A%2F%2Fphinf.pstatic.net%2Ftvcast%2F20190625_123%2F2KE34_1561468018392o3bSH_JPEG%2FB120192997_EPI0016_07_B.jpg&type=ac128_72\" width=\"128\" height=\"72\" alt=\"박보영을 살리고 웃으\" onError=\"imgOnError(this, 0)\"> <span class=\"thum_v\"></span> <span class=\"mask\"></span> <span class=\"runtime\"><span class=\"blind\">재생시간</span>2분 32초</span> <span class=\"spmv ico play\">동영상 바로보기</span> <span class=\"spmv ico play_lk\">동영상 보러가기</span> </a> <dl class=\"video_info _video_info\"> <dt class=\"info_title tit\"> <a target=\"_blank\" onclick=\"goOtherCR(this, \\'a=vdo_bas*d.tit&r=3&i=2550431020_0812601B_000008921335&u=\\'+urlencode(this.href));\" href=\"https://tv.naver.com/v/8921335\" title=\"박보영을 살리고 웃으며 사라진 안효섭 ㅠ_ㅠ\" class=\"title _text\"> <strong class=\"hl\">박보영</strong>을 살리고 웃으며 사라진 안효섭 ㅠ... </a> </dt> <dd class=\"sub_info\"> <div class=\"inner\"> <span class=\"info cate\">네이버TV</span> <span class=\"info cite\"><a href=\"https://tv.naver.com/cjenm.tvNabyss\" target=\"_blank\" onclick=\"goOtherCR(this, \\'a=vdo_bas*d.cha&r=3&i=2550431020_0812601B_000008921335&u=\\'+urlencode(this.href))\" class=\"link\" title=\"어비스\">어비스</a></span> </div> </dd> <dd class=\"sub_info\"> <div class=\"inner\"> <span class=\"info\"><span class=\"spmv ico_play\">재생수</span>33,447</span> <span class=\"info\">2019.06.25.</span> </div> </dd> </dl> <div class=\"video_player _target\"></div> <input type=\"checkbox\" class=\"report_i _report id-2\" style=\"display:none\" title=\"박보영을 살리고 웃으 동영상 신고\"> </li> <li class=\"video_item item4 video_on _item\" id=\"videoItem3\" data-index=\"3\"> <a target=\"_blank\" href=\"https://tv.naver.com/v/8921525\" class=\"video_thum _trigger\" data-api=\"https://s.search.naver.com/p/videosearch/search.naver?where=inkey&vid=0812601B_000008921525:0&ie=&ie=utf8&rev=31\"> <img src=\"https://search.pstatic.net/common/?src=https%3A%2F%2Fphinf.pstatic.net%2Ftvcast%2F20190625_187%2FCFusJ_1561468944466ILR9D_JPEG%2FB120192997_EPI0016_10_B.jpg&type=ac128_72\" width=\"128\" height=\"72\" alt=\"휴대폰 속 안효섭의 흔\" onError=\"imgOnError(this, 0)\"> <span class=\"thum_v\"></span> <span class=\"mask\"></span> <span class=\"runtime\"><span class=\"blind\">재생시간</span>2분 55초</span> <span class=\"spmv ico play\">동영상 바로보기</span> <span class=\"spmv ico play_lk\">동영상 보러가기</span> </a> <dl class=\"video_info _video_info\"> <dt class=\"info_title tit\"> <a target=\"_blank\" onclick=\"goOtherCR(this, \\'a=vdo_bas*d.tit&r=4&i=2550431020_0812601B_000008921525&u=\\'+urlencode(this.href));\" href=\"https://tv.naver.com/v/8921525\" title=\"휴대폰 속 안효섭의 흔적에 오열하는 박보영\" class=\"title _text\"> 휴대폰 속 안효섭의 흔적에 오열하는 <strong class=\"hl\">박보영</strong>... </a> </dt> <dd class=\"sub_info\"> <div class=\"inner\"> <span class=\"info cate\">네이버TV</span> <span class=\"info cite\"><a href=\"https://tv.naver.com/cjenm.tvNabyss\" target=\"_blank\" onclick=\"goOtherCR(this, \\'a=vdo_bas*d.cha&r=4&i=2550431020_0812601B_000008921525&u=\\'+urlencode(this.href))\" class=\"link\" title=\"어비스\">어비스</a></span> </div> </dd> <dd class=\"sub_info\"> <div class=\"inner\"> <span class=\"info\"><span class=\"spmv ico_play\">재생수</span>23,448</span> <span class=\"info\">2019.06.25.</span> </div> </dd> </dl> <div class=\"video_player _target\"></div> <input type=\"checkbox\" class=\"report_i _report id-3\" style=\"display:none\" title=\"휴대폰 속 안효섭의 흔 동영상 신고\"> </li> </ul> </div> <div class=\"btn_extend\" id=\"elVideoReportBtnBase\"> <div class=\"report_mv _elMsgReportProcess\" style=\"display:none\"> <em>영상을 선택하신 후 확인 버튼을 눌러주세요.</em> <a href=\"#\" onclick=\"tCR(\\'a=vdo_bas.reportok\\');\" class=\"btn_confirm _btnOkReport\">확인</a> <a href=\"#\" onclick=\"tCR(\\'a=vdo_bas.reportno\\');\" class=\"btn_cancel _btnCancelReport\">취소</a> </div> <div class=\"report_mv _elMsgReport\"> <strong style=\"display:none\" class=\"_elMsgReportDone\">신고완료</strong> <a href=\"#\" onclick=\"tCR(\\'a=vdo_bas.report\\');\" class=\"btn_report _btnReport\">동영상 신고하기</a> </div> <div class=\"ly_report_mv _elMsgNotSelect\"> <p>선택한 동영상이 없습니다.<br>신고할 동영상을 선택해 주세요.</p> <a href=\"#\" onclick=\"tCR(\\'a=vdo_bas.reportclose\\');\" class=\"spmv btn_close _btnClose\">닫기</a> </div> </div> <form id=\"VideoSearchResultReportForm\" target=\"VideoSearchResultReport\" action=\"https://s.search.naver.com/n/iv/report\" method=\"post\" style=\"display:none\"> <textarea name=\"sendData\" cols=\"100\" rows=\"100\" title=\"빈텍스트상자\"></textarea> </form> <iframe name=\"VideoSearchResultReport\" style=\"display:none\" title=\"빈프레임\"></iframe> <script type=\"text/javascript\"> var oReportDataForVideo = { }; </script> <script> (function() { var jsVideoPlayerFile = \"https://ssl.pstatic.net/sstatic/au/s/pc/_search/video/nhn.search.report_video_151109.js\"; var jsLoadCallback = function () { new nhn.search.video.ReportVideo({ elBase: $(\"elVideoReportBtnBase\"), elForm: $(\"VideoSearchResultReportForm\"), oConfig: { \"video\": { elBase: $(\"elVideoReportItems\"), reportData: oReportDataForVideo } } }); }; nhn.common.load_js(jsVideoPlayerFile, jsLoadCallback, true, 150); })(); </script> <script type=\"text/template\" id=\"_youtubeVideoTemplate\"> <div class=\"player_area\"> <iframe type=\"text/html\" src=\"{=playUrl}?autoplay=1&showinfo=1\" frameborder=\"0\" allow=\"autoplay; encrypted-media\" allowfullscreen class=\"full _ytplayer\" width=\"590\" height=\"332\" /> </div> <div class=\"info_area\"> <div class=\"info_inner\"> <a href=\"{=realUrl}\" onClick=\"return goOtherCR(this, \\'a=vdo_bas*d.playertrigger&r=&i=&u=\\'+urlencode(this.href))\" class=\"tit\" target=\"_blank\">{=title}</a> <div class=\"dsc_group\"> <span class=\"dsc\">{=info1}</span> <span class=\"dsc\">{=info2}</span> <span class=\"dsc\"><i class=\"spmv ico_play\">재생수</i> {=info3}</span> </div> <a nocr href=\"javascript:;\" role=\"button\" class=\"btn_close _close\"><i class=\"spmv ico_close\">닫기</i></a> </div> </div> </script> <script type=\"text/template\" id=\"_naverVideoTemplate\"> <div class=\"player_area _nplayer\" style=\"width:590px;height:332px\"></div> <div class=\"info_area\"> <div class=\"info_inner\"> <a href=\"{=realUrl}\" onClick=\"return goOtherCR(this, \\'a=vdo_bas*d.playertrigger&r=&i=&u=\\'+urlencode(this.href))\" class=\"tit\" target=\"_blank\">{=title}</a> <div class=\"dsc_group\"> <span class=\"dsc\">{=info1}</span> <span class=\"dsc\">{=info2}</span> <span class=\"dsc\"><i class=\"spmv ico_play\">재생수</i> {=info3}</span> </div> </div> <a nocr href=\"javascript:;\" role=\"button\" class=\"btn_close _close\"><i class=\"spmv ico_close\">닫기</i></a> </div> </script> <script type=\"text/template\" id=\"_errorVideoTemplate\"> <div class=\"api_error\"> <span class=\"api_ico_alert2 sprenew\">알림</span> <strong class=\"tit_message\">일시적인 오류입니다.</strong> <p class=\"dsc_message\">잠시 후 다시 시도해주세요.</p> <a href=\"#\" class=\"btn_retry _retry\" data-api=\"{=api}\" data-index=\"{=index}\"><span class=\"ico_retry\"></span>새로고침</a> </div> </script> <script> (function() { var $base = jQuery(\"._au_main_video\"); var jsWepPlayerFile = \"https://sstatic-g.rmcnmv.naver.net/resources/js/naver_web_player_all_common_min.js\"; var jsVideoPlayerFile = \"https://ssl.pstatic.net/sstatic/au/pc/video_player/nhn.search.videoPlayer.Controller_180322.js\"; var jsLoadCallbackVideoPlayer = function () { nhn.rmcnmv.BUILD_PHASE = \\'real\\'; var oVideoPlayer = new nhn.search.videoPlayer.Controller({ $base : $base, $list : $base.find(\"._list\"), toggleListClass : \"player_on\", $item : $base.find(\"._item\"), toggleItemClass : \"selected\", $errorTmpl : jQuery(\"#_errorVideoTemplate\"), htNaver : { playerType : nhn.rmcnmv.TechType.AUTO, skinName : \"tvcast_white\", tmpl : jQuery(\"#_naverVideoTemplate\"), advertiseInfo: [ { \"type\": \"pre\", \"exposure\": true, \"replayExposure\": true }, { \"type\": \"post\", \"exposure\": true, \"replayExposure\": true } ], advertiseUrl: null }, htYoutube : { tmpl : jQuery(\"#_youtubeVideoTemplate\") } }); oVideoPlayer.on({ \"clicklog-trigger-click\" : function(params) { tCR(\\'a=vdo_bas*d.trigger\\'); }, \"clicklog-close-click\" : function(params) { tCR(\\'a=vdo_bas*d.close\\'); }, \"clicklog-retry-click\" : function(params) { tCR(\\'a=vdo_bas*d.retry\\'); }, \"clicklog-ie8under-play\" : function(param) { console.log(param); location.href = param.sRealUrl; } }); }; nhn.common.load_js(\"https://ssl.pstatic.net/sstatic/au/module/requirejs/require-2.3.5.js\", function() { require([jsWepPlayerFile], function() { nx_js_lazyload(jsVideoPlayerFile, jsLoadCallbackVideoPlayer, 1); }); }, true, 150); })(); </script> <div class=\"section_more\"> <a onclick=\"return goOtherCR(this, \\'a=vdo_bas.more&r=&i=&u=\\'+urlencode(this.href))\" href=\"?where=video&ie=utf8&nso=&sm=tab_nmr&query=%EB%B0%95%EB%B3%B4%EC%98%81\" class=\"go_more\">동영상 더보기</a> </div> <script type=\"text/template\" id=\"elVideoTemplate\"> <div class=\"play_data\"> <a href=\"#\" class=\"tit\" target=\"_blank\"></a> <span class=\"pd_time\"></span> <span class=\"bar\"></span> <span class=\"pd_date\"></span> <a href=\"#\" class=\"view\" target=\"_blank\"><img src=\"https://ssl.pstatic.net/sstatic/search/img2/btn_b_mov4.gif\" alt=\"원본보기\" width=\"57\" height=\"22\"></a> </div> <div class=\"flash_player\"> <div class=\"layer_loading\"> <p><img src=\"https://ssl.pstatic.net/sstatic/search/citats/load_b01_01.gif\" width=\"150\" height=\"13\" alt=\"로딩중\"></p> </div> </div> <div class=\"close_btn\"><a href=\"#\"><img src=\"https://ssl.pstatic.net/sstatic/search/img/btn_movie_close.gif\" alt=\"닫기\" width=\"15\" height=\"15\"></a></div> </script> <script> (function() { var jsVideoPlayerFile = \"https://ssl.pstatic.net/sstatic/au/s/pc/_search/video/nhn.search.video_player_20151111.js\"; var jsLoadCallback = function () { var oVideoPlayer = new nhn.search.VideoPlayer($$(\"ul._video_lst\"), { sAjaxUrl: \"https://s.search.naver.com/p/videosearch/search.naver\", sPlayerTemplateId: \"elVideoTemplate\", sDisplayType: \"thumbnail\" }); }; nhn.common.load_js(jsVideoPlayerFile, jsLoadCallback, true, 150); })(); </script> </div><div class=\\'result_more section\\' id=\\'nx_result_more\\'> <div class=\\'section_head\\'> <h2>검색결과 더보기</h2> </div> <div class=\\'rsltmr_area\\'> <ul> <li><a onclick=\"return goOtherCR(this, \\'a=img_mre.spl&i=00123FD5_0000000000000000000000000&r=1&u=\\'+urlencode(this.href));\" href=\\'?where=image&query=%EB%B0%95%EB%B3%B4%EC%98%81&nso=so%3Ar%2Ca%3Aall%2Cp%3Aall&sm=tab_mre\\'><strong>이미지</strong><span class=\\'more\\'></span></a></li><li><a target=_blank onclick=\"return goOtherCR(this, \\'a=bok_mre.spl&i=00123FD5_0000000000000000000000000&r=1&u=\\'+urlencode(this.href));\" href=\\'http://book.naver.com/search/search.nhn?query=%EB%B0%95%EB%B3%B4%EC%98%81\\'><strong>책</strong><span class=\\'site_more\\'></span></a></li> <li><div><span></span></div></li> <li><div><span></span></div></li> <li><div><span></span></div></li> <li><div><span></span></div></li> </ul> </div> </div> <script> nhn = window.nhn || {}; nhn.search = nhn.search || {}; nhn.search.ResultTabToggler = jindo.$Class({ _welWrapper: null, _welUl: null, _nLength: 0, _nWidth: 0, _nItemHeight: 0, _htConfig: {}, $init: function(b) { this._htConfig = this._validate(b); if (!$(this._htConfig.sId)) { return false; } this._welWrapper = jindo.$Element(this._htConfig.sId); this._welUl = jindo.$Element($$.getSingle(\"ul\", this._welWrapper._element)); var a = $$(\"a\", this._welWrapper._element); this._nLength = a.length; this._nItemHeight = jindo.$Element(a[0]).parent().height(); this._switchClass(); this._attachEvent(); }, _validate: function(b) { var c = { nMaxWidth: 795 }; for (var a in b) { if (b[a]) { c[a] = b[a]; } } return c; }, _attachEvent: function() { jindo.$Fn(this._switchClass, this).attach(window, \"resize\"); }, _getRow: function(c, a) { var b = 1; if (c % a > 0) { b = Math.ceil(c / a); } else { b = c / a; } return b; }, _switchClass: function() { var b = 4, c = 0, a = this._welWrapper.width(); if (a >= this._htConfig.nMaxWidth) { b = 5; this._welWrapper.addClass(\"result_more2\"); } else { this._welWrapper.removeClass(\"result_more2\"); } c = this._getRow(this._nLength, b); this._welUl.css(\"height\", c * this._nItemHeight + \"px\"); } }); </script> <script type=\"text/javascript\"> (function() { new nhn.search.ResultTabToggler({ sId : \\'nx_result_more\\' }); }()); </script><script>g_crt+=\"\";</script>\\n</div><div id=\"sub_pack\" class=\"sub_pack\"><div class=\"content_search section\" data-dss-logarea=\"x8d\"> <div class=\"content03\"> <div class=\"header\"> <h2><a nocr onclick=\"return goOtherCR(this, \\'a=nco_x8d*3.name&r=1&i=1800000D_00000001F00A+1800000D_0000000741D8+1800000D_000000040A8A+1800000D_0000001E06BD&u=\\' + urlencode(this.href));\" href=\"?where=nexearch&sm=tab_etc&pkid=1&os=126986&query=%EB%B0%95%EB%B3%B4%EC%98%81\">박보영(영화배우)</a>의 V LIVE 정보</h2> </div> <div class=\"contents03_sub\"> <link rel=\"stylesheet\" type=\"text/css\" href=\"https://ssl.pstatic.net/sstatic/keypage/outside/scui/v_con/css/cs_v_con_171124.css\"> <div class=\"cs_v_con_side _cs_v_con_side\"> <div class=\"v_celeb_info\"> <span class=\"sns_thum\"> <span class=\"sns_msk\"></span> <img src=\"https://search.pstatic.net/common?type=f&size=32x32&quality=95&direct=true&src=http%3A%2F%2Fv.phinf.naver.net%2F20150811_37%2F1439277803334mfaj5_PNG%2Fupload_pby_profile.jpg.png\" alt=\"Park Bo Young 프로필 이미지\" width=\"32\" height=\"32\" onerror=\"this.onerror=null;this.src=\\'data:image/gif;base64,R0lGODlhAQABAIAAAAAAAP///yH5BAEAAAAALAAAAAABAAEAAAIBRAA7\\';\"> </span> <div class=\"sns_info\"> <strong class=\"sns_name\"> Park Bo Young </strong> <p class=\"sns_txt\">팔로워<em>1,213,638</em></p> </div> <a nocr onclick=\"return goOtherCR(this, \\'a=nco_x8d*3.vchannel&r=1&i=1800000D_00000001F00A+1800000D_0000000741D8+1800000D_000000040A8A+1800000D_0000001E06BD&u=\\' + urlencode(this.href));\" href=\"http://www.vlive.tv/channels/FCE49\" class=\"btn_link\" target=\"_blank\"><span class=\"blind\">Park Bo Young V</span></a> </div> <div class=\"v_thum_list\"> <ul class=\"lst_thum\"> <li> <a nocr onclick=\"return goOtherCR(this, \\'a=nco_x8d*3.img&r=1&i=1800000D_00000001F00A+1800000D_0000000741D8+1800000D_000000040A8A+1800000D_0000001E06BD&u=\\' + urlencode(this.href));\" href=\"http://www.vlive.tv/video/139111\" class=\"video_thum\" target=\"_blank\"> <span class=\"thum_msk\"></span> <img src=\"https://search.pstatic.net/common?type=ofullfill_black&size=128x72&quality=95&direct=true&src=http%3A%2F%2Fv.phinf.naver.net%2F20190710_131%2F15627621834502Dqpn_JPEG%2F38cbd51d-a30f-11e9-85e2-505dac8c381b_03.jpg\" alt=\"👋🏼 썸네일 이미지\" width=\"128\" height=\"72\" onerror=\"this.onerror=null;this.src=\\'data:image/gif;base64,R0lGODlhAQABAIAAAAAAAP///yH5BAEAAAAALAAAAAABAAEAAAIBRAA7\\';\"> <span class=\"ico_play\"></span> <dl class=\"play_time\"> <dt>동영상 재생시간</dt> <dd>51분 36초</dd> </dl> </a> <div class=\"video_tit\"><strong class=\"scm_ellipsis _ellipsis\" style=\"height:34px\"><a nocr onclick=\"return goOtherCR(this, \\'a=nco_x8d*3.tit&r=1&i=1800000D_00000001F00A+1800000D_0000000741D8+1800000D_000000040A8A+1800000D_0000001E06BD&u=\\' + urlencode(this.href));\" href=\"http://www.vlive.tv/video/139111\" target=\"_blank\">👋🏼</a></strong></div> <p class=\"video_date\">2019.07.10. 20:43</p> <div class=\"video_detail_info\"> <span class=\"video_play\"><em class=\"ico ico_play\"><span class=\"blind\">재생수</span></em><span>86,410</span></span> </div> </li> <li> <a nocr onclick=\"return goOtherCR(this, \\'a=nco_x8d*3.img&r=1&i=1800000D_00000001F00A+1800000D_0000000741D8+1800000D_000000040A8A+1800000D_0000001E06BD&u=\\' + urlencode(this.href));\" href=\"http://www.vlive.tv/video/137561\" class=\"video_thum\" target=\"_blank\"> <span class=\"thum_msk\"></span> <img src=\"https://search.pstatic.net/common?type=ofullfill_black&size=128x72&quality=95&direct=true&src=http%3A%2F%2Fv.phinf.naver.net%2F20190701_240%2F1561990320708DfBtJ_JPEG%2F38250289305.jpg\" alt=\"오랜만이에요! 썸네일 이미지\" width=\"128\" height=\"72\" onerror=\"this.onerror=null;this.src=\\'data:image/gif;base64,R0lGODlhAQABAIAAAAAAAP///yH5BAEAAAAALAAAAAABAAEAAAIBRAA7\\';\"> <span class=\"ico_play\"></span> <dl class=\"play_time\"> <dt>동영상 재생시간</dt> <dd>1시 02분 46초</dd> </dl> </a> <div class=\"video_tit\"><strong class=\"scm_ellipsis _ellipsis\" style=\"height:34px\"><a nocr onclick=\"return goOtherCR(this, \\'a=nco_x8d*3.tit&r=1&i=1800000D_00000001F00A+1800000D_0000000741D8+1800000D_000000040A8A+1800000D_0000001E06BD&u=\\' + urlencode(this.href));\" href=\"http://www.vlive.tv/video/137561\" target=\"_blank\">오랜만이에요! </a></strong></div> <p class=\"video_date\">2019.07.02. 00:16</p> <div class=\"video_detail_info\"> <span class=\"video_play\"><em class=\"ico ico_play\"><span class=\"blind\">재생수</span></em><span>110,740</span></span> </div> </li> <li> <a nocr onclick=\"return goOtherCR(this, \\'a=nco_x8d*3.img&r=1&i=1800000D_00000001F00A+1800000D_0000000741D8+1800000D_000000040A8A+1800000D_0000001E06BD&u=\\' + urlencode(this.href));\" href=\"http://www.vlive.tv/video/123513\" class=\"video_thum\" target=\"_blank\"> <span class=\"thum_msk\"></span> <img src=\"https://search.pstatic.net/common?type=ofullfill_black&size=128x72&quality=95&direct=true&src=http%3A%2F%2Fv.phinf.naver.net%2F20190412_39%2F1555074899669M63Yz_JPEG%2Fe6b83b98-5d24-11e9-93af-505dac8c35ff_03.jpg\" alt=\"제목없음 썸네일 이미지\" width=\"128\" height=\"72\" onerror=\"this.onerror=null;this.src=\\'data:image/gif;base64,R0lGODlhAQABAIAAAAAAAP///yH5BAEAAAAALAAAAAABAAEAAAIBRAA7\\';\"> <span class=\"ico_play\"></span> <dl class=\"play_time\"> <dt>동영상 재생시간</dt> <dd>31분 23초</dd> </dl> </a> <div class=\"video_tit\"><strong class=\"scm_ellipsis _ellipsis\" style=\"height:34px\"><a nocr onclick=\"return goOtherCR(this, \\'a=nco_x8d*3.tit&r=1&i=1800000D_00000001F00A+1800000D_0000000741D8+1800000D_000000040A8A+1800000D_0000001E06BD&u=\\' + urlencode(this.href));\" href=\"http://www.vlive.tv/video/123513\" target=\"_blank\">제목없음</a></strong></div> <p class=\"video_date\">2019.04.12. 22:16</p> <div class=\"video_detail_info\"> <span class=\"video_play\"><em class=\"ico ico_play\"><span class=\"blind\">재생수</span></em><span>145,129</span></span> </div> </li> </ul> </div> <script type=\"text/javascript\"> nhn.common.ellipsis($$.getSingle(\\'._cs_v_con_side\\')); </script> <div class=\"v_guide_info_bx\"> <div class=\"guide_thum\"> <img src=\"https://ssl.pstatic.net/sstatic/keypage/outside/scui/v_con/img/ico_v3.png\" width=\"34\" height=\"34\" alt=\"V앱 아이콘 이미지\"> </div> <div class=\"guide_txt\"> <span>더 많은 V LIVE 동영상을 보시려면 앱을 설치해주세요.</span> <ul> <li class=\"ico_app_adr\">안드로이드 앱</li> <li class=\"ico_app_ios\">IOS 앱</li> </ul> <a nocr onclick=\"return goOtherCR(this, \\'a=nco_x8d*3.app&r=1&i=1800000D_00000001F00A+1800000D_0000000741D8+1800000D_000000040A8A+1800000D_0000001E06BD&u=\\' + urlencode(this.href));\" href=\"javascript:;\" class=\"btn_app_install\" id=\"_btn_app_install\">앱 설치하기</a> </div> </div> <div class=\"ly_qr\" style=\"display:none\" id=\"_ly_qr\"> <span class=\"img_qr\"><img src=\"https://ssl.pstatic.net/sstatic/keypage/outside/scui/v_con/img/ly_qr_v3.png\" width=\"70\" height=\"70\" alt=\"qr코드\"></span> <div class=\"wrap_qr\"> <dl class=\"notice_qr\"> <dt class=\"blind\">유의사항</dt> <dd>스타들의 실시간 개인방송은<br>V앱 설치 후 시청 할 수 있습니다.</dd> </dl> <div class=\"btn_qr\"> <a nocr href=\"javascript:;\" onclick=\"nhn.search.V.oAppInstaller.sendSMS(this);goOtherCR(this, \\'a=nco_x8d*3.sms&r=1&i=1800000D_00000001F00A+1800000D_0000000741D8+1800000D_000000040A8A+1800000D_0000001E06BD&u=\\' + urlencode(this.href));;\" data-key=\"Vsearch\" data-sms-id=\"ESW00017\" data-mms-id=\"EMG00005\" data-url=\"http://naver.me/vlive\" class=\"btn_down\">설치문자 보내기</a> </div> </div> <a nocr href=\"javascript:;\" onclick=\"fnVappLayerClose();goOtherCR(this, \\'a=nco_x8d*3.cls&r=1&i=1800000D_00000001F00A+1800000D_0000000741D8+1800000D_000000040A8A+1800000D_0000001E06BD&u=\\' + urlencode(this.href));;\" class=\"btn_close\">QR코드 레이어 닫기</a> </div> </div> </div> </div> </div> <script type=\"text/javascript\"> $Fn(fnVappLayerOpen).attach($(\\'_btn_app_install\\'), \"click\"); function fnVappLayerOpen(e) { $(\\'_ly_qr\\').style.display = \"block\"; } function fnVappLayerClose(e) { $(\\'_ly_qr\\').style.display = \"none\"; $(\\'_btn_app_install\\').focus(); } (function () { var sJavascriptFiles = \\'https://ssl.pstatic.net/sstatic/au/pc/V/nhn.search.V_150730.js\\'; var fnCallback = function () { var instance = new nhn.search.V.Controller({ elBase: $$.getSingle(\\'._cs_v_con_side\\') }); nhn.search.V.oAppInstaller.attach(\\'ON_SUCCESS_NOTIFY\\', function() { alert(\\'네이버 앱으로 알림이 전송되었습니다.\\'); }); }; nhn.common.load_js(sJavascriptFiles, fnCallback, 150, true); })(); </script> <div id=\"nxfr_htp\" class=\"z_aside section\"> <div class=\"section_head\"><h2>뉴스토픽</h2></div> <div class=\"realtime_srch _aside_news_tab\"> <div class=\"hotkwd\"> <ul class=\"api_realtime_tab _tab\"> <li class=\"selected\" data-blind-text=\"뉴스토픽 뉴스\" data-index=\"0\"><a href=\"#\" onclick=\"return tCR(\\'htk.nws\\', 1, \\'\\');\">뉴스</a></li> <li data-blind-text=\"뉴스토픽 연예·스포츠\" data-index=\"1\"><a href=\"#\" onclick=\"return tCR(\\'htk.ents\\', 1, \\'\\');\">연예·스포츠</a></li> </ul> </div> <h6 class=\"blind _blind\">뉴스토픽 뉴스</h6> <ol class=\"lst_realtime_srch _tab_area\"><li><a href=\"//search.naver.com/search.naver?where=nexearch&sm=tab_htk.nws&ie=utf8&query=%EC%B5%9C%EC%A0%80%EC%9E%84%EA%B8%88+8590%EC%9B%90\" class=\"bx\" onclick=\"return goOtherCR(this, \\'a=htk.nwslist&r=1&i=&u=\\'+urlencode(urlexpand(this.href)));\"><span class=\"keyword\"><em class=\"num\">1</em><span class=\"tit\">최저임금 8590원</span></span></a></li><li><a href=\"//search.naver.com/search.naver?where=nexearch&sm=tab_htk.nws&ie=utf8&query=%EC%B4%88%EB%B3%B5%EC%97%90%EB%8A%94+%EC%82%BC%EA%B3%84%ED%83%95\" class=\"bx\" onclick=\"return goOtherCR(this, \\'a=htk.nwslist&r=2&i=&u=\\'+urlencode(urlexpand(this.href)));\"><span class=\"keyword\"><em class=\"num\">2</em><span class=\"tit\">초복에는 삼계탕</span></span></a></li><li><a href=\"//search.naver.com/search.naver?where=nexearch&sm=tab_htk.nws&ie=utf8&query=%EA%B5%AD%EB%AF%BC%EC%B2%AD%EC%9B%90+%EB%93%B1%EC%9E%A5\" class=\"bx\" onclick=\"return goOtherCR(this, \\'a=htk.nwslist&r=3&i=&u=\\'+urlencode(urlexpand(this.href)));\"><span class=\"keyword\"><em class=\"num\">3</em><span class=\"tit\">국민청원 등장</span></span></a></li><li><a href=\"//search.naver.com/search.naver?where=nexearch&sm=tab_htk.nws&ie=utf8&query=%EC%9B%90+%EB%8B%AC%EB%9F%AC+%ED%99%98%EC%9C%A8\" class=\"bx bx_item\" onclick=\"return goOtherCR(this, \\'a=htk.nwslist&r=4&i=&u=\\'+urlencode(urlexpand(this.href)));\"><span class=\"keyword\"><em class=\"num\">4</em><span class=\"tit\">원 달러 환율</span></span><em class=\"rank new\"><span class=\"spim\"></span><span>NEW</span></em></a></li><li><a href=\"//search.naver.com/search.naver?where=nexearch&sm=tab_htk.nws&ie=utf8&query=%EC%9D%BC%EB%B3%B8+%EC%88%98%EC%B6%9C%EA%B7%9C%EC%A0%9C\" class=\"bx\" onclick=\"return goOtherCR(this, \\'a=htk.nwslist&r=5&i=&u=\\'+urlencode(urlexpand(this.href)));\"><span class=\"keyword\"><em class=\"num\">5</em><span class=\"tit\">일본 수출규제</span></span></a></li><li><a href=\"//search.naver.com/search.naver?where=nexearch&sm=tab_htk.nws&ie=utf8&query=%ED%83%80%EB%8B%A4+%EA%B8%88%EC%A7%80%EB%B2%95+%EB%B0%9C%EC%9D%98\" class=\"bx bx_item\" onclick=\"return goOtherCR(this, \\'a=htk.nwslist&r=6&i=&u=\\'+urlencode(urlexpand(this.href)));\"><span class=\"keyword\"><em class=\"num\">6</em><span class=\"tit\">타다 금지법 발의</span></span><em class=\"rank new\"><span class=\"spim\"></span><span>NEW</span></em></a></li><li><a href=\"//search.naver.com/search.naver?where=nexearch&sm=tab_htk.nws&ie=utf8&query=%EC%B2%9C%EC%9E%AC%EC%86%8C%EB%85%84+%EC%86%A1%EC%9C%A0%EA%B7%BC\" class=\"bx bx_item\" onclick=\"return goOtherCR(this, \\'a=htk.nwslist&r=7&i=&u=\\'+urlencode(urlexpand(this.href)));\"><span class=\"keyword\"><em class=\"num\">7</em><span class=\"tit\">천재소년 송유근</span></span><em class=\"rank new\"><span class=\"spim\"></span><span>NEW</span></em></a></li><li><a href=\"//search.naver.com/search.naver?where=nexearch&sm=tab_htk.nws&ie=utf8&query=6%EC%9B%94+%EC%88%98%EC%B6%9C%EC%9E%85%EB%AC%BC%EA%B0%80+%EB%8F%99%EB%B0%98+%ED%95%98%EB%9D%BD\" class=\"bx bx_item\" onclick=\"return goOtherCR(this, \\'a=htk.nwslist&r=8&i=&u=\\'+urlencode(urlexpand(this.href)));\"><span class=\"keyword\"><em class=\"num\">8</em><span class=\"tit\">6월 수출입물가 동반 하락</span></span><em class=\"rank new\"><span class=\"spim\"></span><span>NEW</span></em></a></li><li><a href=\"//search.naver.com/search.naver?where=nexearch&sm=tab_htk.nws&ie=utf8&query=%EC%BA%A0%EC%BD%94+1971%EC%96%B5%EC%9B%90+%EA%B7%9C%EB%AA%A8+%EC%95%95%EB%A5%98%EC%9E%AC%EC%82%B0+%EA%B3%B5%EB%A7%A4\" class=\"bx bx_item\" onclick=\"return goOtherCR(this, \\'a=htk.nwslist&r=9&i=&u=\\'+urlencode(urlexpand(this.href)));\"><span class=\"keyword\"><em class=\"num\">9</em><span class=\"tit\">캠코 1971억원 규모 압류재산 공매</span></span><em class=\"rank new\"><span class=\"spim\"></span><span>NEW</span></em></a></li><li><a href=\"//search.naver.com/search.naver?where=nexearch&sm=tab_htk.nws&ie=utf8&query=%EB%AA%A8%EB%85%80+%EC%84%B1%ED%8F%AD%ED%96%89+%EC%8B%9C%EB%8F%84\" class=\"bx\" onclick=\"return goOtherCR(this, \\'a=htk.nwslist&r=10&i=&u=\\'+urlencode(urlexpand(this.href)));\"><span class=\"keyword\"><em class=\"num\">10</em><span class=\"tit\">모녀 성폭행 시도</span></span></a></li></ol> <ol class=\"lst_realtime_srch _tab_area\" style=\"display:none;\"><li><a href=\"//search.naver.com/search.naver?where=nexearch&sm=tab_htk.ent&ie=utf8&query=%EC%9D%B4%EC%98%81%EB%8F%88+PD+%E6%95%85+%EA%B9%80%EC%98%81%EC%95%A0%EC%97%90+%EC%82%AC%EA%B3%BC\" class=\"bx bx_item\" onclick=\"return goOtherCR(this, \\'a=htk.entslist&r=1&i=&u=\\'+urlencode(urlexpand(this.href)));\"><span class=\"keyword\"><em class=\"num\">1</em><span class=\"tit\">이영돈 PD 故 김영애에 사과</span></span><em class=\"rank new\"><span class=\"spim\"></span><span>NEW</span></em></a></li><li><a href=\"//search.naver.com/search.naver?where=nexearch&sm=tab_htk.ent&ie=utf8&query=25%EC%9D%BC+%EC%86%94%EB%A1%9C+%EB%8D%B0%EB%B7%94\" class=\"bx bx_item\" onclick=\"return goOtherCR(this, \\'a=htk.entslist&r=2&i=&u=\\'+urlencode(urlexpand(this.href)));\"><span class=\"keyword\"><em class=\"num\">2</em><span class=\"tit\">25일 솔로 데뷔</span></span><em class=\"rank new\"><span class=\"spim\"></span><span>NEW</span></em></a></li><li><a href=\"//search.naver.com/search.naver?where=nexearch&sm=tab_htk.ent&ie=utf8&query=%EB%AF%B8%EC%8A%A4%EC%BD%94%EB%A6%AC%EC%95%84+%EC%A7%84+%EA%B9%80%EC%84%B8%EC%97%B0\" class=\"bx\" onclick=\"return goOtherCR(this, \\'a=htk.entslist&r=3&i=&u=\\'+urlencode(urlexpand(this.href)));\"><span class=\"keyword\"><em class=\"num\">3</em><span class=\"tit\">미스코리아 진 김세연</span></span></a></li><li><a href=\"//search.naver.com/search.naver?where=nexearch&sm=tab_htk.ent&ie=utf8&query=%EC%A0%88%EB%8C%80%EA%B7%B8%EC%9D%B4+%EB%B0%A9%EB%AF%BC%EC%95%84\" class=\"bx bx_item\" onclick=\"return goOtherCR(this, \\'a=htk.entslist&r=4&i=&u=\\'+urlencode(urlexpand(this.href)));\"><span class=\"keyword\"><em class=\"num\">4</em><span class=\"tit\">절대그이 방민아</span></span><em class=\"rank new\"><span class=\"spim\"></span><span>NEW</span></em></a></li><li><a href=\"//search.naver.com/search.naver?where=nexearch&sm=tab_htk.ent&ie=utf8&query=%EC%84%B1%ED%8F%AD%ED%96%89+%ED%98%90%EC%9D%98+%EA%B0%95%EC%A7%80%ED%99%98\" class=\"bx\" onclick=\"return goOtherCR(this, \\'a=htk.entslist&r=5&i=&u=\\'+urlencode(urlexpand(this.href)));\"><span class=\"keyword\"><em class=\"num\">5</em><span class=\"tit\">성폭행 혐의 강지환</span></span></a></li><li><a href=\"//search.naver.com/search.naver?where=nexearch&sm=tab_htk.ent&ie=utf8&query=%EA%B2%80%EB%B8%94%EC%9C%A0+%EC%9E%84%EC%88%98%EC%A0%95\" class=\"bx\" onclick=\"return goOtherCR(this, \\'a=htk.entslist&r=6&i=&u=\\'+urlencode(urlexpand(this.href)));\"><span class=\"keyword\"><em class=\"num\">6</em><span class=\"tit\">검블유 임수정</span></span></a></li><li><a href=\"//search.naver.com/search.naver?where=nexearch&sm=tab_htk.ent&ie=utf8&query=%EC%98%A4%EC%B0%BD%EC%84%9D+%EC%9D%B4%EC%B1%84%EC%9D%80\" class=\"bx\" onclick=\"return goOtherCR(this, \\'a=htk.entslist&r=7&i=&u=\\'+urlencode(urlexpand(this.href)));\"><span class=\"keyword\"><em class=\"num\">7</em><span class=\"tit\">오창석 이채은</span></span></a></li><li><a href=\"//search.naver.com/search.naver?where=nexearch&sm=tab_htk.ent&ie=utf8&query=%EC%8B%AC%ED%98%95%ED%83%81+%EB%82%A0+%EB%85%B9%EC%97%AC%EC%A3%BC%EC%98%A4\" class=\"bx bx_item\" onclick=\"return goOtherCR(this, \\'a=htk.entslist&r=8&i=&u=\\'+urlencode(urlexpand(this.href)));\"><span class=\"keyword\"><em class=\"num\">8</em><span class=\"tit\">심형탁 날 녹여주오</span></span><em class=\"rank new\"><span class=\"spim\"></span><span>NEW</span></em></a></li><li><a href=\"//search.naver.com/search.naver?where=nexearch&sm=tab_htk.ent&ie=utf8&query=%ED%95%98%EB%A6%AC%EC%88%98+%EB%B6%84%EB%85%B8\" class=\"bx bx_item\" onclick=\"return goOtherCR(this, \\'a=htk.entslist&r=9&i=&u=\\'+urlencode(urlexpand(this.href)));\"><span class=\"keyword\"><em class=\"num\">9</em><span class=\"tit\">하리수 분노</span></span><em class=\"rank new\"><span class=\"spim\"></span><span>NEW</span></em></a></li><li><a href=\"//search.naver.com/search.naver?where=nexearch&sm=tab_htk.ent&ie=utf8&query=%EC%97%91%EC%8B%9C%ED%8A%B8+%EC%A1%B0%EC%A0%95%EC%84%9DX%EC%9E%84%EC%9C%A4%EC%95%84\" class=\"bx bx_item\" onclick=\"return goOtherCR(this, \\'a=htk.entslist&r=10&i=&u=\\'+urlencode(urlexpand(this.href)));\"><span class=\"keyword\"><em class=\"num\">10</em><span class=\"tit\">엑시트 조정석X임윤아</span></span><em class=\"rank new\"><span class=\"spim\"></span><span>NEW</span></em></a></li></ol><div class=\"realtime_srch_area\"><p class=\"dsc\"><time>2019.07.12. 08:30 ~ 11:30</time> 기준 <a href=\"https://help.naver.com/support/alias/search/word/word_3.naver\" target=\"_blank\" class=\"link_rts_help\" onclick=\"return goOtherCR(this, \\'a=htk.guide&r=&i=&u=\\'+urlencode(this.href));\"><i class=\"sprenew api_ico_help2\">도움말</i></a></p></div> </div> </div> <script type=\"text/javascript\"> (function() { var sJavascriptFile = \"https://ssl.pstatic.net/sstatic/au/pc/realtime_keyword/nhn.aside_keyword_tab_181127.js\"; var fnCallback = function() { new nhn.AsideKeywordTab($$.getSingle(\"._aside_news_tab\")); }; if (typeof(nxrtrank) == \"undefined\") nx_js_defer_load(\"https://ssl.pstatic.net/sstatic/au/pc/realtime_keyword/nhn.nxrtrank_150610.js\", function() {nx_js_lazyload(sJavascriptFile, fnCallback, 1);}, 150) ; else nx_js_defer_load(sJavascriptFile, fnCallback, 300) ; }()); </script> </div><div class=\"ly_dimmed\"></div> </div> </div><div id=\"footer\"> <div class=\"footer_group\"> <div class=\"sub_pack_btm\"> <a href=\"#\" class=\"top\" onclick=\"window.scrollTo(0,0); document.querySelector(\\'#wrap a\\').focus(); return false;\"><span class=\"spim\"></span>맨위로</a> </div> <div class=\"search_area\"><div id=\"_nx_footer_realtime\" class=\"realtime_srch_rolling\"> <h3 class=\"tit_rts\">급상승 검색어 <a href=\"https://help.naver.com/support/alias/search/word/word_5.naver\" target=\"_blank\" class=\"link_rts_help\" onclick=\"return goOtherCR(this, \\'a=fkc_def.guide&r=&i=&u=\\'+urlencode(this.href));\"><i class=\"sprenew api_ico_help2\">도움말</i></a></h3> <div class=\"realtime_srch _roling_realtime\"> <ol class=\"lst_realtime_srch\"> <li> <span class=\"bx bx_item _link\" title=\"링거워터 링티\"> <a href=\"//search.naver.com/search.naver?where=nexearch&sm=tab_lvf.allnow&ie=utf8&query=%EB%A7%81%EA%B1%B0%EC%9B%8C%ED%84%B0+%EB%A7%81%ED%8B%B0\" class=\"keyword\" onclick=\"return goOtherCR(this, \\'a=fkc_def.list&r=1&i=&u=\\'+urlencode(this.href));\"> <em class=\"num\">1</em> <span class=\"tit _text\">링거워터 링티</span> </a> </span> </li> <li> <span class=\"bx bx_item _link\" title=\"에이치몰 행운룰렛\"> <a href=\"//search.naver.com/search.naver?where=nexearch&sm=tab_lvf.allnow&ie=utf8&query=%EC%97%90%EC%9D%B4%EC%B9%98%EB%AA%B0+%ED%96%89%EC%9A%B4%EB%A3%B0%EB%A0%9B\" class=\"keyword\" onclick=\"return goOtherCR(this, \\'a=fkc_def.list&r=2&i=&u=\\'+urlencode(this.href));\"> <em class=\"num\">2</em> <span class=\"tit _text\">에이치몰 행운룰렛</span> </a> </span> </li> <li> <span class=\"bx bx_item _link\" title=\"nsc\"> <a href=\"//search.naver.com/search.naver?where=nexearch&sm=tab_lvf.allnow&ie=utf8&query=nsc\" class=\"keyword\" onclick=\"return goOtherCR(this, \\'a=fkc_def.list&r=3&i=&u=\\'+urlencode(this.href));\"> <em class=\"num\">3</em> <span class=\"tit _text\">nsc</span> </a> </span> </li> <li> <span class=\"bx bx_item _link\" title=\"김창환\"> <a href=\"//search.naver.com/search.naver?where=nexearch&sm=tab_lvf.allnow&ie=utf8&query=%EA%B9%80%EC%B0%BD%ED%99%98\" class=\"keyword\" onclick=\"return goOtherCR(this, \\'a=fkc_def.list&r=4&i=&u=\\'+urlencode(this.href));\"> <em class=\"num\">4</em> <span class=\"tit _text\">김창환</span> </a> </span> </li> <li> <span class=\"bx bx_item _link\" title=\"2019 미스코리아\"> <a href=\"//search.naver.com/search.naver?where=nexearch&sm=tab_lvf.allnow&ie=utf8&query=2019+%EB%AF%B8%EC%8A%A4%EC%BD%94%EB%A6%AC%EC%95%84\" class=\"keyword\" onclick=\"return goOtherCR(this, \\'a=fkc_def.list&r=5&i=&u=\\'+urlencode(this.href));\"> <em class=\"num\">5</em> <span class=\"tit _text\">2019 미스코리아</span> </a> </span> </li> <li> <span class=\"bx bx_item _link\" title=\"김영애\"> <a href=\"//search.naver.com/search.naver?where=nexearch&sm=tab_lvf.allnow&ie=utf8&query=%EA%B9%80%EC%98%81%EC%95%A0\" class=\"keyword\" onclick=\"return goOtherCR(this, \\'a=fkc_def.list&r=6&i=&u=\\'+urlencode(this.href));\"> <em class=\"num\">6</em> <span class=\"tit _text\">김영애</span> </a> </span> </li> <li> <span class=\"bx bx_item _link\" title=\"도미노 치즈폭포\"> <a href=\"//search.naver.com/search.naver?where=nexearch&sm=tab_lvf.allnow&ie=utf8&query=%EB%8F%84%EB%AF%B8%EB%85%B8+%EC%B9%98%EC%A6%88%ED%8F%AD%ED%8F%AC\" class=\"keyword\" onclick=\"return goOtherCR(this, \\'a=fkc_def.list&r=7&i=&u=\\'+urlencode(this.href));\"> <em class=\"num\">7</em> <span class=\"tit _text\">도미노 치즈폭포</span> </a> </span> </li> <li> <span class=\"bx bx_item _link\" title=\"링티\"> <a href=\"//search.naver.com/search.naver?where=nexearch&sm=tab_lvf.allnow&ie=utf8&query=%EB%A7%81%ED%8B%B0\" class=\"keyword\" onclick=\"return goOtherCR(this, \\'a=fkc_def.list&r=8&i=&u=\\'+urlencode(this.href));\"> <em class=\"num\">8</em> <span class=\"tit _text\">링티</span> </a> </span> </li> <li> <span class=\"bx bx_item _link\" title=\"미스코리아\"> <a href=\"//search.naver.com/search.naver?where=nexearch&sm=tab_lvf.allnow&ie=utf8&query=%EB%AF%B8%EC%8A%A4%EC%BD%94%EB%A6%AC%EC%95%84\" class=\"keyword\" onclick=\"return goOtherCR(this, \\'a=fkc_def.list&r=9&i=&u=\\'+urlencode(this.href));\"> <em class=\"num\">9</em> <span class=\"tit _text\">미스코리아</span> </a> </span> </li> <li> <span class=\"bx bx_item _link\" title=\"이아이디\"> <a href=\"//search.naver.com/search.naver?where=nexearch&sm=tab_lvf.allnow&ie=utf8&query=%EC%9D%B4%EC%95%84%EC%9D%B4%EB%94%94\" class=\"keyword\" onclick=\"return goOtherCR(this, \\'a=fkc_def.list&r=10&i=&u=\\'+urlencode(this.href));\"> <em class=\"num\">10</em> <span class=\"tit _text\">이아이디</span> </a> </span> </li> <li> <span class=\"bx bx_item _link\" title=\"김세연\"> <a href=\"//search.naver.com/search.naver?where=nexearch&sm=tab_lvf.allnow&ie=utf8&query=%EA%B9%80%EC%84%B8%EC%97%B0\" class=\"keyword\" onclick=\"return goOtherCR(this, \\'a=fkc_def.list&r=11&i=&u=\\'+urlencode(this.href));\"> <em class=\"num\">11</em> <span class=\"tit _text\">김세연</span> </a> </span> </li> <li> <span class=\"bx bx_item _link\" title=\"송유근\"> <a href=\"//search.naver.com/search.naver?where=nexearch&sm=tab_lvf.allnow&ie=utf8&query=%EC%86%A1%EC%9C%A0%EA%B7%BC\" class=\"keyword\" onclick=\"return goOtherCR(this, \\'a=fkc_def.list&r=12&i=&u=\\'+urlencode(this.href));\"> <em class=\"num\">12</em> <span class=\"tit _text\">송유근</span> </a> </span> </li> <li> <span class=\"bx bx_item _link\" title=\"중복\"> <a href=\"//search.naver.com/search.naver?where=nexearch&sm=tab_lvf.allnow&ie=utf8&query=%EC%A4%91%EB%B3%B5\" class=\"keyword\" onclick=\"return goOtherCR(this, \\'a=fkc_def.list&r=13&i=&u=\\'+urlencode(this.href));\"> <em class=\"num\">13</em> <span class=\"tit _text\">중복</span> </a> </span> </li> <li> <span class=\"bx bx_item _link\" title=\"킴 베이싱어\"> <a href=\"//search.naver.com/search.naver?where=nexearch&sm=tab_lvf.allnow&ie=utf8&query=%ED%82%B4+%EB%B2%A0%EC%9D%B4%EC%8B%B1%EC%96%B4\" class=\"keyword\" onclick=\"return goOtherCR(this, \\'a=fkc_def.list&r=14&i=&u=\\'+urlencode(this.href));\"> <em class=\"num\">14</em> <span class=\"tit _text\">킴 베이싱어</span> </a> </span> </li> <li> <span class=\"bx bx_item _link\" title=\"삼계탕 끓이는법\"> <a href=\"//search.naver.com/search.naver?where=nexearch&sm=tab_lvf.allnow&ie=utf8&query=%EC%82%BC%EA%B3%84%ED%83%95+%EB%81%93%EC%9D%B4%EB%8A%94%EB%B2%95\" class=\"keyword\" onclick=\"return goOtherCR(this, \\'a=fkc_def.list&r=15&i=&u=\\'+urlencode(this.href));\"> <em class=\"num\">15</em> <span class=\"tit _text\">삼계탕 끓이는법</span> </a> </span> </li> <li> <span class=\"bx bx_item _link\" title=\"러시아 불화수소\"> <a href=\"//search.naver.com/search.naver?where=nexearch&sm=tab_lvf.allnow&ie=utf8&query=%EB%9F%AC%EC%8B%9C%EC%95%84+%EB%B6%88%ED%99%94%EC%88%98%EC%86%8C\" class=\"keyword\" onclick=\"return goOtherCR(this, \\'a=fkc_def.list&r=16&i=&u=\\'+urlencode(this.href));\"> <em class=\"num\">16</em> <span class=\"tit _text\">러시아 불화수소</span> </a> </span> </li> <li> <span class=\"bx bx_item _link\" title=\"힘찬\"> <a href=\"//search.naver.com/search.naver?where=nexearch&sm=tab_lvf.allnow&ie=utf8&query=%ED%9E%98%EC%B0%AC\" class=\"keyword\" onclick=\"return goOtherCR(this, \\'a=fkc_def.list&r=17&i=&u=\\'+urlencode(this.href));\"> <em class=\"num\">17</em> <span class=\"tit _text\">힘찬</span> </a> </span> </li> <li> <span class=\"bx bx_item _link\" title=\"해피포인트\"> <a href=\"//search.naver.com/search.naver?where=nexearch&sm=tab_lvf.allnow&ie=utf8&query=%ED%95%B4%ED%94%BC%ED%8F%AC%EC%9D%B8%ED%8A%B8\" class=\"keyword\" onclick=\"return goOtherCR(this, \\'a=fkc_def.list&r=18&i=&u=\\'+urlencode(this.href));\"> <em class=\"num\">18</em> <span class=\"tit _text\">해피포인트</span> </a> </span> </li> <li> <span class=\"bx bx_item _link\" title=\"하리수\"> <a href=\"//search.naver.com/search.naver?where=nexearch&sm=tab_lvf.allnow&ie=utf8&query=%ED%95%98%EB%A6%AC%EC%88%98\" class=\"keyword\" onclick=\"return goOtherCR(this, \\'a=fkc_def.list&r=19&i=&u=\\'+urlencode(this.href));\"> <em class=\"num\">19</em> <span class=\"tit _text\">하리수</span> </a> </span> </li> <li> <span class=\"bx bx_item _link\" title=\"타인은 지옥이다\"> <a href=\"//search.naver.com/search.naver?where=nexearch&sm=tab_lvf.allnow&ie=utf8&query=%ED%83%80%EC%9D%B8%EC%9D%80+%EC%A7%80%EC%98%A5%EC%9D%B4%EB%8B%A4\" class=\"keyword\" onclick=\"return goOtherCR(this, \\'a=fkc_def.list&r=20&i=&u=\\'+urlencode(this.href));\"> <em class=\"num\">20</em> <span class=\"tit _text\">타인은 지옥이다</span> </a> </span> </li> <li class=\"_dummy_first\"> <span class=\"bx bx_item _link\" title=\"링거워터 링티\"> <a href=\"//search.naver.com/search.naver?where=nexearch&sm=tab_lvf.allnow&ie=utf8&query=%EB%A7%81%EA%B1%B0%EC%9B%8C%ED%84%B0+%EB%A7%81%ED%8B%B0\" class=\"keyword\" onclick=\"return goOtherCR(this, \\'a=fkc_def.list&r=20&i=&u=\\'+urlencode(this.href));\"> <em class=\"num\">1</em> <span class=\"tit _text\">링거워터 링티</span> </a> </span> </li> </ol> </div> <div class=\"ly_realtime_srch v2 _tab_chart\" id=\"nxfr_brlayer\" style=\"height:385px\"> <div class=\"tab_realtime_srch _tab\"> <ul role=\"tablist\"> <li class=\"selected\" data-index=\"0\"><a href=\"#\" onclick=\"return tCR(\\'fkc.tabrkl\\', 1, \\'\\');\" role=\"tab\">급상승 검색어</a></li> <li data-index=\"1\"><a href=\"#\" onclick=\"return tCR(\\'fkc.tabhtk\\', 1, \\'\\');\" role=\"tab\">뉴스토픽</a></li> </ul> </div> <div class=\"tab_area _tab_area _tabRealtime\" style=\"display: block;\"> <h3 class=\"blind\">급상승 검색어</h3> <div class=\"group_ranking\"> <div class=\"hotkwd\"> <ul class=\"api_realtime_tab _realtime_tab\"> <li class=\"selected\" data-index=\"0\" data-blind-text=\"급상승 검색어 1~10위\"><a href=\"#\" onclick=\"return tCR(\\'fkc_rkl.lefttab\\', 1, \\'\\');\">1~10위</a></li> <li data-index=\"1\" data-blind-text=\"급상승 검색어 11~20위\"><a href=\"#\" onclick=\"return tCR(\\'fkc_rkl.righttab\\', 1, \\'\\');\">11~20위</a></li> </ul> </div> <h6 class=\"blind _blind_realtime\">급상승 검색어 1~10위</h6> <ol class=\"lst_realtime_srch _realtime_tab_area\"> <li > <span class=\"bx bx_item _link\" title=\"링거워터 링티\"> <a href=\"//search.naver.com/search.naver?where=nexearch&sm=tab_lvf.allnow&ie=utf8&query=%EB%A7%81%EA%B1%B0%EC%9B%8C%ED%84%B0+%EB%A7%81%ED%8B%B0\" class=\"keyword\" onclick=\"return goOtherCR(this, \\'a=fkc_rkl.list&r=1&i=&u=\\'+urlencode(this.href));\"> <em class=\"num\">1</em> <span class=\"tit _text\">링거워터 링티</span> </a> <a href=\"https://datalab.naver.com/keyword/realtimeDetail.naver?query=%EB%A7%81%EA%B1%B0%EC%9B%8C%ED%84%B0+%EB%A7%81%ED%8B%B0&datetime=2019-07-12T15%3A16%3A00&age=all&period=now&where=search\" class=\"datalab _status\" target=\"_blank\" onclick=\"return goOtherCR(this, \\'a=fkc_rkl.numv&r=1&i=&u=\\'+urlencode(this.href));\"><i class=\"spim ico_graph\">검색 추이</i></a> </span> </li> <li > <span class=\"bx bx_item _link\" title=\"에이치몰 행운룰렛\"> <a href=\"//search.naver.com/search.naver?where=nexearch&sm=tab_lvf.allnow&ie=utf8&query=%EC%97%90%EC%9D%B4%EC%B9%98%EB%AA%B0+%ED%96%89%EC%9A%B4%EB%A3%B0%EB%A0%9B\" class=\"keyword\" onclick=\"return goOtherCR(this, \\'a=fkc_rkl.list&r=2&i=&u=\\'+urlencode(this.href));\"> <em class=\"num\">2</em> <span class=\"tit _text\">에이치몰 행운룰렛</span> </a> <a href=\"https://datalab.naver.com/keyword/realtimeDetail.naver?query=%EC%97%90%EC%9D%B4%EC%B9%98%EB%AA%B0+%ED%96%89%EC%9A%B4%EB%A3%B0%EB%A0%9B&datetime=2019-07-12T15%3A16%3A00&age=all&period=now&where=search\" class=\"datalab _status\" target=\"_blank\" onclick=\"return goOtherCR(this, \\'a=fkc_rkl.numv&r=2&i=&u=\\'+urlencode(this.href));\"><i class=\"spim ico_graph\">검색 추이</i></a> </span> </li> <li > <span class=\"bx bx_item _link\" title=\"nsc\"> <a href=\"//search.naver.com/search.naver?where=nexearch&sm=tab_lvf.allnow&ie=utf8&query=nsc\" class=\"keyword\" onclick=\"return goOtherCR(this, \\'a=fkc_rkl.list&r=3&i=&u=\\'+urlencode(this.href));\"> <em class=\"num\">3</em> <span class=\"tit _text\">nsc</span> </a> <a href=\"https://datalab.naver.com/keyword/realtimeDetail.naver?query=nsc&datetime=2019-07-12T15%3A16%3A00&age=all&period=now&where=search\" class=\"datalab _status\" target=\"_blank\" onclick=\"return goOtherCR(this, \\'a=fkc_rkl.numv&r=3&i=&u=\\'+urlencode(this.href));\"><i class=\"spim ico_graph\">검색 추이</i></a> </span> </li> <li > <span class=\"bx bx_item _link\" title=\"김창환\"> <a href=\"//search.naver.com/search.naver?where=nexearch&sm=tab_lvf.allnow&ie=utf8&query=%EA%B9%80%EC%B0%BD%ED%99%98\" class=\"keyword\" onclick=\"return goOtherCR(this, \\'a=fkc_rkl.list&r=4&i=&u=\\'+urlencode(this.href));\"> <em class=\"num\">4</em> <span class=\"tit _text\">김창환</span> </a> <a href=\"https://datalab.naver.com/keyword/realtimeDetail.naver?query=%EA%B9%80%EC%B0%BD%ED%99%98&datetime=2019-07-12T15%3A16%3A00&age=all&period=now&where=search\" class=\"datalab _status\" target=\"_blank\" onclick=\"return goOtherCR(this, \\'a=fkc_rkl.numv&r=4&i=&u=\\'+urlencode(this.href));\"><i class=\"spim ico_graph\">검색 추이</i></a> </span> </li> <li > <span class=\"bx bx_item _link\" title=\"2019 미스코리아\"> <a href=\"//search.naver.com/search.naver?where=nexearch&sm=tab_lvf.allnow&ie=utf8&query=2019+%EB%AF%B8%EC%8A%A4%EC%BD%94%EB%A6%AC%EC%95%84\" class=\"keyword\" onclick=\"return goOtherCR(this, \\'a=fkc_rkl.list&r=5&i=&u=\\'+urlencode(this.href));\"> <em class=\"num\">5</em> <span class=\"tit _text\">2019 미스코리아</span> </a> <a href=\"https://datalab.naver.com/keyword/realtimeDetail.naver?query=2019+%EB%AF%B8%EC%8A%A4%EC%BD%94%EB%A6%AC%EC%95%84&datetime=2019-07-12T15%3A16%3A00&age=all&period=now&where=search\" class=\"datalab _status\" target=\"_blank\" onclick=\"return goOtherCR(this, \\'a=fkc_rkl.numv&r=5&i=&u=\\'+urlencode(this.href));\"><i class=\"spim ico_graph\">검색 추이</i></a> </span> </li> <li > <span class=\"bx bx_item _link\" title=\"김영애\"> <a href=\"//search.naver.com/search.naver?where=nexearch&sm=tab_lvf.allnow&ie=utf8&query=%EA%B9%80%EC%98%81%EC%95%A0\" class=\"keyword\" onclick=\"return goOtherCR(this, \\'a=fkc_rkl.list&r=6&i=&u=\\'+urlencode(this.href));\"> <em class=\"num\">6</em> <span class=\"tit _text\">김영애</span> </a> <a href=\"https://datalab.naver.com/keyword/realtimeDetail.naver?query=%EA%B9%80%EC%98%81%EC%95%A0&datetime=2019-07-12T15%3A16%3A00&age=all&period=now&where=search\" class=\"datalab _status\" target=\"_blank\" onclick=\"return goOtherCR(this, \\'a=fkc_rkl.numv&r=6&i=&u=\\'+urlencode(this.href));\"><i class=\"spim ico_graph\">검색 추이</i></a> </span> </li> <li > <span class=\"bx bx_item _link\" title=\"도미노 치즈폭포\"> <a href=\"//search.naver.com/search.naver?where=nexearch&sm=tab_lvf.allnow&ie=utf8&query=%EB%8F%84%EB%AF%B8%EB%85%B8+%EC%B9%98%EC%A6%88%ED%8F%AD%ED%8F%AC\" class=\"keyword\" onclick=\"return goOtherCR(this, \\'a=fkc_rkl.list&r=7&i=&u=\\'+urlencode(this.href));\"> <em class=\"num\">7</em> <span class=\"tit _text\">도미노 치즈폭포</span> </a> <a href=\"https://datalab.naver.com/keyword/realtimeDetail.naver?query=%EB%8F%84%EB%AF%B8%EB%85%B8+%EC%B9%98%EC%A6%88%ED%8F%AD%ED%8F%AC&datetime=2019-07-12T15%3A16%3A00&age=all&period=now&where=search\" class=\"datalab _status\" target=\"_blank\" onclick=\"return goOtherCR(this, \\'a=fkc_rkl.numv&r=7&i=&u=\\'+urlencode(this.href));\"><i class=\"spim ico_graph\">검색 추이</i></a> </span> </li> <li > <span class=\"bx bx_item _link\" title=\"링티\"> <a href=\"//search.naver.com/search.naver?where=nexearch&sm=tab_lvf.allnow&ie=utf8&query=%EB%A7%81%ED%8B%B0\" class=\"keyword\" onclick=\"return goOtherCR(this, \\'a=fkc_rkl.list&r=8&i=&u=\\'+urlencode(this.href));\"> <em class=\"num\">8</em> <span class=\"tit _text\">링티</span> </a> <a href=\"https://datalab.naver.com/keyword/realtimeDetail.naver?query=%EB%A7%81%ED%8B%B0&datetime=2019-07-12T15%3A16%3A00&age=all&period=now&where=search\" class=\"datalab _status\" target=\"_blank\" onclick=\"return goOtherCR(this, \\'a=fkc_rkl.numv&r=8&i=&u=\\'+urlencode(this.href));\"><i class=\"spim ico_graph\">검색 추이</i></a> </span> </li> <li > <span class=\"bx bx_item _link\" title=\"미스코리아\"> <a href=\"//search.naver.com/search.naver?where=nexearch&sm=tab_lvf.allnow&ie=utf8&query=%EB%AF%B8%EC%8A%A4%EC%BD%94%EB%A6%AC%EC%95%84\" class=\"keyword\" onclick=\"return goOtherCR(this, \\'a=fkc_rkl.list&r=9&i=&u=\\'+urlencode(this.href));\"> <em class=\"num\">9</em> <span class=\"tit _text\">미스코리아</span> </a> <a href=\"https://datalab.naver.com/keyword/realtimeDetail.naver?query=%EB%AF%B8%EC%8A%A4%EC%BD%94%EB%A6%AC%EC%95%84&datetime=2019-07-12T15%3A16%3A00&age=all&period=now&where=search\" class=\"datalab _status\" target=\"_blank\" onclick=\"return goOtherCR(this, \\'a=fkc_rkl.numv&r=9&i=&u=\\'+urlencode(this.href));\"><i class=\"spim ico_graph\">검색 추이</i></a> </span> </li> <li > <span class=\"bx bx_item _link\" title=\"이아이디\"> <a href=\"//search.naver.com/search.naver?where=nexearch&sm=tab_lvf.allnow&ie=utf8&query=%EC%9D%B4%EC%95%84%EC%9D%B4%EB%94%94\" class=\"keyword\" onclick=\"return goOtherCR(this, \\'a=fkc_rkl.list&r=10&i=&u=\\'+urlencode(this.href));\"> <em class=\"num\">10</em> <span class=\"tit _text\">이아이디</span> </a> <a href=\"https://datalab.naver.com/keyword/realtimeDetail.naver?query=%EC%9D%B4%EC%95%84%EC%9D%B4%EB%94%94&datetime=2019-07-12T15%3A16%3A00&age=all&period=now&where=search\" class=\"datalab _status\" target=\"_blank\" onclick=\"return goOtherCR(this, \\'a=fkc_rkl.numv&r=10&i=&u=\\'+urlencode(this.href));\"><i class=\"spim ico_graph\">검색 추이</i></a> </span> </li> </ol> <ol start=\"11\" class=\"lst_realtime_srch _realtime_tab_area\" style=\"display:none;\"> <li > <span class=\"bx bx_item _link\" title=\"김세연\"> <a href=\"//search.naver.com/search.naver?where=nexearch&sm=tab_lvf.allnow&ie=utf8&query=%EA%B9%80%EC%84%B8%EC%97%B0\" class=\"keyword\" onclick=\"return goOtherCR(this, \\'a=fkc_rkl.list&r=11&i=&u=\\'+urlencode(this.href));\"> <em class=\"num\">11</em> <span class=\"tit _text\">김세연</span> </a> <a href=\"https://datalab.naver.com/keyword/realtimeDetail.naver?query=%EA%B9%80%EC%84%B8%EC%97%B0&datetime=2019-07-12T15%3A16%3A00&age=all&period=now&where=search\" class=\"datalab _status\" target=\"_blank\" onclick=\"return goOtherCR(this, \\'a=fkc_rkl.numv&r=11&i=&u=\\'+urlencode(this.href));\"><i class=\"spim ico_graph\">검색 추이</i></a> </span> </li> <li > <span class=\"bx bx_item _link\" title=\"송유근\"> <a href=\"//search.naver.com/search.naver?where=nexearch&sm=tab_lvf.allnow&ie=utf8&query=%EC%86%A1%EC%9C%A0%EA%B7%BC\" class=\"keyword\" onclick=\"return goOtherCR(this, \\'a=fkc_rkl.list&r=12&i=&u=\\'+urlencode(this.href));\"> <em class=\"num\">12</em> <span class=\"tit _text\">송유근</span> </a> <a href=\"https://datalab.naver.com/keyword/realtimeDetail.naver?query=%EC%86%A1%EC%9C%A0%EA%B7%BC&datetime=2019-07-12T15%3A16%3A00&age=all&period=now&where=search\" class=\"datalab _status\" target=\"_blank\" onclick=\"return goOtherCR(this, \\'a=fkc_rkl.numv&r=12&i=&u=\\'+urlencode(this.href));\"><i class=\"spim ico_graph\">검색 추이</i></a> </span> </li> <li > <span class=\"bx bx_item _link\" title=\"중복\"> <a href=\"//search.naver.com/search.naver?where=nexearch&sm=tab_lvf.allnow&ie=utf8&query=%EC%A4%91%EB%B3%B5\" class=\"keyword\" onclick=\"return goOtherCR(this, \\'a=fkc_rkl.list&r=13&i=&u=\\'+urlencode(this.href));\"> <em class=\"num\">13</em> <span class=\"tit _text\">중복</span> </a> <a href=\"https://datalab.naver.com/keyword/realtimeDetail.naver?query=%EC%A4%91%EB%B3%B5&datetime=2019-07-12T15%3A16%3A00&age=all&period=now&where=search\" class=\"datalab _status\" target=\"_blank\" onclick=\"return goOtherCR(this, \\'a=fkc_rkl.numv&r=13&i=&u=\\'+urlencode(this.href));\"><i class=\"spim ico_graph\">검색 추이</i></a> </span> </li> <li > <span class=\"bx bx_item _link\" title=\"킴 베이싱어\"> <a href=\"//search.naver.com/search.naver?where=nexearch&sm=tab_lvf.allnow&ie=utf8&query=%ED%82%B4+%EB%B2%A0%EC%9D%B4%EC%8B%B1%EC%96%B4\" class=\"keyword\" onclick=\"return goOtherCR(this, \\'a=fkc_rkl.list&r=14&i=&u=\\'+urlencode(this.href));\"> <em class=\"num\">14</em> <span class=\"tit _text\">킴 베이싱어</span> </a> <a href=\"https://datalab.naver.com/keyword/realtimeDetail.naver?query=%ED%82%B4+%EB%B2%A0%EC%9D%B4%EC%8B%B1%EC%96%B4&datetime=2019-07-12T15%3A16%3A00&age=all&period=now&where=search\" class=\"datalab _status\" target=\"_blank\" onclick=\"return goOtherCR(this, \\'a=fkc_rkl.numv&r=14&i=&u=\\'+urlencode(this.href));\"><i class=\"spim ico_graph\">검색 추이</i></a> </span> </li> <li > <span class=\"bx bx_item _link\" title=\"삼계탕 끓이는법\"> <a href=\"//search.naver.com/search.naver?where=nexearch&sm=tab_lvf.allnow&ie=utf8&query=%EC%82%BC%EA%B3%84%ED%83%95+%EB%81%93%EC%9D%B4%EB%8A%94%EB%B2%95\" class=\"keyword\" onclick=\"return goOtherCR(this, \\'a=fkc_rkl.list&r=15&i=&u=\\'+urlencode(this.href));\"> <em class=\"num\">15</em> <span class=\"tit _text\">삼계탕 끓이는법</span> </a> <a href=\"https://datalab.naver.com/keyword/realtimeDetail.naver?query=%EC%82%BC%EA%B3%84%ED%83%95+%EB%81%93%EC%9D%B4%EB%8A%94%EB%B2%95&datetime=2019-07-12T15%3A16%3A00&age=all&period=now&where=search\" class=\"datalab _status\" target=\"_blank\" onclick=\"return goOtherCR(this, \\'a=fkc_rkl.numv&r=15&i=&u=\\'+urlencode(this.href));\"><i class=\"spim ico_graph\">검색 추이</i></a> </span> </li> <li > <span class=\"bx bx_item _link\" title=\"러시아 불화수소\"> <a href=\"//search.naver.com/search.naver?where=nexearch&sm=tab_lvf.allnow&ie=utf8&query=%EB%9F%AC%EC%8B%9C%EC%95%84+%EB%B6%88%ED%99%94%EC%88%98%EC%86%8C\" class=\"keyword\" onclick=\"return goOtherCR(this, \\'a=fkc_rkl.list&r=16&i=&u=\\'+urlencode(this.href));\"> <em class=\"num\">16</em> <span class=\"tit _text\">러시아 불화수소</span> </a> <a href=\"https://datalab.naver.com/keyword/realtimeDetail.naver?query=%EB%9F%AC%EC%8B%9C%EC%95%84+%EB%B6%88%ED%99%94%EC%88%98%EC%86%8C&datetime=2019-07-12T15%3A16%3A00&age=all&period=now&where=search\" class=\"datalab _status\" target=\"_blank\" onclick=\"return goOtherCR(this, \\'a=fkc_rkl.numv&r=16&i=&u=\\'+urlencode(this.href));\"><i class=\"spim ico_graph\">검색 추이</i></a> </span> </li> <li > <span class=\"bx bx_item _link\" title=\"힘찬\"> <a href=\"//search.naver.com/search.naver?where=nexearch&sm=tab_lvf.allnow&ie=utf8&query=%ED%9E%98%EC%B0%AC\" class=\"keyword\" onclick=\"return goOtherCR(this, \\'a=fkc_rkl.list&r=17&i=&u=\\'+urlencode(this.href));\"> <em class=\"num\">17</em> <span class=\"tit _text\">힘찬</span> </a> <a href=\"https://datalab.naver.com/keyword/realtimeDetail.naver?query=%ED%9E%98%EC%B0%AC&datetime=2019-07-12T15%3A16%3A00&age=all&period=now&where=search\" class=\"datalab _status\" target=\"_blank\" onclick=\"return goOtherCR(this, \\'a=fkc_rkl.numv&r=17&i=&u=\\'+urlencode(this.href));\"><i class=\"spim ico_graph\">검색 추이</i></a> </span> </li> <li > <span class=\"bx bx_item _link\" title=\"해피포인트\"> <a href=\"//search.naver.com/search.naver?where=nexearch&sm=tab_lvf.allnow&ie=utf8&query=%ED%95%B4%ED%94%BC%ED%8F%AC%EC%9D%B8%ED%8A%B8\" class=\"keyword\" onclick=\"return goOtherCR(this, \\'a=fkc_rkl.list&r=18&i=&u=\\'+urlencode(this.href));\"> <em class=\"num\">18</em> <span class=\"tit _text\">해피포인트</span> </a> <a href=\"https://datalab.naver.com/keyword/realtimeDetail.naver?query=%ED%95%B4%ED%94%BC%ED%8F%AC%EC%9D%B8%ED%8A%B8&datetime=2019-07-12T15%3A16%3A00&age=all&period=now&where=search\" class=\"datalab _status\" target=\"_blank\" onclick=\"return goOtherCR(this, \\'a=fkc_rkl.numv&r=18&i=&u=\\'+urlencode(this.href));\"><i class=\"spim ico_graph\">검색 추이</i></a> </span>  </li> <li > <span class=\"bx bx_item _link\" title=\"하리수\"> <a href=\"//search.naver.com/search.naver?where=nexearch&sm=tab_lvf.allnow&ie=utf8&query=%ED%95%98%EB%A6%AC%EC%88%98\" class=\"keyword\" onclick=\"return goOtherCR(this, \\'a=fkc_rkl.list&r=19&i=&u=\\'+urlencode(this.href));\"> <em class=\"num\">19</em> <span class=\"tit _text\">하리수</span> </a> <a href=\"https://datalab.naver.com/keyword/realtimeDetail.naver?query=%ED%95%98%EB%A6%AC%EC%88%98&datetime=2019-07-12T15%3A16%3A00&age=all&period=now&where=search\" class=\"datalab _status\" target=\"_blank\" onclick=\"return goOtherCR(this, \\'a=fkc_rkl.numv&r=19&i=&u=\\'+urlencode(this.href));\"><i class=\"spim ico_graph\">검색 추이</i></a> </span> </li> <li > <span class=\"bx bx_item _link\" title=\"타인은 지옥이다\"> <a href=\"//search.naver.com/search.naver?where=nexearch&sm=tab_lvf.allnow&ie=utf8&query=%ED%83%80%EC%9D%B8%EC%9D%80+%EC%A7%80%EC%98%A5%EC%9D%B4%EB%8B%A4\" class=\"keyword\" onclick=\"return goOtherCR(this, \\'a=fkc_rkl.list&r=20&i=&u=\\'+urlencode(this.href));\"> <em class=\"num\">20</em> <span class=\"tit _text\">타인은 지옥이다</span> </a> <a href=\"https://datalab.naver.com/keyword/realtimeDetail.naver?query=%ED%83%80%EC%9D%B8%EC%9D%80+%EC%A7%80%EC%98%A5%EC%9D%B4%EB%8B%A4&datetime=2019-07-12T15%3A16%3A00&age=all&period=now&where=search\" class=\"datalab _status\" target=\"_blank\" onclick=\"return goOtherCR(this, \\'a=fkc_rkl.numv&r=20&i=&u=\\'+urlencode(this.href));\"><i class=\"spim ico_graph\">검색 추이</i></a> </span> </li> </ol> </div> <div class=\"realtime_srch_area\"> <p class=\"dsc\"><time><span class=\"_time\">2019.07.12. 15:16:00</span></time> 기준 <a href=\"https://help.naver.com/support/alias/search/word/word_5.naver\" target=\"_blank\" class=\"link_rts_help\" onclick=\"return goOtherCR(this, \\'a=fkc_rkl.guide&r=&i=&u=\\'+urlencode(this.href))\"><i class=\"sprenew api_ico_help2\">도움말</i></a></p> <a href=\"https://datalab.naver.com/keyword/realtimeList.naver?where=search\" class=\"link_history\" target=\"_blank\" onclick=\"return goOtherCR(this, \\'a=fkc_rkl.trmore&r=&i=&u=\\'+urlencode(this.href));\"><i class=\"spim ico_datalab\">DataLab</i>급상승 트래킹<i class=\"spim ico_arr\"></i></a> </div> </div> <div class=\"tab_area _tab_area\" style=\"display: none;\"> <h3 class=\"blind\">뉴스토픽</h3> <div class=\"hotkwd\"> <ul class=\"api_realtime_tab _news_tab\"> <li class=\"selected\" data-index=\"0\" data-blind-text=\"뉴스토픽 뉴스\"><a href=\"#\" onclick=\"return tCR(\\'fkc_htk.nws\\', 1, \\'\\');\">뉴스</a></li> <li data-index=\"1\" data-blind-text=\"뉴스토픽 연예·스포츠\"><a href=\"#\" onclick=\"return tCR(\\'fkc_htk.ents\\', 1, \\'\\');\">연예·스포츠</a></li> </ul> </div> <h6 class=\"blind _blind_news\">뉴스토픽 뉴스</h6> <ol class=\"lst_realtime_srch _news_tab_area\"> <li > <a href=\"//search.naver.com/search.naver?where=nexearch&sm=tab_htf.nws&ie=utf8&query=%EC%B5%9C%EC%A0%80%EC%9E%84%EA%B8%88+8590%EC%9B%90\" class=\"bx\" onclick=\"return goOtherCR(this, \\'a=fkc_htk.nwslist&r=20&i=&u=\\'+urlencode(this.href));\"> <span class=\"keyword\"> <em class=\"num\">1</em> <span class=\"tit _text\">최저임금 8590원</span> </span> </a> </li> <li > <a href=\"//search.naver.com/search.naver?where=nexearch&sm=tab_htf.nws&ie=utf8&query=%EC%B4%88%EB%B3%B5%EC%97%90%EB%8A%94+%EC%82%BC%EA%B3%84%ED%83%95\" class=\"bx\" onclick=\"return goOtherCR(this, \\'a=fkc_htk.nwslist&r=20&i=&u=\\'+urlencode(this.href));\"> <span class=\"keyword\"> <em class=\"num\">2</em> <span class=\"tit _text\">초복에는 삼계탕</span> </span> </a> </li> <li > <a href=\"//search.naver.com/search.naver?where=nexearch&sm=tab_htf.nws&ie=utf8&query=%EA%B5%AD%EB%AF%BC%EC%B2%AD%EC%9B%90+%EB%93%B1%EC%9E%A5\" class=\"bx\" onclick=\"return goOtherCR(this, \\'a=fkc_htk.nwslist&r=20&i=&u=\\'+urlencode(this.href));\"> <span class=\"keyword\"> <em class=\"num\">3</em> <span class=\"tit _text\">국민청원 등장</span> </span> </a> </li> <li > <a href=\"//search.naver.com/search.naver?where=nexearch&sm=tab_htf.nws&ie=utf8&query=%EC%9B%90+%EB%8B%AC%EB%9F%AC+%ED%99%98%EC%9C%A8\" class=\"bx bx_item\" onclick=\"return goOtherCR(this, \\'a=fkc_htk.nwslist&r=20&i=&u=\\'+urlencode(this.href));\"> <span class=\"keyword\"> <em class=\"num\">4</em> <span class=\"tit _text\">원 달러 환율</span> </span> <em class=\"rank new\"><span class=\"spim\"></span><span>NEW</span></em> </a> </li> <li > <a href=\"//search.naver.com/search.naver?where=nexearch&sm=tab_htf.nws&ie=utf8&query=%EC%9D%BC%EB%B3%B8+%EC%88%98%EC%B6%9C%EA%B7%9C%EC%A0%9C\" class=\"bx\" onclick=\"return goOtherCR(this, \\'a=fkc_htk.nwslist&r=20&i=&u=\\'+urlencode(this.href));\"> <span class=\"keyword\"> <em class=\"num\">5</em> <span class=\"tit _text\">일본 수출규제</span> </span> </a> </li> <li > <a href=\"//search.naver.com/search.naver?where=nexearch&sm=tab_htf.nws&ie=utf8&query=%ED%83%80%EB%8B%A4+%EA%B8%88%EC%A7%80%EB%B2%95+%EB%B0%9C%EC%9D%98\" class=\"bx bx_item\" onclick=\"return goOtherCR(this, \\'a=fkc_htk.nwslist&r=20&i=&u=\\'+urlencode(this.href));\"> <span class=\"keyword\"> <em class=\"num\">6</em> <span class=\"tit _text\">타다 금지법 발의</span> </span> <em class=\"rank new\"><span class=\"spim\"></span><span>NEW</span></em> </a> </li> <li > <a href=\"//search.naver.com/search.naver?where=nexearch&sm=tab_htf.nws&ie=utf8&query=%EC%B2%9C%EC%9E%AC%EC%86%8C%EB%85%84+%EC%86%A1%EC%9C%A0%EA%B7%BC\" class=\"bx bx_item\" onclick=\"return goOtherCR(this, \\'a=fkc_htk.nwslist&r=20&i=&u=\\'+urlencode(this.href));\"> <span class=\"keyword\"> <em class=\"num\">7</em> <span class=\"tit _text\">천재소년 송유근</span> </span> <em class=\"rank new\"><span class=\"spim\"></span><span>NEW</span></em> </a> </li> <li > <a href=\"//search.naver.com/search.naver?where=nexearch&sm=tab_htf.nws&ie=utf8&query=6%EC%9B%94+%EC%88%98%EC%B6%9C%EC%9E%85%EB%AC%BC%EA%B0%80+%EB%8F%99%EB%B0%98+%ED%95%98%EB%9D%BD\" class=\"bx bx_item\" onclick=\"return goOtherCR(this, \\'a=fkc_htk.nwslist&r=20&i=&u=\\'+urlencode(this.href));\"> <span class=\"keyword\"> <em class=\"num\">8</em> <span class=\"tit _text\">6월 수출입물가 동반 하락</span> </span> <em class=\"rank new\"><span class=\"spim\"></span><span>NEW</span></em> </a> </li> <li > <a href=\"//search.naver.com/search.naver?where=nexearch&sm=tab_htf.nws&ie=utf8&query=%EC%BA%A0%EC%BD%94+1971%EC%96%B5%EC%9B%90+%EA%B7%9C%EB%AA%A8+%EC%95%95%EB%A5%98%EC%9E%AC%EC%82%B0+%EA%B3%B5%EB%A7%A4\" class=\"bx bx_item\" onclick=\"return goOtherCR(this, \\'a=fkc_htk.nwslist&r=20&i=&u=\\'+urlencode(this.href));\"> <span class=\"keyword\"> <em class=\"num\">9</em> <span class=\"tit _text\">캠코 1971억원 규모 압류재산 공매</span> </span> <em class=\"rank new\"><span class=\"spim\"></span><span>NEW</span></em> </a> </li> <li > <a href=\"//search.naver.com/search.naver?where=nexearch&sm=tab_htf.nws&ie=utf8&query=%EB%AA%A8%EB%85%80+%EC%84%B1%ED%8F%AD%ED%96%89+%EC%8B%9C%EB%8F%84\" class=\"bx\" onclick=\"return goOtherCR(this, \\'a=fkc_htk.nwslist&r=20&i=&u=\\'+urlencode(this.href));\"> <span class=\"keyword\"> <em class=\"num\">10</em> <span class=\"tit _text\">모녀 성폭행 시도</span> </span> </a> </li> </ol> <ol class=\"lst_realtime_srch _news_tab_area\" style=\"display:none;\"> <li > <a href=\"//search.naver.com/search.naver?where=nexearch&sm=tab_htf.ent&ie=utf8&query=%EC%9D%B4%EC%98%81%EB%8F%88+PD+%E6%95%85+%EA%B9%80%EC%98%81%EC%95%A0%EC%97%90+%EC%82%AC%EA%B3%BC\" class=\"bx bx_item\" onclick=\"return goOtherCR(this, \\'a=fkc_htk.entslist&r=20&i=&u=\\'+urlencode(this.href));\"> <span class=\"keyword\"> <em class=\"num\">1</em> <span class=\"tit _text\">이영돈 PD 故 김영애에 사과</span> </span> <em class=\"rank new\"><span class=\"spim\"></span><span>NEW</span></em> </a> </li> <li > <a href=\"//search.naver.com/search.naver?where=nexearch&sm=tab_htf.ent&ie=utf8&query=25%EC%9D%BC+%EC%86%94%EB%A1%9C+%EB%8D%B0%EB%B7%94\" class=\"bx bx_item\" onclick=\"return goOtherCR(this, \\'a=fkc_htk.entslist&r=20&i=&u=\\'+urlencode(this.href));\"> <span class=\"keyword\"> <em class=\"num\">2</em> <span class=\"tit _text\">25일 솔로 데뷔</span> </span> <em class=\"rank new\"><span class=\"spim\"></span><span>NEW</span></em> </a> </li> <li > <a href=\"//search.naver.com/search.naver?where=nexearch&sm=tab_htf.ent&ie=utf8&query=%EB%AF%B8%EC%8A%A4%EC%BD%94%EB%A6%AC%EC%95%84+%EC%A7%84+%EA%B9%80%EC%84%B8%EC%97%B0\" class=\"bx\" onclick=\"return goOtherCR(this, \\'a=fkc_htk.entslist&r=20&i=&u=\\'+urlencode(this.href));\"> <span class=\"keyword\"> <em class=\"num\">3</em> <span class=\"tit _text\">미스코리아 진 김세연</span> </span> </a> </li> <li > <a href=\"//search.naver.com/search.naver?where=nexearch&sm=tab_htf.ent&ie=utf8&query=%EC%A0%88%EB%8C%80%EA%B7%B8%EC%9D%B4+%EB%B0%A9%EB%AF%BC%EC%95%84\" class=\"bx bx_item\" onclick=\"return goOtherCR(this, \\'a=fkc_htk.entslist&r=20&i=&u=\\'+urlencode(this.href));\"> <span class=\"keyword\"> <em class=\"num\">4</em> <span class=\"tit _text\">절대그이 방민아</span> </span> <em class=\"rank new\"><span class=\"spim\"></span><span>NEW</span></em> </a> </li> <li > <a href=\"//search.naver.com/search.naver?where=nexearch&sm=tab_htf.ent&ie=utf8&query=%EC%84%B1%ED%8F%AD%ED%96%89+%ED%98%90%EC%9D%98+%EA%B0%95%EC%A7%80%ED%99%98\" class=\"bx\" onclick=\"return goOtherCR(this, \\'a=fkc_htk.entslist&r=20&i=&u=\\'+urlencode(this.href));\"> <span class=\"keyword\"> <em class=\"num\">5</em> <span class=\"tit _text\">성폭행 혐의 강지환</span> </span> </a> </li> <li > <a href=\"//search.naver.com/search.naver?where=nexearch&sm=tab_htf.ent&ie=utf8&query=%EA%B2%80%EB%B8%94%EC%9C%A0+%EC%9E%84%EC%88%98%EC%A0%95\" class=\"bx\" onclick=\"return goOtherCR(this, \\'a=fkc_htk.entslist&r=20&i=&u=\\'+urlencode(this.href));\"> <span class=\"keyword\"> <em class=\"num\">6</em> <span class=\"tit _text\">검블유 임수정</span> </span> </a> </li> <li > <a href=\"//search.naver.com/search.naver?where=nexearch&sm=tab_htf.ent&ie=utf8&query=%EC%98%A4%EC%B0%BD%EC%84%9D+%EC%9D%B4%EC%B1%84%EC%9D%80\" class=\"bx\" onclick=\"return goOtherCR(this, \\'a=fkc_htk.entslist&r=20&i=&u=\\'+urlencode(this.href));\"> <span class=\"keyword\"> <em class=\"num\">7</em> <span class=\"tit _text\">오창석 이채은</span> </span> </a> </li> <li > <a href=\"//search.naver.com/search.naver?where=nexearch&sm=tab_htf.ent&ie=utf8&query=%EC%8B%AC%ED%98%95%ED%83%81+%EB%82%A0+%EB%85%B9%EC%97%AC%EC%A3%BC%EC%98%A4\" class=\"bx bx_item\" onclick=\"return goOtherCR(this, \\'a=fkc_htk.entslist&r=20&i=&u=\\'+urlencode(this.href));\"> <span class=\"keyword\"> <em class=\"num\">8</em> <span class=\"tit _text\">심형탁 날 녹여주오</span> </span> <em class=\"rank new\"><span class=\"spim\"></span><span>NEW</span></em> </a> </li> <li > <a href=\"//search.naver.com/search.naver?where=nexearch&sm=tab_htf.ent&ie=utf8&query=%ED%95%98%EB%A6%AC%EC%88%98+%EB%B6%84%EB%85%B8\" class=\"bx bx_item\" onclick=\"return goOtherCR(this, \\'a=fkc_htk.entslist&r=20&i=&u=\\'+urlencode(this.href));\"> <span class=\"keyword\"> <em class=\"num\">9</em> <span class=\"tit _text\">하리수 분노</span> </span> <em class=\"rank new\"><span class=\"spim\"></span><span>NEW</span></em> </a> </li> <li > <a href=\"//search.naver.com/search.naver?where=nexearch&sm=tab_htf.ent&ie=utf8&query=%EC%97%91%EC%8B%9C%ED%8A%B8+%EC%A1%B0%EC%A0%95%EC%84%9DX%EC%9E%84%EC%9C%A4%EC%95%84\" class=\"bx bx_item\" onclick=\"return goOtherCR(this, \\'a=fkc_htk.entslist&r=20&i=&u=\\'+urlencode(this.href));\"> <span class=\"keyword\"> <em class=\"num\">10</em> <span class=\"tit _text\">엑시트 조정석X임윤아</span> </span> <em class=\"rank new\"><span class=\"spim\"></span><span>NEW</span></em> </a> </li> </ol> <div class=\"realtime_srch_area\"> <p class=\"dsc\"><time>2019.07.12. 08:30 ~ 11:30</time> 기준 <a href=\"https://help.naver.com/support/alias/search/word/word_3.naver\" target=\"_blank\" class=\"link_rts_help\" onclick=\"return goOtherCR(this, \\'a=fkc_htk.guide&r=&i=&u=\\'+urlencode(this.href))\"><i class=\"sprenew api_ico_help2\">도움말</i></a></p> </div> </div> <iframe frameborder=\"0\" title=\"빈프레임\" style=\"display:block;position:absolute;top:0;left:0;z-index:-1;width:100%;height:100%\"></iframe> </div> </div> <script type=\"text/javascript\"> (function() { var fnCallback = function() { var oFooterRealTime = new nhn.FooterRealtimeKeyword($(\"_nx_footer_realtime\"), \"nexearch\", null, null); nxrtrank.registRealtimeKeyword(\"nexearch\", oFooterRealTime); }; if (typeof(nxrtrank) == \"undefined\") nx_js_defer_load(\"https://ssl.pstatic.net/sstatic/au/pc/realtime_keyword/nhn.nxrtrank_150610.js\", function() {nx_js_lazyload(\"https://ssl.pstatic.net/sstatic/au/pc/realtime_keyword/nhn.footer_realtime_keyword_181127.js\", fnCallback, 1);}, 150) ; else nx_js_defer_load(\"https://ssl.pstatic.net/sstatic/au/pc/realtime_keyword/nhn.footer_realtime_keyword_181127.js\", fnCallback, 300) ; }) (); </script> <form id=\"nx_search_form_btm\" name=\"searchu\" method=\"get\" action=\"?\" onsubmit=\"return nx_form_submit(this);\"> <fieldset class=\"greenwindow\"> <legend>검색</legend> <div class=\"greenbox\"> <span class=\"keyword\"> <input type=\"hidden\" name=\"sm\" value=\"tab_hty.btm\"> <input type=\"hidden\" name=\"where\" value=\"nexearch\"> <input type=\"text\" title=\"검색어 입력\" name=\"query\" id=\"nx_query_btm\" maxlength=\\'255\\' class=\"box_window\" autocomplete=\"off\" value=\"박보영\"> <input type=\"hidden\" name=\"oquery\" value=\"박보영\"> <input type=\"hidden\" name=\"tqi\" value=\"UflDwlprvTVssMcr4/RssssssfG-270154\"> <input type=\"hidden\" value=\"\" name=\"acq\" disabled> <input type=\"hidden\" value=\"\" name=\"acr\" disabled> <input type=\"hidden\" value=\"\" name=\"qdt\" disabled> <input type=\"hidden\" value=\"\" name=\"acir\" disabled> <input type=\"hidden\" value=\"\" name=\"os\" disabled> <input type=\"hidden\" value=\"\" name=\"bid\" disabled> <input type=\"hidden\" value=\"\" name=\"pkid\" disabled> <input type=\"hidden\" value=\"\" name=\"eid\" disabled> <input type=\"hidden\" value=\"\" name=\"mra\" disabled>      </span> </div> <div id=\"nautocomplete_btm\" class=\"autocomplete\"> <a href=\"#\" class=\"bt_atcp _btn_arw fold\" onclick=\"return false;\"><span class=\"blind _text\">자동완성 펼치기</span><span class=\"ico_arrow spnew\"></span></a> </div> <button type=\"submit\" class=\"bt_search\" onmouseover=\"$Element(this).addClass(\\'over\\');\" onmouseout=\"$Element(this).removeClass(\\'over down\\');\" onmousedown=\"$Element(this).removeClass(\\'over\\');$Element(this).addClass(\\'down\\');\"><span class=\"spnew ico_search\">검색</span></button> <div class=\"ly_atcmp ly_atcmp_v1\" id=\"nx_autoframe_btm\" style=\"display:none;\"> <iframe frameborder=\"0\" title=\"빈프레임\" style=\"display:none;display:block\\\\9;display:block\\\\0/;position:absolute;top:-1px;left:-1px;z-index:-1;width:100%;height:100%;padding:1px;filter:alpha(opacity=0);opacity:0\"></iframe> <div class=\"api_atcmp_wrap api_atcmp_wrap_v1 _atcmp\" style=\"display:none;\"> <p class=\"func _atcmpBtnGroup\"><span class=\"fl\"><a class=\"_help\" onclick=\"__atcmpCR(event, this, \\'help\\', \\'\\',\\'\\',\\'\\');\" href=\"https://help.naver.com/support/alias/search/word/word_17.naver\" target=\"_blank\">도움말</a><span class=\"atcmp_bar\"></span><a onclick=\"__atcmpCR(event, this, \\'report\\', \\'\\',\\'\\',\\'\\');\" href=\"https://help.naver.com/support/alias/search/word/word_18.naver\" target=\"_blank\" class=\"report\">신고</a></span><span><em><a class=\"hisoff\" href=\"javascript:;\">검색어저장 켜기</a><span class=\"atcmp_bar\"></span></em><a class=\"funoff\" href=\"javascript:;\">자동완성 끄기</a></span></p> <div class=\"atcmp_plus _plus\"> <span class=\"desc\"> <span class=\"plus_txt\">시간대와 관심사에 맞춘 <em class=\\'txt\\'>컨텍스트 자동완성</em></span> <a onclick=\"__atcmpCR(event, this, \\'plus.help\\', \\'\\',\\'\\',\\'\\');\" href=\"https://help.naver.com/support/alias/search/word/word_16.naver\" target=\"_blank\" class=\"spat ico_info\"><span class=\"blind\">도움말 보기</span></a> </span> <span class=\"switch _plus_btn\"> <a href=\"#\" class=\"btn_turnon active\" onclick=\"__atcmpCR(event, this, \\'plus.use\\', \\'\\',\\'\\',\\'\\');\">ON<span class=\"blind\">선택됨</span></a> <a href=\"#\" class=\"btn_turnoff\" onclick=\"__atcmpCR(event, this, \\'plus.unuse\\', \\'\\',\\'\\',\\'\\');\">OFF</a> </span> <div class=\"layer_plus _plusAlert\"> <strong class=\"tit\">컨텍스트 자동완성</strong> <div class=\"_logout\" style=\"display:block;\"> <p class=\"dsc\"><em class=\"txt\">동일한 시간대/연령/남녀별</em> 사용자 그룹의<br>관심사에 맞춰 자동완성을 제공합니다.</p> <div class=\"btn_area\"> <a onclick=\"__atcmpCR(event, this, \\'plus.login\\', \\'\\',\\'\\',\\'\\');\" href=\"https://nid.naver.com/nidlogin.login?url=https%3A%2F%2Fsearch.naver.com%2Fsearch.naver%3Fsm%3Dtab_hty.top%26where%3Dnexearch%26query%3D%25EB%25B0%2595%25EB%25B3%25B4%25EC%2598%2581\" class=\"btn btn_login\">로그인</a> <a onclick=\"__atcmpCR(event, this, \\'plus.detail\\', \\'\\',\\'\\',\\'\\');\" href=\"https://help.naver.com/support/alias/search/word/word_16.naver\" target=\"_blank\" class=\"btn btn_view\">자세히</a> </div> </div> <div class=\"_login\" style=\"display:none;\"> <p class=\"dsc\">ON/OFF설정은<br>해당 기기(브라우저)에 저장됩니다.</p> <div class=\"btn_area\"> <a onclick=\"__atcmpCR(event, this, \\'plus.detail\\', \\'\\',\\'\\',\\'\\');\" href=\"https://help.naver.com/support/alias/search/word/word_21.naver\" target=\"_blank\" class=\"btn btn_view\">자세히</a> </div> </div> <button type=\"button\" class=\"btn_close _close\" onclick=\"__atcmpCR(event, this, \\'plus.close\\', \\'\\',\\'\\',\\'\\');\"><i class=\"spat ico_close\">컨텍스트 자동완성 레이어 닫기</i></button> </div> </div> <div class=\"words _words\"> <div class=\"_atcmp_result_wrap\"> <ul class=\"_resultBox\"></ul> <ul class=\"_resultBox\"></ul> <ul class=\"_resultBox\"></ul> <ul class=\"_resultBox\"></ul> </div> <div class=\"add_group _atcmp_answer_wrap\"></div> </div> <span class=\"atcmp_helper _help_tooltip1\">기능을 다시 켤 때는 <em class=\"ico_search spat\">검색창 오른쪽 화살표 버튼</em>을 클릭하세요</span> </div> <div class=\"api_atcmp_wrap api_atcmp_wrap_v1 _atcmpIng\" style=\"display:none;\"> <p class=\"func _atcmpBtnGroup\"><span class=\"fl\"><a class=\"_help\" onclick=\"__atcmpCR(event, this, \\'help\\', \\'\\',\\'\\',\\'\\');\" href=\"https://help.naver.com/support/alias/search/word/word_17.naver\" target=\"_blank\">도움말</a><span class=\"atcmp_bar\"></span><a onclick=\"__atcmpCR(event, this, \\'report\\', \\'\\',\\'\\',\\'\\');\" href=\"https://help.naver.com/support/alias/search/word/word_18.naver\" target=\"_blank\" class=\"report\">신고</a></span><span><em><a class=\"hisoff\" href=\"javascript:;\">검색어저장 켜기</a><span class=\"atcmp_bar\"></span></em><a class=\"funoff\" href=\"javascript:;\">자동완성 끄기</a></span></p> <div class=\"words\"><p class=\"info_words\">현재 자동완성 기능을 사용하고 계십니다.</p></div> <span class=\"atcmp_helper _help_tooltip2\">기능을 다시 켤 때는 <em class=\"ico_search spat\">검색창 오른쪽 화살표 버튼</em>을 클릭하세요</span> </div> <div class=\"api_atcmp_wrap api_atcmp_wrap_v1 _atcmpStart\" style=\"display:none;\"> <p class=\"func _atcmpBtnGroup\"><span class=\"fl\"><a class=\"_help\" onclick=\"__atcmpCR(event, this, \\'help\\', \\'\\',\\'\\',\\'\\');\" href=\"https://help.naver.com/support/alias/search/word/word_17.naver\" target=\"_blank\">도움말</a><span class=\"atcmp_bar\"></span><a onclick=\"__atcmpCR(event, this, \\'report\\', \\'\\',\\'\\',\\'\\');\" href=\"https://help.naver.com/support/alias/search/word/word_18.naver\" target=\"_blank\" class=\"report\">신고</a></span><span><em><a class=\"hisoff\" href=\"javascript:;\">검색어저장 켜기</a><span class=\"atcmp_bar\"></span></em><a class=\"funoff\" href=\"javascript:;\">자동완성 끄기</a></span></p> <div class=\"words\"><p class=\"info_words\">자동완성 기능이 활성화되었습니다.</p></div> <span class=\"atcmp_helper _help_tooltip3\">기능을 다시 켤 때는 <em class=\"ico_search spat\">검색창 오른쪽 화살표 버튼</em>을 클릭하세요</span> </div> <div class=\"api_atcmp_wrap api_atcmp_wrap_v1 _atcmpOff\" style=\"display:none;\"> <p class=\"func _atcmpBtnGroup\"><span class=\"fl\"><a class=\"_help\" onclick=\"__atcmpCR(event, this, \\'help\\', \\'\\',\\'\\',\\'\\');\" href=\"https://help.naver.com/support/alias/search/word/word_17.naver\" target=\"_blank\">도움말</a><span class=\"atcmp_bar\"></span><a onclick=\"__atcmpCR(event, this, \\'report\\', \\'\\',\\'\\',\\'\\');\" href=\"https://help.naver.com/support/alias/search/word/word_18.naver\" target=\"_blank\" class=\"report\">신고</a></span><span><em><a class=\"hisoff\" href=\"javascript:;\">검색어저장 켜기</a><span class=\"atcmp_bar\"></span></em><a class=\"funoff\" href=\"javascript:;\">자동완성 켜기</a></span></p> <div class=\"words\"><p class=\"info_words\">자동완성 기능이 꺼져 있습니다.</p></div> </div> <div class=\"api_atcmp_wrap api_atcmp_wrap_v1 _keywords\" id=\"keyword\" style=\"display:none;\"> <div class=\"my_words\"> <p class=\"func _recentBtnGroup\"><span class=\"fl\"><a class=\"_delMode\" href=\"javascript:;\">기록 삭제</a></span><span><a class=\"_keywordOff\" href=\"javascript:;\">검색어저장 끄기</a><span class=\"atcmp_bar\"></span><a class=\"_acOff\" href=\"javascript:;\">자동완성 끄기</a></span></p> <p class=\"func _recentDelBtnGroup\" style=\"display:none\"><span class=\"fl\"><a class=\"_delAll\" href=\"javascript:;\" title=\"최근 검색어 기록을 모두 삭제합니다.\">기록 전체 삭제</a></span><span><a class=\"_delDone\" href=\"javascript:;\">완료</a></span></p> <p class=\"func _myBtnGroup\" style=\"display:none\"><span class=\"fl\"><a class=\"_delAll\" href=\"javascript:;\" title=\"설정된 내 검색어를 모두 삭제합니다.\">기록 전체 삭제</a></span><span><a class=\"_keywordOff\" href=\"javascript:;\">검색어저장 끄기</a><span class=\"atcmp_bar\"></span><a class=\"_acOff\" href=\"javascript:;\">자동완성 끄기</a></span></p> <span class=\"atcmp_helper _help2\">기능을 다시 켤 때는 <em class=\"ico_search spat\">검색창 오른쪽 화살표 버튼</em>을 클릭하세요</span> <p class=\"noti _noti\" style=\"display:none\"><em class=\"ico_noti spat\"><span class=\"blind\">알림</span></em>공용 PC에서는 개인정보 보호를 위하여 반드시 로그아웃을 해 주세요.</p> <div class=\"words _recent\"> <ul><li data-rank=\"@rank@\"><a class=\"t@my@ _star _myBtn\" title=\"내 검색어 등록\" href=\"javascript:;\"><em class=\"spat\">내 검색어 등록</em></a><a href=\"javascript:;\" class=\"keyword\">@txt@</a><em class=\"keyword_date\">@date@.</em><a href=\"javascript:;\" class=\"btn_delete spat _del\" title=\"검색어삭제\">삭제</a><span style=\"display:none\">@in_txt@</span></li></ul> <div class=\"info_words _recentNone\" style=\"display:none\">최근검색어 내역이 없습니다.</div> <p class=\"info_words _offMsg\" style=\"display:none\">검색어 저장 기능이 꺼져 있습니다.</p> </div> <div class=\"words _my\" style=\"display:none\"> <ul><li data-rank=\"@rank@\"><a class=\"ton _star _myBtn\" title=\"내 검색어 해제\" href=\"javascript:;\"><em class=\"spat\">내 검색어 해제</em></a><a href=\"javascript:;\" class=\"keyword\">@txt@</a></li></ul> <div class=\"info_words _myNone\" style=\"display:none\">설정된 내 검색어가 없습니다.<br>최근검색어에서 <span class=\"star spat\">내 검색어 등록</span>를 선택하여 자주 찾는 검색어를<br />내 검색어로 저장해 보세요.</div> <p class=\"info_words _offMsg\" style=\"display:none\">검색어 저장 기능이 꺼져 있습니다.</p> </div> <div class=\"lst_tab\"> <ul> <li class=\"on _recentTab\"><a href=\"javascript:;\">최근검색어</a></li> <li class=\"_myTab\"><a href=\"javascript:;\">내 검색어</a></li> </ul> </div> <div class=\"ly_noti _maxLayer\" style=\"display:none\"> <span class=\"mask\"></span> <p><span class=\"ico_alert spat\"></span>내 검색어는 <em>최대 10</em>개 까지 저장할 수 있습니다.<br />추가하시려면 기존 내 검색어를 지워주세요. <a href=\"javascript:;\" class=\"btn_close _close\"><i class=\"spat ico_close\">닫기</i></a></p> </div> </div> </div> <div class=\"api_atcmp_wrap _alert\" style=\"display:none;\"> <div class=\"api_atcmp_alert\"> <span class=\"ico_alert spat\"></span> <p class=\"dsc_txt\"><em class=\"_passage\"></em><br> <a class=\"_link\" target=\"_blank\" href=\"\" onclick=\"return goOtherCR(this,\\'a=sug.vote&r=&i=&u=\\'+urlencode(this.href));\">자세히보기</a></p> </div> </div> </div> </fieldset> </form> </div> <ul class=\"lst_foot\"> <li class=\"first\"><a href=\"https://help.naver.com/support/alias/search/footer/policy.naver\" target=\"_blank\" onclick=\"return goOtherCR(this, \\'a=fot.web&r=&i=&u=\\'+urlencode(this.href));\">웹문서 수집 및 삭제 정책</a><span class=\"bar\"></span></li> <li><a href=\"https://smartplace.naver.com/\" target=\"_blank\" onclick=\"return goOtherCR(this, \\'a=fot.submit&r=&i=&u=\\'+urlencode(this.href));\">플레이스업체 등록</a><span class=\"bar\"></span></li> <li><a href=\"https://searchad.naver.com/\" target=\"_blank\" onclick=\"return goOtherCR(this, \\'a=fot.searchad&r=&i=&u=\\'+urlencode(this.href));\">검색광고 안내</a><span class=\"bar\"></span></li>  <li><a href=\"https://help.naver.com/support/alias/search/integration/integration_1.naver\" target=\"_blank\" onclick=\"return goOtherCR(this, \\'u=\\'+urlencode(this.href)+\\'&a=fot.help&r=&i=\\');\">통합검색 고객센터</a><span class=\"bar\"></span></li> <li><a href=\"https://help.naver.com/support/alias/report/unsound.naver\" target=\"_blank\" onclick=\"return goOtherCR(this, \\'u=\\'+urlencode(this.href)+\\'&a=fot.inform&r=&i=\\');\">유해게시물신고</a><span class=\"bar\"></span></li> </ul> <address><em>©</em> <a href=\"https://www.navercorp.com/\" target=\"_blank\" onclick=\"return goOtherCR(this, \\'u=\\'+urlencode(this.href)+\\'&a=fot.nhn&r=&i=\\');\">NAVER Corp.</a></address>  </div>  </div> <div id=\"bck_layer_map\" class=\"layer_map\" style=\"left:440px; top:284px; display:none\"> <div class=\"layer_bd\"> <iframe title=\"약도 보기\" name=\"map\" frameborder=\"0\" width=\"440\" height=\"373\" marginwidth=\"0\" marginheight=\"0\" scrolling=\"no\"></iframe> </div> <!--[if IE 6]><iframe title=\"약도 보기\" frameborder=\"0\" width=\"444\" height=\"377\" style=\"position:absolute; left:0; top:0; z-index:10\"></iframe><![endif]--> </div> <script type=\"text/template\" id=\"_atcmp_answer_0\"> <div class=\"add_opt _item\" data-sm=\"@2@\" data-keyword=\"@1@\" data-template_id=\"@0@\" data-acir=\"@rank@\" data-os=\"@8@\" data-bid=\"@9@\" data-eid=\"@3@\" data-pkid=\"@10@\" data-mra=\"@11@\" > <a href=\"#\" class=\"opt_dsc\"> <span class=\"dsc_thmb\" style=\"@style7@\">@image7@</span> <span class=\"dsc_group\"> <span class=\"dsc_cate\">@6@</span> <strong class=\"dsc_word\">@1@</strong> <span class=\"dsc_sub\" style=\"@style12@\">@12@</span> </span> </a> </div> </script> <script type=\"text/template\" id=\"_atcmp_answer_3\"> <div class=\"add_opt _item\" data-sm=\"@2@\" data-keyword=\"@1@\" data-template_id=\"@0@\" data-acir=\"@rank@\"> <a href=\"javascript:;\" class=\"opt_lotto\"> <span class=\"lotto_num_area\"> <span class=\"spat lotto_num lotto_num@6@\">@6@</span><span class=\"spat lotto_num lotto_num@7@\">@7@</span><span class=\"spat lotto_num lotto_num@8@\">@8@</span><span class=\"spat lotto_num lotto_num@9@\">@9@</span><span class=\"spat lotto_num lotto_num@10@\">@10@</span><span class=\"spat lotto_num lotto_num@11@\">@11@</span><span class=\"spat lotto_bonus\">+</span><span class=\"spat lotto_num lotto_num@12@\">@12@</span> </span> <span class=\"lotto_sub\">@5@회차<em class=\"lotto_date\">(@13@.)</em></span> </a> </div> </script> <script type=\"text/template\" id=\"_atcmp_answer_9\"> <div class=\"add_opt _item\" data-sm=\"@2@\" data-keyword=\"@1@\" data-template_id=\"@0@\" data-acir=\"@rank@\"> <a href=\"javascript:;\" class=\"opt_exchange opt_exchange_@11@\"> <span class=\"opt_nation\"> <img src=\"https://ssl.pstatic.net/sstatic/keypage/lifesrch/exchange/ico_@12@1.gif\" alt=\"\" /> @14@ <span class=\"tx_nation\">@money@</span> </span> <span class=\"opt_amount\"> <span class=\"amount\"><strong>@6@</strong>원</span><span class=\"changes\"><i class=\"bullet\">@10@</i> @8@ (@9@%)<span class=\"opt_time\"><time datetime=\"@fulldate@\">@7@</time></span></span> </span> </a> </div> </script> <script type=\"text/template\" id=\"_atcmp_answer_10\"> <div class=\"add_opt _item\" data-sm=\"@2@\" data-keyword=\"@1@\" data-template_id=\"@0@\" data-acir=\"@rank@\"> <a href=\"javascript:;\" class=\"opt_weather\"> <span class=\"opt_weather_thmb\"> <img src=\"https://ssl.pstatic.net/sstatic/search/pc/img/wt_@6@.png\" width=\"56\" height=\"56\" alt=\"@7@\"> </span> <span class=\"opt_weather_group\"> <span class=\"opt_weather_state\">@7@</span> <span class=\"opt_weather_state\">기온 <em class=\"opt_deg\">@8@</em><span class=\"opt_unit\">℃</span></span> <span class=\"opt_weather_state\">@9@ <em>@10@</em><span class=\"opt_unit\">@11@</span></span> <span class=\"opt_weather_state\"><span class=\"opt_time\"><time datetime=\"@fulldate@\">@5@</time></span></span> </span> </a> </div> </script> <script type=\"text/template\" id=\"_atcmp_answer_11\"> <div class=\"add_opt _item\" data-sm=\"@2@\" data-keyword=\"@1@\" data-template_id=\"@0@\" data-acir=\"@rank@\"> <a href=\"javascript:;\" class=\"opt_weather\"> <span class=\"opt_weather_thmb\"> <img src=\"https://ssl.pstatic.net/sstatic/search/pc/img/wt_@6@.png\" width=\"56\" height=\"56\" alt=\"@7@\"> </span> <span class=\"opt_weather_group\"> <span class=\"opt_weather_state\">@7@</span> <span class=\"opt_weather_state\">기온 <em class=\"opt_deg\">@8@</em><span class=\"opt_unit\">℃</span></span> <span class=\"opt_weather_state\">@9@ <em>@10@</em><span class=\"opt_unit\">@11@</span></span> <span class=\"opt_weather_state\"><span class=\"opt_time\"><time datetime=\"@fulldate@\">@5@</time></span></span> </span> </a> </div> </script> <script type=\"text/template\" id=\"_atcmp_answer_17\"> <div class=\"add_opt _item\" data-sm=\"@2@\" data-keyword=\"@1@\" data-template_id=\"@0@\" data-acir=\"@rank@\"> <a href=\"@5@\" target=\"_blank\" class=\"opt_shortcut\"> <span class=\"opt_url\">@display_link@</span> <span class=\"opt_txt\">사이트로 바로 이동</span> </a> </div> </script> <script type=\"text/template\" id=\"_atcmp_answer_20\"></script> <script type=\"text/template\" id=\"_atcmp_intend\"> <div class=\"add_opt type_context _item\" data-sm=\"asct\" data-keyword=\"@transquery@\" data-acir=\"@rank@\"> <a href=\"#\" class=\"opt_context\"> <span class=\"opt_tit\"><strong>@query@</strong></span> <span class=\"opt_sub\">@intend@</span> </a> </div> </script> <script type=\"text/template\" id=\"_atcmp_result_item_tpl\"> <li class=\"_item @url_class@\" data-acr=\"@rank@\"> <a href=\"#\" class=\"atcmp_keyword\" onclick=\"return false;\" title=\"\"><span class=\"atcmp_keyword_txt\">@txt@<span class=\"spat ic_expand\"></span></span></a> <a href=\"@url@\" target=\"_blank\" class=\"mquick\">바로이동</a> <span style=\"display:none\">@in_txt@</span> </li> </script> <script type=\"text/template\" id=\"_atcmp_keyword_highlight_tpl\"> @mismatch_before@<strong>@match@</strong>@mismatch_after@ </script> <script type=\"text/template\" id=\"_atcmp_keyword_partial_match_highlight_tpl\"> @mismatch_before@<strong>@match@</strong>@mismatch_after@ </script> <script type=\"text/javascript\"> /* [PR] 서비스에서 사용하는 클릭로그함수 설정 */ window.__atcmpCR = function(we, el, name, order, areaCode, rank) { var htAreaCode = __ghtAutoCompleteConfig[\"htAreaCode\"]; if(typeof htAreaCode[name] !== \\'undefined\\') { var areaCode = htAreaCode[name][0]; var rank = htAreaCode[name][1]; if(areaCode !== \\'\\') { tCR(\\'a=\\'+areaCode+\\'&u=\\'+urlencode(el.href)); /* clickcr(el, areaCode, rank, \\'\\', we); */ /* console.log(areaCode + rank); */ } } return false; }; /* [PR] 서비스별로 form submit 전에 처리해야하는 내용은 이곳에 작성해주세요. */ window.__atcmpSubmitBefore = function(elForm) { try { top.nx_form_submit(elForm); } catch (e) { try { nx_form_submit(elForm); } catch (e) {} } }; /* [PR] 각 서비스별 옵션 : 로그인여부는 pr에서 정의필요합니다. */ window.__ghtAutoCompleteConfig = { /* 자동완성 설정 (Top&Bottom) */ \"bLogin\" : false, /* 로그인 여부 */ \"sFromWhere\" : \\'nx\\', /* 검색 출처 (폼전송시 함께 전송) */ \"nStrMax\" : 55, /* 최대 말줄임 길이 */ \"sCookie\" : \\'NaverSuggestUse\\', /* 사용 쿠키명 */ \"htApiUrl\" : { /* 자동완성 API 정보 */ \"sMyKeyword\" : \\'https://s.search.naver.com/n/mykeyword/search\\', \"sAcKeyword\" : \\'//ac.search.naver.com/nx/ac\\', \"sAcAnsType\" : \\'2\\' /* 1 : 기존정답형만 lookup (탭검인 경우 1로 설정) */ }, \"ahtOption\" : [ { \"sOrder\" : \"asc\", /* 정렬방식 (asc/desc) */ \"sFormId\" : \\'nx_search_form\\', /* 폼엘리먼트 ID */ \"sInputId\" : \\'nx_query\\', /* 입력창 엘리먼트 ID */ \"sViewId\" : \\'nx_autoframe_top\\', /* 자동완성 레이어 ID */ \"sViewToggleButtonId\" : \\'nautocomplete\\' /* 레이어토글 버튼 ID */ } ,{ \"sOrder\" : \"desc\", /* 정렬방식 (asc/desc) */ \"sFormId\" : \\'nx_search_form_btm\\', /* 폼엘리먼트 ID */ \"sInputId\" : \\'nx_query_btm\\', /* 입력창 엘리먼트 ID */ \"sViewId\" : \\'nx_autoframe_btm\\', /* 자동완성 레이어 ID */ \"sViewToggleButtonId\" : \\'nautocomplete_btm\\' /* 레이어토글 버튼 ID */ } ], \"htButtonImg\" : { \"show\" : \"https://ssl.pstatic.net/sstatic/search/2015/btn_atcmp_up.gif\", \"unuseShow\" : \"https://ssl.pstatic.net/sstatic/search/images11/btn_atcmp_up_off.gif\", \"hide\" : \"https://ssl.pstatic.net/sstatic/search/2015/btn_atcmp_down.gif\", \"unuse\" : \"https://ssl.pstatic.net/sstatic/search/images11/btn_atcmp_down_off2.gif\" }, /* 서비스별 클릭영역코드 매핑정보 (sch.xxx: 검색창영역, sug.xxx: 자동완성 영역, sly.xxx: 최근/내검색어 영역) */ \"htAreaCode\": { \"expand\": [\\'sch.expand\\', \\'0\\'], /* 우측 역삼각형 펼침 */ \"close\": [\\'sch.close\\', \\'0\\'], /* 우측 역삼각형 접힘 */ \"autokeyword\": [\\'\\', \\'\\'], /* 자동완성키워드 클릭 (종료: 폼액션으로 넘어가므로 클릭로그 대신 SM파라미터로 수집함) */ \"ansdirect\": [\\'sug.ansdirect\\', \\'\\'], /* 정답형 바로가기 (엔터/클릭) */ \"go1\": [\\'sug.go1\\', \\'\\'], /* 바로이동 클릭 */ \"go2\": [\\'sug.go2\\', \\'\\'], /* 바로이동 클릭 (하단영역이 있는 통검 및 SE통검 에서만 유효함) */ \"help\": [\\'sug.help\\', \\'\\'], /* 도움말 클릭 */ \"report\": [\\'sug.report\\', \\'\\'], /* 신고 클릭 */ \"sugoff\": [\\'sug.sugoff\\', \\'\\'], /* 자동완성 끄기 클릭 */ \"sugon\": [\\'sug.sugon\\', \\'\\'], /* 자동완성 켜기 클릭 */ \"plus.close\": [\\'sug.cxhide\\', \\'\\'], /* 자동완성 플러스 닫기버튼 */ \"plus.login\": [\\'sug.cxlogin\\', \\'\\'], /* 자동완성 플러스 로그인 버튼 */ \"plus.detail\": [\\'sug.cxlink\\', \\'\\'], /* 자동완성 플러스 자세히 버튼 */ \"plus.help\": [\\'sug.cxhelp\\', \\'\\'], /* 자동완성 플러스 도움말 */ \"plus.use\": [\\'sug.cxon\\', \\'\\'], /* 자동완성 플러스 사용 */ \"plus.unuse\": [\\'sug.cxoff\\', \\'\\'], /* 자동완성 플러스 사용안함 */ \"saveoff\": [\\'sug.saveoff\\', \\'\\'], /* 검색어저장 끄기 클릭 */ \"saveon\": [\\'sug.saveon\\', \\'\\'], /* 검색어저장 켜기 클릭 */ \"rtab\": [\\'sly.rtab\\', \\'\\'], /* 최근검색어 탭 클릭 */ \"mytab\": [\\'sly.mytab\\', \\'\\'], /* 내검색어 탭 클릭 */ \"rx\": [\\'sly.rx\\', \\'\\'], /* 최근검색어 개별삭제 클릭 */ \"rdel\": [\\'sly.rdel\\', \\'\\'], /* 최근검색어 기록삭제 클릭 */ \"rdelend\": [\\'sly.rdelend\\', \\'\\'], /* 최근검색어 완료 클릭 */ \"ralldel\": [\\'sly.ralldel\\', \\'\\'], /* 최근검색어 전체삭제 클릭 */ \"myalldel\": [\\'sly.myalldel\\', \\'\\'], /* 내검색어 전체삭제 */ \"mydel\": [\\'sly.mydel\\', \\'\\'], /* 내검색어 삭제 */ \"myadd\": [\\'sly.myadd\\', \\'\\'] /* 내검색어 등록 */ }, /* 서비스별 SM파라미터 매핑정보 * sm파라미터 추가시 https://oss.navercorp.com/sau-pc/naver_autocomplete/issues/19 확인 필요 */ \"htSmParam\" : { \"hty\" : \\'tab_hty.top\\', /* sm 파라미터 초기값 */ \"htyb\" : \\'tab_hty.btm\\', /* sm 파라미터 초기값(검색창 하단) */ \"hst\" : \\'tab_sly.hst\\', /* 최근검색키워드 */ \"my\" : \\'tab_sly.my\\', /* 내검색키워드 */ \"prefix\" : \\'tab_sug\\', /* sm 파라미터 서비스별 prefix */ \"top\" : \\'tab_sug.top\\', /* 자동완성키워드 */ \"btm\" : \\'tab_sug.btm\\', /* 자동완성키워드 (역순) */ \"pat\" : \\'tab_sug.pat\\', /* 자동완성키워드 (부분자동완성) */ \"mbk\" : \\'tab_sug.mbk\\', /* 자동완성키워드 (오타교정자동완성) */ \"nlq\" : \\'tab_sug.nlq\\', /* 자연어검색 */ \"asgl\" : \\'tab_sug.asgl\\', /* 1국가번호 (한국 국가번호) */ \"asga\" : \\'tab_sug.asga\\', /* 1국가번호 다른중복지역 */ \"aslt\" : \\'tab_sug.aslt\\', /* 3로또당첨번호 */ \"aspl\" : \\'tab_sug.aspl\\', /* 6연금복권당첨번호 */ \"astm\" : \\'tab_sug.astm\\', /* 7영업시간 (신한은행 영업시간) */ \"ast\" : \\'tab_sug.ast\\', /* 8전화번호 (국세청 전화번호) */ \"ase\" : \\'tab_sug.ase\\', /* 9환율 (엔화환율) */ \"aswt\" : \\'tab_sug.aswt\\', /* 10해외날씨 (일본날씨) */ \"asis\" : \\'tab_sug.asis\\', /* 12올림픽순위 */ \"extension\" : \\'tab_sug.search\\' /* 검색기반 자동완성 */ } }; </script> <script type=\"text/javascript\"> /* 자동완성 객체 생성 (Top & Bottom) */ new nhn.common.atcmp.naver_web.Controller(__ghtAutoCompleteConfig).attach({ onSelect : function(oCustomEvent) {__atcmpSubmitBefore(oCustomEvent.elForm);}, onClickLog : function(oCustomEvent) {__atcmpCR(oCustomEvent.event, oCustomEvent.element, oCustomEvent.name, oCustomEvent.order, \\'\\', \\'\\');} }); </script> </div> <script type=\"text/javascript\"> (function() { var needFix = navigator.userAgent.toLowerCase().indexOf(\\'webkit\\') > -1; d = document; if (!needFix || !d.querySelectorAll) return; var toArray = function(list){ var armap=[]; i=0; for(;i<list.length;++i){ armap.push(list[i]); } return Array.prototype.slice.call(armap, 0); } ; window.addEventListener(\\'load\\', function() { toArray(d.querySelectorAll(\\'#u_skip a\\')).forEach(function(el) { el.addEventListener(\\'click\\', function() { var target = d.getElementById(this.href.split(\\'#\\')[1]); oldTabIndex = target.getAttribute(\\'tabindex\\'); oldOutlineWidth = d.defaultView.getComputedStyle(target, null).getPropertyValue(\\'outline-width\\'); target.setAttribute(\\'tabindex\\', 0); target.style.outlineWidth = 0; target.focus(); if (oldTabIndex === null) target.removeAttribute(\\'tabindex\\'); else target.setAttribute(\\'tabindex\\', oldTabIndex); }, false); }); }, false); })(); </script><script type=\"text/javascript\"> if(typeof nx_usain_beacon !== \\'undefined\\') {  $Fn(function () { nx_usain_beacon.send(); }).attach(window, \"load\") ; } </script></body> </html>'"
      ]
     },
     "execution_count": 662,
     "metadata": {},
     "output_type": "execute_result"
    }
   ],
   "source": [
    "url = \"https://search.naver.com/search.naver?sm=tab_hty.top&where=nexearch&query=%EB%B0%95%EB%B3%B4%EC%98%81\"\n",
    "\n",
    "headers = {\"user-agent\":\"Mozilla/5.0 (Windows NT 10.0; Win64; x64) AppleWebKit/537.36 (KHTML, like Gecko) Chrome/75.0.3770.100 Safari/537.36\"}\n",
    "\n",
    "html = download(\"get\", url)\n",
    "\n",
    "# html.encoding = 'utf-8'\n",
    "# html.text\n",
    "unescape(html.text) # unescape 한국어 변환"
   ]
  },
  {
   "cell_type": "markdown",
   "metadata": {},
   "source": [
    "result = re.findall(r'\\B<div class=\"r\"> <a href = \"(.+?) .+?>\"\\B<h3 .+?>(.+?)</h3>', unescape(html.text)) <br>\n",
    "len(result), [{\"title\": row[1]}, \"url\": row[0]]"
   ]
  },
  {
   "cell_type": "code",
   "execution_count": 663,
   "metadata": {},
   "outputs": [],
   "source": [
    "import re"
   ]
  },
  {
   "cell_type": "code",
   "execution_count": 664,
   "metadata": {},
   "outputs": [
    {
     "data": {
      "text/plain": [
       "(8,\n",
       " [{'title': '\"http://www.upkorea.net/news/articleView.html?idxno=594716\" target=\"_blank\" class=\"_sp_each_url _sp_each_title\" onclick=\"return goOtherCR(this, \\'a=nws_all*f.tit&r=1&i=88000138_000000000000000000190162&g=5022.0000190162&u=\\'+urlencode(this.href));\" title=\"박보영 주연의 &#39;너의 결혼식&#39; 07월 12일 16시 40분 OCN 방영\"',\n",
       "   'url': 'http://www.upkorea.net/news/articleView.html?idxno=594716'},\n",
       "  {'title': '\"http://www.lecturernews.com/news/articleView.html?idxno=21949\" target=\"_blank\" class=\"_sp_each_url _sp_each_title\" onclick=\"return goOtherCR(this, \\'a=nws_all*f.tit&r=2&i=881830f6_000000000000000000015305&g=5566.0000015305&u=\\'+urlencode(this.href));\" title=\"영화 &lt;너의 결혼식&gt; &quot;이석근 감독, 박보영·김영광 주연의 첫사랑 연대기를 그린 로맨스작품&quot;\"',\n",
       "   'url': 'http://www.lecturernews.com/news/articleView.html?idxno=21949'},\n",
       "  {'title': '\"http://viewers.heraldcorp.com/news/articleView.html?idxno=39209\" target=\"_blank\" class=\"_sp_each_url _sp_each_title\" onclick=\"return goOtherCR(this, \\'a=nws_all*f.tit&r=3&i=88184308_000000000000000000021370&g=5597.0000021370&u=\\'+urlencode(this.href));\" title=\"[유명준의 시선] &#39;정법&#39;, 2013년 박보영 vs 2019년 이열음\"',\n",
       "   'url': 'http://viewers.heraldcorp.com/news/articleView.html?idxno=39209'},\n",
       "  {'title': '\"http://star.mt.co.kr/stview.php?no=2019071016145539514\" target=\"_blank\" class=\" _sp_each_title\" onclick=\"return goOtherCR(this, \\'a=nws_all*e.tit&r=4&i=880000C3_000000000000000002796054&g=108.0002796054&u=\\'+urlencode(this.href));\" title=\"tvN &#39;어비스&#39; 마지막 촬영는 어디? 퍼스트가든 화제\"',\n",
       "   'url': 'http://star.mt.co.kr/stview.php?no=2019071016145539514'},\n",
       "  {'title': '\"http://www.fnnews.com/news/201906101356597087\" target=\"_blank\" class=\" _sp_each_title\" onclick=\"return goOtherCR(this, \\'a=nws_all*a.tit&r=5&i=880000FF_000000000000000004242290&g=014.0004242290&u=\\'+urlencode(this.href));\" title=\"‘어비스’ 박보영, 권수현과 강렬 눈빛 대립\"',\n",
       "   'url': 'http://www.fnnews.com/news/201906101356597087'},\n",
       "  {'title': '\"https://cafe.naver.com/nexontv/2051803\" target=\"_blank\" class=\"sh_cafe_title\" title=\"\" onclick=\"return goOtherCR(this, \\'a=caf_bas*a.tit&r=1&i=90000004_017D257F001F4EDB00000000&u=\\'+urlencode(urlexpand(this.href)));\"',\n",
       "   'url': 'https://cafe.naver.com/nexontv/2051803'},\n",
       "  {'title': '\"https://cafe.naver.com/cosmania/25949923\" target=\"_blank\" class=\"sh_cafe_title\" title=\"\" onclick=\"return goOtherCR(this, \\'a=caf_bas*a.tit&r=2&i=90000004_00995CFD018BF6E300000000&u=\\'+urlencode(urlexpand(this.href)));\"',\n",
       "   'url': 'https://cafe.naver.com/cosmania/25949923'},\n",
       "  {'title': '\"https://cafe.naver.com/fox5282/2475331\" target=\"_blank\" class=\"sh_cafe_title\" title=\"\" onclick=\"return goOtherCR(this, \\'a=caf_bas*a.tit&r=3&i=90000004_00BB76010025C54300000000&u=\\'+urlencode(urlexpand(this.href)));\"',\n",
       "   'url': 'https://cafe.naver.com/fox5282/2475331'}])"
      ]
     },
     "execution_count": 664,
     "metadata": {},
     "output_type": "execute_result"
    }
   ],
   "source": [
    "result = re.findall(r'<div class=\"thumb\"><a href=\"(.+?)\".+?<a href=(.+?)>', html.text)\n",
    "len(result), [{\"title\":row[1], \"url\":row[0]} for row in result]"
   ]
  },
  {
   "cell_type": "markdown",
   "metadata": {},
   "source": [
    "result = re.findall(r'\\B<ul class=\"type01\">(.+?)<li id=\"sp_nws_all[1-9]\">(.+?)<dt><a href=\"(.+?)\" target=\"_blank\" class=\"(.+?)\".*>(.+?)</a>', unescape(html.text))\n",
    "len(result), [{\"title\":row[1], \"url\":row[0]} for row in result]"
   ]
  },
  {
   "cell_type": "markdown",
   "metadata": {},
   "source": [
    "## DOM\n",
    "- String 형태로 오면 parser을 통해서 DOM 형태로 만드는 것 \n",
    "\n",
    "* HTML \n",
    "\n",
    "* JS\n",
    "\n",
    "* CSS\n"
   ]
  },
  {
   "cell_type": "markdown",
   "metadata": {},
   "source": [
    "!pip install beautifulsoup4\n",
    "\n",
    "Beautifulsoup -> regural expression (정규표현식) 잘 못쓰는 사람들을 위해 \n",
    "lxml: If you can, I recommend you install and use lxml for speed "
   ]
  },
  {
   "cell_type": "code",
   "execution_count": 4,
   "metadata": {},
   "outputs": [],
   "source": [
    "from bs4 import BeautifulSoup"
   ]
  },
  {
   "cell_type": "markdown",
   "metadata": {},
   "source": [
    "Document - HTML - HEAD\n",
    "                - BODY - DIV - P - A"
   ]
  },
  {
   "cell_type": "code",
   "execution_count": 91,
   "metadata": {},
   "outputs": [],
   "source": [
    "html=\"\"\"\n",
    "<html>\n",
    "    <head></head>\n",
    "    <body>\n",
    "        <div>\n",
    "            <p>\n",
    "                <a> go to  page</a>\n",
    "            </p>\n",
    "        </div>\n",
    "    </body>\n",
    "</html>\n",
    "\"\"\""
   ]
  },
  {
   "cell_type": "code",
   "execution_count": 92,
   "metadata": {},
   "outputs": [],
   "source": [
    "dom = BeautifulSoup(html, \"lxml\") # dom 객체 하나 생성 "
   ]
  },
  {
   "cell_type": "code",
   "execution_count": 107,
   "metadata": {},
   "outputs": [
    {
     "data": {
      "text/plain": [
       "<a class=\"red\">go to page1</a>"
      ]
     },
     "execution_count": 107,
     "metadata": {},
     "output_type": "execute_result"
    }
   ],
   "source": [
    "dom.a"
   ]
  },
  {
   "cell_type": "code",
   "execution_count": 231,
   "metadata": {},
   "outputs": [],
   "source": [
    "# 띄어쓰기는 원래 한칸씩만 하는 것 \n",
    "html=\"\"\"\n",
    "<html>\n",
    "    <head><head/>\n",
    "    <body>\n",
    "        <div id=\"result\">\n",
    "            <p class=\"row\">\n",
    "                <a class=\"red\">go to page1</a>\n",
    "                <a class=\"blue\">go to page2</a>\n",
    "            </p>\n",
    "        </div>\n",
    "    </body>\n",
    "</html>\n",
    "\"\"\""
   ]
  },
  {
   "cell_type": "code",
   "execution_count": 232,
   "metadata": {},
   "outputs": [],
   "source": [
    "dom = BeautifulSoup(html, \"lxml\")"
   ]
  },
  {
   "cell_type": "code",
   "execution_count": 233,
   "metadata": {
    "scrolled": true
   },
   "outputs": [
    {
     "data": {
      "text/plain": [
       "<list_iterator at 0x1e22b844a20>"
      ]
     },
     "execution_count": 233,
     "metadata": {},
     "output_type": "execute_result"
    }
   ],
   "source": [
    "dom.a.children"
   ]
  },
  {
   "cell_type": "code",
   "execution_count": 225,
   "metadata": {
    "scrolled": true
   },
   "outputs": [
    {
     "data": {
      "text/plain": [
       "<list_iterator at 0x1e22be68198>"
      ]
     },
     "execution_count": 225,
     "metadata": {},
     "output_type": "execute_result"
    }
   ],
   "source": [
    "dom.p.children # (?) "
   ]
  },
  {
   "cell_type": "code",
   "execution_count": 181,
   "metadata": {
    "scrolled": true
   },
   "outputs": [
    {
     "data": {
      "text/plain": [
       "'result'"
      ]
     },
     "execution_count": 181,
     "metadata": {},
     "output_type": "execute_result"
    }
   ],
   "source": [
    "dom.div[\"id\"]"
   ]
  },
  {
   "cell_type": "code",
   "execution_count": 182,
   "metadata": {},
   "outputs": [
    {
     "data": {
      "text/plain": [
       "{'class': ['red']}"
      ]
     },
     "execution_count": 182,
     "metadata": {},
     "output_type": "execute_result"
    }
   ],
   "source": [
    "dom.div.p.a.attrs"
   ]
  },
  {
   "cell_type": "code",
   "execution_count": 183,
   "metadata": {
    "scrolled": true
   },
   "outputs": [
    {
     "data": {
      "text/plain": [
       "['red']"
      ]
     },
     "execution_count": 183,
     "metadata": {},
     "output_type": "execute_result"
    }
   ],
   "source": [
    "dom.div.p.a[\"class\"]"
   ]
  },
  {
   "cell_type": "code",
   "execution_count": 177,
   "metadata": {
    "scrolled": true
   },
   "outputs": [
    {
     "name": "stdout",
     "output_type": "stream",
     "text": [
      "<class 'bs4.element.NavigableString'> \n",
      "\n",
      "<class 'bs4.element.Tag'> <a class=\"red\">go to page1</a>\n",
      "<class 'bs4.element.NavigableString'> \n",
      "\n",
      "<class 'bs4.element.Tag'> <a class=\"blue\">go to page2</a>\n",
      "<class 'bs4.element.NavigableString'> \n",
      "\n"
     ]
    }
   ],
   "source": [
    "for __ in dom.p.children:\n",
    "    print(type(__), __)\n",
    "# 한칸 띄어쓰기를 하지 않아서 string으로 된 것 "
   ]
  },
  {
   "cell_type": "code",
   "execution_count": 223,
   "metadata": {
    "scrolled": true
   },
   "outputs": [
    {
     "data": {
      "text/plain": [
       "{'id': 'result'}"
      ]
     },
     "execution_count": 223,
     "metadata": {},
     "output_type": "execute_result"
    }
   ],
   "source": [
    "dom.div.attrs"
   ]
  },
  {
   "cell_type": "code",
   "execution_count": 179,
   "metadata": {},
   "outputs": [
    {
     "name": "stdout",
     "output_type": "stream",
     "text": [
      "<class 'bs4.element.NavigableString'> \n",
      "\n",
      "<class 'bs4.element.Tag'> <a class=\"red\">go to page1</a>\n",
      "<class 'bs4.element.NavigableString'> \n",
      "\n",
      "<class 'bs4.element.Tag'> <a class=\"blue\">go to page2</a>\n",
      "<class 'bs4.element.NavigableString'> \n",
      "\n"
     ]
    }
   ],
   "source": [
    "for __ in [x for x in dom.p.children]:\n",
    "    print(type(__), __)"
   ]
  },
  {
   "cell_type": "code",
   "execution_count": 221,
   "metadata": {},
   "outputs": [
    {
     "data": {
      "text/plain": [
       "{'class': ['blue']}"
      ]
     },
     "execution_count": 221,
     "metadata": {},
     "output_type": "execute_result"
    }
   ],
   "source": [
    "[x for x in dom.p.children][3].attrs # 1: red / 3: blue -> 뒤에 \\n이 붙여있는 것"
   ]
  },
  {
   "cell_type": "code",
   "execution_count": 184,
   "metadata": {},
   "outputs": [
    {
     "data": {
      "text/plain": [
       "[<a class=\"red\">go to page1</a>, <a class=\"blue\">go to page2</a>]"
      ]
     },
     "execution_count": 184,
     "metadata": {},
     "output_type": "execute_result"
    }
   ],
   "source": [
    "# text를 가지고 찾는 방법\n",
    "# find \n",
    "# find_all # list로 반환\n",
    "\n",
    "dom.find_all('a')"
   ]
  },
  {
   "cell_type": "code",
   "execution_count": 188,
   "metadata": {},
   "outputs": [
    {
     "data": {
      "text/plain": [
       "[<div id=\"result\">\n",
       " <p class=\"row\">\n",
       " <a class=\"red\">go to page1</a>\n",
       " <a class=\"blue\">go to page2</a>\n",
       " </p>\n",
       " </div>, <p class=\"row\">\n",
       " <a class=\"red\">go to page1</a>\n",
       " <a class=\"blue\">go to page2</a>\n",
       " </p>]"
      ]
     },
     "execution_count": 188,
     "metadata": {},
     "output_type": "execute_result"
    }
   ],
   "source": [
    "dom.find_all({'div','p'})"
   ]
  },
  {
   "cell_type": "code",
   "execution_count": 189,
   "metadata": {},
   "outputs": [
    {
     "data": {
      "text/plain": [
       "[<div id=\"result\">\n",
       " <p class=\"row\">\n",
       " <a class=\"red\">go to page1</a>\n",
       " <a class=\"blue\">go to page2</a>\n",
       " </p>\n",
       " </div>]"
      ]
     },
     "execution_count": 189,
     "metadata": {},
     "output_type": "execute_result"
    }
   ],
   "source": [
    "dom.find_all('div',{'id':'result'})"
   ]
  },
  {
   "cell_type": "code",
   "execution_count": 192,
   "metadata": {},
   "outputs": [
    {
     "data": {
      "text/plain": [
       "[<a class=\"red\">go to page1</a>]"
      ]
     },
     "execution_count": 192,
     "metadata": {},
     "output_type": "execute_result"
    }
   ],
   "source": [
    "dom.find_all('',attrs={'class':'red'})"
   ]
  },
  {
   "cell_type": "code",
   "execution_count": 193,
   "metadata": {},
   "outputs": [
    {
     "data": {
      "text/plain": [
       "[]"
      ]
     },
     "execution_count": 193,
     "metadata": {},
     "output_type": "execute_result"
    }
   ],
   "source": [
    "dom.find_all('a',recursive=False)"
   ]
  },
  {
   "cell_type": "code",
   "execution_count": 194,
   "metadata": {},
   "outputs": [
    {
     "data": {
      "text/plain": [
       "['go to page1']"
      ]
     },
     "execution_count": 194,
     "metadata": {},
     "output_type": "execute_result"
    }
   ],
   "source": [
    "dom.find_all(text = 'go to page1')"
   ]
  },
  {
   "cell_type": "code",
   "execution_count": 208,
   "metadata": {},
   "outputs": [
    {
     "data": {
      "text/plain": [
       "[<a class=\"red\">go to page1</a>, <a class=\"blue\">go to page2</a>]"
      ]
     },
     "execution_count": 208,
     "metadata": {},
     "output_type": "execute_result"
    }
   ],
   "source": [
    "dom.find_all('a',limit=2)"
   ]
  },
  {
   "cell_type": "code",
   "execution_count": 226,
   "metadata": {},
   "outputs": [],
   "source": [
    "# find_parent : 부모 속성 하나만 보여주는 것\n",
    "# find-parents : 여러개 보여주는 것\n",
    "\n",
    "# find_all\n",
    "# find_all(recursive=false)\n",
    "\n",
    "# find_next_sibling, find_previous_sibling # 카멜 버전은 이전버전\n",
    "# find_next_siglings, find_previous_sibling"
   ]
  },
  {
   "cell_type": "code",
   "execution_count": 235,
   "metadata": {},
   "outputs": [
    {
     "data": {
      "text/plain": [
       "<bound method PageElement.find_next_siblings of <p class=\"row\">\n",
       "<a class=\"red\">go to page1</a>\n",
       "<a class=\"blue\">go to page2</a>\n",
       "</p>>"
      ]
     },
     "execution_count": 235,
     "metadata": {},
     "output_type": "execute_result"
    }
   ],
   "source": [
    "dom.p.find_next_siblings"
   ]
  },
  {
   "cell_type": "code",
   "execution_count": 237,
   "metadata": {},
   "outputs": [
    {
     "data": {
      "text/plain": [
       "<bound method PageElement.find_parent of <p class=\"row\">\n",
       "<a class=\"red\">go to page1</a>\n",
       "<a class=\"blue\">go to page2</a>\n",
       "</p>>"
      ]
     },
     "execution_count": 237,
     "metadata": {},
     "output_type": "execute_result"
    }
   ],
   "source": [
    "dom.p.find_parent"
   ]
  },
  {
   "cell_type": "code",
   "execution_count": 252,
   "metadata": {},
   "outputs": [],
   "source": [
    "html=\"\"\"\n",
    "<html>\n",
    "    <head><head/>\n",
    "    <body>\n",
    "        <div id=\"result\">\n",
    "            <p class=\"row\">\n",
    "                <a class=\"red\"><a></a></a>\n",
    "                <a class=\"blue\">go to page2</a>\n",
    "            </p>\n",
    "        </div>\n",
    "    </body>\n",
    "</html>\n",
    "\"\"\""
   ]
  },
  {
   "cell_type": "code",
   "execution_count": 253,
   "metadata": {},
   "outputs": [],
   "source": [
    "dom = BeautifulSoup(html, \"lxml\")"
   ]
  },
  {
   "cell_type": "code",
   "execution_count": 254,
   "metadata": {
    "scrolled": true
   },
   "outputs": [
    {
     "data": {
      "text/plain": [
       "<list_iterator at 0x1e22bbe03c8>"
      ]
     },
     "execution_count": 254,
     "metadata": {},
     "output_type": "execute_result"
    }
   ],
   "source": [
    "dom.a.children"
   ]
  },
  {
   "cell_type": "code",
   "execution_count": 255,
   "metadata": {
    "scrolled": true
   },
   "outputs": [
    {
     "data": {
      "text/plain": [
       "<list_iterator at 0x1e22bbe0fd0>"
      ]
     },
     "execution_count": 255,
     "metadata": {},
     "output_type": "execute_result"
    }
   ],
   "source": [
    "dom.p.children # (?) "
   ]
  },
  {
   "cell_type": "code",
   "execution_count": 256,
   "metadata": {
    "scrolled": true
   },
   "outputs": [
    {
     "data": {
      "text/plain": [
       "3"
      ]
     },
     "execution_count": 256,
     "metadata": {},
     "output_type": "execute_result"
    }
   ],
   "source": [
    "len(dom.p.find_all(recursive=False))"
   ]
  },
  {
   "cell_type": "code",
   "execution_count": 263,
   "metadata": {},
   "outputs": [
    {
     "data": {
      "text/plain": [
       "[]"
      ]
     },
     "execution_count": 263,
     "metadata": {},
     "output_type": "execute_result"
    }
   ],
   "source": [
    "dom.p.a.find_all(\"a\",recursive=False)"
   ]
  },
  {
   "cell_type": "code",
   "execution_count": 260,
   "metadata": {},
   "outputs": [
    {
     "data": {
      "text/plain": [
       "(3, 3)"
      ]
     },
     "execution_count": 260,
     "metadata": {},
     "output_type": "execute_result"
    }
   ],
   "source": [
    "len(dom.find_all(\"a\")),\\\n",
    "len(dom.p.find_all(\"a\",recursive=False))"
   ]
  },
  {
   "cell_type": "code",
   "execution_count": 261,
   "metadata": {},
   "outputs": [
    {
     "data": {
      "text/plain": [
       "<html>\n",
       "<head></head>\n",
       "<body>\n",
       "<div id=\"result\">\n",
       "<p class=\"row\">\n",
       "<a class=\"red\"></a><a></a>\n",
       "<a class=\"blue\">go to page2</a>\n",
       "</p>\n",
       "</div>\n",
       "</body></html>"
      ]
     },
     "execution_count": 261,
     "metadata": {},
     "output_type": "execute_result"
    }
   ],
   "source": [
    "dom"
   ]
  },
  {
   "cell_type": "code",
   "execution_count": 264,
   "metadata": {},
   "outputs": [
    {
     "data": {
      "text/plain": [
       "['p', 'p', 'p']"
      ]
     },
     "execution_count": 264,
     "metadata": {},
     "output_type": "execute_result"
    }
   ],
   "source": [
    "[_.find_parent().name for _ in dom.find_all(\"a\")] # a 안에 자식으로 인식을 못했다는 것 "
   ]
  },
  {
   "cell_type": "code",
   "execution_count": 265,
   "metadata": {},
   "outputs": [],
   "source": [
    "html=\"\"\"\n",
    "<html>\n",
    "    <head><head/>\n",
    "    <body>\n",
    "        <div id=\"result\">\n",
    "            <p class=\"row\">\n",
    "                <a class=\"red\">123</a>\n",
    "                <a class=\"blue\">go to page2</a>\n",
    "                <div><a></a></div>\n",
    "            </p>\n",
    "        </div>\n",
    "    </body>\n",
    "</html>\n",
    "\"\"\""
   ]
  },
  {
   "cell_type": "code",
   "execution_count": 291,
   "metadata": {
    "scrolled": true
   },
   "outputs": [
    {
     "name": "stdout",
     "output_type": "stream",
     "text": [
      "<html>\n",
      " <head>\n",
      "  <head>\n",
      "  </head>\n",
      "  <body>\n",
      "   <div id=\"result\">\n",
      "    <p class=\"row\">\n",
      "     <a class=\"red\">\n",
      "      123\n",
      "     </a>\n",
      "     <a class=\"blue\">\n",
      "      go to page2\n",
      "     </a>\n",
      "     <div>\n",
      "      <a>\n",
      "      </a>\n",
      "     </div>\n",
      "    </p>\n",
      "   </div>\n",
      "  </body>\n",
      " </head>\n",
      "</html>\n",
      "\n"
     ]
    }
   ],
   "source": [
    "dom = BeautifulSoup(html, \"html.parser\") # html.parse를 바꾼다.\n",
    "print(dom.prettify())"
   ]
  },
  {
   "cell_type": "code",
   "execution_count": 284,
   "metadata": {
    "scrolled": false
   },
   "outputs": [
    {
     "data": {
      "text/plain": [
       "3"
      ]
     },
     "execution_count": 284,
     "metadata": {},
     "output_type": "execute_result"
    }
   ],
   "source": [
    "len(dom.p.find_all(recursive=False)) # recursive가 부모가 같은 애들만 찾도록 한 것 "
   ]
  },
  {
   "cell_type": "code",
   "execution_count": 285,
   "metadata": {},
   "outputs": [
    {
     "data": {
      "text/plain": [
       "4"
      ]
     },
     "execution_count": 285,
     "metadata": {},
     "output_type": "execute_result"
    }
   ],
   "source": [
    "len(dom.p.find_all(recursive=True))"
   ]
  },
  {
   "cell_type": "code",
   "execution_count": 286,
   "metadata": {},
   "outputs": [
    {
     "data": {
      "text/plain": [
       "<bound method Tag.find_all of <p class=\"row\">\n",
       "<a class=\"red\">123</a>\n",
       "<a class=\"blue\">go to page2</a>\n",
       "<div><a></a></div>\n",
       "</p>>"
      ]
     },
     "execution_count": 286,
     "metadata": {},
     "output_type": "execute_result"
    }
   ],
   "source": [
    "dom.p.find_all"
   ]
  },
  {
   "cell_type": "code",
   "execution_count": 287,
   "metadata": {},
   "outputs": [
    {
     "data": {
      "text/plain": [
       "['p', 'p', 'div']"
      ]
     },
     "execution_count": 287,
     "metadata": {},
     "output_type": "execute_result"
    }
   ],
   "source": [
    "[_.find_parent().name for _ in dom.find_all(\"a\")] # a 안에 자식으로 인식을 못했다는 것 "
   ]
  },
  {
   "cell_type": "code",
   "execution_count": 288,
   "metadata": {},
   "outputs": [
    {
     "data": {
      "text/plain": [
       "(3, 2)"
      ]
     },
     "execution_count": 288,
     "metadata": {},
     "output_type": "execute_result"
    }
   ],
   "source": [
    "len(dom.p.find_all(\"a\")),\\\n",
    "len(dom.p.find_all(\"a\",recursive=False))"
   ]
  },
  {
   "cell_type": "code",
   "execution_count": 289,
   "metadata": {},
   "outputs": [
    {
     "data": {
      "text/plain": [
       "[<a class=\"red\">123</a>, <a class=\"blue\">go to page2</a>, <a></a>]"
      ]
     },
     "execution_count": 289,
     "metadata": {},
     "output_type": "execute_result"
    }
   ],
   "source": [
    "dom.p.find_all(\"a\")"
   ]
  },
  {
   "cell_type": "code",
   "execution_count": 290,
   "metadata": {},
   "outputs": [
    {
     "data": {
      "text/plain": [
       "<p class=\"row\">\n",
       "<a class=\"red\">123</a>\n",
       "<a class=\"blue\">go to page2</a>\n",
       "<div><a></a></div>\n",
       "</p>"
      ]
     },
     "execution_count": 290,
     "metadata": {},
     "output_type": "execute_result"
    }
   ],
   "source": [
    "dom.p"
   ]
  },
  {
   "cell_type": "code",
   "execution_count": 292,
   "metadata": {},
   "outputs": [
    {
     "data": {
      "text/plain": [
       "<a class=\"red\">123</a>"
      ]
     },
     "execution_count": 292,
     "metadata": {},
     "output_type": "execute_result"
    }
   ],
   "source": [
    "dom.div.a"
   ]
  },
  {
   "cell_type": "code",
   "execution_count": 309,
   "metadata": {},
   "outputs": [
    {
     "data": {
      "text/plain": [
       "<div><a></a></div>"
      ]
     },
     "execution_count": 309,
     "metadata": {},
     "output_type": "execute_result"
    }
   ],
   "source": [
    "dom.p.div.a.find_parent()"
   ]
  },
  {
   "cell_type": "code",
   "execution_count": 307,
   "metadata": {},
   "outputs": [
    {
     "data": {
      "text/plain": [
       "'div'"
      ]
     },
     "execution_count": 307,
     "metadata": {},
     "output_type": "execute_result"
    }
   ],
   "source": [
    "dom.p.div.a.find_parent().name"
   ]
  },
  {
   "cell_type": "code",
   "execution_count": 310,
   "metadata": {
    "scrolled": true
   },
   "outputs": [
    {
     "data": {
      "text/plain": [
       "[<div><a></a></div>, <p class=\"row\">\n",
       " <a class=\"red\">123</a>\n",
       " <a class=\"blue\">go to page2</a>\n",
       " <div><a></a></div>\n",
       " </p>, <div id=\"result\">\n",
       " <p class=\"row\">\n",
       " <a class=\"red\">123</a>\n",
       " <a class=\"blue\">go to page2</a>\n",
       " <div><a></a></div>\n",
       " </p>\n",
       " </div>, <body>\n",
       " <div id=\"result\">\n",
       " <p class=\"row\">\n",
       " <a class=\"red\">123</a>\n",
       " <a class=\"blue\">go to page2</a>\n",
       " <div><a></a></div>\n",
       " </p>\n",
       " </div>\n",
       " </body>, <head><head></head>\n",
       " <body>\n",
       " <div id=\"result\">\n",
       " <p class=\"row\">\n",
       " <a class=\"red\">123</a>\n",
       " <a class=\"blue\">go to page2</a>\n",
       " <div><a></a></div>\n",
       " </p>\n",
       " </div>\n",
       " </body>\n",
       " </head>, <html>\n",
       " <head><head></head>\n",
       " <body>\n",
       " <div id=\"result\">\n",
       " <p class=\"row\">\n",
       " <a class=\"red\">123</a>\n",
       " <a class=\"blue\">go to page2</a>\n",
       " <div><a></a></div>\n",
       " </p>\n",
       " </div>\n",
       " </body>\n",
       " </head></html>, \n",
       " <html>\n",
       " <head><head></head>\n",
       " <body>\n",
       " <div id=\"result\">\n",
       " <p class=\"row\">\n",
       " <a class=\"red\">123</a>\n",
       " <a class=\"blue\">go to page2</a>\n",
       " <div><a></a></div>\n",
       " </p>\n",
       " </div>\n",
       " </body>\n",
       " </head></html>]"
      ]
     },
     "execution_count": 310,
     "metadata": {},
     "output_type": "execute_result"
    }
   ],
   "source": [
    "dom.p.div.a.find_parents()"
   ]
  },
  {
   "cell_type": "code",
   "execution_count": 311,
   "metadata": {},
   "outputs": [],
   "source": [
    "html=\"\"\"\n",
    "<html>\n",
    "    <head><head/>\n",
    "    <body>\n",
    "        <div id=\"result\">\n",
    "            <p class=\"row\">\n",
    "                <a class=\"red\">123</a>\n",
    "                <a class=\"blue\">go to page2</a>\n",
    "                <div><a></a></div>\n",
    "                <a class=\"blue\">go to page2</a>\n",
    "            </p>\n",
    "        </div>\n",
    "    </body>\n",
    "</html>\n",
    "\"\"\"\n",
    "\n",
    "dom = BeautifulSoup(html, \"html.parser\") # html.parse를 바꾼다."
   ]
  },
  {
   "cell_type": "code",
   "execution_count": 344,
   "metadata": {},
   "outputs": [
    {
     "data": {
      "text/plain": [
       "<bound method PageElement.find_previous_siblings of <p class=\"row\">\n",
       "<a class=\"red\">123</a>\n",
       "<a class=\"blue\">go to page2</a>\n",
       "<div><a></a></div>\n",
       "<a class=\"blue\">go to page2</a>\n",
       "</p>>"
      ]
     },
     "execution_count": 344,
     "metadata": {},
     "output_type": "execute_result"
    }
   ],
   "source": [
    "dom.div.a.find_parent().find_previous_siblings"
   ]
  },
  {
   "cell_type": "code",
   "execution_count": 343,
   "metadata": {},
   "outputs": [
    {
     "data": {
      "text/plain": [
       "<a class=\"blue\">go to page2</a>"
      ]
     },
     "execution_count": 343,
     "metadata": {},
     "output_type": "execute_result"
    }
   ],
   "source": [
    "dom.p.div.a.find_parent().find_next_sibling()"
   ]
  },
  {
   "cell_type": "code",
   "execution_count": 350,
   "metadata": {
    "scrolled": true
   },
   "outputs": [
    {
     "data": {
      "text/plain": [
       "<bound method Tag.find of \n",
       "<html class=\"gr__pythonscraping_com\"><head>\n",
       "<style>\n",
       "img{\n",
       "\twidth:75px;\n",
       "}\n",
       "table{\n",
       "\twidth:50%;\n",
       "}\n",
       "td{\n",
       "\tmargin:10px;\n",
       "\tpadding:10px;\n",
       "}\n",
       ".wrapper{\n",
       "\twidth:800px;\n",
       "}\n",
       ".excitingNote{\n",
       "\tfont-style:italic;\n",
       "\tfont-weight:bold;\n",
       "}\n",
       "</style>\n",
       "</head>\n",
       "<body data-gr-c-s-loaded=\"true\">\n",
       "<div id=\"wrapper\">\n",
       "<img src=\"../img/gifts/logo.jpg\" style=\"float:left;\"/>\n",
       "<h1>Totally Normal Gifts</h1>\n",
       "<div id=\"content\">Here is a collection of totally normal, totally reasonable gifts that your friends are sure to love! Our collection is\n",
       "hand-curated by well-paid, free-range Tibetan monks.<p>\n",
       "We haven't figured out how to make online shopping carts yet, but you can send us a check to:<br/>\n",
       "123 Main St.<br/>\n",
       "Abuja, Nigeria\n",
       "<br/>We will then send your totally amazing gift, pronto! Please include an extra $5.00 for gift wrapping.</p></div>\n",
       "<table id=\"giftList\">\n",
       "<tbody><tr><th>\n",
       "Item Title\n",
       "</th><th>\n",
       "Description\n",
       "</th><th>\n",
       "Cost\n",
       "</th><th>\n",
       "Image\n",
       "</th></tr>\n",
       "<tr class=\"gift\" id=\"gift1\"><td>\n",
       "Vegetable Basket\n",
       "</td><td>\n",
       "This vegetable basket is the perfect gift for your health conscious (or overweight) friends!\n",
       "<span class=\"excitingNote\">Now with super-colorful bell peppers!</span>\n",
       "</td><td>\n",
       "$15.00\n",
       "</td><td>\n",
       "<img src=\"../img/gifts/img1.jpg\"/>\n",
       "</td></tr>\n",
       "<tr class=\"gift\" id=\"gift2\"><td>\n",
       "Russian Nesting Dolls\n",
       "</td><td>\n",
       "Hand-painted by trained monkeys, these exquisite dolls are priceless! And by \"priceless,\" we mean \"extremely expensive\"! <span class=\"excitingNote\">8 entire dolls per set! Octuple the presents!</span>\n",
       "</td><td>\n",
       "$10,000.52\n",
       "</td><td>\n",
       "<img src=\"../img/gifts/img2.jpg\"/>\n",
       "</td></tr>\n",
       "<tr class=\"gift\" id=\"gift3\"><td>\n",
       "Fish Painting\n",
       "</td><td>\n",
       "If something seems fishy about this painting, it's because it's a fish! <span class=\"excitingNote\">Also hand-painted by trained monkeys!</span>\n",
       "</td><td>\n",
       "$10,005.00\n",
       "</td><td>\n",
       "<img src=\"../img/gifts/img3.jpg\"/>\n",
       "</td></tr>\n",
       "<tr class=\"gift\" id=\"gift4\"><td>\n",
       "Dead Parrot\n",
       "</td><td>\n",
       "This is an ex-parrot! <span class=\"excitingNote\">Or maybe he's only resting?</span>\n",
       "</td><td>\n",
       "$0.50\n",
       "</td><td>\n",
       "<img src=\"../img/gifts/img4.jpg\"/>\n",
       "</td></tr>\n",
       "<tr class=\"gift\" id=\"gift5\"><td>\n",
       "Mystery Box\n",
       "</td><td>\n",
       "If you love suprises, this mystery box is for you! Do not place on light-colored surfaces. May cause oil staining. <span class=\"excitingNote\">Keep your friends guessing!</span>\n",
       "</td><td>\n",
       "$1.50\n",
       "</td><td>\n",
       "<img src=\"../img/gifts/img6.jpg\"/>\n",
       "</td></tr>\n",
       "</tbody></table>\n",
       "<p></p>\n",
       "<div id=\"footer\">\n",
       "© Totally Normal Gifts, Inc. <br/>\n",
       "+234 (617) 863-0736\n",
       "</div>\n",
       "</div>\n",
       "<div date=\"1562906280868\" id=\"weava-permanent-marker\"></div><div id=\"weava-ui-wrapper\"><div class=\"weava-drop-area-wrapper\"><div class=\"weava-drop-area\"></div>\n",
       "<div class=\"weava-drop-area-text\">Drop here!</div></div></div></body></html>\n",
       ">"
      ]
     },
     "execution_count": 350,
     "metadata": {},
     "output_type": "execute_result"
    }
   ],
   "source": [
    "dom.find"
   ]
  },
  {
   "cell_type": "code",
   "execution_count": 354,
   "metadata": {},
   "outputs": [],
   "source": [
    "html = download(\"get\",\"http://pythonscraping.com/pages/page3.html\")\n",
    "dom = BeautifulSoup(html.content,\"lxml\")"
   ]
  },
  {
   "cell_type": "code",
   "execution_count": 499,
   "metadata": {},
   "outputs": [
    {
     "data": {
      "text/plain": [
       "['div', 'body', 'html', '[document]']"
      ]
     },
     "execution_count": 499,
     "metadata": {},
     "output_type": "execute_result"
    }
   ],
   "source": [
    "footer=dom.find(\"div\", {\"id\":\"footer\"})\n",
    "\n",
    "[_.name for _ in footer.find_parents()]"
   ]
  },
  {
   "cell_type": "code",
   "execution_count": 386,
   "metadata": {
    "scrolled": true
   },
   "outputs": [
    {
     "data": {
      "text/plain": [
       "<bound method PageElement.find_previous_siblings of <div id=\"wrapper\">\n",
       "<img src=\"../img/gifts/logo.jpg\" style=\"float:left;\"/>\n",
       "<h1>Totally Normal Gifts</h1>\n",
       "<div id=\"content\">Here is a collection of totally normal, totally reasonable gifts that your friends are sure to love! Our collection is\n",
       "hand-curated by well-paid, free-range Tibetan monks.<p>\n",
       "We haven't figured out how to make online shopping carts yet, but you can send us a check to:<br/>\n",
       "123 Main St.<br/>\n",
       "Abuja, Nigeria\n",
       "We will then send your totally amazing gift, pronto! Please include an extra $5.00 for gift wrapping.</p></div>\n",
       "<table id=\"giftList\">\n",
       "<tr><th>\n",
       "Item Title\n",
       "</th><th>\n",
       "Description\n",
       "</th><th>\n",
       "Cost\n",
       "</th><th>\n",
       "Image\n",
       "</th></tr>\n",
       "<tr class=\"gift\" id=\"gift1\"><td>\n",
       "Vegetable Basket\n",
       "</td><td>\n",
       "This vegetable basket is the perfect gift for your health conscious (or overweight) friends!\n",
       "<span class=\"excitingNote\">Now with super-colorful bell peppers!</span>\n",
       "</td><td>\n",
       "$15.00\n",
       "</td><td>\n",
       "<img src=\"../img/gifts/img1.jpg\"/>\n",
       "</td></tr>\n",
       "<tr class=\"gift\" id=\"gift2\"><td>\n",
       "Russian Nesting Dolls\n",
       "</td><td>\n",
       "Hand-painted by trained monkeys, these exquisite dolls are priceless! And by \"priceless,\" we mean \"extremely expensive\"! <span class=\"excitingNote\">8 entire dolls per set! Octuple the presents!</span>\n",
       "</td><td>\n",
       "$10,000.52\n",
       "</td><td>\n",
       "<img src=\"../img/gifts/img2.jpg\"/>\n",
       "</td></tr>\n",
       "<tr class=\"gift\" id=\"gift3\"><td>\n",
       "Fish Painting\n",
       "</td><td>\n",
       "If something seems fishy about this painting, it's because it's a fish! <span class=\"excitingNote\">Also hand-painted by trained monkeys!</span>\n",
       "</td><td>\n",
       "$10,005.00\n",
       "</td><td>\n",
       "<img src=\"../img/gifts/img3.jpg\"/>\n",
       "</td></tr>\n",
       "<tr class=\"gift\" id=\"gift4\"><td>\n",
       "Dead Parrot\n",
       "</td><td>\n",
       "This is an ex-parrot! <span class=\"excitingNote\">Or maybe he's only resting?</span>\n",
       "</td><td>\n",
       "$0.50\n",
       "</td><td>\n",
       "<img src=\"../img/gifts/img4.jpg\"/>\n",
       "</td></tr>\n",
       "<tr class=\"gift\" id=\"gift5\"><td>\n",
       "Mystery Box\n",
       "</td><td>\n",
       "If you love suprises, this mystery box is for you! Do not place on light-colored surfaces. May cause oil staining. <span class=\"excitingNote\">Keep your friends guessing!</span>\n",
       "</td><td>\n",
       "$1.50\n",
       "</td><td>\n",
       "<img src=\"../img/gifts/img6.jpg\"/>\n",
       "</td></tr>\n",
       "</table>\n",
       "<div id=\"footer\">\n",
       "© Totally Normal Gifts, Inc. <br/>\n",
       "+234 (617) 863-0736\n",
       "</div>\n",
       "</div>>"
      ]
     },
     "execution_count": 386,
     "metadata": {},
     "output_type": "execute_result"
    }
   ],
   "source": [
    "# 2가지 방법 \n",
    "# 1. previous\n",
    "# 2. recursive = False\n",
    "\n",
    "footer.find_parent().find_previous_siblings"
   ]
  },
  {
   "cell_type": "code",
   "execution_count": 389,
   "metadata": {},
   "outputs": [
    {
     "data": {
      "text/plain": [
       "(4, 4)"
      ]
     },
     "execution_count": 389,
     "metadata": {},
     "output_type": "execute_result"
    }
   ],
   "source": [
    "len(footer.find_previous_siblings()),\\\n",
    "len(footer.find_previous_siblings(recursive=False))"
   ]
  },
  {
   "cell_type": "code",
   "execution_count": 498,
   "metadata": {
    "scrolled": true
   },
   "outputs": [
    {
     "data": {
      "text/plain": [
       "['table', 'div', 'h1', 'img']"
      ]
     },
     "execution_count": 498,
     "metadata": {},
     "output_type": "execute_result"
    }
   ],
   "source": [
    "[_.name for _ in footer.find_previous_siblings()]"
   ]
  },
  {
   "cell_type": "code",
   "execution_count": 497,
   "metadata": {},
   "outputs": [
    {
     "data": {
      "text/plain": [
       "['img', 'h1', 'div', 'table', 'div']"
      ]
     },
     "execution_count": 497,
     "metadata": {},
     "output_type": "execute_result"
    }
   ],
   "source": [
    "[_.name for _ in footer.find_parent().find_all(recursive=False)] # div 왜 2개?"
   ]
  },
  {
   "cell_type": "code",
   "execution_count": 484,
   "metadata": {},
   "outputs": [
    {
     "data": {
      "text/plain": [
       "<img src=\"../img/gifts/img1.jpg\"/>"
      ]
     },
     "execution_count": 484,
     "metadata": {},
     "output_type": "execute_result"
    }
   ],
   "source": [
    "footer.find_previous_sibling().find_all(\"tr\")[1].find_all(\"td\")[-1].find()"
   ]
  },
  {
   "cell_type": "code",
   "execution_count": 404,
   "metadata": {
    "scrolled": false
   },
   "outputs": [
    {
     "data": {
      "text/plain": [
       "[<img src=\"../img/gifts/logo.jpg\" style=\"float:left;\"/>,\n",
       " <img src=\"../img/gifts/img1.jpg\"/>,\n",
       " <img src=\"../img/gifts/img2.jpg\"/>,\n",
       " <img src=\"../img/gifts/img3.jpg\"/>]"
      ]
     },
     "execution_count": 404,
     "metadata": {},
     "output_type": "execute_result"
    }
   ],
   "source": [
    "dom.div.find_all(\"img\")[0:4]"
   ]
  },
  {
   "cell_type": "code",
   "execution_count": 483,
   "metadata": {
    "scrolled": false
   },
   "outputs": [
    {
     "data": {
      "text/plain": [
       "[<img src=\"../img/gifts/img1.jpg\"/>,\n",
       " <img src=\"../img/gifts/img2.jpg\"/>,\n",
       " <img src=\"../img/gifts/img3.jpg\"/>,\n",
       " <img src=\"../img/gifts/img4.jpg\"/>,\n",
       " <img src=\"../img/gifts/img6.jpg\"/>]"
      ]
     },
     "execution_count": 483,
     "metadata": {},
     "output_type": "execute_result"
    }
   ],
   "source": [
    "footer.find_previous_sibling().find_all(\"img\")"
   ]
  },
  {
   "cell_type": "code",
   "execution_count": 601,
   "metadata": {},
   "outputs": [],
   "source": [
    "from urllib import parse"
   ]
  },
  {
   "cell_type": "code",
   "execution_count": 636,
   "metadata": {},
   "outputs": [],
   "source": [
    "url = \"http://pythonscraping.com/pages/page3.html\""
   ]
  },
  {
   "cell_type": "code",
   "execution_count": 637,
   "metadata": {},
   "outputs": [],
   "source": [
    "imgList=[requests.compat.urljoin(url, _.find_all(\"td\")[-1].find()[\"src\"])\n",
    "                        for _ in footer.find_previous_sibling().find_all(\"tr\")[1:]]\n",
    "# contents type: image의 jpeg"
   ]
  },
  {
   "cell_type": "code",
   "execution_count": 638,
   "metadata": {
    "scrolled": true
   },
   "outputs": [
    {
     "data": {
      "text/plain": [
       "['http://pythonscraping.com/img/gifts/img1.jpg',\n",
       " 'http://pythonscraping.com/img/gifts/img2.jpg',\n",
       " 'http://pythonscraping.com/img/gifts/img3.jpg',\n",
       " 'http://pythonscraping.com/img/gifts/img4.jpg',\n",
       " 'http://pythonscraping.com/img/gifts/img6.jpg']"
      ]
     },
     "execution_count": 638,
     "metadata": {},
     "output_type": "execute_result"
    }
   ],
   "source": [
    "# header의 콘텐츠 타입이 뭔지 알아야한다.\n",
    "imgList"
   ]
  },
  {
   "cell_type": "code",
   "execution_count": 639,
   "metadata": {},
   "outputs": [],
   "source": [
    "resp = download(\"get\",imgList[0])"
   ]
  },
  {
   "cell_type": "code",
   "execution_count": 640,
   "metadata": {},
   "outputs": [
    {
     "data": {
      "text/plain": [
       "('image', 'text')"
      ]
     },
     "execution_count": 640,
     "metadata": {},
     "output_type": "execute_result"
    }
   ],
   "source": [
    "resp.headers[\"Content-Type\"].split(\"/\")[0],\\\n",
    "html.headers[\"Content-Type\"].split(\"/\")[0]"
   ]
  },
  {
   "cell_type": "code",
   "execution_count": 641,
   "metadata": {},
   "outputs": [
    {
     "data": {
      "text/plain": [
       "True"
      ]
     },
     "execution_count": 641,
     "metadata": {},
     "output_type": "execute_result"
    }
   ],
   "source": [
    "resp.headers[\"Content-Type\"].split(\"/\")[0]==\"image\""
   ]
  },
  {
   "cell_type": "code",
   "execution_count": 642,
   "metadata": {},
   "outputs": [
    {
     "data": {
      "text/plain": [
       "'jpeg'"
      ]
     },
     "execution_count": 642,
     "metadata": {},
     "output_type": "execute_result"
    }
   ],
   "source": [
    "resp.headers[\"Content-Type\"].split(\"/\")[1]"
   ]
  },
  {
   "cell_type": "code",
   "execution_count": 643,
   "metadata": {},
   "outputs": [
    {
     "data": {
      "text/plain": [
       "ParseResult(scheme='http', netloc='pythonscraping.com', path='/img/gifts/img1.jpg', params='', query='', fragment='')"
      ]
     },
     "execution_count": 643,
     "metadata": {},
     "output_type": "execute_result"
    }
   ],
   "source": [
    "requests.compat.urlparse(resp.url)"
   ]
  },
  {
   "cell_type": "code",
   "execution_count": 644,
   "metadata": {},
   "outputs": [
    {
     "data": {
      "text/plain": [
       "'img1'"
      ]
     },
     "execution_count": 644,
     "metadata": {},
     "output_type": "execute_result"
    }
   ],
   "source": [
    "resp.url.split(\"/\")[-1].split(\".\")[0]"
   ]
  },
  {
   "cell_type": "code",
   "execution_count": 700,
   "metadata": {},
   "outputs": [],
   "source": [
    "\"{0}.{1}\".format(resp.url.split(\"/\")[-1].split(\".\")[0],\n",
    "                resp.headers[\"Content-Type\"].split(\"/\")[1])\n",
    "\n",
    "filename =\"{0}.{1}\".format(resp.url.split(\"/\")[-1].split(\".\")[0],\n",
    "                resp.headers[\"Content-Type\"].split(\"/\")[1])"
   ]
  },
  {
   "cell_type": "code",
   "execution_count": 701,
   "metadata": {},
   "outputs": [],
   "source": [
    "with open(filename, \"wb\") as fp:\n",
    "    fp.write(resp.content)"
   ]
  },
  {
   "cell_type": "markdown",
   "metadata": {},
   "source": [
    "- 정규식에서 찾기\n",
    "- find_all로 찾기 "
   ]
  },
  {
   "cell_type": "code",
   "execution_count": 696,
   "metadata": {
    "scrolled": true
   },
   "outputs": [
    {
     "data": {
      "text/plain": [
       "'<html>\\n<head>\\n<style>\\nimg{\\n\\twidth:75px;\\n}\\ntable{\\n\\twidth:50%;\\n}\\ntd{\\n\\tmargin:10px;\\n\\tpadding:10px;\\n}\\n.wrapper{\\n\\twidth:800px;\\n}\\n.excitingNote{\\n\\tfont-style:italic;\\n\\tfont-weight:bold;\\n}\\n</style>\\n</head>\\n<body>\\n<div id=\"wrapper\">\\n<img src=\"../img/gifts/logo.jpg\" style=\"float:left;\">\\n<h1>Totally Normal Gifts</h1>\\n<div id=\"content\">Here is a collection of totally normal, totally reasonable gifts that your friends are sure to love! Our collection is\\nhand-curated by well-paid, free-range Tibetan monks.<p>\\nWe haven\\'t figured out how to make online shopping carts yet, but you can send us a check to:<br>\\n123 Main St.<br>\\nAbuja, Nigeria\\n</br>We will then send your totally amazing gift, pronto! Please include an extra $5.00 for gift wrapping.</div>\\n<table id=\"giftList\">\\n<tr><th>\\nItem Title\\n</th><th>\\nDescription\\n</th><th>\\nCost\\n</th><th>\\nImage\\n</th></tr>\\n\\n<tr id=\"gift1\" class=\"gift\"><td>\\nVegetable Basket\\n</td><td>\\nThis vegetable basket is the perfect gift for your health conscious (or overweight) friends!\\n<span class=\"excitingNote\">Now with super-colorful bell peppers!</span>\\n</td><td>\\n$15.00\\n</td><td>\\n<img src=\"../img/gifts/img1.jpg\">\\n</td></tr>\\n\\n<tr id=\"gift2\" class=\"gift\"><td>\\nRussian Nesting Dolls\\n</td><td>\\nHand-painted by trained monkeys, these exquisite dolls are priceless! And by \"priceless,\" we mean \"extremely expensive\"! <span class=\"excitingNote\">8 entire dolls per set! Octuple the presents!</span>\\n</td><td>\\n$10,000.52\\n</td><td>\\n<img src=\"../img/gifts/img2.jpg\">\\n</td></tr>\\n\\n<tr id=\"gift3\" class=\"gift\"><td>\\nFish Painting\\n</td><td>\\nIf something seems fishy about this painting, it\\'s because it\\'s a fish! <span class=\"excitingNote\">Also hand-painted by trained monkeys!</span>\\n</td><td>\\n$10,005.00\\n</td><td>\\n<img src=\"../img/gifts/img3.jpg\">\\n</td></tr>\\n\\n<tr id=\"gift4\" class=\"gift\"><td>\\nDead Parrot\\n</td><td>\\nThis is an ex-parrot! <span class=\"excitingNote\">Or maybe he\\'s only resting?</span>\\n</td><td>\\n$0.50\\n</td><td>\\n<img src=\"../img/gifts/img4.jpg\">\\n</td></tr>\\n\\n<tr id=\"gift5\" class=\"gift\"><td>\\nMystery Box\\n</td><td>\\nIf you love suprises, this mystery box is for you! Do not place on light-colored surfaces. May cause oil staining. <span class=\"excitingNote\">Keep your friends guessing!</span>\\n</td><td>\\n$1.50\\n</td><td>\\n<img src=\"../img/gifts/img6.jpg\">\\n</td></tr>\\n</table>\\n</p>\\n<div id=\"footer\">\\n&copy; Totally Normal Gifts, Inc. <br>\\n+234 (617) 863-0736\\n</div>\\n\\n</div>\\n</body>\\n</html>\\n'"
      ]
     },
     "execution_count": 696,
     "metadata": {},
     "output_type": "execute_result"
    }
   ],
   "source": [
    "url = \"http://pythonscraping.com/pages/page3.html\"\n",
    "\n",
    "html = download(\"get\", url)\n",
    "\n",
    "# html.encoding = 'utf-8'\n",
    "# html.text\n",
    "html.text # unescape 한국어 변환"
   ]
  },
  {
   "cell_type": "code",
   "execution_count": 699,
   "metadata": {},
   "outputs": [
    {
     "data": {
      "text/plain": [
       "['../img/gifts/logo.jpg\" style=\"float:left;',\n",
       " '../img/gifts/img1.jpg',\n",
       " '../img/gifts/img2.jpg',\n",
       " '../img/gifts/img3.jpg',\n",
       " '../img/gifts/img4.jpg',\n",
       " '../img/gifts/img6.jpg']"
      ]
     },
     "execution_count": 699,
     "metadata": {},
     "output_type": "execute_result"
    }
   ],
   "source": [
    "result = re.findall(r'<img src=\"(.+?)\">', html.text)\n",
    "result"
   ]
  },
  {
   "cell_type": "code",
   "execution_count": 716,
   "metadata": {
    "scrolled": true
   },
   "outputs": [
    {
     "data": {
      "text/plain": [
       "(6,\n",
       " [{'url': '.'},\n",
       "  {'url': '.'},\n",
       "  {'url': '.'},\n",
       "  {'url': '.'},\n",
       "  {'url': '.'},\n",
       "  {'url': '.'}])"
      ]
     },
     "execution_count": 716,
     "metadata": {},
     "output_type": "execute_result"
    }
   ],
   "source": [
    "len(result), [{\"url\":row[0]} for row in result]"
   ]
  },
  {
   "cell_type": "code",
   "execution_count": 710,
   "metadata": {
    "scrolled": true
   },
   "outputs": [
    {
     "data": {
      "text/plain": [
       "['../img/gifts/img1.jpg',\n",
       " '../img/gifts/img2.jpg',\n",
       " '../img/gifts/img3.jpg',\n",
       " '../img/gifts/img4.jpg',\n",
       " '../img/gifts/img6.jpg']"
      ]
     },
     "execution_count": 710,
     "metadata": {},
     "output_type": "execute_result"
    }
   ],
   "source": [
    "dom = BeautifulSoup(html.text,\"lxml\")\n",
    "[_[\"src\"] for _ in dom.table.find_all(\"img\")]"
   ]
  },
  {
   "cell_type": "code",
   "execution_count": 707,
   "metadata": {
    "scrolled": true
   },
   "outputs": [
    {
     "data": {
      "text/plain": [
       "['../img/gifts/img1.jpg',\n",
       " '../img/gifts/img2.jpg',\n",
       " '../img/gifts/img3.jpg',\n",
       " '../img/gifts/img4.jpg',\n",
       " '../img/gifts/img6.jpg']"
      ]
     },
     "execution_count": 707,
     "metadata": {},
     "output_type": "execute_result"
    }
   ],
   "source": [
    "re.findall(r'<td>\\s<img src=\"(.+?)\">',html.text)"
   ]
  },
  {
   "cell_type": "markdown",
   "metadata": {},
   "source": [
    "### Naver image 긁어오기"
   ]
  },
  {
   "cell_type": "code",
   "execution_count": 790,
   "metadata": {
    "scrolled": true
   },
   "outputs": [],
   "source": [
    "url = \"https://search.naver.com/search.naver?sm=tab_hty.top&where=nexearch&query=%EB%B0%95%EB%B3%B4%EC%98%81\"\n",
    "headers = {\"user-agent\":\"Mozilla/5.0 (Windows NT 10.0; Win64; x64) AppleWebKit/537.36 (KHTML, like Gecko) Chrome/75.0.3770.100 Safari/537.36\"}\n",
    "html = download(\"get\", url)\n",
    "\n",
    "# html.encoding = 'utf-8'\n",
    "# html.text\n",
    "# unescape 한국어 변환"
   ]
  },
  {
   "cell_type": "code",
   "execution_count": 792,
   "metadata": {
    "scrolled": true
   },
   "outputs": [
    {
     "data": {
      "text/plain": [
       "(5,\n",
       " [{'title': '<img src=\"https://search.pstatic.net/common/?src=https%3A%2F%2Fimgnews.pstatic.net%2Fimage%2Forigin%2F5022%2F2019%2F07%2F12%2F190162.jpg&type=ofullfill80_80_q75_re2\" class=\"\" alt=\"박보영 주연의 &lsquo;너의 \" width=80 height=80 onerror=\"this.parentNode.style.display=\\'none\\';\">',\n",
       "   'url': 'http://www.upkorea.net/news/articleView.html?idxno=594716\" target=\"_blank\" class=\"sp_thmb thmb80\" onclick=\"return goOtherCR(this, \\'a=nws_all*f.img&r=1&i=88000138_000000000000000000190162&g=5022.0000190162&u=\\'+urlencode(this.href));'},\n",
       "  {'title': '<img src=\"https://search.pstatic.net/common/?src=https%3A%2F%2Fimgnews.pstatic.net%2Fimage%2Forigin%2F5566%2F2019%2F07%2F12%2F15305.jpg&type=ofullfill80_80_q75_re2\" class=\"\" alt=\"영화 &lt;너의 결혼식&gt; &quot;\" width=80 height=80 onerror=\"this.parentNode.style.display=\\'none\\';\">',\n",
       "   'url': 'http://www.lecturernews.com/news/articleView.html?idxno=21949\" target=\"_blank\" class=\"sp_thmb thmb80\" onclick=\"return goOtherCR(this, \\'a=nws_all*f.img&r=2&i=881830f6_000000000000000000015305&g=5566.0000015305&u=\\'+urlencode(this.href));'},\n",
       "  {'title': '<img src=\"https://search.pstatic.net/common/?src=https%3A%2F%2Fimgnews.pstatic.net%2Fimage%2Forigin%2F5597%2F2019%2F07%2F09%2F21370.jpg&type=ofullfill80_80_q75_re2\" class=\"\" alt=\"[유명준의 시선] &lsquo;정법\" width=80 height=80 onerror=\"this.parentNode.style.display=\\'none\\';\">',\n",
       "   'url': 'http://viewers.heraldcorp.com/news/articleView.html?idxno=39209\" target=\"_blank\" class=\"sp_thmb thmb80\" onclick=\"return goOtherCR(this, \\'a=nws_all*f.img&r=3&i=88184308_000000000000000000021370&g=5597.0000021370&u=\\'+urlencode(this.href));'},\n",
       "  {'title': '<img src=\"https://search.pstatic.net/common/?src=https%3A%2F%2Fimgnews.pstatic.net%2Fimage%2Forigin%2F108%2F2019%2F07%2F10%2F2796054.jpg&type=ofullfill80_80_q75_re2\" class=\"\" alt=\"tvN &lsquo;어비스&lsquo; 마지막 \" width=80 height=80 onerror=\"this.parentNode.style.display=\\'none\\';\">',\n",
       "   'url': 'http://star.mt.co.kr/stview.php?no=2019071016145539514\" target=\"_blank\" class=\"sp_thmb thmb80\" onclick=\"return goOtherCR(this, \\'a=nws_all*e.img&r=4&i=880000C3_000000000000000002796054&g=108.0002796054&u=\\'+urlencode(this.href));'},\n",
       "  {'title': '<img src=\"https://search.pstatic.net/common/?src=https%3A%2F%2Fimgnews.pstatic.net%2Fimage%2Forigin%2F014%2F2019%2F06%2F10%2F4242290.jpg&type=ofullfill80_80_q75_re2\" class=\"\" alt=\"‘어비스’ 박보영, 권\" width=80 height=80 onerror=\"this.parentNode.style.display=\\'none\\';\">',\n",
       "   'url': 'http://www.fnnews.com/news/201906101356597087\" target=\"_blank\" class=\"sp_thmb thmb80\" onclick=\"return goOtherCR(this, \\'a=nws_all*a.img&r=5&i=880000FF_000000000000000004242290&g=014.0004242290&u=\\'+urlencode(this.href));'}])"
      ]
     },
     "execution_count": 792,
     "metadata": {},
     "output_type": "execute_result"
    }
   ],
   "source": [
    "result = re.findall(r'<div class=\"thumb\"><a href=\"(.+?)\">(.+?)<span class=\"thmb_v\"></span></a></div>',html.text)\n",
    "len(result), [{\"title\":row[1], \"url\":row[0]} for row in result]"
   ]
  },
  {
   "cell_type": "code",
   "execution_count": 797,
   "metadata": {},
   "outputs": [],
   "source": [
    "url = \"https://search.naver.com/search.naver?where=image&sm=tab_jum&query=%EB%B0%95%EB%B3%B4%EC%98%81\"\n",
    "html = download(\"get\", url)\n",
    "dom = BeautifulSoup(html.content,\"lxml\")"
   ]
  },
  {
   "cell_type": "code",
   "execution_count": 798,
   "metadata": {
    "scrolled": true
   },
   "outputs": [
    {
     "data": {
      "text/plain": [
       "[('여기 박보영빠돌이있지않음?? | 카페',\n",
       "  'https://search.pstatic.net/common/?src=http%3A%2F%2Fcafefiles.naver.net%2F20140419_115%2Falsdnr4721_1397918757998zpEC6_JPEG%2F-1042080401.jpg&type=b400'),\n",
       " (\"박보영 '요정이 눈 앞에'[엑's HD포토] | 포토뉴스\",\n",
       "  'https://search.pstatic.net/common/?src=http%3A%2F%2Fimgnews.naver.net%2Fimage%2F311%2F2019%2F04%2F30%2F0000985275_001_20190430071110015.jpg&type=b400'),\n",
       " ('박보영 : 힘쎈여자도봉순 도봉순 | 블로그',\n",
       "  'https://search.pstatic.net/common/?src=http%3A%2F%2Fblogfiles.naver.net%2FMjAxODA3MDRfMTQ4%2FMDAxNTMwNjY3NjY3NjEz.zj9Umgo5orK-9sGr3r5yWQBn9HIYKJY3YVzz4Gzk1bsg.cstJdYVKQm2SFg5M9o0TVOKPaMBM5ud-Rag1IaPZ9Lkg.JPEG.js2y86%2Fqkrqhdud14.jpg&type=b400'),\n",
       " ('박보영 사진 모음 #1 (스왑주의) | 블로그',\n",
       "  'https://search.pstatic.net/common/?src=http%3A%2F%2Fblogfiles.naver.net%2FMjAxODEwMTBfMTA1%2FMDAxNTM5MTc2ODM0MDI5.mlRvQ8JGvq5N4tNpgT_wWgPrxlMg6cHXpGDGISJ9iskg.i0sOEaB-ad78ykWXzDiHA33UAqp-g-Mr2ZqPrkD_tZ0g.JPEG.angel000429%2F1539176666436.jpg&type=b400'),\n",
       " (\"'열정같은소리하고있네' 박보영·정재영, 겨울 패션 화보 공개 | 블로그\",\n",
       "  'https://search.pstatic.net/common/?src=http%3A%2F%2Fblogfiles.naver.net%2F20151123_272%2Fqazwsx2002_1448267051132FmL3G_JPEG%2F002.jpg&type=b400'),\n",
       " ('박보영 에스콰이어 화보  | 블로그',\n",
       "  'https://search.pstatic.net/common/?src=http%3A%2F%2Fblogfiles.naver.net%2F20130115_197%2Fmeem1234_1358224908968XtlPr_JPEG%2F616134414dc99047d8b5cd8114e9118d_789NWL7Emre4gBcdWhB5lvIS.jpg&type=b400'),\n",
       " ('최근 박보영 새로운 화보 | 블로그',\n",
       "  'https://search.pstatic.net/common/?src=http%3A%2F%2Fblogfiles.naver.net%2F20110525_18%2Fpjh34091_1306290554589AVmww_JPEG%2F%25B9%25DA%25BA%25B8%25BF%25B5_%25BB%25F5%25B7%25CE%25BF%25EE_%25C8%25AD%25BA%25B8_0.jpg&type=b400'),\n",
       " ('박보영 심경 &quot;원래 징징대는 편인데…&quot; 김상유 대표 글 논란 해명? | 포토뉴스',\n",
       "  'https://search.pstatic.net/common/?src=http%3A%2F%2Fimgnews.naver.net%2Fimage%2F5079%2F2013%2F02%2F12%2F766713_0_m500679_58628_59_20130212133540.jpg&type=b400'),\n",
       " ('이제야 밝혀지는 두 사람의 진실?! 박보영, 김영광 인터뷰! | 동영상',\n",
       "  'https://search.pstatic.net/common/?src=https%3A%2F%2Fphinf.pstatic.net%2Ftvcast%2F20180823_97%2F7AbLf_1534989707099rBIu4_PNG%2Fzf8rcG9madjv.png&type=b400'),\n",
       " (\"[엑's HD화보] '뽀블리' 박보영 '야구장에서도 러블리~' | 포토뉴스\",\n",
       "  'https://search.pstatic.net/common/?src=http%3A%2F%2Fimgnews.naver.net%2Fimage%2F311%2F2018%2F07%2F26%2F0000881291_002_20180726205533782.jpg&type=b400'),\n",
       " ('인터뷰 박보영 패션 옷 #써스데이아일랜드 쉬폰 블라우스_여자 여름 블라우스 | 블로그',\n",
       "  'https://search.pstatic.net/common/?src=http%3A%2F%2Fblogfiles.naver.net%2FMjAxODA4MTRfMTUz%2FMDAxNTM0MjIyMzAxMjU2.1J2e9Fy5EX_VLf367oeDAv28iL6v05bXV3hP2OkwgxMg.I1NMx1RH--8Yb0yx3j4EybMZUKVFHTf6lijc4R5LFJog.JPEG.imsung_cho%2F1533953928_1383617.jpg&type=b400'),\n",
       " ('[4K직캠] 박보영(Park Bo Young), 진짜 봄이 왔네요(190429) | 포스트',\n",
       "  'https://search.pstatic.net/common/?src=http%3A%2F%2Fpost.phinf.naver.net%2FMjAxOTA0MjlfMTA3%2FMDAxNTU2NTA0MzA2MzE4.0UAFhPY7p0odl0sTrtap8gh1ti63KbjaCRERw_8qyzwg.lheAC4SgbJ26pQtbPEoLpKq8f5QIPUtpMnz850vzzWMg.JPEG%2FIMBvaNWUWeK6v2onENvaworTmtAE.jpg&type=b400'),\n",
       " ('[인터뷰①] 박보영 &quot;데뷔 이래 가장 나쁜女..♥ 참 어렵더라&quot; | 포토뉴스',\n",
       "  'https://search.pstatic.net/common/?src=http%3A%2F%2Fimgnews.naver.net%2Fimage%2F076%2F2018%2F08%2F09%2F2018081001000825000059711_20180809115327017.jpg&type=b400'),\n",
       " (\"'어비스' 박보영 &quot;외모 관련 대사, 불편할까 걱정돼 수정 노력&quot; | 포토뉴스\",\n",
       "  'https://search.pstatic.net/common/?src=http%3A%2F%2Fimgnews.naver.net%2Fimage%2F076%2F2019%2F05%2F03%2F2019050401000298400016991_20190503160106821.jpg&type=b400'),\n",
       " (\"[티저]'엄마야!' 거울 보고 깜짝 놀란 박보영 tvN [어비스-영혼소생구슬] | 동영상\",\n",
       "  'https://search.pstatic.net/common/?src=http%3A%2F%2Fhol.phinf.naver.net%2F00%2F662%2F354%2F66235414_1.jpg&type=b400'),\n",
       " (\"'이 정도면 장기근속'… 박보영, 토레타 모델 발탁 | 포토뉴스\",\n",
       "  'https://search.pstatic.net/common/?src=http%3A%2F%2Fimgnews.naver.net%2Fimage%2F5582%2F2019%2F03%2F26%2F0000035400_001_20190326111013364.jpg&type=b400'),\n",
       " ('박보영 폰 배경사진 고화질로 많이많이 | 지식iN',\n",
       "  'https://search.pstatic.net/common/?src=http%3A%2F%2Fkinimage.naver.net%2F20181216_209%2F15449260677587Ll86_JPEG%2F1544926067429.jpg&type=b400'),\n",
       " (\"[화보] 박보영, 인형외모에 우윳빛 각선미 '섹시' - 세계일보 | 웹\",\n",
       "  'https://search.pstatic.net/sunny/?src=http%3A%2F%2Fimg.segye.com%2Fcontent%2Fimage%2F2015%2F10%2F17%2F20151017503314.jpg&type=b400'),\n",
       " (\"[시크포토]박보영, '클로즈업 부르는 미모' | 포토뉴스\",\n",
       "  'https://search.pstatic.net/common/?src=http%3A%2F%2Fimgnews.naver.net%2Fimage%2F5349%2F2018%2F08%2F07%2F1533628848_205383_20180807165840982.jpg&type=b400'),\n",
       " (\"[TEN PHOTO]박보영 '굿 모닝~' | 포토뉴스\",\n",
       "  'https://search.pstatic.net/common/?src=http%3A%2F%2Fimgnews.naver.net%2Fimage%2F312%2F2019%2F04%2F29%2F0000385085_001_20190429111506300.jpg&type=b400'),\n",
       " (\"'런닝맨' 박보영, 깜짝출연...절친 선배 송지효와 민낯대결 | 포토뉴스\",\n",
       "  'https://search.pstatic.net/common/?src=http%3A%2F%2Fimgnews.naver.net%2Fimage%2F5575%2F2019%2F03%2F03%2F0000033175_001_20190303115605887.jpg&type=b400'),\n",
       " ('탐정 홍길동 시사회에서 | 블로그',\n",
       "  'https://search.pstatic.net/common/?src=http%3A%2F%2Fblogfiles.naver.net%2F20160506_156%2Fbismuth083_1462537897447sdsOj_JPEG%2FFB_IMG_1462446137505.jpg&type=b400'),\n",
       " (\"♥♥♥♥♥박보영♥'영화'노브레싱 VIP시사회 초대 인터뷰♥♥♥♥♥ | 블로그\",\n",
       "  'https://search.pstatic.net/common/?src=http%3A%2F%2Fblogfiles.naver.net%2F20131111_212%2Fpapa77ma_1384121301256kovyM_JPEG%2F%25A2%25BD%25B9%25DA%25BA%25B8%25BF%25B5%25A2%25BD.jpg&type=b400'),\n",
       " (\"[TEN PHOTO]박보영 '가만히 있어도 미모가 반짝' | 포토뉴스\",\n",
       "  'https://search.pstatic.net/common/?src=http%3A%2F%2Fimgnews.naver.net%2Fimage%2F312%2F2018%2F08%2F09%2F0000342601_001_20180809170227017.jpg&type=b400'),\n",
       " (\"'오나귀'→'어비스' 박보영, 어게인 '뽀블리' 매직 자신감(종합)[Oh!쎈 현장] | 포토뉴스\",\n",
       "  'https://search.pstatic.net/common/?src=http%3A%2F%2Fimgnews.naver.net%2Fimage%2F109%2F2019%2F05%2F03%2F0004002600_002_20190503164807188.jpg&type=b400'),\n",
       " (\"'피끓는 청춘' 박보영, 일진 연기 &quot;학생들이 따라할까 걱정&quot; | 포토뉴스\",\n",
       "  'https://search.pstatic.net/common/?src=http%3A%2F%2Fimgnews.naver.net%2Fimage%2F5268%2F2014%2F01%2F21%2F927889_0-550827_47544_59_20140121145003.jpg&type=b400'),\n",
       " (\"[TEN PHOTO]박보영 '꽃내음 가득한 매력' | 포토뉴스\",\n",
       "  'https://search.pstatic.net/common/?src=http%3A%2F%2Fimgnews.naver.net%2Fimage%2F312%2F2019%2F04%2F29%2F0000385092_001_20190429112508757.jpg&type=b400'),\n",
       " ('tvN ‘어비스’ 25일 마지막 회.. 박보영 &quot;내가 너 지켜줄게” | 포토뉴스',\n",
       "  'https://search.pstatic.net/common/?src=http%3A%2F%2Fimgnews.naver.net%2Fimage%2F5503%2F2019%2F06%2F25%2F0000030512_001_20190625145841663.JPG&type=b400'),\n",
       " ('[#별별샷] 배우 박보영, 청순한 방부제 미모로 ‘시선강탈’ | 포토뉴스',\n",
       "  'https://search.pstatic.net/common/?src=http%3A%2F%2Fimgnews.naver.net%2Fimage%2F5339%2F2018%2F12%2F07%2F2018120636294797_20181207000910239.jpg&type=b400'),\n",
       " (\"'어비스' 박보영, 안효섭과 애틋한 사랑...해피엔딩 기대감 up | 포토뉴스\",\n",
       "  'https://search.pstatic.net/common/?src=http%3A%2F%2Fimgnews.naver.net%2Fimage%2F5567%2F2019%2F06%2F25%2F0000008181_001_20190625110648024.jpg&type=b400'),\n",
       " (\"박보영 컬투 얼굴 비교 &quot;컬투 머리크기 반밖에 안되는 '소두 종결자'&quot; | 포토뉴스\",\n",
       "  'https://search.pstatic.net/common/?src=http%3A%2F%2Fimgnews.naver.net%2Fimage%2F5043%2F2012%2F10%2F30%2F2012103015504813_59_20121030092011.jpg&type=b400'),\n",
       " (\"'어비스' 박보영♥안효섭, 심쿵 키스‥권수현, 박보영 살인 사주(종합) | 포토뉴스\",\n",
       "  'https://search.pstatic.net/common/?src=http%3A%2F%2Fimgnews.naver.net%2Fimage%2F112%2F2019%2F05%2F28%2F201905282207245443380_20190528224138_01_20190528224209210.jpg&type=b400'),\n",
       " ('[포토] ‘어비스’ ‘뽀블리’ 박보영 ‘아름답다’ | 포토뉴스',\n",
       "  'https://search.pstatic.net/common/?src=http%3A%2F%2Fimgnews.naver.net%2Fimage%2F382%2F2019%2F05%2F03%2F0000729116_001_20190503153611843.jpg&type=b400'),\n",
       " ('tvN ‘어비스’ 로맨틱가이 안효섭,  박보영에게 ‘테디베어’ 목걸이 깜짝 선물! | 포토뉴스',\n",
       "  'https://search.pstatic.net/common/?src=http%3A%2F%2Fimgnews.naver.net%2Fimage%2F5696%2F2019%2F06%2F12%2F0000014463_001_20190612155651670.jpg&type=b400'),\n",
       " (\"'어비스' 박보영♥안효섭, 본격 동거시작 '초밀착 껌딱지' | 포토뉴스\",\n",
       "  'https://search.pstatic.net/common/?src=http%3A%2F%2Fimgnews.naver.net%2Fimage%2F117%2F2019%2F06%2F04%2F201906041529224634_1_20190604153311103.jpg&type=b400'),\n",
       " (\"박보영 &quot;이소라 박효신 듀엣곡 받쓰, '소울트리'인데 속상하다&quot; | 포토뉴스\",\n",
       "  'https://search.pstatic.net/common/?src=http%3A%2F%2Fimgnews.naver.net%2Fimage%2F5575%2F2019%2F05%2F04%2F0000042593_001_20190504202221714.jpg&type=b400'),\n",
       " ('‘어비스’ 박보영-안효섭-이시언, 권수현 처단 막판 스퍼트[오늘TV] | 포토뉴스',\n",
       "  'https://search.pstatic.net/common/?src=http%3A%2F%2Fimgnews.naver.net%2Fimage%2F609%2F2019%2F06%2F24%2F201906241301272410_2_20190624130727191.jpg&type=b400'),\n",
       " ('박보영 &#39;운동 셀카&#39; 공개, &#34;너무 예쁘다!&#34; 네티즌 극찬 | 포토뉴스',\n",
       "  'https://search.pstatic.net/common/?src=http%3A%2F%2Fimgnews.naver.net%2Fimage%2F5092%2F2011%2F06%2F20%2F1308560965_600.jpg&type=b400'),\n",
       " (\"박보영 '어비스', 프로페셔널 검사 스타일링 눈길 | 포토뉴스\",\n",
       "  'https://search.pstatic.net/common/?src=http%3A%2F%2Fimgnews.naver.net%2Fimage%2F5567%2F2019%2F05%2F29%2F0000007370_001_20190529103635685.jpg&type=b400'),\n",
       " ('‘어비스’ 안효섭, 박보영 위한 특급 배려…다정보스 등극 | 포토뉴스',\n",
       "  'https://search.pstatic.net/common/?src=http%3A%2F%2Fimgnews.naver.net%2Fimage%2F015%2F2019%2F06%2F11%2F0004156850_001_20190611134604695.jpg&type=b400'),\n",
       " (\"[사진]박보영,'백옥같은 피부' | 포토뉴스\",\n",
       "  'https://search.pstatic.net/common/?src=http%3A%2F%2Fimgnews.naver.net%2Fimage%2F109%2F2008%2F10%2F27%2F200810271211252300_1.jpg&type=b400'),\n",
       " (\"'어비스' 제작진 &quot;박보영-안효섭 '애틋 로맨스' 무르익는다&quot; | 포토뉴스\",\n",
       "  'https://search.pstatic.net/common/?src=http%3A%2F%2Fimgnews.naver.net%2Fimage%2F468%2F2019%2F06%2F09%2F0000517985_001_20190609094022835.jpg&type=b400'),\n",
       " (\"'어비스' 박보영X안효섭, 현실에서도 껌딱지 모드…초밀착 케미폭발 비하인드 공개 | 포토뉴스\",\n",
       "  'https://search.pstatic.net/common/?src=http%3A%2F%2Fimgnews.naver.net%2Fimage%2F468%2F2019%2F05%2F19%2F0000509577_001_20190519134517159.jpg&type=b400'),\n",
       " ('[스타패션] 박보영, 가을 여인으로 변신해 반전 매력 발산 | 포토뉴스',\n",
       "  'https://search.pstatic.net/common/?src=http%3A%2F%2Fimgnews.naver.net%2Fimage%2F144%2F2015%2F09%2F16%2Fl_2015091602001330300222841_99_20150916141402.jpg&type=b400'),\n",
       " ('박보영, 셀카로 근황 공개 &quot;역시 국민여동생&quot; | 포토뉴스',\n",
       "  'https://search.pstatic.net/common/?src=http%3A%2F%2Fimgnews.naver.net%2Fimage%2F5138%2F2011%2F04%2F04%2F201104040931099660385-2-25339.jpg&type=b400'),\n",
       " (\"[MD포토] 박보영 '한화 유니폼 입고 야구장 왔어요' | 포토뉴스\",\n",
       "  'https://search.pstatic.net/common/?src=http%3A%2F%2Fimgnews.naver.net%2Fimage%2F117%2F2016%2F08%2F30%2F201608301954891116_1_99_20160830195503.jpg&type=b400'),\n",
       " ('레스포색, 새 뮤즈 박보영 발탁 | 포토뉴스',\n",
       "  'https://search.pstatic.net/common/?src=http%3A%2F%2Fimgnews.naver.net%2Fimage%2F5090%2F2013%2F02%2F17%2F20130217000088_0_59_20130217140812.jpg&type=b400'),\n",
       " ('박보영 &quot;스타덤? 친구들도 어색하다고 놀려요&quot;(인터뷰) | 포토뉴스',\n",
       "  'https://search.pstatic.net/common/?src=http%3A%2F%2Fimgnews.naver.net%2Fimage%2F108%2F2008%2F12%2F16%2F2008121610173266362_1.jpg&type=b400'),\n",
       " ('박보영 에스콰이어 화보  | 블로그',\n",
       "  'https://search.pstatic.net/common/?src=http%3A%2F%2Fblogfiles.naver.net%2F20130115_176%2Fmeem1234_13582249143180FEUm_PNG%2F616134414dc99047d8b5cd8114e9118d_tlLpEK3D7gyeZn5fv.png&type=b400'),\n",
       " ('박보영 : 힘쎈여자도봉순 도봉순 | 블로그',\n",
       "  'https://search.pstatic.net/common/?src=http%3A%2F%2Fblogfiles.naver.net%2FMjAxODA3MDRfMTkx%2FMDAxNTMwNjY2OTg4MjQ3.jGIjWJ2Q48xxoz37vJRZDsL3hPkRyYeU8yMeB_rS1KQg.YldJcuFtuDxDeyHf4q8WAKjE-jOqa4IsVgylD1nh4PYg.JPEG.js2y86%2F%25BB%25CD%25BC%25F6%25B4%25CF10.jpg&type=b400')]"
      ]
     },
     "execution_count": 798,
     "metadata": {},
     "output_type": "execute_result"
    }
   ],
   "source": [
    "re.findall('<img src=\".+?\" class=\"_img\" alt=\"(.+?)\" onerror=\".+?\" data-source=\"(.+?)\" data-width=\"\\d+?\" data-height=\"\\d+\">', html.text)"
   ]
  },
  {
   "cell_type": "code",
   "execution_count": 793,
   "metadata": {
    "scrolled": true
   },
   "outputs": [
    {
     "data": {
      "text/plain": [
       "[('http://www.upkorea.net/news/articleView.html?idxno=594716\" target=\"_blank\" class=\"sp_thmb thmb80\" onclick=\"return goOtherCR(this, \\'a=nws_all*f.img&r=1&i=88000138_000000000000000000190162&g=5022.0000190162&u=\\'+urlencode(this.href));',\n",
       "  '<img src=\"https://search.pstatic.net/common/?src=https%3A%2F%2Fimgnews.pstatic.net%2Fimage%2Forigin%2F5022%2F2019%2F07%2F12%2F190162.jpg&type=ofullfill80_80_q75_re2\" class=\"\" alt=\"박보영 주연의 &lsquo;너의 \" width=80 height=80 onerror=\"this.parentNode.style.display=\\'none\\';\">'),\n",
       " ('http://www.lecturernews.com/news/articleView.html?idxno=21949\" target=\"_blank\" class=\"sp_thmb thmb80\" onclick=\"return goOtherCR(this, \\'a=nws_all*f.img&r=2&i=881830f6_000000000000000000015305&g=5566.0000015305&u=\\'+urlencode(this.href));',\n",
       "  '<img src=\"https://search.pstatic.net/common/?src=https%3A%2F%2Fimgnews.pstatic.net%2Fimage%2Forigin%2F5566%2F2019%2F07%2F12%2F15305.jpg&type=ofullfill80_80_q75_re2\" class=\"\" alt=\"영화 &lt;너의 결혼식&gt; &quot;\" width=80 height=80 onerror=\"this.parentNode.style.display=\\'none\\';\">'),\n",
       " ('http://viewers.heraldcorp.com/news/articleView.html?idxno=39209\" target=\"_blank\" class=\"sp_thmb thmb80\" onclick=\"return goOtherCR(this, \\'a=nws_all*f.img&r=3&i=88184308_000000000000000000021370&g=5597.0000021370&u=\\'+urlencode(this.href));',\n",
       "  '<img src=\"https://search.pstatic.net/common/?src=https%3A%2F%2Fimgnews.pstatic.net%2Fimage%2Forigin%2F5597%2F2019%2F07%2F09%2F21370.jpg&type=ofullfill80_80_q75_re2\" class=\"\" alt=\"[유명준의 시선] &lsquo;정법\" width=80 height=80 onerror=\"this.parentNode.style.display=\\'none\\';\">'),\n",
       " ('http://star.mt.co.kr/stview.php?no=2019071016145539514\" target=\"_blank\" class=\"sp_thmb thmb80\" onclick=\"return goOtherCR(this, \\'a=nws_all*e.img&r=4&i=880000C3_000000000000000002796054&g=108.0002796054&u=\\'+urlencode(this.href));',\n",
       "  '<img src=\"https://search.pstatic.net/common/?src=https%3A%2F%2Fimgnews.pstatic.net%2Fimage%2Forigin%2F108%2F2019%2F07%2F10%2F2796054.jpg&type=ofullfill80_80_q75_re2\" class=\"\" alt=\"tvN &lsquo;어비스&lsquo; 마지막 \" width=80 height=80 onerror=\"this.parentNode.style.display=\\'none\\';\">'),\n",
       " ('http://www.fnnews.com/news/201906101356597087\" target=\"_blank\" class=\"sp_thmb thmb80\" onclick=\"return goOtherCR(this, \\'a=nws_all*a.img&r=5&i=880000FF_000000000000000004242290&g=014.0004242290&u=\\'+urlencode(this.href));',\n",
       "  '<img src=\"https://search.pstatic.net/common/?src=https%3A%2F%2Fimgnews.pstatic.net%2Fimage%2Forigin%2F014%2F2019%2F06%2F10%2F4242290.jpg&type=ofullfill80_80_q75_re2\" class=\"\" alt=\"‘어비스’ 박보영, 권\" width=80 height=80 onerror=\"this.parentNode.style.display=\\'none\\';\">')]"
      ]
     },
     "execution_count": 793,
     "metadata": {},
     "output_type": "execute_result"
    }
   ],
   "source": [
    "re.findall(r'<div class=\"thumb\"><a href=\"(.+?)\">(.+?)<span class=\"thmb_v\"></span></a></div>',html.text)"
   ]
  },
  {
   "cell_type": "code",
   "execution_count": 768,
   "metadata": {},
   "outputs": [
    {
     "data": {
      "text/plain": [
       "<div class=\"photo_grid _box\"> <div class=\"img_area _item\" data-id=\"cafe19543191|2|7188201_1652871234\"> <a class=\"thumb _thumb\" href=\"#\" onclick=\"tCR('a=img_noc*c.img&amp;r=1&amp;i=cafe_6284d042d4a8dde8040b48a636e7e8a6&amp;g=897482196899611&amp;u=https%3A%2F%2Fcafe.naver.com%2Flolkor%2F7188201');\" title=\"여기 박보영빠돌이있지않음?? | 카페\"> <img alt=\"여기 박보영빠돌이있지않음?? | 카페\" class=\"_img\" data-height=\"1315\" data-source=\"https://search.pstatic.net/common/?src=http%3A%2F%2Fcafefiles.naver.net%2F20140419_115%2Falsdnr4721_1397918757998zpEC6_JPEG%2F-1042080401.jpg&amp;type=b400\" data-width=\"740\" onerror=\"var we=$Element(this); we.addClass('bg_nimg'); we.attr('alt','이미지준비중'); we.attr('src','data:image/gif;base64,R0lGODlhAQABAIAAAAAAAP///yH5BAEAAAAALAAAAAABAAEAAAIBRAA7');\" src=\"data:image/gif;base64,R0lGODlhAQABAIAAAAAAAP///yH5BAEAAAAALAAAAAABAAEAAAIBRAA7\"/><span class=\"img_border\"></span> <span class=\"data_img\"> <span class=\"data_bg\"></span> <span class=\"data_txt\"> <em class=\"tit\">여기 박보영빠돌이있지않음??</em> <span class=\"size\">740X1315</span> </span> </span> <span class=\"_meta\" style=\"display:none;\"> { \"crArea\": \"c\", \"rank\":\"1\", \"link\":\"https%3A%2F%2Fcafe.naver.com%2Flolkor%2F7188201\", \"title\":\"%EC%97%AC%EA%B8%B0%20%EB%B0%95%EB%B3%B4%EC%98%81%EB%B9%A0%EB%8F%8C%EC%9D%B4%EC%9E%88%EC%A7%80%EC%95%8A%EC%9D%8C%3F%3F\", \"date\":\"2014.04.19.\", \"originalUrl\":\"http%3A%2F%2Fcafefiles.naver.net%2F20140419_115%2Falsdnr4721_1397918757998zpEC6_JPEG%2F-1042080401.jpg\", \"imgId\":\"cafe19543191%7C2%7C7188201_1652871234\", \"source\":\"%EC%B9%B4%ED%8E%98\", \"orgWidth\":\"740\", \"orgHeight\":\"1315\", \"thumb\":\"https%3A%2F%2Fsearch.pstatic.net%2Fcommon%2F%3Fsrc%3Dhttp%253A%252F%252Fcafefiles.naver.net%252F20140419_115%252Falsdnr4721_1397918757998zpEC6_JPEG%252F-1042080401.jpg%26type%3Db400\", \"thumb44\":\"https%3A%2F%2Fsearch.pstatic.net%2Fcommon%2F%3Fsrc%3Dhttp%253A%252F%252Fcafefiles.naver.net%252F20140419_115%252Falsdnr4721_1397918757998zpEC6_JPEG%252F-1042080401.jpg%26type%3Dn88_88\", \"topUrl\":\"http%3A%2F%2Fcafe.naver.com%2Flolkor\", \"subsection\":\"%EB%A6%AC%EA%B7%B8%EC%98%A4%EB%B8%8C%EB%A0%88%EC%A0%84%EB%93%9C%20%ED%95%9C%EA%B5%AD%EC%BB%A4%EB%AE%A4%EB%8B%88%ED%8B%B0%20-%20LoLKor\", \"cclType\": \"0\", \"overbyte\": \"0\", \"gdid\": \"cafe_6284d042d4a8dde8040b48a636e7e8a6\", \"signature\": \"897482196899611\", \"sttData\": \"\", \"saslink\":\"http%3A%2F%2Fcafe.naver.com%2Flolkor%2F7188201\" } </span> </a> <a class=\"org_view spimg\" href=\"https://cafe.naver.com/lolkor/7188201\" onclick=\"return goOtherCR(this, 'a=img_noc*c.end&amp;r=1&amp;i=cafe_6284d042d4a8dde8040b48a636e7e8a6&amp;g=897482196899611&amp;u='+urlencode(this.href));\" target=\"_blank\" title=\"새창\">원본링크로 이동하기</a> </div> <div class=\"img_area _item\" data-id=\"news3110000985275_1674116988\"> <a class=\"thumb _thumb\" href=\"#\" onclick=\"tCR('a=img_noc*n.img&amp;r=2&amp;i=news_9c370084f37a34a9be33a6d1bd77894c&amp;g=69855116606993&amp;u=http%3A%2F%2Fnews.naver.com%2Fmain%2Fread.nhn%3Foid%3D311%26aid%3D0000985275');\" title=\"박보영 '요정이 눈 앞에'[엑's HD포토] | 포토뉴스\"> <img alt=\"박보영 '요정이 눈 앞에'[엑's HD포토] | 포토뉴스\" class=\"_img\" data-height=\"1280\" data-source=\"https://search.pstatic.net/common/?src=http%3A%2F%2Fimgnews.naver.net%2Fimage%2F311%2F2019%2F04%2F30%2F0000985275_001_20190430071110015.jpg&amp;type=b400\" data-width=\"877\" onerror=\"var we=$Element(this); we.addClass('bg_nimg'); we.attr('alt','이미지준비중'); we.attr('src','data:image/gif;base64,R0lGODlhAQABAIAAAAAAAP///yH5BAEAAAAALAAAAAABAAEAAAIBRAA7');\" src=\"data:image/gif;base64,R0lGODlhAQABAIAAAAAAAP///yH5BAEAAAAALAAAAAABAAEAAAIBRAA7\"/><span class=\"img_border\"></span> <span class=\"data_img\"> <span class=\"data_bg\"></span> <span class=\"data_txt\"> <em class=\"tit\">박보영 '요정이 눈 앞에'[엑's HD포토]</em> <span class=\"size\">877X1280</span> </span> </span> <span class=\"_meta\" style=\"display:none;\"> { \"crArea\": \"n\", \"rank\":\"2\", \"link\":\"http%3A%2F%2Fnews.naver.com%2Fmain%2Fread.nhn%3Foid%3D311%26aid%3D0000985275\", \"title\":\"%EB%B0%95%EB%B3%B4%EC%98%81%20%27%EC%9A%94%EC%A0%95%EC%9D%B4%20%EB%88%88%20%EC%95%9E%EC%97%90%27%5B%EC%97%91%27s%20HD%ED%8F%AC%ED%86%A0%5D\", \"date\":\"2019.04.30.\", \"originalUrl\":\"http%3A%2F%2Fimgnews.naver.net%2Fimage%2F311%2F2019%2F04%2F30%2F0000985275_001_20190430071110015.jpg\", \"imgId\":\"news3110000985275_1674116988\", \"source\":\"%ED%8F%AC%ED%86%A0%EB%89%B4%EC%8A%A4\", \"orgWidth\":\"877\", \"orgHeight\":\"1280\", \"thumb\":\"https%3A%2F%2Fsearch.pstatic.net%2Fcommon%2F%3Fsrc%3Dhttp%253A%252F%252Fimgnews.naver.net%252Fimage%252F311%252F2019%252F04%252F30%252F0000985275_001_20190430071110015.jpg%26type%3Db400\", \"thumb44\":\"https%3A%2F%2Fsearch.pstatic.net%2Fcommon%2F%3Fsrc%3Dhttp%253A%252F%252Fimgnews.naver.net%252Fimage%252F311%252F2019%252F04%252F30%252F0000985275_001_20190430071110015.jpg%26type%3Dn88_88\", \"topUrl\":\"http%3A%2F%2Fnews.naver.com%2Fmain%2Fread.nhn%3Foid%3D311%26aid%3D0000985275\", \"subsection\":\"\", \"cclType\": \"0\", \"overbyte\": \"0\", \"gdid\": \"news_9c370084f37a34a9be33a6d1bd77894c\", \"signature\": \"69855116606993\", \"sttData\": \"\", \"saslink\":\"http%3A%2F%2Fnews.naver.com%2Fmain%2Fread.nhn%3Foid%3D311%26aid%3D0000985275\" } </span> </a> <a class=\"org_view spimg\" href=\"http://news.naver.com/main/read.nhn?oid=311&amp;aid=0000985275\" onclick=\"return goOtherCR(this, 'a=img_noc*n.end&amp;r=2&amp;i=news_9c370084f37a34a9be33a6d1bd77894c&amp;g=69855116606993&amp;u='+urlencode(this.href));\" target=\"_blank\" title=\"새창\">원본링크로 이동하기</a> </div> <div class=\"img_area _item\" data-id=\"blog109239965|68|221312256207_1988156783\"> <a class=\"thumb _thumb\" href=\"#\" onclick=\"tCR('a=img_noc*b.img&amp;r=3&amp;i=blog_897f229137f2a00a15479ee5842a2b7f&amp;g=672061796581458&amp;u=https%3A%2F%2Fblog.naver.com%2Fjs2y86%2F221312256207');\" title=\"박보영 : 힘쎈여자도봉순 도봉순 | 블로그\"> <img alt=\"박보영 : 힘쎈여자도봉순 도봉순 | 블로그\" class=\"_img\" data-height=\"1280\" data-source=\"https://search.pstatic.net/common/?src=http%3A%2F%2Fblogfiles.naver.net%2FMjAxODA3MDRfMTQ4%2FMDAxNTMwNjY3NjY3NjEz.zj9Umgo5orK-9sGr3r5yWQBn9HIYKJY3YVzz4Gzk1bsg.cstJdYVKQm2SFg5M9o0TVOKPaMBM5ud-Rag1IaPZ9Lkg.JPEG.js2y86%2Fqkrqhdud14.jpg&amp;type=b400\" data-width=\"853\" onerror=\"var we=$Element(this); we.addClass('bg_nimg'); we.attr('alt','이미지준비중'); we.attr('src','data:image/gif;base64,R0lGODlhAQABAIAAAAAAAP///yH5BAEAAAAALAAAAAABAAEAAAIBRAA7');\" src=\"data:image/gif;base64,R0lGODlhAQABAIAAAAAAAP///yH5BAEAAAAALAAAAAABAAEAAAIBRAA7\"/><span class=\"img_border\"></span> <span class=\"data_img\"> <span class=\"data_bg\"></span> <span class=\"data_txt\"> <em class=\"tit\">박보영 : 힘쎈여자도봉순 도봉순</em> <span class=\"size\">853X1280</span> </span> </span> <span class=\"_meta\" style=\"display:none;\"> { \"crArea\": \"b\", \"rank\":\"3\", \"link\":\"https%3A%2F%2Fblog.naver.com%2Fjs2y86%2F221312256207\", \"title\":\"%EB%B0%95%EB%B3%B4%EC%98%81%20%3A%20%ED%9E%98%EC%8E%88%EC%97%AC%EC%9E%90%EB%8F%84%EB%B4%89%EC%88%9C%20%EB%8F%84%EB%B4%89%EC%88%9C\", \"date\":\"2018.07.04.\", \"originalUrl\":\"http%3A%2F%2Fblogfiles.naver.net%2FMjAxODA3MDRfMTQ4%2FMDAxNTMwNjY3NjY3NjEz.zj9Umgo5orK-9sGr3r5yWQBn9HIYKJY3YVzz4Gzk1bsg.cstJdYVKQm2SFg5M9o0TVOKPaMBM5ud-Rag1IaPZ9Lkg.JPEG.js2y86%2Fqkrqhdud14.jpg\", \"imgId\":\"blog109239965%7C68%7C221312256207_1988156783\", \"source\":\"%EB%B8%94%EB%A1%9C%EA%B7%B8\", \"orgWidth\":\"853\", \"orgHeight\":\"1280\", \"thumb\":\"https%3A%2F%2Fsearch.pstatic.net%2Fcommon%2F%3Fsrc%3Dhttp%253A%252F%252Fblogfiles.naver.net%252FMjAxODA3MDRfMTQ4%252FMDAxNTMwNjY3NjY3NjEz.zj9Umgo5orK-9sGr3r5yWQBn9HIYKJY3YVzz4Gzk1bsg.cstJdYVKQm2SFg5M9o0TVOKPaMBM5ud-Rag1IaPZ9Lkg.JPEG.js2y86%252Fqkrqhdud14.jpg%26type%3Db400\", \"thumb44\":\"https%3A%2F%2Fsearch.pstatic.net%2Fcommon%2F%3Fsrc%3Dhttp%253A%252F%252Fblogfiles.naver.net%252FMjAxODA3MDRfMTQ4%252FMDAxNTMwNjY3NjY3NjEz.zj9Umgo5orK-9sGr3r5yWQBn9HIYKJY3YVzz4Gzk1bsg.cstJdYVKQm2SFg5M9o0TVOKPaMBM5ud-Rag1IaPZ9Lkg.JPEG.js2y86%252Fqkrqhdud14.jpg%26type%3Dn88_88\", \"topUrl\":\"https%3A%2F%2Fblog.naver.com%2Fjs2y86\", \"subsection\":\"%EC%84%BC%EC%B9%98%ED%95%9C%EB%B0%95%EC%96%91%27s%20%EA%B0%90%EC%84%B1%EB%93%9C%EB%9D%BC%EB%A7%88%26%EB%A6%AC%EB%B7%B0%EB%85%B8%ED%8A%B8\", \"cclType\": \"5\", \"overbyte\": \"0\", \"gdid\": \"blog_897f229137f2a00a15479ee5842a2b7f\", \"signature\": \"672061796581458\", \"sttData\": \"\", \"saslink\":\"http%3A%2F%2Fblog.naver.com%2Fjs2y86%2F221312256207\" } </span> </a> <a class=\"org_view spimg\" href=\"https://blog.naver.com/js2y86/221312256207\" onclick=\"return goOtherCR(this, 'a=img_noc*b.end&amp;r=3&amp;i=blog_897f229137f2a00a15479ee5842a2b7f&amp;g=672061796581458&amp;u='+urlencode(this.href));\" target=\"_blank\" title=\"새창\">원본링크로 이동하기</a> </div> <div class=\"img_area _item\" data-id=\"blog125472282|6|221375003275_1485751980\"> <a class=\"thumb _thumb\" href=\"#\" onclick=\"tCR('a=img_noc*b.img&amp;r=4&amp;i=blog_a7713954e4e54ddeed0a64679e6233e0&amp;g=918487034645198&amp;u=https%3A%2F%2Fblog.naver.com%2Fangel000429%2F221375003275');\" title=\"박보영 사진 모음 #1 (스왑주의) | 블로그\"> <img alt=\"박보영 사진 모음 #1 (스왑주의) | 블로그\" class=\"_img\" data-height=\"1255\" data-source=\"https://search.pstatic.net/common/?src=http%3A%2F%2Fblogfiles.naver.net%2FMjAxODEwMTBfMTA1%2FMDAxNTM5MTc2ODM0MDI5.mlRvQ8JGvq5N4tNpgT_wWgPrxlMg6cHXpGDGISJ9iskg.i0sOEaB-ad78ykWXzDiHA33UAqp-g-Mr2ZqPrkD_tZ0g.JPEG.angel000429%2F1539176666436.jpg&amp;type=b400\" data-width=\"900\" onerror=\"var we=$Element(this); we.addClass('bg_nimg'); we.attr('alt','이미지준비중'); we.attr('src','data:image/gif;base64,R0lGODlhAQABAIAAAAAAAP///yH5BAEAAAAALAAAAAABAAEAAAIBRAA7');\" src=\"data:image/gif;base64,R0lGODlhAQABAIAAAAAAAP///yH5BAEAAAAALAAAAAABAAEAAAIBRAA7\"/><span class=\"img_border\"></span> <span class=\"data_img\"> <span class=\"data_bg\"></span> <span class=\"data_txt\"> <em class=\"tit\">박보영 사진 모음 #1 (스왑주의)</em> <span class=\"size\">900X1255</span> </span> </span> <span class=\"_meta\" style=\"display:none;\"> { \"crArea\": \"b\", \"rank\":\"4\", \"link\":\"https%3A%2F%2Fblog.naver.com%2Fangel000429%2F221375003275\", \"title\":\"%EB%B0%95%EB%B3%B4%EC%98%81%20%EC%82%AC%EC%A7%84%20%EB%AA%A8%EC%9D%8C%20%231%20(%EC%8A%A4%EC%99%91%EC%A3%BC%EC%9D%98)\", \"date\":\"2018.10.10.\", \"originalUrl\":\"http%3A%2F%2Fblogfiles.naver.net%2FMjAxODEwMTBfMTA1%2FMDAxNTM5MTc2ODM0MDI5.mlRvQ8JGvq5N4tNpgT_wWgPrxlMg6cHXpGDGISJ9iskg.i0sOEaB-ad78ykWXzDiHA33UAqp-g-Mr2ZqPrkD_tZ0g.JPEG.angel000429%2F1539176666436.jpg\", \"imgId\":\"blog125472282%7C6%7C221375003275_1485751980\", \"source\":\"%EB%B8%94%EB%A1%9C%EA%B7%B8\", \"orgWidth\":\"900\", \"orgHeight\":\"1255\", \"thumb\":\"https%3A%2F%2Fsearch.pstatic.net%2Fcommon%2F%3Fsrc%3Dhttp%253A%252F%252Fblogfiles.naver.net%252FMjAxODEwMTBfMTA1%252FMDAxNTM5MTc2ODM0MDI5.mlRvQ8JGvq5N4tNpgT_wWgPrxlMg6cHXpGDGISJ9iskg.i0sOEaB-ad78ykWXzDiHA33UAqp-g-Mr2ZqPrkD_tZ0g.JPEG.angel000429%252F1539176666436.jpg%26type%3Db400\", \"thumb44\":\"https%3A%2F%2Fsearch.pstatic.net%2Fcommon%2F%3Fsrc%3Dhttp%253A%252F%252Fblogfiles.naver.net%252FMjAxODEwMTBfMTA1%252FMDAxNTM5MTc2ODM0MDI5.mlRvQ8JGvq5N4tNpgT_wWgPrxlMg6cHXpGDGISJ9iskg.i0sOEaB-ad78ykWXzDiHA33UAqp-g-Mr2ZqPrkD_tZ0g.JPEG.angel000429%252F1539176666436.jpg%26type%3Dn88_88\", \"topUrl\":\"https%3A%2F%2Fblog.naver.com%2Fangel000429\", \"subsection\":\"Tomato%E2%99%A5\", \"cclType\": \"0\", \"overbyte\": \"0\", \"gdid\": \"blog_a7713954e4e54ddeed0a64679e6233e0\", \"signature\": \"918487034645198\", \"sttData\": \"\", \"saslink\":\"http%3A%2F%2Fblog.naver.com%2Fangel000429%2F221375003275\" } </span> </a> <a class=\"org_view spimg\" href=\"https://blog.naver.com/angel000429/221375003275\" onclick=\"return goOtherCR(this, 'a=img_noc*b.end&amp;r=4&amp;i=blog_a7713954e4e54ddeed0a64679e6233e0&amp;g=918487034645198&amp;u='+urlencode(this.href));\" target=\"_blank\" title=\"새창\">원본링크로 이동하기</a> </div> <div class=\"img_area _item\" data-id=\"blog312152|177|220547737423_821147408\"> <a class=\"thumb _thumb\" href=\"#\" onclick=\"tCR('a=img_noc*b.img&amp;r=5&amp;i=blog_cf0e48f0791866401803bd69965b78c6&amp;g=390122920954725&amp;u=https%3A%2F%2Fblog.naver.com%2Fqazwsx2002%2F220547737423');\" title=\"'열정같은소리하고있네' 박보영·정재영, 겨울 패션 화보 공개 | 블로그\"> <img alt=\"'열정같은소리하고있네' 박보영·정재영, 겨울 패션 화보 공개 | 블로그\" class=\"_img\" data-height=\"353\" data-source=\"https://search.pstatic.net/common/?src=http%3A%2F%2Fblogfiles.naver.net%2F20151123_272%2Fqazwsx2002_1448267051132FmL3G_JPEG%2F002.jpg&amp;type=b400\" data-width=\"550\" onerror=\"var we=$Element(this); we.addClass('bg_nimg'); we.attr('alt','이미지준비중'); we.attr('src','data:image/gif;base64,R0lGODlhAQABAIAAAAAAAP///yH5BAEAAAAALAAAAAABAAEAAAIBRAA7');\" src=\"data:image/gif;base64,R0lGODlhAQABAIAAAAAAAP///yH5BAEAAAAALAAAAAABAAEAAAIBRAA7\"/><span class=\"img_border\"></span> <span class=\"data_img\"> <span class=\"data_bg\"></span> <span class=\"data_txt\"> <em class=\"tit\">'열정같은소리하고있네' 박보영·정재영, 겨울 패션 화보 공개</em> <span class=\"size\">550X353</span> </span> </span> <span class=\"_meta\" style=\"display:none;\"> { \"crArea\": \"b\", \"rank\":\"5\", \"link\":\"https%3A%2F%2Fblog.naver.com%2Fqazwsx2002%2F220547737423\", \"title\":\"%27%EC%97%B4%EC%A0%95%EA%B0%99%EC%9D%80%EC%86%8C%EB%A6%AC%ED%95%98%EA%B3%A0%EC%9E%88%EB%84%A4%27%20%EB%B0%95%EB%B3%B4%EC%98%81%C2%B7%EC%A0%95%EC%9E%AC%EC%98%81%2C%20%EA%B2%A8%EC%9A%B8%20%ED%8C%A8%EC%85%98%20%ED%99%94%EB%B3%B4%20%EA%B3%B5%EA%B0%9C\", \"date\":\"2015.11.23.\", \"originalUrl\":\"http%3A%2F%2Fblogfiles.naver.net%2F20151123_272%2Fqazwsx2002_1448267051132FmL3G_JPEG%2F002.jpg\", \"imgId\":\"blog312152%7C177%7C220547737423_821147408\", \"source\":\"%EB%B8%94%EB%A1%9C%EA%B7%B8\", \"orgWidth\":\"550\", \"orgHeight\":\"353\", \"thumb\":\"https%3A%2F%2Fsearch.pstatic.net%2Fcommon%2F%3Fsrc%3Dhttp%253A%252F%252Fblogfiles.naver.net%252F20151123_272%252Fqazwsx2002_1448267051132FmL3G_JPEG%252F002.jpg%26type%3Db400\", \"thumb44\":\"https%3A%2F%2Fsearch.pstatic.net%2Fcommon%2F%3Fsrc%3Dhttp%253A%252F%252Fblogfiles.naver.net%252F20151123_272%252Fqazwsx2002_1448267051132FmL3G_JPEG%252F002.jpg%26type%3Dn88_88\", \"topUrl\":\"https%3A%2F%2Fblog.naver.com%2Fqazwsx2002\", \"subsection\":\"%5B%EB%94%94%EC%BD%98%ED%83%80%EC%9E%84%EC%A6%88%5D%20%EA%B2%8C%EC%9E%84.IT%EC%BB%B4%ED%93%A8%ED%84%B0.%EB%AC%B8%ED%99%94.%EC%97%B0%EC%98%88.%EB%AC%B8%ED%95%99.e%EC%8A%A4%ED%8F%AC%EC%B8%A0\", \"cclType\": \"5\", \"overbyte\": \"0\", \"gdid\": \"blog_cf0e48f0791866401803bd69965b78c6\", \"signature\": \"390122920954725\", \"sttData\": \"\", \"saslink\":\"http%3A%2F%2Fblog.naver.com%2Fqazwsx2002%2F220547737423\" } </span> </a> <a class=\"org_view spimg\" href=\"https://blog.naver.com/qazwsx2002/220547737423\" onclick=\"return goOtherCR(this, 'a=img_noc*b.end&amp;r=5&amp;i=blog_cf0e48f0791866401803bd69965b78c6&amp;g=390122920954725&amp;u='+urlencode(this.href));\" target=\"_blank\" title=\"새창\">원본링크로 이동하기</a> </div> <div class=\"img_area _item\" data-id=\"blog12221010|454|40177469965_629949431\"> <a class=\"thumb _thumb\" href=\"#\" onclick=\"tCR('a=img_noc*b.img&amp;r=6&amp;i=blog_258c43f74d12f504ab2b7a9a7f121417&amp;g=707942586928500&amp;u=https%3A%2F%2Fblog.naver.com%2Fmeem1234%2F40177469965');\" title=\"박보영 에스콰이어 화보  | 블로그\"> <img alt=\"박보영 에스콰이어 화보  | 블로그\" class=\"_img\" data-height=\"661\" data-source=\"https://search.pstatic.net/common/?src=http%3A%2F%2Fblogfiles.naver.net%2F20130115_197%2Fmeem1234_1358224908968XtlPr_JPEG%2F616134414dc99047d8b5cd8114e9118d_789NWL7Emre4gBcdWhB5lvIS.jpg&amp;type=b400\" data-width=\"850\" onerror=\"var we=$Element(this); we.addClass('bg_nimg'); we.attr('alt','이미지준비중'); we.attr('src','data:image/gif;base64,R0lGODlhAQABAIAAAAAAAP///yH5BAEAAAAALAAAAAABAAEAAAIBRAA7');\" src=\"data:image/gif;base64,R0lGODlhAQABAIAAAAAAAP///yH5BAEAAAAALAAAAAABAAEAAAIBRAA7\"/><span class=\"img_border\"></span> <span class=\"data_img\"> <span class=\"data_bg\"></span> <span class=\"data_txt\"> <em class=\"tit\">박보영 에스콰이어 화보 </em> <span class=\"size\">850X661</span> </span> </span> <span class=\"_meta\" style=\"display:none;\"> { \"crArea\": \"b\", \"rank\":\"6\", \"link\":\"https%3A%2F%2Fblog.naver.com%2Fmeem1234%2F40177469965\", \"title\":\"%EB%B0%95%EB%B3%B4%EC%98%81%20%EC%97%90%EC%8A%A4%EC%BD%B0%EC%9D%B4%EC%96%B4%20%ED%99%94%EB%B3%B4%20\", \"date\":\"2013.01.15.\", \"originalUrl\":\"http%3A%2F%2Fblogfiles.naver.net%2F20130115_197%2Fmeem1234_1358224908968XtlPr_JPEG%2F616134414dc99047d8b5cd8114e9118d_789NWL7Emre4gBcdWhB5lvIS.jpg\", \"imgId\":\"blog12221010%7C454%7C40177469965_629949431\", \"source\":\"%EB%B8%94%EB%A1%9C%EA%B7%B8\", \"orgWidth\":\"850\", \"orgHeight\":\"661\", \"thumb\":\"https%3A%2F%2Fsearch.pstatic.net%2Fcommon%2F%3Fsrc%3Dhttp%253A%252F%252Fblogfiles.naver.net%252F20130115_197%252Fmeem1234_1358224908968XtlPr_JPEG%252F616134414dc99047d8b5cd8114e9118d_789NWL7Emre4gBcdWhB5lvIS.jpg%26type%3Db400\", \"thumb44\":\"https%3A%2F%2Fsearch.pstatic.net%2Fcommon%2F%3Fsrc%3Dhttp%253A%252F%252Fblogfiles.naver.net%252F20130115_197%252Fmeem1234_1358224908968XtlPr_JPEG%252F616134414dc99047d8b5cd8114e9118d_789NWL7Emre4gBcdWhB5lvIS.jpg%26type%3Dn88_88\", \"topUrl\":\"https%3A%2F%2Fblog.naver.com%2Fmeem1234\", \"subsection\":\"%EC%8A%A4%ED%83%80%ED%8F%BC\", \"cclType\": \"5\", \"overbyte\": \"0\", \"gdid\": \"blog_258c43f74d12f504ab2b7a9a7f121417\", \"signature\": \"707942586928500\", \"sttData\": \"\", \"saslink\":\"http%3A%2F%2Fblog.naver.com%2Fmeem1234%2F40177469965\" } </span> </a> <a class=\"org_view spimg\" href=\"https://blog.naver.com/meem1234/40177469965\" onclick=\"return goOtherCR(this, 'a=img_noc*b.end&amp;r=6&amp;i=blog_258c43f74d12f504ab2b7a9a7f121417&amp;g=707942586928500&amp;u='+urlencode(this.href));\" target=\"_blank\" title=\"새창\">원본링크로 이동하기</a> </div> <div class=\"img_area _item\" data-id=\"blog8512687|26|150109745686_824587102\"> <a class=\"thumb _thumb\" href=\"#\" onclick=\"tCR('a=img_noc*b.img&amp;r=7&amp;i=blog_3126335ec3999bddae1d164569bff843&amp;g=637012247579639&amp;u=https%3A%2F%2Fblog.naver.com%2Fpjh34091%2F150109745686');\" title=\"최근 박보영 새로운 화보 | 블로그\"> <img alt=\"최근 박보영 새로운 화보 | 블로그\" class=\"_img\" data-height=\"483\" data-source=\"https://search.pstatic.net/common/?src=http%3A%2F%2Fblogfiles.naver.net%2F20110525_18%2Fpjh34091_1306290554589AVmww_JPEG%2F%25B9%25DA%25BA%25B8%25BF%25B5_%25BB%25F5%25B7%25CE%25BF%25EE_%25C8%25AD%25BA%25B8_0.jpg&amp;type=b400\" data-width=\"500\" onerror=\"var we=$Element(this); we.addClass('bg_nimg'); we.attr('alt','이미지준비중'); we.attr('src','data:image/gif;base64,R0lGODlhAQABAIAAAAAAAP///yH5BAEAAAAALAAAAAABAAEAAAIBRAA7');\" src=\"data:image/gif;base64,R0lGODlhAQABAIAAAAAAAP///yH5BAEAAAAALAAAAAABAAEAAAIBRAA7\"/><span class=\"img_border\"></span> <span class=\"data_img\"> <span class=\"data_bg\"></span> <span class=\"data_txt\"> <em class=\"tit\">최근 박보영 새로운 화보</em> <span class=\"size\">500X483</span> </span> </span> <span class=\"_meta\" style=\"display:none;\"> { \"crArea\": \"b\", \"rank\":\"7\", \"link\":\"https%3A%2F%2Fblog.naver.com%2Fpjh34091%2F150109745686\", \"title\":\"%EC%B5%9C%EA%B7%BC%20%EB%B0%95%EB%B3%B4%EC%98%81%20%EC%83%88%EB%A1%9C%EC%9A%B4%20%ED%99%94%EB%B3%B4\", \"date\":\"2011.05.25.\", \"originalUrl\":\"http%3A%2F%2Fblogfiles.naver.net%2F20110525_18%2Fpjh34091_1306290554589AVmww_JPEG%2F%25B9%25DA%25BA%25B8%25BF%25B5_%25BB%25F5%25B7%25CE%25BF%25EE_%25C8%25AD%25BA%25B8_0.jpg\", \"imgId\":\"blog8512687%7C26%7C150109745686_824587102\", \"source\":\"%EB%B8%94%EB%A1%9C%EA%B7%B8\", \"orgWidth\":\"500\", \"orgHeight\":\"483\", \"thumb\":\"https%3A%2F%2Fsearch.pstatic.net%2Fcommon%2F%3Fsrc%3Dhttp%253A%252F%252Fblogfiles.naver.net%252F20110525_18%252Fpjh34091_1306290554589AVmww_JPEG%252F%2525B9%2525DA%2525BA%2525B8%2525BF%2525B5_%2525BB%2525F5%2525B7%2525CE%2525BF%2525EE_%2525C8%2525AD%2525BA%2525B8_0.jpg%26type%3Db400\", \"thumb44\":\"https%3A%2F%2Fsearch.pstatic.net%2Fcommon%2F%3Fsrc%3Dhttp%253A%252F%252Fblogfiles.naver.net%252F20110525_18%252Fpjh34091_1306290554589AVmww_JPEG%252F%2525B9%2525DA%2525BA%2525B8%2525BF%2525B5_%2525BB%2525F5%2525B7%2525CE%2525BF%2525EE_%2525C8%2525AD%2525BA%2525B8_0.jpg%26type%3Dn88_88\", \"topUrl\":\"https%3A%2F%2Fblog.naver.com%2Fpjh34091\", \"subsection\":\"%27%C2%BA%E2%99%A1%C2%BA%27\", \"cclType\": \"0\", \"overbyte\": \"0\", \"gdid\": \"blog_3126335ec3999bddae1d164569bff843\", \"signature\": \"637012247579639\", \"sttData\": \"\", \"saslink\":\"http%3A%2F%2Fblog.naver.com%2Fpjh34091%2F150109745686\" } </span> </a> <a class=\"org_view spimg\" href=\"https://blog.naver.com/pjh34091/150109745686\" onclick=\"return goOtherCR(this, 'a=img_noc*b.end&amp;r=7&amp;i=blog_3126335ec3999bddae1d164569bff843&amp;g=637012247579639&amp;u='+urlencode(this.href));\" target=\"_blank\" title=\"새창\">원본링크로 이동하기</a> </div> <div class=\"img_area _item\" data-id=\"news50790000540943_888530510\"> <a class=\"thumb _thumb\" href=\"#\" onclick=\"tCR('a=img_noc*n.img&amp;r=8&amp;i=news_34f5e64e622ab5db841072e017f98cfc&amp;g=51987839530090&amp;u=http%3A%2F%2Fwww.asiatoday.co.kr%2Fnews%2Fview.asp%3Fseq%3D766713');\" title='박보영 심경 \"원래 징징대는 편인데…\" 김상유 대표 글 논란 해명? | 포토뉴스'> <img alt='박보영 심경 \"원래 징징대는 편인데…\" 김상유 대표 글 논란 해명? | 포토뉴스' class=\"_img\" data-height=\"679\" data-source=\"https://search.pstatic.net/common/?src=http%3A%2F%2Fimgnews.naver.net%2Fimage%2F5079%2F2013%2F02%2F12%2F766713_0_m500679_58628_59_20130212133540.jpg&amp;type=b400\" data-width=\"500\" onerror=\"var we=$Element(this); we.addClass('bg_nimg'); we.attr('alt','이미지준비중'); we.attr('src','data:image/gif;base64,R0lGODlhAQABAIAAAAAAAP///yH5BAEAAAAALAAAAAABAAEAAAIBRAA7');\" src=\"data:image/gif;base64,R0lGODlhAQABAIAAAAAAAP///yH5BAEAAAAALAAAAAABAAEAAAIBRAA7\"/><span class=\"img_border\"></span> <span class=\"data_img\"> <span class=\"data_bg\"></span> <span class=\"data_txt\"> <em class=\"tit\">박보영 심경 \"원래 징징대는 편인데…\" 김상유 대표 글 논란 해명?</em> <span class=\"size\">500X679</span> </span> </span> <span class=\"_meta\" style=\"display:none;\"> { \"crArea\": \"n\", \"rank\":\"8\", \"link\":\"http%3A%2F%2Fwww.asiatoday.co.kr%2Fnews%2Fview.asp%3Fseq%3D766713\", \"title\":\"%EB%B0%95%EB%B3%B4%EC%98%81%20%EC%8B%AC%EA%B2%BD%20%26quot%3B%EC%9B%90%EB%9E%98%20%EC%A7%95%EC%A7%95%EB%8C%80%EB%8A%94%20%ED%8E%B8%EC%9D%B8%EB%8D%B0%E2%80%A6%26quot%3B%20%EA%B9%80%EC%83%81%EC%9C%A0%20%EB%8C%80%ED%91%9C%20%EA%B8%80%20%EB%85%BC%EB%9E%80%20%ED%95%B4%EB%AA%85%3F\", \"date\":\"2013.02.12.\", \"originalUrl\":\"http%3A%2F%2Fimgnews.naver.net%2Fimage%2F5079%2F2013%2F02%2F12%2F766713_0_m500679_58628_59_20130212133540.jpg\", \"imgId\":\"news50790000540943_888530510\", \"source\":\"%ED%8F%AC%ED%86%A0%EB%89%B4%EC%8A%A4\", \"orgWidth\":\"500\", \"orgHeight\":\"679\", \"thumb\":\"https%3A%2F%2Fsearch.pstatic.net%2Fcommon%2F%3Fsrc%3Dhttp%253A%252F%252Fimgnews.naver.net%252Fimage%252F5079%252F2013%252F02%252F12%252F766713_0_m500679_58628_59_20130212133540.jpg%26type%3Db400\", \"thumb44\":\"https%3A%2F%2Fsearch.pstatic.net%2Fcommon%2F%3Fsrc%3Dhttp%253A%252F%252Fimgnews.naver.net%252Fimage%252F5079%252F2013%252F02%252F12%252F766713_0_m500679_58628_59_20130212133540.jpg%26type%3Dn88_88\", \"topUrl\":\"http%3A%2F%2Fwww.asiatoday.co.kr%2Fnews%2Fview.asp%3Fseq%3D766713\", \"subsection\":\"\", \"cclType\": \"0\", \"overbyte\": \"0\", \"gdid\": \"news_34f5e64e622ab5db841072e017f98cfc\", \"signature\": \"51987839530090\", \"sttData\": \"\", \"saslink\":\"http%3A%2F%2Fwww.asiatoday.co.kr%2Fnews%2Fview.asp%3Fseq%3D766713\" } </span> </a> <a class=\"org_view spimg\" href=\"http://www.asiatoday.co.kr/news/view.asp?seq=766713\" onclick=\"return goOtherCR(this, 'a=img_noc*n.end&amp;r=8&amp;i=news_34f5e64e622ab5db841072e017f98cfc&amp;g=51987839530090&amp;u='+urlencode(this.href));\" target=\"_blank\" title=\"새창\">원본링크로 이동하기</a> </div> <div class=\"img_area _item\" data-id=\"video|8814abf9_000003799092_1961129770\"> <a class=\"thumb _thumb\" href=\"#\" onclick=\"tCR('a=img_noc*7.img&amp;r=9&amp;i=video_74e4772aa5832fcefa4c9c6355bbe4be&amp;g=1103178619144453&amp;u=https%3A%2F%2Ftv.naver.com%2Fv%2F3799092');\" title=\"이제야 밝혀지는 두 사람의 진실?! 박보영, 김영광 인터뷰! | 동영상\"> <img alt=\"이제야 밝혀지는 두 사람의 진실?! 박보영, 김영광 인터뷰! | 동영상\" class=\"_img\" data-height=\"720\" data-source=\"https://search.pstatic.net/common/?src=https%3A%2F%2Fphinf.pstatic.net%2Ftvcast%2F20180823_97%2F7AbLf_1534989707099rBIu4_PNG%2Fzf8rcG9madjv.png&amp;type=b400\" data-width=\"1280\" onerror=\"var we=$Element(this); we.addClass('bg_nimg'); we.attr('alt','이미지준비중'); we.attr('src','data:image/gif;base64,R0lGODlhAQABAIAAAAAAAP///yH5BAEAAAAALAAAAAABAAEAAAIBRAA7');\" src=\"data:image/gif;base64,R0lGODlhAQABAIAAAAAAAP///yH5BAEAAAAALAAAAAABAAEAAAIBRAA7\"/><span class=\"img_border\"></span> <span class=\"data_img\"> <span class=\"data_bg\"></span> <span class=\"data_txt\"> <em class=\"tit\">이제야 밝혀지는 두 사람의 진실?! 박보영, 김영광 인터뷰!</em> <span class=\"size\">1280X720</span> </span> </span> <span class=\"_meta\" style=\"display:none;\"> { \"crArea\": \"7\", \"rank\":\"9\", \"link\":\"https%3A%2F%2Ftv.naver.com%2Fv%2F3799092\", \"title\":\"%EC%9D%B4%EC%A0%9C%EC%95%BC%20%EB%B0%9D%ED%98%80%EC%A7%80%EB%8A%94%20%EB%91%90%20%EC%82%AC%EB%9E%8C%EC%9D%98%20%EC%A7%84%EC%8B%A4%3F!%20%EB%B0%95%EB%B3%B4%EC%98%81%2C%20%EA%B9%80%EC%98%81%EA%B4%91%20%EC%9D%B8%ED%84%B0%EB%B7%B0!\", \"date\":\"2018.08.10.\", \"originalUrl\":\"https%3A%2F%2Fphinf.pstatic.net%2Ftvcast%2F20180823_97%2F7AbLf_1534989707099rBIu4_PNG%2Fzf8rcG9madjv.png\", \"imgId\":\"video%7C8814abf9_000003799092_1961129770\", \"source\":\"%EB%8F%99%EC%98%81%EC%83%81\", \"orgWidth\":\"1280\", \"orgHeight\":\"720\", \"thumb\":\"https%3A%2F%2Fsearch.pstatic.net%2Fcommon%2F%3Fsrc%3Dhttps%253A%252F%252Fphinf.pstatic.net%252Ftvcast%252F20180823_97%252F7AbLf_1534989707099rBIu4_PNG%252Fzf8rcG9madjv.png%26type%3Db400\", \"thumb44\":\"https%3A%2F%2Fsearch.pstatic.net%2Fcommon%2F%3Fsrc%3Dhttps%253A%252F%252Fphinf.pstatic.net%252Ftvcast%252F20180823_97%252F7AbLf_1534989707099rBIu4_PNG%252Fzf8rcG9madjv.png%26type%3Dn88_88\", \"topUrl\":\"https%3A%2F%2Ftv.naver.com%2Fv%2F3799092\", \"subsection\":\"%EC%97%B0%EC%98%88%EA%B0%80%20%EC%A4%91%EA%B3%84\", \"cclType\": \"0\", \"overbyte\": \"0\", \"gdid\": \"video_74e4772aa5832fcefa4c9c6355bbe4be\", \"signature\": \"1103178619144453\", \"sttData\": \"\", \"saslink\":\"https%3A%2F%2Ftv.naver.com%2Fv%2F3799092\" } </span> </a> <a class=\"org_view spimg\" href=\"https://tv.naver.com/v/3799092\" onclick=\"return goOtherCR(this, 'a=img_noc*7.end&amp;r=9&amp;i=video_74e4772aa5832fcefa4c9c6355bbe4be&amp;g=1103178619144453&amp;u='+urlencode(this.href));\" target=\"_blank\" title=\"새창\">원본링크로 이동하기</a> </div> <div class=\"img_area _item\" data-id=\"news3110000881291_616711152\"> <a class=\"thumb _thumb\" href=\"#\" onclick=\"tCR('a=img_noc*n.img&amp;r=10&amp;i=news_db3dbc10ce1a47f8d1679de5d6fc2913&amp;g=69672319020675&amp;u=http%3A%2F%2Fnews.naver.com%2Fmain%2Fread.nhn%3Foid%3D311%26aid%3D0000881291');\" title=\"[엑's HD화보] '뽀블리' 박보영 '야구장에서도 러블리~' | 포토뉴스\"> <img alt=\"[엑's HD화보] '뽀블리' 박보영 '야구장에서도 러블리~' | 포토뉴스\" class=\"_img\" data-height=\"1080\" data-source=\"https://search.pstatic.net/common/?src=http%3A%2F%2Fimgnews.naver.net%2Fimage%2F311%2F2018%2F07%2F26%2F0000881291_002_20180726205533782.jpg&amp;type=b400\" data-width=\"800\" onerror=\"var we=$Element(this); we.addClass('bg_nimg'); we.attr('alt','이미지준비중'); we.attr('src','data:image/gif;base64,R0lGODlhAQABAIAAAAAAAP///yH5BAEAAAAALAAAAAABAAEAAAIBRAA7');\" src=\"data:image/gif;base64,R0lGODlhAQABAIAAAAAAAP///yH5BAEAAAAALAAAAAABAAEAAAIBRAA7\"/><span class=\"img_border\"></span> <span class=\"data_img\"> <span class=\"data_bg\"></span> <span class=\"data_txt\"> <em class=\"tit\">[엑's HD화보] '뽀블리' 박보영 '야구장에서도 러블리~'</em> <span class=\"size\">800X1080</span> </span> </span> <span class=\"_meta\" style=\"display:none;\"> { \"crArea\": \"n\", \"rank\":\"10\", \"link\":\"http%3A%2F%2Fnews.naver.com%2Fmain%2Fread.nhn%3Foid%3D311%26aid%3D0000881291\", \"title\":\"%5B%EC%97%91%27s%20HD%ED%99%94%EB%B3%B4%5D%20%27%EB%BD%80%EB%B8%94%EB%A6%AC%27%20%EB%B0%95%EB%B3%B4%EC%98%81%20%27%EC%95%BC%EA%B5%AC%EC%9E%A5%EC%97%90%EC%84%9C%EB%8F%84%20%EB%9F%AC%EB%B8%94%EB%A6%AC~%27\", \"date\":\"2018.07.26.\", \"originalUrl\":\"http%3A%2F%2Fimgnews.naver.net%2Fimage%2F311%2F2018%2F07%2F26%2F0000881291_002_20180726205533782.jpg\", \"imgId\":\"news3110000881291_616711152\", \"source\":\"%ED%8F%AC%ED%86%A0%EB%89%B4%EC%8A%A4\", \"orgWidth\":\"800\", \"orgHeight\":\"1080\", \"thumb\":\"https%3A%2F%2Fsearch.pstatic.net%2Fcommon%2F%3Fsrc%3Dhttp%253A%252F%252Fimgnews.naver.net%252Fimage%252F311%252F2018%252F07%252F26%252F0000881291_002_20180726205533782.jpg%26type%3Db400\", \"thumb44\":\"https%3A%2F%2Fsearch.pstatic.net%2Fcommon%2F%3Fsrc%3Dhttp%253A%252F%252Fimgnews.naver.net%252Fimage%252F311%252F2018%252F07%252F26%252F0000881291_002_20180726205533782.jpg%26type%3Dn88_88\", \"topUrl\":\"http%3A%2F%2Fnews.naver.com%2Fmain%2Fread.nhn%3Foid%3D311%26aid%3D0000881291\", \"subsection\":\"\", \"cclType\": \"0\", \"overbyte\": \"0\", \"gdid\": \"news_db3dbc10ce1a47f8d1679de5d6fc2913\", \"signature\": \"69672319020675\", \"sttData\": \"\", \"saslink\":\"http%3A%2F%2Fnews.naver.com%2Fmain%2Fread.nhn%3Foid%3D311%26aid%3D0000881291\" } </span> </a> <a class=\"org_view spimg\" href=\"http://news.naver.com/main/read.nhn?oid=311&amp;aid=0000881291\" onclick=\"return goOtherCR(this, 'a=img_noc*n.end&amp;r=10&amp;i=news_db3dbc10ce1a47f8d1679de5d6fc2913&amp;g=69672319020675&amp;u='+urlencode(this.href));\" target=\"_blank\" title=\"새창\">원본링크로 이동하기</a> </div> <div class=\"img_area _item\" data-id=\"blog127976605|1|221338656822_1327872135\"> <a class=\"thumb _thumb\" href=\"#\" onclick=\"tCR('a=img_noc*b.img&amp;r=11&amp;i=blog_b0da4779d2c0518a48cac73182a83dd6&amp;g=587546565296229&amp;u=https%3A%2F%2Fblog.naver.com%2Fimsung_cho%2F221338656822');\" title=\"인터뷰 박보영 패션 옷 #써스데이아일랜드 쉬폰 블라우스_여자 여름 블라우스 | 블로그\"> <img alt=\"인터뷰 박보영 패션 옷 #써스데이아일랜드 쉬폰 블라우스_여자 여름 블라우스 | 블로그\" class=\"_img\" data-height=\"987\" data-source=\"https://search.pstatic.net/common/?src=http%3A%2F%2Fblogfiles.naver.net%2FMjAxODA4MTRfMTUz%2FMDAxNTM0MjIyMzAxMjU2.1J2e9Fy5EX_VLf367oeDAv28iL6v05bXV3hP2OkwgxMg.I1NMx1RH--8Yb0yx3j4EybMZUKVFHTf6lijc4R5LFJog.JPEG.imsung_cho%2F1533953928_1383617.jpg&amp;type=b400\" data-width=\"658\" onerror=\"var we=$Element(this); we.addClass('bg_nimg'); we.attr('alt','이미지준비중'); we.attr('src','data:image/gif;base64,R0lGODlhAQABAIAAAAAAAP///yH5BAEAAAAALAAAAAABAAEAAAIBRAA7');\" src=\"data:image/gif;base64,R0lGODlhAQABAIAAAAAAAP///yH5BAEAAAAALAAAAAABAAEAAAIBRAA7\"/><span class=\"img_border\"></span> <span class=\"data_img\"> <span class=\"data_bg\"></span> <span class=\"data_txt\"> <em class=\"tit\">인터뷰 박보영 패션 옷 #써스데이아일랜드 쉬폰 블라우스_여자 여름 블라우스</em> <span class=\"size\">658X987</span> </span> </span> <span class=\"_meta\" style=\"display:none;\"> { \"crArea\": \"b\", \"rank\":\"11\", \"link\":\"https%3A%2F%2Fblog.naver.com%2Fimsung_cho%2F221338656822\", \"title\":\"%EC%9D%B8%ED%84%B0%EB%B7%B0%20%EB%B0%95%EB%B3%B4%EC%98%81%20%ED%8C%A8%EC%85%98%20%EC%98%B7%20%23%EC%8D%A8%EC%8A%A4%EB%8D%B0%EC%9D%B4%EC%95%84%EC%9D%BC%EB%9E%9C%EB%93%9C%20%EC%89%AC%ED%8F%B0%20%EB%B8%94%EB%9D%BC%EC%9A%B0%EC%8A%A4_%EC%97%AC%EC%9E%90%20%EC%97%AC%EB%A6%84%20%EB%B8%94%EB%9D%BC%EC%9A%B0%EC%8A%A4\", \"date\":\"2018.08.14.\", \"originalUrl\":\"http%3A%2F%2Fblogfiles.naver.net%2FMjAxODA4MTRfMTUz%2FMDAxNTM0MjIyMzAxMjU2.1J2e9Fy5EX_VLf367oeDAv28iL6v05bXV3hP2OkwgxMg.I1NMx1RH--8Yb0yx3j4EybMZUKVFHTf6lijc4R5LFJog.JPEG.imsung_cho%2F1533953928_1383617.jpg\", \"imgId\":\"blog127976605%7C1%7C221338656822_1327872135\", \"source\":\"%EB%B8%94%EB%A1%9C%EA%B7%B8\", \"orgWidth\":\"658\", \"orgHeight\":\"987\", \"thumb\":\"https%3A%2F%2Fsearch.pstatic.net%2Fcommon%2F%3Fsrc%3Dhttp%253A%252F%252Fblogfiles.naver.net%252FMjAxODA4MTRfMTUz%252FMDAxNTM0MjIyMzAxMjU2.1J2e9Fy5EX_VLf367oeDAv28iL6v05bXV3hP2OkwgxMg.I1NMx1RH--8Yb0yx3j4EybMZUKVFHTf6lijc4R5LFJog.JPEG.imsung_cho%252F1533953928_1383617.jpg%26type%3Db400\", \"thumb44\":\"https%3A%2F%2Fsearch.pstatic.net%2Fcommon%2F%3Fsrc%3Dhttp%253A%252F%252Fblogfiles.naver.net%252FMjAxODA4MTRfMTUz%252FMDAxNTM0MjIyMzAxMjU2.1J2e9Fy5EX_VLf367oeDAv28iL6v05bXV3hP2OkwgxMg.I1NMx1RH--8Yb0yx3j4EybMZUKVFHTf6lijc4R5LFJog.JPEG.imsung_cho%252F1533953928_1383617.jpg%26type%3Dn88_88\", \"topUrl\":\"https%3A%2F%2Fblog.naver.com%2Fimsung_cho\", \"subsection\":\"%EC%88%91%EC%8A%A4\", \"cclType\": \"0\", \"overbyte\": \"0\", \"gdid\": \"blog_b0da4779d2c0518a48cac73182a83dd6\", \"signature\": \"587546565296229\", \"sttData\": \"\", \"saslink\":\"http%3A%2F%2Fblog.naver.com%2Fimsung_cho%2F221338656822\" } </span> </a> <a class=\"org_view spimg\" href=\"https://blog.naver.com/imsung_cho/221338656822\" onclick=\"return goOtherCR(this, 'a=img_noc*b.end&amp;r=11&amp;i=blog_b0da4779d2c0518a48cac73182a83dd6&amp;g=587546565296229&amp;u='+urlencode(this.href));\" target=\"_blank\" title=\"새창\">원본링크로 이동하기</a> </div> <div class=\"img_area _item\" data-id=\"post19567718_1070387733\"> <a class=\"thumb _thumb\" href=\"#\" onclick=\"tCR('a=img_noc*p.img&amp;r=12&amp;i=post_c0332deb04a098622b46a7bc283e63bf&amp;g=546540744620600&amp;u=https%3A%2F%2Fm.post.naver.com%2Fviewer%2FpostView.nhn%3FvolumeNo%3D19567718%26memberNo%3D38506%26vType%3DVERTICAL');\" title=\"[4K직캠] 박보영(Park Bo Young), 진짜 봄이 왔네요(190429) | 포스트\"> <img alt=\"[4K직캠] 박보영(Park Bo Young), 진짜 봄이 왔네요(190429) | 포스트\" class=\"_img\" data-height=\"495\" data-source=\"https://search.pstatic.net/common/?src=http%3A%2F%2Fpost.phinf.naver.net%2FMjAxOTA0MjlfMTA3%2FMDAxNTU2NTA0MzA2MzE4.0UAFhPY7p0odl0sTrtap8gh1ti63KbjaCRERw_8qyzwg.lheAC4SgbJ26pQtbPEoLpKq8f5QIPUtpMnz850vzzWMg.JPEG%2FIMBvaNWUWeK6v2onENvaworTmtAE.jpg&amp;type=b400\" data-width=\"880\" onerror=\"var we=$Element(this); we.addClass('bg_nimg'); we.attr('alt','이미지준비중'); we.attr('src','data:image/gif;base64,R0lGODlhAQABAIAAAAAAAP///yH5BAEAAAAALAAAAAABAAEAAAIBRAA7');\" src=\"data:image/gif;base64,R0lGODlhAQABAIAAAAAAAP///yH5BAEAAAAALAAAAAABAAEAAAIBRAA7\"/><span class=\"img_border\"></span> <span class=\"data_img\"> <span class=\"data_bg\"></span> <span class=\"data_txt\"> <em class=\"tit\">[4K직캠] 박보영(Park Bo Young), 진짜 봄이 왔네요(190429)</em> <span class=\"size\">880X495</span> </span> </span> <span class=\"_meta\" style=\"display:none;\"> { \"crArea\": \"p\", \"rank\":\"12\", \"link\":\"https%3A%2F%2Fm.post.naver.com%2Fviewer%2FpostView.nhn%3FvolumeNo%3D19567718%26memberNo%3D38506%26vType%3DVERTICAL\", \"title\":\"%5B4K%EC%A7%81%EC%BA%A0%5D%20%EB%B0%95%EB%B3%B4%EC%98%81(Park%20Bo%20Young)%2C%20%EC%A7%84%EC%A7%9C%20%EB%B4%84%EC%9D%B4%20%EC%99%94%EB%84%A4%EC%9A%94(190429)\", \"date\":\"2019.04.29.\", \"originalUrl\":\"http%3A%2F%2Fpost.phinf.naver.net%2FMjAxOTA0MjlfMTA3%2FMDAxNTU2NTA0MzA2MzE4.0UAFhPY7p0odl0sTrtap8gh1ti63KbjaCRERw_8qyzwg.lheAC4SgbJ26pQtbPEoLpKq8f5QIPUtpMnz850vzzWMg.JPEG%2FIMBvaNWUWeK6v2onENvaworTmtAE.jpg\", \"imgId\":\"post19567718_1070387733\", \"source\":\"%ED%8F%AC%EC%8A%A4%ED%8A%B8\", \"orgWidth\":\"880\", \"orgHeight\":\"495\", \"thumb\":\"https%3A%2F%2Fsearch.pstatic.net%2Fcommon%2F%3Fsrc%3Dhttp%253A%252F%252Fpost.phinf.naver.net%252FMjAxOTA0MjlfMTA3%252FMDAxNTU2NTA0MzA2MzE4.0UAFhPY7p0odl0sTrtap8gh1ti63KbjaCRERw_8qyzwg.lheAC4SgbJ26pQtbPEoLpKq8f5QIPUtpMnz850vzzWMg.JPEG%252FIMBvaNWUWeK6v2onENvaworTmtAE.jpg%26type%3Db400\", \"thumb44\":\"https%3A%2F%2Fsearch.pstatic.net%2Fcommon%2F%3Fsrc%3Dhttp%253A%252F%252Fpost.phinf.naver.net%252FMjAxOTA0MjlfMTA3%252FMDAxNTU2NTA0MzA2MzE4.0UAFhPY7p0odl0sTrtap8gh1ti63KbjaCRERw_8qyzwg.lheAC4SgbJ26pQtbPEoLpKq8f5QIPUtpMnz850vzzWMg.JPEG%252FIMBvaNWUWeK6v2onENvaworTmtAE.jpg%26type%3Dn88_88\", \"topUrl\":\"https%3A%2F%2Fm.post.naver.com%2Fviewer%2FpostView.nhn%3FvolumeNo%3D19567718%26memberNo%3D38506%26vType%3DVERTICAL\", \"subsection\":\"\", \"cclType\": \"0\", \"overbyte\": \"0\", \"gdid\": \"post_c0332deb04a098622b46a7bc283e63bf\", \"signature\": \"546540744620600\", \"sttData\": \"\", \"saslink\":\"https%3A%2F%2Fm.post.naver.com%2Fviewer%2FpostView.nhn%3FvolumeNo%3D19567718%26memberNo%3D38506%26vType%3DVERTICAL\" } </span> </a> <a class=\"org_view spimg\" href=\"https://m.post.naver.com/viewer/postView.nhn?volumeNo=19567718&amp;memberNo=38506&amp;vType=VERTICAL\" onclick=\"return goOtherCR(this, 'a=img_noc*p.end&amp;r=12&amp;i=post_c0332deb04a098622b46a7bc283e63bf&amp;g=546540744620600&amp;u='+urlencode(this.href));\" target=\"_blank\" title=\"새창\">원본링크로 이동하기</a> </div> <div class=\"img_area _item\" data-id=\"news0760003298090_1144232039\"> <a class=\"thumb _thumb\" href=\"#\" onclick=\"tCR('a=img_noc*n.img&amp;r=13&amp;i=news_bbcc67995763f892abcf0b406f56132c&amp;g=610106156260901&amp;u=http%3A%2F%2Fnews.naver.com%2Fmain%2Fread.nhn%3Foid%3D076%26aid%3D0003298090');\" title='[인터뷰①] 박보영 \"데뷔 이래 가장 나쁜女..♥ 참 어렵더라\" | 포토뉴스'> <img alt='[인터뷰①] 박보영 \"데뷔 이래 가장 나쁜女..♥ 참 어렵더라\" | 포토뉴스' class=\"_img\" data-height=\"803\" data-source=\"https://search.pstatic.net/common/?src=http%3A%2F%2Fimgnews.naver.net%2Fimage%2F076%2F2018%2F08%2F09%2F2018081001000825000059711_20180809115327017.jpg&amp;type=b400\" data-width=\"540\" onerror=\"var we=$Element(this); we.addClass('bg_nimg'); we.attr('alt','이미지준비중'); we.attr('src','data:image/gif;base64,R0lGODlhAQABAIAAAAAAAP///yH5BAEAAAAALAAAAAABAAEAAAIBRAA7');\" src=\"data:image/gif;base64,R0lGODlhAQABAIAAAAAAAP///yH5BAEAAAAALAAAAAABAAEAAAIBRAA7\"/><span class=\"img_border\"></span> <span class=\"data_img\"> <span class=\"data_bg\"></span> <span class=\"data_txt\"> <em class=\"tit\">[인터뷰①] 박보영 \"데뷔 이래 가장 나쁜女..♥ 참 어렵더라\"</em> <span class=\"size\">540X803</span> </span> </span> <span class=\"_meta\" style=\"display:none;\"> { \"crArea\": \"n\", \"rank\":\"13\", \"link\":\"http%3A%2F%2Fnews.naver.com%2Fmain%2Fread.nhn%3Foid%3D076%26aid%3D0003298090\", \"title\":\"%5B%EC%9D%B8%ED%84%B0%EB%B7%B0%E2%91%A0%5D%20%EB%B0%95%EB%B3%B4%EC%98%81%20%26quot%3B%EB%8D%B0%EB%B7%94%20%EC%9D%B4%EB%9E%98%20%EA%B0%80%EC%9E%A5%20%EB%82%98%EC%81%9C%EF%A6%81..%E2%99%A5%20%EC%B0%B8%20%EC%96%B4%EB%A0%B5%EB%8D%94%EB%9D%BC%26quot%3B\", \"date\":\"2018.08.09.\", \"originalUrl\":\"http%3A%2F%2Fimgnews.naver.net%2Fimage%2F076%2F2018%2F08%2F09%2F2018081001000825000059711_20180809115327017.jpg\", \"imgId\":\"news0760003298090_1144232039\", \"source\":\"%ED%8F%AC%ED%86%A0%EB%89%B4%EC%8A%A4\", \"orgWidth\":\"540\", \"orgHeight\":\"803\", \"thumb\":\"https%3A%2F%2Fsearch.pstatic.net%2Fcommon%2F%3Fsrc%3Dhttp%253A%252F%252Fimgnews.naver.net%252Fimage%252F076%252F2018%252F08%252F09%252F2018081001000825000059711_20180809115327017.jpg%26type%3Db400\", \"thumb44\":\"https%3A%2F%2Fsearch.pstatic.net%2Fcommon%2F%3Fsrc%3Dhttp%253A%252F%252Fimgnews.naver.net%252Fimage%252F076%252F2018%252F08%252F09%252F2018081001000825000059711_20180809115327017.jpg%26type%3Dn88_88\", \"topUrl\":\"http%3A%2F%2Fnews.naver.com%2Fmain%2Fread.nhn%3Foid%3D076%26aid%3D0003298090\", \"subsection\":\"\", \"cclType\": \"0\", \"overbyte\": \"0\", \"gdid\": \"news_bbcc67995763f892abcf0b406f56132c\", \"signature\": \"610106156260901\", \"sttData\": \"\", \"saslink\":\"http%3A%2F%2Fnews.naver.com%2Fmain%2Fread.nhn%3Foid%3D076%26aid%3D0003298090\" } </span> </a> <a class=\"org_view spimg\" href=\"http://news.naver.com/main/read.nhn?oid=076&amp;aid=0003298090\" onclick=\"return goOtherCR(this, 'a=img_noc*n.end&amp;r=13&amp;i=news_bbcc67995763f892abcf0b406f56132c&amp;g=610106156260901&amp;u='+urlencode(this.href));\" target=\"_blank\" title=\"새창\">원본링크로 이동하기</a> </div> <div class=\"img_area _item\" data-id=\"news0760003412247_1098187831\"> <a class=\"thumb _thumb\" href=\"#\" onclick=\"tCR('a=img_noc*n.img&amp;r=14&amp;i=news_be8afbc96f3ded9a2701aa3e6e765c7a&amp;g=122885177915993&amp;u=http%3A%2F%2Fnews.naver.com%2Fmain%2Fread.nhn%3Foid%3D076%26aid%3D0003412247');\" title=\"'어비스' 박보영 &quot;외모 관련 대사, 불편할까 걱정돼 수정 노력&quot; | 포토뉴스\"> <img alt=\"'어비스' 박보영 &quot;외모 관련 대사, 불편할까 걱정돼 수정 노력&quot; | 포토뉴스\" class=\"_img\" data-height=\"889\" data-source=\"https://search.pstatic.net/common/?src=http%3A%2F%2Fimgnews.naver.net%2Fimage%2F076%2F2019%2F05%2F03%2F2019050401000298400016991_20190503160106821.jpg&amp;type=b400\" data-width=\"640\" onerror=\"var we=$Element(this); we.addClass('bg_nimg'); we.attr('alt','이미지준비중'); we.attr('src','data:image/gif;base64,R0lGODlhAQABAIAAAAAAAP///yH5BAEAAAAALAAAAAABAAEAAAIBRAA7');\" src=\"data:image/gif;base64,R0lGODlhAQABAIAAAAAAAP///yH5BAEAAAAALAAAAAABAAEAAAIBRAA7\"/><span class=\"img_border\"></span> <span class=\"data_img\"> <span class=\"data_bg\"></span> <span class=\"data_txt\"> <em class=\"tit\">'어비스' 박보영 \"외모 관련 대사, 불편할까 걱정돼 수정 노력\"</em> <span class=\"size\">640X889</span> </span> </span> <span class=\"_meta\" style=\"display:none;\"> { \"crArea\": \"n\", \"rank\":\"14\", \"link\":\"http%3A%2F%2Fnews.naver.com%2Fmain%2Fread.nhn%3Foid%3D076%26aid%3D0003412247\", \"title\":\"%27%EC%96%B4%EB%B9%84%EC%8A%A4%27%20%EB%B0%95%EB%B3%B4%EC%98%81%20%26quot%3B%EC%99%B8%EB%AA%A8%20%EA%B4%80%EB%A0%A8%20%EB%8C%80%EC%82%AC%2C%20%EB%B6%88%ED%8E%B8%ED%95%A0%EA%B9%8C%20%EA%B1%B1%EC%A0%95%EB%8F%BC%20%EC%88%98%EC%A0%95%20%EB%85%B8%EB%A0%A5%26quot%3B\", \"date\":\"2019.05.03.\", \"originalUrl\":\"http%3A%2F%2Fimgnews.naver.net%2Fimage%2F076%2F2019%2F05%2F03%2F2019050401000298400016991_20190503160106821.jpg\", \"imgId\":\"news0760003412247_1098187831\", \"source\":\"%ED%8F%AC%ED%86%A0%EB%89%B4%EC%8A%A4\", \"orgWidth\":\"640\", \"orgHeight\":\"889\", \"thumb\":\"https%3A%2F%2Fsearch.pstatic.net%2Fcommon%2F%3Fsrc%3Dhttp%253A%252F%252Fimgnews.naver.net%252Fimage%252F076%252F2019%252F05%252F03%252F2019050401000298400016991_20190503160106821.jpg%26type%3Db400\", \"thumb44\":\"https%3A%2F%2Fsearch.pstatic.net%2Fcommon%2F%3Fsrc%3Dhttp%253A%252F%252Fimgnews.naver.net%252Fimage%252F076%252F2019%252F05%252F03%252F2019050401000298400016991_20190503160106821.jpg%26type%3Dn88_88\", \"topUrl\":\"http%3A%2F%2Fnews.naver.com%2Fmain%2Fread.nhn%3Foid%3D076%26aid%3D0003412247\", \"subsection\":\"\", \"cclType\": \"0\", \"overbyte\": \"0\", \"gdid\": \"news_be8afbc96f3ded9a2701aa3e6e765c7a\", \"signature\": \"122885177915993\", \"sttData\": \"\", \"saslink\":\"http%3A%2F%2Fnews.naver.com%2Fmain%2Fread.nhn%3Foid%3D076%26aid%3D0003412247\" } </span> </a> <a class=\"org_view spimg\" href=\"http://news.naver.com/main/read.nhn?oid=076&amp;aid=0003412247\" onclick=\"return goOtherCR(this, 'a=img_noc*n.end&amp;r=14&amp;i=news_be8afbc96f3ded9a2701aa3e6e765c7a&amp;g=122885177915993&amp;u='+urlencode(this.href));\" target=\"_blank\" title=\"새창\">원본링크로 이동하기</a> </div> <div class=\"img_area _item\" data-id=\"video|081014B6_000003f2ac16_1844335485\"> <a class=\"thumb _thumb\" href=\"#\" onclick=\"tCR('a=img_noc*7.img&amp;r=15&amp;i=video_6dee537d5bbc2614c3681b5b284b699d&amp;g=775322421356248&amp;u=http%3A%2F%2Ftvn.tving.com%2Ftvn%2Fvod%2Fview%2FCLIP%2FEA_237250');\" title=\"[티저]'엄마야!' 거울 보고 깜짝 놀란 박보영 tvN [어비스-영혼소생구슬] | 동영상\"> <img alt=\"[티저]'엄마야!' 거울 보고 깜짝 놀란 박보영 tvN [어비스-영혼소생구슬] | 동영상\" class=\"_img\" data-height=\"720\" data-source=\"https://search.pstatic.net/common/?src=http%3A%2F%2Fhol.phinf.naver.net%2F00%2F662%2F354%2F66235414_1.jpg&amp;type=b400\" data-width=\"1280\" onerror=\"var we=$Element(this); we.addClass('bg_nimg'); we.attr('alt','이미지준비중'); we.attr('src','data:image/gif;base64,R0lGODlhAQABAIAAAAAAAP///yH5BAEAAAAALAAAAAABAAEAAAIBRAA7');\" src=\"data:image/gif;base64,R0lGODlhAQABAIAAAAAAAP///yH5BAEAAAAALAAAAAABAAEAAAIBRAA7\"/><span class=\"img_border\"></span> <span class=\"data_img\"> <span class=\"data_bg\"></span> <span class=\"data_txt\"> <em class=\"tit\">[티저]'엄마야!' 거울 보고 깜짝 놀란 박보영 tvN [어비스-영혼소생구슬]</em> <span class=\"size\">1280X720</span> </span> </span> <span class=\"_meta\" style=\"display:none;\"> { \"crArea\": \"7\", \"rank\":\"15\", \"link\":\"http%3A%2F%2Ftvn.tving.com%2Ftvn%2Fvod%2Fview%2FCLIP%2FEA_237250\", \"title\":\"%5B%ED%8B%B0%EC%A0%80%5D%27%EC%97%84%EB%A7%88%EC%95%BC!%27%20%EA%B1%B0%EC%9A%B8%20%EB%B3%B4%EA%B3%A0%20%EA%B9%9C%EC%A7%9D%20%EB%86%80%EB%9E%80%20%EB%B0%95%EB%B3%B4%EC%98%81%20tvN%20%5B%EC%96%B4%EB%B9%84%EC%8A%A4-%EC%98%81%ED%98%BC%EC%86%8C%EC%83%9D%EA%B5%AC%EC%8A%AC%5D\", \"date\":\"2019.04.06.\", \"originalUrl\":\"http%3A%2F%2Fhol.phinf.naver.net%2F00%2F662%2F354%2F66235414_1.jpg\", \"imgId\":\"video%7C081014B6_000003f2ac16_1844335485\", \"source\":\"%EB%8F%99%EC%98%81%EC%83%81\", \"orgWidth\":\"1280\", \"orgHeight\":\"720\", \"thumb\":\"https%3A%2F%2Fsearch.pstatic.net%2Fcommon%2F%3Fsrc%3Dhttp%253A%252F%252Fhol.phinf.naver.net%252F00%252F662%252F354%252F66235414_1.jpg%26type%3Db400\", \"thumb44\":\"https%3A%2F%2Fsearch.pstatic.net%2Fcommon%2F%3Fsrc%3Dhttp%253A%252F%252Fhol.phinf.naver.net%252F00%252F662%252F354%252F66235414_1.jpg%26type%3Dn88_88\", \"topUrl\":\"http%3A%2F%2Ftvn.tving.com%2Ftvn%2Fvod%2Fview%2FCLIP%2FEA_237250\", \"subsection\":\"\", \"cclType\": \"0\", \"overbyte\": \"0\", \"gdid\": \"video_6dee537d5bbc2614c3681b5b284b699d\", \"signature\": \"775322421356248\", \"sttData\": \"\", \"saslink\":\"http%3A%2F%2Ftvn.tving.com%2Ftvn%2Fvod%2Fview%2FCLIP%2FEA_237250\" } </span> </a> <a class=\"org_view spimg\" href=\"http://tvn.tving.com/tvn/vod/view/CLIP/EA_237250\" onclick=\"return goOtherCR(this, 'a=img_noc*7.end&amp;r=15&amp;i=video_6dee537d5bbc2614c3681b5b284b699d&amp;g=775322421356248&amp;u='+urlencode(this.href));\" target=\"_blank\" title=\"새창\">원본링크로 이동하기</a> </div> <div class=\"img_area _item\" data-id=\"news55820000035400_1062396885\"> <a class=\"thumb _thumb\" href=\"#\" onclick=\"tCR('a=img_noc*n.img&amp;r=16&amp;i=news_c0ad1c2b90dc78fadd99b1d0f3e1094e&amp;g=320543881348984&amp;u=http%3A%2F%2Fwww.dtoday.co.kr%2Fnews%2FarticleView.html%3Fidxno%3D302226');\" title=\"'이 정도면 장기근속'… 박보영, 토레타 모델 발탁 | 포토뉴스\"> <img alt=\"'이 정도면 장기근속'… 박보영, 토레타 모델 발탁 | 포토뉴스\" class=\"_img\" data-height=\"414\" data-source=\"https://search.pstatic.net/common/?src=http%3A%2F%2Fimgnews.naver.net%2Fimage%2F5582%2F2019%2F03%2F26%2F0000035400_001_20190326111013364.jpg&amp;type=b400\" data-width=\"600\" onerror=\"var we=$Element(this); we.addClass('bg_nimg'); we.attr('alt','이미지준비중'); we.attr('src','data:image/gif;base64,R0lGODlhAQABAIAAAAAAAP///yH5BAEAAAAALAAAAAABAAEAAAIBRAA7');\" src=\"data:image/gif;base64,R0lGODlhAQABAIAAAAAAAP///yH5BAEAAAAALAAAAAABAAEAAAIBRAA7\"/><span class=\"img_border\"></span> <span class=\"data_img\"> <span class=\"data_bg\"></span> <span class=\"data_txt\"> <em class=\"tit\">'이 정도면 장기근속'… 박보영, 토레타 모델 발탁</em> <span class=\"size\">600X414</span> </span> </span> <span class=\"_meta\" style=\"display:none;\"> { \"crArea\": \"n\", \"rank\":\"16\", \"link\":\"http%3A%2F%2Fwww.dtoday.co.kr%2Fnews%2FarticleView.html%3Fidxno%3D302226\", \"title\":\"%27%EC%9D%B4%20%EC%A0%95%EB%8F%84%EB%A9%B4%20%EC%9E%A5%EA%B8%B0%EA%B7%BC%EC%86%8D%27%E2%80%A6%20%EB%B0%95%EB%B3%B4%EC%98%81%2C%20%ED%86%A0%EB%A0%88%ED%83%80%20%EB%AA%A8%EB%8D%B8%20%EB%B0%9C%ED%83%81\", \"date\":\"2019.03.26.\", \"originalUrl\":\"http%3A%2F%2Fimgnews.naver.net%2Fimage%2F5582%2F2019%2F03%2F26%2F0000035400_001_20190326111013364.jpg\", \"imgId\":\"news55820000035400_1062396885\", \"source\":\"%ED%8F%AC%ED%86%A0%EB%89%B4%EC%8A%A4\", \"orgWidth\":\"600\", \"orgHeight\":\"414\", \"thumb\":\"https%3A%2F%2Fsearch.pstatic.net%2Fcommon%2F%3Fsrc%3Dhttp%253A%252F%252Fimgnews.naver.net%252Fimage%252F5582%252F2019%252F03%252F26%252F0000035400_001_20190326111013364.jpg%26type%3Db400\", \"thumb44\":\"https%3A%2F%2Fsearch.pstatic.net%2Fcommon%2F%3Fsrc%3Dhttp%253A%252F%252Fimgnews.naver.net%252Fimage%252F5582%252F2019%252F03%252F26%252F0000035400_001_20190326111013364.jpg%26type%3Dn88_88\", \"topUrl\":\"http%3A%2F%2Fwww.dtoday.co.kr%2Fnews%2FarticleView.html%3Fidxno%3D302226\", \"subsection\":\"\", \"cclType\": \"0\", \"overbyte\": \"0\", \"gdid\": \"news_c0ad1c2b90dc78fadd99b1d0f3e1094e\", \"signature\": \"320543881348984\", \"sttData\": \"\", \"saslink\":\"http%3A%2F%2Fwww.dtoday.co.kr%2Fnews%2FarticleView.html%3Fidxno%3D302226\" } </span> </a> <a class=\"org_view spimg\" href=\"http://www.dtoday.co.kr/news/articleView.html?idxno=302226\" onclick=\"return goOtherCR(this, 'a=img_noc*n.end&amp;r=16&amp;i=news_c0ad1c2b90dc78fadd99b1d0f3e1094e&amp;g=320543881348984&amp;u='+urlencode(this.href));\" target=\"_blank\" title=\"새창\">원본링크로 이동하기</a> </div> <div class=\"img_area _item\" data-id=\"naverkin30104|316081427_354184537\"> <a class=\"thumb _thumb\" href=\"#\" onclick=\"tCR('a=img_noc*5.img&amp;r=17&amp;i=naverkin_eae392a7306d8932c5b11210e77b3b41&amp;g=347742102730573&amp;u=https%3A%2F%2Fkin.naver.com%2Fqna%2Fdetail.nhn%3F%26dirId%3D30104%26docId%3D316081427');\" title=\"박보영 폰 배경사진 고화질로 많이많이 | 지식iN\"> <img alt=\"박보영 폰 배경사진 고화질로 많이많이 | 지식iN\" class=\"_img\" data-height=\"852\" data-source=\"https://search.pstatic.net/common/?src=http%3A%2F%2Fkinimage.naver.net%2F20181216_209%2F15449260677587Ll86_JPEG%2F1544926067429.jpg&amp;type=b400\" data-width=\"1280\" onerror=\"var we=$Element(this); we.addClass('bg_nimg'); we.attr('alt','이미지준비중'); we.attr('src','data:image/gif;base64,R0lGODlhAQABAIAAAAAAAP///yH5BAEAAAAALAAAAAABAAEAAAIBRAA7');\" src=\"data:image/gif;base64,R0lGODlhAQABAIAAAAAAAP///yH5BAEAAAAALAAAAAABAAEAAAIBRAA7\"/><span class=\"img_border\"></span> <span class=\"data_img\"> <span class=\"data_bg\"></span> <span class=\"data_txt\"> <em class=\"tit\">박보영 폰 배경사진 고화질로 많이많이</em> <span class=\"size\">1280X852</span> </span> </span> <span class=\"_meta\" style=\"display:none;\"> { \"crArea\": \"5\", \"rank\":\"17\", \"link\":\"https%3A%2F%2Fkin.naver.com%2Fqna%2Fdetail.nhn%3F%26dirId%3D30104%26docId%3D316081427\", \"title\":\"%EB%B0%95%EB%B3%B4%EC%98%81%20%ED%8F%B0%20%EB%B0%B0%EA%B2%BD%EC%82%AC%EC%A7%84%20%EA%B3%A0%ED%99%94%EC%A7%88%EB%A1%9C%20%EB%A7%8E%EC%9D%B4%EB%A7%8E%EC%9D%B4\", \"date\":\"2018.12.07.\", \"originalUrl\":\"http%3A%2F%2Fkinimage.naver.net%2F20181216_209%2F15449260677587Ll86_JPEG%2F1544926067429.jpg\", \"imgId\":\"naverkin30104%7C316081427_354184537\", \"source\":\"%EC%A7%80%EC%8B%9DiN\", \"orgWidth\":\"1280\", \"orgHeight\":\"852\", \"thumb\":\"https%3A%2F%2Fsearch.pstatic.net%2Fcommon%2F%3Fsrc%3Dhttp%253A%252F%252Fkinimage.naver.net%252F20181216_209%252F15449260677587Ll86_JPEG%252F1544926067429.jpg%26type%3Db400\", \"thumb44\":\"https%3A%2F%2Fsearch.pstatic.net%2Fcommon%2F%3Fsrc%3Dhttp%253A%252F%252Fkinimage.naver.net%252F20181216_209%252F15449260677587Ll86_JPEG%252F1544926067429.jpg%26type%3Dn88_88\", \"topUrl\":\"https%3A%2F%2Fkin.naver.com%2Fqna%2Fdetail.nhn%3F%26dirId%3D30104%26docId%3D316081427\", \"subsection\":\"\", \"cclType\": \"0\", \"overbyte\": \"0\", \"gdid\": \"naverkin_eae392a7306d8932c5b11210e77b3b41\", \"signature\": \"347742102730573\", \"sttData\": \"\", \"saslink\":\"http%3A%2F%2Fkin.naver.com%2Fqna%2Fdetail.nhn%3F%26dirId%3D30104%26docId%3D316081427\" } </span> </a> <a class=\"org_view spimg\" href=\"https://kin.naver.com/qna/detail.nhn?&amp;dirId=30104&amp;docId=316081427\" onclick=\"return goOtherCR(this, 'a=img_noc*5.end&amp;r=17&amp;i=naverkin_eae392a7306d8932c5b11210e77b3b41&amp;g=347742102730573&amp;u='+urlencode(this.href));\" target=\"_blank\" title=\"새창\">원본링크로 이동하기</a> </div> <div class=\"img_area _item\" data-id=\"webhttp://www.segye.com/newsView/20151017000463_1226038101\"> <a class=\"thumb _thumb\" href=\"#\" onclick=\"tCR('a=img_noc*h.img&amp;r=18&amp;i=web_4913db5541346fc54d9322c83fc7c814&amp;g=931399713034922&amp;u=http%3A%2F%2Fwww.segye.com%2FnewsView%2F20151017000463');\" title=\"[화보] 박보영, 인형외모에 우윳빛 각선미 '섹시' - 세계일보 | 웹\"> <img alt=\"[화보] 박보영, 인형외모에 우윳빛 각선미 '섹시' - 세계일보 | 웹\" class=\"_img\" data-height=\"751\" data-source=\"https://search.pstatic.net/sunny/?src=http%3A%2F%2Fimg.segye.com%2Fcontent%2Fimage%2F2015%2F10%2F17%2F20151017503314.jpg&amp;type=b400\" data-width=\"500\" onerror=\"var we=$Element(this); we.addClass('bg_nimg'); we.attr('alt','이미지준비중'); we.attr('src','data:image/gif;base64,R0lGODlhAQABAIAAAAAAAP///yH5BAEAAAAALAAAAAABAAEAAAIBRAA7');\" src=\"data:image/gif;base64,R0lGODlhAQABAIAAAAAAAP///yH5BAEAAAAALAAAAAABAAEAAAIBRAA7\"/><span class=\"img_border\"></span> <span class=\"data_img\"> <span class=\"data_bg\"></span> <span class=\"data_txt\"> <em class=\"tit\">[화보] 박보영, 인형외모에 우윳빛 각선미 '섹시' - 세계일보</em> <span class=\"size\">500X751</span> </span> </span> <span class=\"_meta\" style=\"display:none;\"> { \"crArea\": \"h\", \"rank\":\"18\", \"link\":\"http%3A%2F%2Fwww.segye.com%2FnewsView%2F20151017000463\", \"title\":\"%5B%ED%99%94%EB%B3%B4%5D%20%EB%B0%95%EB%B3%B4%EC%98%81%2C%20%EC%9D%B8%ED%98%95%EC%99%B8%EB%AA%A8%EC%97%90%20%EC%9A%B0%EC%9C%B3%EB%B9%9B%20%EA%B0%81%EC%84%A0%EB%AF%B8%20%27%EC%84%B9%EC%8B%9C%27%20-%20%EC%84%B8%EA%B3%84%EC%9D%BC%EB%B3%B4\", \"date\":\"\", \"originalUrl\":\"http%3A%2F%2Fimg.segye.com%2Fcontent%2Fimage%2F2015%2F10%2F17%2F20151017503314.jpg\", \"imgId\":\"webhttp%3A%2F%2Fwww.segye.com%2FnewsView%2F20151017000463_1226038101\", \"source\":\"%EC%9B%B9\", \"orgWidth\":\"500\", \"orgHeight\":\"751\", \"thumb\":\"https%3A%2F%2Fsearch.pstatic.net%2Fsunny%2F%3Fsrc%3Dhttp%253A%252F%252Fimg.segye.com%252Fcontent%252Fimage%252F2015%252F10%252F17%252F20151017503314.jpg%26type%3Db400\", \"thumb44\":\"https%3A%2F%2Fsearch.pstatic.net%2Fsunny%2F%3Fsrc%3Dhttp%253A%252F%252Fimg.segye.com%252Fcontent%252Fimage%252F2015%252F10%252F17%252F20151017503314.jpg%26type%3Dn88_88\", \"topUrl\":\"http%3A%2F%2Fwww.segye.com%2FnewsView%2F20151017000463\", \"subsection\":\"\", \"cclType\": \"0\", \"overbyte\": \"0\", \"gdid\": \"web_4913db5541346fc54d9322c83fc7c814\", \"signature\": \"931399713034922\", \"sttData\": \"\", \"saslink\":\"http%3A%2F%2Fwww.segye.com%2FnewsView%2F20151017000463\" } </span> </a> <a class=\"org_view spimg\" href=\"http://www.segye.com/newsView/20151017000463\" onclick=\"return goOtherCR(this, 'a=img_noc*h.end&amp;r=18&amp;i=web_4913db5541346fc54d9322c83fc7c814&amp;g=931399713034922&amp;u='+urlencode(this.href));\" target=\"_blank\" title=\"새창\">원본링크로 이동하기</a> </div> <div class=\"img_area _item\" data-id=\"news53490000178136_192878170\"> <a class=\"thumb _thumb\" href=\"#\" onclick=\"tCR('a=img_noc*n.img&amp;r=19&amp;i=news_f480e9a6d315141dd847b641a6c659f8&amp;g=626236043319961&amp;u=http%3A%2F%2Fchicnews.mk.co.kr%2Farticle.php%3Faid%3D1533628848205383009');\" title=\"[시크포토]박보영, '클로즈업 부르는 미모' | 포토뉴스\"> <img alt=\"[시크포토]박보영, '클로즈업 부르는 미모' | 포토뉴스\" class=\"_img\" data-height=\"800\" data-source=\"https://search.pstatic.net/common/?src=http%3A%2F%2Fimgnews.naver.net%2Fimage%2F5349%2F2018%2F08%2F07%2F1533628848_205383_20180807165840982.jpg&amp;type=b400\" data-width=\"600\" onerror=\"var we=$Element(this); we.addClass('bg_nimg'); we.attr('alt','이미지준비중'); we.attr('src','data:image/gif;base64,R0lGODlhAQABAIAAAAAAAP///yH5BAEAAAAALAAAAAABAAEAAAIBRAA7');\" src=\"data:image/gif;base64,R0lGODlhAQABAIAAAAAAAP///yH5BAEAAAAALAAAAAABAAEAAAIBRAA7\"/><span class=\"img_border\"></span> <span class=\"data_img\"> <span class=\"data_bg\"></span> <span class=\"data_txt\"> <em class=\"tit\">[시크포토]박보영, '클로즈업 부르는 미모'</em> <span class=\"size\">600X800</span> </span> </span> <span class=\"_meta\" style=\"display:none;\"> { \"crArea\": \"n\", \"rank\":\"19\", \"link\":\"http%3A%2F%2Fchicnews.mk.co.kr%2Farticle.php%3Faid%3D1533628848205383009\", \"title\":\"%5B%EC%8B%9C%ED%81%AC%ED%8F%AC%ED%86%A0%5D%EB%B0%95%EB%B3%B4%EC%98%81%2C%20%27%ED%81%B4%EB%A1%9C%EC%A6%88%EC%97%85%20%EB%B6%80%EB%A5%B4%EB%8A%94%20%EB%AF%B8%EB%AA%A8%27\", \"date\":\"2018.08.07.\", \"originalUrl\":\"http%3A%2F%2Fimgnews.naver.net%2Fimage%2F5349%2F2018%2F08%2F07%2F1533628848_205383_20180807165840982.jpg\", \"imgId\":\"news53490000178136_192878170\", \"source\":\"%ED%8F%AC%ED%86%A0%EB%89%B4%EC%8A%A4\", \"orgWidth\":\"600\", \"orgHeight\":\"800\", \"thumb\":\"https%3A%2F%2Fsearch.pstatic.net%2Fcommon%2F%3Fsrc%3Dhttp%253A%252F%252Fimgnews.naver.net%252Fimage%252F5349%252F2018%252F08%252F07%252F1533628848_205383_20180807165840982.jpg%26type%3Db400\", \"thumb44\":\"https%3A%2F%2Fsearch.pstatic.net%2Fcommon%2F%3Fsrc%3Dhttp%253A%252F%252Fimgnews.naver.net%252Fimage%252F5349%252F2018%252F08%252F07%252F1533628848_205383_20180807165840982.jpg%26type%3Dn88_88\", \"topUrl\":\"http%3A%2F%2Fchicnews.mk.co.kr%2Farticle.php%3Faid%3D1533628848205383009\", \"subsection\":\"\", \"cclType\": \"0\", \"overbyte\": \"0\", \"gdid\": \"news_f480e9a6d315141dd847b641a6c659f8\", \"signature\": \"626236043319961\", \"sttData\": \"\", \"saslink\":\"http%3A%2F%2Fchicnews.mk.co.kr%2Farticle.php%3Faid%3D1533628848205383009\" } </span> </a> <a class=\"org_view spimg\" href=\"http://chicnews.mk.co.kr/article.php?aid=1533628848205383009\" onclick=\"return goOtherCR(this, 'a=img_noc*n.end&amp;r=19&amp;i=news_f480e9a6d315141dd847b641a6c659f8&amp;g=626236043319961&amp;u='+urlencode(this.href));\" target=\"_blank\" title=\"새창\">원본링크로 이동하기</a> </div> <div class=\"img_area _item\" data-id=\"news3120000385085_1266272077\"> <a class=\"thumb _thumb\" href=\"#\" onclick=\"tCR('a=img_noc*n.img&amp;r=20&amp;i=news_4b79c74d8e6c2282fb00a07398bd4996&amp;g=191724728587397&amp;u=http%3A%2F%2Fnews.naver.com%2Fmain%2Fread.nhn%3Foid%3D312%26aid%3D0000385085');\" title=\"[TEN PHOTO]박보영 '굿 모닝~' | 포토뉴스\"> <img alt=\"[TEN PHOTO]박보영 '굿 모닝~' | 포토뉴스\" class=\"_img\" data-height=\"722\" data-source=\"https://search.pstatic.net/common/?src=http%3A%2F%2Fimgnews.naver.net%2Fimage%2F312%2F2019%2F04%2F29%2F0000385085_001_20190429111506300.jpg&amp;type=b400\" data-width=\"540\" onerror=\"var we=$Element(this); we.addClass('bg_nimg'); we.attr('alt','이미지준비중'); we.attr('src','data:image/gif;base64,R0lGODlhAQABAIAAAAAAAP///yH5BAEAAAAALAAAAAABAAEAAAIBRAA7');\" src=\"data:image/gif;base64,R0lGODlhAQABAIAAAAAAAP///yH5BAEAAAAALAAAAAABAAEAAAIBRAA7\"/><span class=\"img_border\"></span> <span class=\"data_img\"> <span class=\"data_bg\"></span> <span class=\"data_txt\"> <em class=\"tit\">[TEN PHOTO]박보영 '굿 모닝~'</em> <span class=\"size\">540X722</span> </span> </span> <span class=\"_meta\" style=\"display:none;\"> { \"crArea\": \"n\", \"rank\":\"20\", \"link\":\"http%3A%2F%2Fnews.naver.com%2Fmain%2Fread.nhn%3Foid%3D312%26aid%3D0000385085\", \"title\":\"%5BTEN%20PHOTO%5D%EB%B0%95%EB%B3%B4%EC%98%81%20%27%EA%B5%BF%20%EB%AA%A8%EB%8B%9D~%27\", \"date\":\"2019.04.29.\", \"originalUrl\":\"http%3A%2F%2Fimgnews.naver.net%2Fimage%2F312%2F2019%2F04%2F29%2F0000385085_001_20190429111506300.jpg\", \"imgId\":\"news3120000385085_1266272077\", \"source\":\"%ED%8F%AC%ED%86%A0%EB%89%B4%EC%8A%A4\", \"orgWidth\":\"540\", \"orgHeight\":\"722\", \"thumb\":\"https%3A%2F%2Fsearch.pstatic.net%2Fcommon%2F%3Fsrc%3Dhttp%253A%252F%252Fimgnews.naver.net%252Fimage%252F312%252F2019%252F04%252F29%252F0000385085_001_20190429111506300.jpg%26type%3Db400\", \"thumb44\":\"https%3A%2F%2Fsearch.pstatic.net%2Fcommon%2F%3Fsrc%3Dhttp%253A%252F%252Fimgnews.naver.net%252Fimage%252F312%252F2019%252F04%252F29%252F0000385085_001_20190429111506300.jpg%26type%3Dn88_88\", \"topUrl\":\"http%3A%2F%2Fnews.naver.com%2Fmain%2Fread.nhn%3Foid%3D312%26aid%3D0000385085\", \"subsection\":\"\", \"cclType\": \"0\", \"overbyte\": \"0\", \"gdid\": \"news_4b79c74d8e6c2282fb00a07398bd4996\", \"signature\": \"191724728587397\", \"sttData\": \"\", \"saslink\":\"http%3A%2F%2Fnews.naver.com%2Fmain%2Fread.nhn%3Foid%3D312%26aid%3D0000385085\" } </span> </a> <a class=\"org_view spimg\" href=\"http://news.naver.com/main/read.nhn?oid=312&amp;aid=0000385085\" onclick=\"return goOtherCR(this, 'a=img_noc*n.end&amp;r=20&amp;i=news_4b79c74d8e6c2282fb00a07398bd4996&amp;g=191724728587397&amp;u='+urlencode(this.href));\" target=\"_blank\" title=\"새창\">원본링크로 이동하기</a> </div> <div class=\"img_area _item\" data-id=\"news55750000033175_130692253\"> <a class=\"thumb _thumb\" href=\"#\" onclick=\"tCR('a=img_noc*n.img&amp;r=21&amp;i=news_f835cb6381d20483307ea31249bb784c&amp;g=622796213380878&amp;u=http%3A%2F%2Fwww.slist.kr%2Fnews%2FarticleView.html%3Fidxno%3D69688');\" title=\"'런닝맨' 박보영, 깜짝출연...절친 선배 송지효와 민낯대결 | 포토뉴스\"> <img alt=\"'런닝맨' 박보영, 깜짝출연...절친 선배 송지효와 민낯대결 | 포토뉴스\" class=\"_img\" data-height=\"350\" data-source=\"https://search.pstatic.net/common/?src=http%3A%2F%2Fimgnews.naver.net%2Fimage%2F5575%2F2019%2F03%2F03%2F0000033175_001_20190303115605887.jpg&amp;type=b400\" data-width=\"600\" onerror=\"var we=$Element(this); we.addClass('bg_nimg'); we.attr('alt','이미지준비중'); we.attr('src','data:image/gif;base64,R0lGODlhAQABAIAAAAAAAP///yH5BAEAAAAALAAAAAABAAEAAAIBRAA7');\" src=\"data:image/gif;base64,R0lGODlhAQABAIAAAAAAAP///yH5BAEAAAAALAAAAAABAAEAAAIBRAA7\"/><span class=\"img_border\"></span> <span class=\"data_img\"> <span class=\"data_bg\"></span> <span class=\"data_txt\"> <em class=\"tit\">'런닝맨' 박보영, 깜짝출연...절친 선배 송지효와 민낯대결</em> <span class=\"size\">600X350</span> </span> </span> <span class=\"_meta\" style=\"display:none;\"> { \"crArea\": \"n\", \"rank\":\"21\", \"link\":\"http%3A%2F%2Fwww.slist.kr%2Fnews%2FarticleView.html%3Fidxno%3D69688\", \"title\":\"%27%EB%9F%B0%EB%8B%9D%EB%A7%A8%27%20%EB%B0%95%EB%B3%B4%EC%98%81%2C%20%EA%B9%9C%EC%A7%9D%EC%B6%9C%EC%97%B0...%EC%A0%88%EC%B9%9C%20%EC%84%A0%EB%B0%B0%20%EC%86%A1%EC%A7%80%ED%9A%A8%EC%99%80%20%EB%AF%BC%EB%82%AF%EB%8C%80%EA%B2%B0\", \"date\":\"2019.03.03.\", \"originalUrl\":\"http%3A%2F%2Fimgnews.naver.net%2Fimage%2F5575%2F2019%2F03%2F03%2F0000033175_001_20190303115605887.jpg\", \"imgId\":\"news55750000033175_130692253\", \"source\":\"%ED%8F%AC%ED%86%A0%EB%89%B4%EC%8A%A4\", \"orgWidth\":\"600\", \"orgHeight\":\"350\", \"thumb\":\"https%3A%2F%2Fsearch.pstatic.net%2Fcommon%2F%3Fsrc%3Dhttp%253A%252F%252Fimgnews.naver.net%252Fimage%252F5575%252F2019%252F03%252F03%252F0000033175_001_20190303115605887.jpg%26type%3Db400\", \"thumb44\":\"https%3A%2F%2Fsearch.pstatic.net%2Fcommon%2F%3Fsrc%3Dhttp%253A%252F%252Fimgnews.naver.net%252Fimage%252F5575%252F2019%252F03%252F03%252F0000033175_001_20190303115605887.jpg%26type%3Dn88_88\", \"topUrl\":\"http%3A%2F%2Fwww.slist.kr%2Fnews%2FarticleView.html%3Fidxno%3D69688\", \"subsection\":\"\", \"cclType\": \"0\", \"overbyte\": \"0\", \"gdid\": \"news_f835cb6381d20483307ea31249bb784c\", \"signature\": \"622796213380878\", \"sttData\": \"\", \"saslink\":\"http%3A%2F%2Fwww.slist.kr%2Fnews%2FarticleView.html%3Fidxno%3D69688\" } </span> </a> <a class=\"org_view spimg\" href=\"http://www.slist.kr/news/articleView.html?idxno=69688\" onclick=\"return goOtherCR(this, 'a=img_noc*n.end&amp;r=21&amp;i=news_f835cb6381d20483307ea31249bb784c&amp;g=622796213380878&amp;u='+urlencode(this.href));\" target=\"_blank\" title=\"새창\">원본링크로 이동하기</a> </div> <div class=\"img_area _item\" data-id=\"blog107508410|6|220702946132_67660303\"> <a class=\"thumb _thumb\" href=\"#\" onclick=\"tCR('a=img_noc*b.img&amp;r=22&amp;i=blog_fbf795f11c91c0524823cb72485d96a5&amp;g=699863409551711&amp;u=https%3A%2F%2Fblog.naver.com%2Fbismuth083%2F220702946132');\" title=\"탐정 홍길동 시사회에서 | 블로그\"> <img alt=\"탐정 홍길동 시사회에서 | 블로그\" class=\"_img\" data-height=\"933\" data-source=\"https://search.pstatic.net/common/?src=http%3A%2F%2Fblogfiles.naver.net%2F20160506_156%2Fbismuth083_1462537897447sdsOj_JPEG%2FFB_IMG_1462446137505.jpg&amp;type=b400\" data-width=\"700\" onerror=\"var we=$Element(this); we.addClass('bg_nimg'); we.attr('alt','이미지준비중'); we.attr('src','data:image/gif;base64,R0lGODlhAQABAIAAAAAAAP///yH5BAEAAAAALAAAAAABAAEAAAIBRAA7');\" src=\"data:image/gif;base64,R0lGODlhAQABAIAAAAAAAP///yH5BAEAAAAALAAAAAABAAEAAAIBRAA7\"/><span class=\"img_border\"></span> <span class=\"data_img\"> <span class=\"data_bg\"></span> <span class=\"data_txt\"> <em class=\"tit\">탐정 홍길동 시사회에서</em> <span class=\"size\">700X933</span> </span> </span> <span class=\"_meta\" style=\"display:none;\"> { \"crArea\": \"b\", \"rank\":\"22\", \"link\":\"https%3A%2F%2Fblog.naver.com%2Fbismuth083%2F220702946132\", \"title\":\"%ED%83%90%EC%A0%95%20%ED%99%8D%EA%B8%B8%EB%8F%99%20%EC%8B%9C%EC%82%AC%ED%9A%8C%EC%97%90%EC%84%9C\", \"date\":\"2016.05.06.\", \"originalUrl\":\"http%3A%2F%2Fblogfiles.naver.net%2F20160506_156%2Fbismuth083_1462537897447sdsOj_JPEG%2FFB_IMG_1462446137505.jpg\", \"imgId\":\"blog107508410%7C6%7C220702946132_67660303\", \"source\":\"%EB%B8%94%EB%A1%9C%EA%B7%B8\", \"orgWidth\":\"700\", \"orgHeight\":\"933\", \"thumb\":\"https%3A%2F%2Fsearch.pstatic.net%2Fcommon%2F%3Fsrc%3Dhttp%253A%252F%252Fblogfiles.naver.net%252F20160506_156%252Fbismuth083_1462537897447sdsOj_JPEG%252FFB_IMG_1462446137505.jpg%26type%3Db400\", \"thumb44\":\"https%3A%2F%2Fsearch.pstatic.net%2Fcommon%2F%3Fsrc%3Dhttp%253A%252F%252Fblogfiles.naver.net%252F20160506_156%252Fbismuth083_1462537897447sdsOj_JPEG%252FFB_IMG_1462446137505.jpg%26type%3Dn88_88\", \"topUrl\":\"https%3A%2F%2Fblog.naver.com%2Fbismuth083\", \"subsection\":\"%EB%B9%84%EC%8A%A4%EB%AC%B4%ED%8A%B8%EC%9D%98%20%EC%97%98%EC%BD%98%EC%86%8C\", \"cclType\": \"0\", \"overbyte\": \"0\", \"gdid\": \"blog_fbf795f11c91c0524823cb72485d96a5\", \"signature\": \"699863409551711\", \"sttData\": \"\", \"saslink\":\"http%3A%2F%2Fblog.naver.com%2Fbismuth083%2F220702946132\" } </span> </a> <a class=\"org_view spimg\" href=\"https://blog.naver.com/bismuth083/220702946132\" onclick=\"return goOtherCR(this, 'a=img_noc*b.end&amp;r=22&amp;i=blog_fbf795f11c91c0524823cb72485d96a5&amp;g=699863409551711&amp;u='+urlencode(this.href));\" target=\"_blank\" title=\"새창\">원본링크로 이동하기</a> </div> <div class=\"img_area _item\" data-id=\"blog5783046|120|120201590559_1751047077\"> <a class=\"thumb _thumb\" href=\"#\" onclick=\"tCR('a=img_noc*b.img&amp;r=23&amp;i=blog_97a1245b11bd288c29f44609f49828c5&amp;g=152072125285422&amp;u=https%3A%2F%2Fblog.naver.com%2Fpapa77ma%2F120201590559');\" title=\"♥♥♥♥♥박보영♥'영화'노브레싱 VIP시사회 초대 인터뷰♥♥♥♥♥ | 블로그\"> <img alt=\"♥♥♥♥♥박보영♥'영화'노브레싱 VIP시사회 초대 인터뷰♥♥♥♥♥ | 블로그\" class=\"_img\" data-height=\"1280\" data-source=\"https://search.pstatic.net/common/?src=http%3A%2F%2Fblogfiles.naver.net%2F20131111_212%2Fpapa77ma_1384121301256kovyM_JPEG%2F%25A2%25BD%25B9%25DA%25BA%25B8%25BF%25B5%25A2%25BD.jpg&amp;type=b400\" data-width=\"853\" onerror=\"var we=$Element(this); we.addClass('bg_nimg'); we.attr('alt','이미지준비중'); we.attr('src','data:image/gif;base64,R0lGODlhAQABAIAAAAAAAP///yH5BAEAAAAALAAAAAABAAEAAAIBRAA7');\" src=\"data:image/gif;base64,R0lGODlhAQABAIAAAAAAAP///yH5BAEAAAAALAAAAAABAAEAAAIBRAA7\"/><span class=\"img_border\"></span> <span class=\"data_img\"> <span class=\"data_bg\"></span> <span class=\"data_txt\"> <em class=\"tit\">♥♥♥♥♥박보영♥'영화'노브레싱 VIP시사회 초대 인터뷰♥♥♥♥♥</em> <span class=\"size\">853X1280</span> </span> </span> <span class=\"_meta\" style=\"display:none;\"> { \"crArea\": \"b\", \"rank\":\"23\", \"link\":\"https%3A%2F%2Fblog.naver.com%2Fpapa77ma%2F120201590559\", \"title\":\"%E2%99%A5%E2%99%A5%E2%99%A5%E2%99%A5%E2%99%A5%EB%B0%95%EB%B3%B4%EC%98%81%E2%99%A5%27%EC%98%81%ED%99%94%27%EB%85%B8%EB%B8%8C%EB%A0%88%EC%8B%B1%20VIP%EC%8B%9C%EC%82%AC%ED%9A%8C%20%EC%B4%88%EB%8C%80%20%EC%9D%B8%ED%84%B0%EB%B7%B0%E2%99%A5%E2%99%A5%E2%99%A5%E2%99%A5%E2%99%A5\", \"date\":\"2013.11.11.\", \"originalUrl\":\"http%3A%2F%2Fblogfiles.naver.net%2F20131111_212%2Fpapa77ma_1384121301256kovyM_JPEG%2F%25A2%25BD%25B9%25DA%25BA%25B8%25BF%25B5%25A2%25BD.jpg\", \"imgId\":\"blog5783046%7C120%7C120201590559_1751047077\", \"source\":\"%EB%B8%94%EB%A1%9C%EA%B7%B8\", \"orgWidth\":\"853\", \"orgHeight\":\"1280\", \"thumb\":\"https%3A%2F%2Fsearch.pstatic.net%2Fcommon%2F%3Fsrc%3Dhttp%253A%252F%252Fblogfiles.naver.net%252F20131111_212%252Fpapa77ma_1384121301256kovyM_JPEG%252F%2525A2%2525BD%2525B9%2525DA%2525BA%2525B8%2525BF%2525B5%2525A2%2525BD.jpg%26type%3Db400\", \"thumb44\":\"https%3A%2F%2Fsearch.pstatic.net%2Fcommon%2F%3Fsrc%3Dhttp%253A%252F%252Fblogfiles.naver.net%252F20131111_212%252Fpapa77ma_1384121301256kovyM_JPEG%252F%2525A2%2525BD%2525B9%2525DA%2525BA%2525B8%2525BF%2525B5%2525A2%2525BD.jpg%26type%3Dn88_88\", \"topUrl\":\"https%3A%2F%2Fblog.naver.com%2Fpapa77ma\", \"subsection\":\"%E2%99%A5%EC%86%8C%EB%85%80%EC%8B%9C%EB%8C%80%E2%99%A5%E2%99%A5S%E2%99%A1NE%E2%99%A5G.G.GO%20GO%E2%99%A5%EC%A7%80%EA%B8%88%EC%9D%80%20%EC%86%8C%EB%85%80%EC%8B%9C%EB%8C%80%E2%99%A5\", \"cclType\": \"0\", \"overbyte\": \"0\", \"gdid\": \"blog_97a1245b11bd288c29f44609f49828c5\", \"signature\": \"152072125285422\", \"sttData\": \"\", \"saslink\":\"http%3A%2F%2Fblog.naver.com%2Fpapa77ma%2F120201590559\" } </span> </a> <a class=\"org_view spimg\" href=\"https://blog.naver.com/papa77ma/120201590559\" onclick=\"return goOtherCR(this, 'a=img_noc*b.end&amp;r=23&amp;i=blog_97a1245b11bd288c29f44609f49828c5&amp;g=152072125285422&amp;u='+urlencode(this.href));\" target=\"_blank\" title=\"새창\">원본링크로 이동하기</a> </div> <div class=\"img_area _item\" data-id=\"news3120000342601_1603256188\"> <a class=\"thumb _thumb\" href=\"#\" onclick=\"tCR('a=img_noc*n.img&amp;r=24&amp;i=news_5f8fbf7ce885564adc4127589b1478a8&amp;g=641747491466414&amp;u=http%3A%2F%2Fnews.naver.com%2Fmain%2Fread.nhn%3Foid%3D312%26aid%3D0000342601');\" title=\"[TEN PHOTO]박보영 '가만히 있어도 미모가 반짝' | 포토뉴스\"> <img alt=\"[TEN PHOTO]박보영 '가만히 있어도 미모가 반짝' | 포토뉴스\" class=\"_img\" data-height=\"818\" data-source=\"https://search.pstatic.net/common/?src=http%3A%2F%2Fimgnews.naver.net%2Fimage%2F312%2F2018%2F08%2F09%2F0000342601_001_20180809170227017.jpg&amp;type=b400\" data-width=\"540\" onerror=\"var we=$Element(this); we.addClass('bg_nimg'); we.attr('alt','이미지준비중'); we.attr('src','data:image/gif;base64,R0lGODlhAQABAIAAAAAAAP///yH5BAEAAAAALAAAAAABAAEAAAIBRAA7');\" src=\"data:image/gif;base64,R0lGODlhAQABAIAAAAAAAP///yH5BAEAAAAALAAAAAABAAEAAAIBRAA7\"/><span class=\"img_border\"></span> <span class=\"data_img\"> <span class=\"data_bg\"></span> <span class=\"data_txt\"> <em class=\"tit\">[TEN PHOTO]박보영 '가만히 있어도 미모가 반짝'</em> <span class=\"size\">540X818</span> </span> </span> <span class=\"_meta\" style=\"display:none;\"> { \"crArea\": \"n\", \"rank\":\"24\", \"link\":\"http%3A%2F%2Fnews.naver.com%2Fmain%2Fread.nhn%3Foid%3D312%26aid%3D0000342601\", \"title\":\"%5BTEN%20PHOTO%5D%EB%B0%95%EB%B3%B4%EC%98%81%20%27%EA%B0%80%EB%A7%8C%ED%9E%88%20%EC%9E%88%EC%96%B4%EB%8F%84%20%EB%AF%B8%EB%AA%A8%EA%B0%80%20%EB%B0%98%EC%A7%9D%27\", \"date\":\"2018.08.09.\", \"originalUrl\":\"http%3A%2F%2Fimgnews.naver.net%2Fimage%2F312%2F2018%2F08%2F09%2F0000342601_001_20180809170227017.jpg\", \"imgId\":\"news3120000342601_1603256188\", \"source\":\"%ED%8F%AC%ED%86%A0%EB%89%B4%EC%8A%A4\", \"orgWidth\":\"540\", \"orgHeight\":\"818\", \"thumb\":\"https%3A%2F%2Fsearch.pstatic.net%2Fcommon%2F%3Fsrc%3Dhttp%253A%252F%252Fimgnews.naver.net%252Fimage%252F312%252F2018%252F08%252F09%252F0000342601_001_20180809170227017.jpg%26type%3Db400\", \"thumb44\":\"https%3A%2F%2Fsearch.pstatic.net%2Fcommon%2F%3Fsrc%3Dhttp%253A%252F%252Fimgnews.naver.net%252Fimage%252F312%252F2018%252F08%252F09%252F0000342601_001_20180809170227017.jpg%26type%3Dn88_88\", \"topUrl\":\"http%3A%2F%2Fnews.naver.com%2Fmain%2Fread.nhn%3Foid%3D312%26aid%3D0000342601\", \"subsection\":\"\", \"cclType\": \"0\", \"overbyte\": \"0\", \"gdid\": \"news_5f8fbf7ce885564adc4127589b1478a8\", \"signature\": \"641747491466414\", \"sttData\": \"\", \"saslink\":\"http%3A%2F%2Fnews.naver.com%2Fmain%2Fread.nhn%3Foid%3D312%26aid%3D0000342601\" } </span> </a> <a class=\"org_view spimg\" href=\"http://news.naver.com/main/read.nhn?oid=312&amp;aid=0000342601\" onclick=\"return goOtherCR(this, 'a=img_noc*n.end&amp;r=24&amp;i=news_5f8fbf7ce885564adc4127589b1478a8&amp;g=641747491466414&amp;u='+urlencode(this.href));\" target=\"_blank\" title=\"새창\">원본링크로 이동하기</a> </div> <div class=\"img_area _item\" data-id=\"news1090004002600_372402559\"> <a class=\"thumb _thumb\" href=\"#\" onclick=\"tCR('a=img_noc*n.img&amp;r=25&amp;i=news_e9cd9681031211abad9e07da2d7d0450&amp;g=333265654448613&amp;u=http%3A%2F%2Fnews.naver.com%2Fmain%2Fread.nhn%3Foid%3D109%26aid%3D0004002600');\" title=\"'오나귀'→'어비스' 박보영, 어게인 '뽀블리' 매직 자신감(종합)[Oh!쎈 현장] | 포토뉴스\"> <img alt=\"'오나귀'→'어비스' 박보영, 어게인 '뽀블리' 매직 자신감(종합)[Oh!쎈 현장] | 포토뉴스\" class=\"_img\" data-height=\"966\" data-source=\"https://search.pstatic.net/common/?src=http%3A%2F%2Fimgnews.naver.net%2Fimage%2F109%2F2019%2F05%2F03%2F0004002600_002_20190503164807188.jpg&amp;type=b400\" data-width=\"530\" onerror=\"var we=$Element(this); we.addClass('bg_nimg'); we.attr('alt','이미지준비중'); we.attr('src','data:image/gif;base64,R0lGODlhAQABAIAAAAAAAP///yH5BAEAAAAALAAAAAABAAEAAAIBRAA7');\" src=\"data:image/gif;base64,R0lGODlhAQABAIAAAAAAAP///yH5BAEAAAAALAAAAAABAAEAAAIBRAA7\"/><span class=\"img_border\"></span> <span class=\"data_img\"> <span class=\"data_bg\"></span> <span class=\"data_txt\"> <em class=\"tit\">'오나귀'→'어비스' 박보영, 어게인 '뽀블리' 매직 자신감(종합)[Oh!쎈 현장]</em> <span class=\"size\">530X966</span> </span> </span> <span class=\"_meta\" style=\"display:none;\"> { \"crArea\": \"n\", \"rank\":\"25\", \"link\":\"http%3A%2F%2Fnews.naver.com%2Fmain%2Fread.nhn%3Foid%3D109%26aid%3D0004002600\", \"title\":\"%27%EC%98%A4%EB%82%98%EA%B7%80%27%E2%86%92%27%EC%96%B4%EB%B9%84%EC%8A%A4%27%20%EB%B0%95%EB%B3%B4%EC%98%81%2C%20%EC%96%B4%EA%B2%8C%EC%9D%B8%20%27%EB%BD%80%EB%B8%94%EB%A6%AC%27%20%EB%A7%A4%EC%A7%81%20%EC%9E%90%EC%8B%A0%EA%B0%90(%EC%A2%85%ED%95%A9)%5BOh!%EC%8E%88%20%ED%98%84%EC%9E%A5%5D\", \"date\":\"2019.05.03.\", \"originalUrl\":\"http%3A%2F%2Fimgnews.naver.net%2Fimage%2F109%2F2019%2F05%2F03%2F0004002600_002_20190503164807188.jpg\", \"imgId\":\"news1090004002600_372402559\", \"source\":\"%ED%8F%AC%ED%86%A0%EB%89%B4%EC%8A%A4\", \"orgWidth\":\"530\", \"orgHeight\":\"966\", \"thumb\":\"https%3A%2F%2Fsearch.pstatic.net%2Fcommon%2F%3Fsrc%3Dhttp%253A%252F%252Fimgnews.naver.net%252Fimage%252F109%252F2019%252F05%252F03%252F0004002600_002_20190503164807188.jpg%26type%3Db400\", \"thumb44\":\"https%3A%2F%2Fsearch.pstatic.net%2Fcommon%2F%3Fsrc%3Dhttp%253A%252F%252Fimgnews.naver.net%252Fimage%252F109%252F2019%252F05%252F03%252F0004002600_002_20190503164807188.jpg%26type%3Dn88_88\", \"topUrl\":\"http%3A%2F%2Fnews.naver.com%2Fmain%2Fread.nhn%3Foid%3D109%26aid%3D0004002600\", \"subsection\":\"\", \"cclType\": \"0\", \"overbyte\": \"0\", \"gdid\": \"news_e9cd9681031211abad9e07da2d7d0450\", \"signature\": \"333265654448613\", \"sttData\": \"\", \"saslink\":\"http%3A%2F%2Fnews.naver.com%2Fmain%2Fread.nhn%3Foid%3D109%26aid%3D0004002600\" } </span> </a> <a class=\"org_view spimg\" href=\"http://news.naver.com/main/read.nhn?oid=109&amp;aid=0004002600\" onclick=\"return goOtherCR(this, 'a=img_noc*n.end&amp;r=25&amp;i=news_e9cd9681031211abad9e07da2d7d0450&amp;g=333265654448613&amp;u='+urlencode(this.href));\" target=\"_blank\" title=\"새창\">원본링크로 이동하기</a> </div> <div class=\"img_area _item\" data-id=\"news52680000025568_1220690627\"> <a class=\"thumb _thumb\" href=\"#\" onclick=\"tCR('a=img_noc*n.img&amp;r=26&amp;i=news_48c242c387c004f7cf5040aa219003f5&amp;g=532278455855015&amp;u=http%3A%2F%2Fwww.asiatoday.co.kr%2Fnews%2Fview.asp%3Fseq%3D927889');\" title=\"'피끓는 청춘' 박보영, 일진 연기 &quot;학생들이 따라할까 걱정&quot; | 포토뉴스\"> <img alt=\"'피끓는 청춘' 박보영, 일진 연기 &quot;학생들이 따라할까 걱정&quot; | 포토뉴스\" class=\"_img\" data-height=\"811\" data-source=\"https://search.pstatic.net/common/?src=http%3A%2F%2Fimgnews.naver.net%2Fimage%2F5268%2F2014%2F01%2F21%2F927889_0-550827_47544_59_20140121145003.jpg&amp;type=b400\" data-width=\"540\" onerror=\"var we=$Element(this); we.addClass('bg_nimg'); we.attr('alt','이미지준비중'); we.attr('src','data:image/gif;base64,R0lGODlhAQABAIAAAAAAAP///yH5BAEAAAAALAAAAAABAAEAAAIBRAA7');\" src=\"data:image/gif;base64,R0lGODlhAQABAIAAAAAAAP///yH5BAEAAAAALAAAAAABAAEAAAIBRAA7\"/><span class=\"img_border\"></span> <span class=\"data_img\"> <span class=\"data_bg\"></span> <span class=\"data_txt\"> <em class=\"tit\">'피끓는 청춘' 박보영, 일진 연기 \"학생들이 따라할까 걱정\"</em> <span class=\"size\">540X811</span> </span> </span> <span class=\"_meta\" style=\"display:none;\"> { \"crArea\": \"n\", \"rank\":\"26\", \"link\":\"http%3A%2F%2Fwww.asiatoday.co.kr%2Fnews%2Fview.asp%3Fseq%3D927889\", \"title\":\"%27%ED%94%BC%EB%81%93%EB%8A%94%20%EC%B2%AD%EC%B6%98%27%20%EB%B0%95%EB%B3%B4%EC%98%81%2C%20%EC%9D%BC%EC%A7%84%20%EC%97%B0%EA%B8%B0%20%26quot%3B%ED%95%99%EC%83%9D%EB%93%A4%EC%9D%B4%20%EB%94%B0%EB%9D%BC%ED%95%A0%EA%B9%8C%20%EA%B1%B1%EC%A0%95%26quot%3B\", \"date\":\"2014.01.21.\", \"originalUrl\":\"http%3A%2F%2Fimgnews.naver.net%2Fimage%2F5268%2F2014%2F01%2F21%2F927889_0-550827_47544_59_20140121145003.jpg\", \"imgId\":\"news52680000025568_1220690627\", \"source\":\"%ED%8F%AC%ED%86%A0%EB%89%B4%EC%8A%A4\", \"orgWidth\":\"540\", \"orgHeight\":\"811\", \"thumb\":\"https%3A%2F%2Fsearch.pstatic.net%2Fcommon%2F%3Fsrc%3Dhttp%253A%252F%252Fimgnews.naver.net%252Fimage%252F5268%252F2014%252F01%252F21%252F927889_0-550827_47544_59_20140121145003.jpg%26type%3Db400\", \"thumb44\":\"https%3A%2F%2Fsearch.pstatic.net%2Fcommon%2F%3Fsrc%3Dhttp%253A%252F%252Fimgnews.naver.net%252Fimage%252F5268%252F2014%252F01%252F21%252F927889_0-550827_47544_59_20140121145003.jpg%26type%3Dn88_88\", \"topUrl\":\"http%3A%2F%2Fwww.asiatoday.co.kr%2Fnews%2Fview.asp%3Fseq%3D927889\", \"subsection\":\"\", \"cclType\": \"0\", \"overbyte\": \"0\", \"gdid\": \"news_48c242c387c004f7cf5040aa219003f5\", \"signature\": \"532278455855015\", \"sttData\": \"\", \"saslink\":\"http%3A%2F%2Fwww.asiatoday.co.kr%2Fnews%2Fview.asp%3Fseq%3D927889\" } </span> </a> <a class=\"org_view spimg\" href=\"http://www.asiatoday.co.kr/news/view.asp?seq=927889\" onclick=\"return goOtherCR(this, 'a=img_noc*n.end&amp;r=26&amp;i=news_48c242c387c004f7cf5040aa219003f5&amp;g=532278455855015&amp;u='+urlencode(this.href));\" target=\"_blank\" title=\"새창\">원본링크로 이동하기</a> </div> <div class=\"img_area _item\" data-id=\"news3120000385092_2063085546\"> <a class=\"thumb _thumb\" href=\"#\" onclick=\"tCR('a=img_noc*n.img&amp;r=27&amp;i=news_8507d0161cabc568c543a371691c101b&amp;g=110818749187412&amp;u=http%3A%2F%2Fnews.naver.com%2Fmain%2Fread.nhn%3Foid%3D312%26aid%3D0000385092');\" title=\"[TEN PHOTO]박보영 '꽃내음 가득한 매력' | 포토뉴스\"> <img alt=\"[TEN PHOTO]박보영 '꽃내음 가득한 매력' | 포토뉴스\" class=\"_img\" data-height=\"740\" data-source=\"https://search.pstatic.net/common/?src=http%3A%2F%2Fimgnews.naver.net%2Fimage%2F312%2F2019%2F04%2F29%2F0000385092_001_20190429112508757.jpg&amp;type=b400\" data-width=\"540\" onerror=\"var we=$Element(this); we.addClass('bg_nimg'); we.attr('alt','이미지준비중'); we.attr('src','data:image/gif;base64,R0lGODlhAQABAIAAAAAAAP///yH5BAEAAAAALAAAAAABAAEAAAIBRAA7');\" src=\"data:image/gif;base64,R0lGODlhAQABAIAAAAAAAP///yH5BAEAAAAALAAAAAABAAEAAAIBRAA7\"/><span class=\"img_border\"></span> <span class=\"data_img\"> <span class=\"data_bg\"></span> <span class=\"data_txt\"> <em class=\"tit\">[TEN PHOTO]박보영 '꽃내음 가득한 매력'</em> <span class=\"size\">540X740</span> </span> </span> <span class=\"_meta\" style=\"display:none;\"> { \"crArea\": \"n\", \"rank\":\"27\", \"link\":\"http%3A%2F%2Fnews.naver.com%2Fmain%2Fread.nhn%3Foid%3D312%26aid%3D0000385092\", \"title\":\"%5BTEN%20PHOTO%5D%EB%B0%95%EB%B3%B4%EC%98%81%20%27%EA%BD%83%EB%82%B4%EC%9D%8C%20%EA%B0%80%EB%93%9D%ED%95%9C%20%EB%A7%A4%EB%A0%A5%27\", \"date\":\"2019.04.29.\", \"originalUrl\":\"http%3A%2F%2Fimgnews.naver.net%2Fimage%2F312%2F2019%2F04%2F29%2F0000385092_001_20190429112508757.jpg\", \"imgId\":\"news3120000385092_2063085546\", \"source\":\"%ED%8F%AC%ED%86%A0%EB%89%B4%EC%8A%A4\", \"orgWidth\":\"540\", \"orgHeight\":\"740\", \"thumb\":\"https%3A%2F%2Fsearch.pstatic.net%2Fcommon%2F%3Fsrc%3Dhttp%253A%252F%252Fimgnews.naver.net%252Fimage%252F312%252F2019%252F04%252F29%252F0000385092_001_20190429112508757.jpg%26type%3Db400\", \"thumb44\":\"https%3A%2F%2Fsearch.pstatic.net%2Fcommon%2F%3Fsrc%3Dhttp%253A%252F%252Fimgnews.naver.net%252Fimage%252F312%252F2019%252F04%252F29%252F0000385092_001_20190429112508757.jpg%26type%3Dn88_88\", \"topUrl\":\"http%3A%2F%2Fnews.naver.com%2Fmain%2Fread.nhn%3Foid%3D312%26aid%3D0000385092\", \"subsection\":\"\", \"cclType\": \"0\", \"overbyte\": \"0\", \"gdid\": \"news_8507d0161cabc568c543a371691c101b\",  \"signature\": \"110818749187412\", \"sttData\": \"\", \"saslink\":\"http%3A%2F%2Fnews.naver.com%2Fmain%2Fread.nhn%3Foid%3D312%26aid%3D0000385092\" } </span> </a> <a class=\"org_view spimg\" href=\"http://news.naver.com/main/read.nhn?oid=312&amp;aid=0000385092\" onclick=\"return goOtherCR(this, 'a=img_noc*n.end&amp;r=27&amp;i=news_8507d0161cabc568c543a371691c101b&amp;g=110818749187412&amp;u='+urlencode(this.href));\" target=\"_blank\" title=\"새창\">원본링크로 이동하기</a> </div> <div class=\"img_area _item\" data-id=\"news55030000030512_1981074533\"> <a class=\"thumb _thumb\" href=\"#\" onclick=\"tCR('a=img_noc*n.img&amp;r=28&amp;i=news_7614cc654a19301b9872b05597297918&amp;g=767590195475204&amp;u=http%3A%2F%2Fkpenews.com%2FView.aspx%3FNo%3D55556');\" title='tvN ‘어비스’ 25일 마지막 회.. 박보영 \"내가 너 지켜줄게” | 포토뉴스'> <img alt='tvN ‘어비스’ 25일 마지막 회.. 박보영 \"내가 너 지켜줄게” | 포토뉴스' class=\"_img\" data-height=\"450\" data-source=\"https://search.pstatic.net/common/?src=http%3A%2F%2Fimgnews.naver.net%2Fimage%2F5503%2F2019%2F06%2F25%2F0000030512_001_20190625145841663.JPG&amp;type=b400\" data-width=\"800\" onerror=\"var we=$Element(this); we.addClass('bg_nimg'); we.attr('alt','이미지준비중'); we.attr('src','data:image/gif;base64,R0lGODlhAQABAIAAAAAAAP///yH5BAEAAAAALAAAAAABAAEAAAIBRAA7');\" src=\"data:image/gif;base64,R0lGODlhAQABAIAAAAAAAP///yH5BAEAAAAALAAAAAABAAEAAAIBRAA7\"/><span class=\"img_border\"></span> <span class=\"data_img\"> <span class=\"data_bg\"></span> <span class=\"data_txt\"> <em class=\"tit\">tvN ‘어비스’ 25일 마지막 회.. 박보영 \"내가 너 지켜줄게”</em> <span class=\"size\">800X450</span> </span> </span> <span class=\"_meta\" style=\"display:none;\"> { \"crArea\": \"n\", \"rank\":\"28\", \"link\":\"http%3A%2F%2Fkpenews.com%2FView.aspx%3FNo%3D55556\", \"title\":\"tvN%20%E2%80%98%EC%96%B4%EB%B9%84%EC%8A%A4%E2%80%99%2025%EC%9D%BC%20%EB%A7%88%EC%A7%80%EB%A7%89%20%ED%9A%8C..%20%EB%B0%95%EB%B3%B4%EC%98%81%20%26quot%3B%EB%82%B4%EA%B0%80%20%EB%84%88%20%EC%A7%80%EC%BC%9C%EC%A4%84%EA%B2%8C%E2%80%9D\", \"date\":\"2019.06.25.\", \"originalUrl\":\"http%3A%2F%2Fimgnews.naver.net%2Fimage%2F5503%2F2019%2F06%2F25%2F0000030512_001_20190625145841663.JPG\", \"imgId\":\"news55030000030512_1981074533\", \"source\":\"%ED%8F%AC%ED%86%A0%EB%89%B4%EC%8A%A4\", \"orgWidth\":\"800\", \"orgHeight\":\"450\", \"thumb\":\"https%3A%2F%2Fsearch.pstatic.net%2Fcommon%2F%3Fsrc%3Dhttp%253A%252F%252Fimgnews.naver.net%252Fimage%252F5503%252F2019%252F06%252F25%252F0000030512_001_20190625145841663.JPG%26type%3Db400\", \"thumb44\":\"https%3A%2F%2Fsearch.pstatic.net%2Fcommon%2F%3Fsrc%3Dhttp%253A%252F%252Fimgnews.naver.net%252Fimage%252F5503%252F2019%252F06%252F25%252F0000030512_001_20190625145841663.JPG%26type%3Dn88_88\", \"topUrl\":\"http%3A%2F%2Fkpenews.com%2FView.aspx%3FNo%3D55556\", \"subsection\":\"\", \"cclType\": \"0\", \"overbyte\": \"0\", \"gdid\": \"news_7614cc654a19301b9872b05597297918\", \"signature\": \"767590195475204\", \"sttData\": \"\", \"saslink\":\"http%3A%2F%2Fkpenews.com%2FView.aspx%3FNo%3D55556\" } </span> </a> <a class=\"org_view spimg\" href=\"http://kpenews.com/View.aspx?No=55556\" onclick=\"return goOtherCR(this, 'a=img_noc*n.end&amp;r=28&amp;i=news_7614cc654a19301b9872b05597297918&amp;g=767590195475204&amp;u='+urlencode(this.href));\" target=\"_blank\" title=\"새창\">원본링크로 이동하기</a> </div> <div class=\"img_area _item\" data-id=\"news53390000124040_131279313\"> <a class=\"thumb _thumb\" href=\"#\" onclick=\"tCR('a=img_noc*n.img&amp;r=29&amp;i=news_f82cd62f41e636ad77149ef770388ae7&amp;g=1080099643161768&amp;u=http%3A%2F%2Fnc.asiae.co.kr%2Fview.htm%3Fidxno%3D2018120622402224563');\" title=\"[#별별샷] 배우 박보영, 청순한 방부제 미모로 ‘시선강탈’ | 포토뉴스\"> <img alt=\"[#별별샷] 배우 박보영, 청순한 방부제 미모로 ‘시선강탈’ | 포토뉴스\" class=\"_img\" data-height=\"601\" data-source=\"https://search.pstatic.net/common/?src=http%3A%2F%2Fimgnews.naver.net%2Fimage%2F5339%2F2018%2F12%2F07%2F2018120636294797_20181207000910239.jpg&amp;type=b400\" data-width=\"450\" onerror=\"var we=$Element(this); we.addClass('bg_nimg'); we.attr('alt','이미지준비중'); we.attr('src','data:image/gif;base64,R0lGODlhAQABAIAAAAAAAP///yH5BAEAAAAALAAAAAABAAEAAAIBRAA7');\" src=\"data:image/gif;base64,R0lGODlhAQABAIAAAAAAAP///yH5BAEAAAAALAAAAAABAAEAAAIBRAA7\"/><span class=\"img_border\"></span> <span class=\"data_img\"> <span class=\"data_bg\"></span> <span class=\"data_txt\"> <em class=\"tit\">[#별별샷] 배우 박보영, 청순한 방부제 미모로 ‘시선강탈’</em> <span class=\"size\">450X601</span> </span> </span> <span class=\"_meta\" style=\"display:none;\"> { \"crArea\": \"n\", \"rank\":\"29\", \"link\":\"http%3A%2F%2Fnc.asiae.co.kr%2Fview.htm%3Fidxno%3D2018120622402224563\", \"title\":\"%5B%23%EB%B3%84%EB%B3%84%EC%83%B7%5D%20%EB%B0%B0%EC%9A%B0%20%EB%B0%95%EB%B3%B4%EC%98%81%2C%20%EC%B2%AD%EC%88%9C%ED%95%9C%20%EB%B0%A9%EB%B6%80%EC%A0%9C%20%EB%AF%B8%EB%AA%A8%EB%A1%9C%20%E2%80%98%EC%8B%9C%EC%84%A0%EA%B0%95%ED%83%88%E2%80%99\", \"date\":\"2018.12.07.\", \"originalUrl\":\"http%3A%2F%2Fimgnews.naver.net%2Fimage%2F5339%2F2018%2F12%2F07%2F2018120636294797_20181207000910239.jpg\", \"imgId\":\"news53390000124040_131279313\", \"source\":\"%ED%8F%AC%ED%86%A0%EB%89%B4%EC%8A%A4\", \"orgWidth\":\"450\", \"orgHeight\":\"601\", \"thumb\":\"https%3A%2F%2Fsearch.pstatic.net%2Fcommon%2F%3Fsrc%3Dhttp%253A%252F%252Fimgnews.naver.net%252Fimage%252F5339%252F2018%252F12%252F07%252F2018120636294797_20181207000910239.jpg%26type%3Db400\", \"thumb44\":\"https%3A%2F%2Fsearch.pstatic.net%2Fcommon%2F%3Fsrc%3Dhttp%253A%252F%252Fimgnews.naver.net%252Fimage%252F5339%252F2018%252F12%252F07%252F2018120636294797_20181207000910239.jpg%26type%3Dn88_88\", \"topUrl\":\"http%3A%2F%2Fnc.asiae.co.kr%2Fview.htm%3Fidxno%3D2018120622402224563\", \"subsection\":\"\", \"cclType\": \"0\", \"overbyte\": \"0\", \"gdid\": \"news_f82cd62f41e636ad77149ef770388ae7\", \"signature\": \"1080099643161768\", \"sttData\": \"\", \"saslink\":\"http%3A%2F%2Fnc.asiae.co.kr%2Fview.htm%3Fidxno%3D2018120622402224563\" } </span> </a> <a class=\"org_view spimg\" href=\"http://nc.asiae.co.kr/view.htm?idxno=2018120622402224563\" onclick=\"return goOtherCR(this, 'a=img_noc*n.end&amp;r=29&amp;i=news_f82cd62f41e636ad77149ef770388ae7&amp;g=1080099643161768&amp;u='+urlencode(this.href));\" target=\"_blank\" title=\"새창\">원본링크로 이동하기</a> </div> <div class=\"img_area _item\" data-id=\"news55670000008181_1010990375\"> <a class=\"thumb _thumb\" href=\"#\" onclick=\"tCR('a=img_noc*n.img&amp;r=30&amp;i=news_3c427d27886414ff23ea41e34818ea57&amp;g=826141588287876&amp;u=http%3A%2F%2Fwww.iloveorganic.co.kr%2Fnews%2FarticleView.html%3Fidxno%3D225380');\" title=\"'어비스' 박보영, 안효섭과 애틋한 사랑...해피엔딩 기대감 up | 포토뉴스\"> <img alt=\"'어비스' 박보영, 안효섭과 애틋한 사랑...해피엔딩 기대감 up | 포토뉴스\" class=\"_img\" data-height=\"337\" data-source=\"https://search.pstatic.net/common/?src=http%3A%2F%2Fimgnews.naver.net%2Fimage%2F5567%2F2019%2F06%2F25%2F0000008181_001_20190625110648024.jpg&amp;type=b400\" data-width=\"600\" onerror=\"var we=$Element(this); we.addClass('bg_nimg'); we.attr('alt','이미지준비중'); we.attr('src','data:image/gif;base64,R0lGODlhAQABAIAAAAAAAP///yH5BAEAAAAALAAAAAABAAEAAAIBRAA7');\" src=\"data:image/gif;base64,R0lGODlhAQABAIAAAAAAAP///yH5BAEAAAAALAAAAAABAAEAAAIBRAA7\"/><span class=\"img_border\"></span> <span class=\"data_img\"> <span class=\"data_bg\"></span> <span class=\"data_txt\"> <em class=\"tit\">'어비스' 박보영, 안효섭과 애틋한 사랑...해피엔딩 기대감 up</em> <span class=\"size\">600X337</span> </span> </span> <span class=\"_meta\" style=\"display:none;\"> { \"crArea\": \"n\", \"rank\":\"30\", \"link\":\"http%3A%2F%2Fwww.iloveorganic.co.kr%2Fnews%2FarticleView.html%3Fidxno%3D225380\", \"title\":\"%27%EC%96%B4%EB%B9%84%EC%8A%A4%27%20%EB%B0%95%EB%B3%B4%EC%98%81%2C%20%EC%95%88%ED%9A%A8%EC%84%AD%EA%B3%BC%20%EC%95%A0%ED%8B%8B%ED%95%9C%20%EC%82%AC%EB%9E%91...%ED%95%B4%ED%94%BC%EC%97%94%EB%94%A9%20%EA%B8%B0%EB%8C%80%EA%B0%90%20up\", \"date\":\"2019.06.25.\", \"originalUrl\":\"http%3A%2F%2Fimgnews.naver.net%2Fimage%2F5567%2F2019%2F06%2F25%2F0000008181_001_20190625110648024.jpg\", \"imgId\":\"news55670000008181_1010990375\", \"source\":\"%ED%8F%AC%ED%86%A0%EB%89%B4%EC%8A%A4\", \"orgWidth\":\"600\", \"orgHeight\":\"337\", \"thumb\":\"https%3A%2F%2Fsearch.pstatic.net%2Fcommon%2F%3Fsrc%3Dhttp%253A%252F%252Fimgnews.naver.net%252Fimage%252F5567%252F2019%252F06%252F25%252F0000008181_001_20190625110648024.jpg%26type%3Db400\", \"thumb44\":\"https%3A%2F%2Fsearch.pstatic.net%2Fcommon%2F%3Fsrc%3Dhttp%253A%252F%252Fimgnews.naver.net%252Fimage%252F5567%252F2019%252F06%252F25%252F0000008181_001_20190625110648024.jpg%26type%3Dn88_88\", \"topUrl\":\"http%3A%2F%2Fwww.iloveorganic.co.kr%2Fnews%2FarticleView.html%3Fidxno%3D225380\", \"subsection\":\"\", \"cclType\": \"0\", \"overbyte\": \"0\", \"gdid\": \"news_3c427d27886414ff23ea41e34818ea57\", \"signature\": \"826141588287876\", \"sttData\": \"\", \"saslink\":\"http%3A%2F%2Fwww.iloveorganic.co.kr%2Fnews%2FarticleView.html%3Fidxno%3D225380\" } </span> </a> <a class=\"org_view spimg\" href=\"http://www.iloveorganic.co.kr/news/articleView.html?idxno=225380\" onclick=\"return goOtherCR(this, 'a=img_noc*n.end&amp;r=30&amp;i=news_3c427d27886414ff23ea41e34818ea57&amp;g=826141588287876&amp;u='+urlencode(this.href));\" target=\"_blank\" title=\"새창\">원본링크로 이동하기</a> </div> <div class=\"img_area _item\" data-id=\"news50430000024965_1505854081\"> <a class=\"thumb _thumb\" href=\"#\" onclick=\"tCR('a=img_noc*n.img&amp;r=31&amp;i=news_59c1828138768da973cf93aa864ac62b&amp;g=810364721145282&amp;u=http%3A%2F%2Fwww2.readersnews.com%2Fsub_read.html%3Fuid%3D37926%26section%3Dsc1');\" title=\"박보영 컬투 얼굴 비교 &quot;컬투 머리크기 반밖에 안되는 '소두 종결자'&quot; | 포토뉴스\"> <img alt=\"박보영 컬투 얼굴 비교 &quot;컬투 머리크기 반밖에 안되는 '소두 종결자'&quot; | 포토뉴스\" class=\"_img\" data-height=\"581\" data-source=\"https://search.pstatic.net/common/?src=http%3A%2F%2Fimgnews.naver.net%2Fimage%2F5043%2F2012%2F10%2F30%2F2012103015504813_59_20121030092011.jpg&amp;type=b400\" data-width=\"540\" onerror=\"var we=$Element(this); we.addClass('bg_nimg'); we.attr('alt','이미지준비중'); we.attr('src','data:image/gif;base64,R0lGODlhAQABAIAAAAAAAP///yH5BAEAAAAALAAAAAABAAEAAAIBRAA7');\" src=\"data:image/gif;base64,R0lGODlhAQABAIAAAAAAAP///yH5BAEAAAAALAAAAAABAAEAAAIBRAA7\"/><span class=\"img_border\"></span> <span class=\"data_img\"> <span class=\"data_bg\"></span> <span class=\"data_txt\"> <em class=\"tit\">박보영 컬투 얼굴 비교 \"컬투 머리크기 반밖에 안되는 '소두 종결자'\"</em> <span class=\"size\">540X581</span> </span> </span> <span class=\"_meta\" style=\"display:none;\"> { \"crArea\": \"n\", \"rank\":\"31\", \"link\":\"http%3A%2F%2Fwww2.readersnews.com%2Fsub_read.html%3Fuid%3D37926%26section%3Dsc1\", \"title\":\"%EB%B0%95%EB%B3%B4%EC%98%81%20%EC%BB%AC%ED%88%AC%20%EC%96%BC%EA%B5%B4%20%EB%B9%84%EA%B5%90%20%26quot%3B%EC%BB%AC%ED%88%AC%20%EB%A8%B8%EB%A6%AC%ED%81%AC%EA%B8%B0%20%EB%B0%98%EB%B0%96%EC%97%90%20%EC%95%88%EB%90%98%EB%8A%94%20%27%EC%86%8C%EB%91%90%20%EC%A2%85%EA%B2%B0%EC%9E%90%27%26quot%3B\", \"date\":\"2012.10.30.\", \"originalUrl\":\"http%3A%2F%2Fimgnews.naver.net%2Fimage%2F5043%2F2012%2F10%2F30%2F2012103015504813_59_20121030092011.jpg\", \"imgId\":\"news50430000024965_1505854081\", \"source\":\"%ED%8F%AC%ED%86%A0%EB%89%B4%EC%8A%A4\", \"orgWidth\":\"540\", \"orgHeight\":\"581\", \"thumb\":\"https%3A%2F%2Fsearch.pstatic.net%2Fcommon%2F%3Fsrc%3Dhttp%253A%252F%252Fimgnews.naver.net%252Fimage%252F5043%252F2012%252F10%252F30%252F2012103015504813_59_20121030092011.jpg%26type%3Db400\", \"thumb44\":\"https%3A%2F%2Fsearch.pstatic.net%2Fcommon%2F%3Fsrc%3Dhttp%253A%252F%252Fimgnews.naver.net%252Fimage%252F5043%252F2012%252F10%252F30%252F2012103015504813_59_20121030092011.jpg%26type%3Dn88_88\", \"topUrl\":\"http%3A%2F%2Fwww2.readersnews.com%2Fsub_read.html%3Fuid%3D37926%26section%3Dsc1\", \"subsection\":\"\", \"cclType\": \"0\", \"overbyte\": \"0\", \"gdid\": \"news_59c1828138768da973cf93aa864ac62b\", \"signature\": \"810364721145282\", \"sttData\": \"\", \"saslink\":\"http%3A%2F%2Fwww2.readersnews.com%2Fsub_read.html%3Fuid%3D37926%26section%3Dsc1\" } </span> </a> <a class=\"org_view spimg\" href=\"http://www2.readersnews.com/sub_read.html?uid=37926&amp;section=sc1\" onclick=\"return goOtherCR(this, 'a=img_noc*n.end&amp;r=31&amp;i=news_59c1828138768da973cf93aa864ac62b&amp;g=810364721145282&amp;u='+urlencode(this.href));\" target=\"_blank\" title=\"새창\">원본링크로 이동하기</a> </div> <div class=\"img_area _item\" data-id=\"news1120003169601_1929713919\"> <a class=\"thumb _thumb\" href=\"#\" onclick=\"tCR('a=img_noc*n.img&amp;r=32&amp;i=news_730518ff0ffddf1d65c8b66f76b0955d&amp;g=1092997279795081&amp;u=http%3A%2F%2Fnews.naver.com%2Fmain%2Fread.nhn%3Foid%3D112%26aid%3D0003169601');\" title=\"'어비스' 박보영♥안효섭, 심쿵 키스‥권수현, 박보영 살인 사주(종합) | 포토뉴스\"> <img alt=\"'어비스' 박보영♥안효섭, 심쿵 키스‥권수현, 박보영 살인 사주(종합) | 포토뉴스\" class=\"_img\" data-height=\"1216\" data-source=\"https://search.pstatic.net/common/?src=http%3A%2F%2Fimgnews.naver.net%2Fimage%2F112%2F2019%2F05%2F28%2F201905282207245443380_20190528224138_01_20190528224209210.jpg&amp;type=b400\" data-width=\"540\" onerror=\"var we=$Element(this); we.addClass('bg_nimg'); we.attr('alt','이미지준비중'); we.attr('src','data:image/gif;base64,R0lGODlhAQABAIAAAAAAAP///yH5BAEAAAAALAAAAAABAAEAAAIBRAA7');\" src=\"data:image/gif;base64,R0lGODlhAQABAIAAAAAAAP///yH5BAEAAAAALAAAAAABAAEAAAIBRAA7\"/><span class=\"img_border\"></span> <span class=\"data_img\"> <span class=\"data_bg\"></span> <span class=\"data_txt\"> <em class=\"tit\">'어비스' 박보영♥안효섭, 심쿵 키스‥권수현, 박보영 살인 사주(종합)</em> <span class=\"size\">540X1216</span> </span> </span> <span class=\"_meta\" style=\"display:none;\"> { \"crArea\": \"n\", \"rank\":\"32\", \"link\":\"http%3A%2F%2Fnews.naver.com%2Fmain%2Fread.nhn%3Foid%3D112%26aid%3D0003169601\", \"title\":\"%27%EC%96%B4%EB%B9%84%EC%8A%A4%27%20%EB%B0%95%EB%B3%B4%EC%98%81%E2%99%A5%EC%95%88%ED%9A%A8%EC%84%AD%2C%20%EC%8B%AC%EC%BF%B5%20%ED%82%A4%EC%8A%A4%E2%80%A5%EA%B6%8C%EC%88%98%ED%98%84%2C%20%EB%B0%95%EB%B3%B4%EC%98%81%20%EC%82%B4%EC%9D%B8%20%EC%82%AC%EC%A3%BC(%EC%A2%85%ED%95%A9)\", \"date\":\"2019.05.28.\", \"originalUrl\":\"http%3A%2F%2Fimgnews.naver.net%2Fimage%2F112%2F2019%2F05%2F28%2F201905282207245443380_20190528224138_01_20190528224209210.jpg\", \"imgId\":\"news1120003169601_1929713919\", \"source\":\"%ED%8F%AC%ED%86%A0%EB%89%B4%EC%8A%A4\", \"orgWidth\":\"540\", \"orgHeight\":\"1216\", \"thumb\":\"https%3A%2F%2Fsearch.pstatic.net%2Fcommon%2F%3Fsrc%3Dhttp%253A%252F%252Fimgnews.naver.net%252Fimage%252F112%252F2019%252F05%252F28%252F201905282207245443380_20190528224138_01_20190528224209210.jpg%26type%3Db400\", \"thumb44\":\"https%3A%2F%2Fsearch.pstatic.net%2Fcommon%2F%3Fsrc%3Dhttp%253A%252F%252Fimgnews.naver.net%252Fimage%252F112%252F2019%252F05%252F28%252F201905282207245443380_20190528224138_01_20190528224209210.jpg%26type%3Dn88_88\", \"topUrl\":\"http%3A%2F%2Fnews.naver.com%2Fmain%2Fread.nhn%3Foid%3D112%26aid%3D0003169601\", \"subsection\":\"\", \"cclType\": \"0\", \"overbyte\": \"0\", \"gdid\": \"news_730518ff0ffddf1d65c8b66f76b0955d\", \"signature\": \"1092997279795081\", \"sttData\": \"\", \"saslink\":\"http%3A%2F%2Fnews.naver.com%2Fmain%2Fread.nhn%3Foid%3D112%26aid%3D0003169601\" } </span> </a> <a class=\"org_view spimg\" href=\"http://news.naver.com/main/read.nhn?oid=112&amp;aid=0003169601\" onclick=\"return goOtherCR(this, 'a=img_noc*n.end&amp;r=32&amp;i=news_730518ff0ffddf1d65c8b66f76b0955d&amp;g=1092997279795081&amp;u='+urlencode(this.href));\" target=\"_blank\" title=\"새창\">원본링크로 이동하기</a> </div> <div class=\"img_area _item\" data-id=\"news3820000729116_701400661\"> <a class=\"thumb _thumb\" href=\"#\" onclick=\"tCR('a=img_noc*n.img&amp;r=33&amp;i=news_29ce865528a9bb72beba2efcc6a79d6a&amp;g=233144534884542&amp;u=http%3A%2F%2Fnews.naver.com%2Fmain%2Fread.nhn%3Foid%3D382%26aid%3D0000729116');\" title=\"[포토] ‘어비스’ ‘뽀블리’ 박보영 ‘아름답다’ | 포토뉴스\"> <img alt=\"[포토] ‘어비스’ ‘뽀블리’ 박보영 ‘아름답다’ | 포토뉴스\" class=\"_img\" data-height=\"484\" data-source=\"https://search.pstatic.net/common/?src=http%3A%2F%2Fimgnews.naver.net%2Fimage%2F382%2F2019%2F05%2F03%2F0000729116_001_20190503153611843.jpg&amp;type=b400\" data-width=\"600\" onerror=\"var we=$Element(this); we.addClass('bg_nimg'); we.attr('alt','이미지준비중'); we.attr('src','data:image/gif;base64,R0lGODlhAQABAIAAAAAAAP///yH5BAEAAAAALAAAAAABAAEAAAIBRAA7');\" src=\"data:image/gif;base64,R0lGODlhAQABAIAAAAAAAP///yH5BAEAAAAALAAAAAABAAEAAAIBRAA7\"/><span class=\"img_border\"></span> <span class=\"data_img\"> <span class=\"data_bg\"></span> <span class=\"data_txt\"> <em class=\"tit\">[포토] ‘어비스’ ‘뽀블리’ 박보영 ‘아름답다’</em> <span class=\"size\">600X484</span> </span> </span> <span class=\"_meta\" style=\"display:none;\"> { \"crArea\": \"n\", \"rank\":\"33\", \"link\":\"http%3A%2F%2Fnews.naver.com%2Fmain%2Fread.nhn%3Foid%3D382%26aid%3D0000729116\", \"title\":\"%5B%ED%8F%AC%ED%86%A0%5D%20%E2%80%98%EC%96%B4%EB%B9%84%EC%8A%A4%E2%80%99%20%E2%80%98%EB%BD%80%EB%B8%94%EB%A6%AC%E2%80%99%20%EB%B0%95%EB%B3%B4%EC%98%81%20%E2%80%98%EC%95%84%EB%A6%84%EB%8B%B5%EB%8B%A4%E2%80%99\", \"date\":\"2019.05.03.\", \"originalUrl\":\"http%3A%2F%2Fimgnews.naver.net%2Fimage%2F382%2F2019%2F05%2F03%2F0000729116_001_20190503153611843.jpg\", \"imgId\":\"news3820000729116_701400661\", \"source\":\"%ED%8F%AC%ED%86%A0%EB%89%B4%EC%8A%A4\", \"orgWidth\":\"600\", \"orgHeight\":\"484\", \"thumb\":\"https%3A%2F%2Fsearch.pstatic.net%2Fcommon%2F%3Fsrc%3Dhttp%253A%252F%252Fimgnews.naver.net%252Fimage%252F382%252F2019%252F05%252F03%252F0000729116_001_20190503153611843.jpg%26type%3Db400\", \"thumb44\":\"https%3A%2F%2Fsearch.pstatic.net%2Fcommon%2F%3Fsrc%3Dhttp%253A%252F%252Fimgnews.naver.net%252Fimage%252F382%252F2019%252F05%252F03%252F0000729116_001_20190503153611843.jpg%26type%3Dn88_88\", \"topUrl\":\"http%3A%2F%2Fnews.naver.com%2Fmain%2Fread.nhn%3Foid%3D382%26aid%3D0000729116\", \"subsection\":\"\", \"cclType\": \"0\", \"overbyte\": \"0\", \"gdid\": \"news_29ce865528a9bb72beba2efcc6a79d6a\", \"signature\": \"233144534884542\", \"sttData\": \"\", \"saslink\":\"http%3A%2F%2Fnews.naver.com%2Fmain%2Fread.nhn%3Foid%3D382%26aid%3D0000729116\" } </span> </a> <a class=\"org_view spimg\" href=\"http://news.naver.com/main/read.nhn?oid=382&amp;aid=0000729116\" onclick=\"return goOtherCR(this, 'a=img_noc*n.end&amp;r=33&amp;i=news_29ce865528a9bb72beba2efcc6a79d6a&amp;g=233144534884542&amp;u='+urlencode(this.href));\" target=\"_blank\" title=\"새창\">원본링크로 이동하기</a> </div> <div class=\"img_area _item\" data-id=\"news56960000014463_675411673\"> <a class=\"thumb _thumb\" href=\"#\" onclick=\"tCR('a=img_noc*n.img&amp;r=34&amp;i=news_2841f6d9207fb8ec2283eba4cde9168b&amp;g=727880656213441&amp;u=http%3A%2F%2Fthetravelnews.co.kr%2F06%2F159784%2F');\" title=\"tvN ‘어비스’ 로맨틱가이 안효섭,  박보영에게 ‘테디베어’ 목걸이 깜짝 선물! | 포토뉴스\"> <img alt=\"tvN ‘어비스’ 로맨틱가이 안효섭,  박보영에게 ‘테디베어’ 목걸이 깜짝 선물! | 포토뉴스\" class=\"_img\" data-height=\"393\" data-source=\"https://search.pstatic.net/common/?src=http%3A%2F%2Fimgnews.naver.net%2Fimage%2F5696%2F2019%2F06%2F12%2F0000014463_001_20190612155651670.jpg&amp;type=b400\" data-width=\"700\" onerror=\"var we=$Element(this); we.addClass('bg_nimg'); we.attr('alt','이미지준비중'); we.attr('src','data:image/gif;base64,R0lGODlhAQABAIAAAAAAAP///yH5BAEAAAAALAAAAAABAAEAAAIBRAA7');\" src=\"data:image/gif;base64,R0lGODlhAQABAIAAAAAAAP///yH5BAEAAAAALAAAAAABAAEAAAIBRAA7\"/><span class=\"img_border\"></span> <span class=\"data_img\"> <span class=\"data_bg\"></span> <span class=\"data_txt\"> <em class=\"tit\">tvN ‘어비스’ 로맨틱가이 안효섭, 박보영에게 ‘테디베어’ 목걸이 깜짝 선물!</em> <span class=\"size\">700X393</span> </span> </span> <span class=\"_meta\" style=\"display:none;\"> { \"crArea\": \"n\", \"rank\":\"34\", \"link\":\"http%3A%2F%2Fthetravelnews.co.kr%2F06%2F159784%2F\", \"title\":\"tvN%20%E2%80%98%EC%96%B4%EB%B9%84%EC%8A%A4%E2%80%99%20%EB%A1%9C%EB%A7%A8%ED%8B%B1%EA%B0%80%EC%9D%B4%20%EC%95%88%ED%9A%A8%EC%84%AD%2C%20%20%EB%B0%95%EB%B3%B4%EC%98%81%EC%97%90%EA%B2%8C%20%E2%80%98%ED%85%8C%EB%94%94%EB%B2%A0%EC%96%B4%E2%80%99%20%EB%AA%A9%EA%B1%B8%EC%9D%B4%20%EA%B9%9C%EC%A7%9D%20%EC%84%A0%EB%AC%BC!\", \"date\":\"2019.06.12.\", \"originalUrl\":\"http%3A%2F%2Fimgnews.naver.net%2Fimage%2F5696%2F2019%2F06%2F12%2F0000014463_001_20190612155651670.jpg\", \"imgId\":\"news56960000014463_675411673\", \"source\":\"%ED%8F%AC%ED%86%A0%EB%89%B4%EC%8A%A4\", \"orgWidth\":\"700\", \"orgHeight\":\"393\", \"thumb\":\"https%3A%2F%2Fsearch.pstatic.net%2Fcommon%2F%3Fsrc%3Dhttp%253A%252F%252Fimgnews.naver.net%252Fimage%252F5696%252F2019%252F06%252F12%252F0000014463_001_20190612155651670.jpg%26type%3Db400\", \"thumb44\":\"https%3A%2F%2Fsearch.pstatic.net%2Fcommon%2F%3Fsrc%3Dhttp%253A%252F%252Fimgnews.naver.net%252Fimage%252F5696%252F2019%252F06%252F12%252F0000014463_001_20190612155651670.jpg%26type%3Dn88_88\", \"topUrl\":\"http%3A%2F%2Fthetravelnews.co.kr%2F06%2F159784%2F\", \"subsection\":\"\", \"cclType\": \"0\", \"overbyte\": \"0\", \"gdid\": \"news_2841f6d9207fb8ec2283eba4cde9168b\", \"signature\": \"727880656213441\", \"sttData\": \"\", \"saslink\":\"http%3A%2F%2Fthetravelnews.co.kr%2F06%2F159784%2F\" } </span> </a> <a class=\"org_view spimg\" href=\"http://thetravelnews.co.kr/06/159784/\" onclick=\"return goOtherCR(this, 'a=img_noc*n.end&amp;r=34&amp;i=news_2841f6d9207fb8ec2283eba4cde9168b&amp;g=727880656213441&amp;u='+urlencode(this.href));\" target=\"_blank\" title=\"새창\">원본링크로 이동하기</a> </div> <div class=\"img_area _item\" data-id=\"news1170003225734_1191738801\"> <a class=\"thumb _thumb\" href=\"#\" onclick=\"tCR('a=img_noc*n.img&amp;r=35&amp;i=news_b8f7824fdd5e3250dcfeaaf372415170&amp;g=1072926424058338&amp;u=http%3A%2F%2Fnews.naver.com%2Fmain%2Fread.nhn%3Foid%3D117%26aid%3D0003225734');\" title=\"'어비스' 박보영♥안효섭, 본격 동거시작 '초밀착 껌딱지' | 포토뉴스\"> <img alt=\"'어비스' 박보영♥안효섭, 본격 동거시작 '초밀착 껌딱지' | 포토뉴스\" class=\"_img\" data-height=\"1042\" data-source=\"https://search.pstatic.net/common/?src=http%3A%2F%2Fimgnews.naver.net%2Fimage%2F117%2F2019%2F06%2F04%2F201906041529224634_1_20190604153311103.jpg&amp;type=b400\" data-width=\"520\" onerror=\"var we=$Element(this); we.addClass('bg_nimg'); we.attr('alt','이미지준비중'); we.attr('src','data:image/gif;base64,R0lGODlhAQABAIAAAAAAAP///yH5BAEAAAAALAAAAAABAAEAAAIBRAA7');\" src=\"data:image/gif;base64,R0lGODlhAQABAIAAAAAAAP///yH5BAEAAAAALAAAAAABAAEAAAIBRAA7\"/><span class=\"img_border\"></span> <span class=\"data_img\"> <span class=\"data_bg\"></span> <span class=\"data_txt\"> <em class=\"tit\">'어비스' 박보영♥안효섭, 본격 동거시작 '초밀착 껌딱지'</em> <span class=\"size\">520X1042</span> </span> </span> <span class=\"_meta\" style=\"display:none;\"> { \"crArea\": \"n\", \"rank\":\"35\", \"link\":\"http%3A%2F%2Fnews.naver.com%2Fmain%2Fread.nhn%3Foid%3D117%26aid%3D0003225734\", \"title\":\"%27%EC%96%B4%EB%B9%84%EC%8A%A4%27%20%EB%B0%95%EB%B3%B4%EC%98%81%E2%99%A5%EC%95%88%ED%9A%A8%EC%84%AD%2C%20%EB%B3%B8%EA%B2%A9%20%EB%8F%99%EA%B1%B0%EC%8B%9C%EC%9E%91%20%27%EC%B4%88%EB%B0%80%EC%B0%A9%20%EA%BB%8C%EB%94%B1%EC%A7%80%27\", \"date\":\"2019.06.04.\", \"originalUrl\":\"http%3A%2F%2Fimgnews.naver.net%2Fimage%2F117%2F2019%2F06%2F04%2F201906041529224634_1_20190604153311103.jpg\", \"imgId\":\"news1170003225734_1191738801\", \"source\":\"%ED%8F%AC%ED%86%A0%EB%89%B4%EC%8A%A4\", \"orgWidth\":\"520\", \"orgHeight\":\"1042\", \"thumb\":\"https%3A%2F%2Fsearch.pstatic.net%2Fcommon%2F%3Fsrc%3Dhttp%253A%252F%252Fimgnews.naver.net%252Fimage%252F117%252F2019%252F06%252F04%252F201906041529224634_1_20190604153311103.jpg%26type%3Db400\", \"thumb44\":\"https%3A%2F%2Fsearch.pstatic.net%2Fcommon%2F%3Fsrc%3Dhttp%253A%252F%252Fimgnews.naver.net%252Fimage%252F117%252F2019%252F06%252F04%252F201906041529224634_1_20190604153311103.jpg%26type%3Dn88_88\", \"topUrl\":\"http%3A%2F%2Fnews.naver.com%2Fmain%2Fread.nhn%3Foid%3D117%26aid%3D0003225734\", \"subsection\":\"\", \"cclType\": \"0\", \"overbyte\": \"0\", \"gdid\": \"news_b8f7824fdd5e3250dcfeaaf372415170\", \"signature\": \"1072926424058338\", \"sttData\": \"\", \"saslink\":\"http%3A%2F%2Fnews.naver.com%2Fmain%2Fread.nhn%3Foid%3D117%26aid%3D0003225734\" } </span> </a> <a class=\"org_view spimg\" href=\"http://news.naver.com/main/read.nhn?oid=117&amp;aid=0003225734\" onclick=\"return goOtherCR(this, 'a=img_noc*n.end&amp;r=35&amp;i=news_b8f7824fdd5e3250dcfeaaf372415170&amp;g=1072926424058338&amp;u='+urlencode(this.href));\" target=\"_blank\" title=\"새창\">원본링크로 이동하기</a> </div> <div class=\"img_area _item\" data-id=\"news55750000042593_293422082\"> <a class=\"thumb _thumb\" href=\"#\" onclick=\"tCR('a=img_noc*n.img&amp;r=36&amp;i=news_117d44024ca35ea66962eb7c85ee9d83&amp;g=828824206741686&amp;u=http%3A%2F%2Fwww.slist.kr%2Fnews%2FarticleView.html%3Fidxno%3D80301');\" title=\"박보영 &quot;이소라 박효신 듀엣곡 받쓰, '소울트리'인데 속상하다&quot; | 포토뉴스\"> <img alt=\"박보영 &quot;이소라 박효신 듀엣곡 받쓰, '소울트리'인데 속상하다&quot; | 포토뉴스\" class=\"_img\" data-height=\"499\" data-source=\"https://search.pstatic.net/common/?src=http%3A%2F%2Fimgnews.naver.net%2Fimage%2F5575%2F2019%2F05%2F04%2F0000042593_001_20190504202221714.jpg&amp;type=b400\" data-width=\"600\" onerror=\"var we=$Element(this); we.addClass('bg_nimg'); we.attr('alt','이미지준비중'); we.attr('src','data:image/gif;base64,R0lGODlhAQABAIAAAAAAAP///yH5BAEAAAAALAAAAAABAAEAAAIBRAA7');\" src=\"data:image/gif;base64,R0lGODlhAQABAIAAAAAAAP///yH5BAEAAAAALAAAAAABAAEAAAIBRAA7\"/><span class=\"img_border\"></span> <span class=\"data_img\"> <span class=\"data_bg\"></span> <span class=\"data_txt\"> <em class=\"tit\">박보영 \"이소라 박효신 듀엣곡 받쓰, '소울트리'인데 속상하다\"</em> <span class=\"size\">600X499</span> </span> </span> <span class=\"_meta\" style=\"display:none;\"> { \"crArea\": \"n\", \"rank\":\"36\", \"link\":\"http%3A%2F%2Fwww.slist.kr%2Fnews%2FarticleView.html%3Fidxno%3D80301\", \"title\":\"%EB%B0%95%EB%B3%B4%EC%98%81%20%26quot%3B%EC%9D%B4%EC%86%8C%EB%9D%BC%20%EB%B0%95%ED%9A%A8%EC%8B%A0%20%EB%93%80%EC%97%A3%EA%B3%A1%20%EB%B0%9B%EC%93%B0%2C%20%27%EC%86%8C%EC%9A%B8%ED%8A%B8%EB%A6%AC%27%EC%9D%B8%EB%8D%B0%20%EC%86%8D%EC%83%81%ED%95%98%EB%8B%A4%26quot%3B\", \"date\":\"2019.05.04.\", \"originalUrl\":\"http%3A%2F%2Fimgnews.naver.net%2Fimage%2F5575%2F2019%2F05%2F04%2F0000042593_001_20190504202221714.jpg\", \"imgId\":\"news55750000042593_293422082\", \"source\":\"%ED%8F%AC%ED%86%A0%EB%89%B4%EC%8A%A4\", \"orgWidth\":\"600\", \"orgHeight\":\"499\", \"thumb\":\"https%3A%2F%2Fsearch.pstatic.net%2Fcommon%2F%3Fsrc%3Dhttp%253A%252F%252Fimgnews.naver.net%252Fimage%252F5575%252F2019%252F05%252F04%252F0000042593_001_20190504202221714.jpg%26type%3Db400\", \"thumb44\":\"https%3A%2F%2Fsearch.pstatic.net%2Fcommon%2F%3Fsrc%3Dhttp%253A%252F%252Fimgnews.naver.net%252Fimage%252F5575%252F2019%252F05%252F04%252F0000042593_001_20190504202221714.jpg%26type%3Dn88_88\", \"topUrl\":\"http%3A%2F%2Fwww.slist.kr%2Fnews%2FarticleView.html%3Fidxno%3D80301\", \"subsection\":\"\", \"cclType\": \"0\", \"overbyte\": \"0\", \"gdid\": \"news_117d44024ca35ea66962eb7c85ee9d83\", \"signature\": \"828824206741686\", \"sttData\": \"\", \"saslink\":\"http%3A%2F%2Fwww.slist.kr%2Fnews%2FarticleView.html%3Fidxno%3D80301\" } </span> </a> <a class=\"org_view spimg\" href=\"http://www.slist.kr/news/articleView.html?idxno=80301\" onclick=\"return goOtherCR(this, 'a=img_noc*n.end&amp;r=36&amp;i=news_117d44024ca35ea66962eb7c85ee9d83&amp;g=828824206741686&amp;u='+urlencode(this.href));\" target=\"_blank\" title=\"새창\">원본링크로 이동하기</a> </div> <div class=\"img_area _item\" data-id=\"news6090000128291_1559638531\"> <a class=\"thumb _thumb\" href=\"#\" onclick=\"tCR('a=img_noc*n.img&amp;r=37&amp;i=news_a309cdfdb4143df6d3f5e5a24d9bb553&amp;g=960523590078438&amp;u=http%3A%2F%2Fnews.naver.com%2Fmain%2Fread.nhn%3Foid%3D609%26aid%3D0000128291');\" title=\"‘어비스’ 박보영-안효섭-이시언, 권수현 처단 막판 스퍼트[오늘TV] | 포토뉴스\"> <img alt=\"‘어비스’ 박보영-안효섭-이시언, 권수현 처단 막판 스퍼트[오늘TV] | 포토뉴스\" class=\"_img\" data-height=\"720\" data-source=\"https://search.pstatic.net/common/?src=http%3A%2F%2Fimgnews.naver.net%2Fimage%2F609%2F2019%2F06%2F24%2F201906241301272410_2_20190624130727191.jpg&amp;type=b400\" data-width=\"540\" onerror=\"var we=$Element(this); we.addClass('bg_nimg'); we.attr('alt','이미지준비중'); we.attr('src','data:image/gif;base64,R0lGODlhAQABAIAAAAAAAP///yH5BAEAAAAALAAAAAABAAEAAAIBRAA7');\" src=\"data:image/gif;base64,R0lGODlhAQABAIAAAAAAAP///yH5BAEAAAAALAAAAAABAAEAAAIBRAA7\"/><span class=\"img_border\"></span> <span class=\"data_img\"> <span class=\"data_bg\"></span> <span class=\"data_txt\"> <em class=\"tit\">‘어비스’ 박보영-안효섭-이시언, 권수현 처단 막판 스퍼트[오늘TV]</em> <span class=\"size\">540X720</span> </span> </span> <span class=\"_meta\" style=\"display:none;\"> { \"crArea\": \"n\", \"rank\":\"37\", \"link\":\"http%3A%2F%2Fnews.naver.com%2Fmain%2Fread.nhn%3Foid%3D609%26aid%3D0000128291\", \"title\":\"%E2%80%98%EC%96%B4%EB%B9%84%EC%8A%A4%E2%80%99%20%EB%B0%95%EB%B3%B4%EC%98%81-%EC%95%88%ED%9A%A8%EC%84%AD-%EC%9D%B4%EC%8B%9C%EC%96%B8%2C%20%EA%B6%8C%EC%88%98%ED%98%84%20%EC%B2%98%EB%8B%A8%20%EB%A7%89%ED%8C%90%20%EC%8A%A4%ED%8D%BC%ED%8A%B8%5B%EC%98%A4%EB%8A%98TV%5D\", \"date\":\"2019.06.24.\", \"originalUrl\":\"http%3A%2F%2Fimgnews.naver.net%2Fimage%2F609%2F2019%2F06%2F24%2F201906241301272410_2_20190624130727191.jpg\", \"imgId\":\"news6090000128291_1559638531\", \"source\":\"%ED%8F%AC%ED%86%A0%EB%89%B4%EC%8A%A4\", \"orgWidth\":\"540\", \"orgHeight\":\"720\", \"thumb\":\"https%3A%2F%2Fsearch.pstatic.net%2Fcommon%2F%3Fsrc%3Dhttp%253A%252F%252Fimgnews.naver.net%252Fimage%252F609%252F2019%252F06%252F24%252F201906241301272410_2_20190624130727191.jpg%26type%3Db400\", \"thumb44\":\"https%3A%2F%2Fsearch.pstatic.net%2Fcommon%2F%3Fsrc%3Dhttp%253A%252F%252Fimgnews.naver.net%252Fimage%252F609%252F2019%252F06%252F24%252F201906241301272410_2_20190624130727191.jpg%26type%3Dn88_88\", \"topUrl\":\"http%3A%2F%2Fnews.naver.com%2Fmain%2Fread.nhn%3Foid%3D609%26aid%3D0000128291\", \"subsection\":\"\", \"cclType\": \"0\", \"overbyte\": \"0\", \"gdid\": \"news_a309cdfdb4143df6d3f5e5a24d9bb553\", \"signature\": \"960523590078438\", \"sttData\": \"\", \"saslink\":\"http%3A%2F%2Fnews.naver.com%2Fmain%2Fread.nhn%3Foid%3D609%26aid%3D0000128291\" } </span> </a> <a class=\"org_view spimg\" href=\"http://news.naver.com/main/read.nhn?oid=609&amp;aid=0000128291\" onclick=\"return goOtherCR(this, 'a=img_noc*n.end&amp;r=37&amp;i=news_a309cdfdb4143df6d3f5e5a24d9bb553&amp;g=960523590078438&amp;u='+urlencode(this.href));\" target=\"_blank\" title=\"새창\">원본링크로 이동하기</a> </div> <div class=\"img_area _item\" data-id=\"news50920000092165_1986307771\"> <a class=\"thumb _thumb\" href=\"#\" onclick=\"tCR('a=img_noc*n.img&amp;r=38&amp;i=news_7664a6bb2bb4d2d80801123468195183&amp;g=963685355598289&amp;u=http%3A%2F%2Fwww.gooddaysports.co.kr%2Fnews%2F%3Fcset%3Dstar%26bset%3Dview%26tot_code%3D47%26code%3D41663%26dn%3D20110620');\" title=\"박보영 '운동 셀카' 공개, &quot;너무 예쁘다!&quot; 네티즌 극찬 | 포토뉴스\"> <img alt=\"박보영 '운동 셀카' 공개, &quot;너무 예쁘다!&quot; 네티즌 극찬 | 포토뉴스\" class=\"_img\" data-height=\"600\" data-source=\"https://search.pstatic.net/common/?src=http%3A%2F%2Fimgnews.naver.net%2Fimage%2F5092%2F2011%2F06%2F20%2F1308560965_600.jpg&amp;type=b400\" data-width=\"450\" onerror=\"var we=$Element(this); we.addClass('bg_nimg'); we.attr('alt','이미지준비중'); we.attr('src','data:image/gif;base64,R0lGODlhAQABAIAAAAAAAP///yH5BAEAAAAALAAAAAABAAEAAAIBRAA7');\" src=\"data:image/gif;base64,R0lGODlhAQABAIAAAAAAAP///yH5BAEAAAAALAAAAAABAAEAAAIBRAA7\"/><span class=\"img_border\"></span> <span class=\"data_img\"> <span class=\"data_bg\"></span> <span class=\"data_txt\"> <em class=\"tit\">박보영 '운동 셀카' 공개, \"너무 예쁘다!\" 네티즌 극찬</em> <span class=\"size\">450X600</span> </span> </span> <span class=\"_meta\" style=\"display:none;\"> { \"crArea\": \"n\", \"rank\":\"38\", \"link\":\"http%3A%2F%2Fwww.gooddaysports.co.kr%2Fnews%2F%3Fcset%3Dstar%26bset%3Dview%26tot_code%3D47%26code%3D41663%26dn%3D20110620\", \"title\":\"%EB%B0%95%EB%B3%B4%EC%98%81%20%26%2339%3B%EC%9A%B4%EB%8F%99%20%EC%85%80%EC%B9%B4%26%2339%3B%20%EA%B3%B5%EA%B0%9C%2C%20%26%2334%3B%EB%84%88%EB%AC%B4%20%EC%98%88%EC%81%98%EB%8B%A4!%26%2334%3B%20%EB%84%A4%ED%8B%B0%EC%A6%8C%20%EA%B7%B9%EC%B0%AC\", \"date\":\"2011.06.20.\", \"originalUrl\":\"http%3A%2F%2Fimgnews.naver.net%2Fimage%2F5092%2F2011%2F06%2F20%2F1308560965_600.jpg\", \"imgId\":\"news50920000092165_1986307771\", \"source\":\"%ED%8F%AC%ED%86%A0%EB%89%B4%EC%8A%A4\", \"orgWidth\":\"450\", \"orgHeight\":\"600\", \"thumb\":\"https%3A%2F%2Fsearch.pstatic.net%2Fcommon%2F%3Fsrc%3Dhttp%253A%252F%252Fimgnews.naver.net%252Fimage%252F5092%252F2011%252F06%252F20%252F1308560965_600.jpg%26type%3Db400\", \"thumb44\":\"https%3A%2F%2Fsearch.pstatic.net%2Fcommon%2F%3Fsrc%3Dhttp%253A%252F%252Fimgnews.naver.net%252Fimage%252F5092%252F2011%252F06%252F20%252F1308560965_600.jpg%26type%3Dn88_88\", \"topUrl\":\"http%3A%2F%2Fwww.gooddaysports.co.kr%2Fnews%2F%3Fcset%3Dstar%26bset%3Dview%26tot_code%3D47%26code%3D41663%26dn%3D20110620\", \"subsection\":\"\", \"cclType\": \"0\", \"overbyte\": \"0\", \"gdid\": \"news_7664a6bb2bb4d2d80801123468195183\", \"signature\": \"963685355598289\", \"sttData\": \"\", \"saslink\":\"http%3A%2F%2Fwww.gooddaysports.co.kr%2Fnews%2F%3Fcset%3Dstar%26bset%3Dview%26tot_code%3D47%26code%3D41663%26dn%3D20110620\" } </span> </a> <a class=\"org_view spimg\" href=\"http://www.gooddaysports.co.kr/news/?cset=star&amp;bset=view&amp;tot_code=47&amp;code=41663&amp;dn=20110620\" onclick=\"return goOtherCR(this, 'a=img_noc*n.end&amp;r=38&amp;i=news_7664a6bb2bb4d2d80801123468195183&amp;g=963685355598289&amp;u='+urlencode(this.href));\" target=\"_blank\" title=\"새창\">원본링크로 이동하기</a> </div> <div class=\"img_area _item\" data-id=\"news55670000007370_643915991\"> <a class=\"thumb _thumb\" href=\"#\" onclick=\"tCR('a=img_noc*n.img&amp;r=39&amp;i=news_d99e9f29983d4861cf671fe9552e14a0&amp;g=697961452495689&amp;u=http%3A%2F%2Fwww.iloveorganic.co.kr%2Fnews%2FarticleView.html%3Fidxno%3D224203');\" title=\"박보영 '어비스', 프로페셔널 검사 스타일링 눈길 | 포토뉴스\"> <img alt=\"박보영 '어비스', 프로페셔널 검사 스타일링 눈길 | 포토뉴스\" class=\"_img\" data-height=\"337\" data-source=\"https://search.pstatic.net/common/?src=http%3A%2F%2Fimgnews.naver.net%2Fimage%2F5567%2F2019%2F05%2F29%2F0000007370_001_20190529103635685.jpg&amp;type=b400\" data-width=\"600\" onerror=\"var we=$Element(this); we.addClass('bg_nimg'); we.attr('alt','이미지준비중'); we.attr('src','data:image/gif;base64,R0lGODlhAQABAIAAAAAAAP///yH5BAEAAAAALAAAAAABAAEAAAIBRAA7');\" src=\"data:image/gif;base64,R0lGODlhAQABAIAAAAAAAP///yH5BAEAAAAALAAAAAABAAEAAAIBRAA7\"/><span class=\"img_border\"></span> <span class=\"data_img\"> <span class=\"data_bg\"></span> <span class=\"data_txt\"> <em class=\"tit\">박보영 '어비스', 프로페셔널 검사 스타일링 눈길</em> <span class=\"size\">600X337</span> </span> </span> <span class=\"_meta\" style=\"display:none;\"> { \"crArea\": \"n\", \"rank\":\"39\", \"link\":\"http%3A%2F%2Fwww.iloveorganic.co.kr%2Fnews%2FarticleView.html%3Fidxno%3D224203\", \"title\":\"%EB%B0%95%EB%B3%B4%EC%98%81%20%27%EC%96%B4%EB%B9%84%EC%8A%A4%27%2C%20%ED%94%84%EB%A1%9C%ED%8E%98%EC%85%94%EB%84%90%20%EA%B2%80%EC%82%AC%20%EC%8A%A4%ED%83%80%EC%9D%BC%EB%A7%81%20%EB%88%88%EA%B8%B8\", \"date\":\"2019.05.29.\", \"originalUrl\":\"http%3A%2F%2Fimgnews.naver.net%2Fimage%2F5567%2F2019%2F05%2F29%2F0000007370_001_20190529103635685.jpg\", \"imgId\":\"news55670000007370_643915991\", \"source\":\"%ED%8F%AC%ED%86%A0%EB%89%B4%EC%8A%A4\", \"orgWidth\":\"600\", \"orgHeight\":\"337\", \"thumb\":\"https%3A%2F%2Fsearch.pstatic.net%2Fcommon%2F%3Fsrc%3Dhttp%253A%252F%252Fimgnews.naver.net%252Fimage%252F5567%252F2019%252F05%252F29%252F0000007370_001_20190529103635685.jpg%26type%3Db400\", \"thumb44\":\"https%3A%2F%2Fsearch.pstatic.net%2Fcommon%2F%3Fsrc%3Dhttp%253A%252F%252Fimgnews.naver.net%252Fimage%252F5567%252F2019%252F05%252F29%252F0000007370_001_20190529103635685.jpg%26type%3Dn88_88\", \"topUrl\":\"http%3A%2F%2Fwww.iloveorganic.co.kr%2Fnews%2FarticleView.html%3Fidxno%3D224203\", \"subsection\":\"\", \"cclType\": \"0\", \"overbyte\": \"0\", \"gdid\": \"news_d99e9f29983d4861cf671fe9552e14a0\", \"signature\": \"697961452495689\", \"sttData\": \"\", \"saslink\":\"http%3A%2F%2Fwww.iloveorganic.co.kr%2Fnews%2FarticleView.html%3Fidxno%3D224203\" } </span> </a> <a class=\"org_view spimg\" href=\"http://www.iloveorganic.co.kr/news/articleView.html?idxno=224203\" onclick=\"return goOtherCR(this, 'a=img_noc*n.end&amp;r=39&amp;i=news_d99e9f29983d4861cf671fe9552e14a0&amp;g=697961452495689&amp;u='+urlencode(this.href));\" target=\"_blank\" title=\"새창\">원본링크로 이동하기</a> </div> <div class=\"img_area _item\" data-id=\"news0150004156850_1691676350\"> <a class=\"thumb _thumb\" href=\"#\" onclick=\"tCR('a=img_noc*n.img&amp;r=40&amp;i=news_64d4eebebfc28fa10c71baa829da5db8&amp;g=855744649741073&amp;u=http%3A%2F%2Fnews.naver.com%2Fmain%2Fread.nhn%3Foid%3D015%26aid%3D0004156850');\" title=\"‘어비스’ 안효섭, 박보영 위한 특급 배려…다정보스 등극 | 포토뉴스\"> <img alt=\"‘어비스’ 안효섭, 박보영 위한 특급 배려…다정보스 등극 | 포토뉴스\" class=\"_img\" data-height=\"554\" data-source=\"https://search.pstatic.net/common/?src=http%3A%2F%2Fimgnews.naver.net%2Fimage%2F015%2F2019%2F06%2F11%2F0004156850_001_20190611134604695.jpg&amp;type=b400\" data-width=\"540\" onerror=\"var we=$Element(this); we.addClass('bg_nimg'); we.attr('alt','이미지준비중'); we.attr('src','data:image/gif;base64,R0lGODlhAQABAIAAAAAAAP///yH5BAEAAAAALAAAAAABAAEAAAIBRAA7');\" src=\"data:image/gif;base64,R0lGODlhAQABAIAAAAAAAP///yH5BAEAAAAALAAAAAABAAEAAAIBRAA7\"/><span class=\"img_border\"></span> <span class=\"data_img\"> <span class=\"data_bg\"></span> <span class=\"data_txt\"> <em class=\"tit\">‘어비스’ 안효섭, 박보영 위한 특급 배려…다정보스 등극</em> <span class=\"size\">540X554</span> </span> </span> <span class=\"_meta\" style=\"display:none;\"> { \"crArea\": \"n\", \"rank\":\"40\", \"link\":\"http%3A%2F%2Fnews.naver.com%2Fmain%2Fread.nhn%3Foid%3D015%26aid%3D0004156850\", \"title\":\"%E2%80%98%EC%96%B4%EB%B9%84%EC%8A%A4%E2%80%99%20%EC%95%88%ED%9A%A8%EC%84%AD%2C%20%EB%B0%95%EB%B3%B4%EC%98%81%20%EC%9C%84%ED%95%9C%20%ED%8A%B9%EA%B8%89%20%EB%B0%B0%EB%A0%A4%E2%80%A6%EB%8B%A4%EC%A0%95%EB%B3%B4%EC%8A%A4%20%EB%93%B1%EA%B7%B9\", \"date\":\"2019.06.11.\", \"originalUrl\":\"http%3A%2F%2Fimgnews.naver.net%2Fimage%2F015%2F2019%2F06%2F11%2F0004156850_001_20190611134604695.jpg\", \"imgId\":\"news0150004156850_1691676350\", \"source\":\"%ED%8F%AC%ED%86%A0%EB%89%B4%EC%8A%A4\", \"orgWidth\":\"540\", \"orgHeight\":\"554\", \"thumb\":\"https%3A%2F%2Fsearch.pstatic.net%2Fcommon%2F%3Fsrc%3Dhttp%253A%252F%252Fimgnews.naver.net%252Fimage%252F015%252F2019%252F06%252F11%252F0004156850_001_20190611134604695.jpg%26type%3Db400\", \"thumb44\":\"https%3A%2F%2Fsearch.pstatic.net%2Fcommon%2F%3Fsrc%3Dhttp%253A%252F%252Fimgnews.naver.net%252Fimage%252F015%252F2019%252F06%252F11%252F0004156850_001_20190611134604695.jpg%26type%3Dn88_88\", \"topUrl\":\"http%3A%2F%2Fnews.naver.com%2Fmain%2Fread.nhn%3Foid%3D015%26aid%3D0004156850\", \"subsection\":\"\", \"cclType\": \"0\", \"overbyte\": \"0\", \"gdid\": \"news_64d4eebebfc28fa10c71baa829da5db8\", \"signature\": \"855744649741073\", \"sttData\": \"\", \"saslink\":\"http%3A%2F%2Fnews.naver.com%2Fmain%2Fread.nhn%3Foid%3D015%26aid%3D0004156850\" } </span> </a> <a class=\"org_view spimg\" href=\"http://news.naver.com/main/read.nhn?oid=015&amp;aid=0004156850\" onclick=\"return goOtherCR(this, 'a=img_noc*n.end&amp;r=40&amp;i=news_64d4eebebfc28fa10c71baa829da5db8&amp;g=855744649741073&amp;u='+urlencode(this.href));\" target=\"_blank\" title=\"새창\">원본링크로 이동하기</a> </div> <div class=\"img_area _item\" data-id=\"news1090001987376_304580000\"> <a class=\"thumb _thumb\" href=\"#\" onclick=\"tCR('a=img_noc*n.img&amp;r=41&amp;i=news_edd87a60c4211707b7efc240166c1236&amp;g=740099839981200&amp;u=http%3A%2F%2Fnews.naver.com%2Fmain%2Fread.nhn%3Foid%3D109%26aid%3D0001987376');\" title=\"[사진]박보영,'백옥같은 피부' | 포토뉴스\"> <img alt=\"[사진]박보영,'백옥같은 피부' | 포토뉴스\" class=\"_img\" data-height=\"533\" data-source=\"https://search.pstatic.net/common/?src=http%3A%2F%2Fimgnews.naver.net%2Fimage%2F109%2F2008%2F10%2F27%2F200810271211252300_1.jpg&amp;type=b400\" data-width=\"470\" onerror=\"var we=$Element(this); we.addClass('bg_nimg'); we.attr('alt','이미지준비중'); we.attr('src','data:image/gif;base64,R0lGODlhAQABAIAAAAAAAP///yH5BAEAAAAALAAAAAABAAEAAAIBRAA7');\" src=\"data:image/gif;base64,R0lGODlhAQABAIAAAAAAAP///yH5BAEAAAAALAAAAAABAAEAAAIBRAA7\"/><span class=\"img_border\"></span> <span class=\"data_img\"> <span class=\"data_bg\"></span> <span class=\"data_txt\"> <em class=\"tit\">[사진]박보영,'백옥같은 피부'</em> <span class=\"size\">470X533</span> </span> </span> <span class=\"_meta\" style=\"display:none;\"> { \"crArea\": \"n\", \"rank\":\"41\", \"link\":\"http%3A%2F%2Fnews.naver.com%2Fmain%2Fread.nhn%3Foid%3D109%26aid%3D0001987376\", \"title\":\"%5B%EC%82%AC%EC%A7%84%5D%EB%B0%95%EB%B3%B4%EC%98%81%2C%27%EB%B0%B1%EC%98%A5%EA%B0%99%EC%9D%80%20%ED%94%BC%EB%B6%80%27\", \"date\":\"2008.10.27.\", \"originalUrl\":\"http%3A%2F%2Fimgnews.naver.net%2Fimage%2F109%2F2008%2F10%2F27%2F200810271211252300_1.jpg\", \"imgId\":\"news1090001987376_304580000\", \"source\":\"%ED%8F%AC%ED%86%A0%EB%89%B4%EC%8A%A4\", \"orgWidth\":\"470\", \"orgHeight\":\"533\", \"thumb\":\"https%3A%2F%2Fsearch.pstatic.net%2Fcommon%2F%3Fsrc%3Dhttp%253A%252F%252Fimgnews.naver.net%252Fimage%252F109%252F2008%252F10%252F27%252F200810271211252300_1.jpg%26type%3Db400\", \"thumb44\":\"https%3A%2F%2Fsearch.pstatic.net%2Fcommon%2F%3Fsrc%3Dhttp%253A%252F%252Fimgnews.naver.net%252Fimage%252F109%252F2008%252F10%252F27%252F200810271211252300_1.jpg%26type%3Dn88_88\", \"topUrl\":\"http%3A%2F%2Fnews.naver.com%2Fmain%2Fread.nhn%3Foid%3D109%26aid%3D0001987376\", \"subsection\":\"\", \"cclType\": \"0\", \"overbyte\": \"0\", \"gdid\": \"news_edd87a60c4211707b7efc240166c1236\", \"signature\": \"740099839981200\", \"sttData\": \"\", \"saslink\":\"http%3A%2F%2Fnews.naver.com%2Fmain%2Fread.nhn%3Foid%3D109%26aid%3D0001987376\" } </span> </a> <a class=\"org_view spimg\" href=\"http://news.naver.com/main/read.nhn?oid=109&amp;aid=0001987376\" onclick=\"return goOtherCR(this, 'a=img_noc*n.end&amp;r=41&amp;i=news_edd87a60c4211707b7efc240166c1236&amp;g=740099839981200&amp;u='+urlencode(this.href));\" target=\"_blank\" title=\"새창\">원본링크로 이동하기</a> </div> <div class=\"img_area _item\" data-id=\"news4680000517985_1050567510\"> <a class=\"thumb _thumb\" href=\"#\" onclick=\"tCR('a=img_noc*n.img&amp;r=42&amp;i=news_3e9e63562ccd187f30bca340788fe64e&amp;g=23266910240337&amp;u=http%3A%2F%2Fnews.naver.com%2Fmain%2Fread.nhn%3Foid%3D468%26aid%3D0000517985');\" title=\"'어비스' 제작진 &quot;박보영-안효섭 '애틋 로맨스' 무르익는다&quot; | 포토뉴스\"> <img alt=\"'어비스' 제작진 &quot;박보영-안효섭 '애틋 로맨스' 무르익는다&quot; | 포토뉴스\" class=\"_img\" data-height=\"500\" data-source=\"https://search.pstatic.net/common/?src=http%3A%2F%2Fimgnews.naver.net%2Fimage%2F468%2F2019%2F06%2F09%2F0000517985_001_20190609094022835.jpg&amp;type=b400\" data-width=\"500\" onerror=\"var we=$Element(this); we.addClass('bg_nimg'); we.attr('alt','이미지준비중'); we.attr('src','data:image/gif;base64,R0lGODlhAQABAIAAAAAAAP///yH5BAEAAAAALAAAAAABAAEAAAIBRAA7');\" src=\"data:image/gif;base64,R0lGODlhAQABAIAAAAAAAP///yH5BAEAAAAALAAAAAABAAEAAAIBRAA7\"/><span class=\"img_border\"></span> <span class=\"data_img\"> <span class=\"data_bg\"></span> <span class=\"data_txt\"> <em class=\"tit\">'어비스' 제작진 \"박보영-안효섭 '애틋 로맨스' 무르익는다\"</em> <span class=\"size\">500X500</span> </span> </span> <span class=\"_meta\" style=\"display:none;\"> { \"crArea\": \"n\", \"rank\":\"42\", \"link\":\"http%3A%2F%2Fnews.naver.com%2Fmain%2Fread.nhn%3Foid%3D468%26aid%3D0000517985\", \"title\":\"%27%EC%96%B4%EB%B9%84%EC%8A%A4%27%20%EC%A0%9C%EC%9E%91%EC%A7%84%20%26quot%3B%EB%B0%95%EB%B3%B4%EC%98%81-%EC%95%88%ED%9A%A8%EC%84%AD%20%27%EC%95%A0%ED%8B%8B%20%EB%A1%9C%EB%A7%A8%EC%8A%A4%27%20%EB%AC%B4%EB%A5%B4%EC%9D%B5%EB%8A%94%EB%8B%A4%26quot%3B\", \"date\":\"2019.06.09.\", \"originalUrl\":\"http%3A%2F%2Fimgnews.naver.net%2Fimage%2F468%2F2019%2F06%2F09%2F0000517985_001_20190609094022835.jpg\", \"imgId\":\"news4680000517985_1050567510\", \"source\":\"%ED%8F%AC%ED%86%A0%EB%89%B4%EC%8A%A4\", \"orgWidth\":\"500\", \"orgHeight\":\"500\", \"thumb\":\"https%3A%2F%2Fsearch.pstatic.net%2Fcommon%2F%3Fsrc%3Dhttp%253A%252F%252Fimgnews.naver.net%252Fimage%252F468%252F2019%252F06%252F09%252F0000517985_001_20190609094022835.jpg%26type%3Db400\", \"thumb44\":\"https%3A%2F%2Fsearch.pstatic.net%2Fcommon%2F%3Fsrc%3Dhttp%253A%252F%252Fimgnews.naver.net%252Fimage%252F468%252F2019%252F06%252F09%252F0000517985_001_20190609094022835.jpg%26type%3Dn88_88\", \"topUrl\":\"http%3A%2F%2Fnews.naver.com%2Fmain%2Fread.nhn%3Foid%3D468%26aid%3D0000517985\", \"subsection\":\"\", \"cclType\": \"0\", \"overbyte\": \"0\", \"gdid\": \"news_3e9e63562ccd187f30bca340788fe64e\", \"signature\": \"23266910240337\", \"sttData\": \"\", \"saslink\":\"http%3A%2F%2Fnews.naver.com%2Fmain%2Fread.nhn%3Foid%3D468%26aid%3D0000517985\" } </span> </a> <a class=\"org_view spimg\" href=\"http://news.naver.com/main/read.nhn?oid=468&amp;aid=0000517985\" onclick=\"return goOtherCR(this, 'a=img_noc*n.end&amp;r=42&amp;i=news_3e9e63562ccd187f30bca340788fe64e&amp;g=23266910240337&amp;u='+urlencode(this.href));\" target=\"_blank\" title=\"새창\">원본링크로 이동하기</a> </div> <div class=\"img_area _item\" data-id=\"news4680000509577_1401754579\"> <a class=\"thumb _thumb\" href=\"#\" onclick=\"tCR('a=img_noc*n.img&amp;r=43&amp;i=news_ac72ec2df65520a05803b82dd53c3672&amp;g=631374160907962&amp;u=http%3A%2F%2Fnews.naver.com%2Fmain%2Fread.nhn%3Foid%3D468%26aid%3D0000509577');\" title=\"'어비스' 박보영X안효섭, 현실에서도 껌딱지 모드…초밀착 케미폭발 비하인드 공개 | 포토뉴스\"> <img alt=\"'어비스' 박보영X안효섭, 현실에서도 껌딱지 모드…초밀착 케미폭발 비하인드 공개 | 포토뉴스\" class=\"_img\" data-height=\"500\" data-source=\"https://search.pstatic.net/common/?src=http%3A%2F%2Fimgnews.naver.net%2Fimage%2F468%2F2019%2F05%2F19%2F0000509577_001_20190519134517159.jpg&amp;type=b400\" data-width=\"500\" onerror=\"var we=$Element(this); we.addClass('bg_nimg'); we.attr('alt','이미지준비중'); we.attr('src','data:image/gif;base64,R0lGODlhAQABAIAAAAAAAP///yH5BAEAAAAALAAAAAABAAEAAAIBRAA7');\" src=\"data:image/gif;base64,R0lGODlhAQABAIAAAAAAAP///yH5BAEAAAAALAAAAAABAAEAAAIBRAA7\"/><span class=\"img_border\"></span> <span class=\"data_img\"> <span class=\"data_bg\"></span> <span class=\"data_txt\"> <em class=\"tit\">'어비스' 박보영X안효섭, 현실에서도 껌딱지 모드…초밀착 케미폭발 비하인드 공개</em> <span class=\"size\">500X500</span> </span> </span> <span class=\"_meta\" style=\"display:none;\"> { \"crArea\": \"n\", \"rank\":\"43\", \"link\":\"http%3A%2F%2Fnews.naver.com%2Fmain%2Fread.nhn%3Foid%3D468%26aid%3D0000509577\", \"title\":\"%27%EC%96%B4%EB%B9%84%EC%8A%A4%27%20%EB%B0%95%EB%B3%B4%EC%98%81X%EC%95%88%ED%9A%A8%EC%84%AD%2C%20%ED%98%84%EC%8B%A4%EC%97%90%EC%84%9C%EB%8F%84%20%EA%BB%8C%EB%94%B1%EC%A7%80%20%EB%AA%A8%EB%93%9C%E2%80%A6%EC%B4%88%EB%B0%80%EC%B0%A9%20%EC%BC%80%EB%AF%B8%ED%8F%AD%EB%B0%9C%20%EB%B9%84%ED%95%98%EC%9D%B8%EB%93%9C%20%EA%B3%B5%EA%B0%9C\", \"date\":\"2019.05.19.\", \"originalUrl\":\"http%3A%2F%2Fimgnews.naver.net%2Fimage%2F468%2F2019%2F05%2F19%2F0000509577_001_20190519134517159.jpg\", \"imgId\":\"news4680000509577_1401754579\", \"source\":\"%ED%8F%AC%ED%86%A0%EB%89%B4%EC%8A%A4\", \"orgWidth\":\"500\", \"orgHeight\":\"500\", \"thumb\":\"https%3A%2F%2Fsearch.pstatic.net%2Fcommon%2F%3Fsrc%3Dhttp%253A%252F%252Fimgnews.naver.net%252Fimage%252F468%252F2019%252F05%252F19%252F0000509577_001_20190519134517159.jpg%26type%3Db400\", \"thumb44\":\"https%3A%2F%2Fsearch.pstatic.net%2Fcommon%2F%3Fsrc%3Dhttp%253A%252F%252Fimgnews.naver.net%252Fimage%252F468%252F2019%252F05%252F19%252F0000509577_001_20190519134517159.jpg%26type%3Dn88_88\", \"topUrl\":\"http%3A%2F%2Fnews.naver.com%2Fmain%2Fread.nhn%3Foid%3D468%26aid%3D0000509577\", \"subsection\":\"\", \"cclType\": \"0\", \"overbyte\": \"0\", \"gdid\": \"news_ac72ec2df65520a05803b82dd53c3672\", \"signature\": \"631374160907962\", \"sttData\": \"\", \"saslink\":\"http%3A%2F%2Fnews.naver.com%2Fmain%2Fread.nhn%3Foid%3D468%26aid%3D0000509577\" } </span> </a> <a class=\"org_view spimg\" href=\"http://news.naver.com/main/read.nhn?oid=468&amp;aid=0000509577\" onclick=\"return goOtherCR(this, 'a=img_noc*n.end&amp;r=43&amp;i=news_ac72ec2df65520a05803b82dd53c3672&amp;g=631374160907962&amp;u='+urlencode(this.href));\" target=\"_blank\" title=\"새창\">원본링크로 이동하기</a> </div> <div class=\"img_area _item\" data-id=\"news1440000376477_991494860\"> <a class=\"thumb _thumb\" href=\"#\" onclick=\"tCR('a=img_noc*n.img&amp;r=44&amp;i=news_c4e6fd34f07fef64c80ec973b3ebcef4&amp;g=547262420588164&amp;u=http%3A%2F%2Fnews.naver.com%2Fmain%2Fread.nhn%3Foid%3D144%26aid%3D0000376477');\" title=\"[스타패션] 박보영, 가을 여인으로 변신해 반전 매력 발산 | 포토뉴스\"> <img alt=\"[스타패션] 박보영, 가을 여인으로 변신해 반전 매력 발산 | 포토뉴스\" class=\"_img\" data-height=\"776\" data-source=\"https://search.pstatic.net/common/?src=http%3A%2F%2Fimgnews.naver.net%2Fimage%2F144%2F2015%2F09%2F16%2Fl_2015091602001330300222841_99_20150916141402.jpg&amp;type=b400\" data-width=\"600\" onerror=\"var we=$Element(this); we.addClass('bg_nimg'); we.attr('alt','이미지준비중'); we.attr('src','data:image/gif;base64,R0lGODlhAQABAIAAAAAAAP///yH5BAEAAAAALAAAAAABAAEAAAIBRAA7');\" src=\"data:image/gif;base64,R0lGODlhAQABAIAAAAAAAP///yH5BAEAAAAALAAAAAABAAEAAAIBRAA7\"/><span class=\"img_border\"></span> <span class=\"data_img\"> <span class=\"data_bg\"></span> <span class=\"data_txt\"> <em class=\"tit\">[스타패션] 박보영, 가을 여인으로 변신해 반전 매력 발산</em> <span class=\"size\">600X776</span> </span> </span> <span class=\"_meta\" style=\"display:none;\"> { \"crArea\": \"n\", \"rank\":\"44\", \"link\":\"http%3A%2F%2Fnews.naver.com%2Fmain%2Fread.nhn%3Foid%3D144%26aid%3D0000376477\", \"title\":\"%5B%EC%8A%A4%ED%83%80%ED%8C%A8%EC%85%98%5D%20%EB%B0%95%EB%B3%B4%EC%98%81%2C%20%EA%B0%80%EC%9D%84%20%EC%97%AC%EC%9D%B8%EC%9C%BC%EB%A1%9C%20%EB%B3%80%EC%8B%A0%ED%95%B4%20%EB%B0%98%EC%A0%84%20%EB%A7%A4%EB%A0%A5%20%EB%B0%9C%EC%82%B0\", \"date\":\"2015.09.16.\", \"originalUrl\":\"http%3A%2F%2Fimgnews.naver.net%2Fimage%2F144%2F2015%2F09%2F16%2Fl_2015091602001330300222841_99_20150916141402.jpg\", \"imgId\":\"news1440000376477_991494860\", \"source\":\"%ED%8F%AC%ED%86%A0%EB%89%B4%EC%8A%A4\", \"orgWidth\":\"600\", \"orgHeight\":\"776\", \"thumb\":\"https%3A%2F%2Fsearch.pstatic.net%2Fcommon%2F%3Fsrc%3Dhttp%253A%252F%252Fimgnews.naver.net%252Fimage%252F144%252F2015%252F09%252F16%252Fl_2015091602001330300222841_99_20150916141402.jpg%26type%3Db400\", \"thumb44\":\"https%3A%2F%2Fsearch.pstatic.net%2Fcommon%2F%3Fsrc%3Dhttp%253A%252F%252Fimgnews.naver.net%252Fimage%252F144%252F2015%252F09%252F16%252Fl_2015091602001330300222841_99_20150916141402.jpg%26type%3Dn88_88\", \"topUrl\":\"http%3A%2F%2Fnews.naver.com%2Fmain%2Fread.nhn%3Foid%3D144%26aid%3D0000376477\", \"subsection\":\"\", \"cclType\": \"0\", \"overbyte\": \"0\", \"gdid\": \"news_c4e6fd34f07fef64c80ec973b3ebcef4\", \"signature\": \"547262420588164\", \"sttData\": \"\", \"saslink\":\"http%3A%2F%2Fnews.naver.com%2Fmain%2Fread.nhn%3Foid%3D144%26aid%3D0000376477\" } </span> </a> <a class=\"org_view spimg\" href=\"http://news.naver.com/main/read.nhn?oid=144&amp;aid=0000376477\" onclick=\"return goOtherCR(this, 'a=img_noc*n.end&amp;r=44&amp;i=news_c4e6fd34f07fef64c80ec973b3ebcef4&amp;g=547262420588164&amp;u='+urlencode(this.href));\" target=\"_blank\" title=\"새창\">원본링크로 이동하기</a> </div> <div class=\"img_area _item\" data-id=\"news51380000025243_27992380\"> <a class=\"thumb _thumb\" href=\"#\" onclick=\"tCR('a=img_noc*n.img&amp;r=45&amp;i=news_01ab213cb49d8f098c0b915478543c64&amp;g=1016328055696281&amp;u=http%3A%2F%2Fwww.cnews.co.kr%2Fuhtml%2Fread.jsp%3Fidxno%3D201104040931099660385');\" title='박보영, 셀카로 근황 공개 \"역시 국민여동생\" | 포토뉴스'> <img alt='박보영, 셀카로 근황 공개 \"역시 국민여동생\" | 포토뉴스' class=\"_img\" data-height=\"630\" data-source=\"https://search.pstatic.net/common/?src=http%3A%2F%2Fimgnews.naver.net%2Fimage%2F5138%2F2011%2F04%2F04%2F201104040931099660385-2-25339.jpg&amp;type=b400\" data-width=\"472\" onerror=\"var we=$Element(this); we.addClass('bg_nimg'); we.attr('alt','이미지준비중'); we.attr('src','data:image/gif;base64,R0lGODlhAQABAIAAAAAAAP///yH5BAEAAAAALAAAAAABAAEAAAIBRAA7');\" src=\"data:image/gif;base64,R0lGODlhAQABAIAAAAAAAP///yH5BAEAAAAALAAAAAABAAEAAAIBRAA7\"/><span class=\"img_border\"></span> <span class=\"data_img\"> <span class=\"data_bg\"></span> <span class=\"data_txt\"> <em class=\"tit\">박보영, 셀카로 근황 공개 \"역시 국민여동생\"</em> <span class=\"size\">472X630</span> </span> </span> <span class=\"_meta\" style=\"display:none;\"> { \"crArea\": \"n\", \"rank\":\"45\", \"link\":\"http%3A%2F%2Fwww.cnews.co.kr%2Fuhtml%2Fread.jsp%3Fidxno%3D201104040931099660385\", \"title\":\"%EB%B0%95%EB%B3%B4%EC%98%81%2C%20%EC%85%80%EC%B9%B4%EB%A1%9C%20%EA%B7%BC%ED%99%A9%20%EA%B3%B5%EA%B0%9C%20%26quot%3B%EC%97%AD%EC%8B%9C%20%EA%B5%AD%EB%AF%BC%EC%97%AC%EB%8F%99%EC%83%9D%26quot%3B\", \"date\":\"2011.04.04.\", \"originalUrl\":\"http%3A%2F%2Fimgnews.naver.net%2Fimage%2F5138%2F2011%2F04%2F04%2F201104040931099660385-2-25339.jpg\", \"imgId\":\"news51380000025243_27992380\", \"source\":\"%ED%8F%AC%ED%86%A0%EB%89%B4%EC%8A%A4\", \"orgWidth\":\"472\", \"orgHeight\":\"630\", \"thumb\":\"https%3A%2F%2Fsearch.pstatic.net%2Fcommon%2F%3Fsrc%3Dhttp%253A%252F%252Fimgnews.naver.net%252Fimage%252F5138%252F2011%252F04%252F04%252F201104040931099660385-2-25339.jpg%26type%3Db400\", \"thumb44\":\"https%3A%2F%2Fsearch.pstatic.net%2Fcommon%2F%3Fsrc%3Dhttp%253A%252F%252Fimgnews.naver.net%252Fimage%252F5138%252F2011%252F04%252F04%252F201104040931099660385-2-25339.jpg%26type%3Dn88_88\", \"topUrl\":\"http%3A%2F%2Fwww.cnews.co.kr%2Fuhtml%2Fread.jsp%3Fidxno%3D201104040931099660385\", \"subsection\":\"\", \"cclType\": \"0\", \"overbyte\": \"0\", \"gdid\": \"news_01ab213cb49d8f098c0b915478543c64\", \"signature\": \"1016328055696281\", \"sttData\": \"\", \"saslink\":\"http%3A%2F%2Fwww.cnews.co.kr%2Fuhtml%2Fread.jsp%3Fidxno%3D201104040931099660385\" } </span> </a> <a class=\"org_view spimg\" href=\"http://www.cnews.co.kr/uhtml/read.jsp?idxno=201104040931099660385\" onclick=\"return goOtherCR(this, 'a=img_noc*n.end&amp;r=45&amp;i=news_01ab213cb49d8f098c0b915478543c64&amp;g=1016328055696281&amp;u='+urlencode(this.href));\" target=\"_blank\" title=\"새창\">원본링크로 이동하기</a> </div> <div class=\"img_area _item\" data-id=\"news1170002809936_2001617486\"> <a class=\"thumb _thumb\" href=\"#\" onclick=\"tCR('a=img_noc*n.img&amp;r=46&amp;i=news_774e424ed42788e2ef8c86e17c3a760e&amp;g=907528283189659&amp;u=http%3A%2F%2Fnews.naver.com%2Fmain%2Fread.nhn%3Foid%3D117%26aid%3D0002809936');\" title=\"[MD포토] 박보영 '한화 유니폼 입고 야구장 왔어요' | 포토뉴스\"> <img alt=\"[MD포토] 박보영 '한화 유니폼 입고 야구장 왔어요' | 포토뉴스\" class=\"_img\" data-height=\"738\" data-source=\"https://search.pstatic.net/common/?src=http%3A%2F%2Fimgnews.naver.net%2Fimage%2F117%2F2016%2F08%2F30%2F201608301954891116_1_99_20160830195503.jpg&amp;type=b400\" data-width=\"500\" onerror=\"var we=$Element(this); we.addClass('bg_nimg'); we.attr('alt','이미지준비중'); we.attr('src','data:image/gif;base64,R0lGODlhAQABAIAAAAAAAP///yH5BAEAAAAALAAAAAABAAEAAAIBRAA7');\" src=\"data:image/gif;base64,R0lGODlhAQABAIAAAAAAAP///yH5BAEAAAAALAAAAAABAAEAAAIBRAA7\"/><span class=\"img_border\"></span> <span class=\"data_img\"> <span class=\"data_bg\"></span> <span class=\"data_txt\"> <em class=\"tit\">[MD포토] 박보영 '한화 유니폼 입고 야구장 왔어요'</em> <span class=\"size\">500X738</span> </span> </span> <span class=\"_meta\" style=\"display:none;\"> { \"crArea\": \"n\", \"rank\":\"46\", \"link\":\"http%3A%2F%2Fnews.naver.com%2Fmain%2Fread.nhn%3Foid%3D117%26aid%3D0002809936\", \"title\":\"%5BMD%ED%8F%AC%ED%86%A0%5D%20%EB%B0%95%EB%B3%B4%EC%98%81%20%27%ED%95%9C%ED%99%94%20%EC%9C%A0%EB%8B%88%ED%8F%BC%20%EC%9E%85%EA%B3%A0%20%EC%95%BC%EA%B5%AC%EC%9E%A5%20%EC%99%94%EC%96%B4%EC%9A%94%27\", \"date\":\"2016.08.30.\", \"originalUrl\":\"http%3A%2F%2Fimgnews.naver.net%2Fimage%2F117%2F2016%2F08%2F30%2F201608301954891116_1_99_20160830195503.jpg\", \"imgId\":\"news1170002809936_2001617486\", \"source\":\"%ED%8F%AC%ED%86%A0%EB%89%B4%EC%8A%A4\", \"orgWidth\":\"500\", \"orgHeight\":\"738\", \"thumb\":\"https%3A%2F%2Fsearch.pstatic.net%2Fcommon%2F%3Fsrc%3Dhttp%253A%252F%252Fimgnews.naver.net%252Fimage%252F117%252F2016%252F08%252F30%252F201608301954891116_1_99_20160830195503.jpg%26type%3Db400\", \"thumb44\":\"https%3A%2F%2Fsearch.pstatic.net%2Fcommon%2F%3Fsrc%3Dhttp%253A%252F%252Fimgnews.naver.net%252Fimage%252F117%252F2016%252F08%252F30%252F201608301954891116_1_99_20160830195503.jpg%26type%3Dn88_88\", \"topUrl\":\"http%3A%2F%2Fnews.naver.com%2Fmain%2Fread.nhn%3Foid%3D117%26aid%3D0002809936\", \"subsection\":\"\", \"cclType\": \"0\", \"overbyte\": \"0\", \"gdid\": \"news_774e424ed42788e2ef8c86e17c3a760e\", \"signature\": \"907528283189659\", \"sttData\": \"\", \"saslink\":\"http%3A%2F%2Fnews.naver.com%2Fmain%2Fread.nhn%3Foid%3D117%26aid%3D0002809936\" } </span> </a> <a class=\"org_view spimg\" href=\"http://news.naver.com/main/read.nhn?oid=117&amp;aid=0002809936\" onclick=\"return goOtherCR(this, 'a=img_noc*n.end&amp;r=46&amp;i=news_774e424ed42788e2ef8c86e17c3a760e&amp;g=907528283189659&amp;u='+urlencode(this.href));\" target=\"_blank\" title=\"새창\">원본링크로 이동하기</a> </div> <div class=\"img_area _item\" data-id=\"news50900000504058_1120715494\"> <a class=\"thumb _thumb\" href=\"#\" onclick=\"tCR('a=img_noc*n.img&amp;r=47&amp;i=news_bd333d1a5797fe3c3de2ca2ec0d4eadd&amp;g=474732310936747&amp;u=http%3A%2F%2Fwww.ajunews.com%2Fcommon%2Fredirect.jsp%3FnewsId%3D20130217000154');\" title=\"레스포색, 새 뮤즈 박보영 발탁 | 포토뉴스\"> <img alt=\"레스포색, 새 뮤즈 박보영 발탁 | 포토뉴스\" class=\"_img\" data-height=\"763\" data-source=\"https://search.pstatic.net/common/?src=http%3A%2F%2Fimgnews.naver.net%2Fimage%2F5090%2F2013%2F02%2F17%2F20130217000088_0_59_20130217140812.jpg&amp;type=b400\" data-width=\"540\" onerror=\"var we=$Element(this); we.addClass('bg_nimg'); we.attr('alt','이미지준비중'); we.attr('src','data:image/gif;base64,R0lGODlhAQABAIAAAAAAAP///yH5BAEAAAAALAAAAAABAAEAAAIBRAA7');\" src=\"data:image/gif;base64,R0lGODlhAQABAIAAAAAAAP///yH5BAEAAAAALAAAAAABAAEAAAIBRAA7\"/><span class=\"img_border\"></span> <span class=\"data_img\"> <span class=\"data_bg\"></span> <span class=\"data_txt\"> <em class=\"tit\">레스포색, 새 뮤즈 박보영 발탁</em> <span class=\"size\">540X763</span> </span> </span> <span class=\"_meta\" style=\"display:none;\"> { \"crArea\": \"n\", \"rank\":\"47\", \"link\":\"http%3A%2F%2Fwww.ajunews.com%2Fcommon%2Fredirect.jsp%3FnewsId%3D20130217000154\", \"title\":\"%EB%A0%88%EC%8A%A4%ED%8F%AC%EC%83%89%2C%20%EC%83%88%20%EB%AE%A4%EC%A6%88%20%EB%B0%95%EB%B3%B4%EC%98%81%20%EB%B0%9C%ED%83%81\", \"date\":\"2013.02.17.\", \"originalUrl\":\"http%3A%2F%2Fimgnews.naver.net%2Fimage%2F5090%2F2013%2F02%2F17%2F20130217000088_0_59_20130217140812.jpg\", \"imgId\":\"news50900000504058_1120715494\", \"source\":\"%ED%8F%AC%ED%86%A0%EB%89%B4%EC%8A%A4\", \"orgWidth\":\"540\", \"orgHeight\":\"763\", \"thumb\":\"https%3A%2F%2Fsearch.pstatic.net%2Fcommon%2F%3Fsrc%3Dhttp%253A%252F%252Fimgnews.naver.net%252Fimage%252F5090%252F2013%252F02%252F17%252F20130217000088_0_59_20130217140812.jpg%26type%3Db400\", \"thumb44\":\"https%3A%2F%2Fsearch.pstatic.net%2Fcommon%2F%3Fsrc%3Dhttp%253A%252F%252Fimgnews.naver.net%252Fimage%252F5090%252F2013%252F02%252F17%252F20130217000088_0_59_20130217140812.jpg%26type%3Dn88_88\", \"topUrl\":\"http%3A%2F%2Fwww.ajunews.com%2Fcommon%2Fredirect.jsp%3FnewsId%3D20130217000154\", \"subsection\":\"\", \"cclType\": \"0\", \"overbyte\": \"0\", \"gdid\": \"news_bd333d1a5797fe3c3de2ca2ec0d4eadd\", \"signature\": \"474732310936747\", \"sttData\": \"\", \"saslink\":\"http%3A%2F%2Fwww.ajunews.com%2Fcommon%2Fredirect.jsp%3FnewsId%3D20130217000154\" } </span> </a> <a class=\"org_view spimg\" href=\"http://www.ajunews.com/common/redirect.jsp?newsId=20130217000154\" onclick=\"return goOtherCR(this, 'a=img_noc*n.end&amp;r=47&amp;i=news_bd333d1a5797fe3c3de2ca2ec0d4eadd&amp;g=474732310936747&amp;u='+urlencode(this.href));\" target=\"_blank\" title=\"새창\">원본링크로 이동하기</a> </div> <div class=\"img_area _item\" data-id=\"news1080001968535_885027831\"> <a class=\"thumb _thumb\" href=\"#\" onclick=\"tCR('a=img_noc*n.img&amp;r=48&amp;i=news_34c073f79074e9762c67c70c9dddb77c&amp;g=575715767832233&amp;u=http%3A%2F%2Fnews.naver.com%2Fmain%2Fread.nhn%3Foid%3D108%26aid%3D0001968535');\" title='박보영 \"스타덤? 친구들도 어색하다고 놀려요\"(인터뷰) | 포토뉴스'> <img alt='박보영 \"스타덤? 친구들도 어색하다고 놀려요\"(인터뷰) | 포토뉴스' class=\"_img\" data-height=\"362\" data-source=\"https://search.pstatic.net/common/?src=http%3A%2F%2Fimgnews.naver.net%2Fimage%2F108%2F2008%2F12%2F16%2F2008121610173266362_1.jpg&amp;type=b400\" data-width=\"540\" onerror=\"var we=$Element(this); we.addClass('bg_nimg'); we.attr('alt','이미지준비중'); we.attr('src','data:image/gif;base64,R0lGODlhAQABAIAAAAAAAP///yH5BAEAAAAALAAAAAABAAEAAAIBRAA7');\" src=\"data:image/gif;base64,R0lGODlhAQABAIAAAAAAAP///yH5BAEAAAAALAAAAAABAAEAAAIBRAA7\"/><span class=\"img_border\"></span> <span class=\"data_img\"> <span class=\"data_bg\"></span> <span class=\"data_txt\"> <em class=\"tit\">박보영 \"스타덤? 친구들도 어색하다고 놀려요\"(인터뷰)</em> <span class=\"size\">540X362</span> </span> </span> <span class=\"_meta\" style=\"display:none;\"> { \"crArea\": \"n\", \"rank\":\"48\", \"link\":\"http%3A%2F%2Fnews.naver.com%2Fmain%2Fread.nhn%3Foid%3D108%26aid%3D0001968535\", \"title\":\"%EB%B0%95%EB%B3%B4%EC%98%81%20%26quot%3B%EC%8A%A4%ED%83%80%EB%8D%A4%3F%20%EC%B9%9C%EA%B5%AC%EB%93%A4%EB%8F%84%20%EC%96%B4%EC%83%89%ED%95%98%EB%8B%A4%EA%B3%A0%20%EB%86%80%EB%A0%A4%EC%9A%94%26quot%3B(%EC%9D%B8%ED%84%B0%EB%B7%B0)\", \"date\":\"2008.12.16.\", \"originalUrl\":\"http%3A%2F%2Fimgnews.naver.net%2Fimage%2F108%2F2008%2F12%2F16%2F2008121610173266362_1.jpg\", \"imgId\":\"news1080001968535_885027831\", \"source\":\"%ED%8F%AC%ED%86%A0%EB%89%B4%EC%8A%A4\", \"orgWidth\":\"540\", \"orgHeight\":\"362\", \"thumb\":\"https%3A%2F%2Fsearch.pstatic.net%2Fcommon%2F%3Fsrc%3Dhttp%253A%252F%252Fimgnews.naver.net%252Fimage%252F108%252F2008%252F12%252F16%252F2008121610173266362_1.jpg%26type%3Db400\", \"thumb44\":\"https%3A%2F%2Fsearch.pstatic.net%2Fcommon%2F%3Fsrc%3Dhttp%253A%252F%252Fimgnews.naver.net%252Fimage%252F108%252F2008%252F12%252F16%252F2008121610173266362_1.jpg%26type%3Dn88_88\", \"topUrl\":\"http%3A%2F%2Fnews.naver.com%2Fmain%2Fread.nhn%3Foid%3D108%26aid%3D0001968535\", \"subsection\":\"\", \"cclType\": \"0\", \"overbyte\": \"0\", \"gdid\": \"news_34c073f79074e9762c67c70c9dddb77c\", \"signature\": \"575715767832233\", \"sttData\": \"\", \"saslink\":\"http%3A%2F%2Fnews.naver.com%2Fmain%2Fread.nhn%3Foid%3D108%26aid%3D0001968535\" } </span> </a> <a class=\"org_view spimg\" href=\"http://news.naver.com/main/read.nhn?oid=108&amp;aid=0001968535\" onclick=\"return goOtherCR(this, 'a=img_noc*n.end&amp;r=48&amp;i=news_34c073f79074e9762c67c70c9dddb77c&amp;g=575715767832233&amp;u='+urlencode(this.href));\" target=\"_blank\" title=\"새창\">원본링크로 이동하기</a> </div> <div class=\"img_area _item\" data-id=\"blog12221010|454|40177469965_1448107425\"> <a class=\"thumb _thumb\" href=\"#\" onclick=\"tCR('a=img_noc*b.img&amp;r=49&amp;i=blog_a9afa25f35c11945da7ca2ca30d7ee87&amp;g=579708699126879&amp;u=https%3A%2F%2Fblog.naver.com%2Fmeem1234%2F40177469965');\" title=\"박보영 에스콰이어 화보  | 블로그\"> <img alt=\"박보영 에스콰이어 화보  | 블로그\" class=\"_img\" data-height=\"1097\" data-source=\"https://search.pstatic.net/common/?src=http%3A%2F%2Fblogfiles.naver.net%2F20130115_176%2Fmeem1234_13582249143180FEUm_PNG%2F616134414dc99047d8b5cd8114e9118d_tlLpEK3D7gyeZn5fv.png&amp;type=b400\" data-width=\"850\" onerror=\"var we=$Element(this); we.addClass('bg_nimg'); we.attr('alt','이미지준비중'); we.attr('src','data:image/gif;base64,R0lGODlhAQABAIAAAAAAAP///yH5BAEAAAAALAAAAAABAAEAAAIBRAA7');\" src=\"data:image/gif;base64,R0lGODlhAQABAIAAAAAAAP///yH5BAEAAAAALAAAAAABAAEAAAIBRAA7\"/><span class=\"img_border\"></span> <span class=\"data_img\"> <span class=\"data_bg\"></span> <span class=\"data_txt\"> <em class=\"tit\">박보영 에스콰이어 화보 </em> <span class=\"size\">850X1097</span> </span> </span> <span class=\"_meta\" style=\"display:none;\"> { \"crArea\": \"b\", \"rank\":\"49\", \"link\":\"https%3A%2F%2Fblog.naver.com%2Fmeem1234%2F40177469965\", \"title\":\"%EB%B0%95%EB%B3%B4%EC%98%81%20%EC%97%90%EC%8A%A4%EC%BD%B0%EC%9D%B4%EC%96%B4%20%ED%99%94%EB%B3%B4%20\", \"date\":\"2013.01.15.\", \"originalUrl\":\"http%3A%2F%2Fblogfiles.naver.net%2F20130115_176%2Fmeem1234_13582249143180FEUm_PNG%2F616134414dc99047d8b5cd8114e9118d_tlLpEK3D7gyeZn5fv.png\", \"imgId\":\"blog12221010%7C454%7C40177469965_1448107425\", \"source\":\"%EB%B8%94%EB%A1%9C%EA%B7%B8\", \"orgWidth\":\"850\", \"orgHeight\":\"1097\", \"thumb\":\"https%3A%2F%2Fsearch.pstatic.net%2Fcommon%2F%3Fsrc%3Dhttp%253A%252F%252Fblogfiles.naver.net%252F20130115_176%252Fmeem1234_13582249143180FEUm_PNG%252F616134414dc99047d8b5cd8114e9118d_tlLpEK3D7gyeZn5fv.png%26type%3Db400\", \"thumb44\":\"https%3A%2F%2Fsearch.pstatic.net%2Fcommon%2F%3Fsrc%3Dhttp%253A%252F%252Fblogfiles.naver.net%252F20130115_176%252Fmeem1234_13582249143180FEUm_PNG%252F616134414dc99047d8b5cd8114e9118d_tlLpEK3D7gyeZn5fv.png%26type%3Dn88_88\", \"topUrl\":\"https%3A%2F%2Fblog.naver.com%2Fmeem1234\", \"subsection\":\"%EC%8A%A4%ED%83%80%ED%8F%BC\", \"cclType\": \"5\", \"overbyte\": \"0\", \"gdid\": \"blog_a9afa25f35c11945da7ca2ca30d7ee87\", \"signature\": \"579708699126879\", \"sttData\": \"\", \"saslink\":\"http%3A%2F%2Fblog.naver.com%2Fmeem1234%2F40177469965\" } </span> </a> <a class=\"org_view spimg\" href=\"https://blog.naver.com/meem1234/40177469965\" onclick=\"return goOtherCR(this, 'a=img_noc*b.end&amp;r=49&amp;i=blog_a9afa25f35c11945da7ca2ca30d7ee87&amp;g=579708699126879&amp;u='+urlencode(this.href));\" target=\"_blank\" title=\"새창\">원본링크로 이동하기</a> </div> <div class=\"img_area _item\" data-id=\"blog109239965|68|221312256207_1991910121\"> <a class=\"thumb _thumb\" href=\"#\" onclick=\"tCR('a=img_noc*b.img&amp;r=50&amp;i=blog_8945dd17a296d2905f59b97fa6d8ca8a&amp;g=575002961133386&amp;u=https%3A%2F%2Fblog.naver.com%2Fjs2y86%2F221312256207');\" title=\"박보영 : 힘쎈여자도봉순 도봉순 | 블로그\"> <img alt=\"박보영 : 힘쎈여자도봉순 도봉순 | 블로그\" class=\"_img\" data-height=\"577\" data-source=\"https://search.pstatic.net/common/?src=http%3A%2F%2Fblogfiles.naver.net%2FMjAxODA3MDRfMTkx%2FMDAxNTMwNjY2OTg4MjQ3.jGIjWJ2Q48xxoz37vJRZDsL3hPkRyYeU8yMeB_rS1KQg.YldJcuFtuDxDeyHf4q8WAKjE-jOqa4IsVgylD1nh4PYg.JPEG.js2y86%2F%25BB%25CD%25BC%25F6%25B4%25CF10.jpg&amp;type=b400\" data-width=\"864\" onerror=\"var we=$Element(this); we.addClass('bg_nimg'); we.attr('alt','이미지준비중'); we.attr('src','data:image/gif;base64,R0lGODlhAQABAIAAAAAAAP///yH5BAEAAAAALAAAAAABAAEAAAIBRAA7');\" src=\"data:image/gif;base64,R0lGODlhAQABAIAAAAAAAP///yH5BAEAAAAALAAAAAABAAEAAAIBRAA7\"/><span class=\"img_border\"></span> <span class=\"data_img\"> <span class=\"data_bg\"></span> <span class=\"data_txt\"> <em class=\"tit\">박보영 : 힘쎈여자도봉순 도봉순</em> <span class=\"size\">864X577</span> </span> </span> <span class=\"_meta\" style=\"display:none;\"> { \"crArea\": \"b\", \"rank\":\"50\", \"link\":\"https%3A%2F%2Fblog.naver.com%2Fjs2y86%2F221312256207\", \"title\":\"%EB%B0%95%EB%B3%B4%EC%98%81%20%3A%20%ED%9E%98%EC%8E%88%EC%97%AC%EC%9E%90%EB%8F%84%EB%B4%89%EC%88%9C%20%EB%8F%84%EB%B4%89%EC%88%9C\", \"date\":\"2018.07.04.\", \"originalUrl\":\"http%3A%2F%2Fblogfiles.naver.net%2FMjAxODA3MDRfMTkx%2FMDAxNTMwNjY2OTg4MjQ3.jGIjWJ2Q48xxoz37vJRZDsL3hPkRyYeU8yMeB_rS1KQg.YldJcuFtuDxDeyHf4q8WAKjE-jOqa4IsVgylD1nh4PYg.JPEG.js2y86%2F%25BB%25CD%25BC%25F6%25B4%25CF10.jpg\", \"imgId\":\"blog109239965%7C68%7C221312256207_1991910121\", \"source\":\"%EB%B8%94%EB%A1%9C%EA%B7%B8\", \"orgWidth\":\"864\", \"orgHeight\":\"577\", \"thumb\":\"https%3A%2F%2Fsearch.pstatic.net%2Fcommon%2F%3Fsrc%3Dhttp%253A%252F%252Fblogfiles.naver.net%252FMjAxODA3MDRfMTkx%252FMDAxNTMwNjY2OTg4MjQ3.jGIjWJ2Q48xxoz37vJRZDsL3hPkRyYeU8yMeB_rS1KQg.YldJcuFtuDxDeyHf4q8WAKjE-jOqa4IsVgylD1nh4PYg.JPEG.js2y86%252F%2525BB%2525CD%2525BC%2525F6%2525B4%2525CF10.jpg%26type%3Db400\", \"thumb44\":\"https%3A%2F%2Fsearch.pstatic.net%2Fcommon%2F%3Fsrc%3Dhttp%253A%252F%252Fblogfiles.naver.net%252FMjAxODA3MDRfMTkx%252FMDAxNTMwNjY2OTg4MjQ3.jGIjWJ2Q48xxoz37vJRZDsL3hPkRyYeU8yMeB_rS1KQg.YldJcuFtuDxDeyHf4q8WAKjE-jOqa4IsVgylD1nh4PYg.JPEG.js2y86%252F%2525BB%2525CD%2525BC%2525F6%2525B4%2525CF10.jpg%26type%3Dn88_88\", \"topUrl\":\"https%3A%2F%2Fblog.naver.com%2Fjs2y86\", \"subsection\":\"%EC%84%BC%EC%B9%98%ED%95%9C%EB%B0%95%EC%96%91%27s%20%EA%B0%90%EC%84%B1%EB%93%9C%EB%9D%BC%EB%A7%88%26%EB%A6%AC%EB%B7%B0%EB%85%B8%ED%8A%B8\", \"cclType\": \"5\", \"overbyte\": \"0\", \"gdid\": \"blog_8945dd17a296d2905f59b97fa6d8ca8a\", \"signature\": \"575002961133386\", \"sttData\": \"\", \"saslink\":\"http%3A%2F%2Fblog.naver.com%2Fjs2y86%2F221312256207\" } </span> </a> <a class=\"org_view spimg\" href=\"https://blog.naver.com/js2y86/221312256207\" onclick=\"return goOtherCR(this, 'a=img_noc*b.end&amp;r=50&amp;i=blog_8945dd17a296d2905f59b97fa6d8ca8a&amp;g=575002961133386&amp;u='+urlencode(this.href));\" target=\"_blank\" title=\"새창\">원본링크로 이동하기</a> </div> </div>"
      ]
     },
     "execution_count": 768,
     "metadata": {},
     "output_type": "execute_result"
    }
   ],
   "source": [
    "dom.find(\"div\", {\"class\":\"photo_grid _box\"})"
   ]
  },
  {
   "cell_type": "code",
   "execution_count": 769,
   "metadata": {},
   "outputs": [
    {
     "data": {
      "text/plain": [
       "[('여기 박보영빠돌이있지않음?? | 카페',\n",
       "  'https://search.pstatic.net/common/?src=http%3A%2F%2Fcafefiles.naver.net%2F20140419_115%2Falsdnr4721_1397918757998zpEC6_JPEG%2F-1042080401.jpg&type=b400'),\n",
       " (\"박보영 '요정이 눈 앞에'[엑's HD포토] | 포토뉴스\",\n",
       "  'https://search.pstatic.net/common/?src=http%3A%2F%2Fimgnews.naver.net%2Fimage%2F311%2F2019%2F04%2F30%2F0000985275_001_20190430071110015.jpg&type=b400'),\n",
       " ('박보영 : 힘쎈여자도봉순 도봉순 | 블로그',\n",
       "  'https://search.pstatic.net/common/?src=http%3A%2F%2Fblogfiles.naver.net%2FMjAxODA3MDRfMTQ4%2FMDAxNTMwNjY3NjY3NjEz.zj9Umgo5orK-9sGr3r5yWQBn9HIYKJY3YVzz4Gzk1bsg.cstJdYVKQm2SFg5M9o0TVOKPaMBM5ud-Rag1IaPZ9Lkg.JPEG.js2y86%2Fqkrqhdud14.jpg&type=b400'),\n",
       " ('박보영 사진 모음 #1 (스왑주의) | 블로그',\n",
       "  'https://search.pstatic.net/common/?src=http%3A%2F%2Fblogfiles.naver.net%2FMjAxODEwMTBfMTA1%2FMDAxNTM5MTc2ODM0MDI5.mlRvQ8JGvq5N4tNpgT_wWgPrxlMg6cHXpGDGISJ9iskg.i0sOEaB-ad78ykWXzDiHA33UAqp-g-Mr2ZqPrkD_tZ0g.JPEG.angel000429%2F1539176666436.jpg&type=b400'),\n",
       " (\"'열정같은소리하고있네' 박보영·정재영, 겨울 패션 화보 공개 | 블로그\",\n",
       "  'https://search.pstatic.net/common/?src=http%3A%2F%2Fblogfiles.naver.net%2F20151123_272%2Fqazwsx2002_1448267051132FmL3G_JPEG%2F002.jpg&type=b400'),\n",
       " ('박보영 에스콰이어 화보  | 블로그',\n",
       "  'https://search.pstatic.net/common/?src=http%3A%2F%2Fblogfiles.naver.net%2F20130115_197%2Fmeem1234_1358224908968XtlPr_JPEG%2F616134414dc99047d8b5cd8114e9118d_789NWL7Emre4gBcdWhB5lvIS.jpg&type=b400'),\n",
       " ('최근 박보영 새로운 화보 | 블로그',\n",
       "  'https://search.pstatic.net/common/?src=http%3A%2F%2Fblogfiles.naver.net%2F20110525_18%2Fpjh34091_1306290554589AVmww_JPEG%2F%25B9%25DA%25BA%25B8%25BF%25B5_%25BB%25F5%25B7%25CE%25BF%25EE_%25C8%25AD%25BA%25B8_0.jpg&type=b400'),\n",
       " ('박보영 심경 \"원래 징징대는 편인데…\" 김상유 대표 글 논란 해명? | 포토뉴스',\n",
       "  'https://search.pstatic.net/common/?src=http%3A%2F%2Fimgnews.naver.net%2Fimage%2F5079%2F2013%2F02%2F12%2F766713_0_m500679_58628_59_20130212133540.jpg&type=b400'),\n",
       " ('이제야 밝혀지는 두 사람의 진실?! 박보영, 김영광 인터뷰! | 동영상',\n",
       "  'https://search.pstatic.net/common/?src=https%3A%2F%2Fphinf.pstatic.net%2Ftvcast%2F20180823_97%2F7AbLf_1534989707099rBIu4_PNG%2Fzf8rcG9madjv.png&type=b400'),\n",
       " (\"[엑's HD화보] '뽀블리' 박보영 '야구장에서도 러블리~' | 포토뉴스\",\n",
       "  'https://search.pstatic.net/common/?src=http%3A%2F%2Fimgnews.naver.net%2Fimage%2F311%2F2018%2F07%2F26%2F0000881291_002_20180726205533782.jpg&type=b400'),\n",
       " ('인터뷰 박보영 패션 옷 #써스데이아일랜드 쉬폰 블라우스_여자 여름 블라우스 | 블로그',\n",
       "  'https://search.pstatic.net/common/?src=http%3A%2F%2Fblogfiles.naver.net%2FMjAxODA4MTRfMTUz%2FMDAxNTM0MjIyMzAxMjU2.1J2e9Fy5EX_VLf367oeDAv28iL6v05bXV3hP2OkwgxMg.I1NMx1RH--8Yb0yx3j4EybMZUKVFHTf6lijc4R5LFJog.JPEG.imsung_cho%2F1533953928_1383617.jpg&type=b400'),\n",
       " ('[4K직캠] 박보영(Park Bo Young), 진짜 봄이 왔네요(190429) | 포스트',\n",
       "  'https://search.pstatic.net/common/?src=http%3A%2F%2Fpost.phinf.naver.net%2FMjAxOTA0MjlfMTA3%2FMDAxNTU2NTA0MzA2MzE4.0UAFhPY7p0odl0sTrtap8gh1ti63KbjaCRERw_8qyzwg.lheAC4SgbJ26pQtbPEoLpKq8f5QIPUtpMnz850vzzWMg.JPEG%2FIMBvaNWUWeK6v2onENvaworTmtAE.jpg&type=b400'),\n",
       " ('[인터뷰①] 박보영 \"데뷔 이래 가장 나쁜女..♥ 참 어렵더라\" | 포토뉴스',\n",
       "  'https://search.pstatic.net/common/?src=http%3A%2F%2Fimgnews.naver.net%2Fimage%2F076%2F2018%2F08%2F09%2F2018081001000825000059711_20180809115327017.jpg&type=b400'),\n",
       " ('\\'어비스\\' 박보영 \"외모 관련 대사, 불편할까 걱정돼 수정 노력\" | 포토뉴스',\n",
       "  'https://search.pstatic.net/common/?src=http%3A%2F%2Fimgnews.naver.net%2Fimage%2F076%2F2019%2F05%2F03%2F2019050401000298400016991_20190503160106821.jpg&type=b400'),\n",
       " (\"[티저]'엄마야!' 거울 보고 깜짝 놀란 박보영 tvN [어비스-영혼소생구슬] | 동영상\",\n",
       "  'https://search.pstatic.net/common/?src=http%3A%2F%2Fhol.phinf.naver.net%2F00%2F662%2F354%2F66235414_1.jpg&type=b400'),\n",
       " (\"'이 정도면 장기근속'… 박보영, 토레타 모델 발탁 | 포토뉴스\",\n",
       "  'https://search.pstatic.net/common/?src=http%3A%2F%2Fimgnews.naver.net%2Fimage%2F5582%2F2019%2F03%2F26%2F0000035400_001_20190326111013364.jpg&type=b400'),\n",
       " ('박보영 폰 배경사진 고화질로 많이많이 | 지식iN',\n",
       "  'https://search.pstatic.net/common/?src=http%3A%2F%2Fkinimage.naver.net%2F20181216_209%2F15449260677587Ll86_JPEG%2F1544926067429.jpg&type=b400'),\n",
       " (\"[화보] 박보영, 인형외모에 우윳빛 각선미 '섹시' - 세계일보 | 웹\",\n",
       "  'https://search.pstatic.net/sunny/?src=http%3A%2F%2Fimg.segye.com%2Fcontent%2Fimage%2F2015%2F10%2F17%2F20151017503314.jpg&type=b400'),\n",
       " (\"[시크포토]박보영, '클로즈업 부르는 미모' | 포토뉴스\",\n",
       "  'https://search.pstatic.net/common/?src=http%3A%2F%2Fimgnews.naver.net%2Fimage%2F5349%2F2018%2F08%2F07%2F1533628848_205383_20180807165840982.jpg&type=b400'),\n",
       " (\"[TEN PHOTO]박보영 '굿 모닝~' | 포토뉴스\",\n",
       "  'https://search.pstatic.net/common/?src=http%3A%2F%2Fimgnews.naver.net%2Fimage%2F312%2F2019%2F04%2F29%2F0000385085_001_20190429111506300.jpg&type=b400'),\n",
       " (\"'런닝맨' 박보영, 깜짝출연...절친 선배 송지효와 민낯대결 | 포토뉴스\",\n",
       "  'https://search.pstatic.net/common/?src=http%3A%2F%2Fimgnews.naver.net%2Fimage%2F5575%2F2019%2F03%2F03%2F0000033175_001_20190303115605887.jpg&type=b400'),\n",
       " ('탐정 홍길동 시사회에서 | 블로그',\n",
       "  'https://search.pstatic.net/common/?src=http%3A%2F%2Fblogfiles.naver.net%2F20160506_156%2Fbismuth083_1462537897447sdsOj_JPEG%2FFB_IMG_1462446137505.jpg&type=b400'),\n",
       " (\"♥♥♥♥♥박보영♥'영화'노브레싱 VIP시사회 초대 인터뷰♥♥♥♥♥ | 블로그\",\n",
       "  'https://search.pstatic.net/common/?src=http%3A%2F%2Fblogfiles.naver.net%2F20131111_212%2Fpapa77ma_1384121301256kovyM_JPEG%2F%25A2%25BD%25B9%25DA%25BA%25B8%25BF%25B5%25A2%25BD.jpg&type=b400'),\n",
       " (\"[TEN PHOTO]박보영 '가만히 있어도 미모가 반짝' | 포토뉴스\",\n",
       "  'https://search.pstatic.net/common/?src=http%3A%2F%2Fimgnews.naver.net%2Fimage%2F312%2F2018%2F08%2F09%2F0000342601_001_20180809170227017.jpg&type=b400'),\n",
       " (\"'오나귀'→'어비스' 박보영, 어게인 '뽀블리' 매직 자신감(종합)[Oh!쎈 현장] | 포토뉴스\",\n",
       "  'https://search.pstatic.net/common/?src=http%3A%2F%2Fimgnews.naver.net%2Fimage%2F109%2F2019%2F05%2F03%2F0004002600_002_20190503164807188.jpg&type=b400'),\n",
       " ('\\'피끓는 청춘\\' 박보영, 일진 연기 \"학생들이 따라할까 걱정\" | 포토뉴스',\n",
       "  'https://search.pstatic.net/common/?src=http%3A%2F%2Fimgnews.naver.net%2Fimage%2F5268%2F2014%2F01%2F21%2F927889_0-550827_47544_59_20140121145003.jpg&type=b400'),\n",
       " (\"[TEN PHOTO]박보영 '꽃내음 가득한 매력' | 포토뉴스\",\n",
       "  'https://search.pstatic.net/common/?src=http%3A%2F%2Fimgnews.naver.net%2Fimage%2F312%2F2019%2F04%2F29%2F0000385092_001_20190429112508757.jpg&type=b400'),\n",
       " ('tvN ‘어비스’ 25일 마지막 회.. 박보영 \"내가 너 지켜줄게” | 포토뉴스',\n",
       "  'https://search.pstatic.net/common/?src=http%3A%2F%2Fimgnews.naver.net%2Fimage%2F5503%2F2019%2F06%2F25%2F0000030512_001_20190625145841663.JPG&type=b400'),\n",
       " ('[#별별샷] 배우 박보영, 청순한 방부제 미모로 ‘시선강탈’ | 포토뉴스',\n",
       "  'https://search.pstatic.net/common/?src=http%3A%2F%2Fimgnews.naver.net%2Fimage%2F5339%2F2018%2F12%2F07%2F2018120636294797_20181207000910239.jpg&type=b400'),\n",
       " (\"'어비스' 박보영, 안효섭과 애틋한 사랑...해피엔딩 기대감 up | 포토뉴스\",\n",
       "  'https://search.pstatic.net/common/?src=http%3A%2F%2Fimgnews.naver.net%2Fimage%2F5567%2F2019%2F06%2F25%2F0000008181_001_20190625110648024.jpg&type=b400'),\n",
       " ('박보영 컬투 얼굴 비교 \"컬투 머리크기 반밖에 안되는 \\'소두 종결자\\'\" | 포토뉴스',\n",
       "  'https://search.pstatic.net/common/?src=http%3A%2F%2Fimgnews.naver.net%2Fimage%2F5043%2F2012%2F10%2F30%2F2012103015504813_59_20121030092011.jpg&type=b400'),\n",
       " (\"'어비스' 박보영♥안효섭, 심쿵 키스‥권수현, 박보영 살인 사주(종합) | 포토뉴스\",\n",
       "  'https://search.pstatic.net/common/?src=http%3A%2F%2Fimgnews.naver.net%2Fimage%2F112%2F2019%2F05%2F28%2F201905282207245443380_20190528224138_01_20190528224209210.jpg&type=b400'),\n",
       " ('[포토] ‘어비스’ ‘뽀블리’ 박보영 ‘아름답다’ | 포토뉴스',\n",
       "  'https://search.pstatic.net/common/?src=http%3A%2F%2Fimgnews.naver.net%2Fimage%2F382%2F2019%2F05%2F03%2F0000729116_001_20190503153611843.jpg&type=b400'),\n",
       " ('tvN ‘어비스’ 로맨틱가이 안효섭,  박보영에게 ‘테디베어’ 목걸이 깜짝 선물! | 포토뉴스',\n",
       "  'https://search.pstatic.net/common/?src=http%3A%2F%2Fimgnews.naver.net%2Fimage%2F5696%2F2019%2F06%2F12%2F0000014463_001_20190612155651670.jpg&type=b400'),\n",
       " (\"'어비스' 박보영♥안효섭, 본격 동거시작 '초밀착 껌딱지' | 포토뉴스\",\n",
       "  'https://search.pstatic.net/common/?src=http%3A%2F%2Fimgnews.naver.net%2Fimage%2F117%2F2019%2F06%2F04%2F201906041529224634_1_20190604153311103.jpg&type=b400'),\n",
       " ('박보영 \"이소라 박효신 듀엣곡 받쓰, \\'소울트리\\'인데 속상하다\" | 포토뉴스',\n",
       "  'https://search.pstatic.net/common/?src=http%3A%2F%2Fimgnews.naver.net%2Fimage%2F5575%2F2019%2F05%2F04%2F0000042593_001_20190504202221714.jpg&type=b400'),\n",
       " ('‘어비스’ 박보영-안효섭-이시언, 권수현 처단 막판 스퍼트[오늘TV] | 포토뉴스',\n",
       "  'https://search.pstatic.net/common/?src=http%3A%2F%2Fimgnews.naver.net%2Fimage%2F609%2F2019%2F06%2F24%2F201906241301272410_2_20190624130727191.jpg&type=b400'),\n",
       " ('박보영 \\'운동 셀카\\' 공개, \"너무 예쁘다!\" 네티즌 극찬 | 포토뉴스',\n",
       "  'https://search.pstatic.net/common/?src=http%3A%2F%2Fimgnews.naver.net%2Fimage%2F5092%2F2011%2F06%2F20%2F1308560965_600.jpg&type=b400'),\n",
       " (\"박보영 '어비스', 프로페셔널 검사 스타일링 눈길 | 포토뉴스\",\n",
       "  'https://search.pstatic.net/common/?src=http%3A%2F%2Fimgnews.naver.net%2Fimage%2F5567%2F2019%2F05%2F29%2F0000007370_001_20190529103635685.jpg&type=b400'),\n",
       " ('‘어비스’ 안효섭, 박보영 위한 특급 배려…다정보스 등극 | 포토뉴스',\n",
       "  'https://search.pstatic.net/common/?src=http%3A%2F%2Fimgnews.naver.net%2Fimage%2F015%2F2019%2F06%2F11%2F0004156850_001_20190611134604695.jpg&type=b400'),\n",
       " (\"[사진]박보영,'백옥같은 피부' | 포토뉴스\",\n",
       "  'https://search.pstatic.net/common/?src=http%3A%2F%2Fimgnews.naver.net%2Fimage%2F109%2F2008%2F10%2F27%2F200810271211252300_1.jpg&type=b400'),\n",
       " ('\\'어비스\\' 제작진 \"박보영-안효섭 \\'애틋 로맨스\\' 무르익는다\" | 포토뉴스',\n",
       "  'https://search.pstatic.net/common/?src=http%3A%2F%2Fimgnews.naver.net%2Fimage%2F468%2F2019%2F06%2F09%2F0000517985_001_20190609094022835.jpg&type=b400'),\n",
       " (\"'어비스' 박보영X안효섭, 현실에서도 껌딱지 모드…초밀착 케미폭발 비하인드 공개 | 포토뉴스\",\n",
       "  'https://search.pstatic.net/common/?src=http%3A%2F%2Fimgnews.naver.net%2Fimage%2F468%2F2019%2F05%2F19%2F0000509577_001_20190519134517159.jpg&type=b400'),\n",
       " ('[스타패션] 박보영, 가을 여인으로 변신해 반전 매력 발산 | 포토뉴스',\n",
       "  'https://search.pstatic.net/common/?src=http%3A%2F%2Fimgnews.naver.net%2Fimage%2F144%2F2015%2F09%2F16%2Fl_2015091602001330300222841_99_20150916141402.jpg&type=b400'),\n",
       " ('박보영, 셀카로 근황 공개 \"역시 국민여동생\" | 포토뉴스',\n",
       "  'https://search.pstatic.net/common/?src=http%3A%2F%2Fimgnews.naver.net%2Fimage%2F5138%2F2011%2F04%2F04%2F201104040931099660385-2-25339.jpg&type=b400'),\n",
       " (\"[MD포토] 박보영 '한화 유니폼 입고 야구장 왔어요' | 포토뉴스\",\n",
       "  'https://search.pstatic.net/common/?src=http%3A%2F%2Fimgnews.naver.net%2Fimage%2F117%2F2016%2F08%2F30%2F201608301954891116_1_99_20160830195503.jpg&type=b400'),\n",
       " ('레스포색, 새 뮤즈 박보영 발탁 | 포토뉴스',\n",
       "  'https://search.pstatic.net/common/?src=http%3A%2F%2Fimgnews.naver.net%2Fimage%2F5090%2F2013%2F02%2F17%2F20130217000088_0_59_20130217140812.jpg&type=b400'),\n",
       " ('박보영 \"스타덤? 친구들도 어색하다고 놀려요\"(인터뷰) | 포토뉴스',\n",
       "  'https://search.pstatic.net/common/?src=http%3A%2F%2Fimgnews.naver.net%2Fimage%2F108%2F2008%2F12%2F16%2F2008121610173266362_1.jpg&type=b400'),\n",
       " ('박보영 에스콰이어 화보  | 블로그',\n",
       "  'https://search.pstatic.net/common/?src=http%3A%2F%2Fblogfiles.naver.net%2F20130115_176%2Fmeem1234_13582249143180FEUm_PNG%2F616134414dc99047d8b5cd8114e9118d_tlLpEK3D7gyeZn5fv.png&type=b400'),\n",
       " ('박보영 : 힘쎈여자도봉순 도봉순 | 블로그',\n",
       "  'https://search.pstatic.net/common/?src=http%3A%2F%2Fblogfiles.naver.net%2FMjAxODA3MDRfMTkx%2FMDAxNTMwNjY2OTg4MjQ3.jGIjWJ2Q48xxoz37vJRZDsL3hPkRyYeU8yMeB_rS1KQg.YldJcuFtuDxDeyHf4q8WAKjE-jOqa4IsVgylD1nh4PYg.JPEG.js2y86%2F%25BB%25CD%25BC%25F6%25B4%25CF10.jpg&type=b400')]"
      ]
     },
     "execution_count": 769,
     "metadata": {},
     "output_type": "execute_result"
    }
   ],
   "source": [
    "[(_[\"alt\"], _[\"data-source\"]) for _ in dom.find(\"div\", {\"class\":\"photo_grid _box\"}).find_all(\"img\")]"
   ]
  },
  {
   "cell_type": "code",
   "execution_count": 771,
   "metadata": {},
   "outputs": [
    {
     "name": "stdout",
     "output_type": "stream",
     "text": [
      "--------count = 0------------\n",
      "https://search.pstatic.net/common/?src=http%3A%2F%2Fcafefiles.naver.net%2F20140419_115%2Falsdnr4721_1397918757998zpEC6_JPEG%2F-1042080401.jpg&type=b400\n",
      "--------count = 1------------\n",
      "https://search.pstatic.net/common/?src=http%3A%2F%2Fimgnews.naver.net%2Fimage%2F311%2F2019%2F04%2F30%2F0000985275_001_20190430071110015.jpg&type=b400\n",
      "--------count = 2------------\n",
      "https://search.pstatic.net/common/?src=http%3A%2F%2Fblogfiles.naver.net%2FMjAxODA3MDRfMTQ4%2FMDAxNTMwNjY3NjY3NjEz.zj9Umgo5orK-9sGr3r5yWQBn9HIYKJY3YVzz4Gzk1bsg.cstJdYVKQm2SFg5M9o0TVOKPaMBM5ud-Rag1IaPZ9Lkg.JPEG.js2y86%2Fqkrqhdud14.jpg&type=b400\n",
      "--------count = 3------------\n",
      "https://search.pstatic.net/common/?src=http%3A%2F%2Fblogfiles.naver.net%2FMjAxODEwMTBfMTA1%2FMDAxNTM5MTc2ODM0MDI5.mlRvQ8JGvq5N4tNpgT_wWgPrxlMg6cHXpGDGISJ9iskg.i0sOEaB-ad78ykWXzDiHA33UAqp-g-Mr2ZqPrkD_tZ0g.JPEG.angel000429%2F1539176666436.jpg&type=b400\n",
      "--------count = 4------------\n",
      "https://search.pstatic.net/common/?src=http%3A%2F%2Fblogfiles.naver.net%2F20151123_272%2Fqazwsx2002_1448267051132FmL3G_JPEG%2F002.jpg&type=b400\n",
      "--------count = 5------------\n",
      "https://search.pstatic.net/common/?src=http%3A%2F%2Fblogfiles.naver.net%2F20130115_197%2Fmeem1234_1358224908968XtlPr_JPEG%2F616134414dc99047d8b5cd8114e9118d_789NWL7Emre4gBcdWhB5lvIS.jpg&type=b400\n",
      "--------count = 6------------\n",
      "https://search.pstatic.net/common/?src=http%3A%2F%2Fblogfiles.naver.net%2F20110525_18%2Fpjh34091_1306290554589AVmww_JPEG%2F%25B9%25DA%25BA%25B8%25BF%25B5_%25BB%25F5%25B7%25CE%25BF%25EE_%25C8%25AD%25BA%25B8_0.jpg&type=b400\n",
      "--------count = 7------------\n",
      "https://search.pstatic.net/common/?src=http%3A%2F%2Fimgnews.naver.net%2Fimage%2F5079%2F2013%2F02%2F12%2F766713_0_m500679_58628_59_20130212133540.jpg&type=b400\n",
      "--------count = 8------------\n",
      "https://search.pstatic.net/common/?src=https%3A%2F%2Fphinf.pstatic.net%2Ftvcast%2F20180823_97%2F7AbLf_1534989707099rBIu4_PNG%2Fzf8rcG9madjv.png&type=b400\n",
      "--------count = 9------------\n",
      "https://search.pstatic.net/common/?src=http%3A%2F%2Fimgnews.naver.net%2Fimage%2F311%2F2018%2F07%2F26%2F0000881291_002_20180726205533782.jpg&type=b400\n",
      "--------count = 10------------\n",
      "https://search.pstatic.net/common/?src=http%3A%2F%2Fblogfiles.naver.net%2FMjAxODA4MTRfMTUz%2FMDAxNTM0MjIyMzAxMjU2.1J2e9Fy5EX_VLf367oeDAv28iL6v05bXV3hP2OkwgxMg.I1NMx1RH--8Yb0yx3j4EybMZUKVFHTf6lijc4R5LFJog.JPEG.imsung_cho%2F1533953928_1383617.jpg&type=b400\n",
      "--------count = 11------------\n",
      "https://search.pstatic.net/common/?src=http%3A%2F%2Fpost.phinf.naver.net%2FMjAxOTA0MjlfMTA3%2FMDAxNTU2NTA0MzA2MzE4.0UAFhPY7p0odl0sTrtap8gh1ti63KbjaCRERw_8qyzwg.lheAC4SgbJ26pQtbPEoLpKq8f5QIPUtpMnz850vzzWMg.JPEG%2FIMBvaNWUWeK6v2onENvaworTmtAE.jpg&type=b400\n",
      "--------count = 12------------\n",
      "https://search.pstatic.net/common/?src=http%3A%2F%2Fimgnews.naver.net%2Fimage%2F076%2F2018%2F08%2F09%2F2018081001000825000059711_20180809115327017.jpg&type=b400\n",
      "--------count = 13------------\n",
      "https://search.pstatic.net/common/?src=http%3A%2F%2Fimgnews.naver.net%2Fimage%2F076%2F2019%2F05%2F03%2F2019050401000298400016991_20190503160106821.jpg&type=b400\n",
      "--------count = 14------------\n",
      "https://search.pstatic.net/common/?src=http%3A%2F%2Fhol.phinf.naver.net%2F00%2F662%2F354%2F66235414_1.jpg&type=b400\n",
      "--------count = 15------------\n",
      "https://search.pstatic.net/common/?src=http%3A%2F%2Fimgnews.naver.net%2Fimage%2F5582%2F2019%2F03%2F26%2F0000035400_001_20190326111013364.jpg&type=b400\n",
      "--------count = 16------------\n",
      "https://search.pstatic.net/common/?src=http%3A%2F%2Fkinimage.naver.net%2F20181216_209%2F15449260677587Ll86_JPEG%2F1544926067429.jpg&type=b400\n",
      "--------count = 17------------\n",
      "https://search.pstatic.net/sunny/?src=http%3A%2F%2Fimg.segye.com%2Fcontent%2Fimage%2F2015%2F10%2F17%2F20151017503314.jpg&type=b400\n",
      "--------count = 18------------\n",
      "https://search.pstatic.net/common/?src=http%3A%2F%2Fimgnews.naver.net%2Fimage%2F5349%2F2018%2F08%2F07%2F1533628848_205383_20180807165840982.jpg&type=b400\n",
      "--------count = 19------------\n",
      "https://search.pstatic.net/common/?src=http%3A%2F%2Fimgnews.naver.net%2Fimage%2F312%2F2019%2F04%2F29%2F0000385085_001_20190429111506300.jpg&type=b400\n",
      "--------count = 20------------\n",
      "https://search.pstatic.net/common/?src=http%3A%2F%2Fimgnews.naver.net%2Fimage%2F5575%2F2019%2F03%2F03%2F0000033175_001_20190303115605887.jpg&type=b400\n",
      "--------count = 21------------\n",
      "https://search.pstatic.net/common/?src=http%3A%2F%2Fblogfiles.naver.net%2F20160506_156%2Fbismuth083_1462537897447sdsOj_JPEG%2FFB_IMG_1462446137505.jpg&type=b400\n",
      "--------count = 22------------\n",
      "https://search.pstatic.net/common/?src=http%3A%2F%2Fblogfiles.naver.net%2F20131111_212%2Fpapa77ma_1384121301256kovyM_JPEG%2F%25A2%25BD%25B9%25DA%25BA%25B8%25BF%25B5%25A2%25BD.jpg&type=b400\n",
      "--------count = 23------------\n",
      "https://search.pstatic.net/common/?src=http%3A%2F%2Fimgnews.naver.net%2Fimage%2F312%2F2018%2F08%2F09%2F0000342601_001_20180809170227017.jpg&type=b400\n",
      "--------count = 24------------\n",
      "https://search.pstatic.net/common/?src=http%3A%2F%2Fimgnews.naver.net%2Fimage%2F109%2F2019%2F05%2F03%2F0004002600_002_20190503164807188.jpg&type=b400\n",
      "--------count = 25------------\n",
      "https://search.pstatic.net/common/?src=http%3A%2F%2Fimgnews.naver.net%2Fimage%2F5268%2F2014%2F01%2F21%2F927889_0-550827_47544_59_20140121145003.jpg&type=b400\n",
      "--------count = 26------------\n",
      "https://search.pstatic.net/common/?src=http%3A%2F%2Fimgnews.naver.net%2Fimage%2F312%2F2019%2F04%2F29%2F0000385092_001_20190429112508757.jpg&type=b400\n",
      "--------count = 27------------\n",
      "https://search.pstatic.net/common/?src=http%3A%2F%2Fimgnews.naver.net%2Fimage%2F5503%2F2019%2F06%2F25%2F0000030512_001_20190625145841663.JPG&type=b400\n",
      "--------count = 28------------\n",
      "https://search.pstatic.net/common/?src=http%3A%2F%2Fimgnews.naver.net%2Fimage%2F5339%2F2018%2F12%2F07%2F2018120636294797_20181207000910239.jpg&type=b400\n",
      "--------count = 29------------\n",
      "https://search.pstatic.net/common/?src=http%3A%2F%2Fimgnews.naver.net%2Fimage%2F5567%2F2019%2F06%2F25%2F0000008181_001_20190625110648024.jpg&type=b400\n",
      "--------count = 30------------\n",
      "https://search.pstatic.net/common/?src=http%3A%2F%2Fimgnews.naver.net%2Fimage%2F5043%2F2012%2F10%2F30%2F2012103015504813_59_20121030092011.jpg&type=b400\n",
      "--------count = 31------------\n",
      "https://search.pstatic.net/common/?src=http%3A%2F%2Fimgnews.naver.net%2Fimage%2F112%2F2019%2F05%2F28%2F201905282207245443380_20190528224138_01_20190528224209210.jpg&type=b400\n",
      "--------count = 32------------\n",
      "https://search.pstatic.net/common/?src=http%3A%2F%2Fimgnews.naver.net%2Fimage%2F382%2F2019%2F05%2F03%2F0000729116_001_20190503153611843.jpg&type=b400\n",
      "--------count = 33------------\n",
      "https://search.pstatic.net/common/?src=http%3A%2F%2Fimgnews.naver.net%2Fimage%2F5696%2F2019%2F06%2F12%2F0000014463_001_20190612155651670.jpg&type=b400\n",
      "--------count = 34------------\n",
      "https://search.pstatic.net/common/?src=http%3A%2F%2Fimgnews.naver.net%2Fimage%2F117%2F2019%2F06%2F04%2F201906041529224634_1_20190604153311103.jpg&type=b400\n",
      "--------count = 35------------\n",
      "https://search.pstatic.net/common/?src=http%3A%2F%2Fimgnews.naver.net%2Fimage%2F5575%2F2019%2F05%2F04%2F0000042593_001_20190504202221714.jpg&type=b400\n",
      "--------count = 36------------\n",
      "https://search.pstatic.net/common/?src=http%3A%2F%2Fimgnews.naver.net%2Fimage%2F609%2F2019%2F06%2F24%2F201906241301272410_2_20190624130727191.jpg&type=b400\n",
      "--------count = 37------------\n",
      "https://search.pstatic.net/common/?src=http%3A%2F%2Fimgnews.naver.net%2Fimage%2F5092%2F2011%2F06%2F20%2F1308560965_600.jpg&type=b400\n",
      "--------count = 38------------\n",
      "https://search.pstatic.net/common/?src=http%3A%2F%2Fimgnews.naver.net%2Fimage%2F5567%2F2019%2F05%2F29%2F0000007370_001_20190529103635685.jpg&type=b400\n",
      "--------count = 39------------\n",
      "https://search.pstatic.net/common/?src=http%3A%2F%2Fimgnews.naver.net%2Fimage%2F015%2F2019%2F06%2F11%2F0004156850_001_20190611134604695.jpg&type=b400\n",
      "--------count = 40------------\n",
      "https://search.pstatic.net/common/?src=http%3A%2F%2Fimgnews.naver.net%2Fimage%2F109%2F2008%2F10%2F27%2F200810271211252300_1.jpg&type=b400\n",
      "--------count = 41------------\n",
      "https://search.pstatic.net/common/?src=http%3A%2F%2Fimgnews.naver.net%2Fimage%2F468%2F2019%2F06%2F09%2F0000517985_001_20190609094022835.jpg&type=b400\n",
      "--------count = 42------------\n",
      "https://search.pstatic.net/common/?src=http%3A%2F%2Fimgnews.naver.net%2Fimage%2F468%2F2019%2F05%2F19%2F0000509577_001_20190519134517159.jpg&type=b400\n",
      "--------count = 43------------\n",
      "https://search.pstatic.net/common/?src=http%3A%2F%2Fimgnews.naver.net%2Fimage%2F144%2F2015%2F09%2F16%2Fl_2015091602001330300222841_99_20150916141402.jpg&type=b400\n",
      "--------count = 44------------\n",
      "https://search.pstatic.net/common/?src=http%3A%2F%2Fimgnews.naver.net%2Fimage%2F5138%2F2011%2F04%2F04%2F201104040931099660385-2-25339.jpg&type=b400\n",
      "--------count = 45------------\n",
      "https://search.pstatic.net/common/?src=http%3A%2F%2Fimgnews.naver.net%2Fimage%2F117%2F2016%2F08%2F30%2F201608301954891116_1_99_20160830195503.jpg&type=b400\n",
      "--------count = 46------------\n",
      "https://search.pstatic.net/common/?src=http%3A%2F%2Fimgnews.naver.net%2Fimage%2F5090%2F2013%2F02%2F17%2F20130217000088_0_59_20130217140812.jpg&type=b400\n",
      "--------count = 47------------\n",
      "https://search.pstatic.net/common/?src=http%3A%2F%2Fimgnews.naver.net%2Fimage%2F108%2F2008%2F12%2F16%2F2008121610173266362_1.jpg&type=b400\n",
      "--------count = 48------------\n",
      "https://search.pstatic.net/common/?src=http%3A%2F%2Fblogfiles.naver.net%2F20130115_176%2Fmeem1234_13582249143180FEUm_PNG%2F616134414dc99047d8b5cd8114e9118d_tlLpEK3D7gyeZn5fv.png&type=b400\n",
      "--------count = 49------------\n",
      "https://search.pstatic.net/common/?src=http%3A%2F%2Fblogfiles.naver.net%2FMjAxODA3MDRfMTkx%2FMDAxNTMwNjY2OTg4MjQ3.jGIjWJ2Q48xxoz37vJRZDsL3hPkRyYeU8yMeB_rS1KQg.YldJcuFtuDxDeyHf4q8WAKjE-jOqa4IsVgylD1nh4PYg.JPEG.js2y86%2F%25BB%25CD%25BC%25F6%25B4%25CF10.jpg&type=b400\n"
     ]
    }
   ],
   "source": [
    "url = \"https://search.naver.com/search.naver?sm=tab_hty.top&where=image&query=%EB%B0%95%EB%B3%B4%EC%98%81&oquery=%EB%B0%95%EB%B3%B4%EC%98%81%E3%85%87&tqi=Ufloswp0J1sss4H9k5KssssstWl-350369\"\n",
    "html = download('get', url)\n",
    "dom = BeautifulSoup(html.text, \"lxml\")\n",
    "count = 0\n",
    "for row in dom.find_all(\"a\", {\"class\":\"thumb _thumb\"}): # a(?)\n",
    "    print(f\"--------count = {count}------------\")\n",
    "    print(row.find_all(\"img\")[0][\"data-source\"])\n",
    "    count+=1"
   ]
  },
  {
   "cell_type": "markdown",
   "metadata": {},
   "source": [
    "### Selection\n",
    "\n",
    "- CSSOM\n",
    "    - CSS selector\n",
    "        - selector, declaration (attributes) \n",
    "    - Style "
   ]
  },
  {
   "cell_type": "code",
   "execution_count": null,
   "metadata": {},
   "outputs": [],
   "source": [
    "# 4 대 검색사이트 가져오기 "
   ]
  },
  {
   "cell_type": "code",
   "execution_count": 811,
   "metadata": {},
   "outputs": [],
   "source": [
    "html=\"\"\"\n",
    "<html>\n",
    "    <head><head/>\n",
    "    <body>\n",
    "        <div id=\"result\">\n",
    "            <p class=\"row\">\n",
    "                <a class=\"red\">123</a>\n",
    "                <a class=\"blue\">go to page2</a>\n",
    "                <div class=\"blue\"><a class=\"red\"></a></div>\n",
    "                <a class=\"blue\">go to page2</a>\n",
    "            </p>\n",
    "        </div>\n",
    "    </body>\n",
    "</html>\n",
    "\"\"\"\n",
    "dom = BeautifulSoup(html, \"html.parser\") # html.parse를 바꾼다."
   ]
  },
  {
   "cell_type": "code",
   "execution_count": 819,
   "metadata": {},
   "outputs": [
    {
     "ename": "SyntaxError",
     "evalue": "invalid syntax (<ipython-input-819-5ba6f68584d5>, line 2)",
     "output_type": "error",
     "traceback": [
      "\u001b[1;36m  File \u001b[1;32m\"<ipython-input-819-5ba6f68584d5>\"\u001b[1;36m, line \u001b[1;32m2\u001b[0m\n\u001b[1;33m    ID => #어쩌고\u001b[0m\n\u001b[1;37m        ^\u001b[0m\n\u001b[1;31mSyntaxError\u001b[0m\u001b[1;31m:\u001b[0m invalid syntax\n"
     ]
    }
   ],
   "source": [
    "dom.select() # 자손을 찾을 수 있음 - 훨씬 더 정교하게 제한해줘야한다. \n",
    "ID => #어쩌고\n",
    "CLASS => .어쩌고\n",
    "태그 => 태그\n",
    "자손 => 공백\n",
    "자식 => >\n",
    "selector(\"div\") => 2\n",
    "selector(\"div#result\") => 1\n",
    "selector(\"#result\") => 1\n",
    "selector(\".blue\") => 3\n",
    "selector(\"body div\") => 2 # 띄어쓰기하면 자손 전부 불러오는 것. 따라서 2개\n",
    "\n",
    "# 여러개를 찾아야하니까 list 형태"
   ]
  },
  {
   "cell_type": "code",
   "execution_count": 814,
   "metadata": {},
   "outputs": [],
   "source": [
    "url = 'https://www.google.com/search?newwindow=1&ei=EOcnXa6tNYfs8wX4maioCw&q=%EB%B0%95%EB%B3%B4%EC%98%81&oq=%EB%B0%95%EB%B3%B4%EC%98%81&gs_l=psy-ab.3..35i39j0l9.20188073.20189731..20189903...1.0..0.136.914.1j7......0....1..gws-wiz.......0i71j0i131.OC5U7XsHKe4'\n",
    "html = download('get', url)\n",
    "dom = BeautifulSoup(html.text, \"lxml\")"
   ]
  },
  {
   "cell_type": "code",
   "execution_count": 825,
   "metadata": {
    "scrolled": true
   },
   "outputs": [
    {
     "data": {
      "text/plain": [
       "[('https://namu.wiki/w/%EB%B0%95%EB%B3%B4%EC%98%81',\n",
       "  '박보영 - 나무위키https://namu.wiki/w/박보영'),\n",
       " ('#', ''),\n",
       " ('/search?newwindow=1&q=related:https://namu.wiki/w/%25EB%25B0%2595%25EB%25B3%25B4%25EC%2598%2581+%EB%B0%95%EB%B3%B4%EC%98%81&tbo=1&sa=X&ved=2ahUKEwjn_9T97a7jAhXDdHAKHbEIBi8QHzAAegQIAxAE',\n",
       "  '유사한 페이지'),\n",
       " ('https://ko.wikipedia.org/wiki/%EB%B0%95%EB%B3%B4%EC%98%81',\n",
       "  '박보영 - 위키백과, 우리 모두의 백과사전https://ko.wikipedia.org/wiki/박보영'),\n",
       " ('#', ''),\n",
       " ('https://webcache.googleusercontent.com/search?q=cache:gv9t4wBBoSMJ:https://ko.wikipedia.org/wiki/%25EB%25B0%2595%25EB%25B3%25B4%25EC%2598%2581+&cd=12&hl=ko&ct=clnk&gl=kr',\n",
       "  '저장된\\xa0페이지'),\n",
       " ('/search?newwindow=1&q=related:https://ko.wikipedia.org/wiki/%25EB%25B0%2595%25EB%25B3%25B4%25EC%2598%2581+%EB%B0%95%EB%B3%B4%EC%98%81&tbo=1&sa=X&ved=2ahUKEwjn_9T97a7jAhXDdHAKHbEIBi8QHzALegQIAhAF',\n",
       "  '유사한 페이지'),\n",
       " ('https://ko.wikipedia.org/wiki/%EB%B0%95%EB%B3%B4%EC%98%81%EC%9D%98_%EC%9E%91%ED%92%88_%EB%AA%A9%EB%A1%9D',\n",
       "  '박보영의 작품 목록 - 위키백과, 우리 모두의 백과사전https://ko.wikipedia.org/wiki/박보영의_작품_목록'),\n",
       " ('#', ''),\n",
       " ('https://webcache.googleusercontent.com/search?q=cache:VhhxhBJ2kukJ:https://ko.wikipedia.org/wiki/%25EB%25B0%2595%25EB%25B3%25B4%25EC%2598%2581%25EC%259D%2598_%25EC%259E%2591%25ED%2592%2588_%25EB%25AA%25A9%25EB%25A1%259D+&cd=13&hl=ko&ct=clnk&gl=kr',\n",
       "  '저장된\\xa0페이지'),\n",
       " ('https://news.joins.com/article/22895953',\n",
       "  '박보영은 오래 지켜본다. 연애도, 연기 변신도 - 중앙일보https://news.joins.com/article/22895953'),\n",
       " ('#', ''),\n",
       " ('https://webcache.googleusercontent.com/search?q=cache:C8ZtkDOVE_cJ:https://news.joins.com/article/22895953+&cd=14&hl=ko&ct=clnk&gl=kr',\n",
       "  '저장된\\xa0페이지'),\n",
       " ('https://movie.daum.net/person/main?personId=105244',\n",
       "  '박보영 - Daum 영화https://movie.daum.net/person/main?personId=105244'),\n",
       " ('#', ''),\n",
       " ('https://webcache.googleusercontent.com/search?q=cache:ahd-t4CdgoAJ:https://movie.daum.net/person/main%3FpersonId%3D105244+&cd=15&hl=ko&ct=clnk&gl=kr',\n",
       "  '저장된\\xa0페이지'),\n",
       " ('https://www.msn.com/ko-kr/entertainment/news/%EB%B0%95%EB%B3%B4%EC%98%81-tvn-%EB%93%9C%EB%9D%BC%EB%A7%88-%EC%96%B4%EB%B9%84%EC%8A%A4-%EC%97%AC%EC%A3%BC%EC%9D%B8%EA%B3%B5/ar-BBLZzVh',\n",
       "  \"박보영, tvN 드라마 '어비스' 여주인공 - MSN.comhttps://www.msn.com/ko-kr/entertainment/news/박보영-tvn-드라마.../ar-BBLZzVh\"),\n",
       " ('#', ''),\n",
       " ('https://webcache.googleusercontent.com/search?q=cache:9ScdGCkuTJgJ:https://www.msn.com/ko-kr/entertainment/news/%25EB%25B0%2595%25EB%25B3%25B4%25EC%2598%2581-tvn-%25EB%2593%259C%25EB%259D%25BC%25EB%25A7%2588-%25EC%2596%25B4%25EB%25B9%2584%25EC%258A%25A4-%25EC%2597%25AC%25EC%25A3%25BC%25EC%259D%25B8%25EA%25B3%25B5/ar-BBLZzVh+&cd=17&hl=ko&ct=clnk&gl=kr',\n",
       "  '저장된\\xa0페이지'),\n",
       " ('https://www.msn.com/ko-kr/entertainment/tv/hd%EC%8A%A4%ED%86%A0%EB%A6%AC-%EC%9E%91%EC%9D%80-%EA%B1%B0%EC%9D%B8-%EB%B0%95%EB%B3%B4%EC%98%81%E2%80%A6%EA%B7%B8%EC%9D%98-%EC%97%B0%EA%B8%B0%EC%97%90-%EB%8C%80%ED%95%9C-%ED%9D%94%EC%A0%81%EB%93%A4/ar-BBUvL0V',\n",
       "  '[HD스토리] 작은 거인 박보영…그의 연기에 대한 흔적들 - MSN.comhttps://www.msn.com/ko-kr/entertainment/tv/...작은...박보영…그의.../ar-BBUvL0V'),\n",
       " ('#', ''),\n",
       " ('https://webcache.googleusercontent.com/search?q=cache:RAs5n2AiYIsJ:https://www.msn.com/ko-kr/entertainment/tv/hd%25EC%258A%25A4%25ED%2586%25A0%25EB%25A6%25AC-%25EC%259E%2591%25EC%259D%2580-%25EA%25B1%25B0%25EC%259D%25B8-%25EB%25B0%2595%25EB%25B3%25B4%25EC%2598%2581%25E2%2580%25A6%25EA%25B7%25B8%25EC%259D%2598-%25EC%2597%25B0%25EA%25B8%25B0%25EC%2597%2590-%25EB%258C%2580%25ED%2595%259C-%25ED%259D%2594%25EC%25A0%2581%25EB%2593%25A4/ar-BBUvL0V+&cd=18&hl=ko&ct=clnk&gl=kr',\n",
       "  '저장된\\xa0페이지'),\n",
       " ('https://twitter.com/hashtag/%EB%B0%95%EB%B3%B4%EC%98%81',\n",
       "  '#박보영 hashtag on Twitterhttps://twitter.com/hashtag/박보영'),\n",
       " ('#', ''),\n",
       " ('https://webcache.googleusercontent.com/search?q=cache:rTbpyHCWwXUJ:https://twitter.com/hashtag/%25EB%25B0%2595%25EB%25B3%25B4%25EC%2598%2581+&cd=19&hl=ko&ct=clnk&gl=kr',\n",
       "  '저장된\\xa0페이지'),\n",
       " ('/search?newwindow=1&q=related:https://twitter.com/hashtag/%25EB%25B0%2595%25EB%25B3%25B4%25EC%2598%2581+%EB%B0%95%EB%B3%B4%EC%98%81&tbo=1&sa=X&ved=2ahUKEwjn_9T97a7jAhXDdHAKHbEIBi8QHzASegQIBxAF',\n",
       "  '유사한 페이지')]"
      ]
     },
     "execution_count": 825,
     "metadata": {},
     "output_type": "execute_result"
    }
   ],
   "source": [
    "[(_[\"href\"], _.text) for _ in dom.select(\".rc > .r a\")] "
   ]
  },
  {
   "cell_type": "code",
   "execution_count": 828,
   "metadata": {
    "scrolled": true
   },
   "outputs": [
    {
     "ename": "TypeError",
     "evalue": "'NoneType' object is not subscriptable",
     "output_type": "error",
     "traceback": [
      "\u001b[1;31m---------------------------------------------------------------------------\u001b[0m",
      "\u001b[1;31mTypeError\u001b[0m                                 Traceback (most recent call last)",
      "\u001b[1;32m<ipython-input-828-18ce7ea06c18>\u001b[0m in \u001b[0;36m<module>\u001b[1;34m\u001b[0m\n\u001b[1;32m----> 1\u001b[1;33m \u001b[0mdom\u001b[0m\u001b[1;33m.\u001b[0m\u001b[0mkigon\u001b[0m\u001b[1;33m[\u001b[0m\u001b[1;34m\"href\"\u001b[0m\u001b[1;33m]\u001b[0m\u001b[1;33m\u001b[0m\u001b[1;33m\u001b[0m\u001b[0m\n\u001b[0m",
      "\u001b[1;31mTypeError\u001b[0m: 'NoneType' object is not subscriptable"
     ]
    }
   ],
   "source": [
    "dom.kigon[\"href\"] # None Type "
   ]
  },
  {
   "cell_type": "markdown",
   "metadata": {},
   "source": [
    "- google"
   ]
  },
  {
   "cell_type": "code",
   "execution_count": 857,
   "metadata": {},
   "outputs": [
    {
     "name": "stdout",
     "output_type": "stream",
     "text": [
      "박보영 - 나무위키\n",
      "박보영 - 위키백과, 우리 모두의 백과사전\n",
      "박보영의 작품 목록 - 위키백과, 우리 모두의 백과사전\n",
      "박보영은 오래 지켜본다. 연애도, 연기 변신도 - 중앙일보\n",
      "박보영 - Daum 영화\n",
      "전체글 - 박보영 공식 팬카페 _ 뽀르테 - Daum 카페\n",
      "박보영, tvN 드라마 '어비스' 여주인공 - MSN.com\n",
      "[HD스토리] 작은 거인 박보영…그의 연기에 대한 흔적들 - MSN.com\n"
     ]
    }
   ],
   "source": [
    "url = \"https://www.google.com/search?q=%EB%B0%95%EB%B3%B4%EC%98%81&rlz=1C5CHFA_enKR841KR841&oq=%EB%B0%95%EB%B3%B4%EC%98%81&aqs=chrome..69i57j69i59j0l4.1851j0j7&sourceid=chrome&ie=UTF-8\"\n",
    "html = download('get', url)\n",
    "dom = BeautifulSoup(html.text, \"lxml\")\n",
    "for row in dom.select('h3.LC20lb'):\n",
    "    print(row.text)\n",
    "# #rso > div:nth-child(1) > div > div > div.rc > div.r > a:nth-child(1) > h3"
   ]
  },
  {
   "cell_type": "code",
   "execution_count": null,
   "metadata": {},
   "outputs": [],
   "source": [
    "#sp_nws_all1 > dl > dt > a\n",
    "#sp_nws_all1 > dl > dt > a\n",
    "#main_pack > div.news.section._prs_nws_all\n",
    "#main_pack > div.news.section._prs_nws_all > ul"
   ]
  },
  {
   "cell_type": "markdown",
   "metadata": {},
   "source": [
    "- naver"
   ]
  },
  {
   "cell_type": "code",
   "execution_count": 860,
   "metadata": {},
   "outputs": [],
   "source": [
    "url = 'https://search.naver.com/search.naver?where=nexearch&sm=tab_jum&query=%EB%B0%95%EB%B3%B4%EC%98%81'\n",
    "html = download('get', url)\n",
    "dom = BeautifulSoup(html.text, \"lxml\")    "
   ]
  },
  {
   "cell_type": "code",
   "execution_count": 873,
   "metadata": {
    "scrolled": true
   },
   "outputs": [
    {
     "data": {
      "text/plain": [
       "[('http://www.upkorea.net/news/articleView.html?idxno=594716',\n",
       "  \"박보영 주연의 '너의 결혼식' 07월 12일 16시 40분 OCN 방영\"),\n",
       " ('http://www.lecturernews.com/news/articleView.html?idxno=21949',\n",
       "  '영화 <너의 결혼식> \"이석근 감독, 박보영·김영광 주연의 첫사랑 연대기를 그...'),\n",
       " ('http://www.incheonilbo.com/news/articleView.html?idxno=961581',\n",
       "  \"07월 12일 16시 40분 OCN 방영 영화 '너의 결혼식', 박보영x김영광 주연\"),\n",
       " ('http://viewers.heraldcorp.com/news/articleView.html?idxno=39209',\n",
       "  \"[유명준의 시선] '정법', 2013년 박보영 vs 2019년 이열음\"),\n",
       " ('https://blog.naver.com/imagetech1?Redirect=Log&logNo=221530358950',\n",
       "  '[어비스] 인물관계도 등장인물 몇부작 박보영 안효섭 드라마...'),\n",
       " ('http://hshlog.com/221559890110', '어비스 박보영 패션 20대 여자 가방 폴스부띠끄 튤리 보셨어요?'),\n",
       " ('https://asovc7777.blog.me/221548676988',\n",
       "  '박보영 김영광 열애 !? ( 뽀누랑 영광이 정보 정리 ! )'),\n",
       " ('https://blog.naver.com/js2y86?Redirect=Log&logNo=221530397718',\n",
       "  '어비스 드라마 등장인물 인물관계도 : 박보영 안효섭')]"
      ]
     },
     "execution_count": 873,
     "metadata": {},
     "output_type": "execute_result"
    }
   ],
   "source": [
    "[(_[\"href\"], _.text) for _ in dom.select(\"dl > dt > a._sp_each_url._sp_each_title\")] "
   ]
  },
  {
   "cell_type": "code",
   "execution_count": 869,
   "metadata": {},
   "outputs": [
    {
     "name": "stdout",
     "output_type": "stream",
     "text": [
      "박보영 주연의 '너의 결혼식' 07월 12일 16시 40분 OCN 방영\n",
      "영화 <너의 결혼식> \"이석근 감독, 박보영·김영광 주연의 첫사랑 연대기를 그...\n",
      "07월 12일 16시 40분 OCN 방영 영화 '너의 결혼식', 박보영x김영광 주연\n",
      "[유명준의 시선] '정법', 2013년 박보영 vs 2019년 이열음\n",
      "[어비스] 인물관계도 등장인물 몇부작 박보영 안효섭 드라마...\n",
      "어비스 박보영 패션 20대 여자 가방 폴스부띠끄 튤리 보셨어요?\n",
      "박보영 김영광 열애 !? ( 뽀누랑 영광이 정보 정리 ! )\n",
      "어비스 드라마 등장인물 인물관계도 : 박보영 안효섭\n"
     ]
    }
   ],
   "source": [
    "for row in dom.select('a._sp_each_url._sp_each_title'):\n",
    "    print(row.text)"
   ]
  },
  {
   "cell_type": "markdown",
   "metadata": {},
   "source": [
    "- DAUM"
   ]
  },
  {
   "cell_type": "code",
   "execution_count": 5,
   "metadata": {},
   "outputs": [],
   "source": [
    "url = \"https://search.daum.net/search?w=tot&DA=YZR&t__nil_searchbox=btn&sug=&sugo=&q=%EB%B0%95%EB%B3%B4%EC%98%81\"\n",
    "html = download('get', url)\n",
    "dom = BeautifulSoup(html.text, \"lxml\") "
   ]
  },
  {
   "cell_type": "code",
   "execution_count": 10,
   "metadata": {},
   "outputs": [
    {
     "data": {
      "text/plain": [
       "[('https://cp.news.search.daum.net/p/81861100',\n",
       "  '영화 <너의 결혼식> “이석근 감독, 박보영·김영광 주연의 첫사랑 ...'),\n",
       " ('http://v.media.daum.net/v/20190625224946276?f=o', \"'어비스' 안효섭, 박보영 살리고 소멸\"),\n",
       " ('http://v.media.daum.net/v/20190623184500942?f=o',\n",
       "  \"'어비스' 박보영, 법정 등판..비장미 폭발\"),\n",
       " ('http://v.media.daum.net/v/20190623110804553?f=o',\n",
       "  \"'어비스' 박보영-안효섭, '깨소금 폴폴' 야외 데이트!\"),\n",
       " ('http://gall.dcinside.com/board/lists/?id=parkboyoung', '박보영 갤러리'),\n",
       " ('http://cafe.daum.net/parkboyoungfd', '박보영 공식팬카페 뽀르테'),\n",
       " ('http://channels.vlive.tv/FCE49/video', 'Park Bo Young V LIVE'),\n",
       " ('http://www.bjc.or.kr/', '인천방주교회'),\n",
       " ('http://adam24eve.tistory.com/858', '김영광 박보영 열애 터진 이유'),\n",
       " ('http://cscs0717.tistory.com/27', '박보영 키 몸매'),\n",
       " ('http://listup.tistory.com/248', '박보영 키 나이 인스타그램 드라마 어비스'),\n",
       " ('http://34344541.tistory.com/43', '박보영 키 나이 학력 개신교 열애설 연기력'),\n",
       " ('http://cafe.daum.net/subdued20club/ReHf/2280152?q=%EB%B0%95%EB%B3%B4%EC%98%81',\n",
       "  '박보영과 역대급 케미뽐낸 상대배우 고르기'),\n",
       " ('http://cafe.daum.net/subdued20club/ReHf/2345077?q=%EB%B0%95%EB%B3%B4%EC%98%81',\n",
       "  '아이유, 박보영 좋아하는 남자 -＞ ㅎㅌㅊ다?'),\n",
       " ('http://cafe.daum.net/ok1221/9Zdf/1524913?q=%EB%B0%95%EB%B3%B4%EC%98%81',\n",
       "  '런닝맨 나올 때마다 케미 보여준 송지효X박보영.jpgif'),\n",
       " ('http://cafe.daum.net/ASMONACOFC/gAVU/1243818?q=%EB%B0%95%EB%B3%B4%EC%98%81',\n",
       "  '박보영이 왜 못 오를 나무냐는 박수홍.jpg'),\n",
       " ('http://tip.daum.net/answer/54503481?q=%EB%B0%95%EB%B3%B4%EC%98%81',\n",
       "  '박보영, 제2의 문근영이라는 호칭때문에 악플에 시달렸나요? 아역배우... '),\n",
       " ('http://tip.daum.net/answer/55072609?q=%EB%B0%95%EB%B3%B4%EC%98%81',\n",
       "  '박보영누나 과속스캔들찍고 또 다른 드라마나 영화 찍나요?> 박보영누나... '),\n",
       " ('http://tip.daum.net/answer/54767339?q=%EB%B0%95%EB%B3%B4%EC%98%81',\n",
       "  \"박보영, 과속스캔들 OST 중 '아마도그건' 불렀다던데, 이번에 과속... \"),\n",
       " ('http://tip.daum.net/answer/54866982?q=%EB%B0%95%EB%B3%B4%EC%98%81',\n",
       "  '박보영 질문요. 박보영 진짜 예쁘더군요... 박보영이 대체 누군... ')]"
      ]
     },
     "execution_count": 10,
     "metadata": {},
     "output_type": "execute_result"
    }
   ],
   "source": [
    "[(_[\"href\"], _.text) for _ in dom.select(\"div > .f_link_b\")] "
   ]
  },
  {
   "cell_type": "code",
   "execution_count": null,
   "metadata": {},
   "outputs": [],
   "source": []
  },
  {
   "cell_type": "code",
   "execution_count": null,
   "metadata": {},
   "outputs": [],
   "source": []
  },
  {
   "cell_type": "code",
   "execution_count": null,
   "metadata": {},
   "outputs": [],
   "source": []
  },
  {
   "cell_type": "code",
   "execution_count": null,
   "metadata": {},
   "outputs": [],
   "source": []
  }
 ],
 "metadata": {
  "kernelspec": {
   "display_name": "Python 3",
   "language": "python",
   "name": "python3"
  },
  "language_info": {
   "codemirror_mode": {
    "name": "ipython",
    "version": 3
   },
   "file_extension": ".py",
   "mimetype": "text/x-python",
   "name": "python",
   "nbconvert_exporter": "python",
   "pygments_lexer": "ipython3",
   "version": "3.7.3"
  }
 },
 "nbformat": 4,
 "nbformat_minor": 2
}
