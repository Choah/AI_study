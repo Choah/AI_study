{
 "cells": [
  {
   "cell_type": "code",
   "execution_count": 1,
   "metadata": {},
   "outputs": [],
   "source": [
    "from IPython.core.interactiveshell import InteractiveShell\n",
    "InteractiveShell.ast_node_interactivity = \"all\""
   ]
  },
  {
   "cell_type": "markdown",
   "metadata": {},
   "source": [
    "## Structure Data"
   ]
  },
  {
   "cell_type": "markdown",
   "metadata": {},
   "source": [
    "- db, \n",
    "- orm, \n",
    "- semi structure, 파싱, 비정형(웹)- static, dynamic \n",
    "- Json, xml\n",
    "- 웹에서 내가 원하는 데이터를 수집 unstructed, structed, semi structed \n",
    "\n",
    "- unstructured 80%, structured 20% "
   ]
  },
  {
   "cell_type": "markdown",
   "metadata": {},
   "source": [
    "1.1. 데이터베이스 개요 DBMS\n",
    "\n",
    "- 데이터베이스 조건: 통합(중복이 있으면 안된다), 저장, 공유, 운영\n",
    "- 데이터베이스 특징:\n",
    "            1. 실시간 접근성\n",
    "            2. 계속적인 변화\n",
    "            3. 동시 공유 가능\n",
    "            4. 내용에 의한 참조 가능 \n",
    "\n",
    "- DBMS 역할 \n",
    "        1. create DB\n",
    "        2. insert, update and delete data\n",
    "        3. sort and query data\n",
    "        4. create form and report \n",
    "        \n",
    "- DBMS 종류\n",
    "        1. 계층형 모델 \n",
    "        2. 네트워크형 모델\n",
    "        3. 관계 데이터 모델 -> Table (Coloum) [light SQL]\n",
    "        4. 객체 관계 모델 -> Object "
   ]
  },
  {
   "cell_type": "markdown",
   "metadata": {},
   "source": [
    "- elastic search \n",
    "\n",
    "1.2. RDBMS\n",
    "- 데이터 안정성\n",
    "- 동시 접근성\n",
    "- 장애 허용성\n",
    "- 데이터 무결성\n",
    "- 데이터 확장성\n",
    "- 데이터 보고서 \n",
    "\n",
    "- RDBMS Concepts\n",
    "        * Relation/ Table\n",
    "        * Tuple/ Row or Record\n",
    "        * Attribute/ Column or Field\n",
    "        * Cardinality/ Number of Rows\n",
    "        * Degree/ Number of Columns\n",
    "        * Domain/ Pool or legal values\n",
    "        * Primary Key/ Unique identifier\n",
    "        \n",
    "- 개체 관계 모델(Entity-Relationship Model)\n",
    "        - 개체: 실 세계에 존재하는 분리된 실제 하나를 표현, 일반적으로 명사 하나에 해당\n",
    "        - 관계: 마름모 \n",
    "        - 속성\n",
    "        - 기본키(PK): 모든 개체를 고유하게 식별할 수 있는 속성 \n",
    "        \n"
   ]
  },
  {
   "cell_type": "markdown",
   "metadata": {},
   "source": [
    "1.3. SQL\n",
    "- Structured Query Language \n",
    "\n",
    "- SQL 명령\n",
    "        * 데이터 정의 언어 DDL(Data Definition Language) \n",
    "            - Create, Drop, Alter, Truncate...\n",
    "        * 데이터 조작 언어 DML(Data Manipulation Languague)\n",
    "            - Insert, Update, Delete, Select...\n",
    "        * 데이터 제어 언어 DCL(Data Control Langugae) \n",
    "            - Grant, Revoke...\n",
    "            \n",
    "- SQL 구문: 문, 절(Clause), 식(Expression), 술어(Predicate)\n",
    "\n",
    "- Data type\n",
    "        * Character String\n",
    "        * Boolean\n",
    "        * Binary String\n",
    "        * Date Time\n",
    "        * Number\n",
    "        \n"
   ]
  },
  {
   "cell_type": "code",
   "execution_count": 1,
   "metadata": {},
   "outputs": [
    {
     "data": {
      "text/plain": [
       "-4"
      ]
     },
     "execution_count": 1,
     "metadata": {},
     "output_type": "execute_result"
    }
   ],
   "source": [
    "10//-3"
   ]
  },
  {
   "cell_type": "code",
   "execution_count": 2,
   "metadata": {},
   "outputs": [
    {
     "data": {
      "text/plain": [
       "3.3333333333333335"
      ]
     },
     "execution_count": 2,
     "metadata": {},
     "output_type": "execute_result"
    }
   ],
   "source": [
    "10/3"
   ]
  },
  {
   "cell_type": "code",
   "execution_count": 3,
   "metadata": {},
   "outputs": [
    {
     "data": {
      "text/plain": [
       "3"
      ]
     },
     "execution_count": 3,
     "metadata": {},
     "output_type": "execute_result"
    }
   ],
   "source": [
    "10//3"
   ]
  },
  {
   "cell_type": "code",
   "execution_count": 2,
   "metadata": {},
   "outputs": [],
   "source": [
    "# SQL light\n",
    "import sqlite3"
   ]
  },
  {
   "cell_type": "code",
   "execution_count": 3,
   "metadata": {
    "scrolled": true
   },
   "outputs": [
    {
     "data": {
      "text/plain": [
       "'2.6.0'"
      ]
     },
     "execution_count": 3,
     "metadata": {},
     "output_type": "execute_result"
    },
    {
     "data": {
      "text/plain": [
       "(2, 6, 0)"
      ]
     },
     "execution_count": 3,
     "metadata": {},
     "output_type": "execute_result"
    },
    {
     "data": {
      "text/plain": [
       "'3.27.2'"
      ]
     },
     "execution_count": 3,
     "metadata": {},
     "output_type": "execute_result"
    },
    {
     "data": {
      "text/plain": [
       "(3, 27, 2)"
      ]
     },
     "execution_count": 3,
     "metadata": {},
     "output_type": "execute_result"
    }
   ],
   "source": [
    "sqlite3.version\n",
    "sqlite3.version_info\n",
    "sqlite3.sqlite_version\n",
    "sqlite3.sqlite_version_info"
   ]
  },
  {
   "cell_type": "code",
   "execution_count": 4,
   "metadata": {},
   "outputs": [],
   "source": [
    "# DB 연결(생성)\n",
    "# conn=sqlite3.connect('경로'or':memory:') -> db 연결용\n",
    "conn=sqlite3.connect(':memory:')\n"
   ]
  },
  {
   "cell_type": "code",
   "execution_count": 5,
   "metadata": {},
   "outputs": [
    {
     "data": {
      "text/plain": [
       "sqlite3.Cursor"
      ]
     },
     "execution_count": 5,
     "metadata": {},
     "output_type": "execute_result"
    },
    {
     "data": {
      "text/plain": [
       "['__class__',\n",
       " '__delattr__',\n",
       " '__dir__',\n",
       " '__doc__',\n",
       " '__eq__',\n",
       " '__format__',\n",
       " '__ge__',\n",
       " '__getattribute__',\n",
       " '__gt__',\n",
       " '__hash__',\n",
       " '__init__',\n",
       " '__init_subclass__',\n",
       " '__iter__',\n",
       " '__le__',\n",
       " '__lt__',\n",
       " '__ne__',\n",
       " '__new__',\n",
       " '__next__',\n",
       " '__reduce__',\n",
       " '__reduce_ex__',\n",
       " '__repr__',\n",
       " '__setattr__',\n",
       " '__sizeof__',\n",
       " '__str__',\n",
       " '__subclasshook__',\n",
       " 'arraysize',\n",
       " 'close',\n",
       " 'connection',\n",
       " 'description',\n",
       " 'execute',\n",
       " 'executemany',\n",
       " 'executescript',\n",
       " 'fetchall',\n",
       " 'fetchmany',\n",
       " 'fetchone',\n",
       " 'lastrowid',\n",
       " 'row_factory',\n",
       " 'rowcount',\n",
       " 'setinputsizes',\n",
       " 'setoutputsize']"
      ]
     },
     "execution_count": 5,
     "metadata": {},
     "output_type": "execute_result"
    }
   ],
   "source": [
    "# cursor: 해당 데이터베이스 sql을 주고받기 위해서 (query 주고 받고 등 등 )\n",
    "cur=conn.cursor()\n",
    "type(cur)\n",
    "dir(cur)\n",
    "\n",
    "\n",
    "# sql 실행- 문을 전달\n",
    "#   execute',\n",
    "#  'executemany' -> 여러번 시행\n",
    "#  'executescript - > 세미콜론이 여러개 있을 때 \n",
    "# sql 패치 -> 전체 결과를 list 결과로 받아오는거 \n",
    "#  'fetchall',\n",
    "#  'fetchmany', -> 지정된 것만큼 결과 받는 것\n",
    "#  'fetchone',"
   ]
  },
  {
   "cell_type": "code",
   "execution_count": 6,
   "metadata": {},
   "outputs": [
    {
     "data": {
      "text/plain": [
       "<sqlite3.Cursor at 0x1f48a5ecce0>"
      ]
     },
     "execution_count": 6,
     "metadata": {},
     "output_type": "execute_result"
    },
    {
     "data": {
      "text/plain": [
       "[('3.27.2',)]"
      ]
     },
     "execution_count": 6,
     "metadata": {},
     "output_type": "execute_result"
    }
   ],
   "source": [
    "cur.execute(\"select sqlite_version()\")\n",
    "cur.fetchall()"
   ]
  },
  {
   "cell_type": "code",
   "execution_count": 7,
   "metadata": {},
   "outputs": [
    {
     "data": {
      "text/plain": [
       "True"
      ]
     },
     "execution_count": 7,
     "metadata": {},
     "output_type": "execute_result"
    }
   ],
   "source": [
    "# sql 구문을 마지막까지 잘 맞게 썼는지 알려주는 것\n",
    "sqlite3.complete_statement(\"select sqlite_version();\") # semicolon 안넣으면 False"
   ]
  },
  {
   "cell_type": "code",
   "execution_count": 8,
   "metadata": {},
   "outputs": [],
   "source": [
    "# sql lite data type "
   ]
  },
  {
   "cell_type": "markdown",
   "metadata": {},
   "source": [
    "### execute"
   ]
  },
  {
   "cell_type": "code",
   "execution_count": 10,
   "metadata": {},
   "outputs": [],
   "source": [
    "# cur.execute('SQL')"
   ]
  },
  {
   "cell_type": "code",
   "execution_count": 11,
   "metadata": {},
   "outputs": [
    {
     "data": {
      "text/plain": [
       "<sqlite3.Cursor at 0x1f48a5ecce0>"
      ]
     },
     "execution_count": 11,
     "metadata": {},
     "output_type": "execute_result"
    },
    {
     "data": {
      "text/plain": [
       "<sqlite3.Cursor at 0x1f48a5ecce0>"
      ]
     },
     "execution_count": 11,
     "metadata": {},
     "output_type": "execute_result"
    },
    {
     "data": {
      "text/plain": [
       "<sqlite3.Cursor at 0x1f48a5ecce0>"
      ]
     },
     "execution_count": 11,
     "metadata": {},
     "output_type": "execute_result"
    },
    {
     "data": {
      "text/plain": [
       "<sqlite3.Cursor at 0x1f48a5ecce0>"
      ]
     },
     "execution_count": 11,
     "metadata": {},
     "output_type": "execute_result"
    },
    {
     "name": "stdout",
     "output_type": "stream",
     "text": [
      "('Yeltsin', '72')\n"
     ]
    }
   ],
   "source": [
    "cur.execute(\"create table people (name_last,age)\")\n",
    "\n",
    "who='Yeltsin'\n",
    "age='72'\n",
    "\n",
    "# This is the qmark style:\n",
    "cur.execute(\"insert into people values (?,?)\",(who,age))\n",
    "\n",
    "# And this is the named style:\n",
    "cur.execute(\"select*from people where name_last=:who and age=:age\",{\"who\":who,\"age\":age})\n",
    "cur.execute(\"\"\"\n",
    "    select * \n",
    "    from people \n",
    "    where name_last=:who and age=:age\n",
    "\"\"\",{\"who\":who,\"age\":age})\n",
    "\n",
    "print(cur.fetchone())"
   ]
  },
  {
   "cell_type": "code",
   "execution_count": 12,
   "metadata": {
    "scrolled": true
   },
   "outputs": [
    {
     "data": {
      "text/plain": [
       "<sqlite3.Cursor at 0x1f48a5ecce0>"
      ]
     },
     "execution_count": 12,
     "metadata": {},
     "output_type": "execute_result"
    }
   ],
   "source": [
    "# executemany -> seq of parameters\n",
    "# cur.executemany('SQL',params)\n",
    "\n",
    "curData=[('A',1),('B',2),('C',3)]\n",
    "\n",
    "# cur.executemany(sql,curData)\n",
    "cur.executemany(\"INSERT INTO people VALUES(?,?)\",curData)"
   ]
  },
  {
   "cell_type": "code",
   "execution_count": 13,
   "metadata": {
    "scrolled": true
   },
   "outputs": [
    {
     "data": {
      "text/plain": [
       "<sqlite3.Cursor at 0x1f48a5ecce0>"
      ]
     },
     "execution_count": 13,
     "metadata": {},
     "output_type": "execute_result"
    }
   ],
   "source": [
    "dataDict=[{\"who\":\"E\",\"age\":1},{\"who\":\"F\",\"age\":\"1\"}]\n",
    "\n",
    "# cur.executemany(sql,curData)\n",
    "cur.executemany(\"INSERT INTO people VALUES(:who, :age)\",dataDict)"
   ]
  },
  {
   "cell_type": "code",
   "execution_count": 14,
   "metadata": {
    "scrolled": true
   },
   "outputs": [
    {
     "data": {
      "text/plain": [
       "<sqlite3.Cursor at 0x1f48a5ecce0>"
      ]
     },
     "execution_count": 14,
     "metadata": {},
     "output_type": "execute_result"
    },
    {
     "data": {
      "text/plain": [
       "[('Yeltsin', '72'), ('A', 1), ('B', 2), ('C', 3), ('E', 1), ('F', '1')]"
      ]
     },
     "execution_count": 14,
     "metadata": {},
     "output_type": "execute_result"
    }
   ],
   "source": [
    "cur.execute(\"SELECT * FROM people\")\n",
    "cur.fetchall()"
   ]
  },
  {
   "cell_type": "code",
   "execution_count": 14,
   "metadata": {},
   "outputs": [
    {
     "data": {
      "text/plain": [
       "<sqlite3.Cursor at 0x18f3a42cce0>"
      ]
     },
     "execution_count": 14,
     "metadata": {},
     "output_type": "execute_result"
    }
   ],
   "source": [
    "# executescript('''SQL1; SQL2,...''') # commit statement first \n",
    "\n",
    "cur.executescript(\"\"\"\n",
    "    CREATE table person (\n",
    "        first_name text primary key,\n",
    "        last_name  text not null\n",
    "    );\n",
    "    insert into person values ('name','kim');\n",
    "\"\"\")"
   ]
  },
  {
   "cell_type": "code",
   "execution_count": 15,
   "metadata": {},
   "outputs": [
    {
     "data": {
      "text/plain": [
       "<sqlite3.Cursor at 0x18f3a42cce0>"
      ]
     },
     "execution_count": 15,
     "metadata": {},
     "output_type": "execute_result"
    },
    {
     "name": "stdout",
     "output_type": "stream",
     "text": [
      "[('name', 'kim')]\n"
     ]
    }
   ],
   "source": [
    "cur.execute('select * from person')\n",
    "print(cur.fetchall())"
   ]
  },
  {
   "cell_type": "code",
   "execution_count": 47,
   "metadata": {},
   "outputs": [],
   "source": [
    "# cur.fetchone() -> returning a single sequence\n",
    "# cur.fetchmany(size)-> returning a list\n",
    "# cur.fetchall()"
   ]
  },
  {
   "cell_type": "code",
   "execution_count": 45,
   "metadata": {},
   "outputs": [
    {
     "data": {
      "text/plain": [
       "<sqlite3.Cursor at 0x20957f3d9d0>"
      ]
     },
     "execution_count": 45,
     "metadata": {},
     "output_type": "execute_result"
    }
   ],
   "source": [
    "# cur.close()    # ? \n",
    "conn.execute('drop table company')"
   ]
  },
  {
   "cell_type": "code",
   "execution_count": 46,
   "metadata": {
    "scrolled": true
   },
   "outputs": [],
   "source": [
    "# Drop\n",
    "# cur.execute('drop table company')"
   ]
  },
  {
   "cell_type": "code",
   "execution_count": 47,
   "metadata": {
    "scrolled": true
   },
   "outputs": [
    {
     "name": "stdout",
     "output_type": "stream",
     "text": [
      "Opened database successfully\n",
      "Table created sucessfully\n"
     ]
    }
   ],
   "source": [
    "# create\n",
    "conn=sqlite3.connect('create.db')\n",
    "print(\"Opened database successfully\")\n",
    "\n",
    "conn.execute('''\n",
    "    CREATE TABLE COMPANY(\n",
    "        ID INT PRIMARY KEY    NOT NULL,\n",
    "        NAME           TEXT   NOT NULL,\n",
    "        AGE            INT    NOT NULL,\n",
    "        ADDRESS        CHAR(50),\n",
    "        SALARY         REAL);\n",
    "''')\n",
    "\n",
    "print(\"Table created sucessfully\")"
   ]
  },
  {
   "cell_type": "code",
   "execution_count": 48,
   "metadata": {},
   "outputs": [],
   "source": [
    "# Insert \n",
    "cur = conn.cursor()\n",
    "\n",
    "cur.execute(\"INSERT INTO COMPANY (ID,NAME,AGE,ADDRESS,SALARY)\\\n",
    "VALUES (1, 'A', 10, 'California', 2000.00)\");\n",
    "\n",
    "cur.execute(\"INSERT INTO COMPANY(ID,NAME,AGE,ADDRESS,SALARY)\\\n",
    "VALUES (:id, :name, :age, :address, :salary)\",\n",
    "            {'id':2, 'name':'B', 'age':25, 'address':'Texas', 'salary':1500.00});\n",
    "\n",
    "data = [(3, 'C', 23, 'Norway', 20000.00),\n",
    "         (4, 'D', 25, 'korea', 5000.00)]\n",
    "\n",
    "cur.executemany(\"INSERT INTO COMPANY (id, name, age, address, salary)\\\n",
    "                values(?,?,?,?,?)\", data);"
   ]
  },
  {
   "cell_type": "code",
   "execution_count": 49,
   "metadata": {
    "scrolled": true
   },
   "outputs": [],
   "source": [
    "cur.executescript(\"\"\"\n",
    "    INSERT INTO COMPANY (ID,NAME,AGE,ADDRESS,SALARY)\n",
    "    VALUES ( 5, 'E', 24, 'RICH-MOND',123123.00);\n",
    "    VALUES (6, 'F',25,'RICH-MOND',123123.00);\n",
    "\"\"\");\n"
   ]
  },
  {
   "cell_type": "code",
   "execution_count": 50,
   "metadata": {},
   "outputs": [
    {
     "name": "stdout",
     "output_type": "stream",
     "text": [
      "Records created successfully\n"
     ]
    }
   ],
   "source": [
    "conn.commit()\n",
    "print(\"Records created successfully\")"
   ]
  },
  {
   "cell_type": "code",
   "execution_count": 51,
   "metadata": {
    "scrolled": false
   },
   "outputs": [
    {
     "name": "stdout",
     "output_type": "stream",
     "text": [
      "ID= 1\n",
      "Name= A\n",
      "ADDRESS= California\n",
      "SALARY= 2000.0\n",
      "\n",
      "ID= 2\n",
      "Name= B\n",
      "ADDRESS= Texas\n",
      "SALARY= 1500.0\n",
      "\n",
      "ID= 3\n",
      "Name= C\n",
      "ADDRESS= Norway\n",
      "SALARY= 20000.0\n",
      "\n",
      "ID= 4\n",
      "Name= D\n",
      "ADDRESS= korea\n",
      "SALARY= 5000.0\n",
      "\n",
      "ID= 5\n",
      "Name= E\n",
      "ADDRESS= RICH-MOND\n",
      "SALARY= 123123.0\n",
      "\n",
      "Operation done successfully\n"
     ]
    }
   ],
   "source": [
    "# select\n",
    "cursor = conn.execute(\"select id, name, address, salary from COMPANY\")\n",
    "                      \n",
    "for row in cursor:\n",
    "    print(\"ID=\", row[0])\n",
    "    print(\"Name=\", row[1])\n",
    "    print(\"ADDRESS=\", row[2])\n",
    "    print(\"SALARY=\", row[3], end='\\n\\n')\n",
    "\n",
    "print(\"Operation done successfully\")"
   ]
  },
  {
   "cell_type": "code",
   "execution_count": 52,
   "metadata": {
    "scrolled": true
   },
   "outputs": [
    {
     "data": {
      "text/plain": [
       "(2, 5)"
      ]
     },
     "execution_count": 52,
     "metadata": {},
     "output_type": "execute_result"
    }
   ],
   "source": [
    "cur.lastrowid, conn.total_changes  # 총 5번 바뀌었다는 것 "
   ]
  },
  {
   "cell_type": "code",
   "execution_count": 54,
   "metadata": {},
   "outputs": [
    {
     "data": {
      "text/plain": [
       "<sqlite3.Cursor at 0x20957f3dc70>"
      ]
     },
     "execution_count": 54,
     "metadata": {},
     "output_type": "execute_result"
    }
   ],
   "source": [
    "cur.execute('select * from company')"
   ]
  },
  {
   "cell_type": "code",
   "execution_count": 55,
   "metadata": {
    "scrolled": false
   },
   "outputs": [
    {
     "name": "stdout",
     "output_type": "stream",
     "text": [
      "(1, 'A', 10, 'California', 2000.0)\n",
      "(2, 'B', 25, 'Texas', 1500.0)\n",
      "(3, 'C', 23, 'Norway', 20000.0)\n",
      "(4, 'D', 25, 'korea', 5000.0)\n",
      "(5, 'E', 24, 'RICH-MOND', 123123.0)\n"
     ]
    }
   ],
   "source": [
    "for row in cur:\n",
    "    print(row)"
   ]
  },
  {
   "cell_type": "code",
   "execution_count": 67,
   "metadata": {
    "scrolled": true
   },
   "outputs": [
    {
     "name": "stdout",
     "output_type": "stream",
     "text": [
      "Records created successfully\n"
     ]
    }
   ],
   "source": [
    "cid=1 \n",
    "cur.execute(\"update company set salary = 25000.00 where ID = :id\", {'id':cid})\n",
    "conn.commit()\n",
    "print(\"Records created successfully\")"
   ]
  },
  {
   "cell_type": "code",
   "execution_count": 61,
   "metadata": {},
   "outputs": [],
   "source": [
    "# delete\n",
    "cur.execute(\"DELETE from company where ID=2;\")"
   ]
  },
  {
   "cell_type": "code",
   "execution_count": null,
   "metadata": {},
   "outputs": [],
   "source": [
    "# locked 에러 생길 때 \n",
    "# pdf DB 생성(열기), cursor 생성 - 참조"
   ]
  },
  {
   "cell_type": "code",
   "execution_count": null,
   "metadata": {},
   "outputs": [],
   "source": [
    "# DDL - create"
   ]
  },
  {
   "cell_type": "code",
   "execution_count": null,
   "metadata": {},
   "outputs": [],
   "source": [
    "# 기본키 primary key / 참조키 foreign key "
   ]
  },
  {
   "cell_type": "code",
   "execution_count": 9,
   "metadata": {
    "scrolled": true
   },
   "outputs": [
    {
     "data": {
      "text/plain": [
       "<sqlite3.Cursor at 0x2712b07ce30>"
      ]
     },
     "execution_count": 9,
     "metadata": {},
     "output_type": "execute_result"
    }
   ],
   "source": [
    "# close: db를 닫는것\n",
    "cur.execute('drop table track') # 테이블만 내리는것 "
   ]
  },
  {
   "cell_type": "code",
   "execution_count": 17,
   "metadata": {},
   "outputs": [],
   "source": [
    "cur.commit()"
   ]
  },
  {
   "cell_type": "code",
   "execution_count": 11,
   "metadata": {
    "scrolled": true
   },
   "outputs": [
    {
     "name": "stdout",
     "output_type": "stream",
     "text": [
      "Opened database successfully\n"
     ]
    },
    {
     "data": {
      "text/plain": [
       "<sqlite3.Cursor at 0x2712b176110>"
      ]
     },
     "execution_count": 11,
     "metadata": {},
     "output_type": "execute_result"
    }
   ],
   "source": [
    "cur=sqlite3.connect('create.db')\n",
    "print(\"Opened database successfully\")\n",
    "\n",
    "cur.executescript(\"\"\"\n",
    "    create table artist( \n",
    "        id integer not null primary key autoincrement unique, \n",
    "        name text);\n",
    "    create table genre(\n",
    "        id integer not null primary key autoincrement unique,\n",
    "        name text);        \n",
    "    create table album(\n",
    "        id integer not null primary key autoincrement unique,\n",
    "        title text, \n",
    "        artist_id integer);    \n",
    "    create table track(\n",
    "        id integer not null primary key autoincrement unique,\n",
    "        title text,\n",
    "        length integer,\n",
    "        rating integer,\n",
    "        count integer,\n",
    "        album_id integer,\n",
    "        genre_id integer);\n",
    "        \n",
    "    \n",
    "    insert into artist(name) values('Led Zepplin');\n",
    "    insert into artist(name) values('AC/DC');\n",
    "\n",
    "    insert into genre(name) values('Rock');\n",
    "    insert into genre(name) values('Metal');\n",
    "    insert into album(title, artist_id) values ('Who made who',2);\n",
    "    insert into album(title, artist_id)values('IV',1);\n",
    "\n",
    "    insert into track(title, rating, length, count, album_id, genre_id)values ('Black Dog',5, 297, 0, 2, 1);\n",
    "    insert into track(title, rating, length, count, album_id, genre_id)values ('Stairway',5, 482, 0, 2, 1);\n",
    "    insert into track(title, rating, length, count, album_id, genre_id)values ('Happy Day',5, 313, 0, 1, 2);\n",
    "    insert into track(title, rating, length, count, album_id, genre_id)values ('Wanna',5, 207, 0, 1, 2);\n",
    "\"\"\")"
   ]
  },
  {
   "cell_type": "code",
   "execution_count": 12,
   "metadata": {},
   "outputs": [
    {
     "data": {
      "text/plain": [
       "\"\\nselect id\\nfrom artist\\nwhere name='Led Zepplin'\\n\""
      ]
     },
     "execution_count": 12,
     "metadata": {},
     "output_type": "execute_result"
    }
   ],
   "source": [
    "    \"\"\"\n",
    "    select id\n",
    "    from artist\n",
    "    where name='Led Zepplin'\n",
    "    \"\"\""
   ]
  },
  {
   "cell_type": "code",
   "execution_count": 29,
   "metadata": {
    "scrolled": true
   },
   "outputs": [
    {
     "ename": "OperationalError",
     "evalue": "unrecognized token: \":\"",
     "output_type": "error",
     "traceback": [
      "\u001b[1;31m---------------------------------------------------------------------------\u001b[0m",
      "\u001b[1;31mOperationalError\u001b[0m                          Traceback (most recent call last)",
      "\u001b[1;32m<ipython-input-29-01f66e097521>\u001b[0m in \u001b[0;36m<module>\u001b[1;34m\u001b[0m\n\u001b[0;32m      5\u001b[0m         \u001b[1;32mfrom\u001b[0m \u001b[0martist\u001b[0m\u001b[1;33m\u001b[0m\u001b[1;33m\u001b[0m\u001b[0m\n\u001b[0;32m      6\u001b[0m         where name =: artist))\n\u001b[1;32m----> 7\u001b[1;33m \"\"\",{\"album\":\"앨범이름\", \"artist\":\"가수이름\"})\n\u001b[0m",
      "\u001b[1;31mOperationalError\u001b[0m: unrecognized token: \":\""
     ]
    }
   ],
   "source": [
    "cur.execute(\"\"\"\n",
    "    insert into album(name, artist_id)\n",
    "    values(:album, \n",
    "        (select id\n",
    "        from artist\n",
    "        where name =: artist))\n",
    "\"\"\",{\"album\":\"앨범이름\", \"artist\":\"가수이름\"})"
   ]
  },
  {
   "cell_type": "code",
   "execution_count": 14,
   "metadata": {},
   "outputs": [],
   "source": [
    "# executemany로 구하는 법\n",
    "\n",
    "# data = [('manually added','zara'),(\"The Don Killuminati: The 7 Day Theory\",\"tupac\"),('Morning Glory?','oasis')]\n",
    "\n",
    "# cur.executemany(\"\"\"\n",
    "#     insert into album (title, artist_id)\n",
    "#     values (?,(select id from artist where name=?));\n",
    "#     \"\"\",data);\n",
    "\n",
    "# conn.commit()"
   ]
  },
  {
   "cell_type": "code",
   "execution_count": 19,
   "metadata": {
    "scrolled": false
   },
   "outputs": [
    {
     "data": {
      "text/plain": [
       "<sqlite3.Cursor at 0x2712b176c70>"
      ]
     },
     "execution_count": 19,
     "metadata": {},
     "output_type": "execute_result"
    }
   ],
   "source": [
    "# inner_ join \n",
    "\n",
    "cur.execute('''\n",
    "Select album.title, artist.name\n",
    "from album \n",
    "join artist on album.artist_id=artist.id\n",
    "''')\n",
    "\n",
    "# cur.execute('''\n",
    "# select Album.name,Aritst.name\n",
    "# from Album\n",
    "# join Aritst on Album.artist_id = Aritst.id\n",
    "# ''')"
   ]
  },
  {
   "cell_type": "code",
   "execution_count": 23,
   "metadata": {},
   "outputs": [
    {
     "data": {
      "text/plain": [
       "<sqlite3.Cursor at 0x2712b411b90>"
      ]
     },
     "execution_count": 23,
     "metadata": {},
     "output_type": "execute_result"
    }
   ],
   "source": [
    "cur.execute(\"\"\"\n",
    "select album.title, track.title\n",
    "from track\n",
    "join album on\n",
    "track.album_id = album.id\n",
    "\"\"\")"
   ]
  },
  {
   "cell_type": "code",
   "execution_count": 24,
   "metadata": {},
   "outputs": [],
   "source": [
    "cur.commit()"
   ]
  },
  {
   "cell_type": "code",
   "execution_count": 28,
   "metadata": {},
   "outputs": [
    {
     "data": {
      "text/plain": [
       "<sqlite3.Cursor at 0x2712b513340>"
      ]
     },
     "execution_count": 28,
     "metadata": {},
     "output_type": "execute_result"
    }
   ],
   "source": [
    "cur.execute(\"\"\"\n",
    "select track.title,artist.name, album.title, genre.name\n",
    "from track\n",
    "join artist join album join genre on\n",
    "track.album_id=album.id\n",
    "and\n",
    "track.genre_id=genre.id\n",
    "and\n",
    "album.artist_id=artist.id\n",
    "\"\"\")"
   ]
  },
  {
   "cell_type": "code",
   "execution_count": null,
   "metadata": {},
   "outputs": [],
   "source": []
  },
  {
   "cell_type": "code",
   "execution_count": null,
   "metadata": {},
   "outputs": [],
   "source": []
  },
  {
   "cell_type": "code",
   "execution_count": null,
   "metadata": {},
   "outputs": [],
   "source": []
  },
  {
   "cell_type": "code",
   "execution_count": null,
   "metadata": {},
   "outputs": [],
   "source": []
  },
  {
   "cell_type": "code",
   "execution_count": null,
   "metadata": {},
   "outputs": [],
   "source": []
  },
  {
   "cell_type": "code",
   "execution_count": null,
   "metadata": {},
   "outputs": [],
   "source": []
  },
  {
   "cell_type": "code",
   "execution_count": null,
   "metadata": {},
   "outputs": [],
   "source": []
  },
  {
   "cell_type": "code",
   "execution_count": null,
   "metadata": {},
   "outputs": [],
   "source": []
  }
 ],
 "metadata": {
  "kernelspec": {
   "display_name": "Python 3",
   "language": "python",
   "name": "python3"
  },
  "language_info": {
   "codemirror_mode": {
    "name": "ipython",
    "version": 3
   },
   "file_extension": ".py",
   "mimetype": "text/x-python",
   "name": "python",
   "nbconvert_exporter": "python",
   "pygments_lexer": "ipython3",
   "version": "3.7.3"
  }
 },
 "nbformat": 4,
 "nbformat_minor": 2
}
