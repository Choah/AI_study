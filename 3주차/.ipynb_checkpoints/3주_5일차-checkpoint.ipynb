{
 "cells": [
  {
   "cell_type": "markdown",
   "metadata": {},
   "source": [
    "## Preprocessing (1)\n",
    "\n",
    "- text mining - NLP\n",
    "\n",
    "- 자연어 분석 \n",
    "        - 형태소 분석 - stemming(어간 추출)\n",
    "        - 구문 분석 - 주어, 목적어 ,서술어\n",
    "        - 의미 분석 - 올바른 문장\n",
    "        - 담론 분석 - 대화 흐름상 \n",
    "        \n",
    "    - 어간: 단어\n",
    "    - 어근: 단어의 형태소 (?)\n",
    "    - 음절: 소리가 나는 최소의 단위 \n",
    "    - 음소: 하나의 음절을 구분하는 단위 \n",
    "        \n",
    "- large scale -> 하나의 문서 하나의 객체(벡터화), Vectorize\n",
    "- vector -> orthogonal -> word embedding  \n",
    "\n",
    "- NLTK : 언어데이터  corpora lexical \n",
    "\n",
    "- input text(unstructured) -> senten spliting -> Tokenizing -> Part of seech(POS) tagging -> Named entity recongnition "
   ]
  },
  {
   "cell_type": "code",
   "execution_count": 1,
   "metadata": {},
   "outputs": [
    {
     "name": "stdout",
     "output_type": "stream",
     "text": [
      "Requirement already satisfied: nltk in c:\\users\\cho gyung ah\\anaconda3\\lib\\site-packages (3.4)\n",
      "Requirement already satisfied: six in c:\\users\\cho gyung ah\\anaconda3\\lib\\site-packages (from nltk) (1.12.0)\n",
      "Requirement already satisfied: singledispatch in c:\\users\\cho gyung ah\\anaconda3\\lib\\site-packages (from nltk) (3.4.0.3)\n"
     ]
    }
   ],
   "source": [
    "!pip install nltk"
   ]
  },
  {
   "cell_type": "code",
   "execution_count": 1,
   "metadata": {},
   "outputs": [
    {
     "name": "stderr",
     "output_type": "stream",
     "text": [
      "[nltk_data] Downloading package brown to C:\\Users\\Cho Gyung\n",
      "[nltk_data]     Ah\\AppData\\Roaming\\nltk_data...\n",
      "[nltk_data]   Package brown is already up-to-date!\n",
      "[nltk_data] Downloading package gutenberg to C:\\Users\\Cho Gyung\n",
      "[nltk_data]     Ah\\AppData\\Roaming\\nltk_data...\n",
      "[nltk_data]   Package gutenberg is already up-to-date!\n"
     ]
    },
    {
     "data": {
      "text/plain": [
       "True"
      ]
     },
     "execution_count": 1,
     "metadata": {},
     "output_type": "execute_result"
    }
   ],
   "source": [
    "import nltk \n",
    "\n",
    "nltk.download('brown')\n",
    "nltk.download('gutenberg')"
   ]
  },
  {
   "cell_type": "code",
   "execution_count": 2,
   "metadata": {},
   "outputs": [],
   "source": [
    "from nltk.corpus import brown, gutenberg"
   ]
  },
  {
   "cell_type": "code",
   "execution_count": null,
   "metadata": {},
   "outputs": [],
   "source": []
  },
  {
   "cell_type": "code",
   "execution_count": 3,
   "metadata": {
    "scrolled": true
   },
   "outputs": [
    {
     "name": "stderr",
     "output_type": "stream",
     "text": [
      "[nltk_data] Downloading package punkt to C:\\Users\\Cho Gyung\n",
      "[nltk_data]     Ah\\AppData\\Roaming\\nltk_data...\n",
      "[nltk_data]   Package punkt is already up-to-date!\n"
     ]
    },
    {
     "data": {
      "text/plain": [
       "True"
      ]
     },
     "execution_count": 3,
     "metadata": {},
     "output_type": "execute_result"
    }
   ],
   "source": [
    "# Tokenize\n",
    "from nltk.tokenize import sent_tokenize \n",
    "nltk.download('punkt')"
   ]
  },
  {
   "cell_type": "code",
   "execution_count": 4,
   "metadata": {},
   "outputs": [],
   "source": [
    "import sqlite3\n",
    "con = sqlite3.connect(\"news.db\")\n",
    "cur = con.cursor()"
   ]
  },
  {
   "cell_type": "code",
   "execution_count": 5,
   "metadata": {},
   "outputs": [],
   "source": [
    "cur.execute(\"\"\"\n",
    "    SELECT content\n",
    "    FROM table2\n",
    "    ORDER BY id ASC\n",
    "\"\"\")\n",
    "\n",
    "corpus = [_[0] for _ in cur.fetchall()]"
   ]
  },
  {
   "cell_type": "code",
   "execution_count": 18,
   "metadata": {
    "scrolled": true
   },
   "outputs": [
    {
     "ename": "AttributeError",
     "evalue": "'list' object has no attribute 'split'",
     "output_type": "error",
     "traceback": [
      "\u001b[1;31m---------------------------------------------------------------------------\u001b[0m",
      "\u001b[1;31mAttributeError\u001b[0m                            Traceback (most recent call last)",
      "\u001b[1;32m<ipython-input-18-be8845b64087>\u001b[0m in \u001b[0;36m<module>\u001b[1;34m\u001b[0m\n\u001b[0;32m      2\u001b[0m \u001b[0msentences\u001b[0m \u001b[1;33m=\u001b[0m \u001b[0msent_tokenize\u001b[0m\u001b[1;33m(\u001b[0m\u001b[0mcorpus\u001b[0m\u001b[1;33m[\u001b[0m\u001b[1;36m0\u001b[0m\u001b[1;33m]\u001b[0m\u001b[1;33m)\u001b[0m\u001b[1;33m\u001b[0m\u001b[1;33m\u001b[0m\u001b[0m\n\u001b[0;32m      3\u001b[0m \u001b[1;33m\u001b[0m\u001b[0m\n\u001b[1;32m----> 4\u001b[1;33m \u001b[0mprint\u001b[0m\u001b[1;33m(\u001b[0m\u001b[0mlen\u001b[0m\u001b[1;33m(\u001b[0m\u001b[0msentences\u001b[0m\u001b[1;33m.\u001b[0m\u001b[0msplit\u001b[0m\u001b[1;33m(\u001b[0m\u001b[1;33m)\u001b[0m\u001b[1;33m)\u001b[0m\u001b[1;33m)\u001b[0m\u001b[1;33m\u001b[0m\u001b[1;33m\u001b[0m\u001b[0m\n\u001b[0m\u001b[0;32m      5\u001b[0m \u001b[0mprint\u001b[0m\u001b[1;33m(\u001b[0m\u001b[0msentences\u001b[0m\u001b[1;33m[\u001b[0m\u001b[1;33m:\u001b[0m\u001b[1;36m3\u001b[0m\u001b[1;33m]\u001b[0m\u001b[1;33m)\u001b[0m\u001b[1;33m\u001b[0m\u001b[1;33m\u001b[0m\u001b[0m\n",
      "\u001b[1;31mAttributeError\u001b[0m: 'list' object has no attribute 'split'"
     ]
    }
   ],
   "source": [
    "# corpus \n",
    "sentences = sent_tokenize(corpus[0])\n",
    "\n",
    "print(len(sentences.split()))\n",
    "print(sentences[:3])"
   ]
  },
  {
   "cell_type": "code",
   "execution_count": 19,
   "metadata": {
    "scrolled": true
   },
   "outputs": [
    {
     "data": {
      "text/plain": [
       "['\"추경안 원안 처리 조건은 아니다…경제정책 수정 있어야\"\\n\\n(서울=연합뉴스) 이한승 기자 = 자유한국당은 19일 더불어민주당을 향해 추가경정예산안 처리의 조건으로 이날 중 북한 목선의 삼척항 입항 사건 국정조사를 수용하거나, 다음 주 \\'투 포인트\\' 국회를 열어 정경두 국방부 장관에 대한 해임건의안 표결을 실시할 것을 요구했다.',\n",
       " '원내대책회의에서 발언하는 나경원(서울=연합뉴스) 김주형 기자 = 자유한국당 나경원 원내대표가 19일 오전 국회에서 열린 원내대책회의에서 발언하고 있다.',\n",
       " '2019.7.19 kjhpress@yna.co.kr\\n\\n\\n나경원 원내대표는 6월 임시국회 마지막 날인 이날 국회에서 열린 원내대책회의에서 \"군 기강 해이에 대한 진실을 밝히는 국정조사를 하거나 이에 대한 책임을 묻는 국방부 장관에 대한 해임건의안에 대한 표결은 당연히 해야 하는 것\"이라고 밝혔다.',\n",
       " '그는 \"국정조사를 받으면 오늘 안에 나머지 법안과 추가경정예산안을 심사해 할 건 하고 뺄 건 빼겠다\"며 \"아니면 다음 주 투 포인트 국회를 열어달라.',\n",
       " '하루는 국방부 장관에 대한 해임건의안을 보고하고, 하루는 추경안과 해임건의안을 표결해야 한다\"고 말했다.',\n",
       " '그러면서 \"여당은 두 가지 중에서 하나를 선택해달라\"며 \"그것이 국회가 해야 할 최소한의 책무를 다하는 것\"이라고 덧붙였다.',\n",
       " '전날 문재인 대통령과 5당 대표의 회동과 관련해서는 \"정 장관의 거취에 대한 답이 있을 줄 알았다.',\n",
       " '외교·안보라인의 교체에 대해서는 답도 없이 추경 통과만을 강조했다\"며 \"답답함을 넘어 절망감을 느꼈다\"고 밝혔다.',\n",
       " '그는 \"급기야 한일 군사정보보호협정 폐기까지 언급했다.',\n",
       " '당장 일본의 보복 조치에 대응하기 위해 우리 안보마저 볼모로 삼겠다는 것이다\"라며 \"외교적 해법을 호소하는데 이 정권은 단교적 해법을 찾는 거 같다\"고 비판했다.',\n",
       " '나 원내대표는 회의를 마친 뒤 기자들을 만나 \\'여당이 오늘 국조를 받거나 다음 주 국방부 장관 해임안을 처리하면 추경안을 처리하느냐\\'는 질문에 \"추경안 원안 처리 조건은 아니다.',\n",
       " '추경안 하나하나를 심사하고 있다\"며 \"이것은 국회를 정상화하는 문제\"라고 답했다.',\n",
       " '그는 이어 \"추경안을 도깨비방망이처럼 말하는 것은 매우 잘못이다.',\n",
       " '추경안뿐만 아니라 일본의 무역 보복에 대응하기 위해 적어도 경제정책에 조금은 수정이 있어야 한다.',\n",
       " '선택근로제나 주 52시간 예외업종 확대 등이 필요하다\"고 덧붙였다.',\n",
       " '국정조사의 범위에 대해서는 \"한국당은 삼척항 입항 사건과 교과서 불법 수정 사건에 대해 국정조사 요구서를 제출했다\"며 \"탄력적으로 검토하겠다\"고 답했다.',\n",
       " '또 한국당 몫의 사법개혁특별위원장 선임과 관련해 \"가급적 빨리 결정하겠다.',\n",
       " '검찰 개혁, 검·경 수사권 조정, 법원 개혁 문제 등에 전문성이 있고 치우치지 않는 분으로 하겠다\"며 \"한국당의 안을 포함해 원점에서 논의해야 한다\"고 설명했다.',\n",
       " 'jesus7864@yna.co.kr\\n\\n▶확 달라진 연합뉴스 웹을 만나보세요\\n\\n▶네이버 [연합뉴스] 채널 구독 ▶뭐 하고 놀까?',\n",
       " '#흥']"
      ]
     },
     "execution_count": 19,
     "metadata": {},
     "output_type": "execute_result"
    }
   ],
   "source": [
    "sentences"
   ]
  },
  {
   "cell_type": "code",
   "execution_count": 6,
   "metadata": {
    "scrolled": true
   },
   "outputs": [
    {
     "data": {
      "text/plain": [
       "27"
      ]
     },
     "execution_count": 6,
     "metadata": {},
     "output_type": "execute_result"
    }
   ],
   "source": [
    "len(corpus)"
   ]
  },
  {
   "cell_type": "code",
   "execution_count": 7,
   "metadata": {},
   "outputs": [
    {
     "data": {
      "text/plain": [
       "(1468, 325, 30)"
      ]
     },
     "execution_count": 7,
     "metadata": {},
     "output_type": "execute_result"
    }
   ],
   "source": [
    "len(corpus[0]), len(corpus[0].split()), len(corpus[0].splitlines())"
   ]
  },
  {
   "cell_type": "code",
   "execution_count": 8,
   "metadata": {},
   "outputs": [
    {
     "data": {
      "text/plain": [
       "20"
      ]
     },
     "execution_count": 8,
     "metadata": {},
     "output_type": "execute_result"
    }
   ],
   "source": [
    "from nltk.tokenize import sent_tokenize\n",
    "len(sent_tokenize(corpus[0]))"
   ]
  },
  {
   "cell_type": "code",
   "execution_count": 9,
   "metadata": {},
   "outputs": [
    {
     "data": {
      "text/plain": [
       "'\"추경안 원안 처리 조건은 아니다…경제정책 수정 있어야\"'"
      ]
     },
     "execution_count": 9,
     "metadata": {},
     "output_type": "execute_result"
    }
   ],
   "source": [
    "corpus[0].splitlines()[0]"
   ]
  },
  {
   "cell_type": "code",
   "execution_count": 10,
   "metadata": {
    "scrolled": true
   },
   "outputs": [
    {
     "data": {
      "text/plain": [
       "'\"추경안 원안 처리 조건은 아니다…경제정책 수정 있어야\"\\n\\n(서울=연합뉴스) 이한승 기자 = 자유한국당은 19일 더불어민주당을 향해 추가경정예산안 처리의 조건으로 이날 중 북한 목선의 삼척항 입항 사건 국정조사를 수용하거나, 다음 주 \\'투 포인트\\' 국회를 열어 정경두 국방부 장관에 대한 해임건의안 표결을 실시할 것을 요구했다.'"
      ]
     },
     "execution_count": 10,
     "metadata": {},
     "output_type": "execute_result"
    }
   ],
   "source": [
    "sent_tokenize(corpus[0])[0]"
   ]
  },
  {
   "cell_type": "code",
   "execution_count": 11,
   "metadata": {},
   "outputs": [
    {
     "data": {
      "text/plain": [
       "['MeCab']"
      ]
     },
     "execution_count": 11,
     "metadata": {},
     "output_type": "execute_result"
    }
   ],
   "source": [
    "sent_tokenize(\"MeCab\")"
   ]
  },
  {
   "cell_type": "code",
   "execution_count": 12,
   "metadata": {},
   "outputs": [
    {
     "data": {
      "text/plain": [
       "['\\n    Life is too short, Life is too short!',\n",
       " 'Life is too short 안녕.',\n",
       " '하이!',\n",
       " '바이\\n    세월아 네월아... 세월아 \"네월\".']"
      ]
     },
     "execution_count": 12,
     "metadata": {},
     "output_type": "execute_result"
    }
   ],
   "source": [
    "sent_tokenize(\"\"\"\n",
    "    Life is too short, Life is too short!\n",
    "    Life is too short 안녕. 하이! 바이\n",
    "    세월아 네월아... 세월아 \"네월\".\n",
    "\"\"\")"
   ]
  },
  {
   "cell_type": "code",
   "execution_count": 13,
   "metadata": {
    "scrolled": true
   },
   "outputs": [
    {
     "data": {
      "text/plain": [
       "'!\"#$%&\\'()*+,-./:;<=>?@[\\\\]^_`{|}~'"
      ]
     },
     "execution_count": 13,
     "metadata": {},
     "output_type": "execute_result"
    }
   ],
   "source": [
    "from string import punctuation\n",
    "punctuation # 구두점들 "
   ]
  },
  {
   "cell_type": "code",
   "execution_count": 25,
   "metadata": {},
   "outputs": [
    {
     "data": {
      "text/plain": [
       "['Life',\n",
       " 'is',\n",
       " 'too',\n",
       " 'short',\n",
       " '.',\n",
       " '``',\n",
       " '안녕',\n",
       " \"''\",\n",
       " '하',\n",
       " \"'\",\n",
       " '세',\n",
       " \"'\",\n",
       " '요',\n",
       " '.']"
      ]
     },
     "execution_count": 25,
     "metadata": {},
     "output_type": "execute_result"
    }
   ],
   "source": [
    "from nltk.tokenize import word_tokenize\n",
    "\n",
    "word_tokenize(\"\"\"Life is too short. \"안녕\"하세요.\"\"\") # 어절 "
   ]
  },
  {
   "cell_type": "code",
   "execution_count": 27,
   "metadata": {
    "scrolled": false
   },
   "outputs": [
    {
     "data": {
      "text/plain": [
       "(414, 20)"
      ]
     },
     "execution_count": 27,
     "metadata": {},
     "output_type": "execute_result"
    }
   ],
   "source": [
    "len(word_tokenize(corpus[0])), len(sent_tokenize(corpus[0])), "
   ]
  },
  {
   "cell_type": "code",
   "execution_count": 30,
   "metadata": {},
   "outputs": [
    {
     "ename": "ModuleNotFoundError",
     "evalue": "No module named 'konlpy'",
     "output_type": "error",
     "traceback": [
      "\u001b[1;31m---------------------------------------------------------------------------\u001b[0m",
      "\u001b[1;31mModuleNotFoundError\u001b[0m                       Traceback (most recent call last)",
      "\u001b[1;32m<ipython-input-30-e70ae01da3aa>\u001b[0m in \u001b[0;36m<module>\u001b[1;34m\u001b[0m\n\u001b[1;32m----> 1\u001b[1;33m \u001b[1;32mfrom\u001b[0m \u001b[0mkonlpy\u001b[0m\u001b[1;33m.\u001b[0m\u001b[0mtag\u001b[0m \u001b[1;32mimport\u001b[0m \u001b[0mKkma\u001b[0m\u001b[1;33m\u001b[0m\u001b[1;33m\u001b[0m\u001b[0m\n\u001b[0m",
      "\u001b[1;31mModuleNotFoundError\u001b[0m: No module named 'konlpy'"
     ]
    }
   ],
   "source": [
    "# 모듈이 없어서 작동 안됨 \n",
    "from konlpy.tag import Kkma"
   ]
  },
  {
   "cell_type": "code",
   "execution_count": 31,
   "metadata": {},
   "outputs": [
    {
     "ename": "NameError",
     "evalue": "name 'Kkma' is not defined",
     "output_type": "error",
     "traceback": [
      "\u001b[1;31m---------------------------------------------------------------------------\u001b[0m",
      "\u001b[1;31mNameError\u001b[0m                                 Traceback (most recent call last)",
      "\u001b[1;32m<ipython-input-31-1d08d0892d3e>\u001b[0m in \u001b[0;36m<module>\u001b[1;34m\u001b[0m\n\u001b[1;32m----> 1\u001b[1;33m \u001b[0mlen\u001b[0m\u001b[1;33m(\u001b[0m\u001b[0mKkma\u001b[0m\u001b[1;33m(\u001b[0m\u001b[1;33m)\u001b[0m\u001b[1;33m.\u001b[0m\u001b[0mmorphs\u001b[0m\u001b[1;33m(\u001b[0m\u001b[0mcorpus\u001b[0m\u001b[1;33m[\u001b[0m\u001b[1;36m0\u001b[0m\u001b[1;33m]\u001b[0m\u001b[1;33m)\u001b[0m\u001b[1;33m)\u001b[0m\u001b[1;33m,\u001b[0m \u001b[0mlen\u001b[0m\u001b[1;33m(\u001b[0m\u001b[0mword_tokenize\u001b[0m\u001b[1;33m(\u001b[0m\u001b[0mcorpus\u001b[0m\u001b[1;33m[\u001b[0m\u001b[1;36m0\u001b[0m\u001b[1;33m]\u001b[0m\u001b[1;33m)\u001b[0m\u001b[1;33m)\u001b[0m\u001b[1;33m\u001b[0m\u001b[1;33m\u001b[0m\u001b[0m\n\u001b[0m",
      "\u001b[1;31mNameError\u001b[0m: name 'Kkma' is not defined"
     ]
    }
   ],
   "source": [
    "len(Kkma().morphs(corpus[0])), len(word_tokenize(corpus[0]))"
   ]
  },
  {
   "cell_type": "code",
   "execution_count": null,
   "metadata": {},
   "outputs": [],
   "source": [
    "from nltk.tokenize import TweetTokenizer\n",
    "# 트위터에서 사용하기 때문에 =) 이런 이모티콘 인식이 중요\n",
    "word_tokenize(\"You need ython =)\")"
   ]
  },
  {
   "cell_type": "code",
   "execution_count": 37,
   "metadata": {},
   "outputs": [
    {
     "data": {
      "text/plain": [
       "['You', 'need', 'Python', '=)', ';|']"
      ]
     },
     "execution_count": 37,
     "metadata": {},
     "output_type": "execute_result"
    }
   ],
   "source": [
    "TweetTokenizer().tokenize(\"You need Python =) ;|\") # 트위터 여기에서는 =) 이걸 인식함 "
   ]
  },
  {
   "cell_type": "code",
   "execution_count": 41,
   "metadata": {},
   "outputs": [
    {
     "data": {
      "text/plain": [
       "['You', 'need', 'Python', '12', '한1231글', '한', '글']"
      ]
     },
     "execution_count": 41,
     "metadata": {},
     "output_type": "execute_result"
    }
   ],
   "source": [
    "import re\n",
    "from nltk.tokenize import regexp_tokenize # 정규식으로 토큰나이즈... 잘 안씀\n",
    "pattern = re.compile(r\"\\b(\\w+)\\b\") # \\b word boundary 이기 때문에 앞뒤 띄어쓰기 중간 영어 단어 -> 어절\n",
    "regexp_tokenize(\"You need Python!!! 12 한1231글 한!@#글\", pattern) # \\w-> 모든영어,-,_,..123"
   ]
  },
  {
   "cell_type": "code",
   "execution_count": 46,
   "metadata": {},
   "outputs": [
    {
     "data": {
      "text/plain": [
       "['한', '글']"
      ]
     },
     "execution_count": 46,
     "metadata": {},
     "output_type": "execute_result"
    }
   ],
   "source": [
    "import re\n",
    "from nltk.tokenize import regexp_tokenize # 정규식으로 토큰나이즈... 잘 안씀\n",
    "pattern = re.compile(r\"\\b([가-힣]+)\\b\") # \\b word boundary 이기 때문에 앞뒤 띄어쓰기 중간 영어 단어 -> 어절\n",
    "regexp_tokenize(\"You need Python!!! 12 한1231글 ㅠㅠ 한!@#글\", pattern)  # 문어체만 표현이 된다."
   ]
  },
  {
   "cell_type": "code",
   "execution_count": 55,
   "metadata": {},
   "outputs": [
    {
     "data": {
      "text/plain": [
       "['한글']"
      ]
     },
     "execution_count": 55,
     "metadata": {},
     "output_type": "execute_result"
    }
   ],
   "source": [
    "regexp_tokenize(re.sub(r\"[^ ㄱ-ㅎㅏ-ㅣ가-힣]\",\"\", \"ㅠㅠ ㅜㅜ ㅋㅋ 한!@#글\"), pattern)"
   ]
  },
  {
   "cell_type": "code",
   "execution_count": 62,
   "metadata": {},
   "outputs": [],
   "source": [
    "from nltk import Text\n",
    "text = Text(word_tokenize(corpus[0]))"
   ]
  },
  {
   "cell_type": "code",
   "execution_count": 67,
   "metadata": {},
   "outputs": [
    {
     "data": {
      "text/plain": [
       "(277, 414)"
      ]
     },
     "execution_count": 67,
     "metadata": {},
     "output_type": "execute_result"
    }
   ],
   "source": [
    "text.vocab().B(), text.vocab().N()"
   ]
  },
  {
   "cell_type": "code",
   "execution_count": 68,
   "metadata": {
    "scrolled": true
   },
   "outputs": [
    {
     "data": {
      "text/plain": [
       "[('.', 18),\n",
       " ('``', 17),\n",
       " (\"''\", 17),\n",
       " ('대한', 7),\n",
       " ('며', 6),\n",
       " ('고', 6),\n",
       " (',', 4),\n",
       " ('주', 4),\n",
       " ('국방부', 4),\n",
       " ('추경안', 3),\n",
       " ('국정조사를', 3),\n",
       " ('다음', 3),\n",
       " (\"'\", 3),\n",
       " ('국회를', 3),\n",
       " ('장관에', 3),\n",
       " ('원내대책회의에서', 3),\n",
       " ('나경원', 3),\n",
       " ('그는', 3),\n",
       " ('한다', 3),\n",
       " ('원안', 2),\n",
       " ('처리', 2),\n",
       " ('조건은', 2),\n",
       " ('수정', 2),\n",
       " ('있어야', 2),\n",
       " ('(', 2),\n",
       " ('서울=연합뉴스', 2),\n",
       " (')', 2),\n",
       " ('기자', 2),\n",
       " ('=', 2),\n",
       " ('19일', 2)]"
      ]
     },
     "execution_count": 68,
     "metadata": {},
     "output_type": "execute_result"
    }
   ],
   "source": [
    "text.vocab().most_common(30)"
   ]
  },
  {
   "cell_type": "code",
   "execution_count": 70,
   "metadata": {},
   "outputs": [
    {
     "data": {
      "image/png": "[encoded data removed]",
      "text/plain": [
       "<Figure size 432x288 with 1 Axes>"
      ]
     },
     "metadata": {
      "needs_background": "light"
     },
     "output_type": "display_data"
    }
   ],
   "source": [
    "text.plot(30)"
   ]
  },
  {
   "cell_type": "markdown",
   "metadata": {},
   "source": [
    "### Empirical Law\n",
    "\n",
    "#### Zipf's Law : an empirical law\n",
    "            - frequency of word is inversely proportional to its rank in frequency table \n",
    "            - most frequent word wil occur approximately twice as ofen as he second most frequent word "
   ]
  },
  {
   "cell_type": "markdown",
   "metadata": {},
   "source": [
    "- 단어 빈도를 가지고 자르긴 어렵고, 순위화시켜서 자를 순 있다. \n",
    "- 상하위 20%를 버리고 시작한다. "
   ]
  },
  {
   "cell_type": "code",
   "execution_count": 74,
   "metadata": {},
   "outputs": [
    {
     "data": {
      "text/plain": [
       "0.00966183574879227"
      ]
     },
     "execution_count": 74,
     "metadata": {},
     "output_type": "execute_result"
    }
   ],
   "source": [
    "text.vocab().freq(\"국방부\") # TOP K개에 들어가는 애들 빈도 "
   ]
  },
  {
   "cell_type": "code",
   "execution_count": 81,
   "metadata": {
    "scrolled": true
   },
   "outputs": [
    {
     "name": "stdout",
     "output_type": "stream",
     "text": [
      "0.043478260869565216\n",
      "0.04106280193236715\n",
      "0.04106280193236715\n",
      "0.016908212560386472\n",
      "0.014492753623188406\n",
      "0.014492753623188406\n",
      "0.00966183574879227\n",
      "0.00966183574879227\n",
      "0.00966183574879227\n",
      "0.007246376811594203\n",
      "total: 0.2077294685990338\n"
     ]
    }
   ],
   "source": [
    "ratio = 0.0\n",
    "for _ in [_[0] for _ in text.vocab().most_common(10)]:\n",
    "          ratio += text.vocab().freq(_)\n",
    "          print(text.vocab().freq(_))\n",
    "\n",
    "print(\"total:\", ratio)"
   ]
  },
  {
   "cell_type": "code",
   "execution_count": 94,
   "metadata": {
    "scrolled": false
   },
   "outputs": [
    {
     "data": {
      "image/png": "[encoded data removed]",
      "text/plain": [
       "<Figure size 432x288 with 1 Axes>"
      ]
     },
     "metadata": {
      "needs_background": "light"
     },
     "output_type": "display_data"
    },
    {
     "data": {
      "text/plain": [
       "[<matplotlib.lines.Line2D at 0x2a17d9a35f8>]"
      ]
     },
     "execution_count": 94,
     "metadata": {},
     "output_type": "execute_result"
    },
    {
     "data": {
      "image/png": "[encoded data removed]",
      "text/plain": [
       "<Figure size 432x288 with 1 Axes>"
      ]
     },
     "metadata": {
      "needs_background": "light"
     },
     "output_type": "display_data"
    }
   ],
   "source": [
    "import matplotlib.pyplot as plt\n",
    "from math import log\n",
    "token = [_[0] for _ in sorted(text.vocab().items(), \n",
    "                             key = lambda x:x[1], reverse=True)]\n",
    "freq=[_[1]/text.vocab().most_common(1)[0][1] for _ in sorted(text.vocab().items(),\n",
    "                                                            key=lambda x:x[1], reverse=True)]\n",
    "_freq = [log(_) for _ in freq]\n",
    "rank = [1/(_+1) for _ in range(len(token))]\n",
    "_rank = [log(_) for _ in rank]\n",
    "plt.plot([i for i in range(len(token))], freq, \"r-\")\n",
    "plt.plot([i for i in range(len(token))], rank, \"b-\")\n",
    "plt.show()\n",
    "plt.plot([i for i in range(len(token))], _freq, \"r-\")\n",
    "plt.plot([i for i in range(len(token))], _rank, \"b-\") # (?) 뒤에거 직선? "
   ]
  },
  {
   "cell_type": "code",
   "execution_count": 178,
   "metadata": {},
   "outputs": [
    {
     "name": "stderr",
     "output_type": "stream",
     "text": [
      "[nltk_data] Downloading package stopwords to C:\\Users\\Cho Gyung\n",
      "[nltk_data]     Ah\\AppData\\Roaming\\nltk_data...\n",
      "[nltk_data]   Unzipping corpora\\stopwords.zip.\n"
     ]
    },
    {
     "data": {
      "text/plain": [
       "True"
      ]
     },
     "execution_count": 178,
     "metadata": {},
     "output_type": "execute_result"
    }
   ],
   "source": [
    "import nltk\n",
    "nltk.download('stopwords')"
   ]
  },
  {
   "cell_type": "markdown",
   "metadata": {},
   "source": [
    "##### 불용어 - 쓰면안되는 애들 걸러주는 알고리즘"
   ]
  },
  {
   "cell_type": "code",
   "execution_count": 179,
   "metadata": {},
   "outputs": [
    {
     "name": "stdout",
     "output_type": "stream",
     "text": [
      "i\n",
      "me\n",
      "my\n",
      "myself\n",
      "we\n",
      "our\n",
      "ours\n",
      "ourselves\n",
      "you\n",
      "you're\n",
      "you've\n",
      "you'll\n",
      "you'd\n",
      "your\n",
      "yours\n",
      "yourself\n",
      "yourselves\n",
      "he\n",
      "him\n",
      "his\n",
      "himself\n",
      "she\n",
      "she's\n",
      "her\n",
      "hers\n",
      "herself\n",
      "it\n",
      "it's\n",
      "its\n",
      "itself\n",
      "they\n",
      "them\n",
      "their\n",
      "theirs\n",
      "themselves\n",
      "what\n",
      "which\n",
      "who\n",
      "whom\n",
      "this\n",
      "that\n",
      "that'll\n",
      "these\n",
      "those\n",
      "am\n",
      "is\n",
      "are\n",
      "was\n",
      "were\n",
      "be\n",
      "been\n",
      "being\n",
      "have\n",
      "has\n",
      "had\n",
      "having\n",
      "do\n",
      "does\n",
      "did\n",
      "doing\n",
      "a\n",
      "an\n",
      "the\n",
      "and\n",
      "but\n",
      "if\n",
      "or\n",
      "because\n",
      "as\n",
      "until\n",
      "while\n",
      "of\n",
      "at\n",
      "by\n",
      "for\n",
      "with\n",
      "about\n",
      "against\n",
      "between\n",
      "into\n",
      "through\n",
      "during\n",
      "before\n",
      "after\n",
      "above\n",
      "below\n",
      "to\n",
      "from\n",
      "up\n",
      "down\n",
      "in\n",
      "out\n",
      "on\n",
      "off\n",
      "over\n",
      "under\n",
      "again\n",
      "further\n",
      "then\n",
      "once\n",
      "here\n",
      "there\n",
      "when\n",
      "where\n",
      "why\n",
      "how\n",
      "all\n",
      "any\n",
      "both\n",
      "each\n",
      "few\n",
      "more\n",
      "most\n",
      "other\n",
      "some\n",
      "such\n",
      "no\n",
      "nor\n",
      "not\n",
      "only\n",
      "own\n",
      "same\n",
      "so\n",
      "than\n",
      "too\n",
      "very\n",
      "s\n",
      "t\n",
      "can\n",
      "will\n",
      "just\n",
      "don\n",
      "don't\n",
      "should\n",
      "should've\n",
      "now\n",
      "d\n",
      "ll\n",
      "m\n",
      "o\n",
      "re\n",
      "ve\n",
      "y\n",
      "ain\n",
      "aren\n",
      "aren't\n",
      "couldn\n",
      "couldn't\n",
      "didn\n",
      "didn't\n",
      "doesn\n",
      "doesn't\n",
      "hadn\n",
      "hadn't\n",
      "hasn\n",
      "hasn't\n",
      "haven\n",
      "haven't\n",
      "isn\n",
      "isn't\n",
      "ma\n",
      "mightn\n",
      "mightn't\n",
      "mustn\n",
      "mustn't\n",
      "needn\n",
      "needn't\n",
      "shan\n",
      "shan't\n",
      "shouldn\n",
      "shouldn't\n",
      "wasn\n",
      "wasn't\n",
      "weren\n",
      "weren't\n",
      "won\n",
      "won't\n",
      "wouldn\n",
      "wouldn't\n",
      "\n"
     ]
    }
   ],
   "source": [
    "from nltk.corpus import stopwords\n",
    "print(stopwords.open(\"english\").read()) # 영어 알려주는 애들 "
   ]
  },
  {
   "cell_type": "markdown",
   "metadata": {},
   "source": [
    "##### Normalization\n",
    "\n",
    "- 어간, 어미, etc -> 정형화된 틀로 만들어서 넣어줘야한다. \n",
    "- 불용어, stopwords로 쓸 수 있도록 만들어주는 것 (?)"
   ]
  },
  {
   "cell_type": "markdown",
   "metadata": {},
   "source": [
    "#### Heaps' Law # 유니크한 단어들 (픽처를 구성하고 있는 디멘전의 수) \n",
    "    An empirical law: # of distinct words in a document as a function of the document length "
   ]
  },
  {
   "cell_type": "code",
   "execution_count": 120,
   "metadata": {},
   "outputs": [],
   "source": [
    "K = 10 # 10~ 100\n",
    "B = 0.4 # 0.4 ~ 0.6 \n",
    "\n",
    "unique = list()\n",
    "total = list()\n",
    "heaps = list()\n",
    "largeText = \"\"\n",
    "for _ in corpus:\n",
    "    largeText += _\n",
    "    text = Text(largeText)\n",
    "    unique.append(text.vocab().B())\n",
    "    total.append(text.vocab().N())\n",
    "    heaps.append(K*text.vocab().N()**B)"
   ]
  },
  {
   "cell_type": "code",
   "execution_count": 122,
   "metadata": {},
   "outputs": [
    {
     "ename": "ModuleNotFoundError",
     "evalue": "No module named 'konlpy'",
     "output_type": "error",
     "traceback": [
      "\u001b[1;31m---------------------------------------------------------------------------\u001b[0m",
      "\u001b[1;31mModuleNotFoundError\u001b[0m                       Traceback (most recent call last)",
      "\u001b[1;32m<ipython-input-122-17fbd13272d0>\u001b[0m in \u001b[0;36m<module>\u001b[1;34m\u001b[0m\n\u001b[1;32m----> 1\u001b[1;33m \u001b[1;32mfrom\u001b[0m \u001b[0mkonlpy\u001b[0m\u001b[1;33m.\u001b[0m\u001b[0mtag\u001b[0m \u001b[1;32mimport\u001b[0m \u001b[0mOkt\u001b[0m\u001b[1;33m\u001b[0m\u001b[1;33m\u001b[0m\u001b[0m\n\u001b[0m",
      "\u001b[1;31mModuleNotFoundError\u001b[0m: No module named 'konlpy'"
     ]
    }
   ],
   "source": [
    "from konlpy.tag import Okt"
   ]
  },
  {
   "cell_type": "code",
   "execution_count": 121,
   "metadata": {
    "scrolled": true
   },
   "outputs": [
    {
     "data": {
      "image/png": "[encoded data removed]",
      "text/plain": [
       "<Figure size 432x288 with 1 Axes>"
      ]
     },
     "metadata": {
      "needs_background": "light"
     },
     "output_type": "display_data"
    }
   ],
   "source": [
    "plt.plot(total, unique, \"r-\")\n",
    "plt.plot(total, heaps, \"b-\")\n",
    "plt.show() # 중요한 애들을 어떻게 뽑을 건지 유추 (어절만 넣어서 결과를 본 것)"
   ]
  },
  {
   "cell_type": "markdown",
   "metadata": {},
   "source": [
    "### n-gram\n",
    "\n",
    "- 단어 특정한 시퀀스 절, 문장, 생성 이러한 시퀀스들을 어떻게 찾을까 어떻게 개선할 수 있을까? \n",
    "\n",
    "시퀀스를 통해서 확률값을 계산하기 위해 만들어진 언어 모델 중 하나 \n",
    "다음 글자가 확률을 통해 무엇이 올지를 예상한다. \n",
    "\n",
    "- 결합확률과 조건부확률을 통해서 다음 단어를 확률로 추출 \n",
    "- 특정 패턴 빈도가 너무 작기 때문에 0에 수렴 -> 성능이 좋지 않음 \n",
    "- 하지만 특정부분에서 쓰임\n",
    "\n",
    "- corpus: 다양한 분야에서 데이터를 수집해 bias가 되어있지 않은 말뭉치 데이터 (특정 분야에 쏠리지 않음) \n",
    "    - 다양한 시퀀스\n",
    "    \n",
    "- n-gram: stemming 어간을 분리하지 않았으면 어절을 이용할 것. \n",
    "    - 어절 단위의 n-gram-> 몇개의 어절을 이용해서 하나의 시퀀스를 만들어야할지 알아보는 것 \n",
    "    "
   ]
  },
  {
   "cell_type": "markdown",
   "metadata": {},
   "source": [
    "sentence = \"Life is too short, You need Python\"\n",
    "N=2\n",
    "Python? \n",
    "P(Python|need, You, Short, too, is, Life)\n",
    "P(Python|need)\n",
    "P(need|You)\n",
    "N=3 \n",
    "P(Python|need,You)\n",
    "P(need|You) P(Python|need)\n",
    "술 한잔 마셨습니다. \n",
    "술한잔마셨습니다. # 띄어쓰기를 판단하기 위한 것에도 쓰일 수 있다. \n",
    "아버지+가, 아버지+를, 아버지+께서, 아버지+에게 # 어간 추출 (language를 이해하기위해서 많이 쓰인다. -> 빈도를 이용해 추정) \n",
    "-> 음소단위로 바꾸게 된다면 ㄲㅜㄹ -> 자동완성으로 꿀을 추천 "
   ]
  },
  {
   "cell_type": "markdown",
   "metadata": {},
   "source": [
    "- 어절"
   ]
  },
  {
   "cell_type": "code",
   "execution_count": 129,
   "metadata": {},
   "outputs": [],
   "source": [
    "sentence = \"Life is too short, You need Python\""
   ]
  },
  {
   "cell_type": "code",
   "execution_count": 131,
   "metadata": {},
   "outputs": [
    {
     "data": {
      "text/plain": [
       "[('Life', 'is', 'too'),\n",
       " ('is', 'too', 'short'),\n",
       " ('too', 'short', ','),\n",
       " ('short', ',', 'You'),\n",
       " (',', 'You', 'need'),\n",
       " ('You', 'need', 'Python')]"
      ]
     },
     "execution_count": 131,
     "metadata": {},
     "output_type": "execute_result"
    }
   ],
   "source": [
    "def eojeol (sentence, N=2): # 어절 \n",
    "    tokens = word_tokenize(sentence)\n",
    "    ngram = list()\n",
    "    for i in range(len(tokens)-(N-1)): \n",
    "#         ngram.append(\" \".join(tokens[i:i+N]))\n",
    "        ngram.append(tuple(tokens[i:i+N]))\n",
    "    return ngram\n",
    "\n",
    "eojeol(sentence, 3)"
   ]
  },
  {
   "cell_type": "code",
   "execution_count": 132,
   "metadata": {},
   "outputs": [],
   "source": [
    "from collections import defaultdict\n",
    "\n",
    "freq = defaultdict(int)\n",
    "for _ in eojeol(corpus[0]):\n",
    "    freq[_] += 1"
   ]
  },
  {
   "cell_type": "code",
   "execution_count": 135,
   "metadata": {
    "scrolled": false
   },
   "outputs": [
    {
     "data": {
      "text/plain": [
       "[((\"''\", '며'), 6),\n",
       " (('며', '``'), 6),\n",
       " ((\"''\", '고'), 6),\n",
       " (('다음', '주'), 3),\n",
       " (('국방부', '장관에'), 3),\n",
       " (('장관에', '대한'), 3),\n",
       " (('.', '그는'), 3),\n",
       " (('``', '추경안'), 2),\n",
       " (('추경안', '원안'), 2),\n",
       " (('원안', '처리'), 2)]"
      ]
     },
     "execution_count": 135,
     "metadata": {},
     "output_type": "execute_result"
    }
   ],
   "source": [
    "sorted(freq.items(), key=lambda x:x[1], reverse=True)[:10] # 젤많이 나타난 쌍 10개 추출"
   ]
  },
  {
   "cell_type": "code",
   "execution_count": 180,
   "metadata": {
    "scrolled": true
   },
   "outputs": [
    {
     "data": {
      "text/plain": [
       "0.007263922518159807"
      ]
     },
     "execution_count": 180,
     "metadata": {},
     "output_type": "execute_result"
    }
   ],
   "source": [
    "freq[('다음','주')]/sum(freq.values()) * freq[('국방부','장관에')]/freq[('다음', '주')]"
   ]
  },
  {
   "cell_type": "markdown",
   "metadata": {},
   "source": [
    "P(\")\") ?\n",
    "P(\")\")|\"서울=연합뉴스\")\n",
    "P(\"서울\"|\"(\")\n",
    "P(\"(\")"
   ]
  },
  {
   "cell_type": "code",
   "execution_count": 144,
   "metadata": {},
   "outputs": [
    {
     "data": {
      "text/plain": [
       "[(',', '다음'), ('아니면', '다음'), ('받거나', '다음'), ('주', '다음')]"
      ]
     },
     "execution_count": 144,
     "metadata": {},
     "output_type": "execute_result"
    }
   ],
   "source": [
    "[_ for _ in freq if _[1]==\"다음\"]"
   ]
  },
  {
   "cell_type": "markdown",
   "metadata": {},
   "source": [
    "- 어절"
   ]
  },
  {
   "cell_type": "code",
   "execution_count": 171,
   "metadata": {},
   "outputs": [
    {
     "data": {
      "text/plain": [
       "['\"추',\n",
       " '추경',\n",
       " '경안',\n",
       " '안 ',\n",
       " ' 원',\n",
       " '원안',\n",
       " '안 ',\n",
       " ' 처',\n",
       " '처리',\n",
       " '리 ',\n",
       " ' 조',\n",
       " '조건',\n",
       " '건은',\n",
       " '은 ',\n",
       " ' 아',\n",
       " '아니',\n",
       " '니다',\n",
       " '다…',\n",
       " '…경',\n",
       " '경제',\n",
       " '제정',\n",
       " '정책',\n",
       " '책 ',\n",
       " ' 수',\n",
       " '수정',\n",
       " '정 ',\n",
       " ' 있',\n",
       " '있어',\n",
       " '어야',\n",
       " '야\"']"
      ]
     },
     "execution_count": 171,
     "metadata": {},
     "output_type": "execute_result"
    }
   ],
   "source": [
    "def umjeol(token, N=2):\n",
    "    tokens = list(token)\n",
    "    ngram = list()\n",
    "    for i in range(len(tokens)-(N-1)): \n",
    "        ngram.append(\"\".join(tokens[i:i+N])) # 붙어있는 애들 \n",
    "#         ngram.append(tuple(tokens[i:i+N]))\n",
    "    return ngram\n",
    "\n",
    "umjeol(corpus[0].splitlines()[0])\n",
    "# len(umjeol(corpus[0]))\n",
    "\n",
    "# 엄청나게 많은 쌍을 만들어 냄 \n",
    "# 확률적 모델 -> 언어 예측(굉장히 많은 데이터가 필요) 따라서 성능이 좋지 않음 (영에 수렴)\n",
    "# 어간 추출-> 어간 분리 방법으로 봐도 좋다. "
   ]
  },
  {
   "cell_type": "code",
   "execution_count": 170,
   "metadata": {
    "scrolled": true
   },
   "outputs": [
    {
     "data": {
      "text/plain": [
       "['ha', 'ah', 'ha', 'ah', 'ha', 'ah']"
      ]
     },
     "execution_count": 170,
     "metadata": {},
     "output_type": "execute_result"
    }
   ],
   "source": [
    "umjeol(\"hahahah\")"
   ]
  },
  {
   "cell_type": "markdown",
   "metadata": {},
   "source": [
    "### WPM (Word Piece Model) \n",
    "- 하나의 단어를 내부단어들로 분리하는 단어 분리 모델 \n",
    "- 어미가 변하면 서로 다른 목적으로 쓰는 단어가 된다. \n",
    "- 따라서 어미를 무시하고 어간 공통적인 애들을 이용해 만든 애들 \n",
    "- WPM 근간이 되는 모델: BPE(Byte Pair Encoding (diagram Coding)) -> 어간 추출을 할 수 있다. \n",
    "\n",
    "- BPE: 어간들 -> 빈도로 추출\n",
    "- 어절은 끝 </w>로 나타낸다. "
   ]
  },
  {
   "cell_type": "code",
   "execution_count": null,
   "metadata": {},
   "outputs": [],
   "source": [
    "tokens = {\n",
    "    \"l o w </w>\" : 5,\n",
    "    \"l o w e s t </w>\" : 2,\n",
    "    \"n e w e r </w>\" : 6,\n",
    "    \"r i d e r </w>\" : 3\n",
    "}"
   ]
  },
  {
   "cell_type": "code",
   "execution_count": 303,
   "metadata": {
    "scrolled": true
   },
   "outputs": [
    {
     "data": {
      "text/plain": [
       "defaultdict(int,\n",
       "            {('low', '</w>'): 5,\n",
       "             ('low', 'e'): 2,\n",
       "             ('e', 's'): 2,\n",
       "             ('s', 't'): 2,\n",
       "             ('t', '</w>'): 2,\n",
       "             ('n', 'e'): 6,\n",
       "             ('e', 'w'): 6,\n",
       "             ('w', 'er</w>'): 6,\n",
       "             ('r', 'i'): 3,\n",
       "             ('i', 'd'): 3,\n",
       "             ('d', 'er</w>'): 3})"
      ]
     },
     "execution_count": 303,
     "metadata": {},
     "output_type": "execute_result"
    }
   ],
   "source": [
    "ngram = defaultdict(int)\n",
    "for token, freq in tokens.items(): # token & frequence 불러오는 것\n",
    "    syllables = token.split()\n",
    "    for i in range(len(syllables)-1): \n",
    "        ngram[tuple(syllables[i:i+2])] += freq\n",
    "ngram"
   ]
  },
  {
   "cell_type": "code",
   "execution_count": 295,
   "metadata": {},
   "outputs": [],
   "source": [
    "def findBigram(tokens):\n",
    "    ngram = defaultdict(int)\n",
    "    for token, freq in tokens.items(): # token & frequence 불러오는 것\n",
    "        syllables = token.split()\n",
    "        for i in range(len(syllables)-1): \n",
    "            ngram[tuple(syllables[i:i+2])] += freq\n",
    "    return ngram"
   ]
  },
  {
   "cell_type": "code",
   "execution_count": 296,
   "metadata": {},
   "outputs": [
    {
     "data": {
      "text/plain": [
       "('s', 't')"
      ]
     },
     "execution_count": 296,
     "metadata": {},
     "output_type": "execute_result"
    }
   ],
   "source": [
    "maxKey = max(ngram, key=lambda x:x[1])\n",
    "maxKey"
   ]
  },
  {
   "cell_type": "code",
   "execution_count": 280,
   "metadata": {
    "scrolled": true
   },
   "outputs": [
    {
     "data": {
      "text/plain": [
       "'s t'"
      ]
     },
     "execution_count": 280,
     "metadata": {},
     "output_type": "execute_result"
    }
   ],
   "source": [
    "\" \".join(maxKey)"
   ]
  },
  {
   "cell_type": "code",
   "execution_count": 310,
   "metadata": {},
   "outputs": [
    {
     "name": "stdout",
     "output_type": "stream",
     "text": [
      "{'low </w>': 5, 'low e s t </w>': 2, 'n e w er</w>': 6, 'r i d er</w>': 3}\n"
     ]
    }
   ],
   "source": [
    "maxKey = max(ngram, key = ngram.get)\n",
    "maxValue = max(ngram.values())\n",
    "newTokens = dict()\n",
    "for token, freq in tokens.items():\n",
    "    newTokens[re.sub(\" \".join(maxKey), \"\".join(maxKey), token)\n",
    "             if maxValue > K else token] = freq\n",
    "print(newTokens)"
   ]
  },
  {
   "cell_type": "code",
   "execution_count": 297,
   "metadata": {},
   "outputs": [],
   "source": [
    "def mergeMaxkey(ngram, tokens, K):\n",
    "    maxKey = max(ngram, key = ngram.get)\n",
    "    maxValue = max(ngram.values())\n",
    "    newTokens = dict()\n",
    "    for token, freq in tokens.items():\n",
    "        newTokens[re.sub(\" \".join(maxKey), \"\".join(maxKey), token)\n",
    "                 if maxValue > K else token] = freq\n",
    "#     print(maxKey)\n",
    "    return newTokens"
   ]
  },
  {
   "cell_type": "code",
   "execution_count": 298,
   "metadata": {},
   "outputs": [],
   "source": [
    "tokens = newTokens"
   ]
  },
  {
   "cell_type": "code",
   "execution_count": 299,
   "metadata": {
    "scrolled": true
   },
   "outputs": [
    {
     "data": {
      "text/plain": [
       "({'low</w>': 5, 'low e s t </w>': 2, 'newer</w>': 6, 'r i d er</w>': 3},\n",
       " ('s', 't'))"
      ]
     },
     "execution_count": 299,
     "metadata": {},
     "output_type": "execute_result"
    }
   ],
   "source": [
    "newTokens, maxKey"
   ]
  },
  {
   "cell_type": "code",
   "execution_count": 311,
   "metadata": {},
   "outputs": [
    {
     "name": "stdout",
     "output_type": "stream",
     "text": [
      "['low']\n",
      "['low']\n",
      "['er</w>']\n",
      "['er</w>']\n"
     ]
    },
    {
     "data": {
      "text/plain": [
       "{'er</w>', 'low'}"
      ]
     },
     "execution_count": 311,
     "metadata": {},
     "output_type": "execute_result"
    }
   ],
   "source": [
    "tokens = {\n",
    "    \"l o w </w>\" : 5,\n",
    "    \"l o w e s t </w>\" : 2,\n",
    "    \"n e w e r </w>\" : 6,\n",
    "    \"r i d e r </w>\" : 3\n",
    "}\n",
    "K = max(tokens.values())\n",
    "for _ in range(100):\n",
    "    maxKey = findBigram(tokens)\n",
    "    tokens = mergeMaxkey(maxKey,tokens, K)\n",
    "\n",
    "pattern = r\"[가-힣A-Za-z\\/\\<\\>]{2,}\"\n",
    "result = list()\n",
    "for _ in tokens:\n",
    "    result.extend([_ for _ in re.findall(pattern, _)\n",
    "                  if _ != \"</w>\"])\n",
    "    print([_ for _ in re.findall(pattern, _)\n",
    "               if _ != \"</w>\"])\n",
    "set(result)"
   ]
  },
  {
   "cell_type": "code",
   "execution_count": null,
   "metadata": {},
   "outputs": [],
   "source": []
  },
  {
   "cell_type": "code",
   "execution_count": null,
   "metadata": {},
   "outputs": [],
   "source": []
  },
  {
   "cell_type": "code",
   "execution_count": null,
   "metadata": {},
   "outputs": [],
   "source": []
  },
  {
   "cell_type": "code",
   "execution_count": null,
   "metadata": {},
   "outputs": [],
   "source": []
  },
  {
   "cell_type": "code",
   "execution_count": null,
   "metadata": {},
   "outputs": [],
   "source": []
  },
  {
   "cell_type": "code",
   "execution_count": null,
   "metadata": {},
   "outputs": [],
   "source": []
  },
  {
   "cell_type": "code",
   "execution_count": null,
   "metadata": {},
   "outputs": [],
   "source": []
  },
  {
   "cell_type": "code",
   "execution_count": null,
   "metadata": {},
   "outputs": [],
   "source": []
  },
  {
   "cell_type": "code",
   "execution_count": null,
   "metadata": {},
   "outputs": [],
   "source": []
  },
  {
   "cell_type": "code",
   "execution_count": null,
   "metadata": {},
   "outputs": [],
   "source": []
  },
  {
   "cell_type": "code",
   "execution_count": null,
   "metadata": {},
   "outputs": [],
   "source": []
  }
 ],
 "metadata": {
  "kernelspec": {
   "display_name": "Python 3",
   "language": "python",
   "name": "python3"
  },
  "language_info": {
   "codemirror_mode": {
    "name": "ipython",
    "version": 3
   },
   "file_extension": ".py",
   "mimetype": "text/x-python",
   "name": "python",
   "nbconvert_exporter": "python",
   "pygments_lexer": "ipython3",
   "version": "3.7.3"
  }
 },
 "nbformat": 4,
 "nbformat_minor": 2
}
