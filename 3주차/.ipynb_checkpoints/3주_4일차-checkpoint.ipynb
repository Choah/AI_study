{
 "cells": [
  {
   "cell_type": "markdown",
   "metadata": {},
   "source": [
    "## 인터파크"
   ]
  },
  {
   "cell_type": "code",
   "execution_count": 79,
   "metadata": {},
   "outputs": [],
   "source": [
    "import warnings\n",
    "warnings.filterwarnings(action='ignore')"
   ]
  },
  {
   "cell_type": "code",
   "execution_count": 50,
   "metadata": {},
   "outputs": [],
   "source": [
    "import time"
   ]
  },
  {
   "cell_type": "code",
   "execution_count": 1,
   "metadata": {},
   "outputs": [],
   "source": [
    "from selenium import webdriver"
   ]
  },
  {
   "cell_type": "code",
   "execution_count": 26,
   "metadata": {},
   "outputs": [],
   "source": [
    "driver = webdriver.Chrome()"
   ]
  },
  {
   "cell_type": "code",
   "execution_count": 27,
   "metadata": {},
   "outputs": [],
   "source": [
    "driver.get(\"http://ticket.interpark.com\")"
   ]
  },
  {
   "cell_type": "code",
   "execution_count": 4,
   "metadata": {},
   "outputs": [],
   "source": [
    "import json\n",
    "with open(\"account.json\") as fp:\n",
    "    account = json.load(fp)"
   ]
  },
  {
   "cell_type": "code",
   "execution_count": 5,
   "metadata": {
    "scrolled": true
   },
   "outputs": [
    {
     "data": {
      "text/plain": [
       "['_gat_UA-93889457-1',\n",
       " '_gid',\n",
       " '_ga',\n",
       " '_trs_id',\n",
       " 'cto_lwid',\n",
       " '_trs_sid',\n",
       " '_trs_flow',\n",
       " 'ASPSESSIONIDQADTCTSQ',\n",
       " 'pcid',\n",
       " '_fbp',\n",
       " 'criteo_write_test',\n",
       " 'OAX']"
      ]
     },
     "execution_count": 5,
     "metadata": {},
     "output_type": "execute_result"
    }
   ],
   "source": [
    "[_[\"name\"] for _ in driver.get_cookies()]"
   ]
  },
  {
   "cell_type": "code",
   "execution_count": 5,
   "metadata": {},
   "outputs": [],
   "source": [
    "#로그인버튼 찾기\n",
    "login = driver.find_element_by_css_selector(\"#logstatus >a\")\n",
    "\n",
    "if login and login.get_attribute(\"id\") == \"aLogin\":\n",
    "    driver.get(login.get_attribute(\"href\"))\n",
    "    driver.find_element_by_id(\"UID\").send_keys(account[\"id\"])\n",
    "    driver.find_element_by_id(\"PWD\").send_keys(account[\"pw\"])\n",
    "    driver.find_element_by_css_selector(\"div .loginBtn > button\").click()\n",
    "else:\n",
    "    print(\"로그인 됨\")"
   ]
  },
  {
   "cell_type": "code",
   "execution_count": 28,
   "metadata": {},
   "outputs": [],
   "source": [
    "#로그인버튼 찾기\n",
    "\n",
    "def login(account, method=\"login\"):\n",
    "    try:\n",
    "        login = driver.find_element_by_css_selector(\"#logstatus >a\")\n",
    "        if method == \"login\":\n",
    "            if login and login.get_attribute(\"id\") == \"aLogin\":\n",
    "                driver.get(login.get_attribute(\"href\"))\n",
    "                driver.find_element_by_id(\"UID\").send_keys(account[\"id\"])\n",
    "                driver.find_element_by_id(\"PWD\").send_keys(account[\"pw\"])\n",
    "                driver.find_element_by_css_selector(\"div .loginBtn > button\").click()\n",
    "\n",
    "        else:\n",
    "            login.click()\n",
    "    except:\n",
    "        return False\n",
    "    return True"
   ]
  },
  {
   "cell_type": "code",
   "execution_count": 29,
   "metadata": {
    "scrolled": true
   },
   "outputs": [
    {
     "data": {
      "text/plain": [
       "True"
      ]
     },
     "execution_count": 29,
     "metadata": {},
     "output_type": "execute_result"
    }
   ],
   "source": [
    "login(account,\"login\")"
   ]
  },
  {
   "cell_type": "code",
   "execution_count": 186,
   "metadata": {
    "scrolled": true
   },
   "outputs": [
    {
     "data": {
      "text/plain": [
       "True"
      ]
     },
     "execution_count": 186,
     "metadata": {},
     "output_type": "execute_result"
    }
   ],
   "source": [
    "login(account)"
   ]
  },
  {
   "cell_type": "code",
   "execution_count": 187,
   "metadata": {},
   "outputs": [],
   "source": [
    "_login = [_[\"name\"] for _ in driver.get_cookies()]"
   ]
  },
  {
   "cell_type": "code",
   "execution_count": 42,
   "metadata": {},
   "outputs": [],
   "source": [
    "_logout = [_[\"name\"] for _ in driver.get_cookies()]"
   ]
  },
  {
   "cell_type": "code",
   "execution_count": 43,
   "metadata": {},
   "outputs": [
    {
     "data": {
      "text/plain": [
       "(48, 37)"
      ]
     },
     "execution_count": 43,
     "metadata": {},
     "output_type": "execute_result"
    }
   ],
   "source": [
    "# 쿠키 비교 \n",
    "\n",
    "len(_login), len(_logout)"
   ]
  },
  {
   "cell_type": "code",
   "execution_count": 44,
   "metadata": {},
   "outputs": [
    {
     "data": {
      "text/plain": [
       "{'HMem%5FNO',\n",
       " 'IMem%5FNO',\n",
       " 'ISession%5FID',\n",
       " 'MemHash',\n",
       " 'PrivacyCertify',\n",
       " 'TKLogin',\n",
       " 'TMem%5FNO',\n",
       " 'TPartner',\n",
       " 'TSecLogin',\n",
       " 'alMemNm',\n",
       " 'iaf',\n",
       " 'interparkID',\n",
       " 'interparkSNO',\n",
       " 'interparkstamp',\n",
       " 'memRealName',\n",
       " 'siteAgree',\n",
       " 'tempinterparkGUEST'}"
      ]
     },
     "execution_count": 44,
     "metadata": {},
     "output_type": "execute_result"
    }
   ],
   "source": [
    "set(_login) - set(_logout)"
   ]
  },
  {
   "cell_type": "code",
   "execution_count": 400,
   "metadata": {},
   "outputs": [],
   "source": [
    "# ISession%5FID 세션 값 체크\n",
    "if \"ISession%5FID\" not in [_[\"name\"] for _ in driver.get_cookies()]:\n",
    "    login(account)\n",
    "else:\n",
    "    login(None,\"logout\")"
   ]
  },
  {
   "cell_type": "code",
   "execution_count": 9,
   "metadata": {},
   "outputs": [],
   "source": [
    "# 공연 목록 뽑아오기 \n",
    "def gnbbtns(category=\"콘서트\"):\n",
    "    links = [_ for _ in driver.find_elements_by_css_selector(\n",
    "    \"ul.gnbBtns a[class^=btn]\")]\n",
    "    titles = [_.find_element_by_css_selector(\"img\").get_attribute(\"alt\")\n",
    "              for _ in links]\n",
    "    if category in titles:\n",
    "        return links[titles.index(category)].get_attribute(\"href\")\n",
    "    return False"
   ]
  },
  {
   "cell_type": "code",
   "execution_count": 30,
   "metadata": {},
   "outputs": [],
   "source": [
    "url = gnbbtns()\n",
    "if url:\n",
    "    driver.get(url)"
   ]
  },
  {
   "cell_type": "code",
   "execution_count": 222,
   "metadata": {},
   "outputs": [
    {
     "data": {
      "text/plain": [
       "56"
      ]
     },
     "execution_count": 222,
     "metadata": {},
     "output_type": "execute_result"
    }
   ],
   "source": [
    "len(driver.find_elements_by_css_selector(\n",
    "    \"div.wrap_issue dl.list > dt.issue_obj > a\"))"
   ]
  },
  {
   "cell_type": "code",
   "execution_count": 31,
   "metadata": {},
   "outputs": [],
   "source": [
    "def hotissue(issue = None):\n",
    "    issues = [_ for _ in driver.find_elements_by_css_selector(\n",
    "    \"div.wrap_issue dl.list > dt.issue_obj > a\")]\n",
    "    title = [_.find_element_by_css_selector(\n",
    "        \"span.txt1\").text for _ in issues ]\n",
    "    if issue in title:\n",
    "        return issues[title.index(issue)].get_attribute(\"href\")\n",
    "    else:\n",
    "        return issues[0].get_attribute(\"href\")"
   ]
  },
  {
   "cell_type": "code",
   "execution_count": 32,
   "metadata": {
    "scrolled": true
   },
   "outputs": [],
   "source": [
    "driver.get(hotissue(\"박정현\"))"
   ]
  },
  {
   "cell_type": "code",
   "execution_count": null,
   "metadata": {},
   "outputs": [],
   "source": [
    "# driver.get(hotissue(\"톰내한공연\"))"
   ]
  },
  {
   "cell_type": "markdown",
   "metadata": {},
   "source": [
    "#driver.page_source\n",
    "iframe = driver.find_element_by_id(\"ifrCalendar\")\n",
    "driver.switch_to_frame(iframe)\n",
    "ables = driver.find_elements_by_class_name(\"able\")\n",
    "ables[0].click()\n",
    "#driver.switch_to_default_content()"
   ]
  },
  {
   "cell_type": "markdown",
   "metadata": {},
   "source": [
    "driver.switch_to_window(driver.window_handles[0])"
   ]
  },
  {
   "cell_type": "markdown",
   "metadata": {},
   "source": [
    "driver.switch_to_window(driver.window_handles[-1])"
   ]
  },
  {
   "cell_type": "markdown",
   "metadata": {},
   "source": [
    "driver.find_element_by_id(\"LargeNextBtnLink\").click()"
   ]
  },
  {
   "cell_type": "code",
   "execution_count": 33,
   "metadata": {
    "scrolled": true
   },
   "outputs": [
    {
     "name": "stderr",
     "output_type": "stream",
     "text": [
      "C:\\Users\\Cho Gyung Ah\\Anaconda3\\lib\\site-packages\\ipykernel_launcher.py:1: DeprecationWarning: use driver.switch_to.default_content instead\n",
      "  \"\"\"Entry point for launching an IPython kernel.\n"
     ]
    }
   ],
   "source": [
    "driver.switch_to_default_content()"
   ]
  },
  {
   "cell_type": "code",
   "execution_count": 34,
   "metadata": {},
   "outputs": [],
   "source": [
    "def bookWindow(options = None):\n",
    "    if options:\n",
    "        iframe = driver.find_element_by_css_selector(\n",
    "            \"#ifrCalendar\")\n",
    "        \n",
    "        if iframe:\n",
    "            driver.switch_to_frame(iframe)\n",
    "            dates = [_ for _ in driver.find_elements_by_css_selector(\"td.able > a\")]\n",
    "            title = [_.text for _ in dates]\n",
    "            \n",
    "        if options in title:\n",
    "            driver.execute_script(\n",
    "                dates[title.index(options)]\\\n",
    "                .get_attribute(\"onclick\"))\n",
    "        else:\n",
    "            driver.execute_script(dates[0]\\\n",
    "                                  .get_attribute(\"onclick\"))\n",
    "\n",
    "        driver.switch_to_default_content()\n",
    "\n",
    "    driver.find_element_by_css_selector(\n",
    "        \".tk_dt_btn_TArea > a.btn_rev\").click()\n",
    "    driver.switch_to_window(driver.window_handles[-1])"
   ]
  },
  {
   "cell_type": "code",
   "execution_count": 36,
   "metadata": {
    "scrolled": false
   },
   "outputs": [
    {
     "name": "stderr",
     "output_type": "stream",
     "text": [
      "C:\\Users\\Cho Gyung Ah\\Anaconda3\\lib\\site-packages\\ipykernel_launcher.py:7: DeprecationWarning: use driver.switch_to.frame instead\n",
      "  import sys\n",
      "C:\\Users\\Cho Gyung Ah\\Anaconda3\\lib\\site-packages\\ipykernel_launcher.py:19: DeprecationWarning: use driver.switch_to.default_content instead\n",
      "C:\\Users\\Cho Gyung Ah\\Anaconda3\\lib\\site-packages\\ipykernel_launcher.py:23: DeprecationWarning: use driver.switch_to.window instead\n"
     ]
    }
   ],
   "source": [
    "bookWindow(2)"
   ]
  },
  {
   "cell_type": "markdown",
   "metadata": {},
   "source": [
    "- 다른분\n",
    "driver.switch_to_window(driver.window_handles[1])\n",
    "iframe = driver.find_element_by_id(\"ifrmSeat\")\n",
    "driver.switch_to_frame(iframe)\n",
    "iframe1 = driver.find_element_by_id(\"ifrmSeatDetail\")\n",
    "driver.switch_to_frame(iframe1)\n",
    "driver.execute_script(driver.find_elements_by_class_name(\"stySelectSeat\")[100].get_attribute(\"onclick\"))\n",
    "driver.switch_to_default_content()"
   ]
  },
  {
   "cell_type": "markdown",
   "metadata": {},
   "source": [
    "- 다른 분 \n",
    "iframe = driver.find_element_by_id(\"ifrmSeat\")\n",
    "driver.switch_to_frame(iframe)\n",
    "driver.find_element_by_id(\"NextStepImage\").click()\n",
    "#driver.switch_to_default_content()"
   ]
  },
  {
   "cell_type": "code",
   "execution_count": 37,
   "metadata": {
    "scrolled": true
   },
   "outputs": [
    {
     "name": "stderr",
     "output_type": "stream",
     "text": [
      "C:\\Users\\Cho Gyung Ah\\Anaconda3\\lib\\site-packages\\ipykernel_launcher.py:1: DeprecationWarning: use driver.switch_to.default_content instead\n",
      "  \"\"\"Entry point for launching an IPython kernel.\n"
     ]
    }
   ],
   "source": [
    "driver.switch_to_default_content()"
   ]
  },
  {
   "cell_type": "code",
   "execution_count": 38,
   "metadata": {
    "scrolled": true
   },
   "outputs": [],
   "source": [
    "# iframe = driver.find_element_by_id(\"ifrmSeat\")\n",
    "# driver.switch_to_frame(iframe)\n",
    "driver.find_element_by_id(\"LargeNextBtnImage\").click()"
   ]
  },
  {
   "cell_type": "code",
   "execution_count": null,
   "metadata": {},
   "outputs": [],
   "source": [
    "import re\n",
    "from collections import defaultdict\n",
    "\n",
    "def step2(floor=None, section = None, row = None, seat=[]):\n",
    "    iframe1 = driver.find_element_by_css_selector(\"#ifrmSeat\")\n",
    "    driver.switch_to_frame(iframe1)\n",
    "    driver.execute_script(\"fnRefresh();\")\n",
    "    \n",
    "    if floor:\n",
    "        iframe2 = driver.find_element_by_css_selector(\"#ifrmSeatView\")\n",
    "        driver.switch_to_frame(iframe2)\n",
    "        area = [_ for _ in driver.find_elements_by_css_selector(\"map > area\")]\n",
    "        name = [re.findall(r\"(RGN\\d{3})\", _.get_attribute(\"href\"))[0] for _ in area]\n",
    "        \n",
    "        floor = \"RGN{:03d}\".format(floor)\n",
    "        \n",
    "        if floor in name:\n",
    "            driver.execute_script(area[name.index(floor)].get_attribute(\"href\"))\n",
    "            \n",
    "        driver.switch_to_default_content()\n",
    "        driver.switch_to_frame(iframe1)\n",
    "        \n",
    "    iframe3 = driver.find_element_by_css_selector(\"#ifrmSeatDetail\")\n",
    "    driver.switch_to_frame(iframe3)\n",
    "    \n",
    "    seatList = driver.find_elements_by_css_selector(\"#TmgsTable img.stySeat\")\n",
    "    seatDict = defaultdict(lambda: defaultdict(list))\n",
    "    # defaultdict == 항상 기본값이 들어가있어서 키 에러를 일으키지 않음\n",
    "    for i, _ in enumerate(seatList):\n",
    "        script = re.findall(r\"\\(\\'.*?\\', \\'.*?\\', \\'.*?\\', \\'(.*?)\\', \\'(.*?)\\', \\'.*?\\'\\)\", _.get_attribute(\"onclick\"))[0]\n",
    "        seatInfo = script[0].split()\n",
    "\n",
    "        \n",
    "        if len(seatInfo) < 2:\n",
    "            seatDict[\"2층\"][seatInfo[0]].append((script[1], i))\n",
    "            \n",
    "        else:\n",
    "            seatDict[seatInfo[0]][seatInfo[1]].append((script[1], i))\n",
    "            \n",
    "    if not section:\n",
    "        section = sorted(seatDict.keys())[0]\n",
    "        \n",
    "    if not row:\n",
    "        row = sorted(seatDict[section].keys())[0]\n",
    "        \n",
    "    if len(seat) > 1:\n",
    "        selected = [ _ for _ in seatDict[section][row] if _[0] in seat]\n",
    "        \n",
    "    else:\n",
    "        selected = [ _ for _ in sorted(seatDict[section][row])]\n",
    "    print(selected)\n",
    "    for _ in selected:\n",
    "        driver.execute_script(seatList[_[1]].get_attribute(\"onclick\"))\n",
    "        \n",
    "    driver.switch_to_default_content()         "
   ]
  },
  {
   "cell_type": "code",
   "execution_count": 40,
   "metadata": {
    "scrolled": true
   },
   "outputs": [
    {
     "name": "stderr",
     "output_type": "stream",
     "text": [
      "C:\\Users\\Cho Gyung Ah\\Anaconda3\\lib\\site-packages\\ipykernel_launcher.py:6: DeprecationWarning: use driver.switch_to.frame instead\n",
      "  \n",
      "C:\\Users\\Cho Gyung Ah\\Anaconda3\\lib\\site-packages\\ipykernel_launcher.py:11: DeprecationWarning: use driver.switch_to.frame instead\n",
      "  # This is added back by InteractiveShellApp.init_path()\n",
      "C:\\Users\\Cho Gyung Ah\\Anaconda3\\lib\\site-packages\\ipykernel_launcher.py:20: DeprecationWarning: use driver.switch_to.default_content instead\n",
      "C:\\Users\\Cho Gyung Ah\\Anaconda3\\lib\\site-packages\\ipykernel_launcher.py:21: DeprecationWarning: use driver.switch_to.frame instead\n",
      "C:\\Users\\Cho Gyung Ah\\Anaconda3\\lib\\site-packages\\ipykernel_launcher.py:24: DeprecationWarning: use driver.switch_to.frame instead\n"
     ]
    },
    {
     "name": "stdout",
     "output_type": "stream",
     "text": [
      "[('1', 0), ('2', 1)]\n"
     ]
    },
    {
     "name": "stderr",
     "output_type": "stream",
     "text": [
      "C:\\Users\\Cho Gyung Ah\\Anaconda3\\lib\\site-packages\\ipykernel_launcher.py:54: DeprecationWarning: use driver.switch_to.default_content instead\n"
     ]
    }
   ],
   "source": [
    "step2(1, \"\", \"\", [\"1\",\"2\"])\n",
    "# step2(1, \"C구역\", \"13열\", [\"1\",\"2\"])\n",
    "# step2(2)"
   ]
  },
  {
   "cell_type": "code",
   "execution_count": 41,
   "metadata": {},
   "outputs": [
    {
     "name": "stderr",
     "output_type": "stream",
     "text": [
      "C:\\Users\\Cho Gyung Ah\\Anaconda3\\lib\\site-packages\\ipykernel_launcher.py:1: DeprecationWarning: use driver.switch_to.default_content instead\n",
      "  \"\"\"Entry point for launching an IPython kernel.\n"
     ]
    }
   ],
   "source": [
    "driver.switch_to_default_content()"
   ]
  },
  {
   "cell_type": "code",
   "execution_count": 42,
   "metadata": {
    "scrolled": true
   },
   "outputs": [
    {
     "name": "stderr",
     "output_type": "stream",
     "text": [
      "C:\\Users\\Cho Gyung Ah\\Anaconda3\\lib\\site-packages\\ipykernel_launcher.py:2: DeprecationWarning: use driver.switch_to.frame instead\n",
      "  \n"
     ]
    }
   ],
   "source": [
    "iframe = driver.find_element_by_id(\"ifrmSeat\")\n",
    "driver.switch_to_frame(iframe)\n",
    "driver.find_element_by_id(\"NextStepImage\").click()"
   ]
  },
  {
   "cell_type": "code",
   "execution_count": 43,
   "metadata": {},
   "outputs": [],
   "source": [
    "from selenium.webdriver.support.ui import WebDriverWait\n",
    "from selenium.common.exceptions import ElementNotVisibleException\n",
    "from selenium.webdriver.common.by import By \n",
    "from selenium.webdriver.support import expected_conditions as EC"
   ]
  },
  {
   "cell_type": "code",
   "execution_count": 44,
   "metadata": {},
   "outputs": [],
   "source": [
    "def waitUntil(cssSelect=None, maximum=10, interval=1):\n",
    "    try:\n",
    "        WebDriverWait(driver, maximum, interval,\n",
    "                     [ElementNotVisibleException])\\\n",
    "        .until(EC.visibility_of_element_located(\n",
    "            (By.CSS_SELECTOR, cssSelect)))\n",
    "    except:\n",
    "        return False\n",
    "    \n",
    "    return True\n",
    "\n",
    "def waitRefresh(cssSelect=None, maximum=10, interval=1):\n",
    "    try:\n",
    "        webDriverWait(driver, maximum, interval,\n",
    "                     [StaleElementReferenceException])\\\n",
    "        .until(EC.visibility_of_all_elements_located(\n",
    "            (By.CSS_SELECTOR, cssSelect)))\n",
    "    except:\n",
    "        return False\n",
    "    \n",
    "    return True"
   ]
  },
  {
   "cell_type": "code",
   "execution_count": 45,
   "metadata": {},
   "outputs": [
    {
     "name": "stderr",
     "output_type": "stream",
     "text": [
      "C:\\Users\\Cho Gyung Ah\\Anaconda3\\lib\\site-packages\\ipykernel_launcher.py:1: DeprecationWarning: use driver.switch_to.default_content instead\n",
      "  \"\"\"Entry point for launching an IPython kernel.\n"
     ]
    }
   ],
   "source": [
    "driver.switch_to_default_content()"
   ]
  },
  {
   "cell_type": "code",
   "execution_count": 46,
   "metadata": {},
   "outputs": [],
   "source": [
    "from selenium.webdriver.support.ui import Select\n",
    "\n",
    "def setPrice():\n",
    "    if not waitUntil(\"#ifrmBookStep\"):\n",
    "        print(\"Not found Book Frame\")\n",
    "        return False\n",
    "    \n",
    "    driver.switch_to_frame(\n",
    "        driver.find_element_by_css_selector(\"#ifrmBookStep\"))\n",
    "    \n",
    "    if not waitUntil(\"select[name='SeatCount']\"):\n",
    "        print(\"Not found Seat Count\")\n",
    "        return False\n",
    "    \n",
    "    seatCount = Select(\n",
    "        driver.find_element_by_css_selector(\n",
    "            \"select[name='SeatCount']\"))\n",
    "    seatCount.select_by_index(\n",
    "        driver.find_element_by_css_selector(\n",
    "            \".taL option:last-child\").get_attribute(\"value\"))\n",
    "    \n",
    "    driver.switch_to_default_content()"
   ]
  },
  {
   "cell_type": "code",
   "execution_count": 48,
   "metadata": {
    "scrolled": true
   },
   "outputs": [
    {
     "name": "stderr",
     "output_type": "stream",
     "text": [
      "C:\\Users\\Cho Gyung Ah\\Anaconda3\\lib\\site-packages\\ipykernel_launcher.py:9: DeprecationWarning: use driver.switch_to.frame instead\n",
      "  if __name__ == '__main__':\n",
      "C:\\Users\\Cho Gyung Ah\\Anaconda3\\lib\\site-packages\\ipykernel_launcher.py:22: DeprecationWarning: use driver.switch_to.default_content instead\n"
     ]
    }
   ],
   "source": [
    "setPrice()"
   ]
  },
  {
   "cell_type": "code",
   "execution_count": 49,
   "metadata": {
    "scrolled": true
   },
   "outputs": [
    {
     "name": "stderr",
     "output_type": "stream",
     "text": [
      "C:\\Users\\Cho Gyung Ah\\Anaconda3\\lib\\site-packages\\ipykernel_launcher.py:1: DeprecationWarning: use driver.switch_to.default_content instead\n",
      "  \"\"\"Entry point for launching an IPython kernel.\n",
      "C:\\Users\\Cho Gyung Ah\\Anaconda3\\lib\\site-packages\\ipykernel_launcher.py:4: DeprecationWarning: use driver.switch_to.default_content instead\n",
      "  after removing the cwd from sys.path.\n",
      "C:\\Users\\Cho Gyung Ah\\Anaconda3\\lib\\site-packages\\ipykernel_launcher.py:6: DeprecationWarning: use driver.switch_to.frame instead\n",
      "  \n",
      "C:\\Users\\Cho Gyung Ah\\Anaconda3\\lib\\site-packages\\ipykernel_launcher.py:10: DeprecationWarning: use driver.switch_to.default_content instead\n",
      "  # Remove the CWD from sys.path while we load stuff.\n",
      "C:\\Users\\Cho Gyung Ah\\Anaconda3\\lib\\site-packages\\ipykernel_launcher.py:13: DeprecationWarning: use driver.switch_to.default_content instead\n",
      "  del sys.path[0]\n",
      "C:\\Users\\Cho Gyung Ah\\Anaconda3\\lib\\site-packages\\ipykernel_launcher.py:16: DeprecationWarning: use driver.switch_to.default_content instead\n",
      "  app.launch_new_instance()\n",
      "C:\\Users\\Cho Gyung Ah\\Anaconda3\\lib\\site-packages\\ipykernel_launcher.py:17: DeprecationWarning: use driver.switch_to.frame instead\n",
      "C:\\Users\\Cho Gyung Ah\\Anaconda3\\lib\\site-packages\\ipykernel_launcher.py:22: DeprecationWarning: use driver.switch_to.default_content instead\n",
      "C:\\Users\\Cho Gyung Ah\\Anaconda3\\lib\\site-packages\\ipykernel_launcher.py:26: DeprecationWarning: use driver.switch_to.frame instead\n",
      "C:\\Users\\Cho Gyung Ah\\Anaconda3\\lib\\site-packages\\ipykernel_launcher.py:29: DeprecationWarning: use driver.switch_to.default_content instead\n",
      "C:\\Users\\Cho Gyung Ah\\Anaconda3\\lib\\site-packages\\ipykernel_launcher.py:32: DeprecationWarning: use driver.switch_to.window instead\n",
      "C:\\Users\\Cho Gyung Ah\\Anaconda3\\lib\\site-packages\\ipykernel_launcher.py:36: DeprecationWarning: use driver.switch_to.frame instead\n"
     ]
    },
    {
     "ename": "NameError",
     "evalue": "name 'time' is not defined",
     "output_type": "error",
     "traceback": [
      "\u001b[1;31m---------------------------------------------------------------------------\u001b[0m",
      "\u001b[1;31mNameError\u001b[0m                                 Traceback (most recent call last)",
      "\u001b[1;32m<ipython-input-49-f68f6ff09fad>\u001b[0m in \u001b[0;36m<module>\u001b[1;34m\u001b[0m\n\u001b[0;32m     37\u001b[0m \u001b[1;33m\u001b[0m\u001b[0m\n\u001b[0;32m     38\u001b[0m \u001b[0mdriver\u001b[0m\u001b[1;33m.\u001b[0m\u001b[0mfind_element_by_css_selector\u001b[0m\u001b[1;33m(\u001b[0m\u001b[1;34m\"#id\"\u001b[0m\u001b[1;33m)\u001b[0m\u001b[1;33m.\u001b[0m\u001b[0msend_keys\u001b[0m\u001b[1;33m(\u001b[0m\u001b[1;34m\"!!!끝!!! 3초 뒤 종료\"\u001b[0m\u001b[1;33m)\u001b[0m\u001b[1;33m\u001b[0m\u001b[1;33m\u001b[0m\u001b[0m\n\u001b[1;32m---> 39\u001b[1;33m \u001b[0mtime\u001b[0m\u001b[1;33m.\u001b[0m\u001b[0msleep\u001b[0m\u001b[1;33m(\u001b[0m\u001b[1;36m3\u001b[0m\u001b[1;33m)\u001b[0m\u001b[1;33m\u001b[0m\u001b[1;33m\u001b[0m\u001b[0m\n\u001b[0m\u001b[0;32m     40\u001b[0m \u001b[0mdriver\u001b[0m\u001b[1;33m.\u001b[0m\u001b[0mclose\u001b[0m\u001b[1;33m(\u001b[0m\u001b[1;33m)\u001b[0m\u001b[1;33m\u001b[0m\u001b[1;33m\u001b[0m\u001b[0m\n\u001b[0;32m     41\u001b[0m \u001b[0mdriver\u001b[0m\u001b[1;33m.\u001b[0m\u001b[0mswitch_to_window\u001b[0m\u001b[1;33m(\u001b[0m\u001b[0mdriver\u001b[0m\u001b[1;33m.\u001b[0m\u001b[0mwindow_handles\u001b[0m\u001b[1;33m[\u001b[0m\u001b[1;33m-\u001b[0m\u001b[1;36m1\u001b[0m\u001b[1;33m]\u001b[0m\u001b[1;33m)\u001b[0m\u001b[1;33m\u001b[0m\u001b[1;33m\u001b[0m\u001b[0m\n",
      "\u001b[1;31mNameError\u001b[0m: name 'time' is not defined"
     ]
    }
   ],
   "source": [
    "driver.switch_to_default_content()\n",
    "driver.find_element_by_id(\"SmallNextBtnImage\").click()\n",
    "\n",
    "driver.switch_to_default_content()\n",
    "iframe = driver.find_element_by_id(\"ifrmBookStep\")\n",
    "driver.switch_to_frame(iframe)\n",
    "\n",
    "driver.find_element_by_id(\"YYMMDD\").send_keys(\"950110\")\n",
    "\n",
    "driver.switch_to_default_content()\n",
    "driver.find_element_by_id(\"SmallNextBtnImage\").click()\n",
    "\n",
    "driver.switch_to_default_content()\n",
    "iframe = driver.find_element_by_id(\"ifrmBookStep\")\n",
    "\n",
    "driver.switch_to_default_content()\n",
    "driver.switch_to_frame(iframe)\n",
    "driver.find_element_by_css_selector(\"#Payment_Payco .chk\").click()\n",
    "\n",
    "# 무통장 입금시\n",
    "#driver.find_elements_by_css_selector(\"#BankCode option\")[2].click()\n",
    "driver.switch_to_default_content()\n",
    "driver.find_element_by_id(\"SmallNextBtnImage\").click()\n",
    "\n",
    "iframe = driver.find_element_by_id(\"ifrmBookStep\")\n",
    "driver.switch_to_frame(iframe)\n",
    "driver.find_element_by_id(\"CancelAgree\").click()\n",
    "driver.find_element_by_id(\"CancelAgree2\").click()\n",
    "driver.switch_to_default_content()\n",
    "driver.find_element_by_id(\"LargeNextBtnImage\").click()\n",
    "\n",
    "driver.switch_to_window(driver.window_handles[-1])\n",
    "\n",
    "iframe = driver.find_element_by_css_selector(\"body iframe\")\n",
    "\n",
    "driver.switch_to_frame(iframe)\n",
    "\n",
    "driver.find_element_by_css_selector(\"#id\").send_keys(\"!!!끝!!! 3초 뒤 종료\")\n",
    "time.sleep(3)\n",
    "driver.close()\n",
    "driver.switch_to_window(driver.window_handles[-1])\n",
    "driver.close()\n",
    "driver.switch_to_window(driver.window_handles[-1])\n",
    "driver.close()"
   ]
  },
  {
   "cell_type": "code",
   "execution_count": 64,
   "metadata": {},
   "outputs": [
    {
     "name": "stderr",
     "output_type": "stream",
     "text": [
      "C:\\Users\\Cho Gyung Ah\\Anaconda3\\lib\\site-packages\\ipykernel_launcher.py:1: DeprecationWarning: use driver.switch_to.default_content instead\n",
      "  \"\"\"Entry point for launching an IPython kernel.\n"
     ]
    }
   ],
   "source": [
    "driver.switch_to_default_content()"
   ]
  },
  {
   "cell_type": "code",
   "execution_count": 65,
   "metadata": {
    "scrolled": true
   },
   "outputs": [
    {
     "name": "stderr",
     "output_type": "stream",
     "text": [
      "C:\\Users\\Cho Gyung Ah\\Anaconda3\\lib\\site-packages\\ipykernel_launcher.py:2: DeprecationWarning: use driver.switch_to.frame instead\n",
      "  \n"
     ]
    }
   ],
   "source": [
    "iframe = driver.find_element_by_id(\"ifrmSeat\")\n",
    "driver.switch_to_frame(iframe)\n",
    "driver.find_element_by_id(\"NextStepImage\").click()"
   ]
  },
  {
   "cell_type": "code",
   "execution_count": 16,
   "metadata": {},
   "outputs": [],
   "source": [
    "# iframe창 닫는것\n",
    "def safeClose():\n",
    "    if len(driver.window_handles)>1:\n",
    "        for _ in driver.window_handles[1:]:\n",
    "            driver.switch_to_window(_)\n",
    "            driver.close()\n",
    "    driver.switch_to_window(driver.window_handles[0])\n",
    "    driver.switch_to_default_content()"
   ]
  },
  {
   "cell_type": "code",
   "execution_count": 17,
   "metadata": {
    "scrolled": true
   },
   "outputs": [
    {
     "name": "stderr",
     "output_type": "stream",
     "text": [
      "C:\\Users\\Cho Gyung Ah\\Anaconda3\\lib\\site-packages\\ipykernel_launcher.py:5: DeprecationWarning: use driver.switch_to.window instead\n",
      "  \"\"\"\n",
      "C:\\Users\\Cho Gyung Ah\\Anaconda3\\lib\\site-packages\\ipykernel_launcher.py:7: DeprecationWarning: use driver.switch_to.window instead\n",
      "  import sys\n",
      "C:\\Users\\Cho Gyung Ah\\Anaconda3\\lib\\site-packages\\ipykernel_launcher.py:8: DeprecationWarning: use driver.switch_to.default_content instead\n",
      "  \n"
     ]
    }
   ],
   "source": [
    "safeClose()"
   ]
  },
  {
   "cell_type": "markdown",
   "metadata": {},
   "source": [
    "- 티켓팅"
   ]
  },
  {
   "cell_type": "code",
   "execution_count": null,
   "metadata": {},
   "outputs": [],
   "source": [
    "time.sleep(2)\n",
    "driver.get(\"https://ticket.interpark.com\")\n",
    "\n",
    "with open(\"account.json\") as fp:\n",
    "    account = json.load(fp)\n",
    "    \n",
    "login(account)\n",
    "\n",
    "if \"ISession%5FID\" not in [_[\"name\"] for _ in driver.get_cookies()]:\n",
    "    login(account)\n",
    "else:\n",
    "    login(None, \"logout\")\n",
    "    \n",
    "url = gnbbtns(\"콘서트\")\n",
    "\n",
    "if url :\n",
    "    driver.get(url)\n",
    "    \n",
    "driver.get(hotissue(\"박정현\"))\n",
    "\n",
    "bookWindow(\"2\")\n",
    "\n",
    "driver.switch_to_window(driver.window_handles[-1])\n",
    "\n",
    "driver.find_element_by_id(\"LargeNextBtnLink\").click()\n",
    "\n",
    "step2(1, \"D구역\", \"1열\", [\"7\",\"8\"])\n",
    "\n",
    "driver.switch_to_default_content()\n",
    "\n",
    "iframe = driver.find_element_by_css_selector(\"#ifrmSeat\")\n",
    "\n",
    "driver.switch_to_frame(iframe)\n",
    "\n",
    "driver.find_element_by_id(\"NextStepImage\").click()\n",
    "\n",
    "driver.switch_to_default_content()\n",
    "iframe = driver.find_element_by_id(\"ifrmBookStep\")\n",
    "driver.switch_to_frame(iframe)\n",
    "\n",
    "driver.find_elements_by_css_selector(\"#PriceRow002 .taL select option\")[2].click()\n",
    "# 자바스크립트가 없어서 클릭해주어야하는듯?\n",
    "\n",
    "driver.switch_to_default_content()\n",
    "driver.find_element_by_id(\"SmallNextBtnImage\").click()\n",
    "\n",
    "driver.switch_to_default_content()\n",
    "iframe = driver.find_element_by_id(\"ifrmBookStep\")\n",
    "driver.switch_to_frame(iframe)\n",
    "\n",
    "driver.find_element_by_id(\"YYMMDD\").send_keys(\"920122\")\n",
    "\n",
    "driver.switch_to_default_content()\n",
    "driver.find_element_by_id(\"SmallNextBtnImage\").click()\n",
    "\n",
    "driver.switch_to_default_content()\n",
    "iframe = driver.find_element_by_id(\"ifrmBookStep\")\n",
    "\n",
    "driver.switch_to_default_content()\n",
    "driver.switch_to_frame(iframe)\n",
    "driver.find_element_by_css_selector(\"#Payment_Payco .chk\").click()\n",
    "\n",
    "# 무통장 입금시\n",
    "#driver.find_elements_by_css_selector(\"#BankCode option\")[2].click()\n",
    "driver.switch_to_default_content()\n",
    "driver.find_element_by_id(\"SmallNextBtnImage\").click()\n",
    "\n",
    "iframe = driver.find_element_by_id(\"ifrmBookStep\")\n",
    "driver.switch_to_frame(iframe)\n",
    "driver.find_element_by_id(\"CancelAgree\").click()\n",
    "driver.find_element_by_id(\"CancelAgree2\").click()\n",
    "driver.switch_to_default_content()\n",
    "driver.find_element_by_id(\"LargeNextBtnImage\").click()\n",
    "\n",
    "driver.switch_to_window(driver.window_handles[-1])\n",
    "\n",
    "iframe = driver.find_element_by_css_selector(\"body iframe\")\n",
    "\n",
    "driver.switch_to_frame(iframe)\n",
    "\n",
    "driver.find_element_by_css_selector(\"#id\").send_keys(\"!!!끝!!! 3초 뒤 종료\")\n",
    "time.sleep(3)\n",
    "driver.close()\n",
    "driver.switch_to_window(driver.window_handles[-1])\n",
    "driver.close()\n",
    "driver.switch_to_window(driver.window_handles[-1])\n",
    "driver.close()"
   ]
  },
  {
   "cell_type": "code",
   "execution_count": null,
   "metadata": {},
   "outputs": [],
   "source": []
  },
  {
   "cell_type": "code",
   "execution_count": null,
   "metadata": {},
   "outputs": [],
   "source": []
  },
  {
   "cell_type": "code",
   "execution_count": null,
   "metadata": {},
   "outputs": [],
   "source": []
  },
  {
   "cell_type": "code",
   "execution_count": null,
   "metadata": {},
   "outputs": [],
   "source": [
    "https://nlp.stanford.edu/IR-book/html/htmledition/stemming-and-lemmatization-1.html"
   ]
  }
 ],
 "metadata": {
  "kernelspec": {
   "display_name": "Python 3",
   "language": "python",
   "name": "python3"
  },
  "language_info": {
   "codemirror_mode": {
    "name": "ipython",
    "version": 3
   },
   "file_extension": ".py",
   "mimetype": "text/x-python",
   "name": "python",
   "nbconvert_exporter": "python",
   "pygments_lexer": "ipython3",
   "version": "3.7.3"
  }
 },
 "nbformat": 4,
 "nbformat_minor": 2
}
