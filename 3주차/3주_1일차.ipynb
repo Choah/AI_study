{
 "cells": [
  {
   "cell_type": "markdown",
   "metadata": {},
   "source": [
    "## Crawling\n",
    "\n",
    "- Khaiii: https://github.com/kakao/khaiii\n",
    "\n",
    "* WHAT - Systematically browses\n",
    "* WHY - Web indxing\n",
    "\n",
    "- Scrapy -> 알아서 웹크롤링해주도록 두와주는 봇"
   ]
  },
  {
   "cell_type": "markdown",
   "metadata": {},
   "source": [
    "크롤링 : http://example.webscraping.com/places/default/index"
   ]
  },
  {
   "cell_type": "code",
   "execution_count": 1,
   "metadata": {},
   "outputs": [],
   "source": [
    "import requests\n",
    "import time\n",
    "\n",
    "def download(method, url,\n",
    "             param=None, data=None,\n",
    "            timeout=1, maxretries=3):\n",
    "    try:\n",
    "        resp = requests.request(method, url,\n",
    "                     params=param, data=data,\n",
    "                               headers=headers)\n",
    "        resp.raise_for_status()\n",
    "    except requests.exceptions.HTTPError as e:\n",
    "        if 500<= e.response.status_code <600\\\n",
    "        and maxretries >0:\n",
    "            time.sleep(timeout)\n",
    "            resp = download(method, url, param, data, timeout, maxretries-1)\n",
    "            print(\"재시도\")\n",
    "        else:\n",
    "            print(e.response.status_code)\n",
    "            print(e.response.reason)\n",
    "    return resp\n",
    "\n",
    "headers = {\"user-agent\":\"Mozilla/5.0 (Windows NT 10.0; Win64; x64) AppleWebKit/537.36 (KHTML, like Gecko) Chrome/75.0.3770.100 Safari/537.36\"}"
   ]
  },
  {
   "cell_type": "code",
   "execution_count": 2,
   "metadata": {},
   "outputs": [],
   "source": [
    "from bs4 import BeautifulSoup"
   ]
  },
  {
   "cell_type": "code",
   "execution_count": 3,
   "metadata": {},
   "outputs": [
    {
     "data": {
      "text/plain": [
       "['#',\n",
       " '/places/default/user/register?_next=/places/default/index/1',\n",
       " '/places/default/user/login?_next=/places/default/index/1',\n",
       " '/places/default/index',\n",
       " '/places/default/search',\n",
       " '/places/default/view/Argentina-11',\n",
       " '/places/default/view/Armenia-12',\n",
       " '/places/default/view/Aruba-13',\n",
       " '/places/default/view/Australia-14',\n",
       " '/places/default/view/Austria-15',\n",
       " '/places/default/view/Azerbaijan-16',\n",
       " '/places/default/view/Bahamas-17',\n",
       " '/places/default/view/Bahrain-18',\n",
       " '/places/default/view/Bangladesh-19',\n",
       " '/places/default/view/Barbados-20',\n",
       " '/places/default/index/0',\n",
       " '/places/default/index/2']"
      ]
     },
     "execution_count": 3,
     "metadata": {},
     "output_type": "execute_result"
    }
   ],
   "source": [
    "url = \"http://example.webscraping.com/places/default/index/1\"\n",
    "html = download('get', url)\n",
    "\n",
    "dom = BeautifulSoup(html.text, \"lxml\")\n",
    "[_[\"href\"] for _ in dom.find_all(\"a\")]"
   ]
  },
  {
   "cell_type": "code",
   "execution_count": 4,
   "metadata": {},
   "outputs": [
    {
     "data": {
      "text/plain": [
       "['/places/default/user/register?_next=/places/default/index/1',\n",
       " '/places/default/user/login?_next=/places/default/index/1',\n",
       " '/places/default/index',\n",
       " '/places/default/search',\n",
       " '/places/default/view/Argentina-11',\n",
       " '/places/default/view/Armenia-12',\n",
       " '/places/default/view/Aruba-13',\n",
       " '/places/default/view/Australia-14',\n",
       " '/places/default/view/Austria-15',\n",
       " '/places/default/view/Azerbaijan-16',\n",
       " '/places/default/view/Bahamas-17',\n",
       " '/places/default/view/Bahrain-18',\n",
       " '/places/default/view/Bangladesh-19',\n",
       " '/places/default/view/Barbados-20',\n",
       " '/places/default/index/0',\n",
       " '/places/default/index/2']"
      ]
     },
     "execution_count": 4,
     "metadata": {},
     "output_type": "execute_result"
    }
   ],
   "source": [
    "[_[\"href\"] for _ in dom.find_all(\"a\") if len(_[\"href\"]) >3 ]"
   ]
  },
  {
   "cell_type": "code",
   "execution_count": 5,
   "metadata": {},
   "outputs": [
    {
     "data": {
      "text/plain": [
       "['http://example.webscraping.com/places/default/user/register?_next=/places/default/index/1',\n",
       " 'http://example.webscraping.com/places/default/user/login?_next=/places/default/index/1',\n",
       " 'http://example.webscraping.com/places/default/index',\n",
       " 'http://example.webscraping.com/places/default/search',\n",
       " 'http://example.webscraping.com/places/default/view/Argentina-11',\n",
       " 'http://example.webscraping.com/places/default/view/Armenia-12',\n",
       " 'http://example.webscraping.com/places/default/view/Aruba-13',\n",
       " 'http://example.webscraping.com/places/default/view/Australia-14',\n",
       " 'http://example.webscraping.com/places/default/view/Austria-15',\n",
       " 'http://example.webscraping.com/places/default/view/Azerbaijan-16',\n",
       " 'http://example.webscraping.com/places/default/view/Bahamas-17',\n",
       " 'http://example.webscraping.com/places/default/view/Bahrain-18',\n",
       " 'http://example.webscraping.com/places/default/view/Bangladesh-19',\n",
       " 'http://example.webscraping.com/places/default/view/Barbados-20',\n",
       " 'http://example.webscraping.com/places/default/index/0',\n",
       " 'http://example.webscraping.com/places/default/index/2']"
      ]
     },
     "execution_count": 5,
     "metadata": {},
     "output_type": "execute_result"
    }
   ],
   "source": [
    "[requests.compat.urljoin(url, _[\"href\"]) for _ in dom.find_all(\"a\")if len(_[\"href\"]) >3]"
   ]
  },
  {
   "cell_type": "code",
   "execution_count": 52,
   "metadata": {},
   "outputs": [],
   "source": [
    "def parseURL (seed):\n",
    "    \n",
    "    html = download(\"get\",seed)\n",
    "    dom = BeautifulSoup(html.text, \"lxml\")\n",
    "    \n",
    "    return [requests.compat.urljoin(url, _[\"href\"]) for _ in dom.find_all(\"a\") \n",
    "            if _.has_attr(\"href\") and len(_[\"href\"]) >3] # and not startwith.(#) # has_attr('class') 속성이 있는지 확인 "
   ]
  },
  {
   "cell_type": "code",
   "execution_count": 53,
   "metadata": {
    "scrolled": true
   },
   "outputs": [
    {
     "name": "stdout",
     "output_type": "stream",
     "text": [
      "Queue: 2, Seen: 1\n",
      "Queue: 1, Seen: 2\n",
      "Queue: 0, Seen: 3\n"
     ]
    }
   ],
   "source": [
    "queue = list()\n",
    "# queue.append(\"https://www.google.com/search?newwindow=1&source=hp&ei=598rXbvWKY3e8wW4pZVI&q=cho&oq=cho&gs_l=psy-ab.3..35i39l2j0l8.7258.7500..7843...1.0..0.190.551.0j4......0....1..gws-wiz.....10..0i67.BLk6ausECnY\")\n",
    "queue.extend([_.find_parent()[\"href\"] for _ in dom.select(\".LC20lb\")]) # ? seed 주소에 있는 걸 전부 탐색 \n",
    "seen = list() # URL-seen \n",
    "\n",
    "while queue: # true\n",
    "    baseURL = queue.pop(0) # pop(0) 앞에있는거, 나머지는 append니까 뒤에 붙을거  # -1로하면 제일 최근에 들어가는게 먼저나올 것이다. (FIFO, LIFO) -> 자료 구조\n",
    "    seen.append(baseURL)\n",
    "    time.sleep(30) # 너무 빠르게 리퀘스트 보내지 않도록 '슬립'이 포함되어야 한다. \n",
    "    linkList = parseURL(baseURL)\n",
    "    for link in linkList:  # 이미 있음에도 중복되는 애들을 제거해주어야 한다. \n",
    "        if link not in queue and not link in seen:\n",
    "            queue.append(link)\n",
    "    print(\"Queue: {0}, Seen: {1}\".format(len(queue), len(seen)))\n",
    "#     queue.extend(linkList)\n",
    "\n",
    "# 실데이터를 다루면 tag a 를 다루더라도 href가 없다고 뜰 수 있다. "
   ]
  },
  {
   "cell_type": "markdown",
   "metadata": {},
   "source": [
    "- Seed 주소 : 씨앗되는 느낌"
   ]
  },
  {
   "cell_type": "code",
   "execution_count": 29,
   "metadata": {},
   "outputs": [],
   "source": [
    "url = \"https://www.google.com/search?newwindow=1&ei=seQrXam-F4Oa8wW_2IagCA&q=%EB%B0%95%EB%B3%B4%EC%98%81\"\n",
    "\n",
    "param = { \n",
    "    \"q\" : \"박보영\"}\n",
    "html= download(\"get\", url, param)\n",
    "dom = BeautifulSoup(html.text,\"lxml\") "
   ]
  },
  {
   "cell_type": "code",
   "execution_count": 32,
   "metadata": {},
   "outputs": [
    {
     "data": {
      "text/plain": [
       "8"
      ]
     },
     "execution_count": 32,
     "metadata": {},
     "output_type": "execute_result"
    }
   ],
   "source": [
    "len(dom.select(\".LC20lb\")) # seed 주소 8개 가져온거 처음 q는 8개"
   ]
  },
  {
   "cell_type": "code",
   "execution_count": 31,
   "metadata": {},
   "outputs": [
    {
     "data": {
      "text/plain": [
       "['https://ko.wikipedia.org/wiki/%EB%B0%95%EB%B3%B4%EC%98%81',\n",
       " 'https://news.joins.com/article/22895953',\n",
       " 'https://twitter.com/hashtag/%EB%B0%95%EB%B3%B4%EC%98%81',\n",
       " 'http://www.hani.co.kr/arti/culture/jejuand/861888.html',\n",
       " 'https://www.hankyung.com/entertainment/article/201905030357H',\n",
       " 'http://www.epochtimes.co.kr/news/articleView.html?idxno=415565',\n",
       " 'http://sbsfune.sbs.co.kr/news/news_content.jsp?article_id=E10009477086',\n",
       " 'http://ygp.co.kr/project/%EC%A2%8B%EC%9D%80%EB%8D%B0%EC%9D%B4-%EB%B0%95%EB%B3%B4%EC%98%81-ar-%ED%94%84%EB%A1%9C%EB%AA%A8%EC%85%98-%EC%98%81%EC%83%81/']"
      ]
     },
     "execution_count": 31,
     "metadata": {},
     "output_type": "execute_result"
    }
   ],
   "source": [
    "[_.find_parent()[\"href\"] for _ in dom.select(\".LC20lb\")]"
   ]
  },
  {
   "cell_type": "markdown",
   "metadata": {},
   "source": [
    "네이버에서 도메인 쓰면 도메인 내의 컨텐츠들만 수집 \n",
    "focused crawling "
   ]
  },
  {
   "cell_type": "code",
   "execution_count": 36,
   "metadata": {},
   "outputs": [],
   "source": [
    "url = \"https://search.naver.com/search.naver?sm=top_hty&fbm=1&ie=utf8&query=%EB%B0%95%EB%B3%B4%EC%98%81\"\n",
    "\n",
    "param = { \"query\":\"박보영\"}\n",
    "html = download(\"get\", url, param)\n",
    "dom= BeautifulSoup(html.text, \"lxml\")"
   ]
  },
  {
   "cell_type": "code",
   "execution_count": 42,
   "metadata": {
    "scrolled": true
   },
   "outputs": [
    {
     "data": {
      "text/plain": [
       "['https://blog.naver.com/imagetech1?Redirect=Log&logNo=221530358950',\n",
       " 'https://asovc7777.blog.me/221548676988',\n",
       " 'http://hshlog.com/221559890110',\n",
       " 'https://blog.naver.com/js2y86?Redirect=Log&logNo=221530397718',\n",
       " 'https://blog.naver.com/dlqlwm14?Redirect=Log&logNo=221529807195']"
      ]
     },
     "execution_count": 42,
     "metadata": {},
     "output_type": "execute_result"
    }
   ],
   "source": [
    "[_[\"href\"] for _ in dom.select(\"a.sh_blog_title._sp_each_url._sp_each_title\")]"
   ]
  },
  {
   "cell_type": "code",
   "execution_count": 38,
   "metadata": {},
   "outputs": [
    {
     "data": {
      "text/plain": [
       "[<a class=\"sh_blog_title _sp_each_url _sp_each_title\" href=\"https://blog.naver.com/imagetech1?Redirect=Log&amp;logNo=221530358950\" onclick=\"return goOtherCR(this,'a=blg_1st*i.tit&amp;r=1&amp;i=90000003_0000000000000033943D04A6&amp;u='+urlencode(urlexpand(this.href)));\" target=\"_blank\" title=\"[어비스] 인물관계도 등장인물 몇부작 박보영 안효섭 드라마 어비스뜻 영혼소생구슬  tvN월화드라마\">[어비스] 인물관계도 등장인물 몇부작 <strong class=\"hl\">박보영</strong> 안효섭 드라마...</a>,\n",
       " <a class=\"sh_blog_title _sp_each_url _sp_each_title\" href=\"https://asovc7777.blog.me/221548676988\" onclick=\"return goOtherCR(this,'a=blg_1st*i.tit&amp;r=2&amp;i=90000003_00000000000000339554877C&amp;u='+urlencode(urlexpand(this.href)));\" target=\"_blank\" title=\"박보영 김영광 열애 !? ( 뽀누랑 영광이 정보 정리 ! )\"><strong class=\"hl\">박보영</strong> 김영광 열애 !? ( 뽀누랑 영광이 정보 정리 ! )</a>,\n",
       " <a class=\"sh_blog_title _sp_each_url _sp_each_title\" href=\"http://hshlog.com/221559890110\" onclick=\"return goOtherCR(this,'a=blg_1st*i.tit&amp;r=3&amp;i=90000003_000000000000003395FFA0BE&amp;u='+urlencode(urlexpand(this.href)));\" target=\"_blank\" title=\"어비스 박보영 패션 20대 여자 가방 폴스부띠끄 튤리 보셨어요?\">어비스 <strong class=\"hl\">박보영</strong> 패션 20대 여자 가방 폴스부띠끄 튤리 보셨어요?</a>,\n",
       " <a class=\"sh_blog_title _sp_each_url _sp_each_title\" href=\"https://blog.naver.com/js2y86?Redirect=Log&amp;logNo=221530397718\" onclick=\"return goOtherCR(this,'a=blg_1st*i.tit&amp;r=4&amp;i=90000003_0000000000000033943D9C16&amp;u='+urlencode(urlexpand(this.href)));\" target=\"_blank\" title=\"어비스 드라마 등장인물 인물관계도 : 박보영 안효섭\">어비스 드라마 등장인물 인물관계도 : <strong class=\"hl\">박보영</strong> 안효섭</a>,\n",
       " <a class=\"sh_blog_title _sp_each_url _sp_each_title\" href=\"https://blog.naver.com/dlqlwm14?Redirect=Log&amp;logNo=221529807195\" onclick=\"return goOtherCR(this,'a=blg_1st*i.tit&amp;r=5&amp;i=90000003_00000000000000339434995B&amp;u='+urlencode(urlexpand(this.href)));\" target=\"_blank\" title=\"박보영 나이 단발 사진 키 알아보기\"><strong class=\"hl\">박보영</strong> 나이 단발 사진 키 알아보기</a>]"
      ]
     },
     "execution_count": 38,
     "metadata": {},
     "output_type": "execute_result"
    }
   ],
   "source": [
    "[_ for _ in dom.select(\"a.sh_blog_title._sp_each_url._sp_each_title\")]"
   ]
  },
  {
   "cell_type": "code",
   "execution_count": 43,
   "metadata": {},
   "outputs": [
    {
     "data": {
      "text/plain": [
       "ParseResult(scheme='https', netloc='blog.naver.com', path='/dlqlwm14', params='', query='Redirect=Log&logNo=221529807195', fragment='')"
      ]
     },
     "execution_count": 43,
     "metadata": {},
     "output_type": "execute_result"
    }
   ],
   "source": [
    "requests.compat.urlparse(\"https://blog.naver.com/dlqlwm14?Redirect=Log&logNo=221529807195\")"
   ]
  },
  {
   "cell_type": "code",
   "execution_count": 45,
   "metadata": {},
   "outputs": [],
   "source": [
    "def checkBlog(url):\n",
    "    return requests.compat.urlparse(url)[1] == \"blog.naver.com\" # notloc "
   ]
  },
  {
   "cell_type": "code",
   "execution_count": 46,
   "metadata": {},
   "outputs": [
    {
     "data": {
      "text/plain": [
       "True"
      ]
     },
     "execution_count": 46,
     "metadata": {},
     "output_type": "execute_result"
    }
   ],
   "source": [
    "checkBlog(\"https://blog.naver.com/dlqlwm14?Redirect=Log&logNo=221529807195\")"
   ]
  },
  {
   "cell_type": "code",
   "execution_count": 49,
   "metadata": {},
   "outputs": [
    {
     "data": {
      "text/plain": [
       "['https://blog.naver.com/imagetech1?Redirect=Log&logNo=221530358950',\n",
       " 'https://blog.naver.com/js2y86?Redirect=Log&logNo=221530397718',\n",
       " 'https://blog.naver.com/dlqlwm14?Redirect=Log&logNo=221529807195']"
      ]
     },
     "execution_count": 49,
     "metadata": {},
     "output_type": "execute_result"
    }
   ],
   "source": [
    "[_[\"href\"] for _ in dom.select(\"a.sh_blog_title._sp_each_url._sp_each_title\") if checkBlog(_[\"href\"])]"
   ]
  },
  {
   "cell_type": "code",
   "execution_count": null,
   "metadata": {},
   "outputs": [],
   "source": [
    "# DB로 바꾸면 스키마를 어떻게 만들어야할지 생각해보기"
   ]
  },
  {
   "cell_type": "code",
   "execution_count": 65,
   "metadata": {},
   "outputs": [],
   "source": [
    "def parseURL (seed):\n",
    "    \n",
    "    html = download(\"get\",seed)\n",
    "    dom = BeautifulSoup(html.text, \"lxml\")\n",
    "    \n",
    "    if len(dom.select(\"#mainFrame\")) < 1:  \n",
    "        return[]\n",
    "    \n",
    "    seed = requests.compat.urljoin(seed, dom.select(\"#mainFrame\")[0][\"src\"]) # documnet 다시 들어간 것 \n",
    "    \n",
    "    html = download(\"get\", seed)\n",
    "    dom= BeautifulSoup(html.text , \"lxml\")\n",
    "    \n",
    "    return [requests.compat.urljoin(seed, _[\"href\"]) for _ in dom.find_all(\"a\") \n",
    "            if _.has_attr(\"href\") and len(_[\"href\"]) > 3\n",
    "           and checkBlog(requests.compat.urljoin(seed, _[\"href\"]))] # and not startwith.(#) # has_attr('class') 속성이 있는지 확인 "
   ]
  },
  {
   "cell_type": "code",
   "execution_count": 66,
   "metadata": {
    "scrolled": true
   },
   "outputs": [
    {
     "name": "stdout",
     "output_type": "stream",
     "text": [
      "['https://blog.naver.com/imagetech1?Redirect=Log&logNo=221530358950', 'https://blog.naver.com/js2y86?Redirect=Log&logNo=221530397718', 'https://blog.naver.com/dlqlwm14?Redirect=Log&logNo=221529807195']\n",
      "Queue: 17, Seen: 1\n",
      "Queue: 32, Seen: 2\n",
      "Queue: 48, Seen: 3\n",
      "Queue: 47, Seen: 4\n",
      "Queue: 46, Seen: 5\n",
      "Queue: 45, Seen: 6\n",
      "Queue: 44, Seen: 7\n",
      "Queue: 43, Seen: 8\n",
      "Queue: 42, Seen: 9\n",
      "Queue: 41, Seen: 10\n",
      "Queue: 40, Seen: 11\n",
      "Queue: 39, Seen: 12\n",
      "Queue: 38, Seen: 13\n",
      "Queue: 37, Seen: 14\n",
      "Queue: 64, Seen: 15\n",
      "Queue: 63, Seen: 16\n",
      "404\n",
      "Not Found\n",
      "Queue: 62, Seen: 17\n",
      "Queue: 61, Seen: 18\n",
      "Queue: 60, Seen: 19\n",
      "Queue: 59, Seen: 20\n",
      "Queue: 58, Seen: 21\n",
      "Queue: 57, Seen: 22\n",
      "Queue: 56, Seen: 23\n",
      "Queue: 55, Seen: 24\n",
      "Queue: 54, Seen: 25\n",
      "Queue: 53, Seen: 26\n",
      "Queue: 52, Seen: 27\n",
      "Queue: 51, Seen: 28\n",
      "Queue: 50, Seen: 29\n",
      "Queue: 49, Seen: 30\n",
      "Queue: 48, Seen: 31\n",
      "Queue: 64, Seen: 32\n",
      "Queue: 63, Seen: 33\n",
      "Queue: 62, Seen: 34\n",
      "Queue: 61, Seen: 35\n",
      "Queue: 60, Seen: 36\n",
      "Queue: 59, Seen: 37\n",
      "Queue: 58, Seen: 38\n",
      "Queue: 57, Seen: 39\n",
      "Queue: 56, Seen: 40\n",
      "Queue: 55, Seen: 41\n",
      "Queue: 54, Seen: 42\n",
      "Queue: 53, Seen: 43\n",
      "Queue: 52, Seen: 44\n",
      "Queue: 51, Seen: 45\n",
      "Queue: 50, Seen: 46\n",
      "Queue: 49, Seen: 47\n",
      "Queue: 48, Seen: 48\n",
      "Queue: 52, Seen: 49\n",
      "Queue: 51, Seen: 50\n",
      "Queue: 50, Seen: 51\n"
     ]
    },
    {
     "ename": "KeyboardInterrupt",
     "evalue": "",
     "output_type": "error",
     "traceback": [
      "\u001b[1;31m---------------------------------------------------------------------------\u001b[0m",
      "\u001b[1;31mKeyboardInterrupt\u001b[0m                         Traceback (most recent call last)",
      "\u001b[1;32m<ipython-input-66-e461186615da>\u001b[0m in \u001b[0;36m<module>\u001b[1;34m\u001b[0m\n\u001b[0;32m      9\u001b[0m     \u001b[0mbaseURL\u001b[0m \u001b[1;33m=\u001b[0m \u001b[0mqueue\u001b[0m\u001b[1;33m.\u001b[0m\u001b[0mpop\u001b[0m\u001b[1;33m(\u001b[0m\u001b[1;36m0\u001b[0m\u001b[1;33m)\u001b[0m \u001b[1;31m# pop(0) 앞에있는거, 나머지는 append니까 뒤에 붙을거  # -1로하면 제일 최근에 들어가는게 먼저나올 것이다. (FIFO, LIFO) -> 자료 구조\u001b[0m\u001b[1;33m\u001b[0m\u001b[1;33m\u001b[0m\u001b[0m\n\u001b[0;32m     10\u001b[0m     \u001b[0mseen\u001b[0m\u001b[1;33m.\u001b[0m\u001b[0mappend\u001b[0m\u001b[1;33m(\u001b[0m\u001b[0mbaseURL\u001b[0m\u001b[1;33m)\u001b[0m\u001b[1;33m\u001b[0m\u001b[1;33m\u001b[0m\u001b[0m\n\u001b[1;32m---> 11\u001b[1;33m     \u001b[0mtime\u001b[0m\u001b[1;33m.\u001b[0m\u001b[0msleep\u001b[0m\u001b[1;33m(\u001b[0m\u001b[1;36m1\u001b[0m\u001b[1;33m)\u001b[0m \u001b[1;31m# 너무 빠르게 리퀘스트 보내지 않도록 '슬립'이 포함되어야 한다.\u001b[0m\u001b[1;33m\u001b[0m\u001b[1;33m\u001b[0m\u001b[0m\n\u001b[0m\u001b[0;32m     12\u001b[0m     \u001b[0mlinkList\u001b[0m \u001b[1;33m=\u001b[0m \u001b[0mparseURL\u001b[0m\u001b[1;33m(\u001b[0m\u001b[0mbaseURL\u001b[0m\u001b[1;33m)\u001b[0m\u001b[1;33m\u001b[0m\u001b[1;33m\u001b[0m\u001b[0m\n\u001b[0;32m     13\u001b[0m     \u001b[1;32mfor\u001b[0m \u001b[0mlink\u001b[0m \u001b[1;32min\u001b[0m \u001b[0mlinkList\u001b[0m\u001b[1;33m:\u001b[0m  \u001b[1;31m# 이미 있음에도 중복되는 애들을 제거해주어야 한다.\u001b[0m\u001b[1;33m\u001b[0m\u001b[1;33m\u001b[0m\u001b[0m\n",
      "\u001b[1;31mKeyboardInterrupt\u001b[0m: "
     ]
    }
   ],
   "source": [
    "queue = list()\n",
    "# queue.append(\"https://www.google.com/search?newwindow=1&source=hp&ei=598rXbvWKY3e8wW4pZVI&q=cho&oq=cho&gs_l=psy-ab.3..35i39l2j0l8.7258.7500..7843...1.0..0.190.551.0j4......0....1..gws-wiz.....10..0i67.BLk6ausECnY\")\n",
    "# queue.extend([_.find_parent()[\"href\"] for _ in dom.select(\".LC20lb\")]) # ? seed 주소에 있는 걸 전부 탐색 \n",
    "queue.extend([_[\"href\"] for _ in dom.select(\"a.sh_blog_title._sp_each_url._sp_each_title\") if checkBlog(_[\"href\"])])\n",
    "# print(queue)\n",
    "seen = list() # URL-seen \n",
    "\n",
    "while queue: # true\n",
    "    baseURL = queue.pop(0) # pop(0) 앞에있는거, 나머지는 append니까 뒤에 붙을거  # -1로하면 제일 최근에 들어가는게 먼저나올 것이다. (FIFO, LIFO) -> 자료 구조\n",
    "    seen.append(baseURL)\n",
    "    time.sleep(1) # 너무 빠르게 리퀘스트 보내지 않도록 '슬립'이 포함되어야 한다. \n",
    "    linkList = parseURL(baseURL)\n",
    "    for link in linkList:  # 이미 있음에도 중복되는 애들을 제거해주어야 한다. \n",
    "        if link not in queue and not link in seen:\n",
    "            queue.append(link)\n",
    "    print(\"Queue: {0}, Seen: {1}\".format(len(queue), len(seen)))\n",
    "#     queue.extend(linkList)\n",
    "\n",
    "# 실데이터를 다루면 tag a 를 다루더라도 href가 없다고 뜰 수 있다. "
   ]
  },
  {
   "cell_type": "markdown",
   "metadata": {},
   "source": [
    "- Daum focused Crawling "
   ]
  },
  {
   "cell_type": "code",
   "execution_count": 68,
   "metadata": {},
   "outputs": [],
   "source": [
    "url = \"https://search.daum.net/search?w=tot&DA=YZR&t__nil_searchbox=btn&sug=&sugo=&q=%EB%B0%95%EB%B3%B4%EC%98%81\"\n",
    "\n",
    "param = { \"query\":\"박보영\"}\n",
    "html = download(\"get\", url, param)\n",
    "dom= BeautifulSoup(html.text, \"lxml\")"
   ]
  },
  {
   "cell_type": "code",
   "execution_count": 95,
   "metadata": {
    "scrolled": false
   },
   "outputs": [
    {
     "data": {
      "text/plain": [
       "['http://adam24eve.tistory.com/858',\n",
       " 'http://cscs0717.tistory.com/27',\n",
       " 'http://listup.tistory.com/248',\n",
       " 'http://34344541.tistory.com/43']"
      ]
     },
     "execution_count": 95,
     "metadata": {},
     "output_type": "execute_result"
    }
   ],
   "source": [
    "[_[\"href\"] for _ in dom.select(\"#blogColl .f_link_b\")]"
   ]
  },
  {
   "cell_type": "code",
   "execution_count": 99,
   "metadata": {},
   "outputs": [
    {
     "data": {
      "text/plain": [
       "ParseResult(scheme='https', netloc='adam24eve.tistory.com', path='/858', params='', query='', fragment='')"
      ]
     },
     "execution_count": 99,
     "metadata": {},
     "output_type": "execute_result"
    }
   ],
   "source": [
    "requests.compat.urlparse(\"https://adam24eve.tistory.com/858\")"
   ]
  },
  {
   "cell_type": "code",
   "execution_count": 109,
   "metadata": {},
   "outputs": [],
   "source": [
    "def checkBlog(url):\n",
    "    return requests.compat.urlparse(url)[1].endswith(\"tistory.com\") # notloc "
   ]
  },
  {
   "cell_type": "code",
   "execution_count": 112,
   "metadata": {},
   "outputs": [
    {
     "data": {
      "text/plain": [
       "['http://adam24eve.tistory.com/858',\n",
       " 'http://cscs0717.tistory.com/27',\n",
       " 'http://listup.tistory.com/248',\n",
       " 'http://34344541.tistory.com/43']"
      ]
     },
     "execution_count": 112,
     "metadata": {},
     "output_type": "execute_result"
    }
   ],
   "source": [
    "[_[\"href\"] for _ in dom.select(\"#blogColl .f_link_b\") if checkBlog(_[\"href\"])]"
   ]
  },
  {
   "cell_type": "code",
   "execution_count": 113,
   "metadata": {},
   "outputs": [],
   "source": [
    "def parseURL (seed):\n",
    "\n",
    "    html = download(\"get\", seed)\n",
    "    dom= BeautifulSoup(html.text , \"lxml\")\n",
    "    \n",
    "    return [requests.compat.urljoin(seed, _[\"href\"]) for _ in dom.find_all(\"a\") \n",
    "            if _.has_attr(\"href\") and len(_[\"href\"]) > 3\n",
    "           and checkBlog(requests.compat.urljoin(seed, _[\"href\"]))] # and not startwith.(#) # has_attr('class') 속성이 있는지 확인 "
   ]
  },
  {
   "cell_type": "code",
   "execution_count": 114,
   "metadata": {
    "scrolled": true
   },
   "outputs": [
    {
     "name": "stdout",
     "output_type": "stream",
     "text": [
      "Queue: 44, Seen: 1\n",
      "Queue: 60, Seen: 2\n",
      "Queue: 83, Seen: 3\n",
      "Queue: 90, Seen: 4\n",
      "Queue: 96, Seen: 5\n",
      "Queue: 102, Seen: 6\n",
      "Queue: 108, Seen: 7\n",
      "Queue: 111, Seen: 8\n",
      "Queue: 118, Seen: 9\n",
      "Queue: 121, Seen: 10\n",
      "Queue: 120, Seen: 11\n",
      "Queue: 119, Seen: 12\n",
      "Queue: 118, Seen: 13\n",
      "Queue: 117, Seen: 14\n",
      "Queue: 116, Seen: 15\n",
      "Queue: 115, Seen: 16\n",
      "Queue: 116, Seen: 17\n",
      "Queue: 115, Seen: 18\n",
      "Queue: 114, Seen: 19\n",
      "Queue: 113, Seen: 20\n"
     ]
    },
    {
     "ename": "KeyboardInterrupt",
     "evalue": "",
     "output_type": "error",
     "traceback": [
      "\u001b[1;31m---------------------------------------------------------------------------\u001b[0m",
      "\u001b[1;31mKeyboardInterrupt\u001b[0m                         Traceback (most recent call last)",
      "\u001b[1;32m<ipython-input-114-079621ca13c9>\u001b[0m in \u001b[0;36m<module>\u001b[1;34m\u001b[0m\n\u001b[0;32m      6\u001b[0m     \u001b[0mbaseURL\u001b[0m \u001b[1;33m=\u001b[0m \u001b[0mqueue\u001b[0m\u001b[1;33m.\u001b[0m\u001b[0mpop\u001b[0m\u001b[1;33m(\u001b[0m\u001b[1;36m0\u001b[0m\u001b[1;33m)\u001b[0m \u001b[1;31m# pop(0) 앞에있는거, 나머지는 append니까 뒤에 붙을거  # -1로하면 제일 최근에 들어가는게 먼저나올 것이다. (FIFO, LIFO) -> 자료 구조\u001b[0m\u001b[1;33m\u001b[0m\u001b[1;33m\u001b[0m\u001b[0m\n\u001b[0;32m      7\u001b[0m     \u001b[0mseen\u001b[0m\u001b[1;33m.\u001b[0m\u001b[0mappend\u001b[0m\u001b[1;33m(\u001b[0m\u001b[0mbaseURL\u001b[0m\u001b[1;33m)\u001b[0m\u001b[1;33m\u001b[0m\u001b[1;33m\u001b[0m\u001b[0m\n\u001b[1;32m----> 8\u001b[1;33m     \u001b[0mtime\u001b[0m\u001b[1;33m.\u001b[0m\u001b[0msleep\u001b[0m\u001b[1;33m(\u001b[0m\u001b[1;36m1\u001b[0m\u001b[1;33m)\u001b[0m \u001b[1;31m# 너무 빠르게 리퀘스트 보내지 않도록 '슬립'이 포함되어야 한다.\u001b[0m\u001b[1;33m\u001b[0m\u001b[1;33m\u001b[0m\u001b[0m\n\u001b[0m\u001b[0;32m      9\u001b[0m     \u001b[0mlinkList\u001b[0m \u001b[1;33m=\u001b[0m \u001b[0mparseURL\u001b[0m\u001b[1;33m(\u001b[0m\u001b[0mbaseURL\u001b[0m\u001b[1;33m)\u001b[0m\u001b[1;33m\u001b[0m\u001b[1;33m\u001b[0m\u001b[0m\n\u001b[0;32m     10\u001b[0m     \u001b[1;32mfor\u001b[0m \u001b[0mlink\u001b[0m \u001b[1;32min\u001b[0m \u001b[0mlinkList\u001b[0m\u001b[1;33m:\u001b[0m  \u001b[1;31m# 이미 있음에도 중복되는 애들을 제거해주어야 한다.\u001b[0m\u001b[1;33m\u001b[0m\u001b[1;33m\u001b[0m\u001b[0m\n",
      "\u001b[1;31mKeyboardInterrupt\u001b[0m: "
     ]
    }
   ],
   "source": [
    "queue = list()\n",
    "queue.extend([_[\"href\"] for _ in dom.select(\"#blogColl .f_link_b\") if checkBlog(_[\"href\"])])\n",
    "seen = list() # URL-seen \n",
    "\n",
    "while queue: # true\n",
    "    baseURL = queue.pop(0) # pop(0) 앞에있는거, 나머지는 append니까 뒤에 붙을거  # -1로하면 제일 최근에 들어가는게 먼저나올 것이다. (FIFO, LIFO) -> 자료 구조\n",
    "    seen.append(baseURL)\n",
    "    time.sleep(1) # 너무 빠르게 리퀘스트 보내지 않도록 '슬립'이 포함되어야 한다. \n",
    "    linkList = parseURL(baseURL)\n",
    "    for link in linkList:  # 이미 있음에도 중복되는 애들을 제거해주어야 한다. \n",
    "        if link not in queue and not link in seen:\n",
    "            queue.append(link)\n",
    "    print(\"Queue: {0}, Seen: {1}\".format(len(queue), len(seen)))\n",
    "#     queue.extend(linkList)\n",
    "\n",
    "# 실데이터를 다루면 tag a 를 다루더라도 href가 없다고 뜰 수 있다. "
   ]
  },
  {
   "cell_type": "markdown",
   "metadata": {},
   "source": [
    "- link도 depth를 줘서 더이상 가지가 뻗어나가지 않도록 짤라주는 코롤링 (예상 가능한 범위 안에서만 뽑기) "
   ]
  },
  {
   "cell_type": "code",
   "execution_count": 121,
   "metadata": {},
   "outputs": [],
   "source": [
    "def parseURL (seed):\n",
    "\n",
    "    html = download(\"get\", seed[0])\n",
    "    dom= BeautifulSoup(html.text , \"lxml\")\n",
    "    \n",
    "    return [(requests.compat.urljoin(seed[0], _[\"href\"]), seed[1]+1) for _ in dom.find_all(\"a\") # seed[1]+1 가지치기 한 것 \n",
    "            if seed[1] < 2 and _.has_attr(\"href\") and len(_[\"href\"]) > 3\n",
    "           and checkBlog(requests.compat.urljoin(seed[0], _[\"href\"]))] # has_attr('class') 속성이 있는지 확인 "
   ]
  },
  {
   "cell_type": "code",
   "execution_count": 122,
   "metadata": {
    "scrolled": true
   },
   "outputs": [
    {
     "name": "stdout",
     "output_type": "stream",
     "text": [
      "Queue: 45, Seen: 1\n",
      "Queue: 61, Seen: 2\n",
      "Queue: 85, Seen: 3\n",
      "Queue: 92, Seen: 4\n",
      "Queue: 91, Seen: 5\n",
      "Queue: 90, Seen: 6\n",
      "Queue: 89, Seen: 7\n",
      "Queue: 88, Seen: 8\n",
      "Queue: 87, Seen: 9\n",
      "Queue: 86, Seen: 10\n",
      "Queue: 85, Seen: 11\n",
      "Queue: 84, Seen: 12\n",
      "Queue: 83, Seen: 13\n",
      "Queue: 82, Seen: 14\n",
      "Queue: 81, Seen: 15\n",
      "Queue: 80, Seen: 16\n",
      "Queue: 79, Seen: 17\n",
      "Queue: 78, Seen: 18\n",
      "Queue: 77, Seen: 19\n",
      "Queue: 76, Seen: 20\n",
      "Queue: 75, Seen: 21\n",
      "Queue: 74, Seen: 22\n",
      "Queue: 73, Seen: 23\n",
      "Queue: 72, Seen: 24\n",
      "Queue: 71, Seen: 25\n",
      "Queue: 70, Seen: 26\n",
      "Queue: 69, Seen: 27\n",
      "Queue: 68, Seen: 28\n",
      "Queue: 67, Seen: 29\n",
      "Queue: 66, Seen: 30\n",
      "Queue: 65, Seen: 31\n",
      "Queue: 64, Seen: 32\n",
      "Queue: 63, Seen: 33\n",
      "Queue: 62, Seen: 34\n",
      "Queue: 61, Seen: 35\n",
      "Queue: 60, Seen: 36\n",
      "Queue: 59, Seen: 37\n",
      "Queue: 58, Seen: 38\n",
      "Queue: 57, Seen: 39\n",
      "Queue: 56, Seen: 40\n",
      "Queue: 55, Seen: 41\n",
      "Queue: 54, Seen: 42\n",
      "Queue: 53, Seen: 43\n",
      "Queue: 52, Seen: 44\n",
      "Queue: 51, Seen: 45\n",
      "Queue: 50, Seen: 46\n",
      "Queue: 49, Seen: 47\n",
      "Queue: 48, Seen: 48\n",
      "Queue: 47, Seen: 49\n",
      "Queue: 46, Seen: 50\n",
      "Queue: 45, Seen: 51\n",
      "Queue: 44, Seen: 52\n",
      "Queue: 43, Seen: 53\n",
      "Queue: 42, Seen: 54\n",
      "Queue: 41, Seen: 55\n",
      "Queue: 40, Seen: 56\n",
      "Queue: 39, Seen: 57\n",
      "Queue: 38, Seen: 58\n",
      "Queue: 37, Seen: 59\n",
      "Queue: 36, Seen: 60\n",
      "Queue: 35, Seen: 61\n",
      "Queue: 34, Seen: 62\n",
      "Queue: 33, Seen: 63\n",
      "Queue: 32, Seen: 64\n",
      "Queue: 31, Seen: 65\n",
      "Queue: 30, Seen: 66\n",
      "Queue: 29, Seen: 67\n",
      "Queue: 28, Seen: 68\n",
      "Queue: 27, Seen: 69\n",
      "Queue: 26, Seen: 70\n",
      "Queue: 25, Seen: 71\n",
      "Queue: 24, Seen: 72\n",
      "Queue: 23, Seen: 73\n",
      "Queue: 22, Seen: 74\n",
      "Queue: 21, Seen: 75\n",
      "Queue: 20, Seen: 76\n",
      "Queue: 19, Seen: 77\n",
      "Queue: 18, Seen: 78\n",
      "Queue: 17, Seen: 79\n",
      "Queue: 16, Seen: 80\n",
      "Queue: 15, Seen: 81\n",
      "Queue: 14, Seen: 82\n",
      "Queue: 13, Seen: 83\n",
      "Queue: 12, Seen: 84\n",
      "Queue: 11, Seen: 85\n",
      "Queue: 10, Seen: 86\n",
      "Queue: 9, Seen: 87\n",
      "Queue: 8, Seen: 88\n",
      "Queue: 7, Seen: 89\n",
      "Queue: 6, Seen: 90\n",
      "Queue: 5, Seen: 91\n",
      "Queue: 4, Seen: 92\n",
      "Queue: 3, Seen: 93\n",
      "Queue: 2, Seen: 94\n",
      "Queue: 1, Seen: 95\n",
      "Queue: 0, Seen: 96\n"
     ]
    }
   ],
   "source": [
    "queue = list()\n",
    "queue.extend([(_[\"href\"], 1) for _ in dom.select(\"#blogColl a.f_link_b\") if checkBlog(_[\"href\"])])  # tuple로 준다. \n",
    "seen = list() # URL-seen \n",
    "\n",
    "while queue: # true\n",
    "    baseURL = queue.pop(0) # pop(0) 앞에있는거, 나머지는 append니까 뒤에 붙을거  # -1로하면 제일 최근에 들어가는게 먼저나올 것이다. (FIFO, LIFO) -> 자료 구조\n",
    "    seen.append(baseURL)\n",
    "    time.sleep(1) # 너무 빠르게 리퀘스트 보내지 않도록 '슬립'이 포함되어야 한다. \n",
    "    linkList = parseURL(baseURL)\n",
    "    for link in linkList:  # 이미 있음에도 중복되는 애들을 제거해주어야 한다. \n",
    "        if link not in queue and not link in seen:\n",
    "            queue.append(link)\n",
    "    print(\"Queue: {0}, Seen: {1}\".format(len(queue), len(seen)))\n",
    "#     queue.extend(linkList)\n",
    "\n",
    "# 실데이터를 다루면 tag a 를 다루더라도 href가 없다고 뜰 수 있다. "
   ]
  },
  {
   "cell_type": "code",
   "execution_count": 124,
   "metadata": {},
   "outputs": [
    {
     "data": {
      "text/plain": [
       "<re.Match object; span=(0, 28), match='http://adam24eve.tistory.com'>"
      ]
     },
     "execution_count": 124,
     "metadata": {},
     "output_type": "execute_result"
    }
   ],
   "source": [
    "import re\n",
    "re.search(\".+?\\.tistory.com\", \"http://adam24eve.tistory.com/858\")"
   ]
  },
  {
   "cell_type": "markdown",
   "metadata": {},
   "source": [
    "- DB로 바꿀 것 \n",
    "\n",
    "- 스키마를 몇개로 해야할까? \n",
    "- entity가 몇개 나오면 좋을까? \n",
    "\n",
    "링크만 뽑았지 본문내용을 저장을 안했다. \n",
    "\n",
    "- 웹수집기 (crawler) - 특정 도메인에 있는 애들만 가져올 줄 알아야한다. \n",
    "\n",
    "* DB 만들기\n",
    "- 문자열에다가 PK 값 쓰면 안된다. \n",
    "- pk 값을 따로 만들어야한다. (ID) \n",
    "- url: distinct value"
   ]
  },
  {
   "cell_type": "code",
   "execution_count": null,
   "metadata": {},
   "outputs": [],
   "source": [
    "# 테이블 하나에 있는 변수들 \n",
    "table1 = id, path, param, seen, date \n",
    "table2 = id, netloc, date  # focused data - 특정 도메인만 써주면 된다.\n",
    "# id = pk \n",
    "url = netloc + path + param \n",
    "# DBMS -> 원자성: entity 중복 최소화하면서 쪼갤 수 있을 만큼 쪼개야한다. "
   ]
  },
  {
   "cell_type": "code",
   "execution_count": 1,
   "metadata": {},
   "outputs": [],
   "source": [
    "import sqlite3"
   ]
  },
  {
   "cell_type": "code",
   "execution_count": 133,
   "metadata": {},
   "outputs": [],
   "source": [
    "con = sqlite3.connect(\"bot.db\")\n",
    "cur = con.cursor() # cursor? "
   ]
  },
  {
   "cell_type": "code",
   "execution_count": 188,
   "metadata": {},
   "outputs": [],
   "source": [
    "# param 은 null일 수도 있따.\n",
    "cur.executescript(\"\"\"\n",
    "    DROP TABLE IF EXISTS table1; \n",
    "    CREATE TABLE table1(\n",
    "        id INTEGER PRIMARY KEY AUTOINCREMENT NOT NULL,\n",
    "        table2_id INTEGER NOT NULL,\n",
    "        path TEXT NOT NULL,\n",
    "        param TEXT,\n",
    "        seen BOOLEAN DEFAULT FALSE NOT NULL,\n",
    "        date TIMESTAMP DEFAULT CURRENT_TIMESTAMP NOT NULL\n",
    "    );\n",
    "    \n",
    "    DROP TABLE IF EXISTS table2;\n",
    "    CREATE TABLE table2(\n",
    "        id INTEGER PRIMARY KEY AUTOINCREMENT NOT NULL,\n",
    "        netloc TEXT NOT NULL,\n",
    "        date TIMESTAMP DEFAULT CURRENT_TIMESTAMP NOT NULL\n",
    "    );\n",
    "\"\"\")\n",
    "con.commit()"
   ]
  },
  {
   "cell_type": "code",
   "execution_count": 167,
   "metadata": {},
   "outputs": [
    {
     "data": {
      "text/plain": [
       "ParseResult(scheme='https', netloc='www.google.com', path='/search', params='', query='q=%EB%B0%95%EB%B3%B4%EC%98%81', fragment='')"
      ]
     },
     "execution_count": 167,
     "metadata": {},
     "output_type": "execute_result"
    }
   ],
   "source": [
    "requests.compat.urlparse(html.request.url)"
   ]
  },
  {
   "cell_type": "code",
   "execution_count": 170,
   "metadata": {},
   "outputs": [],
   "source": [
    "# Seed URLs - DB Insert \n",
    "url = \"https://www.google.com/search\"\n",
    "html = download(\"get\", url, param = {\"q\": \"박보영\"})\n",
    "dom= BeautifulSoup(html.text, \"lxml\")\n",
    "\n",
    "for href in [_.find_parent()[\"href\"] for _ in dom.select(\".LC20lb\")]: \n",
    "    _urlparse = requests.compat.urlparse(href)\n",
    "    netloc = \"://\".join(_urlparse[:2]) # 1: 스키마 2: noetloc\n",
    "    cur.execute(\"SELECT id FROM table2 WHERE netloc=? LIMIT 0,1\", [netloc]) \n",
    "    netlocID = cur.fetchone()\n",
    "    if not netlocID: \n",
    "        cur.execute(\"INSERT INTO table2(netloc) VALUES(?)\", [netloc])\n",
    "        con.commit() # 추가하면 반영해야한다. \n",
    "        cur.execute(\"SELECT id FROM table2 WHERE netloc=? LIMIT 0,1\", [netloc]) \n",
    "        netlocID = cur.fetchone()\n",
    "        \n",
    "    cur.execute(\"INSERT INTO table1(table2_id, path, param) VALUES(?,?,?)\", [netlocID[0], _urlparse[2], _urlparse[4]]) # type 맞춰줘야한다. \n",
    "    con.commit()\n",
    "#     print(cur.lastrowid, netlocID)\n",
    "    \n",
    "# DB Select Limit 0,1 "
   ]
  },
  {
   "cell_type": "code",
   "execution_count": 175,
   "metadata": {},
   "outputs": [
    {
     "name": "stdout",
     "output_type": "stream",
     "text": [
      "(1, 'https://namu.wiki', '/w/%EB%B0%95%EB%B3%B4%EC%98%81', '')\n",
      "https://namu.wiki/w/%EB%B0%95%EB%B3%B4%EC%98%81?\n"
     ]
    }
   ],
   "source": [
    "while True:\n",
    "    cur.execute(\"\"\"\n",
    "                SELECT table1.id, table2.netloc, \n",
    "                       table1.path, table1.param \n",
    "                FROM table1 \n",
    "                JOIN table2 \n",
    "                    ON table1.table2_id=table2.id \n",
    "                WHERE table1.seen=FALSE\n",
    "                ORDER BY table1.date ASC \n",
    "                LIMIT 0, 1;\n",
    "    \"\"\")\n",
    "    seed = cur.fetchone()\n",
    "    if not seed:\n",
    "        break;\n",
    "    print(seed)\n",
    "    print(\"{0}{1}?{2}\".format(seed[1], seed[2], seed[3]))\n",
    "    break"
   ]
  },
  {
   "cell_type": "code",
   "execution_count": 187,
   "metadata": {},
   "outputs": [],
   "source": [
    "def parseURL(seed):\n",
    "    \n",
    "    html = download(\"get\", seed)\n",
    "    dom= BeautifulSoup(html.text, \"lxml\")\n",
    "    \n",
    "    return [requests.compat.urljoin(seed, _[\"href\"]) for _ in dom.find_all(\"a\") # seed[1]+1 가지치기 한 것 \n",
    "            if _.has_attr(\"href\") and len(_[\"href\"]) > 3]"
   ]
  },
  {
   "cell_type": "code",
   "execution_count": 186,
   "metadata": {
    "scrolled": true
   },
   "outputs": [
    {
     "ename": "KeyboardInterrupt",
     "evalue": "",
     "output_type": "error",
     "traceback": [
      "\u001b[1;31m---------------------------------------------------------------------------\u001b[0m",
      "\u001b[1;31mKeyboardInterrupt\u001b[0m                         Traceback (most recent call last)",
      "\u001b[1;32m<ipython-input-186-957ce3ef0d7f>\u001b[0m in \u001b[0;36m<module>\u001b[1;34m\u001b[0m\n\u001b[0;32m     34\u001b[0m             \u001b[0mnetlocID\u001b[0m \u001b[1;33m=\u001b[0m \u001b[0mcur\u001b[0m\u001b[1;33m.\u001b[0m\u001b[0mfetchone\u001b[0m\u001b[1;33m(\u001b[0m\u001b[1;33m)\u001b[0m\u001b[1;33m\u001b[0m\u001b[1;33m\u001b[0m\u001b[0m\n\u001b[0;32m     35\u001b[0m         \u001b[0mcur\u001b[0m\u001b[1;33m.\u001b[0m\u001b[0mexecute\u001b[0m\u001b[1;33m(\u001b[0m\u001b[1;34m\"INSERT INTO table1(table2_id, path, param) VALUES(?,?,?)\"\u001b[0m\u001b[1;33m,\u001b[0m \u001b[1;33m[\u001b[0m\u001b[0mnetlocID\u001b[0m\u001b[1;33m[\u001b[0m\u001b[1;36m0\u001b[0m\u001b[1;33m]\u001b[0m\u001b[1;33m,\u001b[0m \u001b[0m_urlparse\u001b[0m\u001b[1;33m[\u001b[0m\u001b[1;36m2\u001b[0m\u001b[1;33m]\u001b[0m\u001b[1;33m,\u001b[0m \u001b[0m_urlparse\u001b[0m\u001b[1;33m[\u001b[0m\u001b[1;36m4\u001b[0m\u001b[1;33m]\u001b[0m\u001b[1;33m]\u001b[0m\u001b[1;33m)\u001b[0m\u001b[1;33m\u001b[0m\u001b[1;33m\u001b[0m\u001b[0m\n\u001b[1;32m---> 36\u001b[1;33m         \u001b[0mcon\u001b[0m\u001b[1;33m.\u001b[0m\u001b[0mcommit\u001b[0m\u001b[1;33m(\u001b[0m\u001b[1;33m)\u001b[0m\u001b[1;33m\u001b[0m\u001b[1;33m\u001b[0m\u001b[0m\n\u001b[0m",
      "\u001b[1;31mKeyboardInterrupt\u001b[0m: "
     ]
    }
   ],
   "source": [
    "i = 0\n",
    "while True:\n",
    "    cur.execute(\"\"\"\n",
    "                SELECT table1.id, table2.netloc, \n",
    "                       table1.path, table1.param \n",
    "                FROM table1 \n",
    "                JOIN table2 \n",
    "                    ON table1.table2_id=table2.id \n",
    "                WHERE table1.seen=FALSE\n",
    "                ORDER BY table1.date ASC \n",
    "                LIMIT 0, 1;\n",
    "    \"\"\")\n",
    "    seed = cur.fetchone()\n",
    "    if not seed or i >1000 :\n",
    "        break;\n",
    "    i += 1\n",
    "    cur.execute(\"\"\"\n",
    "        UPDATE table1\n",
    "        SET seen=TRUE\n",
    "        WHERE id=?\n",
    "    \"\"\", [seed[0]])\n",
    "    con.commit()\n",
    "        \n",
    "    baseURL = \"{0}{1}?{2}\".format(seed[1], seed[2], seed[3])\n",
    "    for href in parseURL(baseURL):\n",
    "        _urlparse = requests.compat.urlparse(href)\n",
    "        netloc = \"://\".join(_urlparse[:2]) # 1: 스키마 2: noetloc\n",
    "        cur.execute(\"SELECT id FROM table2 WHERE netloc=? LIMIT 0,1\", [netloc]) \n",
    "        netlocID = cur.fetchone()\n",
    "        if not netlocID: \n",
    "            cur.execute(\"INSERT INTO table2(netloc) VALUES(?)\", [netloc])\n",
    "            con.commit() # 추가하면 반영해야한다. \n",
    "            cur.execute(\"SELECT id FROM table2 WHERE netloc=? LIMIT 0,1\", [netloc]) \n",
    "            netlocID = cur.fetchone()\n",
    "        cur.execute(\"INSERT INTO table1(table2_id, path, param) VALUES(?,?,?)\", [netlocID[0], _urlparse[2], _urlparse[4]])\n",
    "        con.commit() # q 생성 "
   ]
  },
  {
   "cell_type": "code",
   "execution_count": 207,
   "metadata": {},
   "outputs": [],
   "source": [
    "# param 은 null일 수도 있따.\n",
    "cur.executescript(\"\"\"\n",
    "    DROP TABLE IF EXISTS table1; \n",
    "    CREATE TABLE table1(\n",
    "        id INTEGER PRIMARY KEY AUTOINCREMENT NOT NULL,\n",
    "        table2_id INTEGER NOT NULL,\n",
    "        path TEXT NOT NULL,\n",
    "        param TEXT,\n",
    "        depth INTEGER NOT NULL,\n",
    "        inbound INTEGER NOT NULL, \n",
    "        seen BOOLEAN DEFAULT FALSE NOT NULL,\n",
    "        date TIMESTAMP DEFAULT CURRENT_TIMESTAMP NOT NULL\n",
    "    );\n",
    "    \n",
    "    DROP TABLE IF EXISTS table2;\n",
    "    CREATE TABLE table2(\n",
    "        id INTEGER PRIMARY KEY AUTOINCREMENT NOT NULL,\n",
    "        netloc TEXT NOT NULL,\n",
    "        date TIMESTAMP DEFAULT CURRENT_TIMESTAMP NOT NULL\n",
    "    );\n",
    "\"\"\")\n",
    "con.commit()"
   ]
  },
  {
   "cell_type": "code",
   "execution_count": 208,
   "metadata": {},
   "outputs": [
    {
     "name": "stdout",
     "output_type": "stream",
     "text": [
      "1 (1,)\n",
      "2 (2,)\n",
      "3 (2,)\n",
      "4 (3,)\n",
      "5 (4,)\n",
      "6 (5,)\n",
      "7 (6,)\n",
      "8 (7,)\n",
      "9 (8,)\n"
     ]
    }
   ],
   "source": [
    "#seed urls -> dbinsert\n",
    "\n",
    "url = \"https://www.google.com/search\"\n",
    "html = download(\"get\", url, param={\"q\":\"박보영\"})\n",
    "dom = BeautifulSoup(html.text, \"lxml\")\n",
    "\n",
    "for href in [_.find_parent()[\"href\"]\n",
    "             for _ in dom.select(\".LC20lb\")]:\n",
    "    \n",
    "    _urlparse = requests.compat.urlparse(href)\n",
    "    netloc = \"://\".join(_urlparse[:2])\n",
    "    cur.execute(\"SELECT id FROM table2 WHERE netloc=? LIMIT 0,1\", [netloc]) #netloc을 시퀀스로 만들어서 넘겨줘야함\n",
    "    \n",
    "    netlocID = cur.fetchone()\n",
    "    if not netlocID:\n",
    "        cur.execute(\"INSERT INTO table2(netloc) VALUES(?)\", [netloc])\n",
    "        \n",
    "        con.commit()\n",
    "        \n",
    "        cur.execute(\"SELECT id FROM table2 WHERE netloc=? LIMIT 0,1\", [netloc]) #netloc을 시퀀스로 만들어서 넘겨줘야함\n",
    "        \n",
    "        netlocID = cur.fetchone()\n",
    "        # table2에 집어넣기\n",
    "        \n",
    "    cur.execute(\"INSERT INTO table1(table2_id, path, param, depth, inbound) VALUES(?,?,?,?,?)\", [netlocID[0], _urlparse[2], _urlparse[4], 1, 0])\n",
    "    con.commit()\n",
    "    print(cur.lastrowid, netlocID)\n",
    "\n",
    "#db select limit 0,1"
   ]
  },
  {
   "cell_type": "code",
   "execution_count": null,
   "metadata": {},
   "outputs": [],
   "source": [
    "while True:\n",
    "    cur.execute(\"\"\"\n",
    "                SELECT table1.id, table2.netloc, \n",
    "                       table1.path, table1.param, table1.depth, table2.id\n",
    "                FROM table1 \n",
    "                JOIN table2 \n",
    "                    ON table1.table2_id=table2.id \n",
    "                WHERE table1.seen=FALSE and table1.depth < 3\n",
    "                ORDER BY table1.date ASC \n",
    "                LIMIT 0, 1;\n",
    "    \"\"\")\n",
    "    seed = cur.fetchone()\n",
    "    if not seed :\n",
    "        break;\n",
    "\n",
    "    cur.execute(\"\"\"\n",
    "        UPDATE table1\n",
    "        SET seen=TRUE\n",
    "        WHERE id=?\n",
    "    \"\"\", [seed[0]])\n",
    "    con.commit()\n",
    "        \n",
    "    baseURL = \"{0}{1}?{2}\".format(seed[1], seed[2], seed[3])\n",
    "    for href in parseURL(baseURL):\n",
    "        _urlparse = requests.compat.urlparse(href)\n",
    "        netloc = \"://\".join(_urlparse[:2]) # 1: 스키마 2: noetloc\n",
    "        cur.execute(\"SELECT id FROM table2 WHERE netloc=? LIMIT 0,1\", [netloc]) \n",
    "        netlocID = cur.fetchone()\n",
    "        if not netlocID: \n",
    "            cur.execute(\"INSERT INTO table2(netloc) VALUES(?)\", [netloc])\n",
    "            con.commit() # 추가하면 반영해야한다. \n",
    "            cur.execute(\"SELECT id FROM table2 WHERE netloc=? LIMIT 0,1\", [netloc]) \n",
    "            netlocID = cur.fetchone()\n",
    "        cur.execute(\"INSERT INTO table1(table2_id, path, param, depth, inbound) \\\n",
    "        VALUES(?,?,?,?,?)\", [netlocID[0], _urlparse[2], _urlparse[4], seed[4]+1, seed[5]]) # depth 3 까지만 가져오기 \n",
    "        con.commit() # q 생성  "
   ]
  },
  {
   "cell_type": "code",
   "execution_count": 210,
   "metadata": {
    "scrolled": true
   },
   "outputs": [
    {
     "ename": "SyntaxError",
     "evalue": "invalid syntax (<ipython-input-210-0cb8bd3eade5>, line 1)",
     "output_type": "error",
     "traceback": [
      "\u001b[1;36m  File \u001b[1;32m\"<ipython-input-210-0cb8bd3eade5>\"\u001b[1;36m, line \u001b[1;32m1\u001b[0m\n\u001b[1;33m    select inbound, count(inbound)\u001b[0m\n\u001b[1;37m                 ^\u001b[0m\n\u001b[1;31mSyntaxError\u001b[0m\u001b[1;31m:\u001b[0m invalid syntax\n"
     ]
    }
   ],
   "source": [
    "select inbound, count(inbound)\n",
    "from table 1 where table2_id=2 group by inbound; "
   ]
  },
  {
   "cell_type": "code",
   "execution_count": 224,
   "metadata": {},
   "outputs": [
    {
     "data": {
      "text/plain": [
       "[(0, 2), (1, 2), (2, 1375)]"
      ]
     },
     "execution_count": 224,
     "metadata": {},
     "output_type": "execute_result"
    }
   ],
   "source": [
    "cur.execute(\"\"\"\n",
    "    select inbound, count(inbound)\n",
    "    from table1 \n",
    "    where table2_id=2 group by inbound;\n",
    "\"\"\")\n",
    "cur.fetchall() # id= 10 1번링크 587번 inbound 된것, 자기 링크에서 1310 inbound 된 것  "
   ]
  },
  {
   "cell_type": "code",
   "execution_count": 218,
   "metadata": {
    "scrolled": true
   },
   "outputs": [
    {
     "data": {
      "text/plain": [
       "[(1, 11332)]"
      ]
     },
     "execution_count": 218,
     "metadata": {},
     "output_type": "execute_result"
    }
   ],
   "source": [
    "cur.execute(\"\"\"\n",
    "    select inbound, count(inbound)\n",
    "    from table1 \n",
    "    where inbound=1;\n",
    "\"\"\")\n",
    "cur.fetchall() # 1의 링크가 사용된 개수 11332번 "
   ]
  },
  {
   "cell_type": "code",
   "execution_count": null,
   "metadata": {},
   "outputs": [],
   "source": [
    "# 컨텐츠를 넣어줄 것이다. "
   ]
  },
  {
   "cell_type": "code",
   "execution_count": null,
   "metadata": {},
   "outputs": [],
   "source": [
    "cur.close()\n",
    "con.close()"
   ]
  },
  {
   "cell_type": "code",
   "execution_count": null,
   "metadata": {},
   "outputs": [],
   "source": []
  },
  {
   "cell_type": "code",
   "execution_count": null,
   "metadata": {},
   "outputs": [],
   "source": []
  },
  {
   "cell_type": "code",
   "execution_count": null,
   "metadata": {},
   "outputs": [],
   "source": []
  },
  {
   "cell_type": "code",
   "execution_count": null,
   "metadata": {},
   "outputs": [],
   "source": []
  }
 ],
 "metadata": {
  "kernelspec": {
   "display_name": "Python 3",
   "language": "python",
   "name": "python3"
  },
  "language_info": {
   "codemirror_mode": {
    "name": "ipython",
    "version": 3
   },
   "file_extension": ".py",
   "mimetype": "text/x-python",
   "name": "python",
   "nbconvert_exporter": "python",
   "pygments_lexer": "ipython3",
   "version": "3.7.3"
  }
 },
 "nbformat": 4,
 "nbformat_minor": 2
}
