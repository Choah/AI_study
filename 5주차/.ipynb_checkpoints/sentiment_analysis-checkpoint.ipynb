{
 "cells": [
  {
   "cell_type": "code",
   "execution_count": 0,
   "metadata": {
    "colab": {},
    "colab_type": "code",
    "id": "iEK9W8iiQg0K"
   },
   "outputs": [],
   "source": [
    "from google.colab import drive\n",
    "drive.mount('/drive/')\n",
    "!apt-get update\n",
    "!apt-get install g++ openjdk-8-jdk \n",
    "!pip3 install konlpy"
   ]
  },
  {
   "cell_type": "code",
   "execution_count": 0,
   "metadata": {
    "colab": {},
    "colab_type": "code",
    "id": "gdLF_oyMTego"
   },
   "outputs": [],
   "source": [
    "from konlpy.tag import Okt\n",
    "from torch import nn\n",
    "from torch.nn import functional as F\n",
    "from torch.utils.data import TensorDataset\n",
    "from torch.utils.data import DataLoader\n",
    "import numpy as np\n",
    "import pickle\n",
    "import torch\n",
    "\n",
    "okt = Okt()"
   ]
  },
  {
   "cell_type": "code",
   "execution_count": 3,
   "metadata": {
    "colab": {
     "base_uri": "https://localhost:8080/",
     "height": 34
    },
    "colab_type": "code",
    "executionInfo": {
     "elapsed": 6103,
     "status": "ok",
     "timestamp": 1564486544627,
     "user": {
      "displayName": "강경필",
      "photoUrl": "https://lh6.googleusercontent.com/-2bm2RfTugBo/AAAAAAAAAAI/AAAAAAAAQv8/S4o6oPYii8M/s64/photo.jpg",
      "userId": "18151530170162711430"
     },
     "user_tz": -540
    },
    "id": "XMbsNc8tQjoI",
    "outputId": "b1c68b99-762e-4dd6-9299-819a989c3ca6"
   },
   "outputs": [
    {
     "name": "stdout",
     "output_type": "stream",
     "text": [
      "data_deep.pkl  data_ml.pkl\n"
     ]
    }
   ],
   "source": [
    "!ls \"/drive/My Drive/lectures/deep_learning/2강/data\""
   ]
  },
  {
   "cell_type": "code",
   "execution_count": 0,
   "metadata": {
    "colab": {},
    "colab_type": "code",
    "id": "xrC9c3GgSGKi"
   },
   "outputs": [],
   "source": [
    "with open('/drive/My Drive/lectures/deep_learning/2강/data/data_deep.pkl', 'rb') as f:\n",
    "    index2voca = pickle.load(f)\n",
    "    voca2index = pickle.load(f)\n",
    "    train_X = pickle.load(f)\n",
    "    train_y = pickle.load(f)\n",
    "    test_X = pickle.load(f)\n",
    "    test_y = pickle.load(f)"
   ]
  },
  {
   "cell_type": "code",
   "execution_count": 0,
   "metadata": {
    "colab": {},
    "colab_type": "code",
    "id": "moUI856pSkQ-"
   },
   "outputs": [],
   "source": [
    "train_X, train_y = torch.LongTensor(train_X), torch.FloatTensor(train_y)\n",
    "test_X, test_y = torch.LongTensor(test_X), torch.FloatTensor(test_y)\n",
    "\n",
    "train_y, test_y = train_y.view(-1, 1), test_y.view(-1, 1)\n",
    "\n",
    "train_dataset = TensorDataset(train_X, train_y)\n",
    "test_dataset = TensorDataset(test_X, test_y)\n",
    "\n",
    "train_loader = DataLoader(train_dataset, batch_size=128)\n",
    "test_loader = DataLoader(test_dataset, batch_size=128)"
   ]
  },
  {
   "cell_type": "code",
   "execution_count": 0,
   "metadata": {
    "colab": {},
    "colab_type": "code",
    "id": "zERz4SCsSrqq"
   },
   "outputs": [],
   "source": [
    "class CNNRegressor(nn.Module):\n",
    "    def __init__(self, voca_num, embedding_dim, filter_lengths, filter_num=20):\n",
    "        super(CNNRegressor, self).__init__()\n",
    "        \n",
    "        self.voca_num = voca_num\n",
    "        self.embedding_dim = embedding_dim\n",
    "        self.filter_lengths = filter_lengths\n",
    "        self.filter_num = filter_num\n",
    "        \n",
    "        self.embedding = nn.Embedding(self.voca_num, self.embedding_dim, padding_idx=0)\n",
    "        self.filters = nn.ModuleList([nn.Conv1d(1, self.filter_num, (l, self.embedding_dim)) \\\n",
    "                                      for l in self.filter_lengths])\n",
    "        \n",
    "        self.linear1 = nn.Linear(self.filter_num*len(self.filter_lengths), 10)\n",
    "        self.linear2 = nn.Linear(10, 1)\n",
    "        \n",
    "    def forward(self, words):\n",
    "        embs = self.embedding(words)\n",
    "        embs = embs.unsqueeze(1)\n",
    "        features = [F.relu(conv(embs)) for conv in self.filters]\n",
    "        features = [f.squeeze(3) for f in features]\n",
    "        features = [F.max_pool1d(f, f.size(2)) for f in features]\n",
    "        output = torch.cat(features, dim=1)\n",
    "        output = output.squeeze(2)\n",
    "        output = torch.relu(self.linear1(output))\n",
    "        output = self.linear2(output)\n",
    "        return output\n",
    "    \n",
    "\n",
    "class RNNRegressor(nn.Module):\n",
    "    def __init__(self, voca_num, embedding_dim, hidden_dim, num_layer=2, bidirectional=True):\n",
    "        super(RNNRegressor, self).__init__()\n",
    "        self.voca_num = voca_num\n",
    "        self.embedding_dim = embedding_dim\n",
    "        self.hidden_dim = hidden_dim\n",
    "        self.num_layer = num_layer\n",
    "        self.bidirectional = bidirectional\n",
    "        \n",
    "        self.embedding = nn.Embedding(voca_num, embedding_dim, padding_idx=0)\n",
    "        self.gru = nn.GRU(embedding_dim, hidden_dim, num_layers=self.num_layer,\n",
    "                          bidirectional=self.bidirectional, batch_first=True)\n",
    "        self.linear1 = nn.Linear(hidden_dim*(self.bidirectional + 1), 10)\n",
    "        self.linear2 = nn.Linear(10, 1)\n",
    "        \n",
    "    def forward(self, words):\n",
    "        embs = self.embedding(words)\n",
    "        output, h_n = self.gru(embs)\n",
    "        output = output[:, -1, :]\n",
    "        output = torch.relu(self.linear1(output))\n",
    "        output = self.linear2(output)\n",
    "        return output"
   ]
  },
  {
   "cell_type": "code",
   "execution_count": 0,
   "metadata": {
    "colab": {},
    "colab_type": "code",
    "id": "IXPNXECbX0oH"
   },
   "outputs": [],
   "source": [
    "device = torch.device('cuda')\n",
    "\n",
    "# reg = CNNRegressor(len(index2voca), 128, [2, 3, 4])\n",
    "reg = RNNRegressor(len(index2voca), 256, 256, num_layer=2, bidirectional=True)\n",
    "reg = reg.to(device)\n",
    "\n",
    "criterion = nn.MSELoss()\n",
    "optim = torch.optim.Adam(reg.parameters(), lr=1e-3, weight_decay=1e-6)"
   ]
  },
  {
   "cell_type": "code",
   "execution_count": 0,
   "metadata": {
    "colab": {},
    "colab_type": "code",
    "id": "OtnrjUz9YSC6"
   },
   "outputs": [],
   "source": [
    "epochs = 10\n",
    "\n",
    "reg.train()\n",
    "for e in range(epochs):\n",
    "    for i, (batch_X, batch_y) in enumerate(train_loader):\n",
    "        batch_X, batch_y = batch_X.to(device), batch_y.to(device)\n",
    "        \n",
    "        predict = reg(batch_X)\n",
    "        \n",
    "        loss = criterion(predict, batch_y)\n",
    "        optim.zero_grad()\n",
    "        loss.backward()\n",
    "        nn.utils.clip_grad_norm_(reg.parameters(), 0.5)\n",
    "        optim.step()\n",
    "        \n",
    "        if i % 100 == 0:\n",
    "            loss = loss.item()\n",
    "            print(f\"{e}epochs, {i}iters - {loss}\")"
   ]
  },
  {
   "cell_type": "code",
   "execution_count": 166,
   "metadata": {
    "colab": {
     "base_uri": "https://localhost:8080/",
     "height": 34
    },
    "colab_type": "code",
    "executionInfo": {
     "elapsed": 22279,
     "status": "ok",
     "timestamp": 1564494153838,
     "user": {
      "displayName": "강경필",
      "photoUrl": "https://lh6.googleusercontent.com/-2bm2RfTugBo/AAAAAAAAAAI/AAAAAAAAQv8/S4o6oPYii8M/s64/photo.jpg",
      "userId": "18151530170162711430"
     },
     "user_tz": -540
    },
    "id": "3BXZ9CFZe34w",
    "outputId": "e435b52f-f56a-409f-a35b-d474c209d65b"
   },
   "outputs": [
    {
     "name": "stdout",
     "output_type": "stream",
     "text": [
      "0.2779954965793842\n"
     ]
    }
   ],
   "source": [
    "total_loss = []\n",
    "test_num = 0\n",
    "l1_loss = nn.L1Loss()\n",
    "\n",
    "with torch.no_grad():\n",
    "    reg.eval()\n",
    "    for i, (batch_X, batch_y) in enumerate(test_loader):\n",
    "        batch_X, batch_y = batch_X.to(device), batch_y.to(device)\n",
    "\n",
    "        predict = reg(batch_X)\n",
    "        predict = torch.clamp(predict, min=0, max=1)\n",
    "        \n",
    "        loss = l1_loss(predict, batch_y)\n",
    "        loss = loss.item()\n",
    "        batch_size = batch_X.size(0)\n",
    "        test_num += batch_size\n",
    "        total_loss.append(loss*batch_size)\n",
    "        \n",
    "total_loss = np.sum(total_loss)/test_num\n",
    "print(total_loss)"
   ]
  },
  {
   "cell_type": "code",
   "execution_count": 171,
   "metadata": {
    "colab": {
     "base_uri": "https://localhost:8080/",
     "height": 34
    },
    "colab_type": "code",
    "executionInfo": {
     "elapsed": 1067,
     "status": "ok",
     "timestamp": 1564494185594,
     "user": {
      "displayName": "강경필",
      "photoUrl": "https://lh6.googleusercontent.com/-2bm2RfTugBo/AAAAAAAAAAI/AAAAAAAAQv8/S4o6oPYii8M/s64/photo.jpg",
      "userId": "18151530170162711430"
     },
     "user_tz": -540
    },
    "id": "EkijhQENu6U4",
    "outputId": "dafb932e-9915-43a8-d784-e7b69d9b3c22"
   },
   "outputs": [
    {
     "name": "stdout",
     "output_type": "stream",
     "text": [
      "0.6258990168571472\n"
     ]
    }
   ],
   "source": [
    "text = \"이 영화 정말 감동적이다\"\n",
    "parsed = okt.morphs(text)\n",
    "\n",
    "vector = np.zeros((1, train_X.shape[1]))\n",
    "for i, w in enumerate(parsed):\n",
    "    if w in voca2index:\n",
    "        vector[0, i] += voca2index[w]\n",
    "    \n",
    "vector = torch.from_numpy(vector).long().to(device)\n",
    "predict = torch.sigmoid(reg(vector)).item()\n",
    "print(predict)"
   ]
  },
  {
   "cell_type": "code",
   "execution_count": 0,
   "metadata": {
    "colab": {},
    "colab_type": "code",
    "id": "IbhaWz0W3gyz"
   },
   "outputs": [],
   "source": []
  }
 ],
 "metadata": {
  "accelerator": "GPU",
  "colab": {
   "collapsed_sections": [],
   "name": "sentiment_analysis.ipynb",
   "provenance": [],
   "version": "0.3.2"
  },
  "kernelspec": {
   "display_name": "Python 3",
   "language": "python",
   "name": "python3"
  },
  "language_info": {
   "codemirror_mode": {
    "name": "ipython",
    "version": 3
   },
   "file_extension": ".py",
   "mimetype": "text/x-python",
   "name": "python",
   "nbconvert_exporter": "python",
   "pygments_lexer": "ipython3",
   "version": "3.7.3"
  }
 },
 "nbformat": 4,
 "nbformat_minor": 1
}
